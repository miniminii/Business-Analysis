{
  "cells": [
    {
      "cell_type": "markdown",
      "id": "e3d784b0",
      "metadata": {
        "id": "e3d784b0"
      },
      "source": [
        "# 전처리한 데이터를 불러오자"
      ]
    },
    {
      "cell_type": "code",
      "execution_count": null,
      "id": "38f42700",
      "metadata": {
        "id": "38f42700"
      },
      "outputs": [],
      "source": [
        "import pandas as pd\n",
        "from glob import glob\n",
        "import os\n",
        "import numpy as np\n",
        "from tqdm import tqdm, tqdm_notebook\n",
        "import plotly.offline as pyo\n",
        "import matplotlib.pyplot as plt\n",
        "import plotly.express as px\n",
        "import plotly.graph_objects as go\n",
        "\n",
        "from datetime import datetime\n",
        "from datetime import date\n",
        "import time\n",
        "from tqdm import tqdm"
      ]
    },
    {
      "cell_type": "code",
      "execution_count": null,
      "id": "4dc59232",
      "metadata": {
        "id": "4dc59232"
      },
      "outputs": [],
      "source": [
        "import plotly.io as pio\n",
        "pio.renderers.default = \"plotly_mimetype+notebook\""
      ]
    },
    {
      "cell_type": "code",
      "execution_count": null,
      "id": "a134b745",
      "metadata": {
        "id": "a134b745"
      },
      "outputs": [],
      "source": [
        "pd.options.display.float_format = '{:.4f}'.format"
      ]
    },
    {
      "cell_type": "code",
      "execution_count": null,
      "id": "0978b16a",
      "metadata": {
        "id": "0978b16a"
      },
      "outputs": [],
      "source": [
        "import warnings\n",
        "warnings.filterwarnings(action='ignore')"
      ]
    },
    {
      "cell_type": "code",
      "execution_count": null,
      "id": "bf9368a7",
      "metadata": {
        "id": "bf9368a7"
      },
      "outputs": [],
      "source": [
        "%matplotlib inline\n",
        "from matplotlib import font_manager, rc\n",
        "import matplotlib.pyplot as plt\n",
        "import platform\n",
        "\n",
        "path = \"c:/Windows/Fonts/malgun.ttf\"\n",
        "if platform.system() == 'Darwin':\n",
        "    rc('font', family='AppleGothic')\n",
        "rc('axes', unicode_minus=False)  "
      ]
    },
    {
      "cell_type": "code",
      "execution_count": null,
      "id": "ce0d05d9",
      "metadata": {
        "id": "ce0d05d9"
      },
      "outputs": [],
      "source": [
        "#pd.set_option('display.max_columns',None) # 전체 열 출력하기\n",
        "#pd.set_option('display.max_rows',None) # 전체 행 출력하기"
      ]
    },
    {
      "cell_type": "code",
      "execution_count": null,
      "id": "7423bfc3",
      "metadata": {
        "id": "7423bfc3"
      },
      "outputs": [],
      "source": [
        "# go to file\n",
        "os.chdir('../DATA_raw2')"
      ]
    },
    {
      "cell_type": "code",
      "execution_count": null,
      "id": "03812eae",
      "metadata": {
        "id": "03812eae"
      },
      "outputs": [],
      "source": [
        "user = pd.read_pickle(\"../TBWA/user_fin2.pkl\")\n",
        "order = pd.read_pickle(\"../TBWA/order_fin.pkl\")"
      ]
    },
    {
      "cell_type": "code",
      "execution_count": null,
      "id": "0183ec8c",
      "metadata": {
        "id": "0183ec8c",
        "outputId": "a088b964-1f1e-41f0-c4f5-4d7783179efb"
      },
      "outputs": [
        {
          "name": "stdout",
          "output_type": "stream",
          "text": [
            "1907989\n",
            "4928381\n"
          ]
        }
      ],
      "source": [
        "print(len(user))\n",
        "print(len(order))"
      ]
    },
    {
      "cell_type": "markdown",
      "id": "83d36a42",
      "metadata": {
        "id": "83d36a42"
      },
      "source": [
        "# 1. 프로모션 진행 현황\n",
        "- 총 진행 개수, 연도별, 월 별 각 진행 개수, 평균 행사 기간 파악"
      ]
    },
    {
      "cell_type": "markdown",
      "id": "97e6bac3",
      "metadata": {
        "id": "97e6bac3"
      },
      "source": [
        "## 1.1 기간별 진행 현황"
      ]
    },
    {
      "cell_type": "code",
      "execution_count": null,
      "id": "bd94e7c4",
      "metadata": {
        "id": "bd94e7c4"
      },
      "outputs": [],
      "source": [
        "promo = pd.read_excel('file/ABC 프로모션 list2.xlsx')"
      ]
    },
    {
      "cell_type": "code",
      "execution_count": null,
      "id": "85e2a5db",
      "metadata": {
        "id": "85e2a5db",
        "outputId": "9e4478a2-2f33-4431-9839-745cf4c302b5"
      },
      "outputs": [
        {
          "data": {
            "text/html": [
              "<div>\n",
              "<style scoped>\n",
              "    .dataframe tbody tr th:only-of-type {\n",
              "        vertical-align: middle;\n",
              "    }\n",
              "\n",
              "    .dataframe tbody tr th {\n",
              "        vertical-align: top;\n",
              "    }\n",
              "\n",
              "    .dataframe thead th {\n",
              "        text-align: right;\n",
              "    }\n",
              "</style>\n",
              "<table border=\"1\" class=\"dataframe\">\n",
              "  <thead>\n",
              "    <tr style=\"text-align: right;\">\n",
              "      <th></th>\n",
              "      <th>년도</th>\n",
              "      <th>채널</th>\n",
              "      <th>행사명</th>\n",
              "      <th>행사 내용</th>\n",
              "      <th>행사 구분</th>\n",
              "      <th>시작일</th>\n",
              "      <th>종료일</th>\n",
              "    </tr>\n",
              "  </thead>\n",
              "  <tbody>\n",
              "    <tr>\n",
              "      <th>0</th>\n",
              "      <td>2022</td>\n",
              "      <td>온라인</td>\n",
              "      <td>새해 행사</td>\n",
              "      <td>호랑이띠 회원 22%할인쿠폰, 멤버십 10%할인쿠폰 증정</td>\n",
              "      <td>쿠폰</td>\n",
              "      <td>2022-01-01</td>\n",
              "      <td>2022-01-13</td>\n",
              "    </tr>\n",
              "    <tr>\n",
              "      <th>1</th>\n",
              "      <td>2022</td>\n",
              "      <td>온라인</td>\n",
              "      <td>신년 행사</td>\n",
              "      <td>신상품 10%할인쿠폰 증정 (온/오프라인 동시)</td>\n",
              "      <td>쿠폰</td>\n",
              "      <td>2022-01-14</td>\n",
              "      <td>2022-01-24</td>\n",
              "    </tr>\n",
              "    <tr>\n",
              "      <th>2</th>\n",
              "      <td>2022</td>\n",
              "      <td>온라인</td>\n",
              "      <td>설 행사</td>\n",
              "      <td>최대 2만원 할인쿠폰 등 4종 쿠폰 증정</td>\n",
              "      <td>쿠폰</td>\n",
              "      <td>2022-01-25</td>\n",
              "      <td>2022-02-06</td>\n",
              "    </tr>\n",
              "    <tr>\n",
              "      <th>3</th>\n",
              "      <td>2022</td>\n",
              "      <td>온라인</td>\n",
              "      <td>발렌타인</td>\n",
              "      <td>1족 구매 시 10%, 2족 이상 구매 시 20%할인  (온/오프라인 동시)</td>\n",
              "      <td>단순 할인, 조건 할인</td>\n",
              "      <td>2022-02-08</td>\n",
              "      <td>2022-02-14</td>\n",
              "    </tr>\n",
              "    <tr>\n",
              "      <th>4</th>\n",
              "      <td>2022</td>\n",
              "      <td>온라인</td>\n",
              "      <td>아트닷컴 2주년</td>\n",
              "      <td>20%할인, 추가 10%할인쿠폰, 당일/새벽배송 무료 쿠폰 증정.\\n나이키, 아디다...</td>\n",
              "      <td>쿠폰, 단순 할인</td>\n",
              "      <td>2022-02-18</td>\n",
              "      <td>2022-02-27</td>\n",
              "    </tr>\n",
              "    <tr>\n",
              "      <th>...</th>\n",
              "      <td>...</td>\n",
              "      <td>...</td>\n",
              "      <td>...</td>\n",
              "      <td>...</td>\n",
              "      <td>...</td>\n",
              "      <td>...</td>\n",
              "      <td>...</td>\n",
              "    </tr>\n",
              "    <tr>\n",
              "      <th>142</th>\n",
              "      <td>2019</td>\n",
              "      <td>오프라인</td>\n",
              "      <td>할로윈데이</td>\n",
              "      <td>키즈 상품 1족 구매 시 10% / 2족 이상 구매 시 20% 할인</td>\n",
              "      <td>단순 할인, 조건 할인</td>\n",
              "      <td>2019-10-25</td>\n",
              "      <td>2019-10-31</td>\n",
              "    </tr>\n",
              "    <tr>\n",
              "      <th>143</th>\n",
              "      <td>2019</td>\n",
              "      <td>오프라인</td>\n",
              "      <td>빼빼로데이</td>\n",
              "      <td>1족 구매 시 10% / 2족 이상 구매 시 20% 할인</td>\n",
              "      <td>단순 할인, 조건 할인</td>\n",
              "      <td>2019-11-07</td>\n",
              "      <td>2019-11-11</td>\n",
              "    </tr>\n",
              "    <tr>\n",
              "      <th>144</th>\n",
              "      <td>2019</td>\n",
              "      <td>오프라인</td>\n",
              "      <td>블랙 ABC데이</td>\n",
              "      <td>결산세일 최대 70%할인  (온/오프라인 동시)</td>\n",
              "      <td>단순 할인</td>\n",
              "      <td>2019-11-21</td>\n",
              "      <td>2019-12-15</td>\n",
              "    </tr>\n",
              "    <tr>\n",
              "      <th>145</th>\n",
              "      <td>2019</td>\n",
              "      <td>오프라인</td>\n",
              "      <td>크리스마스</td>\n",
              "      <td>신상품 20%할인,</td>\n",
              "      <td>단순 할인</td>\n",
              "      <td>2019-12-16</td>\n",
              "      <td>2019-12-25</td>\n",
              "    </tr>\n",
              "    <tr>\n",
              "      <th>146</th>\n",
              "      <td>2019</td>\n",
              "      <td>오프라인</td>\n",
              "      <td>홀리데이</td>\n",
              "      <td>겨울상품 최대 50%할인 (온/오프라인 동시)</td>\n",
              "      <td>단순 할인</td>\n",
              "      <td>2019-12-16</td>\n",
              "      <td>2019-12-31</td>\n",
              "    </tr>\n",
              "  </tbody>\n",
              "</table>\n",
              "<p>147 rows × 7 columns</p>\n",
              "</div>"
            ],
            "text/plain": [
              "       년도    채널       행사명                                              행사 내용  \\\n",
              "0    2022   온라인     새해 행사                    호랑이띠 회원 22%할인쿠폰, 멤버십 10%할인쿠폰 증정   \n",
              "1    2022   온라인     신년 행사                         신상품 10%할인쿠폰 증정 (온/오프라인 동시)   \n",
              "2    2022   온라인      설 행사                             최대 2만원 할인쿠폰 등 4종 쿠폰 증정   \n",
              "3    2022   온라인      발렌타인         1족 구매 시 10%, 2족 이상 구매 시 20%할인  (온/오프라인 동시)   \n",
              "4    2022   온라인  아트닷컴 2주년  20%할인, 추가 10%할인쿠폰, 당일/새벽배송 무료 쿠폰 증정.\\n나이키, 아디다...   \n",
              "..    ...   ...       ...                                                ...   \n",
              "142  2019  오프라인     할로윈데이              키즈 상품 1족 구매 시 10% / 2족 이상 구매 시 20% 할인   \n",
              "143  2019  오프라인     빼빼로데이                    1족 구매 시 10% / 2족 이상 구매 시 20% 할인   \n",
              "144  2019  오프라인  블랙 ABC데이                         결산세일 최대 70%할인  (온/오프라인 동시)   \n",
              "145  2019  오프라인     크리스마스                                         신상품 20%할인,   \n",
              "146  2019  오프라인      홀리데이                          겨울상품 최대 50%할인 (온/오프라인 동시)   \n",
              "\n",
              "            행사 구분        시작일        종료일  \n",
              "0              쿠폰 2022-01-01 2022-01-13  \n",
              "1              쿠폰 2022-01-14 2022-01-24  \n",
              "2              쿠폰 2022-01-25 2022-02-06  \n",
              "3    단순 할인, 조건 할인 2022-02-08 2022-02-14  \n",
              "4       쿠폰, 단순 할인 2022-02-18 2022-02-27  \n",
              "..            ...        ...        ...  \n",
              "142  단순 할인, 조건 할인 2019-10-25 2019-10-31  \n",
              "143  단순 할인, 조건 할인 2019-11-07 2019-11-11  \n",
              "144         단순 할인 2019-11-21 2019-12-15  \n",
              "145         단순 할인 2019-12-16 2019-12-25  \n",
              "146         단순 할인 2019-12-16 2019-12-31  \n",
              "\n",
              "[147 rows x 7 columns]"
            ]
          },
          "execution_count": 33,
          "metadata": {},
          "output_type": "execute_result"
        }
      ],
      "source": [
        "promo"
      ]
    },
    {
      "cell_type": "code",
      "execution_count": null,
      "id": "c2b8757f",
      "metadata": {
        "id": "c2b8757f"
      },
      "outputs": [],
      "source": [
        "promo['c_시작연도'] = promo['시작일'].dt.year\n",
        "promo['c_시작월'] = promo['시작일'].dt.month\n",
        "promo['c_시작연도'] = promo['c_시작연도'].astype(str)\n",
        "promo['c_시작월'] = promo['c_시작월'].astype(str)"
      ]
    },
    {
      "cell_type": "code",
      "execution_count": null,
      "id": "e7fa47cb",
      "metadata": {
        "id": "e7fa47cb"
      },
      "outputs": [],
      "source": [
        "data = promo.groupby(['c_시작연도','채널'], as_index=False).agg({'행사명' : 'count'})\n",
        "fig = px.bar(data, x='c_시작연도', y='행사명', color = '채널', color_discrete_map={\n",
        "        '오프라인': '#CC3333','온라인': '#FFCC33'}, title = '연도별 행사개수', text_auto = '.2s' )\n",
        "fig.update_layout(xaxis_title='행사 연도',\n",
        "                  yaxis_title='개수')\n",
        "fig.show()"
      ]
    },
    {
      "cell_type": "code",
      "execution_count": null,
      "id": "e2b64ca0",
      "metadata": {
        "id": "e2b64ca0",
        "outputId": "02c58cb2-c2be-439b-ff43-64be61090347"
      },
      "outputs": [
        {
          "data": {
            "text/html": [
              "<div>\n",
              "<style scoped>\n",
              "    .dataframe tbody tr th:only-of-type {\n",
              "        vertical-align: middle;\n",
              "    }\n",
              "\n",
              "    .dataframe tbody tr th {\n",
              "        vertical-align: top;\n",
              "    }\n",
              "\n",
              "    .dataframe thead th {\n",
              "        text-align: right;\n",
              "    }\n",
              "</style>\n",
              "<table border=\"1\" class=\"dataframe\">\n",
              "  <thead>\n",
              "    <tr style=\"text-align: right;\">\n",
              "      <th></th>\n",
              "      <th>c_시작연도</th>\n",
              "      <th>채널</th>\n",
              "      <th>행사명</th>\n",
              "    </tr>\n",
              "  </thead>\n",
              "  <tbody>\n",
              "    <tr>\n",
              "      <th>0</th>\n",
              "      <td>2019</td>\n",
              "      <td>오프라인</td>\n",
              "      <td>17</td>\n",
              "    </tr>\n",
              "    <tr>\n",
              "      <th>1</th>\n",
              "      <td>2019</td>\n",
              "      <td>온라인</td>\n",
              "      <td>24</td>\n",
              "    </tr>\n",
              "    <tr>\n",
              "      <th>2</th>\n",
              "      <td>2020</td>\n",
              "      <td>오프라인</td>\n",
              "      <td>14</td>\n",
              "    </tr>\n",
              "    <tr>\n",
              "      <th>3</th>\n",
              "      <td>2020</td>\n",
              "      <td>온라인</td>\n",
              "      <td>21</td>\n",
              "    </tr>\n",
              "    <tr>\n",
              "      <th>4</th>\n",
              "      <td>2021</td>\n",
              "      <td>오프라인</td>\n",
              "      <td>14</td>\n",
              "    </tr>\n",
              "    <tr>\n",
              "      <th>5</th>\n",
              "      <td>2021</td>\n",
              "      <td>온라인</td>\n",
              "      <td>22</td>\n",
              "    </tr>\n",
              "    <tr>\n",
              "      <th>6</th>\n",
              "      <td>2022</td>\n",
              "      <td>오프라인</td>\n",
              "      <td>15</td>\n",
              "    </tr>\n",
              "    <tr>\n",
              "      <th>7</th>\n",
              "      <td>2022</td>\n",
              "      <td>온라인</td>\n",
              "      <td>20</td>\n",
              "    </tr>\n",
              "  </tbody>\n",
              "</table>\n",
              "</div>"
            ],
            "text/plain": [
              "  c_시작연도    채널  행사명\n",
              "0   2019  오프라인   17\n",
              "1   2019   온라인   24\n",
              "2   2020  오프라인   14\n",
              "3   2020   온라인   21\n",
              "4   2021  오프라인   14\n",
              "5   2021   온라인   22\n",
              "6   2022  오프라인   15\n",
              "7   2022   온라인   20"
            ]
          },
          "execution_count": 36,
          "metadata": {},
          "output_type": "execute_result"
        }
      ],
      "source": [
        "data = promo.groupby(['c_시작연도','채널'], as_index=False).agg({'행사명' : 'count'})\n",
        "data"
      ]
    },
    {
      "cell_type": "markdown",
      "id": "57d8f2a9",
      "metadata": {
        "id": "57d8f2a9"
      },
      "source": [
        "- 프로모션 개수는 2020-2022년 동안에는 비슷하게 유지\n",
        "- 오프라인 구매가 강세인 것에 비해 프로모션은 온라인에서 더 많음 (이유가 왤까)"
      ]
    },
    {
      "cell_type": "code",
      "execution_count": null,
      "id": "fa11b541",
      "metadata": {
        "id": "fa11b541"
      },
      "outputs": [],
      "source": [
        "promo2 = promo.copy()\n",
        "list = []\n",
        "for i in range(len(promo2)) :\n",
        "    if promo2['시작일'][i].month != promo2['종료일'][i].month :\n",
        "        list.append([promo2['시작일'][i].month, promo2['종료일'][i].month])\n",
        "    else : \n",
        "        list.append(promo2['시작일'][i].month)\n",
        "promo2['demo'] = list\n",
        "promo2 = promo2.join(promo2['demo'].apply(lambda x: pd.Series(x)).stack().reset_index(1,name='c_진행월').drop('level_1', axis=1))\n",
        "promo2 = promo2.drop(labels = 'demo', axis=1)\n",
        "promo2['c_진행월'] = promo2['c_진행월'].astype(int)"
      ]
    },
    {
      "cell_type": "code",
      "execution_count": null,
      "id": "3235e59e",
      "metadata": {
        "id": "3235e59e"
      },
      "outputs": [],
      "source": [
        "data = promo2.groupby(['c_진행월','채널'], as_index=False).agg({'행사명' : 'count'})\n",
        "fig = px.bar(data, x='c_진행월', y='행사명', color = '채널', title = '월별 행사건수 (연도 통합)', color_discrete_map={\n",
        "        '오프라인': '#CC3333','온라인': '#FFCC33'},text_auto = '.2s' )\n",
        "fig.update_layout(xaxis_title='행사 월',\n",
        "                  yaxis_title='개수')"
      ]
    },
    {
      "cell_type": "code",
      "execution_count": null,
      "id": "48c19800",
      "metadata": {
        "id": "48c19800",
        "outputId": "cb8cd6e1-68ea-49c0-d4b6-ff172b2d5289"
      },
      "outputs": [
        {
          "data": {
            "text/html": [
              "<div>\n",
              "<style scoped>\n",
              "    .dataframe tbody tr th:only-of-type {\n",
              "        vertical-align: middle;\n",
              "    }\n",
              "\n",
              "    .dataframe tbody tr th {\n",
              "        vertical-align: top;\n",
              "    }\n",
              "\n",
              "    .dataframe thead th {\n",
              "        text-align: right;\n",
              "    }\n",
              "</style>\n",
              "<table border=\"1\" class=\"dataframe\">\n",
              "  <thead>\n",
              "    <tr style=\"text-align: right;\">\n",
              "      <th></th>\n",
              "      <th>c_진행월</th>\n",
              "      <th>채널</th>\n",
              "      <th>행사명</th>\n",
              "    </tr>\n",
              "  </thead>\n",
              "  <tbody>\n",
              "    <tr>\n",
              "      <th>0</th>\n",
              "      <td>1</td>\n",
              "      <td>오프라인</td>\n",
              "      <td>7</td>\n",
              "    </tr>\n",
              "    <tr>\n",
              "      <th>1</th>\n",
              "      <td>1</td>\n",
              "      <td>온라인</td>\n",
              "      <td>10</td>\n",
              "    </tr>\n",
              "    <tr>\n",
              "      <th>2</th>\n",
              "      <td>2</td>\n",
              "      <td>오프라인</td>\n",
              "      <td>11</td>\n",
              "    </tr>\n",
              "    <tr>\n",
              "      <th>3</th>\n",
              "      <td>2</td>\n",
              "      <td>온라인</td>\n",
              "      <td>14</td>\n",
              "    </tr>\n",
              "    <tr>\n",
              "      <th>4</th>\n",
              "      <td>3</td>\n",
              "      <td>오프라인</td>\n",
              "      <td>5</td>\n",
              "    </tr>\n",
              "    <tr>\n",
              "      <th>5</th>\n",
              "      <td>3</td>\n",
              "      <td>온라인</td>\n",
              "      <td>10</td>\n",
              "    </tr>\n",
              "    <tr>\n",
              "      <th>6</th>\n",
              "      <td>4</td>\n",
              "      <td>오프라인</td>\n",
              "      <td>4</td>\n",
              "    </tr>\n",
              "    <tr>\n",
              "      <th>7</th>\n",
              "      <td>4</td>\n",
              "      <td>온라인</td>\n",
              "      <td>10</td>\n",
              "    </tr>\n",
              "    <tr>\n",
              "      <th>8</th>\n",
              "      <td>5</td>\n",
              "      <td>오프라인</td>\n",
              "      <td>6</td>\n",
              "    </tr>\n",
              "    <tr>\n",
              "      <th>9</th>\n",
              "      <td>5</td>\n",
              "      <td>온라인</td>\n",
              "      <td>7</td>\n",
              "    </tr>\n",
              "    <tr>\n",
              "      <th>10</th>\n",
              "      <td>6</td>\n",
              "      <td>오프라인</td>\n",
              "      <td>5</td>\n",
              "    </tr>\n",
              "    <tr>\n",
              "      <th>11</th>\n",
              "      <td>6</td>\n",
              "      <td>온라인</td>\n",
              "      <td>6</td>\n",
              "    </tr>\n",
              "    <tr>\n",
              "      <th>12</th>\n",
              "      <td>7</td>\n",
              "      <td>오프라인</td>\n",
              "      <td>10</td>\n",
              "    </tr>\n",
              "    <tr>\n",
              "      <th>13</th>\n",
              "      <td>7</td>\n",
              "      <td>온라인</td>\n",
              "      <td>9</td>\n",
              "    </tr>\n",
              "    <tr>\n",
              "      <th>14</th>\n",
              "      <td>8</td>\n",
              "      <td>오프라인</td>\n",
              "      <td>8</td>\n",
              "    </tr>\n",
              "    <tr>\n",
              "      <th>15</th>\n",
              "      <td>8</td>\n",
              "      <td>온라인</td>\n",
              "      <td>8</td>\n",
              "    </tr>\n",
              "    <tr>\n",
              "      <th>16</th>\n",
              "      <td>9</td>\n",
              "      <td>오프라인</td>\n",
              "      <td>8</td>\n",
              "    </tr>\n",
              "    <tr>\n",
              "      <th>17</th>\n",
              "      <td>9</td>\n",
              "      <td>온라인</td>\n",
              "      <td>11</td>\n",
              "    </tr>\n",
              "    <tr>\n",
              "      <th>18</th>\n",
              "      <td>10</td>\n",
              "      <td>오프라인</td>\n",
              "      <td>6</td>\n",
              "    </tr>\n",
              "    <tr>\n",
              "      <th>19</th>\n",
              "      <td>10</td>\n",
              "      <td>온라인</td>\n",
              "      <td>5</td>\n",
              "    </tr>\n",
              "    <tr>\n",
              "      <th>20</th>\n",
              "      <td>11</td>\n",
              "      <td>오프라인</td>\n",
              "      <td>8</td>\n",
              "    </tr>\n",
              "    <tr>\n",
              "      <th>21</th>\n",
              "      <td>11</td>\n",
              "      <td>온라인</td>\n",
              "      <td>12</td>\n",
              "    </tr>\n",
              "    <tr>\n",
              "      <th>22</th>\n",
              "      <td>12</td>\n",
              "      <td>오프라인</td>\n",
              "      <td>11</td>\n",
              "    </tr>\n",
              "    <tr>\n",
              "      <th>23</th>\n",
              "      <td>12</td>\n",
              "      <td>온라인</td>\n",
              "      <td>14</td>\n",
              "    </tr>\n",
              "  </tbody>\n",
              "</table>\n",
              "</div>"
            ],
            "text/plain": [
              "    c_진행월    채널  행사명\n",
              "0       1  오프라인    7\n",
              "1       1   온라인   10\n",
              "2       2  오프라인   11\n",
              "3       2   온라인   14\n",
              "4       3  오프라인    5\n",
              "5       3   온라인   10\n",
              "6       4  오프라인    4\n",
              "7       4   온라인   10\n",
              "8       5  오프라인    6\n",
              "9       5   온라인    7\n",
              "10      6  오프라인    5\n",
              "11      6   온라인    6\n",
              "12      7  오프라인   10\n",
              "13      7   온라인    9\n",
              "14      8  오프라인    8\n",
              "15      8   온라인    8\n",
              "16      9  오프라인    8\n",
              "17      9   온라인   11\n",
              "18     10  오프라인    6\n",
              "19     10   온라인    5\n",
              "20     11  오프라인    8\n",
              "21     11   온라인   12\n",
              "22     12  오프라인   11\n",
              "23     12   온라인   14"
            ]
          },
          "execution_count": 39,
          "metadata": {},
          "output_type": "execute_result"
        }
      ],
      "source": [
        "data"
      ]
    },
    {
      "cell_type": "markdown",
      "id": "c489f697",
      "metadata": {
        "id": "c489f697"
      },
      "source": [
        "- 2월 > 12월 > 7월 순으로 많이 함\n",
        "- 아래 연도별로 봤을 때도 겨울, 여름에 집중"
      ]
    },
    {
      "cell_type": "code",
      "execution_count": null,
      "id": "c502351f",
      "metadata": {
        "id": "c502351f"
      },
      "outputs": [],
      "source": [
        "data = promo2.groupby(['c_시작연도', 'c_진행월','채널'], as_index=False).agg({'행사명' : 'count'})\n",
        "for i in data['c_시작연도'].unique() : \n",
        "    fig = px.bar(data[data['c_시작연도']==i], x='c_진행월', y='행사명',color = '채널', title =  i+'년 월별 행사건수',color_discrete_map={\n",
        "        '오프라인': '#CC3333','온라인': '#FFCC33'},text_auto = '.2s' )\n",
        "    fig.update_layout(xaxis_title='행사 월',\n",
        "                  yaxis_title='개수')\n",
        "    \n",
        "    fig.show()"
      ]
    },
    {
      "cell_type": "markdown",
      "id": "c52f34ff",
      "metadata": {
        "id": "c52f34ff"
      },
      "source": [
        "## 1.2 행사 종류 구분\n",
        "- 구분 방식 : 쿠폰, 단순 할인(=하나만 사도 할인), 조건 할인(ex. 2족 이상 구매시 or 키즈상품 구매 시, 15만원 구매 시), 사은품(=무조건 주는 거), 경품(=이벤트 추첨을 통해서 주는 거) -> 쿠폰, 단순할인, 조건할인으로 나눔, 사은품, 경품같은 경우에는 보조적인 프로모션으로 보임\n",
        "- 중복 시 모두 반영"
      ]
    },
    {
      "cell_type": "code",
      "execution_count": null,
      "id": "372f1981",
      "metadata": {
        "id": "372f1981"
      },
      "outputs": [],
      "source": [
        "promo2['demo'] = promo2['행사 구분'].str.replace(\" \", \"\")\n",
        "promo2['demo'] = promo2['demo'].str.split(',')\n",
        "promo2 = promo2.join(promo2['demo'].apply(lambda x: pd.Series(x)).stack().reset_index(1,name='c_행사구분').drop('level_1', axis=1))\n",
        "promo2 = promo2.drop(labels = 'demo', axis=1)"
      ]
    },
    {
      "cell_type": "code",
      "execution_count": null,
      "id": "d9e6df2d",
      "metadata": {
        "id": "d9e6df2d",
        "outputId": "5a160248-8364-4bda-8850-eec39fbfd1ac"
      },
      "outputs": [
        {
          "data": {
            "text/html": [
              "<div>\n",
              "<style scoped>\n",
              "    .dataframe tbody tr th:only-of-type {\n",
              "        vertical-align: middle;\n",
              "    }\n",
              "\n",
              "    .dataframe tbody tr th {\n",
              "        vertical-align: top;\n",
              "    }\n",
              "\n",
              "    .dataframe thead th {\n",
              "        text-align: right;\n",
              "    }\n",
              "</style>\n",
              "<table border=\"1\" class=\"dataframe\">\n",
              "  <thead>\n",
              "    <tr style=\"text-align: right;\">\n",
              "      <th></th>\n",
              "      <th></th>\n",
              "      <th>행사 개수</th>\n",
              "    </tr>\n",
              "    <tr>\n",
              "      <th>행사 월</th>\n",
              "      <th>행사 구분</th>\n",
              "      <th></th>\n",
              "    </tr>\n",
              "  </thead>\n",
              "  <tbody>\n",
              "    <tr>\n",
              "      <th rowspan=\"3\" valign=\"top\">1</th>\n",
              "      <th>단순할인</th>\n",
              "      <td>5.5000</td>\n",
              "    </tr>\n",
              "    <tr>\n",
              "      <th>쿠폰</th>\n",
              "      <td>4.2500</td>\n",
              "    </tr>\n",
              "    <tr>\n",
              "      <th>조건할인</th>\n",
              "      <td>3.0000</td>\n",
              "    </tr>\n",
              "    <tr>\n",
              "      <th rowspan=\"3\" valign=\"top\">10</th>\n",
              "      <th>단순할인</th>\n",
              "      <td>5.0000</td>\n",
              "    </tr>\n",
              "    <tr>\n",
              "      <th>조건할인</th>\n",
              "      <td>3.3333</td>\n",
              "    </tr>\n",
              "    <tr>\n",
              "      <th>쿠폰</th>\n",
              "      <td>1.0000</td>\n",
              "    </tr>\n",
              "    <tr>\n",
              "      <th rowspan=\"4\" valign=\"top\">11</th>\n",
              "      <th>단순할인</th>\n",
              "      <td>9.5000</td>\n",
              "    </tr>\n",
              "    <tr>\n",
              "      <th>경품</th>\n",
              "      <td>4.0000</td>\n",
              "    </tr>\n",
              "    <tr>\n",
              "      <th>쿠폰</th>\n",
              "      <td>3.0000</td>\n",
              "    </tr>\n",
              "    <tr>\n",
              "      <th>조건할인</th>\n",
              "      <td>1.0000</td>\n",
              "    </tr>\n",
              "    <tr>\n",
              "      <th rowspan=\"3\" valign=\"top\">12</th>\n",
              "      <th>단순할인</th>\n",
              "      <td>4.5000</td>\n",
              "    </tr>\n",
              "    <tr>\n",
              "      <th>조건할인</th>\n",
              "      <td>2.0000</td>\n",
              "    </tr>\n",
              "    <tr>\n",
              "      <th>쿠폰</th>\n",
              "      <td>1.0000</td>\n",
              "    </tr>\n",
              "    <tr>\n",
              "      <th rowspan=\"5\" valign=\"top\">2</th>\n",
              "      <th>단순할인</th>\n",
              "      <td>4.7500</td>\n",
              "    </tr>\n",
              "    <tr>\n",
              "      <th>사은품</th>\n",
              "      <td>4.0000</td>\n",
              "    </tr>\n",
              "    <tr>\n",
              "      <th>경품</th>\n",
              "      <td>2.5000</td>\n",
              "    </tr>\n",
              "    <tr>\n",
              "      <th>쿠폰</th>\n",
              "      <td>2.2500</td>\n",
              "    </tr>\n",
              "    <tr>\n",
              "      <th>조건할인</th>\n",
              "      <td>1.5000</td>\n",
              "    </tr>\n",
              "    <tr>\n",
              "      <th rowspan=\"3\" valign=\"top\">3</th>\n",
              "      <th>쿠폰</th>\n",
              "      <td>5.0000</td>\n",
              "    </tr>\n",
              "    <tr>\n",
              "      <th>단순할인</th>\n",
              "      <td>4.0000</td>\n",
              "    </tr>\n",
              "    <tr>\n",
              "      <th>조건할인</th>\n",
              "      <td>1.5000</td>\n",
              "    </tr>\n",
              "    <tr>\n",
              "      <th rowspan=\"4\" valign=\"top\">4</th>\n",
              "      <th>조건할인</th>\n",
              "      <td>6.6667</td>\n",
              "    </tr>\n",
              "    <tr>\n",
              "      <th>단순할인</th>\n",
              "      <td>6.5000</td>\n",
              "    </tr>\n",
              "    <tr>\n",
              "      <th>경품</th>\n",
              "      <td>5.0000</td>\n",
              "    </tr>\n",
              "    <tr>\n",
              "      <th>쿠폰</th>\n",
              "      <td>2.5000</td>\n",
              "    </tr>\n",
              "    <tr>\n",
              "      <th rowspan=\"3\" valign=\"top\">5</th>\n",
              "      <th>쿠폰</th>\n",
              "      <td>4.5000</td>\n",
              "    </tr>\n",
              "    <tr>\n",
              "      <th>단순할인</th>\n",
              "      <td>3.3333</td>\n",
              "    </tr>\n",
              "    <tr>\n",
              "      <th>조건할인</th>\n",
              "      <td>2.0000</td>\n",
              "    </tr>\n",
              "    <tr>\n",
              "      <th rowspan=\"4\" valign=\"top\">6</th>\n",
              "      <th>단순할인</th>\n",
              "      <td>6.2500</td>\n",
              "    </tr>\n",
              "    <tr>\n",
              "      <th>경품</th>\n",
              "      <td>4.0000</td>\n",
              "    </tr>\n",
              "    <tr>\n",
              "      <th>조건할인</th>\n",
              "      <td>1.0000</td>\n",
              "    </tr>\n",
              "    <tr>\n",
              "      <th>쿠폰</th>\n",
              "      <td>1.0000</td>\n",
              "    </tr>\n",
              "    <tr>\n",
              "      <th rowspan=\"3\" valign=\"top\">7</th>\n",
              "      <th>단순할인</th>\n",
              "      <td>8.7500</td>\n",
              "    </tr>\n",
              "    <tr>\n",
              "      <th>경품</th>\n",
              "      <td>4.0000</td>\n",
              "    </tr>\n",
              "    <tr>\n",
              "      <th>사은품</th>\n",
              "      <td>4.0000</td>\n",
              "    </tr>\n",
              "    <tr>\n",
              "      <th rowspan=\"5\" valign=\"top\">8</th>\n",
              "      <th>단순할인</th>\n",
              "      <td>4.5000</td>\n",
              "    </tr>\n",
              "    <tr>\n",
              "      <th>경품</th>\n",
              "      <td>4.0000</td>\n",
              "    </tr>\n",
              "    <tr>\n",
              "      <th>쿠폰</th>\n",
              "      <td>3.3333</td>\n",
              "    </tr>\n",
              "    <tr>\n",
              "      <th>사은품</th>\n",
              "      <td>1.0000</td>\n",
              "    </tr>\n",
              "    <tr>\n",
              "      <th>조건할인</th>\n",
              "      <td>1.0000</td>\n",
              "    </tr>\n",
              "    <tr>\n",
              "      <th rowspan=\"3\" valign=\"top\">9</th>\n",
              "      <th>단순할인</th>\n",
              "      <td>4.7500</td>\n",
              "    </tr>\n",
              "    <tr>\n",
              "      <th>조건할인</th>\n",
              "      <td>4.5000</td>\n",
              "    </tr>\n",
              "    <tr>\n",
              "      <th>쿠폰</th>\n",
              "      <td>3.5000</td>\n",
              "    </tr>\n",
              "  </tbody>\n",
              "</table>\n",
              "</div>"
            ],
            "text/plain": [
              "            행사 개수\n",
              "행사 월 행사 구분       \n",
              "1    단순할인  5.5000\n",
              "     쿠폰    4.2500\n",
              "     조건할인  3.0000\n",
              "10   단순할인  5.0000\n",
              "     조건할인  3.3333\n",
              "     쿠폰    1.0000\n",
              "11   단순할인  9.5000\n",
              "     경품    4.0000\n",
              "     쿠폰    3.0000\n",
              "     조건할인  1.0000\n",
              "12   단순할인  4.5000\n",
              "     조건할인  2.0000\n",
              "     쿠폰    1.0000\n",
              "2    단순할인  4.7500\n",
              "     사은품   4.0000\n",
              "     경품    2.5000\n",
              "     쿠폰    2.2500\n",
              "     조건할인  1.5000\n",
              "3    쿠폰    5.0000\n",
              "     단순할인  4.0000\n",
              "     조건할인  1.5000\n",
              "4    조건할인  6.6667\n",
              "     단순할인  6.5000\n",
              "     경품    5.0000\n",
              "     쿠폰    2.5000\n",
              "5    쿠폰    4.5000\n",
              "     단순할인  3.3333\n",
              "     조건할인  2.0000\n",
              "6    단순할인  6.2500\n",
              "     경품    4.0000\n",
              "     조건할인  1.0000\n",
              "     쿠폰    1.0000\n",
              "7    단순할인  8.7500\n",
              "     경품    4.0000\n",
              "     사은품   4.0000\n",
              "8    단순할인  4.5000\n",
              "     경품    4.0000\n",
              "     쿠폰    3.3333\n",
              "     사은품   1.0000\n",
              "     조건할인  1.0000\n",
              "9    단순할인  4.7500\n",
              "     조건할인  4.5000\n",
              "     쿠폰    3.5000"
            ]
          },
          "execution_count": 43,
          "metadata": {},
          "output_type": "execute_result"
        }
      ],
      "source": [
        "data = promo2.groupby(['c_시작연도' ,'c_시작월','c_행사구분'], as_index=False).agg({'행사명': 'count'}).sort_values(by=['c_시작연도','c_시작월', '행사명'], ascending = [True,True, False])\n",
        "data.columns = ['행사 연도', '행사 월', '행사 구분', '행사 개수']\n",
        "data.groupby(['행사 월', '행사 구분']).agg({'행사 개수': 'mean'}).sort_values(by=['행사 월', '행사 개수'], ascending = [True, False])"
      ]
    },
    {
      "cell_type": "code",
      "execution_count": null,
      "id": "c7e56800",
      "metadata": {
        "id": "c7e56800",
        "outputId": "47dad3fd-00e1-4477-97ce-66168a349e06"
      },
      "outputs": [
        {
          "data": {
            "text/html": [
              "<div>\n",
              "<style scoped>\n",
              "    .dataframe tbody tr th:only-of-type {\n",
              "        vertical-align: middle;\n",
              "    }\n",
              "\n",
              "    .dataframe tbody tr th {\n",
              "        vertical-align: top;\n",
              "    }\n",
              "\n",
              "    .dataframe thead th {\n",
              "        text-align: right;\n",
              "    }\n",
              "</style>\n",
              "<table border=\"1\" class=\"dataframe\">\n",
              "  <thead>\n",
              "    <tr style=\"text-align: right;\">\n",
              "      <th></th>\n",
              "      <th>행사 개수</th>\n",
              "    </tr>\n",
              "    <tr>\n",
              "      <th>c_행사구분</th>\n",
              "      <th></th>\n",
              "    </tr>\n",
              "  </thead>\n",
              "  <tbody>\n",
              "    <tr>\n",
              "      <th>단순할인</th>\n",
              "      <td>253</td>\n",
              "    </tr>\n",
              "    <tr>\n",
              "      <th>쿠폰</th>\n",
              "      <td>86</td>\n",
              "    </tr>\n",
              "    <tr>\n",
              "      <th>조건할인</th>\n",
              "      <td>79</td>\n",
              "    </tr>\n",
              "    <tr>\n",
              "      <th>경품</th>\n",
              "      <td>39</td>\n",
              "    </tr>\n",
              "    <tr>\n",
              "      <th>사은품</th>\n",
              "      <td>9</td>\n",
              "    </tr>\n",
              "  </tbody>\n",
              "</table>\n",
              "</div>"
            ],
            "text/plain": [
              "        행사 개수\n",
              "c_행사구분       \n",
              "단순할인      253\n",
              "쿠폰         86\n",
              "조건할인       79\n",
              "경품         39\n",
              "사은품         9"
            ]
          },
          "execution_count": 44,
          "metadata": {},
          "output_type": "execute_result"
        }
      ],
      "source": [
        "data = promo2.groupby(['c_행사구분']).agg({'행사명': 'count'}).sort_values(by=['행사명'], ascending = False)\n",
        "data.columns = ['행사 개수']\n",
        "data"
      ]
    },
    {
      "cell_type": "code",
      "execution_count": null,
      "id": "391c0630",
      "metadata": {
        "id": "391c0630",
        "outputId": "8866137a-7200-4abd-d041-53ab21811a2e"
      },
      "outputs": [
        {
          "data": {
            "text/html": [
              "<div>\n",
              "<style scoped>\n",
              "    .dataframe tbody tr th:only-of-type {\n",
              "        vertical-align: middle;\n",
              "    }\n",
              "\n",
              "    .dataframe tbody tr th {\n",
              "        vertical-align: top;\n",
              "    }\n",
              "\n",
              "    .dataframe thead th {\n",
              "        text-align: right;\n",
              "    }\n",
              "</style>\n",
              "<table border=\"1\" class=\"dataframe\">\n",
              "  <thead>\n",
              "    <tr style=\"text-align: right;\">\n",
              "      <th></th>\n",
              "      <th></th>\n",
              "      <th>행사 개수</th>\n",
              "    </tr>\n",
              "    <tr>\n",
              "      <th>c_시작연도</th>\n",
              "      <th>c_행사구분</th>\n",
              "      <th></th>\n",
              "    </tr>\n",
              "  </thead>\n",
              "  <tbody>\n",
              "    <tr>\n",
              "      <th rowspan=\"5\" valign=\"top\">2022</th>\n",
              "      <th>단순할인</th>\n",
              "      <td>25</td>\n",
              "    </tr>\n",
              "    <tr>\n",
              "      <th>조건할인</th>\n",
              "      <td>13</td>\n",
              "    </tr>\n",
              "    <tr>\n",
              "      <th>쿠폰</th>\n",
              "      <td>11</td>\n",
              "    </tr>\n",
              "    <tr>\n",
              "      <th>경품</th>\n",
              "      <td>5</td>\n",
              "    </tr>\n",
              "    <tr>\n",
              "      <th>사은품</th>\n",
              "      <td>2</td>\n",
              "    </tr>\n",
              "    <tr>\n",
              "      <th rowspan=\"4\" valign=\"top\">2021</th>\n",
              "      <th>단순할인</th>\n",
              "      <td>30</td>\n",
              "    </tr>\n",
              "    <tr>\n",
              "      <th>조건할인</th>\n",
              "      <td>10</td>\n",
              "    </tr>\n",
              "    <tr>\n",
              "      <th>쿠폰</th>\n",
              "      <td>10</td>\n",
              "    </tr>\n",
              "    <tr>\n",
              "      <th>경품</th>\n",
              "      <td>6</td>\n",
              "    </tr>\n",
              "    <tr>\n",
              "      <th rowspan=\"5\" valign=\"top\">2020</th>\n",
              "      <th>단순할인</th>\n",
              "      <td>27</td>\n",
              "    </tr>\n",
              "    <tr>\n",
              "      <th>조건할인</th>\n",
              "      <td>10</td>\n",
              "    </tr>\n",
              "    <tr>\n",
              "      <th>쿠폰</th>\n",
              "      <td>8</td>\n",
              "    </tr>\n",
              "    <tr>\n",
              "      <th>경품</th>\n",
              "      <td>1</td>\n",
              "    </tr>\n",
              "    <tr>\n",
              "      <th>사은품</th>\n",
              "      <td>1</td>\n",
              "    </tr>\n",
              "    <tr>\n",
              "      <th rowspan=\"3\" valign=\"top\">2019</th>\n",
              "      <th>단순할인</th>\n",
              "      <td>24</td>\n",
              "    </tr>\n",
              "    <tr>\n",
              "      <th>쿠폰</th>\n",
              "      <td>15</td>\n",
              "    </tr>\n",
              "    <tr>\n",
              "      <th>조건할인</th>\n",
              "      <td>10</td>\n",
              "    </tr>\n",
              "  </tbody>\n",
              "</table>\n",
              "</div>"
            ],
            "text/plain": [
              "               행사 개수\n",
              "c_시작연도 c_행사구분       \n",
              "2022   단순할인       25\n",
              "       조건할인       13\n",
              "       쿠폰         11\n",
              "       경품          5\n",
              "       사은품         2\n",
              "2021   단순할인       30\n",
              "       조건할인       10\n",
              "       쿠폰         10\n",
              "       경품          6\n",
              "2020   단순할인       27\n",
              "       조건할인       10\n",
              "       쿠폰          8\n",
              "       경품          1\n",
              "       사은품         1\n",
              "2019   단순할인       24\n",
              "       쿠폰         15\n",
              "       조건할인       10"
            ]
          },
          "execution_count": 45,
          "metadata": {},
          "output_type": "execute_result"
        }
      ],
      "source": [
        "promo2 = promo.copy()\n",
        "promo2['c_시작월'] = promo2['c_시작월'].astype(int)\n",
        "promo2['demo'] = promo2['행사 구분'].str.replace(\" \", \"\")\n",
        "promo2['demo'] = promo2['demo'].str.split(',')\n",
        "promo2 = promo2.join(promo2['demo'].apply(lambda x: pd.Series(x)).stack().reset_index(1,name='c_행사구분').drop('level_1', axis=1))\n",
        "promo2 = promo2.drop(labels = 'demo', axis=1)\n",
        "data = promo2.groupby(['c_시작연도','c_행사구분']).agg({'행사명': 'count'}).sort_values(by=['c_시작연도', '행사명'], ascending = False)\n",
        "data.columns = ['행사 개수']\n",
        "data"
      ]
    },
    {
      "cell_type": "code",
      "execution_count": null,
      "id": "a1f88943",
      "metadata": {
        "id": "a1f88943",
        "outputId": "7cca3036-ca38-41fa-f572-498b0301e9ee"
      },
      "outputs": [
        {
          "data": {
            "text/html": [
              "<div>\n",
              "<style scoped>\n",
              "    .dataframe tbody tr th:only-of-type {\n",
              "        vertical-align: middle;\n",
              "    }\n",
              "\n",
              "    .dataframe tbody tr th {\n",
              "        vertical-align: top;\n",
              "    }\n",
              "\n",
              "    .dataframe thead th {\n",
              "        text-align: right;\n",
              "    }\n",
              "</style>\n",
              "<table border=\"1\" class=\"dataframe\">\n",
              "  <thead>\n",
              "    <tr style=\"text-align: right;\">\n",
              "      <th></th>\n",
              "      <th>c_시작연도</th>\n",
              "      <th>행사진행기간</th>\n",
              "    </tr>\n",
              "  </thead>\n",
              "  <tbody>\n",
              "    <tr>\n",
              "      <th>0</th>\n",
              "      <td>2019</td>\n",
              "      <td>13.2195</td>\n",
              "    </tr>\n",
              "    <tr>\n",
              "      <th>1</th>\n",
              "      <td>2020</td>\n",
              "      <td>16.0571</td>\n",
              "    </tr>\n",
              "    <tr>\n",
              "      <th>2</th>\n",
              "      <td>2021</td>\n",
              "      <td>16.7500</td>\n",
              "    </tr>\n",
              "    <tr>\n",
              "      <th>3</th>\n",
              "      <td>2022</td>\n",
              "      <td>20.9714</td>\n",
              "    </tr>\n",
              "  </tbody>\n",
              "</table>\n",
              "</div>"
            ],
            "text/plain": [
              "  c_시작연도  행사진행기간\n",
              "0   2019 13.2195\n",
              "1   2020 16.0571\n",
              "2   2021 16.7500\n",
              "3   2022 20.9714"
            ]
          },
          "execution_count": 46,
          "metadata": {},
          "output_type": "execute_result"
        }
      ],
      "source": [
        "# 행사 기간\n",
        "promo['행사진행기간'] = promo['종료일'] - promo['시작일']\n",
        "promo['행사진행기간'] = promo['행사진행기간'].dt.days + 1\n",
        "df = promo.groupby('c_시작연도', as_index = False).agg({'행사진행기간' : 'mean'})\n",
        "df"
      ]
    },
    {
      "cell_type": "code",
      "execution_count": null,
      "id": "b69eef84",
      "metadata": {
        "id": "b69eef84",
        "outputId": "3ee66ad9-6a5d-4e65-88ac-4cf487fd7cc1"
      },
      "outputs": [
        {
          "data": {
            "text/html": [
              "<div>\n",
              "<style scoped>\n",
              "    .dataframe tbody tr th:only-of-type {\n",
              "        vertical-align: middle;\n",
              "    }\n",
              "\n",
              "    .dataframe tbody tr th {\n",
              "        vertical-align: top;\n",
              "    }\n",
              "\n",
              "    .dataframe thead th {\n",
              "        text-align: right;\n",
              "    }\n",
              "</style>\n",
              "<table border=\"1\" class=\"dataframe\">\n",
              "  <thead>\n",
              "    <tr style=\"text-align: right;\">\n",
              "      <th></th>\n",
              "      <th>채널</th>\n",
              "      <th>행사진행기간</th>\n",
              "    </tr>\n",
              "  </thead>\n",
              "  <tbody>\n",
              "    <tr>\n",
              "      <th>0</th>\n",
              "      <td>오프라인</td>\n",
              "      <td>19.0667</td>\n",
              "    </tr>\n",
              "    <tr>\n",
              "      <th>1</th>\n",
              "      <td>온라인</td>\n",
              "      <td>14.9080</td>\n",
              "    </tr>\n",
              "  </tbody>\n",
              "</table>\n",
              "</div>"
            ],
            "text/plain": [
              "     채널  행사진행기간\n",
              "0  오프라인 19.0667\n",
              "1   온라인 14.9080"
            ]
          },
          "execution_count": 47,
          "metadata": {},
          "output_type": "execute_result"
        }
      ],
      "source": [
        "df = promo.groupby('채널', as_index = False).agg({'행사진행기간' : 'mean'})\n",
        "df"
      ]
    },
    {
      "cell_type": "code",
      "execution_count": null,
      "id": "9afe437f",
      "metadata": {
        "id": "9afe437f",
        "outputId": "334252cb-d5e9-44d2-b347-7c23bc3e4fae"
      },
      "outputs": [
        {
          "data": {
            "text/html": [
              "<div>\n",
              "<style scoped>\n",
              "    .dataframe tbody tr th:only-of-type {\n",
              "        vertical-align: middle;\n",
              "    }\n",
              "\n",
              "    .dataframe tbody tr th {\n",
              "        vertical-align: top;\n",
              "    }\n",
              "\n",
              "    .dataframe thead th {\n",
              "        text-align: right;\n",
              "    }\n",
              "</style>\n",
              "<table border=\"1\" class=\"dataframe\">\n",
              "  <thead>\n",
              "    <tr style=\"text-align: right;\">\n",
              "      <th></th>\n",
              "      <th>c_행사구분</th>\n",
              "      <th>행사진행기간</th>\n",
              "    </tr>\n",
              "  </thead>\n",
              "  <tbody>\n",
              "    <tr>\n",
              "      <th>0</th>\n",
              "      <td>사은품</td>\n",
              "      <td>22.0000</td>\n",
              "    </tr>\n",
              "    <tr>\n",
              "      <th>1</th>\n",
              "      <td>경품</td>\n",
              "      <td>19.3333</td>\n",
              "    </tr>\n",
              "    <tr>\n",
              "      <th>2</th>\n",
              "      <td>단순할인</td>\n",
              "      <td>17.8019</td>\n",
              "    </tr>\n",
              "    <tr>\n",
              "      <th>3</th>\n",
              "      <td>쿠폰</td>\n",
              "      <td>15.1591</td>\n",
              "    </tr>\n",
              "    <tr>\n",
              "      <th>4</th>\n",
              "      <td>조건할인</td>\n",
              "      <td>13.0233</td>\n",
              "    </tr>\n",
              "  </tbody>\n",
              "</table>\n",
              "</div>"
            ],
            "text/plain": [
              "  c_행사구분  행사진행기간\n",
              "0    사은품 22.0000\n",
              "1     경품 19.3333\n",
              "2   단순할인 17.8019\n",
              "3     쿠폰 15.1591\n",
              "4   조건할인 13.0233"
            ]
          },
          "execution_count": 48,
          "metadata": {},
          "output_type": "execute_result"
        }
      ],
      "source": [
        "promo2 = promo.copy()\n",
        "promo2['행사진행기간'] = promo2['종료일'] - promo2['시작일'] \n",
        "promo2['행사진행기간'] = promo2['행사진행기간'].dt.days + 1\n",
        "promo2['c_시작월'] = promo2['c_시작월'].astype(int)\n",
        "promo2['demo'] = promo2['행사 구분'].str.replace(\" \", \"\")\n",
        "promo2['demo'] = promo2['demo'].str.split(',')\n",
        "promo2 = promo2.join(promo2['demo'].apply(lambda x: pd.Series(x)).stack().reset_index(1,name='c_행사구분').drop('level_1', axis=1))\n",
        "promo2 = promo2.drop(labels = 'demo', axis=1)\n",
        "promo2.groupby('c_행사구분', as_index = False).agg({'행사진행기간' : 'mean'}).sort_values(by=['행사진행기간'], ascending = False).reset_index(drop=True)"
      ]
    },
    {
      "cell_type": "markdown",
      "id": "bd7abbe5",
      "metadata": {
        "id": "bd7abbe5"
      },
      "source": [
        "## 1.3 행사 주기\n",
        "- 전체적인 행사 주기, 행사별 행사주기, 채널 별 행사주기"
      ]
    },
    {
      "cell_type": "code",
      "execution_count": null,
      "id": "c9aa76fe",
      "metadata": {
        "id": "c9aa76fe",
        "outputId": "1f6fecd5-a6a8-4838-86ad-047223eb62b0"
      },
      "outputs": [
        {
          "data": {
            "text/plain": [
              "19.523809523809526"
            ]
          },
          "execution_count": 49,
          "metadata": {},
          "output_type": "execute_result"
        }
      ],
      "source": [
        "#전체적인 행사 주기\n",
        "promo3 = promo.copy()\n",
        "promo3 = promo3.sort_values(by=['채널', '시작일'], ascending = True).reset_index(drop=True)\n",
        "promo3['직전시작일'] = promo3.groupby(['채널']).시작일.shift()\n",
        "promo3['행사주기'] = promo3['시작일'] - promo3['직전시작일']\n",
        "promo3['행사주기'] = promo3['행사주기'].dt.days\n",
        "promo3['행사주기'] = np.where(promo3['행사주기'].isna(), 0, promo3['행사주기'])\n",
        "promo3['행사주기'].mean() #19일에 한번"
      ]
    },
    {
      "cell_type": "code",
      "execution_count": null,
      "id": "44822502",
      "metadata": {
        "id": "44822502",
        "outputId": "bc364ae5-d2bd-4d51-bded-47be924c1c6f"
      },
      "outputs": [
        {
          "data": {
            "text/html": [
              "<div>\n",
              "<style scoped>\n",
              "    .dataframe tbody tr th:only-of-type {\n",
              "        vertical-align: middle;\n",
              "    }\n",
              "\n",
              "    .dataframe tbody tr th {\n",
              "        vertical-align: top;\n",
              "    }\n",
              "\n",
              "    .dataframe thead th {\n",
              "        text-align: right;\n",
              "    }\n",
              "</style>\n",
              "<table border=\"1\" class=\"dataframe\">\n",
              "  <thead>\n",
              "    <tr style=\"text-align: right;\">\n",
              "      <th></th>\n",
              "      <th>채널</th>\n",
              "      <th>행사주기</th>\n",
              "    </tr>\n",
              "  </thead>\n",
              "  <tbody>\n",
              "    <tr>\n",
              "      <th>0</th>\n",
              "      <td>온라인</td>\n",
              "      <td>16.6552</td>\n",
              "    </tr>\n",
              "    <tr>\n",
              "      <th>1</th>\n",
              "      <td>오프라인</td>\n",
              "      <td>23.6833</td>\n",
              "    </tr>\n",
              "  </tbody>\n",
              "</table>\n",
              "</div>"
            ],
            "text/plain": [
              "     채널    행사주기\n",
              "0   온라인 16.6552\n",
              "1  오프라인 23.6833"
            ]
          },
          "execution_count": 50,
          "metadata": {},
          "output_type": "execute_result"
        }
      ],
      "source": [
        "# 채널 별 행사주기\n",
        "promo3.groupby(['채널'], as_index=False).agg({'행사주기':'mean'}).sort_values(by=['행사주기'], ascending = True).reset_index(drop=True)"
      ]
    },
    {
      "cell_type": "code",
      "execution_count": null,
      "id": "733d4bdc",
      "metadata": {
        "id": "733d4bdc",
        "outputId": "cc052aa1-4d2b-4629-9e12-8f46b8e7e4d7"
      },
      "outputs": [
        {
          "data": {
            "text/html": [
              "<div>\n",
              "<style scoped>\n",
              "    .dataframe tbody tr th:only-of-type {\n",
              "        vertical-align: middle;\n",
              "    }\n",
              "\n",
              "    .dataframe tbody tr th {\n",
              "        vertical-align: top;\n",
              "    }\n",
              "\n",
              "    .dataframe thead th {\n",
              "        text-align: right;\n",
              "    }\n",
              "</style>\n",
              "<table border=\"1\" class=\"dataframe\">\n",
              "  <thead>\n",
              "    <tr style=\"text-align: right;\">\n",
              "      <th></th>\n",
              "      <th>c_행사구분</th>\n",
              "      <th>행사주기</th>\n",
              "    </tr>\n",
              "  </thead>\n",
              "  <tbody>\n",
              "    <tr>\n",
              "      <th>0</th>\n",
              "      <td>경품</td>\n",
              "      <td>13.0833</td>\n",
              "    </tr>\n",
              "    <tr>\n",
              "      <th>1</th>\n",
              "      <td>쿠폰</td>\n",
              "      <td>14.7500</td>\n",
              "    </tr>\n",
              "    <tr>\n",
              "      <th>2</th>\n",
              "      <td>사은품</td>\n",
              "      <td>19.6667</td>\n",
              "    </tr>\n",
              "    <tr>\n",
              "      <th>3</th>\n",
              "      <td>단순할인</td>\n",
              "      <td>20.8774</td>\n",
              "    </tr>\n",
              "    <tr>\n",
              "      <th>4</th>\n",
              "      <td>조건할인</td>\n",
              "      <td>21.9070</td>\n",
              "    </tr>\n",
              "  </tbody>\n",
              "</table>\n",
              "</div>"
            ],
            "text/plain": [
              "  c_행사구분    행사주기\n",
              "0     경품 13.0833\n",
              "1     쿠폰 14.7500\n",
              "2    사은품 19.6667\n",
              "3   단순할인 20.8774\n",
              "4   조건할인 21.9070"
            ]
          },
          "execution_count": 51,
          "metadata": {},
          "output_type": "execute_result"
        }
      ],
      "source": [
        "#행사구분 별 행사주기\n",
        "promo3['demo'] = promo3['행사 구분'].str.replace(\" \", \"\")\n",
        "promo3['demo'] = promo3['demo'].str.split(',')\n",
        "promo3 = promo3.join(promo3['demo'].apply(lambda x: pd.Series(x)).stack().reset_index(1,name='c_행사구분').drop('level_1', axis=1))\n",
        "promo3 = promo3.drop(labels = 'demo', axis=1)\n",
        "promo3.groupby('c_행사구분', as_index = False).agg({'행사주기' : 'mean'}).sort_values(by=['행사주기'], ascending = True).reset_index(drop=True)"
      ]
    },
    {
      "cell_type": "markdown",
      "id": "8a11c591",
      "metadata": {
        "id": "8a11c591"
      },
      "source": [
        "# 2. 프로모션 별 이용률\n",
        "- 온라인 / 오프라인 이용률\n",
        "- 종류 구분\n",
        "\n",
        "\n"
      ]
    },
    {
      "cell_type": "markdown",
      "id": "f2276078",
      "metadata": {
        "id": "f2276078"
      },
      "source": [
        "- user 중에 최초가입일 1900년인 사람 제거\n",
        "- user 중에 최종가입 < 최종탈퇴일인 사람 제거 -> 구매 240건 제거. \n",
        "- 프모 중 해당 기간에 산 사람"
      ]
    },
    {
      "cell_type": "code",
      "execution_count": null,
      "id": "11f3249b",
      "metadata": {
        "id": "11f3249b"
      },
      "outputs": [],
      "source": [
        "promo = promo.sort_values(by=['시작일'], ascending = True).reset_index(drop=True)\n",
        "promo = promo.reset_index()"
      ]
    },
    {
      "cell_type": "code",
      "execution_count": null,
      "id": "57f03eba",
      "metadata": {
        "id": "57f03eba"
      },
      "outputs": [],
      "source": [
        "# 온라인 구매 / 오프라인 구매 나눠서"
      ]
    },
    {
      "cell_type": "code",
      "execution_count": null,
      "id": "f5b88f0b",
      "metadata": {
        "id": "f5b88f0b",
        "outputId": "5ec86d97-112e-4b6d-e15b-ea2b0fac45a9"
      },
      "outputs": [
        {
          "name": "stdout",
          "output_type": "stream",
          "text": [
            "87\n",
            "60\n"
          ]
        }
      ],
      "source": [
        "promo_online = promo[promo['채널'] == '온라인'].reset_index(drop=True)\n",
        "promo_offline = promo[promo['채널'] == '오프라인'].reset_index(drop=True)\n",
        "print(len(promo_online)) #온라인 프로모션 개수\n",
        "print(len(promo_offline)) #오프라인 프로모션 개수"
      ]
    },
    {
      "cell_type": "code",
      "execution_count": null,
      "id": "29eb36d8",
      "metadata": {
        "id": "29eb36d8"
      },
      "outputs": [],
      "source": [
        "#order_online = order[(order['구매처'] == 'ABC Mobile') | (order['구매처'] == 'ABC APP') | \n",
        "#              (order['구매처'] == 'ABC PC')].reset_index(drop=True)\n",
        "#order_offline = order[(order['구매처'] != 'ABC Mobile') & (order['구매처'] != 'ABC APP') &\n",
        "#              (order['구매처'] != 'ABC PC')].reset_index(drop=True)\n",
        "#print(len(order))\n",
        "#print(len(order_online))\n",
        "#print(len(order_offline))"
      ]
    },
    {
      "cell_type": "code",
      "execution_count": null,
      "id": "78f9c2d9",
      "metadata": {
        "id": "78f9c2d9"
      },
      "outputs": [],
      "source": [
        "#a = []\n",
        "#for i in tqdm(range(len(order_online))) : \n",
        "#    list = []\n",
        "#    for j in range(len(promo_online)) :\n",
        "#        if (order_online.구매일자[i] >= promo_online.시작일[j]) & (order_online.구매일자[i] <= promo_online.종료일[j]):\n",
        "#            list.append(promo_online['index'][j]) \n",
        "#        else :\n",
        "#            pass\n",
        "#    a.append(list)\n",
        "#order_online['행사참여'] = a\n",
        "#order_online.to_pickle(\"../TBWA/order_online.pkl\")"
      ]
    },
    {
      "cell_type": "code",
      "execution_count": null,
      "id": "b5dd597d",
      "metadata": {
        "id": "b5dd597d"
      },
      "outputs": [],
      "source": [
        "#b = []\n",
        "#for i in tqdm(range(len(order_offline))) : \n",
        "#    list = []\n",
        "#    for j in range(len(promo_offline)) :\n",
        "#        if (order_offline.구매일자[i] >= promo_offline.시작일[j]) & (order_offline.구매일자[i] <= promo_offline.종료일[j]):\n",
        "#            list.append(promo_offline['index'][j]) \n",
        "#        else :\n",
        "#            pass\n",
        "#    b.append(list)\n",
        "#order_offline['행사참여'] = b\n",
        "#order_offline.to_pickle(\"../TBWA/order_offline.pkl\")"
      ]
    },
    {
      "cell_type": "code",
      "execution_count": null,
      "id": "0b7a55f2",
      "metadata": {
        "id": "0b7a55f2"
      },
      "outputs": [],
      "source": [
        "order_online = pd.read_pickle(\"../TBWA/order_online.pkl\")\n",
        "order_offline = pd.read_pickle(\"../TBWA/order_offline.pkl\")"
      ]
    },
    {
      "cell_type": "code",
      "execution_count": null,
      "id": "9887ad3a",
      "metadata": {
        "id": "9887ad3a"
      },
      "outputs": [],
      "source": [
        "order_com = pd.concat([order_online, order_offline], axis=0)\n",
        "order_com = order_com[order_com.고유번호.isin(order.고유번호.unique())]"
      ]
    },
    {
      "cell_type": "markdown",
      "id": "6ddf5986",
      "metadata": {
        "id": "6ddf5986"
      },
      "source": [
        "## 2.1 행사기간에 구매한 건 vs 행사기간 아닐 때 구매한 건"
      ]
    },
    {
      "cell_type": "code",
      "execution_count": null,
      "id": "d0405cf3",
      "metadata": {
        "id": "d0405cf3"
      },
      "outputs": [],
      "source": [
        "# 거래건수 중에서 행사기간에 구매한 건 vs 행사기간 아닐 때 구매한 건\n",
        "list1 = ['기간 내 구매', '기간 외 구매']\n",
        "list2 = [3915863, 1058344]\n",
        "df = pd.DataFrame({'기간' : list1, '구매 수':list2})\n",
        "df"
      ]
    },
    {
      "cell_type": "code",
      "execution_count": null,
      "id": "a5ff3c2f",
      "metadata": {
        "id": "a5ff3c2f"
      },
      "outputs": [],
      "source": [
        "fig = px.pie(df, values='구매 수', names='기간', title='프로모션 기간 내 구매한 건수는 전체의 78%', color = '기간', \n",
        "             color_discrete_map={ '기간 내 구매': '#CD5C5C','기간 외 구매': '#4169E1'}) \n",
        "fig.update_traces(textposition='inside', textinfo='percent+label')\n",
        "fig.show('notebook')"
      ]
    },
    {
      "cell_type": "code",
      "execution_count": null,
      "id": "ddf9afcb",
      "metadata": {
        "id": "ddf9afcb"
      },
      "outputs": [],
      "source": [
        "demo = order_com[['고유번호', '구매일자','결제가','구매처','행사참여']]\n",
        "demo.행사참여 = demo.행사참여.astype(object)\n",
        "demo2 = demo.explode('행사참여')\n",
        "demo2['행사참여'] = demo2['행사참여'].fillna(value='행사x')\n",
        "demo2 = demo2.rename(columns = {'행사참여' : '행사번호'}).reset_index(drop=True)\n",
        "demo2\n",
        "# 회원 중에서 행사기간에 회원 수 vs 행사기간 아닐 때 구매한 회원 수ㅜ\n",
        "list1 = ['기간 내 이용한 회원', '이용하지 않은 회원']\n",
        "list2 = [len(user[user.고유번호.isin(demo2.고유번호.unique())]) , len(user[~user.고유번호.isin(demo2.고유번호.unique())])]\n",
        "df = pd.DataFrame({'기간' : list1, '회원 수':list2})\n",
        "df\n",
        "fig = px.pie(df, values='회원 수', names='기간', title='프로모션 이용률은 전체 회원수의 71.6%', color = '기간', \n",
        "             color_discrete_map={ '기간 내 이용한 회원': '#CD5C5C','이용하지 않은 회원': '#4169E1'}) \n",
        "fig.update_traces(textposition='inside', textinfo='percent+label')\n",
        "fig.show('notebook')"
      ]
    },
    {
      "cell_type": "code",
      "execution_count": null,
      "id": "9a1b74a0",
      "metadata": {
        "id": "9a1b74a0"
      },
      "outputs": [],
      "source": [
        "demo3 = demo2[demo2['행사번호'] != '행사x']\n",
        "aa = demo3.groupby(['고유번호'], as_index = False).agg({'행사번호' : 'nunique'})\n",
        "list = []\n",
        "for i in range(len(aa)) : \n",
        "    if aa['행사번호'][i] == 1:\n",
        "        list.append('1회 참여')\n",
        "    elif aa['행사번호'][i] == 2:\n",
        "        list.append('2회 참여')\n",
        "    elif aa['행사번호'][i] == 3:\n",
        "        list.append('3회 참여')\n",
        "    elif aa['행사번호'][i] == 4:\n",
        "        list.append('4회 참여')\n",
        "    elif aa['행사번호'][i] == 5:\n",
        "        list.append('5회 참여')\n",
        "    else:\n",
        "        list.append('6회 이상 구매')\n",
        "aa['참여횟수'] = list\n",
        "one = aa.groupby(['참여횟수'],as_index = False).agg({'고유번호':'count'}).sort_values(by=['고유번호'], ascending = True).reset_index(drop=True)\n",
        "fig = px.pie(one, values='고유번호', names='참여횟수', title='프로모션 참여한 고객이 또 참여하는지, 1회만 참여하는지', color = '참여횟수') \n",
        "fig.update_traces(textposition='inside', textinfo='percent+label')\n",
        "fig.show()"
      ]
    },
    {
      "cell_type": "code",
      "execution_count": null,
      "id": "6b10687b",
      "metadata": {
        "id": "6b10687b"
      },
      "outputs": [],
      "source": [
        "one['ratio'] = one.고유번호 / one.고유번호.sum() * 100\n",
        "one"
      ]
    },
    {
      "cell_type": "code",
      "execution_count": null,
      "id": "6e42898e",
      "metadata": {
        "id": "6e42898e"
      },
      "outputs": [],
      "source": [
        "# 3회 이상인 회원\n",
        "aa = user[user.고유번호.isin(aa[(aa['행사번호'] != 1) & (aa['행사번호'] != 2)].고유번호)]"
      ]
    },
    {
      "cell_type": "markdown",
      "id": "41a41616",
      "metadata": {
        "id": "41a41616"
      },
      "source": [
        "## 2.2 147개 각 프로모션 별 이용률"
      ]
    },
    {
      "cell_type": "markdown",
      "id": "c5270dbe",
      "metadata": {
        "id": "c5270dbe"
      },
      "source": [
        "- 진행기간. 이 다름을 고려하여 '1일' 기준으로 \n",
        "- 프로모션 별 이용고객 수 : 동일 고객이면 한번만 카운트. 고유번호 nunique\n",
        "- 프로모션 별 구매 건수 : 고유번호 count\n",
        "- 프로모션 별 인당 평균 구매 건수 : \n",
        "- 프로모션 별 평균 구매 금액"
      ]
    },
    {
      "cell_type": "code",
      "execution_count": null,
      "id": "6826f411",
      "metadata": {
        "id": "6826f411"
      },
      "outputs": [],
      "source": [
        "demo = order_com[['고유번호', '구매일자','결제가','행사참여']]\n",
        "demo.행사참여 = demo.행사참여.astype(object)\n",
        "demo2 = demo.explode('행사참여')\n",
        "demo2['행사참여'] = demo2['행사참여'].fillna(value='행사x')"
      ]
    },
    {
      "cell_type": "code",
      "execution_count": null,
      "id": "3c4cf275",
      "metadata": {
        "id": "3c4cf275"
      },
      "outputs": [],
      "source": [
        "# 이용고객수\n",
        "df1 = demo2.groupby(['행사참여'], as_index=False).agg({'고유번호':'nunique'})\n",
        "df1.columns = ['행사번호', '이용고객수']\n",
        "df1 = df1[:147]"
      ]
    },
    {
      "cell_type": "code",
      "execution_count": null,
      "id": "4f01deae",
      "metadata": {
        "id": "4f01deae"
      },
      "outputs": [],
      "source": [
        "# 구매건수\n",
        "df2 = demo2.groupby(['행사참여'], as_index=False).agg({'고유번호':'count'})\n",
        "df2.columns = ['행사번호', '구매건수']\n",
        "df2 = df2[:147]"
      ]
    },
    {
      "cell_type": "code",
      "execution_count": null,
      "id": "6b079984",
      "metadata": {
        "id": "6b079984"
      },
      "outputs": [],
      "source": [
        "# 인당 평균 구매 건수\n",
        "df3 = pd.merge(df2, df1, on = '행사번호', how = 'inner')\n",
        "df3['1인 평균 구매건수'] = df3['구매건수'] / df3['이용고객수']"
      ]
    },
    {
      "cell_type": "code",
      "execution_count": null,
      "id": "21a4e541",
      "metadata": {
        "id": "21a4e541"
      },
      "outputs": [],
      "source": [
        "# 구매금액 합산\n",
        "df4 = demo2.groupby(['행사참여'], as_index=False).agg({'결제가':'sum'})\n",
        "df4 = df4[:147]\n",
        "df4.columns = ['행사번호', '총구매금액']\n",
        "df4 = pd.merge(df3, df4, on='행사번호', how = 'inner')\n",
        "df4['1인 평균 구매금액'] = df4['총구매금액'] / df4['이용고객수']"
      ]
    },
    {
      "cell_type": "code",
      "execution_count": null,
      "id": "ce256f00",
      "metadata": {
        "id": "ce256f00"
      },
      "outputs": [],
      "source": [
        "promo = promo.rename(columns = {'index' : '행사번호'})"
      ]
    },
    {
      "cell_type": "code",
      "execution_count": null,
      "id": "aaf08307",
      "metadata": {
        "id": "aaf08307"
      },
      "outputs": [],
      "source": [
        "promo_com = pd.merge(promo, df4, on='행사번호', how='inner')"
      ]
    },
    {
      "cell_type": "code",
      "execution_count": null,
      "id": "230750a8",
      "metadata": {
        "id": "230750a8"
      },
      "outputs": [],
      "source": [
        "promo_com['1일 평균 구매건수'] = promo_com['구매건수'] / promo_com['행사진행기간']\n",
        "promo_com['1일 평균 구매금액'] = promo_com['총구매금액'] / promo_com['행사진행기간']\n",
        "promo_com['1일 이용고객수'] = promo_com['이용고객수'] / promo_com['행사진행기간']"
      ]
    },
    {
      "cell_type": "code",
      "execution_count": null,
      "id": "3f3d73e6",
      "metadata": {
        "scrolled": true,
        "id": "3f3d73e6",
        "outputId": "ace55526-4722-403a-dc5e-57ea66d029ba"
      },
      "outputs": [
        {
          "data": {
            "text/html": [
              "<div>\n",
              "<style scoped>\n",
              "    .dataframe tbody tr th:only-of-type {\n",
              "        vertical-align: middle;\n",
              "    }\n",
              "\n",
              "    .dataframe tbody tr th {\n",
              "        vertical-align: top;\n",
              "    }\n",
              "\n",
              "    .dataframe thead th {\n",
              "        text-align: right;\n",
              "    }\n",
              "</style>\n",
              "<table border=\"1\" class=\"dataframe\">\n",
              "  <thead>\n",
              "    <tr style=\"text-align: right;\">\n",
              "      <th></th>\n",
              "      <th>채널</th>\n",
              "      <th>행사명</th>\n",
              "      <th>행사 구분</th>\n",
              "      <th>시작일</th>\n",
              "      <th>종료일</th>\n",
              "      <th>c_시작연도</th>\n",
              "      <th>c_시작월</th>\n",
              "      <th>행사진행기간</th>\n",
              "      <th>이용고객수</th>\n",
              "      <th>1일 이용고객수</th>\n",
              "      <th>구매건수</th>\n",
              "      <th>1인 평균 구매건수</th>\n",
              "      <th>1일 평균 구매건수</th>\n",
              "      <th>총구매금액</th>\n",
              "      <th>1인 평균 구매금액</th>\n",
              "      <th>1일 평균 구매금액</th>\n",
              "    </tr>\n",
              "  </thead>\n",
              "  <tbody>\n",
              "    <tr>\n",
              "      <th>0</th>\n",
              "      <td>온라인</td>\n",
              "      <td>회원 혜택</td>\n",
              "      <td>쿠폰</td>\n",
              "      <td>2019-01-07</td>\n",
              "      <td>2019-01-13</td>\n",
              "      <td>2019</td>\n",
              "      <td>1</td>\n",
              "      <td>7</td>\n",
              "      <td>3733</td>\n",
              "      <td>533.2857</td>\n",
              "      <td>5128</td>\n",
              "      <td>1.3737</td>\n",
              "      <td>732.5714</td>\n",
              "      <td>228999900</td>\n",
              "      <td>61344.7361</td>\n",
              "      <td>32714271.4286</td>\n",
              "    </tr>\n",
              "    <tr>\n",
              "      <th>1</th>\n",
              "      <td>온라인</td>\n",
              "      <td>새학기 행사</td>\n",
              "      <td>쿠폰</td>\n",
              "      <td>2019-01-25</td>\n",
              "      <td>2019-02-28</td>\n",
              "      <td>2019</td>\n",
              "      <td>1</td>\n",
              "      <td>35</td>\n",
              "      <td>21176</td>\n",
              "      <td>605.0286</td>\n",
              "      <td>30643</td>\n",
              "      <td>1.4471</td>\n",
              "      <td>875.5143</td>\n",
              "      <td>1515887400</td>\n",
              "      <td>71585.1624</td>\n",
              "      <td>43311068.5714</td>\n",
              "    </tr>\n",
              "    <tr>\n",
              "      <th>2</th>\n",
              "      <td>오프라인</td>\n",
              "      <td>새학기 행사</td>\n",
              "      <td>단순 할인</td>\n",
              "      <td>2019-01-25</td>\n",
              "      <td>2019-02-12</td>\n",
              "      <td>2019</td>\n",
              "      <td>1</td>\n",
              "      <td>19</td>\n",
              "      <td>10723</td>\n",
              "      <td>564.3684</td>\n",
              "      <td>19267</td>\n",
              "      <td>1.7968</td>\n",
              "      <td>1014.0526</td>\n",
              "      <td>1104751500</td>\n",
              "      <td>103026.3452</td>\n",
              "      <td>58144815.7895</td>\n",
              "    </tr>\n",
              "    <tr>\n",
              "      <th>3</th>\n",
              "      <td>온라인</td>\n",
              "      <td>설 행사</td>\n",
              "      <td>쿠폰</td>\n",
              "      <td>2019-01-31</td>\n",
              "      <td>2019-02-10</td>\n",
              "      <td>2019</td>\n",
              "      <td>1</td>\n",
              "      <td>11</td>\n",
              "      <td>7180</td>\n",
              "      <td>652.7273</td>\n",
              "      <td>9875</td>\n",
              "      <td>1.3753</td>\n",
              "      <td>897.7273</td>\n",
              "      <td>495993500</td>\n",
              "      <td>69079.8747</td>\n",
              "      <td>45090318.1818</td>\n",
              "    </tr>\n",
              "    <tr>\n",
              "      <th>4</th>\n",
              "      <td>오프라인</td>\n",
              "      <td>설 행사</td>\n",
              "      <td>단순 할인, 조건 할인</td>\n",
              "      <td>2019-01-31</td>\n",
              "      <td>2019-02-10</td>\n",
              "      <td>2019</td>\n",
              "      <td>1</td>\n",
              "      <td>11</td>\n",
              "      <td>7492</td>\n",
              "      <td>681.0909</td>\n",
              "      <td>13682</td>\n",
              "      <td>1.8262</td>\n",
              "      <td>1243.8182</td>\n",
              "      <td>778775100</td>\n",
              "      <td>103947.5574</td>\n",
              "      <td>70797736.3636</td>\n",
              "    </tr>\n",
              "  </tbody>\n",
              "</table>\n",
              "</div>"
            ],
            "text/plain": [
              "     채널     행사명         행사 구분        시작일        종료일 c_시작연도 c_시작월  행사진행기간  \\\n",
              "0   온라인   회원 혜택            쿠폰 2019-01-07 2019-01-13   2019     1       7   \n",
              "1   온라인  새학기 행사            쿠폰 2019-01-25 2019-02-28   2019     1      35   \n",
              "2  오프라인  새학기 행사         단순 할인 2019-01-25 2019-02-12   2019     1      19   \n",
              "3   온라인    설 행사            쿠폰 2019-01-31 2019-02-10   2019     1      11   \n",
              "4  오프라인    설 행사  단순 할인, 조건 할인 2019-01-31 2019-02-10   2019     1      11   \n",
              "\n",
              "   이용고객수  1일 이용고객수   구매건수  1인 평균 구매건수  1일 평균 구매건수       총구매금액  1인 평균 구매금액  \\\n",
              "0   3733  533.2857   5128      1.3737    732.5714   228999900  61344.7361   \n",
              "1  21176  605.0286  30643      1.4471    875.5143  1515887400  71585.1624   \n",
              "2  10723  564.3684  19267      1.7968   1014.0526  1104751500 103026.3452   \n",
              "3   7180  652.7273   9875      1.3753    897.7273   495993500  69079.8747   \n",
              "4   7492  681.0909  13682      1.8262   1243.8182   778775100 103947.5574   \n",
              "\n",
              "     1일 평균 구매금액  \n",
              "0 32714271.4286  \n",
              "1 43311068.5714  \n",
              "2 58144815.7895  \n",
              "3 45090318.1818  \n",
              "4 70797736.3636  "
            ]
          },
          "execution_count": 77,
          "metadata": {},
          "output_type": "execute_result"
        }
      ],
      "source": [
        "promo_com = promo_com[['채널', '행사명', '행사 구분', '시작일', '종료일','c_시작연도','c_시작월',  '행사진행기간', \n",
        "                       '이용고객수', '1일 이용고객수', '구매건수', '1인 평균 구매건수', '1일 평균 구매건수', '총구매금액','1인 평균 구매금액', '1일 평균 구매금액' ]]\n",
        "promo_com.head() "
      ]
    },
    {
      "cell_type": "code",
      "execution_count": null,
      "id": "d99dec63",
      "metadata": {
        "id": "d99dec63"
      },
      "outputs": [],
      "source": [
        "pd.set_option('display.max_columns',None) # 전체 열 출력하기\n",
        "pd.set_option('display.max_rows',None) # 전체 행 출력하기"
      ]
    },
    {
      "cell_type": "code",
      "execution_count": null,
      "id": "8878f9a2",
      "metadata": {
        "id": "8878f9a2"
      },
      "outputs": [],
      "source": [
        "promo_com"
      ]
    },
    {
      "cell_type": "code",
      "execution_count": null,
      "id": "57c88795",
      "metadata": {
        "id": "57c88795"
      },
      "outputs": [],
      "source": [
        "pd.set_option('display.max_columns',50) # 전체 열 출력하기\n",
        "pd.set_option('display.max_rows',50) # 전체 행 출력하기"
      ]
    },
    {
      "cell_type": "markdown",
      "id": "4006f4ca",
      "metadata": {
        "id": "4006f4ca"
      },
      "source": [
        "## 2.3 온라인 / 오프라인 이용률"
      ]
    },
    {
      "cell_type": "code",
      "execution_count": null,
      "id": "52f7d2a7",
      "metadata": {
        "id": "52f7d2a7"
      },
      "outputs": [],
      "source": [
        "for i in [ '이용고객수','1일 이용고객수', '구매건수', '1일 평균 구매건수', '총구매금액', '1일 평균 구매금액']:\n",
        "    event = promo_com.groupby(['채널'],as_index=False).agg({i : 'mean'})\n",
        "    display(event)"
      ]
    },
    {
      "cell_type": "markdown",
      "id": "99b5c265",
      "metadata": {
        "id": "99b5c265"
      },
      "source": [
        "- 행사진행기간이 오프라인이 더 긺\n",
        "- 이를 감안하여 1일당 지표를 확인 -> 온라인에서 이용고객, 구매건수 많음"
      ]
    },
    {
      "cell_type": "markdown",
      "id": "08ae5177",
      "metadata": {
        "id": "08ae5177"
      },
      "source": [
        "## 2.4 프로모션 구분 별 이용률"
      ]
    },
    {
      "cell_type": "code",
      "execution_count": null,
      "id": "3a399d29",
      "metadata": {
        "id": "3a399d29"
      },
      "outputs": [],
      "source": [
        "demo = promo_com.copy()\n",
        "demo['행사 구분'] = demo['행사 구분'].str.replace(\" \", \"\")\n",
        "demo['행사 구분'] = demo['행사 구분'].str.split(',')\n",
        "promo_com2 = demo.join(demo['행사 구분'].apply(lambda x: pd.Series(x)).stack().reset_index(1,name='c_행사구분').drop('level_1', axis=1))\n",
        "promo_com2 = promo_com2.drop(labels = '행사 구분', axis=1)\n",
        "promo_com2.groupby(['c_시작연도','c_행사구분'])['이용고객수','1일 이용고객수', '구매건수', '1인 평균 구매건수', '1일 평균 구매건수', '총구매금액', \n",
        "'1인 평균 구매금액','1일 평균 구매금액'].mean()"
      ]
    },
    {
      "cell_type": "markdown",
      "id": "0a827c44",
      "metadata": {
        "id": "0a827c44"
      },
      "source": [
        "#### 연도별 흐름 -온라인/오프라인 나눠서"
      ]
    },
    {
      "cell_type": "code",
      "execution_count": null,
      "id": "3a53dc8c",
      "metadata": {
        "id": "3a53dc8c"
      },
      "outputs": [],
      "source": [
        "demo = promo_com.copy()\n",
        "#demo = demo[demo['채널'] == '온라인']\n",
        "demo['시작일'] = demo['시작일'].astype(str)\n",
        "demo['시작연월'] = demo['시작일'].str[:7]\n",
        "log = demo.groupby(['시작연월','채널'],as_index = False)['1일 이용고객수', '1일 평균 구매건수', '1일 평균 구매금액'].mean()\n",
        "log['연도'] = log['시작연월'].str[:4].astype(int)\n",
        "log['월'] = log['시작연월'].str[5:].astype(int)"
      ]
    },
    {
      "cell_type": "code",
      "execution_count": null,
      "id": "7becb0e7",
      "metadata": {
        "id": "7becb0e7"
      },
      "outputs": [],
      "source": [
        "for i in ['1일 이용고객수', '1일 평균 구매건수', '1일 평균 구매금액'] :\n",
        "    fig = px.line(log, x= '시작연월', \n",
        "              y= i, color = '채널',\n",
        "              title= i + ' - 프로모션 이용 연도별 흐름')\n",
        "    fig.update_layout(xaxis_title='연월',\n",
        "                  yaxis_title='값')\n",
        "    fig.show()"
      ]
    },
    {
      "cell_type": "markdown",
      "id": "fd6c0d99",
      "metadata": {
        "id": "fd6c0d99"
      },
      "source": [
        "#### 월 별 패턴찾기"
      ]
    },
    {
      "cell_type": "code",
      "execution_count": null,
      "id": "19c82836",
      "metadata": {
        "id": "19c82836"
      },
      "outputs": [],
      "source": [
        "demo = promo_com.copy()\n",
        "demo = demo[demo['채널'] == '온라인']\n",
        "demo['시작일'] = demo['시작일'].astype(str)\n",
        "demo['시작연월'] = demo['시작일'].str[:7]\n",
        "log = demo.groupby(['시작연월'],as_index = False)['1일 이용고객수', '1일 평균 구매건수', '1일 평균 구매금액'].mean()\n",
        "log['연도'] = log['시작연월'].str[:4].astype(int)\n",
        "log['월'] = log['시작연월'].str[5:].astype(int)"
      ]
    },
    {
      "cell_type": "code",
      "execution_count": null,
      "id": "b3b44df2",
      "metadata": {
        "id": "b3b44df2"
      },
      "outputs": [],
      "source": [
        "for i in ['1일 이용고객수', '1일 평균 구매건수', '1일 평균 구매금액'] :\n",
        "    fig = px.line(log, x= '월', \n",
        "              y= i,\n",
        "              title= i + ' - 온라인 프로모션 이용 연도별 흐름', color = '연도')\n",
        "    fig.update_layout(xaxis_title='월',\n",
        "                  yaxis_title='값')\n",
        "    fig.show()"
      ]
    },
    {
      "cell_type": "code",
      "execution_count": null,
      "id": "9a0b78b4",
      "metadata": {
        "id": "9a0b78b4"
      },
      "outputs": [],
      "source": [
        "demo = promo_com.copy()\n",
        "demo = demo[demo['채널'] == '오프라인']\n",
        "demo['시작일'] = demo['시작일'].astype(str)\n",
        "demo['시작연월'] = demo['시작일'].str[:7]\n",
        "log = demo.groupby(['시작연월'],as_index = False)['1일 이용고객수', '1일 평균 구매건수', '1일 평균 구매금액'].mean()\n",
        "log['연도'] = log['시작연월'].str[:4].astype(int)\n",
        "log['월'] = log['시작연월'].str[5:].astype(int)"
      ]
    },
    {
      "cell_type": "code",
      "execution_count": null,
      "id": "ee21214e",
      "metadata": {
        "id": "ee21214e"
      },
      "outputs": [],
      "source": [
        "for i in ['1일 이용고객수', '1일 평균 구매건수', '1일 평균 구매금액'] :\n",
        "    fig = px.line(log, x= '월', \n",
        "              y= i,\n",
        "              title= i + ' - 오프라인 프로모션 이용 연도별 흐름', color = '연도')\n",
        "    fig.update_layout(xaxis_title='월',\n",
        "                  yaxis_title='값')\n",
        "    fig.show()"
      ]
    },
    {
      "cell_type": "code",
      "execution_count": null,
      "id": "32bca043",
      "metadata": {
        "id": "32bca043"
      },
      "outputs": [],
      "source": []
    },
    {
      "cell_type": "markdown",
      "id": "cb010f3f",
      "metadata": {
        "id": "cb010f3f"
      },
      "source": [
        "# 3. 프로모션 별 이용 회원 집계"
      ]
    },
    {
      "cell_type": "markdown",
      "id": "9a80b638",
      "metadata": {
        "id": "9a80b638"
      },
      "source": [
        "## 3.1 프로모션 구분 별 이용 현황"
      ]
    },
    {
      "cell_type": "code",
      "execution_count": null,
      "id": "c9c46066",
      "metadata": {
        "id": "c9c46066"
      },
      "outputs": [],
      "source": [
        "demo = promo_com.copy()\n",
        "demo['행사 구분'] = demo['행사 구분'].str.replace(\" \", \"\")\n",
        "demo['행사 구분'] = demo['행사 구분'].str.split(',')\n",
        "promo_com2 = demo.join(demo['행사 구분'].apply(lambda x: pd.Series(x)).stack().reset_index(1,name='c_행사구분').drop('level_1', axis=1))\n",
        "promo_com2 = promo_com2.drop(labels = '행사 구분', axis=1)\n",
        "aa = promo_com2.groupby(['c_시작연도','c_행사구분'])['이용고객수','1일 이용고객수', '구매건수', '1인 평균 구매건수', '1일 평균 구매건수', '총구매금액', \n",
        "'1인 평균 구매금액','1일 평균 구매금액'].mean()"
      ]
    },
    {
      "cell_type": "code",
      "execution_count": null,
      "id": "7a82d99d",
      "metadata": {
        "id": "7a82d99d"
      },
      "outputs": [],
      "source": [
        "aa"
      ]
    },
    {
      "cell_type": "code",
      "execution_count": null,
      "id": "4e2bf5fe",
      "metadata": {
        "id": "4e2bf5fe"
      },
      "outputs": [],
      "source": [
        "aa= promo_com2.groupby(['c_시작연도','c_행사구분'], as_index=False)['이용고객수','1일 이용고객수', '구매건수', '1인 평균 구매건수', '1일 평균 구매건수', '총구매금액', \n",
        "'1인 평균 구매금액','1일 평균 구매금액'].mean()\n",
        "aa = aa[aa['c_시작연도'] == '2022']"
      ]
    },
    {
      "cell_type": "code",
      "execution_count": null,
      "id": "5e9388bf",
      "metadata": {
        "id": "5e9388bf"
      },
      "outputs": [],
      "source": [
        "aa"
      ]
    },
    {
      "cell_type": "code",
      "execution_count": null,
      "id": "d11352d6",
      "metadata": {
        "id": "d11352d6"
      },
      "outputs": [],
      "source": []
    },
    {
      "cell_type": "markdown",
      "id": "14310f79",
      "metadata": {
        "id": "14310f79"
      },
      "source": [
        "## 3.2 2022년에 진행된 프로모션 종류 기준, 회원 특징"
      ]
    },
    {
      "cell_type": "code",
      "execution_count": null,
      "id": "1394fd56",
      "metadata": {
        "id": "1394fd56"
      },
      "outputs": [],
      "source": [
        "demo = order_com[['고유번호', '구매일자','결제가','구매처','행사참여']]\n",
        "demo.행사참여 = demo.행사참여.astype(object)\n",
        "demo2 = demo.explode('행사참여')\n",
        "demo2['행사참여'] = demo2['행사참여'].fillna(value='행사x')\n",
        "demo2 = demo2.rename(columns = {'행사참여' : '행사번호'}).reset_index(drop=True)"
      ]
    },
    {
      "cell_type": "code",
      "execution_count": null,
      "id": "55e32ef9",
      "metadata": {
        "id": "55e32ef9"
      },
      "outputs": [],
      "source": [
        "promo_sample = promo[['행사번호', '행사 구분']]\n",
        "promo_sample['행사 구분'] = promo_sample['행사 구분'].str.replace(\" \", \"\")\n",
        "promo_sample['행사 구분'] = promo_sample['행사 구분'].str.split(',')\n",
        "promo_sample = promo_sample.join(promo_sample['행사 구분'].apply(lambda x: pd.Series(x)).stack().reset_index(1,name='c_행사구분').drop('level_1', axis=1))\n",
        "promo_sample = promo_sample.drop(labels = '행사 구분', axis=1)"
      ]
    },
    {
      "cell_type": "code",
      "execution_count": null,
      "id": "19fbff3e",
      "metadata": {
        "id": "19fbff3e"
      },
      "outputs": [],
      "source": [
        "df = pd.merge(demo2, promo_sample, on = '행사번호', how= 'outer')\n",
        "df['구매연도'] = df['구매일자'].dt.year\n",
        "df = df[df['구매연도'] == 2022].reset_index(drop=True)"
      ]
    },
    {
      "cell_type": "code",
      "execution_count": null,
      "id": "b2243564",
      "metadata": {
        "id": "b2243564"
      },
      "outputs": [],
      "source": [
        "df[\"지점키워드\"] = '1'\n",
        "kk = df[df[\"구매처\"].str.contains(\"GS\")]\n",
        "kk[\"지점키워드\"] = \"GS\"\n",
        "df.loc[kk.index,:] = kk\n",
        "\n",
        "kk = df[df[\"구매처\"].str.contains(\"MS\")]\n",
        "kk[\"지점키워드\"] = \"MS\"\n",
        "df.loc[kk.index,:] = kk\n",
        "\n",
        "kk = df[df[\"구매처\"].str.contains(\"ST\")]\n",
        "kk[\"지점키워드\"] = \"ST\"\n",
        "df.loc[kk.index,:] = kk\n",
        "\n",
        "kk = df[df[\"구매처\"].str.contains(\"SP\")]\n",
        "kk[\"지점키워드\"] = \"SP\"\n",
        "df.loc[kk.index,:] = kk\n",
        "\n",
        "kk = df[df[\"구매처\"].str.contains(\"KM\")]\n",
        "kk[\"지점키워드\"] = \"KM\"\n",
        "df.loc[kk.index,:] = kk\n",
        "\n",
        "\n",
        "kk = df[df[\"구매처\"].str.contains(\"OTS\")]\n",
        "kk[\"지점키워드\"] = \"OTS\"\n",
        "df.loc[kk.index,:] = kk\n",
        "\n",
        "\n",
        "kk = df[df[\"구매처\"].str.contains(\"FS\")]\n",
        "kk[\"지점키워드\"] = \"FS\"\n",
        "df.loc[kk.index,:] = kk\n",
        "\n",
        "kk = df[df[\"구매처\"].str.contains(\"ES\")]\n",
        "kk[\"지점키워드\"] = \"ES\"\n",
        "df.loc[kk.index,:] = kk\n",
        "\n",
        "kk = df[df[\"구매처\"].str.contains(\"DS\")]\n",
        "kk[\"지점키워드\"] = \"DS\"\n",
        "df.loc[kk.index,:] = kk\n",
        "\n",
        "kk = df[df[\"구매처\"].str.contains(\"APP\")]\n",
        "kk[\"지점키워드\"] = \"APP\"\n",
        "df.loc[kk.index,:] = kk\n",
        "\n",
        "kk = df[df[\"구매처\"].str.contains(\"Mobile\")]\n",
        "kk[\"지점키워드\"] = \"Mobile\"\n",
        "df.loc[kk.index,:] = kk\n",
        "\n",
        "kk = df[df[\"구매처\"].str.contains(\"PC\")]\n",
        "kk[\"지점키워드\"] = \"PC\"\n",
        "df.loc[kk.index,:] = kk\n",
        "\n",
        "kk = df[df[\"구매처\"].str.contains(\"본사특판\")]\n",
        "kk[\"지점키워드\"] = \"본사특판\"\n",
        "df.loc[kk.index,:] = kk"
      ]
    },
    {
      "cell_type": "code",
      "execution_count": null,
      "id": "8dc9701c",
      "metadata": {
        "id": "8dc9701c"
      },
      "outputs": [],
      "source": [
        "def place(x):\n",
        "    if x=='APP':\n",
        "        return 'APP'\n",
        "    elif x== 'PC':\n",
        "        return 'PC'\n",
        "    elif x== 'Mobile':\n",
        "        return 'Mobile'\n",
        "    else :\n",
        "        return '오프라인'\n",
        "\n",
        "df['지점키워드2'] = df['지점키워드'].apply(place) "
      ]
    },
    {
      "cell_type": "markdown",
      "id": "709ad827",
      "metadata": {
        "id": "709ad827"
      },
      "source": [
        "- 프로모션 참여 o -> 포로모션 별 구매건수에서 차지하는 비중"
      ]
    },
    {
      "cell_type": "code",
      "execution_count": null,
      "id": "1ad2cd6b",
      "metadata": {
        "id": "1ad2cd6b"
      },
      "outputs": [],
      "source": [
        "one = df.groupby(['c_행사구분'],as_index = False).agg({'고유번호' : 'count'}).sort_values(by=['고유번호'], ascending = True).reset_index(drop=True)\n",
        "fig = px.pie(one, values='고유번호', names='c_행사구분', title='전체 건수에서 차지하는 비율', color = 'c_행사구분') \n",
        "fig.update_traces(textposition='inside', textinfo='percent+label')\n",
        "fig.show()"
      ]
    },
    {
      "cell_type": "code",
      "execution_count": null,
      "id": "588b95fd",
      "metadata": {
        "id": "588b95fd",
        "outputId": "c6533dd1-6620-4061-88db-2ebdb3fce79a"
      },
      "outputs": [
        {
          "data": {
            "text/html": [
              "<div>\n",
              "<style scoped>\n",
              "    .dataframe tbody tr th:only-of-type {\n",
              "        vertical-align: middle;\n",
              "    }\n",
              "\n",
              "    .dataframe tbody tr th {\n",
              "        vertical-align: top;\n",
              "    }\n",
              "\n",
              "    .dataframe thead th {\n",
              "        text-align: right;\n",
              "    }\n",
              "</style>\n",
              "<table border=\"1\" class=\"dataframe\">\n",
              "  <thead>\n",
              "    <tr style=\"text-align: right;\">\n",
              "      <th></th>\n",
              "      <th>c_행사구분</th>\n",
              "      <th>고유번호</th>\n",
              "      <th>ratio</th>\n",
              "    </tr>\n",
              "  </thead>\n",
              "  <tbody>\n",
              "    <tr>\n",
              "      <th>0</th>\n",
              "      <td>사은품</td>\n",
              "      <td>177902</td>\n",
              "      <td>0.0451</td>\n",
              "    </tr>\n",
              "    <tr>\n",
              "      <th>1</th>\n",
              "      <td>경품</td>\n",
              "      <td>371803</td>\n",
              "      <td>0.0942</td>\n",
              "    </tr>\n",
              "    <tr>\n",
              "      <th>2</th>\n",
              "      <td>쿠폰</td>\n",
              "      <td>734813</td>\n",
              "      <td>0.1863</td>\n",
              "    </tr>\n",
              "    <tr>\n",
              "      <th>3</th>\n",
              "      <td>조건할인</td>\n",
              "      <td>892471</td>\n",
              "      <td>0.2262</td>\n",
              "    </tr>\n",
              "    <tr>\n",
              "      <th>4</th>\n",
              "      <td>단순할인</td>\n",
              "      <td>1768029</td>\n",
              "      <td>0.4482</td>\n",
              "    </tr>\n",
              "  </tbody>\n",
              "</table>\n",
              "</div>"
            ],
            "text/plain": [
              "  c_행사구분     고유번호  ratio\n",
              "0    사은품   177902 0.0451\n",
              "1     경품   371803 0.0942\n",
              "2     쿠폰   734813 0.1863\n",
              "3   조건할인   892471 0.2262\n",
              "4   단순할인  1768029 0.4482"
            ]
          },
          "execution_count": 108,
          "metadata": {},
          "output_type": "execute_result"
        }
      ],
      "source": [
        "one['ratio'] = one.고유번호 / one.고유번호.sum()\n",
        "one"
      ]
    },
    {
      "cell_type": "code",
      "execution_count": null,
      "id": "f9862b01",
      "metadata": {
        "id": "f9862b01"
      },
      "outputs": [],
      "source": [
        "df1 = df[df['c_행사구분']=='단순할인']\n",
        "df1 = user[user.고유번호.isin(df1.고유번호.unique())] #79만명\n",
        "df2 = df[df['c_행사구분']=='조건할인']\n",
        "df2 = user[user.고유번호.isin(df2.고유번호.unique())] #46만명\n",
        "df3 = df[df['c_행사구분']=='쿠폰']\n",
        "df3 = user[user.고유번호.isin(df3.고유번호.unique())] #40만명\n",
        "df4 = df[df['c_행사구분']=='경품']\n",
        "df4 = user[user.고유번호.isin(df4.고유번호.unique())] #23만명\n",
        "df5 = df[df['c_행사구분']=='사은품']\n",
        "df5 = user[user.고유번호.isin(df5.고유번호.unique())] #11만명"
      ]
    },
    {
      "cell_type": "markdown",
      "id": "9ab08f2a",
      "metadata": {
        "id": "9ab08f2a"
      },
      "source": [
        "## 3.3 2022 단순할인 회원 특징 \n",
        "- 프로모션 기간 내 구매한 경험이 없는 고객이 전체의 19.4%\n",
        "- 기간 내 구매한 경험이 있는 고객 중 할인기간에 구매한 회원의 특징"
      ]
    },
    {
      "cell_type": "code",
      "execution_count": null,
      "id": "614c8c2f",
      "metadata": {
        "id": "614c8c2f"
      },
      "outputs": [],
      "source": [
        "yesuser = user[(user.고유번호.isin(df1.고유번호.unique())) | (user.고유번호.isin(df2.고유번호.unique()))|\n",
        "(user.고유번호.isin(df3.고유번호.unique())) &(user.고유번호.isin(df4.고유번호.unique())) |\n",
        "(user.고유번호.isin(df5.고유번호.unique())) ]"
      ]
    },
    {
      "cell_type": "code",
      "execution_count": null,
      "id": "1e68201a",
      "metadata": {
        "id": "1e68201a"
      },
      "outputs": [],
      "source": [
        "# 2022년 프로모션 기간 내 구매 o vs x 구매 x\n",
        "list1 = ['프로모션 기간 내 구매', '별개 구매']\n",
        "list2 = [853990, 205895]\n",
        "data = pd.DataFrame({'프로모션' : list1, '회원 수':list2})\n",
        "fig = px.pie(data, values='회원 수', names='프로모션', title='프로모션 행사 사용 안하는 고객이 일단 19.4%', color = '프로모션', \n",
        "             color_discrete_map={ '프로모션 기간 내 구매': '#CD5C5C','별개 구매': '#4169E1'}) \n",
        "fig.update_traces(textposition='inside', textinfo='percent+label')\n",
        "fig.show('notebook')"
      ]
    },
    {
      "cell_type": "code",
      "execution_count": null,
      "id": "71860a0c",
      "metadata": {
        "id": "71860a0c"
      },
      "outputs": [],
      "source": [
        "# 2022년 프로모션 기간 내 구매 o vs x 구매 x\n",
        "list1 = ['단순 할인 이용 o 고객', '이용 x 고객']\n",
        "list2 = [df1.고유번호.nunique(), df.고유번호.nunique()-df1.고유번호.nunique()]\n",
        "data = pd.DataFrame({'프로모션' : list1, '회원 수':list2})\n",
        "fig = px.pie(data, values='회원 수', names='프로모션', title='단순할인 이용 고객 75%', color = '프로모션', \n",
        "             color_discrete_map={ '단순 할인 이용 o 고객': '#CD5C5C','이용 x 고객': '#4169E1'}) \n",
        "fig.update_traces(textposition='inside', textinfo='percent+label')\n",
        "fig.show('notebook')"
      ]
    },
    {
      "cell_type": "code",
      "execution_count": null,
      "id": "293fdfba",
      "metadata": {
        "id": "293fdfba"
      },
      "outputs": [],
      "source": [
        "# 성별\n",
        "sex = df1.groupby(['성별'],as_index = False).agg({'고유번호':'count'}).sort_values(by=['성별'], ascending = True)\n",
        "sex['퍼센트'] = sex['고유번호'] / sex['고유번호'].sum() *100\n",
        "sex"
      ]
    },
    {
      "cell_type": "code",
      "execution_count": null,
      "id": "e06d98bd",
      "metadata": {
        "id": "e06d98bd"
      },
      "outputs": [],
      "source": [
        "# 연령별\n",
        "age = df1.groupby(['연령대'],as_index = False).agg({'고유번호':'count'}).sort_values(by=['연령대'], ascending = True)\n",
        "age['퍼센트'] = age['고유번호'] / age['고유번호'].sum() *100\n",
        "age"
      ]
    },
    {
      "cell_type": "code",
      "execution_count": null,
      "id": "15acacf2",
      "metadata": {
        "id": "15acacf2"
      },
      "outputs": [],
      "source": [
        "age['연령대2']='60세 이상'\n",
        "age['연령대2'] = np.where(age['연령대']=='19세 미만', '10대 이하',age['연령대2'])\n",
        "age['연령대2'] = np.where((age['연령대']=='20-24세')|(age['연령대']=='25-29세'), '20대',age['연령대2'])\n",
        "age['연령대2'] = np.where((age['연령대']=='30~34세')|(age['연령대']=='35~39세'), '30대',age['연령대2'])\n",
        "age['연령대2'] = np.where((age['연령대']=='40~44세')|(age['연령대']=='45~49세'), '40대',age['연령대2'])\n",
        "age['연령대2'] = np.where((age['연령대']=='50~54세')|(age['연령대']=='55~59세'), '50대',age['연령대2'])\n",
        "\n",
        "age = df1.groupby(['연령대2'],as_index = False).agg({'고유번호':'count'}).sort_values(by=['연령대2'], ascending = True)\n",
        "age['퍼센트'] = age['고유번호'] / age['고유번호'].sum() *100\n",
        "age"
      ]
    },
    {
      "cell_type": "code",
      "execution_count": null,
      "id": "b546e549",
      "metadata": {
        "id": "b546e549"
      },
      "outputs": [],
      "source": [
        "# 구매처 차이\n",
        "df1 = df[df['c_행사구분']=='단순할인']\n",
        "\n",
        "place = df1.groupby(['지점키워드2'],as_index = False).agg({'고유번호':'count'}).sort_values(by=['고유번호'], ascending = True).reset_index(drop=True)\n",
        "place['ratio'] = place.고유번호 / place.고유번호.sum() * 100\n",
        "place"
      ]
    },
    {
      "cell_type": "markdown",
      "id": "e4c893cd",
      "metadata": {
        "id": "e4c893cd"
      },
      "source": [
        "## 3.4 2022 조건할인 회원 특징 \n"
      ]
    },
    {
      "cell_type": "code",
      "execution_count": null,
      "id": "d6d54b2c",
      "metadata": {
        "id": "d6d54b2c"
      },
      "outputs": [],
      "source": [
        "# 2022년 프로모션 기간 내 구매 o vs x 구매 x\n",
        "list1 = ['조건할인 이용 o 고객', '이용 x 고객']\n",
        "list2 = [df2.고유번호.nunique(), df.고유번호.nunique()-df2.고유번호.nunique()]\n",
        "data = pd.DataFrame({'프로모션' : list1, '회원 수':list2})\n",
        "fig = px.pie(data, values='회원 수', names='프로모션', title='조건할인 이용 고객 44.3%%', color = '프로모션', \n",
        "             color_discrete_map={ '조건할인 이용 o 고객': '#CD5C5C','이용 x 고객': '#4169E1'}) \n",
        "fig.update_traces(textposition='inside', textinfo='percent+label')\n",
        "fig.show('notebook')"
      ]
    },
    {
      "cell_type": "markdown",
      "id": "de85af3e",
      "metadata": {
        "id": "de85af3e"
      },
      "source": [
        "- 전제조건이 붙으면 이용을 덜하게 되는 경향"
      ]
    },
    {
      "cell_type": "code",
      "execution_count": null,
      "id": "a0665b0f",
      "metadata": {
        "id": "a0665b0f"
      },
      "outputs": [],
      "source": [
        "# 성별\n",
        "sex = df2.groupby(['성별'],as_index = False).agg({'고유번호':'count'}).sort_values(by=['성별'], ascending = True)\n",
        "sex['퍼센트'] = sex['고유번호'] / sex['고유번호'].sum() *100\n",
        "fig = px.pie(sex, values='고유번호', names='성별', title='성별 - 여성 > 남성', color = '성별', \n",
        "             color_discrete_map={ 'F': '#CD5C5C','M': '#4169E1'}) \n",
        "fig.update_traces(textposition='inside', textinfo='percent+label')\n",
        "fig.show()"
      ]
    },
    {
      "cell_type": "code",
      "execution_count": null,
      "id": "d061c972",
      "metadata": {
        "id": "d061c972"
      },
      "outputs": [],
      "source": [
        "# 연령별\n",
        "age = df2.groupby(['연령대'],as_index = False).agg({'고유번호':'count'}).sort_values(by=['연령대'], ascending = True)\n",
        "age['퍼센트'] = age['고유번호'] / age['고유번호'].sum() *100\n",
        "age"
      ]
    },
    {
      "cell_type": "code",
      "execution_count": null,
      "id": "8e7be919",
      "metadata": {
        "id": "8e7be919"
      },
      "outputs": [],
      "source": [
        "age['연령대2']='60세 이상'\n",
        "age['연령대2'] = np.where(age['연령대']=='19세 미만', '10대 이하',age['연령대2'])\n",
        "age['연령대2'] = np.where((age['연령대']=='20-24세')|(age['연령대']=='25-29세'), '20대',age['연령대2'])\n",
        "age['연령대2'] = np.where((age['연령대']=='30~34세')|(age['연령대']=='35~39세'), '30대',age['연령대2'])\n",
        "age['연령대2'] = np.where((age['연령대']=='40~44세')|(age['연령대']=='45~49세'), '40대',age['연령대2'])\n",
        "age['연령대2'] = np.where((age['연령대']=='50~54세')|(age['연령대']=='55~59세'), '50대',age['연령대2'])\n",
        "age = df2.groupby(['연령대2'],as_index = False).agg({'고유번호':'count'}).sort_values(by=['연령대2'], ascending = True)\n",
        "age['퍼센트'] = age['고유번호'] / age['고유번호'].sum() *100\n",
        "age"
      ]
    },
    {
      "cell_type": "code",
      "execution_count": null,
      "id": "0660f0dd",
      "metadata": {
        "id": "0660f0dd",
        "outputId": "1fc287cc-37d0-4d27-ba62-510bf42081d9"
      },
      "outputs": [
        {
          "data": {
            "text/html": [
              "<div>\n",
              "<style scoped>\n",
              "    .dataframe tbody tr th:only-of-type {\n",
              "        vertical-align: middle;\n",
              "    }\n",
              "\n",
              "    .dataframe tbody tr th {\n",
              "        vertical-align: top;\n",
              "    }\n",
              "\n",
              "    .dataframe thead th {\n",
              "        text-align: right;\n",
              "    }\n",
              "</style>\n",
              "<table border=\"1\" class=\"dataframe\">\n",
              "  <thead>\n",
              "    <tr style=\"text-align: right;\">\n",
              "      <th></th>\n",
              "      <th>지점키워드2</th>\n",
              "      <th>고유번호</th>\n",
              "      <th>ratio</th>\n",
              "    </tr>\n",
              "  </thead>\n",
              "  <tbody>\n",
              "    <tr>\n",
              "      <th>0</th>\n",
              "      <td>PC</td>\n",
              "      <td>44407</td>\n",
              "      <td>4.9757</td>\n",
              "    </tr>\n",
              "    <tr>\n",
              "      <th>1</th>\n",
              "      <td>Mobile</td>\n",
              "      <td>103095</td>\n",
              "      <td>11.5516</td>\n",
              "    </tr>\n",
              "    <tr>\n",
              "      <th>2</th>\n",
              "      <td>APP</td>\n",
              "      <td>160266</td>\n",
              "      <td>17.9576</td>\n",
              "    </tr>\n",
              "    <tr>\n",
              "      <th>3</th>\n",
              "      <td>오프라인</td>\n",
              "      <td>584703</td>\n",
              "      <td>65.5151</td>\n",
              "    </tr>\n",
              "  </tbody>\n",
              "</table>\n",
              "</div>"
            ],
            "text/plain": [
              "   지점키워드2    고유번호   ratio\n",
              "0      PC   44407  4.9757\n",
              "1  Mobile  103095 11.5516\n",
              "2     APP  160266 17.9576\n",
              "3    오프라인  584703 65.5151"
            ]
          },
          "execution_count": 127,
          "metadata": {},
          "output_type": "execute_result"
        }
      ],
      "source": [
        "# 구매처 차이\n",
        "df2 = df[df['c_행사구분']=='조건할인']\n",
        "\n",
        "place = df2.groupby(['지점키워드2'],as_index = False).agg({'고유번호':'count'}).sort_values(by=['고유번호'], ascending = True).reset_index(drop=True)\n",
        "place['ratio'] = place.고유번호 / place.고유번호.sum() * 100\n",
        "place"
      ]
    },
    {
      "cell_type": "code",
      "execution_count": null,
      "id": "d9f7b606",
      "metadata": {
        "id": "d9f7b606"
      },
      "outputs": [],
      "source": []
    },
    {
      "cell_type": "markdown",
      "id": "d78263be",
      "metadata": {
        "id": "d78263be"
      },
      "source": [
        "## 3.3 2022 쿠폰 회원 특징 \n"
      ]
    },
    {
      "cell_type": "code",
      "execution_count": null,
      "id": "ad91d0f2",
      "metadata": {
        "id": "ad91d0f2"
      },
      "outputs": [],
      "source": [
        "# 2022년 프로모션 기간 내 구매 o vs x 구매 x\n",
        "list1 = ['쿠폰 이용 o 고객', '이용 x 고객']\n",
        "list2 = [df3.고유번호.nunique(), df.고유번호.nunique()-df3.고유번호.nunique()]\n",
        "data = pd.DataFrame({'프로모션' : list1, '회원 수':list2})\n",
        "fig = px.pie(data, values='회원 수', names='프로모션', title='쿠폰 이용 고객 62.1%', color = '프로모션', \n",
        "             color_discrete_map={ '쿠폰 이용 o 고객': '#CD5C5C','이용 x 고객': '#4169E1'}) \n",
        "fig.update_traces(textposition='inside', textinfo='percent+label')\n",
        "fig.show('notebook')"
      ]
    },
    {
      "cell_type": "code",
      "execution_count": null,
      "id": "cf5f1582",
      "metadata": {
        "id": "cf5f1582"
      },
      "outputs": [],
      "source": [
        "# 성별\n",
        "sex = df3.groupby(['성별'],as_index = False).agg({'고유번호':'count'}).sort_values(by=['성별'], ascending = True)\n",
        "sex['퍼센트'] = sex['고유번호'] / sex['고유번호'].sum() *100\n",
        "sex"
      ]
    },
    {
      "cell_type": "code",
      "execution_count": null,
      "id": "fc46b70b",
      "metadata": {
        "id": "fc46b70b"
      },
      "outputs": [],
      "source": [
        "# 연령별\n",
        "age = df3.groupby(['연령대'],as_index = False).agg({'고유번호':'count'}).sort_values(by=['연령대'], ascending = True)\n",
        "age['퍼센트'] = age['고유번호'] / age['고유번호'].sum() *100\n",
        "age"
      ]
    },
    {
      "cell_type": "code",
      "execution_count": null,
      "id": "493b7cb3",
      "metadata": {
        "id": "493b7cb3"
      },
      "outputs": [],
      "source": [
        "age['연령대2']='60세 이상'\n",
        "age['연령대2'] = np.where(age['연령대']=='19세 미만', '10대 이하',age['연령대2'])\n",
        "age['연령대2'] = np.where((age['연령대']=='20-24세')|(age['연령대']=='25-29세'), '20대',age['연령대2'])\n",
        "age['연령대2'] = np.where((age['연령대']=='30~34세')|(age['연령대']=='35~39세'), '30대',age['연령대2'])\n",
        "age['연령대2'] = np.where((age['연령대']=='40~44세')|(age['연령대']=='45~49세'), '40대',age['연령대2'])\n",
        "age['연령대2'] = np.where((age['연령대']=='50~54세')|(age['연령대']=='55~59세'), '50대',age['연령대2'])\n",
        "\n",
        "age = df3.groupby(['연령대2'],as_index = False).agg({'고유번호':'count'}).sort_values(by=['연령대2'], ascending = True)\n",
        "age['퍼센트'] = age['고유번호'] / age['고유번호'].sum() *100\n",
        "age"
      ]
    },
    {
      "cell_type": "code",
      "execution_count": null,
      "id": "a03c9089",
      "metadata": {
        "id": "a03c9089"
      },
      "outputs": [],
      "source": [
        "# 구매처 차이\n",
        "df3 = df[df['c_행사구분']=='쿠폰']\n",
        "\n",
        "place = df3.groupby(['지점키워드2'],as_index = False).agg({'고유번호':'count'}).sort_values(by=['고유번호'], ascending = True).reset_index(drop=True)\n",
        "place['ratio'] = place.고유번호 / place.고유번호.sum() * 100\n",
        "place"
      ]
    },
    {
      "cell_type": "code",
      "execution_count": null,
      "id": "9794f3ab",
      "metadata": {
        "id": "9794f3ab"
      },
      "outputs": [],
      "source": []
    },
    {
      "cell_type": "markdown",
      "id": "4f087e3c",
      "metadata": {
        "id": "4f087e3c"
      },
      "source": [
        "## 3.4 2022 온라인 프로모션 이용고객 중 pc,모바일,앱으로 구매한 고객 비중"
      ]
    },
    {
      "cell_type": "code",
      "execution_count": null,
      "id": "aea7149c",
      "metadata": {
        "id": "aea7149c"
      },
      "outputs": [],
      "source": [
        "demo = order_online[['고유번호', '구매일자','결제가','구매처','행사참여']]\n",
        "demo.행사참여 = demo.행사참여.astype(object)\n",
        "demo2 = demo.explode('행사참여')\n",
        "demo2['행사참여'] = demo2['행사참여'].fillna(value='행사x')\n",
        "demo2 = demo2.rename(columns = {'행사참여' : '행사번호'}).reset_index(drop=True)"
      ]
    },
    {
      "cell_type": "code",
      "execution_count": null,
      "id": "9a740ef4",
      "metadata": {
        "id": "9a740ef4"
      },
      "outputs": [],
      "source": [
        "dd = demo2[demo2['행사번호'] != '행사x']\n",
        "dd = pd.merge(dd, promo[['행사번호', '채널']], on = '행사번호', how = 'left')"
      ]
    },
    {
      "cell_type": "code",
      "execution_count": null,
      "id": "6633a861",
      "metadata": {
        "id": "6633a861"
      },
      "outputs": [],
      "source": [
        "dd[\"지점키워드\"] = '1'\n",
        "kk = dd[dd[\"구매처\"].str.contains(\"GS\")]\n",
        "kk[\"지점키워드\"] = \"GS\"\n",
        "dd.loc[kk.index,:] = kk\n",
        "\n",
        "kk = dd[dd[\"구매처\"].str.contains(\"MS\")]\n",
        "kk[\"지점키워드\"] = \"MS\"\n",
        "dd.loc[kk.index,:] = kk\n",
        "\n",
        "kk = dd[dd[\"구매처\"].str.contains(\"ST\")]\n",
        "kk[\"지점키워드\"] = \"ST\"\n",
        "dd.loc[kk.index,:] = kk\n",
        "\n",
        "kk = dd[dd[\"구매처\"].str.contains(\"SP\")]\n",
        "kk[\"지점키워드\"] = \"SP\"\n",
        "dd.loc[kk.index,:] = kk\n",
        "\n",
        "kk = dd[dd[\"구매처\"].str.contains(\"KM\")]\n",
        "kk[\"지점키워드\"] = \"KM\"\n",
        "dd.loc[kk.index,:] = kk\n",
        "\n",
        "\n",
        "kk = dd[dd[\"구매처\"].str.contains(\"OTS\")]\n",
        "kk[\"지점키워드\"] = \"OTS\"\n",
        "dd.loc[kk.index,:] = kk\n",
        "\n",
        "\n",
        "kk = dd[dd[\"구매처\"].str.contains(\"FS\")]\n",
        "kk[\"지점키워드\"] = \"FS\"\n",
        "dd.loc[kk.index,:] = kk\n",
        "\n",
        "kk = dd[dd[\"구매처\"].str.contains(\"ES\")]\n",
        "kk[\"지점키워드\"] = \"ES\"\n",
        "dd.loc[kk.index,:] = kk\n",
        "\n",
        "kk = dd[dd[\"구매처\"].str.contains(\"DS\")]\n",
        "kk[\"지점키워드\"] = \"DS\"\n",
        "dd.loc[kk.index,:] = kk\n",
        "\n",
        "kk = dd[dd[\"구매처\"].str.contains(\"APP\")]\n",
        "kk[\"지점키워드\"] = \"APP\"\n",
        "dd.loc[kk.index,:] = kk\n",
        "\n",
        "kk = dd[dd[\"구매처\"].str.contains(\"Mobile\")]\n",
        "kk[\"지점키워드\"] = \"Mobile\"\n",
        "dd.loc[kk.index,:] = kk\n",
        "\n",
        "kk = dd[dd[\"구매처\"].str.contains(\"PC\")]\n",
        "kk[\"지점키워드\"] = \"PC\"\n",
        "dd.loc[kk.index,:] = kk\n",
        "\n",
        "kk = dd[dd[\"구매처\"].str.contains(\"본사특판\")]\n",
        "kk[\"지점키워드\"] = \"본사특판\"\n",
        "dd.loc[kk.index,:] = kk"
      ]
    },
    {
      "cell_type": "code",
      "execution_count": null,
      "id": "e835d0d1",
      "metadata": {
        "id": "e835d0d1"
      },
      "outputs": [],
      "source": [
        "def place(x):\n",
        "    if x=='APP':\n",
        "        return 'APP'\n",
        "    elif x== 'PC':\n",
        "        return 'PC'\n",
        "    elif x== 'Mobile':\n",
        "        return 'Mobile'\n",
        "    else :\n",
        "        return '오프라인'\n",
        "\n",
        "dd['지점키워드2'] = dd['지점키워드'].apply(place) "
      ]
    },
    {
      "cell_type": "code",
      "execution_count": null,
      "id": "ad627d79",
      "metadata": {
        "id": "ad627d79"
      },
      "outputs": [],
      "source": [
        "# 주 구매처\n",
        "place = dd.groupby('지점키워드2', as_index = False).agg({'고유번호':'count'})\n",
        "place['ratio'] = place.고유번호 / place.고유번호.sum() * 100\n",
        "place"
      ]
    }
  ],
  "metadata": {
    "kernelspec": {
      "display_name": "Python 3 (ipykernel)",
      "language": "python",
      "name": "python3"
    },
    "language_info": {
      "codemirror_mode": {
        "name": "ipython",
        "version": 3
      },
      "file_extension": ".py",
      "mimetype": "text/x-python",
      "name": "python",
      "nbconvert_exporter": "python",
      "pygments_lexer": "ipython3",
      "version": "3.9.13"
    },
    "colab": {
      "provenance": []
    }
  },
  "nbformat": 4,
  "nbformat_minor": 5
}