{
  "cells": [
    {
      "cell_type": "markdown",
      "source": [
        "# 데이터 불러오기"
      ],
      "metadata": {
        "id": "7Gzda9Yb9WzI"
      },
      "id": "7Gzda9Yb9WzI"
    },
    {
      "cell_type": "code",
      "execution_count": null,
      "id": "38f42700",
      "metadata": {
        "id": "38f42700"
      },
      "outputs": [],
      "source": [
        "import pandas as pd\n",
        "from glob import glob\n",
        "import os\n",
        "import numpy as np\n",
        "from tqdm import tqdm, tqdm_notebook\n",
        "import plotly.offline as pyo\n",
        "import matplotlib.pyplot as plt\n",
        "import plotly.express as px\n",
        "import plotly.graph_objects as go\n",
        "\n",
        "from datetime import datetime\n",
        "from datetime import date"
      ]
    },
    {
      "cell_type": "code",
      "execution_count": null,
      "id": "951e26a4",
      "metadata": {
        "id": "951e26a4"
      },
      "outputs": [],
      "source": [
        "import plotly.io as pio\n",
        "pio.renderers.default = \"plotly_mimetype+notebook\""
      ]
    },
    {
      "cell_type": "code",
      "execution_count": null,
      "id": "6fdefac2",
      "metadata": {
        "id": "6fdefac2"
      },
      "outputs": [],
      "source": [
        "pd.options.display.float_format = '{:.4f}'.format"
      ]
    },
    {
      "cell_type": "code",
      "execution_count": null,
      "id": "cabaf074",
      "metadata": {
        "id": "cabaf074"
      },
      "outputs": [],
      "source": [
        "import warnings\n",
        "warnings.filterwarnings(action='ignore')"
      ]
    },
    {
      "cell_type": "code",
      "execution_count": null,
      "id": "bf9368a7",
      "metadata": {
        "id": "bf9368a7"
      },
      "outputs": [],
      "source": [
        "%matplotlib inline\n",
        "from matplotlib import font_manager, rc\n",
        "import matplotlib.pyplot as plt\n",
        "import platform\n",
        "\n",
        "path = \"c:/Windows/Fonts/malgun.ttf\"\n",
        "if platform.system() == 'Darwin':\n",
        "    rc('font', family='AppleGothic')\n",
        "rc('axes', unicode_minus=False)  "
      ]
    },
    {
      "cell_type": "code",
      "execution_count": null,
      "id": "ce0d05d9",
      "metadata": {
        "id": "ce0d05d9"
      },
      "outputs": [],
      "source": [
        "#pd.set_option('display.max_columns',None) # 전체 열 출력하기\n",
        "#pd.set_option('display.max_rows',None) # 전체 행 출력하기"
      ]
    },
    {
      "cell_type": "code",
      "execution_count": null,
      "id": "7423bfc3",
      "metadata": {
        "id": "7423bfc3"
      },
      "outputs": [],
      "source": [
        "# go to file\n",
        "os.chdir('../DATA_raw2')"
      ]
    },
    {
      "cell_type": "code",
      "execution_count": null,
      "id": "be7bd5b8",
      "metadata": {
        "id": "be7bd5b8"
      },
      "outputs": [],
      "source": [
        "user = pd.read_pickle(\"../TBWA/user_fin.pkl\")\n",
        "order = pd.read_pickle(\"../TBWA/order_fin.pkl\")"
      ]
    },
    {
      "cell_type": "code",
      "execution_count": null,
      "id": "747452e7",
      "metadata": {
        "id": "747452e7"
      },
      "outputs": [],
      "source": [
        "user_info = pd.read_pickle('../DATA_raw2/도소매제거info.pkl')"
      ]
    },
    {
      "cell_type": "code",
      "execution_count": null,
      "id": "4a239e21",
      "metadata": {
        "id": "4a239e21",
        "outputId": "9a02afc4-0c0a-459b-ff0c-7b634796b246"
      },
      "outputs": [
        {
          "name": "stdout",
          "output_type": "stream",
          "text": [
            "1907989\n",
            "4928381\n"
          ]
        }
      ],
      "source": [
        "print(len(user))\n",
        "print(len(order))"
      ]
    },
    {
      "cell_type": "markdown",
      "id": "8186be20",
      "metadata": {
        "id": "8186be20"
      },
      "source": [
        "# 비구매자 분석"
      ]
    },
    {
      "cell_type": "code",
      "execution_count": null,
      "id": "1dd2bbb0",
      "metadata": {
        "id": "1dd2bbb0"
      },
      "outputs": [],
      "source": [
        "data = order.groupby('고유번호', as_index=False).agg({'구매일자':'nunique'})\n",
        "yes = user[user.고유번호.isin(data.고유번호.unique())]"
      ]
    },
    {
      "cell_type": "code",
      "execution_count": null,
      "id": "14ede559",
      "metadata": {
        "id": "14ede559"
      },
      "outputs": [],
      "source": [
        "yes['c_PC로그인횟수(누적)'] = yes['PC로그인횟수_2020'] + yes['PC로그인횟수_2021'] + yes['PC로그인횟수_2022']\n",
        "yes['c_모바일로그인횟수(누적)'] = yes['모바일로그인횟수_2020'] + yes['모바일로그인횟수_2021'] + yes['모바일로그인횟수_2022']\n",
        "yes['c_앱로그인횟수(누적)'] = yes['앱로그인횟수_2020'] + yes['앱로그인횟수_2021'] + yes['앱로그인횟수_2022']\n",
        "yes['총 로그인횟수'] = yes['c_PC로그인횟수(누적)'] + yes['c_모바일로그인횟수(누적)'] + yes['c_앱로그인횟수(누적)']\n",
        "yes['c_년간포인트사용액(누적)'] = yes['년간포인트사용액_2020'] + yes['년간포인트사용액_2021'] + yes['년간포인트사용액_2022']\n",
        "yes['c_출석체크_응모건수(누적)'] = yes['출석체크_응모건수_2020'] + yes['출석체크_응모건수_2021'] + yes['출석체크_응모건수_2022']\n",
        "yes['c_출석체크_응모건수(누적)'] = yes['출석체크_응모건수_2020'] + yes['출석체크_응모건수_2021'] + yes['출석체크_응모건수_2022']\n",
        "yes['c_출석체크_참여일수(누적)'] = yes['출석체크_참여일수_2020'] + yes['출석체크_참여일수_2021'] + yes['출석체크_참여일수_2022']\n",
        "yes['c_일반이벤트_응모건수(누적)'] = yes['일반이벤트_응모건수_2020'] + yes['일반이벤트_응모건수_2021'] + yes['일반이벤트_응모건수_2022']\n",
        "yes['c_드로우 응모건수(누적)'] = yes['드로우 응모건수_2020'] + yes['드로우 응모건수_2021'] + yes['드로우 응모건수_2022']"
      ]
    },
    {
      "cell_type": "code",
      "execution_count": null,
      "id": "39e6d618",
      "metadata": {
        "id": "39e6d618"
      },
      "outputs": [],
      "source": [
        "yes = yes [['고유번호', '성별', '연령대', '주소', '가입처', '최초가입일', '최종가입일', '최종탈퇴일', '재가입횟수',\n",
        "        '리뷰작성건수', '연령대2',\n",
        "       'c_PC로그인횟수(누적)', 'c_모바일로그인횟수(누적)', 'c_앱로그인횟수(누적)', '총 로그인횟수',\n",
        "       'c_년간포인트사용액(누적)', 'c_출석체크_응모건수(누적)', 'c_출석체크_참여일수(누적)',\n",
        "       'c_일반이벤트_응모건수(누적)', 'c_드로우 응모건수(누적)']]"
      ]
    },
    {
      "cell_type": "code",
      "execution_count": null,
      "id": "b8c578b8",
      "metadata": {
        "id": "b8c578b8"
      },
      "outputs": [],
      "source": [
        "# 구매자 특징\n",
        "a_1 = yes.describe().T.reset_index()\n",
        "a_1"
      ]
    },
    {
      "cell_type": "code",
      "execution_count": null,
      "id": "72a42a18",
      "metadata": {
        "id": "72a42a18"
      },
      "outputs": [],
      "source": [
        "# 0값들을 제외하고\n",
        "df = pd.DataFrame()\n",
        "for i in a_1['index'].unique() : \n",
        "    a = yes[yes[i] != 0].reset_index(drop=True)\n",
        "    a = a.describe()[i].reset_index().set_index('index').T\n",
        "    fin = a\n",
        "    df = df.append(fin, ignore_index=True)\n",
        "ee = pd.DataFrame({'변수 명' : a_1['index'].unique()})\n",
        "ee = pd.concat([ee,df], axis =1).reset_index(drop=True)\n",
        "ee"
      ]
    },
    {
      "cell_type": "markdown",
      "id": "72aea6cf",
      "metadata": {
        "id": "72aea6cf"
      },
      "source": [
        "### 비구매자 특징"
      ]
    },
    {
      "cell_type": "code",
      "execution_count": null,
      "id": "446eddbe",
      "metadata": {
        "id": "446eddbe"
      },
      "outputs": [],
      "source": [
        "data = order.groupby('고유번호', as_index=False).agg({'구매일자':'nunique'})\n",
        "non = user[~user.고유번호.isin(data.고유번호.unique())]"
      ]
    },
    {
      "cell_type": "code",
      "execution_count": null,
      "id": "7dd074b6",
      "metadata": {
        "id": "7dd074b6"
      },
      "outputs": [],
      "source": [
        "a_1 = non.describe().T.reset_index()\n",
        "a_1"
      ]
    },
    {
      "cell_type": "code",
      "execution_count": null,
      "id": "d223b55a",
      "metadata": {
        "id": "d223b55a"
      },
      "outputs": [],
      "source": [
        "# 0값들을 제외하고\n",
        "df = pd.DataFrame()\n",
        "for i in a_1['index'].unique() : \n",
        "    a = non[non[i] != 0].reset_index(drop=True)\n",
        "    a = a.describe()[i].reset_index().set_index('index').T\n",
        "    fin = a\n",
        "    df = df.append(fin, ignore_index=True)\n",
        "ee = pd.DataFrame({'변수 명' : a_1['index'].unique()})\n",
        "ee = pd.concat([ee,df], axis =1).reset_index(drop=True)\n",
        "ee"
      ]
    },
    {
      "cell_type": "code",
      "execution_count": null,
      "id": "21310c7b",
      "metadata": {
        "id": "21310c7b"
      },
      "outputs": [],
      "source": [
        "# 성별\n",
        "sex = non.groupby(['성별'],as_index = False).agg({'고유번호':'count'}).sort_values(by=['성별'], ascending = True)\n",
        "\n",
        "fig = px.pie(sex, values='고유번호', names='성별', title='비구매자 성별비율', color = '성별', \n",
        "             color_discrete_map={ 'F': '#CD5C5C','M': '#4169E1'}) \n",
        "fig.update_traces(textposition='inside', textinfo='percent+label')\n",
        "fig.show()"
      ]
    },
    {
      "cell_type": "code",
      "execution_count": null,
      "id": "767b587a",
      "metadata": {
        "id": "767b587a"
      },
      "outputs": [],
      "source": [
        "age = non.groupby(['연령대'],as_index = False).agg({'고유번호':'count'}).sort_values(by=['연령대'], ascending = True)\n",
        "age['퍼센트'] = age['고유번호'] / age['고유번호'].sum() *100\n",
        "\n",
        "# 연령별 차이\n",
        "# plotting\n",
        "fig = px.bar(age, \n",
        "              x='연령대', \n",
        "              y='퍼센트', \n",
        "              title='연령 구성', color=\"연령대\", text_auto='.3s')\n",
        "fig.update_layout(xaxis_title='연령대',\n",
        "                  yaxis_title='퍼센트')\n",
        "\n",
        "#fig.show()"
      ]
    },
    {
      "cell_type": "markdown",
      "id": "01264440",
      "metadata": {
        "id": "01264440"
      },
      "source": [
        "### 이벤트 참여, 온라인 접속 비교"
      ]
    },
    {
      "cell_type": "code",
      "execution_count": null,
      "id": "4ab020e6",
      "metadata": {
        "id": "4ab020e6"
      },
      "outputs": [],
      "source": [
        "non['연령대2']='60세 이상'\n",
        "non['연령대2'] = np.where(non['연령대']=='19세 미만', '10대 이하',non['연령대2'])\n",
        "non['연령대2'] = np.where((non['연령대']=='20-24세')|(non['연령대']=='25-29세'), '20대', non['연령대2'])\n",
        "non['연령대2'] = np.where((non['연령대']=='30~34세')|(non['연령대']=='35~39세'), '30대',non['연령대2'])\n",
        "non['연령대2'] = np.where((non['연령대']=='40~44세')|(non['연령대']=='45~49세'), '40대',non['연령대2'])\n",
        "non['연령대2'] = np.where((non['연령대']=='50~54세')|(non['연령대']=='55~59세'), '50대',non['연령대2'])"
      ]
    },
    {
      "cell_type": "code",
      "execution_count": null,
      "id": "feb9e9ea",
      "metadata": {
        "id": "feb9e9ea"
      },
      "outputs": [],
      "source": [
        "non_list = ['c_PC로그인횟수(누적)', 'c_모바일로그인횟수(누적)', 'c_앱로그인횟수(누적)', '총 로그인횟수',\n",
        "       'c_년간포인트사용액(누적)', 'c_출석체크_응모건수(누적)', 'c_출석체크_참여일수(누적)',\n",
        "       'c_일반이벤트_응모건수(누적)', 'c_드로우 응모건수(누적)']"
      ]
    },
    {
      "cell_type": "code",
      "execution_count": null,
      "id": "a523e3e3",
      "metadata": {
        "id": "a523e3e3"
      },
      "outputs": [],
      "source": [
        "non['c_PC로그인횟수(누적)'] = non['PC로그인횟수_2020'] + non['PC로그인횟수_2021'] + non['PC로그인횟수_2022']\n",
        "non['c_모바일로그인횟수(누적)'] = non['모바일로그인횟수_2020'] + non['모바일로그인횟수_2021'] + non['모바일로그인횟수_2022']\n",
        "non['c_앱로그인횟수(누적)'] = non['앱로그인횟수_2020'] + non['앱로그인횟수_2021'] + non['앱로그인횟수_2022']\n",
        "non['총 로그인횟수'] = non['c_PC로그인횟수(누적)'] + non['c_모바일로그인횟수(누적)'] + non['c_앱로그인횟수(누적)']\n",
        "non['c_년간포인트사용액(누적)'] = non['년간포인트사용액_2020'] + non['년간포인트사용액_2021'] + non['년간포인트사용액_2022']\n",
        "non['c_출석체크_응모건수(누적)'] = non['출석체크_응모건수_2020'] + non['출석체크_응모건수_2021'] + non['출석체크_응모건수_2022']\n",
        "non['c_출석체크_응모건수(누적)'] = non['출석체크_응모건수_2020'] + non['출석체크_응모건수_2021'] + non['출석체크_응모건수_2022']\n",
        "non['c_출석체크_참여일수(누적)'] = non['출석체크_참여일수_2020'] + non['출석체크_참여일수_2021'] + non['출석체크_참여일수_2022']\n",
        "non['c_일반이벤트_응모건수(누적)'] = non['일반이벤트_응모건수_2020'] + non['일반이벤트_응모건수_2021'] + non['일반이벤트_응모건수_2022']\n",
        "non['c_드로우 응모건수(누적)'] = non['드로우 응모건수_2020'] + non['드로우 응모건수_2021'] + non['드로우 응모건수_2022']"
      ]
    },
    {
      "cell_type": "code",
      "execution_count": null,
      "id": "6bbad27b",
      "metadata": {
        "id": "6bbad27b"
      },
      "outputs": [],
      "source": [
        "non = non [['고유번호', '성별', '연령대', '주소', '가입처', '최초가입일', '최종가입일', '최종탈퇴일', '재가입횟수',\n",
        "        '리뷰작성건수', '연령대2',\n",
        "       'c_PC로그인횟수(누적)', 'c_모바일로그인횟수(누적)', 'c_앱로그인횟수(누적)', '총 로그인횟수',\n",
        "       'c_년간포인트사용액(누적)', 'c_출석체크_응모건수(누적)', 'c_출석체크_참여일수(누적)',\n",
        "       'c_일반이벤트_응모건수(누적)', 'c_드로우 응모건수(누적)']]"
      ]
    },
    {
      "cell_type": "code",
      "execution_count": null,
      "id": "750812c3",
      "metadata": {
        "id": "750812c3"
      },
      "outputs": [],
      "source": [
        "n20 = non[non.연령대2 == '20대']\n",
        "a_1 = n20.describe().T.reset_index()\n",
        "a_1"
      ]
    },
    {
      "cell_type": "code",
      "execution_count": null,
      "id": "958b89be",
      "metadata": {
        "id": "958b89be"
      },
      "outputs": [],
      "source": [
        "# 0 제외하고\n",
        "df = pd.DataFrame()\n",
        "for i in a_1['index'].unique() : \n",
        "    a = n20[n20[i] != 0].reset_index(drop=True)\n",
        "    a = a.describe()[i].reset_index().set_index('index').T\n",
        "    fin = a\n",
        "    df = df.append(fin, ignore_index=True)\n",
        "ee = pd.DataFrame({'변수 명' : a_1['index'].unique()})\n",
        "ee = pd.concat([ee,df], axis =1).reset_index(drop=True)\n",
        "ee"
      ]
    },
    {
      "cell_type": "code",
      "execution_count": null,
      "id": "b09f84e4",
      "metadata": {
        "id": "b09f84e4"
      },
      "outputs": [],
      "source": [
        "non[non.연령대2 == '30대'].describe().iloc[:,2:]"
      ]
    },
    {
      "cell_type": "code",
      "execution_count": null,
      "id": "fce6e403",
      "metadata": {
        "id": "fce6e403"
      },
      "outputs": [],
      "source": [
        "non[non.연령대2 == '40대'].describe().iloc[:,2:]"
      ]
    },
    {
      "cell_type": "code",
      "execution_count": null,
      "id": "4f8eb692",
      "metadata": {
        "id": "4f8eb692"
      },
      "outputs": [],
      "source": [
        "non[non.연령대2 == '50대'].describe().iloc[:,2:]"
      ]
    },
    {
      "cell_type": "code",
      "execution_count": null,
      "id": "1b6827b6",
      "metadata": {
        "id": "1b6827b6"
      },
      "outputs": [],
      "source": [
        "non[non.연령대2 == '60세 이상'].describe().iloc[:,2:]"
      ]
    },
    {
      "cell_type": "markdown",
      "id": "043e7acf",
      "metadata": {
        "id": "043e7acf"
      },
      "source": [
        "# 3. 2 구매 패턴 분석"
      ]
    },
    {
      "cell_type": "markdown",
      "id": "e49ba3c3",
      "metadata": {
        "id": "e49ba3c3"
      },
      "source": [
        "- 먼저, 전체 회원 190만 7989명 중 구매경험이 있는 고객이 136만 6480명, 없는 고객이 541509명임.\n",
        "- 아래 구매 주기 분석은 구매경험이 있는 고객 136만 6480명으로 한정해서 진행"
      ]
    },
    {
      "cell_type": "markdown",
      "id": "87009136",
      "metadata": {
        "id": "87009136"
      },
      "source": [
        "### 일회성 구매자(=구매주기 0일) 특징"
      ]
    },
    {
      "cell_type": "code",
      "execution_count": null,
      "id": "57ca6af4",
      "metadata": {
        "id": "57ca6af4"
      },
      "outputs": [],
      "source": [
        "len(user_info)"
      ]
    },
    {
      "cell_type": "code",
      "execution_count": null,
      "id": "250913c3",
      "metadata": {
        "id": "250913c3"
      },
      "outputs": [],
      "source": [
        "# 구매횟수가 1건인 회원\n",
        "# 구매횟수가 2건이상인 회원\n",
        "data = order.groupby('고유번호', as_index=False).agg({'구매일자':'nunique'})\n",
        "data"
      ]
    },
    {
      "cell_type": "code",
      "execution_count": null,
      "id": "73187516",
      "metadata": {
        "id": "73187516"
      },
      "outputs": [],
      "source": [
        "list = []\n",
        "for i in range(len(data)) : \n",
        "    if data['구매일자'][i] == 1:\n",
        "        list.append('1회 구매')\n",
        "    else:\n",
        "        list.append('1회 이상 구매')\n",
        "data['1회 여부'] = list"
      ]
    },
    {
      "cell_type": "code",
      "execution_count": null,
      "id": "9c3bdd49",
      "metadata": {
        "id": "9c3bdd49"
      },
      "outputs": [],
      "source": [
        "one = data.groupby(['1회 여부'],as_index = False).agg({'고유번호':'nunique'}).sort_values(by=['고유번호'], ascending = True).reset_index(drop=True)\n",
        "fig = px.pie(one, values='고유번호', names='1회 여부', title='1회 구매 회원 수 vs 1회 이상 구매 회원 수', color = '1회 여부', \n",
        "             color_discrete_map={ '1회 구매': '#CD5C5C','1회 이상 구매': '#4169E1'}) \n",
        "fig.update_traces(textposition='inside', textinfo='percent+label')\n",
        "fig.show()"
      ]
    },
    {
      "cell_type": "markdown",
      "id": "39d45925",
      "metadata": {
        "id": "39d45925"
      },
      "source": [
        "### 일회성 구매자 특징 : 평균 구매상품수, 1개만 사는 사람+더 사는 사람"
      ]
    },
    {
      "cell_type": "code",
      "execution_count": null,
      "id": "e3cffab0",
      "metadata": {
        "id": "e3cffab0"
      },
      "outputs": [],
      "source": [
        "data = order.groupby('고유번호', as_index=False).agg({'구매일자':'nunique'})\n",
        "aa= user[user.고유번호.isin(data[data['구매일자'] == 1].고유번호.unique())]"
      ]
    },
    {
      "cell_type": "code",
      "execution_count": null,
      "id": "46a76914",
      "metadata": {
        "id": "46a76914"
      },
      "outputs": [],
      "source": [
        "temp = order[order.고유번호.isin(aa.고유번호.unique())]\n",
        "data = temp.groupby('고유번호', as_index = False).agg({'상품명':'count'})\n",
        "data.rename(columns = {'상품명' : '구매상품수'}, inplace = True)\n",
        "data"
      ]
    },
    {
      "cell_type": "code",
      "execution_count": null,
      "id": "0a9af2fb",
      "metadata": {
        "id": "0a9af2fb",
        "outputId": "cbf9e487-9418-4197-b6d7-4dcf5f6082e6"
      },
      "outputs": [
        {
          "name": "stdout",
          "output_type": "stream",
          "text": [
            "일회성 구매 사람들은  689766  명이다\n",
            "일회성 구매 사람은 당일에 평균 1.335  개 산다.\n"
          ]
        }
      ],
      "source": [
        "print('일회성 구매 사람들은 ',  len(aa), ' 명이다')\n",
        "print('일회성 구매 사람은 당일에 평균' , round(data['구매상품수'].mean(),3), ' 개 산다.')  # 한번에 1.335개 삼"
      ]
    },
    {
      "cell_type": "code",
      "execution_count": null,
      "id": "e5811fec",
      "metadata": {
        "id": "e5811fec"
      },
      "outputs": [],
      "source": [
        "def fun1(x) : \n",
        "    if x == 1:\n",
        "        return '1개 구매'\n",
        "    elif x == 2:\n",
        "        return '2개 구매'\n",
        "    elif x == 3:\n",
        "        return '3개 구매'\n",
        "    elif x == 4:\n",
        "        return '4개 구매'\n",
        "    else :\n",
        "        return '5개 이상 구매'\n",
        "data['구매상품수2'] = data['구매상품수'].apply(fun1)"
      ]
    },
    {
      "cell_type": "code",
      "execution_count": null,
      "id": "8d3947bd",
      "metadata": {
        "id": "8d3947bd"
      },
      "outputs": [],
      "source": [
        "one = data.groupby(['구매상품수2'],as_index = False).agg({'고유번호':'count'}).sort_values(by=['고유번호'], ascending = True).reset_index(drop=True)\n",
        "one['ratio'] = one.고유번호 / one.고유번호.sum() * 100\n",
        "one"
      ]
    },
    {
      "cell_type": "code",
      "execution_count": null,
      "id": "1e1fc869",
      "metadata": {
        "id": "1e1fc869"
      },
      "outputs": [],
      "source": [
        "fig = px.pie(one, values='고유번호', names='구매상품수2', title='일회성 구매자들의 당일 구매상품수', color = '구매상품수2') \n",
        "fig.update_traces(textposition='inside', textinfo='percent+label')\n",
        "fig.show()"
      ]
    },
    {
      "cell_type": "markdown",
      "id": "0c8fd4cd",
      "metadata": {
        "id": "0c8fd4cd"
      },
      "source": [
        "### 신발 구매주기\n",
        "- 구매주기 : 구매건수가 1건인 회원은 제외\n",
        "- 신발만으로 한정\n",
        "- 최종가입일 기준으로 그 이후에 구매한 내역만 반영\n",
        "- 172일 , 즉 5-6개월에 한 번 삼"
      ]
    },
    {
      "cell_type": "code",
      "execution_count": null,
      "id": "0a51dac1",
      "metadata": {
        "id": "0a51dac1"
      },
      "outputs": [],
      "source": [
        "user_info.신발구매주기.describe()"
      ]
    },
    {
      "cell_type": "code",
      "execution_count": null,
      "id": "8171aaa5",
      "metadata": {
        "id": "8171aaa5",
        "outputId": "353fe968-e756-43a5-d586-fa905e8bb2df"
      },
      "outputs": [
        {
          "name": "stdout",
          "output_type": "stream",
          "text": [
            "평균 신발구매주기 :  172.242\n"
          ]
        }
      ],
      "source": [
        "print('평균 신발구매주기 : ', round(user_info[user_info.신발구매주기 != 0].신발구매주기.mean(), 3))"
      ]
    },
    {
      "cell_type": "code",
      "execution_count": null,
      "id": "c6dcbd9c",
      "metadata": {
        "id": "c6dcbd9c"
      },
      "outputs": [],
      "source": [
        "df3 = user_info[user_info.신발구매주기 != 0]"
      ]
    },
    {
      "cell_type": "code",
      "execution_count": null,
      "id": "3513119e",
      "metadata": {
        "id": "3513119e",
        "outputId": "0831f4bd-94bf-47e4-836f-49f3da701527"
      },
      "outputs": [
        {
          "data": {
            "text/plain": [
              "Text(0.5, 1.0, '전체회원의 신발구매주기')"
            ]
          },
          "execution_count": 42,
          "metadata": {},
          "output_type": "execute_result"
        },
        {
          "data": {
            "image/png": "[encoded data removed]",
            "text/plain": [
              "<Figure size 640x480 with 1 Axes>"
            ]
          },
          "metadata": {},
          "output_type": "display_data"
        }
      ],
      "source": [
        "import seaborn as sns\n",
        "\n",
        "sns.distplot(df3['신발구매주기'])\n",
        "plt.axvline(x=df3['신발구매주기'].mean(), color='r', linestyle='--', linewidth=2)\n",
        "plt.title(\"전체회원의 신발구매주기\")"
      ]
    },
    {
      "cell_type": "code",
      "execution_count": null,
      "id": "26b7058f",
      "metadata": {
        "id": "26b7058f",
        "outputId": "a41f15f2-88a7-49f4-85c3-7cb71bc8ba30"
      },
      "outputs": [
        {
          "data": {
            "text/plain": [
              "<AxesSubplot:xlabel='신발구매주기', ylabel='Count'>"
            ]
          },
          "execution_count": 43,
          "metadata": {},
          "output_type": "execute_result"
        },
        {
          "data": {
            "image/png": "[encoded data removed]",
            "text/plain": [
              "<Figure size 640x480 with 1 Axes>"
            ]
          },
          "metadata": {},
          "output_type": "display_data"
        }
      ],
      "source": [
        "import seaborn as sns\n",
        "sns.histplot(data = df3['신발구매주기'], bins=50, color=\"black\") # 히스토그램 그래프 그리기"
      ]
    },
    {
      "cell_type": "code",
      "execution_count": null,
      "id": "e565cfc4",
      "metadata": {
        "id": "e565cfc4"
      },
      "outputs": [],
      "source": [
        "def period(x):\n",
        "    if x>365 : \n",
        "        return '5.1년 이상'\n",
        "    elif x>270:\n",
        "        return '4.9개월 이상 12개월 미만'\n",
        "    elif x>180:\n",
        "        return '3.6개월 이상 9개월 미만'\n",
        "    elif x>90:\n",
        "        return '2.3개월 이상 6개월 미만'\n",
        "    else:\n",
        "        return '1.3개월 미만'\n",
        "\n",
        "df3['신발구매주기2'] = df3['신발구매주기'].apply(period) "
      ]
    },
    {
      "cell_type": "code",
      "execution_count": null,
      "id": "793d435a",
      "metadata": {
        "id": "793d435a"
      },
      "outputs": [],
      "source": [
        "buy = df3.groupby(['신발구매주기2'],as_index = False).agg({'신발구매주기':'count'}).sort_values(by=['신발구매주기2'], ascending = True)\n",
        "buy['ratio'] = buy.신발구매주기 /  buy.신발구매주기.sum() * 100\n",
        "buy"
      ]
    },
    {
      "cell_type": "code",
      "execution_count": null,
      "id": "8ca5c7d5",
      "metadata": {
        "id": "8ca5c7d5"
      },
      "outputs": [],
      "source": [
        "#구매주기 별 회원수\n",
        "fig = px.bar(buy, \n",
        "              x='신발구매주기2', \n",
        "              y='신발구매주기', \n",
        "              title='구매주기 별 회원수', color=\"신발구매주기2\", text_auto='.3s')\n",
        "fig.update_layout(xaxis_title='구매주기',\n",
        "                  yaxis_title='회원 수')\n",
        "fig.show()"
      ]
    },
    {
      "cell_type": "markdown",
      "id": "6b9e9d21",
      "metadata": {
        "id": "6b9e9d21"
      },
      "source": [
        "## 구매주기 별 신발구매횟수"
      ]
    },
    {
      "cell_type": "code",
      "execution_count": null,
      "id": "24488dd4",
      "metadata": {
        "id": "24488dd4"
      },
      "outputs": [],
      "source": [
        "df3 = df3[['고유번호', '신발구매주기', '신발구매주기2']]"
      ]
    },
    {
      "cell_type": "code",
      "execution_count": null,
      "id": "9039114b",
      "metadata": {
        "id": "9039114b"
      },
      "outputs": [],
      "source": [
        "temp = order[order.카테고리1 =='신발']\n",
        "data5 = temp.groupby('고유번호', as_index = False).agg({'구매일자':'nunique'})\n",
        "data5.columns = ['고유번호', '신발구매횟수']\n",
        "df4 = pd.merge(df3, data5, on ='고유번호', how='left')"
      ]
    },
    {
      "cell_type": "code",
      "execution_count": null,
      "id": "2776e056",
      "metadata": {
        "id": "2776e056"
      },
      "outputs": [],
      "source": [
        "def period(x):\n",
        "    if x>=5:\n",
        "        return '5번 이상'\n",
        "    elif x==4:\n",
        "        return '4번'\n",
        "    elif x==3:\n",
        "        return '3번'\n",
        "    else :\n",
        "        return '2번'\n",
        "\n",
        "df4['구매횟수2'] = df4['신발구매횟수'].apply(period) "
      ]
    },
    {
      "cell_type": "code",
      "execution_count": null,
      "id": "e4b7b50b",
      "metadata": {
        "id": "e4b7b50b"
      },
      "outputs": [],
      "source": [
        "buy = df4.groupby(['신발구매주기2','구매횟수2'],as_index = False).agg({'신발구매주기':'count'}).sort_values(by=['신발구매주기2'], ascending = True)\n",
        "fig = px.bar(buy, x=\"신발구매주기2\", y=\"신발구매주기\", color=\"구매횟수2\", title=\"구매횟수가 2번인 경우가 많음\",text_auto='.2s',\n",
        "               color_discrete_sequence=px.colors.qualitative.Pastel)\n",
        "fig.update_layout(xaxis_title='구매주기',\n",
        "                  yaxis_title='회원 수')\n",
        "fig.show()"
      ]
    },
    {
      "cell_type": "code",
      "execution_count": null,
      "id": "156adf2b",
      "metadata": {
        "id": "156adf2b"
      },
      "outputs": [],
      "source": [
        "buy = df4.groupby(['신발구매주기2','구매횟수2'],as_index = False).agg({'신발구매주기':'count'}).sort_values(by=['신발구매주기2'], ascending = True)\n",
        "buy.rename(columns = {'신발구매주기' : '회원 수'}, inplace = True)\n",
        "buy"
      ]
    },
    {
      "cell_type": "code",
      "execution_count": null,
      "id": "2330f108",
      "metadata": {
        "id": "2330f108"
      },
      "outputs": [],
      "source": [
        "buy = df4.groupby(['신발구매주기2','구매횟수2'],as_index = False).agg({'신발구매주기':'count'}).sort_values(by=['신발구매주기2'], ascending = True)\n",
        "\n",
        "\n",
        "fig = px.bar(buy, x=\"구매횟수2\", y=\"신발구매주기\", color=\"신발구매주기2\", title=\"ㅇㅇ\",text_auto='.2s',\n",
        "               color_discrete_sequence=px.colors.qualitative.Pastel)\n",
        "fig.update_layout(xaxis_title='구매횟수',\n",
        "                  yaxis_title='회원 수')\n",
        "fig.show()"
      ]
    },
    {
      "cell_type": "code",
      "execution_count": null,
      "id": "5ae92956",
      "metadata": {
        "id": "5ae92956"
      },
      "outputs": [],
      "source": [
        "buy = df4.groupby(['신발구매주기2','구매횟수2'],as_index = False).agg({'신발구매주기':'count'}).sort_values(by=['신발구매주기2'], ascending = True)\n",
        "buy.rename(columns = {'신발구매주기' : '회원 수'}, inplace = True)\n",
        "buy"
      ]
    },
    {
      "cell_type": "markdown",
      "id": "7bb73773",
      "metadata": {
        "id": "7bb73773"
      },
      "source": [
        "## 구매 후 현재까지 비활동 기간\n",
        "- 2022년 12월 31일 - 회원의 가장 최신 구매기간 "
      ]
    },
    {
      "cell_type": "code",
      "execution_count": null,
      "id": "867da3e9",
      "metadata": {
        "id": "867da3e9"
      },
      "outputs": [],
      "source": [
        "data4 = user_info[['고유번호', '비구매기간']]"
      ]
    },
    {
      "cell_type": "code",
      "execution_count": null,
      "id": "9cea9518",
      "metadata": {
        "id": "9cea9518",
        "outputId": "23dd0f3b-4c8b-4179-d42f-4c8318154833"
      },
      "outputs": [
        {
          "name": "stdout",
          "output_type": "stream",
          "text": [
            "회원들의 평균 비구매기간은 200.141 일 입니다\n"
          ]
        }
      ],
      "source": [
        "print('회원들의 평균 비구매기간은',  round(data4.비구매기간.mean(),3) ,'일 입니다') # 즉, 200일간 활동을 안하고있다는 뜻"
      ]
    },
    {
      "cell_type": "code",
      "execution_count": null,
      "id": "c232be27",
      "metadata": {
        "id": "c232be27",
        "outputId": "29d20756-d504-43f2-c4bd-72e30d042d4f"
      },
      "outputs": [
        {
          "data": {
            "text/plain": [
              "<AxesSubplot:xlabel='비구매기간', ylabel='Probability'>"
            ]
          },
          "execution_count": 56,
          "metadata": {},
          "output_type": "execute_result"
        },
        {
          "data": {
            "image/png": "[encoded data removed]",
            "text/plain": [
              "<Figure size 640x480 with 1 Axes>"
            ]
          },
          "metadata": {},
          "output_type": "display_data"
        }
      ],
      "source": [
        "import seaborn as sns\n",
        "sns.histplot(data = data4.비구매기간, bins=30, color=\"black\", stat = \"probability\") # 히스토그램 그래프 그리기"
      ]
    },
    {
      "cell_type": "code",
      "execution_count": null,
      "id": "289a8cac",
      "metadata": {
        "id": "289a8cac"
      },
      "outputs": [],
      "source": [
        "def period(x):\n",
        "    if x>720:\n",
        "        return '04.2년 이상'\n",
        "    elif x>360:\n",
        "        return '04.1년 이상'\n",
        "    elif x>180:\n",
        "        return '03.6개월 이상'\n",
        "    elif x>90:\n",
        "        return '02.3개월 이상'\n",
        "    else :\n",
        "        return '01.3개월 이하'\n",
        "\n",
        "data4['비구매기간2'] = data4['비구매기간'].apply(period) \n",
        "data4"
      ]
    },
    {
      "cell_type": "code",
      "execution_count": null,
      "id": "923a6cc5",
      "metadata": {
        "id": "923a6cc5"
      },
      "outputs": [],
      "source": [
        "#비구매기간\n",
        "buy = data4.groupby(['비구매기간2'],as_index = False).agg({'비구매기간':'count'}).sort_values(by=['비구매기간2'], ascending = True)\n",
        "buy['퍼센트'] = buy['비구매기간'] / buy['비구매기간'].sum() *100\n",
        "buy"
      ]
    },
    {
      "cell_type": "markdown",
      "id": "bd1aca21",
      "metadata": {
        "id": "bd1aca21"
      },
      "source": [
        "## 일자별 구매 현황"
      ]
    },
    {
      "cell_type": "code",
      "execution_count": null,
      "id": "a0dace60",
      "metadata": {
        "id": "a0dace60"
      },
      "outputs": [],
      "source": [
        "order['구매연도'] = order['구매일자'].dt.year\n",
        "order['월'] = order['구매일자'].dt.month\n",
        "order['구매일자'] = order['구매일자'].astype(str)\n",
        "order['구매연월'] = order['구매일자'].str[:7]"
      ]
    },
    {
      "cell_type": "code",
      "execution_count": null,
      "id": "aede7fed",
      "metadata": {
        "id": "aede7fed"
      },
      "outputs": [],
      "source": [
        "buy = order.groupby(['구매연월'],as_index = False).agg({'고유번호':'count'}).sort_values(by=['구매연월'], ascending = True).reset_index(drop=True)\n",
        "\n",
        "fig = px.line(buy, \n",
        "              x='구매연월', \n",
        "              y='고유번호', \n",
        "              title='연월 별 구매현황')\n",
        "fig.update_layout(xaxis_title='연월',\n",
        "                  yaxis_title='카운트')\n",
        "fig.show()"
      ]
    },
    {
      "cell_type": "code",
      "execution_count": null,
      "id": "3e97b4ea",
      "metadata": {
        "id": "3e97b4ea"
      },
      "outputs": [],
      "source": [
        "buy = order.groupby(['구매연월'],as_index = False).agg({'고유번호':'count'}).sort_values(by=['구매연월'], ascending = True).reset_index(drop=True)\n",
        "buy['퍼센트'] = buy['고유번호'] / buy['고유번호'].sum() *100\n",
        "buy['연도'] = buy['구매연월'].str[:4].astype(str)\n",
        "buy['월'] = buy['구매연월'].str[5:].astype(int)"
      ]
    },
    {
      "cell_type": "code",
      "execution_count": null,
      "id": "2268ae7a",
      "metadata": {
        "id": "2268ae7a"
      },
      "outputs": [],
      "source": [
        "# plotting\n",
        "fig = px.line(buy, \n",
        "              x='월', \n",
        "              y='고유번호', \n",
        "              title='월별 구매현황 - 패턴 o', color = '연도',\n",
        "              color_discrete_sequence=px.colors.qualitative.Dark24)\n",
        "fig.update_layout(xaxis_title='월',\n",
        "                  yaxis_title='카운트')\n",
        "fig.show()"
      ]
    },
    {
      "cell_type": "code",
      "execution_count": null,
      "id": "4472e549",
      "metadata": {
        "id": "4472e549"
      },
      "outputs": [],
      "source": [
        "buy[buy['연도'] == '2022'].iloc[:,:3]"
      ]
    },
    {
      "cell_type": "code",
      "execution_count": null,
      "id": "cdf52ed7",
      "metadata": {
        "id": "cdf52ed7"
      },
      "outputs": [],
      "source": [
        "# plotting\n",
        "buy = order.groupby(['구매연도'],as_index = False).agg({'고유번호':'count'}).sort_values(by=['구매연도'], ascending = True).reset_index(drop=True)\n",
        "\n",
        "fig = px.line(buy, \n",
        "              x='구매연도', \n",
        "              y='고유번호', \n",
        "              title='연도별 구매흐름')\n",
        "fig.update_layout(xaxis_title='연도',\n",
        "                  yaxis_title='카운트')\n",
        "fig.show()"
      ]
    },
    {
      "cell_type": "code",
      "execution_count": null,
      "id": "6dd677aa",
      "metadata": {
        "id": "6dd677aa"
      },
      "outputs": [],
      "source": [
        "buy"
      ]
    },
    {
      "cell_type": "markdown",
      "id": "aa033d45",
      "metadata": {
        "id": "aa033d45"
      },
      "source": [
        "## 구매 시 평일/주말 비율"
      ]
    },
    {
      "cell_type": "code",
      "execution_count": null,
      "id": "8f5bdd24",
      "metadata": {
        "id": "8f5bdd24"
      },
      "outputs": [],
      "source": [
        "order['구매일자'] = pd.to_datetime(order['구매일자'], errors='coerce')\n",
        "order['week'] = order['구매일자'].dt.weekday\n",
        "order['주말여부'] = np.where(order['week']<=4, '평일', '주말')"
      ]
    },
    {
      "cell_type": "code",
      "execution_count": null,
      "id": "75a3c4c6",
      "metadata": {
        "id": "75a3c4c6"
      },
      "outputs": [],
      "source": [
        "order['요일'] = '요일'\n",
        "order['요일'] = np.where(order['week']==0, '1.월요일', order['요일'])\n",
        "order['요일'] = np.where(order['week']==1, '2.화요일', order['요일'])\n",
        "order['요일'] = np.where(order['week']==2, '3.수요일', order['요일'])\n",
        "order['요일'] = np.where(order['week']==3, '4.목요일', order['요일'])\n",
        "order['요일'] = np.where(order['week']==4, '5.금요일', order['요일'])\n",
        "order['요일'] = np.where(order['week']==5, '6.토요일', order['요일'])\n",
        "order['요일'] = np.where(order['week']==6, '7.일요일', order['요일'])"
      ]
    },
    {
      "cell_type": "code",
      "execution_count": null,
      "id": "7f9ee3f4",
      "metadata": {
        "id": "7f9ee3f4"
      },
      "outputs": [],
      "source": [
        "weekday = order.groupby(['요일'],as_index = False).agg({'고유번호':'count'}).sort_values(by=['요일'], ascending = True)\n",
        "weekday['퍼센트'] = weekday['고유번호'] / weekday['고유번호'].sum() *100\n",
        "weekday"
      ]
    },
    {
      "cell_type": "code",
      "execution_count": null,
      "id": "bbbd363c",
      "metadata": {
        "id": "bbbd363c"
      },
      "outputs": [],
      "source": [
        "# plotting\n",
        "fig = px.bar(weekday, \n",
        "              x='요일', \n",
        "              y='퍼센트', \n",
        "              title='요일별 구매건수', color = '요일', text_auto='.3s')\n",
        "fig.update_layout(xaxis_title='요일',\n",
        "                  yaxis_title='퍼센트')\n",
        "fig.show()"
      ]
    }
  ],
  "metadata": {
    "kernelspec": {
      "display_name": "Python 3 (ipykernel)",
      "language": "python",
      "name": "python3"
    },
    "language_info": {
      "codemirror_mode": {
        "name": "ipython",
        "version": 3
      },
      "file_extension": ".py",
      "mimetype": "text/x-python",
      "name": "python",
      "nbconvert_exporter": "python",
      "pygments_lexer": "ipython3",
      "version": "3.9.13"
    },
    "colab": {
      "provenance": [],
      "toc_visible": true
    }
  },
  "nbformat": 4,
  "nbformat_minor": 5
}