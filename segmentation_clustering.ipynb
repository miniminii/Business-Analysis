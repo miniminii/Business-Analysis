{
  "cells": [
    {
      "cell_type": "code",
      "execution_count": null,
      "id": "7fce3aec",
      "metadata": {
        "id": "7fce3aec"
      },
      "outputs": [],
      "source": [
        "import pandas as pd\n",
        "from glob import glob\n",
        "import os\n",
        "import numpy as np\n",
        "from tqdm import tqdm, tqdm_notebook\n",
        "import plotly.offline as pyo\n",
        "import matplotlib.pyplot as plt\n",
        "import plotly.express as px\n",
        "import plotly.graph_objects as go\n",
        "\n",
        "from datetime import datetime\n",
        "from datetime import date"
      ]
    },
    {
      "cell_type": "code",
      "execution_count": null,
      "id": "d6fb15d0",
      "metadata": {
        "id": "d6fb15d0"
      },
      "outputs": [],
      "source": [
        "import plotly.io as pio\n",
        "pio.renderers.default = \"plotly_mimetype+notebook\""
      ]
    },
    {
      "cell_type": "code",
      "execution_count": null,
      "id": "013da50a",
      "metadata": {
        "id": "013da50a"
      },
      "outputs": [],
      "source": [
        "pd.options.display.float_format = '{:.4f}'.format"
      ]
    },
    {
      "cell_type": "code",
      "execution_count": null,
      "id": "0bffdcb6",
      "metadata": {
        "id": "0bffdcb6"
      },
      "outputs": [],
      "source": [
        "%matplotlib inline\n",
        "from matplotlib import font_manager, rc\n",
        "import matplotlib.pyplot as plt\n",
        "import platform\n",
        "\n",
        "path = \"c:/Windows/Fonts/malgun.ttf\"\n",
        "if platform.system() == 'Darwin':\n",
        "    rc('font', family='AppleGothic')\n",
        "rc('axes', unicode_minus=False) "
      ]
    },
    {
      "cell_type": "code",
      "execution_count": null,
      "id": "33aee4dd",
      "metadata": {
        "id": "33aee4dd"
      },
      "outputs": [],
      "source": [
        "import warnings\n",
        "warnings.filterwarnings(action='ignore')"
      ]
    },
    {
      "cell_type": "code",
      "execution_count": null,
      "id": "70afad55",
      "metadata": {
        "id": "70afad55"
      },
      "outputs": [],
      "source": [
        "# go to file\n",
        "os.chdir('../DATA_raw2')"
      ]
    },
    {
      "cell_type": "markdown",
      "id": "68664894",
      "metadata": {
        "id": "68664894"
      },
      "source": [
        "# 유지기간 반영해서 order 정리\n",
        "\n",
        "\n"
      ]
    },
    {
      "cell_type": "code",
      "execution_count": null,
      "id": "b30475b3",
      "metadata": {
        "id": "b30475b3"
      },
      "outputs": [],
      "source": [
        "user = pd.read_pickle(\"../TBWA/user_fin.pkl\")\n",
        "order = pd.read_pickle(\"../TBWA/order_fin.pkl\")"
      ]
    },
    {
      "cell_type": "code",
      "execution_count": null,
      "id": "e1469394",
      "metadata": {
        "id": "e1469394"
      },
      "outputs": [],
      "source": [
        "user['최초가입일2'] = user['최초가입일'].astype(str)\n",
        "user['최초가입연월'] = user['최초가입일2'].str[:7]\n",
        "\n",
        "user['최종가입일2'] = user['최종가입일'].astype(str)\n",
        "user['최종가입연월'] = user['최종가입일2'].str[:7]\n",
        "\n",
        "user['최초가입연도'] = user['최초가입일'].dt.year\n",
        "user['최종가입연도'] = user['최종가입일'].dt.year\n",
        "user['최초가입월'] = user['최초가입일'].dt.month\n",
        "user['최종가입월'] = user['최종가입일'].dt.month"
      ]
    },
    {
      "cell_type": "code",
      "execution_count": null,
      "id": "2161794a",
      "metadata": {
        "id": "2161794a",
        "outputId": "dab41c69-e07a-463c-e79d-22bef6879132"
      },
      "outputs": [
        {
          "data": {
            "text/plain": [
              "datetime.datetime(2022, 12, 31, 0, 0)"
            ]
          },
          "execution_count": 680,
          "metadata": {},
          "output_type": "execute_result"
        }
      ],
      "source": [
        "dateformat = \"%Y-%m-%d\"\n",
        "str_datetime = \"2022-12-31\"\n",
        "datetime_convert = datetime.strptime(str_datetime, dateformat)\n",
        "datetime_convert"
      ]
    },
    {
      "cell_type": "code",
      "execution_count": null,
      "id": "435a21c4",
      "metadata": {
        "id": "435a21c4"
      },
      "outputs": [],
      "source": [
        "user = user[user.최종가입일 <= datetime_convert].reset_index(drop = True)"
      ]
    },
    {
      "cell_type": "code",
      "execution_count": null,
      "id": "025e3a82",
      "metadata": {
        "id": "025e3a82",
        "outputId": "606d2eef-0529-486f-923c-adf204bdc871"
      },
      "outputs": [
        {
          "data": {
            "text/plain": [
              "datetime.datetime(2023, 1, 1, 0, 0)"
            ]
          },
          "execution_count": 682,
          "metadata": {},
          "output_type": "execute_result"
        }
      ],
      "source": [
        "dateformat = \"%Y-%m-%d\"\n",
        "str_datetime = \"2023-01-01\"\n",
        "datetime_convert2 = datetime.strptime(str_datetime, dateformat)\n",
        "datetime_convert2"
      ]
    },
    {
      "cell_type": "code",
      "execution_count": null,
      "id": "ea3f7473",
      "metadata": {
        "id": "ea3f7473"
      },
      "outputs": [],
      "source": [
        "user['유지기간'] = datetime_convert2 - user.최종가입일\n",
        "user.유지기간 = user.유지기간.dt.days\n",
        "user.유지기간 = user.유지기간 / 30 / 12 # 개월 단위"
      ]
    },
    {
      "cell_type": "code",
      "execution_count": null,
      "id": "8bf70768",
      "metadata": {
        "id": "8bf70768",
        "outputId": "78ddae87-84a6-445a-c0ad-2adaeea6d04d"
      },
      "outputs": [
        {
          "data": {
            "text/plain": [
              "1.2369165150914114"
            ]
          },
          "execution_count": 684,
          "metadata": {},
          "output_type": "execute_result"
        }
      ],
      "source": [
        "user.유지기간.mean()"
      ]
    },
    {
      "cell_type": "code",
      "execution_count": null,
      "id": "39584b5c",
      "metadata": {
        "id": "39584b5c"
      },
      "outputs": [],
      "source": [
        "order['구매일자2'] = order['구매일자'].astype(str)\n",
        "order['구매연월'] = order['구매일자2'].str[:7]\n",
        "order['구매연도'] = order['구매일자'].dt.year\n",
        "order['구매월'] = order['구매일자'].dt.month"
      ]
    },
    {
      "cell_type": "code",
      "execution_count": null,
      "id": "5be26a27",
      "metadata": {
        "id": "5be26a27"
      },
      "outputs": [],
      "source": [
        "df = pd.merge(order, user[['고유번호', '최초가입일', '최종가입일', '최종탈퇴일', '재가입횟수']], on = '고유번호', how = 'left')"
      ]
    },
    {
      "cell_type": "code",
      "execution_count": null,
      "id": "61770e8b",
      "metadata": {
        "id": "61770e8b",
        "outputId": "bea32eb7-20df-48fa-caa2-2736532e0244"
      },
      "outputs": [
        {
          "data": {
            "text/plain": [
              "20681"
            ]
          },
          "execution_count": 199,
          "metadata": {},
          "output_type": "execute_result"
        }
      ],
      "source": [
        "len(df[df.구매일자 < df.최초가입일])"
      ]
    },
    {
      "cell_type": "code",
      "execution_count": null,
      "id": "a72949b2",
      "metadata": {
        "id": "a72949b2"
      },
      "outputs": [],
      "source": [
        "# 재가입자들의 이전 데이터 삭제\n",
        "order2 = df[df.구매일자 >= df.최종가입일].reset_index(drop = True)\n",
        "order2 = order2[order2.카테고리1 == '신발'].reset_index(drop = True)"
      ]
    },
    {
      "cell_type": "code",
      "execution_count": null,
      "id": "2c831db9",
      "metadata": {
        "id": "2c831db9",
        "outputId": "952142a8-a8d2-4190-cb68-b5fe1091b1d2"
      },
      "outputs": [
        {
          "data": {
            "text/plain": [
              "1878788"
            ]
          },
          "execution_count": 677,
          "metadata": {},
          "output_type": "execute_result"
        }
      ],
      "source": [
        "len(user)"
      ]
    },
    {
      "cell_type": "code",
      "execution_count": null,
      "id": "d92d56a4",
      "metadata": {
        "id": "d92d56a4",
        "outputId": "f441bb55-29ad-42cc-f440-958524303577"
      },
      "outputs": [
        {
          "name": "stdout",
          "output_type": "stream",
          "text": [
            "4928381\n",
            "3842695\n",
            "1085686 건 삭제\n"
          ]
        }
      ],
      "source": [
        "print(len(order)) \n",
        "print(len(order2))\n",
        "print(len(order)  - len(order2), '건 삭제') "
      ]
    },
    {
      "cell_type": "code",
      "execution_count": null,
      "id": "041a3971",
      "metadata": {
        "id": "041a3971"
      },
      "outputs": [],
      "source": [
        "## 신발 구매 주기\n",
        "## 구매주기\n",
        "data = order2.groupby(['고유번호', '구매일자']).agg({'구매시간':'nunique'})\n",
        "data = data.reset_index().rename(columns={\"index\": \"id\"})\n",
        "data['직전구매일자'] = data.groupby('고유번호').구매일자.shift()\n",
        "data['구매소요시간'] = data['구매일자'] - data['직전구매일자']\n",
        "data['구매소요시간'] = data['구매소요시간'].dt.days\n",
        "data['구매소요시간'] = np.where(data['구매소요시간'].isna(), 0, data['구매소요시간'])\n",
        "data2 = data.groupby('고유번호').agg({'구매소요시간':'sum'})\n",
        "data2 = data2.reset_index().rename(columns={\"index\": \"id\"})\n",
        "data3 = data.groupby('고유번호').agg({'구매시간':'sum'})   #같은날에 많이 사는건 주기에 안치면 구매소요시간:count, 치면 '상품명':sum 으로\n",
        "data3 = data3.reset_index().rename(columns={\"index\": \"id\"})\n",
        "data3.columns = ['고유번호', '방문횟수']\n",
        "data3['방문횟수'] = data3['방문횟수'] -1\n",
        "df = pd.merge(data2, data3, on = '고유번호', how = 'inner')\n",
        "df_0 = df[(df['방문횟수'] == 0) | (df['구매소요시간'] ==0 )]"
      ]
    },
    {
      "cell_type": "code",
      "execution_count": null,
      "id": "4151747c",
      "metadata": {
        "id": "4151747c"
      },
      "outputs": [],
      "source": [
        "df3 = df[~df.고유번호.isin(df_0.고유번호.unique())]\n",
        "df3['구매주기'] = df3['구매소요시간'] / df3['방문횟수']"
      ]
    },
    {
      "cell_type": "code",
      "execution_count": null,
      "id": "b08b1141",
      "metadata": {
        "id": "b08b1141",
        "outputId": "2de164f7-bf83-41a9-db90-958b13ab8114"
      },
      "outputs": [
        {
          "data": {
            "text/plain": [
              "count   537349.0000\n",
              "mean       168.9425\n",
              "std        150.1203\n",
              "min          1.0000\n",
              "25%         68.2727\n",
              "50%        135.0000\n",
              "75%        227.0000\n",
              "max       1447.0000\n",
              "Name: 구매주기, dtype: float64"
            ]
          },
          "execution_count": 134,
          "metadata": {},
          "output_type": "execute_result"
        }
      ],
      "source": [
        "df3['구매주기'].describe() #평균 168일마다 구매"
      ]
    },
    {
      "cell_type": "code",
      "execution_count": null,
      "id": "5a4deace",
      "metadata": {
        "id": "5a4deace",
        "outputId": "2f57e6de-480e-4061-b211-f0ca435bd352"
      },
      "outputs": [
        {
          "data": {
            "text/html": [
              "<div>\n",
              "<style scoped>\n",
              "    .dataframe tbody tr th:only-of-type {\n",
              "        vertical-align: middle;\n",
              "    }\n",
              "\n",
              "    .dataframe tbody tr th {\n",
              "        vertical-align: top;\n",
              "    }\n",
              "\n",
              "    .dataframe thead th {\n",
              "        text-align: right;\n",
              "    }\n",
              "</style>\n",
              "<table border=\"1\" class=\"dataframe\">\n",
              "  <thead>\n",
              "    <tr style=\"text-align: right;\">\n",
              "      <th></th>\n",
              "      <th>고유번호</th>\n",
              "      <th>구매일자</th>\n",
              "      <th>결제가</th>\n",
              "      <th>상품 평균 구매금액</th>\n",
              "    </tr>\n",
              "  </thead>\n",
              "  <tbody>\n",
              "    <tr>\n",
              "      <th>0</th>\n",
              "      <td>000020EE74E3CB26A13F340A85151C413841410D455F34...</td>\n",
              "      <td>2</td>\n",
              "      <td>286400</td>\n",
              "      <td>143200.0000</td>\n",
              "    </tr>\n",
              "    <tr>\n",
              "      <th>1</th>\n",
              "      <td>00003D3FAD4DCDBB6251D9D55DBF139C85D60EE1C6C64F...</td>\n",
              "      <td>1</td>\n",
              "      <td>175000</td>\n",
              "      <td>175000.0000</td>\n",
              "    </tr>\n",
              "    <tr>\n",
              "      <th>2</th>\n",
              "      <td>000044FE56D9669721FE811A7441B12E6D364D444F25F6...</td>\n",
              "      <td>1</td>\n",
              "      <td>62100</td>\n",
              "      <td>62100.0000</td>\n",
              "    </tr>\n",
              "    <tr>\n",
              "      <th>3</th>\n",
              "      <td>00004828E678901ACC084A85FB2626F6162C95E8CDA415...</td>\n",
              "      <td>2</td>\n",
              "      <td>134000</td>\n",
              "      <td>67000.0000</td>\n",
              "    </tr>\n",
              "    <tr>\n",
              "      <th>4</th>\n",
              "      <td>00004D28EE770A44360C93CF572F16235632D1C66DC730...</td>\n",
              "      <td>1</td>\n",
              "      <td>49000</td>\n",
              "      <td>49000.0000</td>\n",
              "    </tr>\n",
              "    <tr>\n",
              "      <th>...</th>\n",
              "      <td>...</td>\n",
              "      <td>...</td>\n",
              "      <td>...</td>\n",
              "      <td>...</td>\n",
              "    </tr>\n",
              "    <tr>\n",
              "      <th>1224449</th>\n",
              "      <td>FFFFE1EB24A63D6200BD35E9D15F8F3E19F64E0DE5A734...</td>\n",
              "      <td>2</td>\n",
              "      <td>73500</td>\n",
              "      <td>36750.0000</td>\n",
              "    </tr>\n",
              "    <tr>\n",
              "      <th>1224450</th>\n",
              "      <td>FFFFEA945203637A489BE60780A3DC5EE02B2ADC3C1648...</td>\n",
              "      <td>12</td>\n",
              "      <td>651300</td>\n",
              "      <td>54275.0000</td>\n",
              "    </tr>\n",
              "    <tr>\n",
              "      <th>1224451</th>\n",
              "      <td>FFFFED1052DE910E168507A276F4CE9C15B0939E747D5B...</td>\n",
              "      <td>5</td>\n",
              "      <td>308900</td>\n",
              "      <td>61780.0000</td>\n",
              "    </tr>\n",
              "    <tr>\n",
              "      <th>1224452</th>\n",
              "      <td>FFFFFC23A33A656E3E8BA90A9CC2D7779E6B8D55DA8C74...</td>\n",
              "      <td>1</td>\n",
              "      <td>49000</td>\n",
              "      <td>49000.0000</td>\n",
              "    </tr>\n",
              "    <tr>\n",
              "      <th>1224453</th>\n",
              "      <td>FFFFFFFF0EEB7F6951D69133549E990C6F6DA57136A49A...</td>\n",
              "      <td>4</td>\n",
              "      <td>236000</td>\n",
              "      <td>59000.0000</td>\n",
              "    </tr>\n",
              "  </tbody>\n",
              "</table>\n",
              "<p>1224454 rows × 4 columns</p>\n",
              "</div>"
            ],
            "text/plain": [
              "                                                      고유번호  구매일자     결제가  \\\n",
              "0        000020EE74E3CB26A13F340A85151C413841410D455F34...     2  286400   \n",
              "1        00003D3FAD4DCDBB6251D9D55DBF139C85D60EE1C6C64F...     1  175000   \n",
              "2        000044FE56D9669721FE811A7441B12E6D364D444F25F6...     1   62100   \n",
              "3        00004828E678901ACC084A85FB2626F6162C95E8CDA415...     2  134000   \n",
              "4        00004D28EE770A44360C93CF572F16235632D1C66DC730...     1   49000   \n",
              "...                                                    ...   ...     ...   \n",
              "1224449  FFFFE1EB24A63D6200BD35E9D15F8F3E19F64E0DE5A734...     2   73500   \n",
              "1224450  FFFFEA945203637A489BE60780A3DC5EE02B2ADC3C1648...    12  651300   \n",
              "1224451  FFFFED1052DE910E168507A276F4CE9C15B0939E747D5B...     5  308900   \n",
              "1224452  FFFFFC23A33A656E3E8BA90A9CC2D7779E6B8D55DA8C74...     1   49000   \n",
              "1224453  FFFFFFFF0EEB7F6951D69133549E990C6F6DA57136A49A...     4  236000   \n",
              "\n",
              "         상품 평균 구매금액  \n",
              "0       143200.0000  \n",
              "1       175000.0000  \n",
              "2        62100.0000  \n",
              "3        67000.0000  \n",
              "4        49000.0000  \n",
              "...             ...  \n",
              "1224449  36750.0000  \n",
              "1224450  54275.0000  \n",
              "1224451  61780.0000  \n",
              "1224452  49000.0000  \n",
              "1224453  59000.0000  \n",
              "\n",
              "[1224454 rows x 4 columns]"
            ]
          },
          "metadata": {},
          "output_type": "display_data"
        },
        {
          "name": "stdout",
          "output_type": "stream",
          "text": [
            "회원들의 1회 평균 구매 금액은 : 65620.10533430986\n"
          ]
        }
      ],
      "source": [
        "### 상품당 평균 구매 금액\n",
        "zz = order2[order2.카테고리1 == '신발']\n",
        "qq = zz.groupby('고유번호').agg({'구매일자':'count'})\n",
        "qq = qq.reset_index().rename(columns={\"index\": \"id\"})\n",
        "ww = zz.groupby('고유번호').agg({'결제가':'sum'})\n",
        "ww = ww.reset_index().rename(columns={\"index\": \"id\"})\n",
        "ee = pd.merge(qq,ww, on='고유번호', how='inner')\n",
        "ee['상품 평균 구매금액'] = ee['결제가'] / ee['구매일자']  #회원 당 평균구매금액이고\n",
        "display(ee)\n",
        "print(\"회원들의 1회 평균 구매 금액은 :\", ee['상품 평균 구매금액'].mean()) #전체 회원의 평균구매금액"
      ]
    },
    {
      "cell_type": "code",
      "execution_count": null,
      "id": "3e8704ca",
      "metadata": {
        "id": "3e8704ca",
        "outputId": "357e1c54-0416-44a4-ae73-efad02e45e3d"
      },
      "outputs": [
        {
          "name": "stdout",
          "output_type": "stream",
          "text": [
            "평균 구매 횟수는 : 2.32\n",
            "평균 구매 상품수는 : 3.14\n"
          ]
        }
      ],
      "source": [
        "qq = zz.groupby('고유번호',as_index = False).agg({'구매일자':'nunique'})\n",
        "print(\"평균 구매 횟수는 :\", np.round(qq[\"구매일자\"].mean(),2)) \n",
        "print(\"평균 구매 상품수는 :\", np.round(ee[\"구매일자\"].mean(),2)) "
      ]
    },
    {
      "cell_type": "markdown",
      "id": "39a0535b",
      "metadata": {
        "id": "39a0535b"
      },
      "source": [
        "# 유저 정보 매칭하기\n"
      ]
    },
    {
      "cell_type": "code",
      "execution_count": null,
      "id": "e8512d5a",
      "metadata": {
        "id": "e8512d5a"
      },
      "outputs": [],
      "source": [
        "user = pd.read_pickle(\"../TBWA/user_fin.pkl\")\n",
        "order = pd.read_pickle(\"../TBWA/order_fin.pkl\")"
      ]
    },
    {
      "cell_type": "code",
      "execution_count": null,
      "id": "e3e51ec6",
      "metadata": {
        "id": "e3e51ec6"
      },
      "outputs": [],
      "source": []
    },
    {
      "cell_type": "code",
      "execution_count": null,
      "id": "e4d7f094",
      "metadata": {
        "id": "e4d7f094"
      },
      "outputs": [],
      "source": [
        "# 79064명 -> # 최종가입일이 2019년 1월 1일 기준으로\n",
        "\n",
        "user.최종가입일 = user.최종가입일.astype(str)\n",
        "user['최종가입일'] = np.where((user.최종가입일 < '2019-01-01') , '2019-01-01' ,user['최종가입일'])\n",
        "user = user[user.최종가입일 <= \"2022-12-31\"].reset_index(drop = True)\n",
        "user['최종가입일'] = pd.to_datetime(user['최종가입일'], errors='coerce')"
      ]
    },
    {
      "cell_type": "code",
      "execution_count": null,
      "id": "cd29562d",
      "metadata": {
        "id": "cd29562d",
        "outputId": "da5a1731-7f86-4385-929e-6f7420c8b172"
      },
      "outputs": [
        {
          "data": {
            "text/plain": [
              "1878788"
            ]
          },
          "execution_count": 93,
          "metadata": {},
          "output_type": "execute_result"
        }
      ],
      "source": [
        "len(user)"
      ]
    },
    {
      "cell_type": "code",
      "execution_count": null,
      "id": "8630d765",
      "metadata": {
        "id": "8630d765"
      },
      "outputs": [],
      "source": [
        "user['최초가입일2'] = user['최초가입일'].astype(str)\n",
        "user['최초가입연월'] = user['최초가입일2'].str[:7]\n",
        "\n",
        "user['최종가입일2'] = user['최종가입일'].astype(str)\n",
        "user['최종가입연월'] = user['최종가입일2'].str[:7]\n",
        "\n",
        "user['최초가입연도'] = user['최초가입일'].dt.year\n",
        "user['최종가입연도'] = user['최종가입일'].dt.year\n",
        "user['최초가입월'] = user['최초가입일'].dt.month\n",
        "user['최종가입월'] = user['최종가입일'].dt.month"
      ]
    },
    {
      "cell_type": "code",
      "execution_count": null,
      "id": "6064b00d",
      "metadata": {
        "id": "6064b00d",
        "outputId": "b145f80f-0ca5-44d2-a3a3-6bb391047510"
      },
      "outputs": [
        {
          "data": {
            "text/plain": [
              "29201"
            ]
          },
          "execution_count": 192,
          "metadata": {},
          "output_type": "execute_result"
        }
      ],
      "source": [
        "len(user[user.최종가입연도 == 2023])"
      ]
    },
    {
      "cell_type": "code",
      "execution_count": null,
      "id": "4d219d3c",
      "metadata": {
        "id": "4d219d3c",
        "outputId": "d5ded3bd-8285-41a2-f3aa-a0a3939b5212"
      },
      "outputs": [
        {
          "data": {
            "text/plain": [
              "Timestamp('2022-12-31 00:00:00')"
            ]
          },
          "execution_count": 95,
          "metadata": {},
          "output_type": "execute_result"
        }
      ],
      "source": [
        "user.최종가입일.max()"
      ]
    },
    {
      "cell_type": "code",
      "execution_count": null,
      "id": "f1edbfb7",
      "metadata": {
        "id": "f1edbfb7",
        "outputId": "d90f1b72-8a86-4bac-f1f0-11927c1a3b3d"
      },
      "outputs": [
        {
          "data": {
            "text/plain": [
              "datetime.datetime(2023, 1, 1, 0, 0)"
            ]
          },
          "execution_count": 96,
          "metadata": {},
          "output_type": "execute_result"
        }
      ],
      "source": [
        "dateformat = \"%Y-%m-%d\"\n",
        "str_datetime = \"2023-01-01\"\n",
        "datetime_convert2 = datetime.strptime(str_datetime, dateformat)\n",
        "datetime_convert2"
      ]
    },
    {
      "cell_type": "code",
      "execution_count": null,
      "id": "af095c10",
      "metadata": {
        "id": "af095c10"
      },
      "outputs": [],
      "source": [
        "user['유지기간'] = datetime_convert2 - user.최종가입일\n",
        "user.유지기간 = user.유지기간.dt.days\n",
        "user.유지기간 = user.유지기간  # 연도 단위"
      ]
    },
    {
      "cell_type": "code",
      "execution_count": null,
      "id": "ab58aa73",
      "metadata": {
        "id": "ab58aa73"
      },
      "outputs": [],
      "source": [
        "def fun1(x) : \n",
        "    if x >= 365 * 10 : \n",
        "        return 11\n",
        "    elif x >= 365 * 9 : \n",
        "        return 10\n",
        "    elif x >= 365 * 8 :\n",
        "        return 9\n",
        "    elif x >= 365 * 7:\n",
        "        return 8\n",
        "    elif x >= 365 * 6:\n",
        "        return 7\n",
        "    elif x >= 365 * 5:\n",
        "        return 6\n",
        "    elif x >= 365 * 4:\n",
        "        return 5\n",
        "    elif x >= 365 * 3:\n",
        "        return 4\n",
        "    elif x >= 365 * 2:\n",
        "        return 3\n",
        "    elif x >= 365 :\n",
        "        return 2\n",
        "    else :\n",
        "        return 1\n",
        "user['유지기간2'] = user['유지기간'].apply(fun1)"
      ]
    },
    {
      "cell_type": "code",
      "execution_count": null,
      "id": "5b480036",
      "metadata": {
        "id": "5b480036"
      },
      "outputs": [],
      "source": [
        "df = pd.merge(order, user[['고유번호', '최초가입일', '최종가입일', '최종탈퇴일', '재가입횟수']], on = '고유번호', how = 'inner')"
      ]
    },
    {
      "cell_type": "code",
      "execution_count": null,
      "id": "6df14995",
      "metadata": {
        "id": "6df14995"
      },
      "outputs": [],
      "source": [
        "order2 = df[df.구매일자 >= df.최종가입일].reset_index(drop = True)"
      ]
    },
    {
      "cell_type": "code",
      "execution_count": null,
      "id": "39a38b37",
      "metadata": {
        "id": "39a38b37",
        "outputId": "eba05876-d439-40d2-9cd7-83aa23bc9063"
      },
      "outputs": [
        {
          "name": "stdout",
          "output_type": "stream",
          "text": [
            "4292195\n",
            "1878788\n"
          ]
        }
      ],
      "source": [
        "print(len(order2))\n",
        "print(len(user))"
      ]
    },
    {
      "cell_type": "code",
      "execution_count": null,
      "id": "329fcc4a",
      "metadata": {
        "id": "329fcc4a"
      },
      "outputs": [],
      "source": [
        "user['c_PC로그인횟수(누적)'] = user['PC로그인횟수_2020'] + user['PC로그인횟수_2021'] + user['PC로그인횟수_2022']\n",
        "user['c_모바일로그인횟수(누적)'] = user['모바일로그인횟수_2020'] + user['모바일로그인횟수_2021'] + user['모바일로그인횟수_2022']\n",
        "user['c_앱로그인횟수(누적)'] = user['앱로그인횟수_2020'] + user['앱로그인횟수_2021'] + user['앱로그인횟수_2022']\n",
        "user['총 로그인횟수'] = user['c_PC로그인횟수(누적)'] + user['c_모바일로그인횟수(누적)'] + user['c_앱로그인횟수(누적)']\n",
        "user['c_년간포인트사용액(누적)'] = user['년간포인트사용액_2020'] + user['년간포인트사용액_2021'] + user['년간포인트사용액_2022']\n",
        "user['c_출석체크_응모건수(누적)'] = user['출석체크_응모건수_2020'] + user['출석체크_응모건수_2021'] + user['출석체크_응모건수_2022']\n",
        "user['c_출석체크_응모건수(누적)'] = user['출석체크_응모건수_2020'] + user['출석체크_응모건수_2021'] + user['출석체크_응모건수_2022']\n",
        "user['c_출석체크_참여일수(누적)'] = user['출석체크_참여일수_2020'] + user['출석체크_참여일수_2021'] + user['출석체크_참여일수_2022']\n",
        "user['c_일반이벤트_응모건수(누적)'] = user['일반이벤트_응모건수_2020'] + user['일반이벤트_응모건수_2021'] + user['일반이벤트_응모건수_2022']\n",
        "user['c_드로우 응모건수(누적)'] = user['드로우 응모건수_2020'] + user['드로우 응모건수_2021'] + user['드로우 응모건수_2022']"
      ]
    },
    {
      "cell_type": "code",
      "execution_count": null,
      "id": "169b33ce",
      "metadata": {
        "id": "169b33ce"
      },
      "outputs": [],
      "source": [
        "user_fin = user[['고유번호','최종가입일','유지기간','유지기간2','리뷰작성건수', 'c_출석체크_참여일수(누적)', 'c_일반이벤트_응모건수(누적)', 'c_드로우 응모건수(누적)']]"
      ]
    },
    {
      "cell_type": "code",
      "execution_count": null,
      "id": "de741029",
      "metadata": {
        "id": "de741029",
        "outputId": "c01847c6-1ec9-4e5b-bcb1-56e5ad9aff54"
      },
      "outputs": [
        {
          "data": {
            "text/plain": [
              "1    1121730\n",
              "2     417397\n",
              "3     211288\n",
              "5      79285\n",
              "4      49088\n",
              "Name: 유지기간2, dtype: int64"
            ]
          },
          "execution_count": 107,
          "metadata": {},
          "output_type": "execute_result"
        }
      ],
      "source": [
        "user_fin.유지기간2.value_counts()"
      ]
    },
    {
      "cell_type": "markdown",
      "id": "df16335b",
      "metadata": {
        "id": "df16335b"
      },
      "source": [
        "# 구매 점수 :\n",
        "### 1) 유지기간 연 평균 구매횟수(구매건수 / 유지기간)\n",
        "### 2) 유지기간 연 평균 구매상품수(상품수 / 유지기간)\n",
        "### 3) 유지기간 연 평균 구매 금액 (결제가 총합 / 유지기간)\n",
        "- 누적된 구매횟수는 10개인게 유지기간이 10년이면 1회 산 사람으로 되어버리니까 ..\n",
        "- 10점만점 하려고 했는데, 출첵 10번도 잘한편인데 100회랑 차이를 준다는게 \n",
        "- 도소매 제외한 이유는, 도소매는 구매만 많으면 도소매니까 참여와는 무관하다고 생각"
      ]
    },
    {
      "cell_type": "code",
      "execution_count": null,
      "id": "dc45f3cf",
      "metadata": {
        "id": "dc45f3cf"
      },
      "outputs": [],
      "source": [
        "demo = order2.groupby(\"고유번호\", as_index=False).agg({'구매일자' : 'nunique'})\n",
        "demo.rename(columns = {'구매일자' : '구매횟수'}, inplace = True)\n",
        "user_fin = pd.merge(user_fin, demo, on = '고유번호', how = 'left')\n",
        "user_fin['구매횟수'] = user_fin['구매횟수'].fillna(value=0)\n",
        "user_fin['연 평균 구매횟수'] = user_fin['구매횟수'] / user_fin['유지기간2'] "
      ]
    },
    {
      "cell_type": "code",
      "execution_count": null,
      "id": "6de5a00f",
      "metadata": {
        "id": "6de5a00f"
      },
      "outputs": [],
      "source": [
        "demo = order2.groupby(\"고유번호\", as_index=False).agg({'구매일자' : 'count'})\n",
        "demo.rename(columns = {'구매일자' : '구매상품수'}, inplace = True)\n",
        "user_fin = pd.merge(user_fin, demo, on = '고유번호', how = 'left')\n",
        "user_fin['구매상품수'] = user_fin['구매상품수'].fillna(value=0)\n",
        "user_fin['연 평균 구매상품수'] = user_fin['구매상품수'] / user_fin['유지기간2'] "
      ]
    },
    {
      "cell_type": "code",
      "execution_count": null,
      "id": "d3340e26",
      "metadata": {
        "id": "d3340e26"
      },
      "outputs": [],
      "source": [
        "demo = order2.groupby(\"고유번호\", as_index=False).agg({'결제가' : 'sum'})\n",
        "demo.rename(columns = {'결제가' : '결제가 총합'}, inplace = True)\n",
        "user_fin = pd.merge(user_fin, demo, on = '고유번호', how = 'left')\n",
        "user_fin['결제가 총합'] = user_fin['결제가 총합'].fillna(value=0)\n",
        "user_fin['연 평균 결제가 총합'] = user_fin['결제가 총합'] / user_fin['유지기간2'] "
      ]
    },
    {
      "cell_type": "markdown",
      "id": "74ac8dbd",
      "metadata": {
        "id": "74ac8dbd"
      },
      "source": [
        "### 점수 만들기"
      ]
    },
    {
      "cell_type": "code",
      "execution_count": null,
      "id": "bd4f39c0",
      "metadata": {
        "id": "bd4f39c0"
      },
      "outputs": [],
      "source": [
        "## 2021년의 회원들의 구매평균"
      ]
    },
    {
      "cell_type": "code",
      "execution_count": null,
      "id": "794392b6",
      "metadata": {
        "id": "794392b6"
      },
      "outputs": [],
      "source": [
        "purchase = user_fin[['고유번호', '연 평균 구매횟수','연 평균 구매상품수','연 평균 결제가 총합' ]]"
      ]
    },
    {
      "cell_type": "code",
      "execution_count": null,
      "id": "3358fb56",
      "metadata": {
        "id": "3358fb56"
      },
      "outputs": [],
      "source": [
        "## 10점 만점으로"
      ]
    },
    {
      "cell_type": "code",
      "execution_count": null,
      "id": "035f0560",
      "metadata": {
        "id": "035f0560",
        "outputId": "c9c399eb-b3e3-47cf-bef8-41549573d7a1"
      },
      "outputs": [
        {
          "data": {
            "text/plain": [
              "(0.75, 1.0]      682551\n",
              "(-0.001, 0.2]    629892\n",
              "(1.0, 2.0]       245885\n",
              "(0.2, 0.75]      210434\n",
              "(2.0, 105.0]     110026\n",
              "Name: 연 평균 구매횟수, dtype: int64"
            ]
          },
          "execution_count": 118,
          "metadata": {},
          "output_type": "execute_result"
        }
      ],
      "source": [
        "pd.qcut(purchase['연 평균 구매횟수'],q=9,duplicates = 'drop').value_counts()"
      ]
    },
    {
      "cell_type": "code",
      "execution_count": null,
      "id": "68c30b71",
      "metadata": {
        "id": "68c30b71"
      },
      "outputs": [],
      "source": [
        "purchase['구매횟수_score'] = pd.qcut(purchase['연 평균 구매횟수'],q=9, labels = [1,2,3,4,5],duplicates = 'drop')\n",
        "purchase['구매횟수_score'] = purchase['구매횟수_score'].astype(int)"
      ]
    },
    {
      "cell_type": "code",
      "execution_count": null,
      "id": "97baa4b3",
      "metadata": {
        "id": "97baa4b3",
        "outputId": "442d9ed2-af4e-4584-c06e-bc5c4dd6d776"
      },
      "outputs": [
        {
          "data": {
            "text/plain": [
              "(-0.001, 0.8]    806483\n",
              "(0.8, 1.0]       512846\n",
              "(1.333, 2.0]     270487\n",
              "(2.0, 200.0]     263535\n",
              "(1.0, 1.333]      25437\n",
              "Name: 연 평균 구매상품수, dtype: int64"
            ]
          },
          "execution_count": 122,
          "metadata": {},
          "output_type": "execute_result"
        }
      ],
      "source": [
        "pd.qcut(purchase['연 평균 구매상품수'],q=7,duplicates = 'drop').value_counts()"
      ]
    },
    {
      "cell_type": "code",
      "execution_count": null,
      "id": "e461c485",
      "metadata": {
        "id": "e461c485"
      },
      "outputs": [],
      "source": [
        "purchase['구매상품수_score']  = pd.qcut(purchase['연 평균 구매상품수'],q=7, labels = [1,2,3,4,5],duplicates = 'drop')\n",
        "purchase['구매상품수_score'] = purchase['구매상품수_score'].astype(int)"
      ]
    },
    {
      "cell_type": "code",
      "execution_count": null,
      "id": "533b4845",
      "metadata": {
        "id": "533b4845",
        "outputId": "9c2a31ea-5b1a-4d27-dc38-6b8f97e38e36"
      },
      "outputs": [
        {
          "data": {
            "text/plain": [
              "(-0.001, 36000.0]         806073\n",
              "(36000.0, 59000.0]        279982\n",
              "(139000.0, 22741800.0]    268369\n",
              "(59000.0, 89000.0]        265016\n",
              "(89000.0, 139000.0]       259348\n",
              "Name: 연 평균 결제가 총합, dtype: int64"
            ]
          },
          "execution_count": 124,
          "metadata": {},
          "output_type": "execute_result"
        }
      ],
      "source": [
        "pd.qcut(purchase['연 평균 결제가 총합'],q=7,duplicates = 'drop').value_counts()"
      ]
    },
    {
      "cell_type": "code",
      "execution_count": null,
      "id": "adf881b1",
      "metadata": {
        "id": "adf881b1"
      },
      "outputs": [],
      "source": [
        "purchase['결제가_score']  = pd.qcut(purchase['연 평균 결제가 총합'],q=7, labels = [1,2,3,4,5],duplicates = 'drop')\n",
        "purchase['결제가_score'] = purchase['결제가_score'].astype(int)"
      ]
    },
    {
      "cell_type": "code",
      "execution_count": null,
      "id": "5a6c40d6",
      "metadata": {
        "id": "5a6c40d6",
        "outputId": "88a62103-9939-4d8d-e697-b62db5a276e8"
      },
      "outputs": [
        {
          "data": {
            "text/html": [
              "<div>\n",
              "<style scoped>\n",
              "    .dataframe tbody tr th:only-of-type {\n",
              "        vertical-align: middle;\n",
              "    }\n",
              "\n",
              "    .dataframe tbody tr th {\n",
              "        vertical-align: top;\n",
              "    }\n",
              "\n",
              "    .dataframe thead th {\n",
              "        text-align: right;\n",
              "    }\n",
              "</style>\n",
              "<table border=\"1\" class=\"dataframe\">\n",
              "  <thead>\n",
              "    <tr style=\"text-align: right;\">\n",
              "      <th></th>\n",
              "      <th>고유번호</th>\n",
              "      <th>연 평균 구매횟수</th>\n",
              "      <th>연 평균 구매상품수</th>\n",
              "      <th>연 평균 결제가 총합</th>\n",
              "      <th>구매횟수_score</th>\n",
              "      <th>구매상품수_score</th>\n",
              "      <th>결제가_score</th>\n",
              "      <th>purchase_score</th>\n",
              "    </tr>\n",
              "  </thead>\n",
              "  <tbody>\n",
              "    <tr>\n",
              "      <th>0</th>\n",
              "      <td>48066EF2E782C577A25A7A0C38CFCAECE33A2420BFB8EC...</td>\n",
              "      <td>0.0000</td>\n",
              "      <td>0.0000</td>\n",
              "      <td>0.0000</td>\n",
              "      <td>1</td>\n",
              "      <td>1</td>\n",
              "      <td>1</td>\n",
              "      <td>10</td>\n",
              "    </tr>\n",
              "    <tr>\n",
              "      <th>1</th>\n",
              "      <td>4ED3B18A3DB2CE13DE559397E59FAF3701B9A49685EB28...</td>\n",
              "      <td>0.0000</td>\n",
              "      <td>0.0000</td>\n",
              "      <td>0.0000</td>\n",
              "      <td>1</td>\n",
              "      <td>1</td>\n",
              "      <td>1</td>\n",
              "      <td>10</td>\n",
              "    </tr>\n",
              "    <tr>\n",
              "      <th>2</th>\n",
              "      <td>47EB4685B42EF7BD6B60DCBAF4611FC729D1FA3189D149...</td>\n",
              "      <td>0.0000</td>\n",
              "      <td>0.0000</td>\n",
              "      <td>0.0000</td>\n",
              "      <td>1</td>\n",
              "      <td>1</td>\n",
              "      <td>1</td>\n",
              "      <td>10</td>\n",
              "    </tr>\n",
              "    <tr>\n",
              "      <th>3</th>\n",
              "      <td>F017BC3BC9940394BD291128D6C21E6F33B0FB69A63C71...</td>\n",
              "      <td>0.0000</td>\n",
              "      <td>0.0000</td>\n",
              "      <td>0.0000</td>\n",
              "      <td>1</td>\n",
              "      <td>1</td>\n",
              "      <td>1</td>\n",
              "      <td>10</td>\n",
              "    </tr>\n",
              "    <tr>\n",
              "      <th>4</th>\n",
              "      <td>ACF7ECFA0C20E47E546A0A17A1F992635DBF9BD10BD386...</td>\n",
              "      <td>0.0000</td>\n",
              "      <td>0.0000</td>\n",
              "      <td>0.0000</td>\n",
              "      <td>1</td>\n",
              "      <td>1</td>\n",
              "      <td>1</td>\n",
              "      <td>10</td>\n",
              "    </tr>\n",
              "    <tr>\n",
              "      <th>5</th>\n",
              "      <td>A8DE55F062184E7417A56C11409EC72D8D8D5F72D62016...</td>\n",
              "      <td>1.0000</td>\n",
              "      <td>1.0000</td>\n",
              "      <td>19000.0000</td>\n",
              "      <td>3</td>\n",
              "      <td>2</td>\n",
              "      <td>1</td>\n",
              "      <td>20</td>\n",
              "    </tr>\n",
              "    <tr>\n",
              "      <th>6</th>\n",
              "      <td>DA330CE0694D3085D534C64BB0F1091927538A1ECC3052...</td>\n",
              "      <td>1.0000</td>\n",
              "      <td>1.0000</td>\n",
              "      <td>39000.0000</td>\n",
              "      <td>3</td>\n",
              "      <td>2</td>\n",
              "      <td>2</td>\n",
              "      <td>24</td>\n",
              "    </tr>\n",
              "    <tr>\n",
              "      <th>7</th>\n",
              "      <td>3EB712303EA71532E354F051A89AE7E14EE5C8E4DF588F...</td>\n",
              "      <td>1.0000</td>\n",
              "      <td>1.0000</td>\n",
              "      <td>129000.0000</td>\n",
              "      <td>3</td>\n",
              "      <td>2</td>\n",
              "      <td>4</td>\n",
              "      <td>32</td>\n",
              "    </tr>\n",
              "    <tr>\n",
              "      <th>8</th>\n",
              "      <td>244CF77466B7DC10A224F8C4280D746A985B8D93F9A94E...</td>\n",
              "      <td>0.6000</td>\n",
              "      <td>1.0000</td>\n",
              "      <td>13800.0000</td>\n",
              "      <td>2</td>\n",
              "      <td>2</td>\n",
              "      <td>1</td>\n",
              "      <td>16</td>\n",
              "    </tr>\n",
              "    <tr>\n",
              "      <th>9</th>\n",
              "      <td>9D49DDA455AA672075F851D21300F43C9387EAA89EAD5E...</td>\n",
              "      <td>0.6000</td>\n",
              "      <td>0.6000</td>\n",
              "      <td>19000.0000</td>\n",
              "      <td>2</td>\n",
              "      <td>1</td>\n",
              "      <td>1</td>\n",
              "      <td>14</td>\n",
              "    </tr>\n",
              "    <tr>\n",
              "      <th>10</th>\n",
              "      <td>7302D8F93E2D9FCA3552F60C5AF2BCF1A55B034609F950...</td>\n",
              "      <td>2.0000</td>\n",
              "      <td>2.4000</td>\n",
              "      <td>126420.0000</td>\n",
              "      <td>4</td>\n",
              "      <td>5</td>\n",
              "      <td>4</td>\n",
              "      <td>42</td>\n",
              "    </tr>\n",
              "    <tr>\n",
              "      <th>11</th>\n",
              "      <td>06CF82C890C10FC85A93E826B44153BC21A6A3A473EE7D...</td>\n",
              "      <td>1.0000</td>\n",
              "      <td>1.5000</td>\n",
              "      <td>75500.0000</td>\n",
              "      <td>3</td>\n",
              "      <td>4</td>\n",
              "      <td>3</td>\n",
              "      <td>32</td>\n",
              "    </tr>\n",
              "    <tr>\n",
              "      <th>12</th>\n",
              "      <td>49D9595AB4D98EB0C9935242CAA5208BEF25B226A80CE9...</td>\n",
              "      <td>1.6000</td>\n",
              "      <td>2.2000</td>\n",
              "      <td>87720.0000</td>\n",
              "      <td>4</td>\n",
              "      <td>5</td>\n",
              "      <td>3</td>\n",
              "      <td>38</td>\n",
              "    </tr>\n",
              "    <tr>\n",
              "      <th>13</th>\n",
              "      <td>6F658A4AABE1345BF394D7BB0D02C51DC079906261DE26...</td>\n",
              "      <td>3.4000</td>\n",
              "      <td>4.2000</td>\n",
              "      <td>142900.0000</td>\n",
              "      <td>5</td>\n",
              "      <td>5</td>\n",
              "      <td>5</td>\n",
              "      <td>50</td>\n",
              "    </tr>\n",
              "    <tr>\n",
              "      <th>14</th>\n",
              "      <td>06A93B9EBA242CD3A7FDC84598C130E6F60E76A1553BC2...</td>\n",
              "      <td>2.2000</td>\n",
              "      <td>3.6000</td>\n",
              "      <td>152400.0000</td>\n",
              "      <td>5</td>\n",
              "      <td>5</td>\n",
              "      <td>5</td>\n",
              "      <td>50</td>\n",
              "    </tr>\n",
              "    <tr>\n",
              "      <th>15</th>\n",
              "      <td>A6C693E9CEAF49F6285188B0487981750DE367C0D643DF...</td>\n",
              "      <td>3.0000</td>\n",
              "      <td>3.8000</td>\n",
              "      <td>142000.0000</td>\n",
              "      <td>5</td>\n",
              "      <td>5</td>\n",
              "      <td>5</td>\n",
              "      <td>50</td>\n",
              "    </tr>\n",
              "    <tr>\n",
              "      <th>16</th>\n",
              "      <td>A1EC4BDF1ECE7ECD7FFBE63E30D7123A5D1AF8C532B77B...</td>\n",
              "      <td>0.6000</td>\n",
              "      <td>0.8000</td>\n",
              "      <td>73200.0000</td>\n",
              "      <td>2</td>\n",
              "      <td>1</td>\n",
              "      <td>3</td>\n",
              "      <td>22</td>\n",
              "    </tr>\n",
              "    <tr>\n",
              "      <th>17</th>\n",
              "      <td>17D716A1807F3D09AEFDEA6E33413DF83DD1A6E04781A7...</td>\n",
              "      <td>4.2000</td>\n",
              "      <td>7.6000</td>\n",
              "      <td>457380.0000</td>\n",
              "      <td>5</td>\n",
              "      <td>5</td>\n",
              "      <td>5</td>\n",
              "      <td>50</td>\n",
              "    </tr>\n",
              "    <tr>\n",
              "      <th>18</th>\n",
              "      <td>56BE797A50ED1608A372C699D47BFF575CDE940EE76D61...</td>\n",
              "      <td>0.0000</td>\n",
              "      <td>0.0000</td>\n",
              "      <td>0.0000</td>\n",
              "      <td>1</td>\n",
              "      <td>1</td>\n",
              "      <td>1</td>\n",
              "      <td>10</td>\n",
              "    </tr>\n",
              "    <tr>\n",
              "      <th>19</th>\n",
              "      <td>E89CF756397D5AA1386FA207FD487BBD0962B377ED4E1D...</td>\n",
              "      <td>0.0000</td>\n",
              "      <td>0.0000</td>\n",
              "      <td>0.0000</td>\n",
              "      <td>1</td>\n",
              "      <td>1</td>\n",
              "      <td>1</td>\n",
              "      <td>10</td>\n",
              "    </tr>\n",
              "  </tbody>\n",
              "</table>\n",
              "</div>"
            ],
            "text/plain": [
              "                                                 고유번호  연 평균 구매횟수  연 평균 구매상품수  \\\n",
              "0   48066EF2E782C577A25A7A0C38CFCAECE33A2420BFB8EC...     0.0000      0.0000   \n",
              "1   4ED3B18A3DB2CE13DE559397E59FAF3701B9A49685EB28...     0.0000      0.0000   \n",
              "2   47EB4685B42EF7BD6B60DCBAF4611FC729D1FA3189D149...     0.0000      0.0000   \n",
              "3   F017BC3BC9940394BD291128D6C21E6F33B0FB69A63C71...     0.0000      0.0000   \n",
              "4   ACF7ECFA0C20E47E546A0A17A1F992635DBF9BD10BD386...     0.0000      0.0000   \n",
              "5   A8DE55F062184E7417A56C11409EC72D8D8D5F72D62016...     1.0000      1.0000   \n",
              "6   DA330CE0694D3085D534C64BB0F1091927538A1ECC3052...     1.0000      1.0000   \n",
              "7   3EB712303EA71532E354F051A89AE7E14EE5C8E4DF588F...     1.0000      1.0000   \n",
              "8   244CF77466B7DC10A224F8C4280D746A985B8D93F9A94E...     0.6000      1.0000   \n",
              "9   9D49DDA455AA672075F851D21300F43C9387EAA89EAD5E...     0.6000      0.6000   \n",
              "10  7302D8F93E2D9FCA3552F60C5AF2BCF1A55B034609F950...     2.0000      2.4000   \n",
              "11  06CF82C890C10FC85A93E826B44153BC21A6A3A473EE7D...     1.0000      1.5000   \n",
              "12  49D9595AB4D98EB0C9935242CAA5208BEF25B226A80CE9...     1.6000      2.2000   \n",
              "13  6F658A4AABE1345BF394D7BB0D02C51DC079906261DE26...     3.4000      4.2000   \n",
              "14  06A93B9EBA242CD3A7FDC84598C130E6F60E76A1553BC2...     2.2000      3.6000   \n",
              "15  A6C693E9CEAF49F6285188B0487981750DE367C0D643DF...     3.0000      3.8000   \n",
              "16  A1EC4BDF1ECE7ECD7FFBE63E30D7123A5D1AF8C532B77B...     0.6000      0.8000   \n",
              "17  17D716A1807F3D09AEFDEA6E33413DF83DD1A6E04781A7...     4.2000      7.6000   \n",
              "18  56BE797A50ED1608A372C699D47BFF575CDE940EE76D61...     0.0000      0.0000   \n",
              "19  E89CF756397D5AA1386FA207FD487BBD0962B377ED4E1D...     0.0000      0.0000   \n",
              "\n",
              "    연 평균 결제가 총합  구매횟수_score  구매상품수_score  결제가_score  purchase_score  \n",
              "0        0.0000           1            1          1              10  \n",
              "1        0.0000           1            1          1              10  \n",
              "2        0.0000           1            1          1              10  \n",
              "3        0.0000           1            1          1              10  \n",
              "4        0.0000           1            1          1              10  \n",
              "5    19000.0000           3            2          1              20  \n",
              "6    39000.0000           3            2          2              24  \n",
              "7   129000.0000           3            2          4              32  \n",
              "8    13800.0000           2            2          1              16  \n",
              "9    19000.0000           2            1          1              14  \n",
              "10  126420.0000           4            5          4              42  \n",
              "11   75500.0000           3            4          3              32  \n",
              "12   87720.0000           4            5          3              38  \n",
              "13  142900.0000           5            5          5              50  \n",
              "14  152400.0000           5            5          5              50  \n",
              "15  142000.0000           5            5          5              50  \n",
              "16   73200.0000           2            1          3              22  \n",
              "17  457380.0000           5            5          5              50  \n",
              "18       0.0000           1            1          1              10  \n",
              "19       0.0000           1            1          1              10  "
            ]
          },
          "execution_count": 126,
          "metadata": {},
          "output_type": "execute_result"
        }
      ],
      "source": [
        "purchase['purchase_score'] = 4*purchase['구매횟수_score'] + 2*purchase['구매상품수_score'] + 4*purchase['결제가_score']\n",
        "purchase.head(20)  # 10 ~ 50점 사이 점수"
      ]
    },
    {
      "cell_type": "markdown",
      "id": "fd76943d",
      "metadata": {
        "id": "fd76943d"
      },
      "source": [
        "# 활동 점수 :  \n",
        "        - [1] 포인트 횟수(1회 초과[구간화] / 1회 / 사용 없음)\n",
        "        - [1] 쿠폰(1회 초과[구간화] / 1회 / 사용 없음)\n",
        "        - [2] 출석체크 참여 횟수(참여[구간화] / 비참여)\n",
        "        - [2] 그외 이벤트(참여[구간화] / 비참여)\n",
        "        - [2] 드로우(횟수로 구간화)\n",
        "        - [2] 리뷰 작성 횟수(참여 / 비참여)\n"
      ]
    },
    {
      "cell_type": "code",
      "execution_count": null,
      "id": "0adab65a",
      "metadata": {
        "id": "0adab65a"
      },
      "outputs": [],
      "source": [
        "point_list = []\n",
        "\n",
        "for i in range(len(order2)) : \n",
        "    if order2['쿠폰사용여부'][i] == 'O' :\n",
        "        point_list.append(1)\n",
        "    else : \n",
        "        point_list.append(0)\n",
        "\n",
        "order2['c_쿠폰사용여부'] = point_list"
      ]
    },
    {
      "cell_type": "code",
      "execution_count": null,
      "id": "43f4de26",
      "metadata": {
        "id": "43f4de26"
      },
      "outputs": [],
      "source": [
        "demo = order2.groupby(\"고유번호\", as_index=False).agg({'c_쿠폰사용여부' : 'sum'})\n",
        "demo.rename(columns = {'c_쿠폰사용여부' : '쿠폰사용횟수'}, inplace = True)\n",
        "user_fin = pd.merge(user_fin, demo, on = '고유번호', how = 'left')\n",
        "user_fin['쿠폰사용횟수'] = user_fin['쿠폰사용횟수'].fillna(value=0)\n",
        "user_fin['연 평균 쿠폰사용횟수'] = user_fin['쿠폰사용횟수'] / user_fin['유지기간2'] "
      ]
    },
    {
      "cell_type": "code",
      "execution_count": null,
      "id": "0166dc2e",
      "metadata": {
        "id": "0166dc2e"
      },
      "outputs": [],
      "source": [
        "point_list = []\n",
        "\n",
        "for i in range(len(order2)) : \n",
        "    if order2['포인트사용여부'][i] == 'O' :\n",
        "        point_list.append(1)\n",
        "    else : \n",
        "        point_list.append(0)\n",
        "\n",
        "order2['c_포인트사용여부'] = point_list"
      ]
    },
    {
      "cell_type": "code",
      "execution_count": null,
      "id": "b9ed950b",
      "metadata": {
        "id": "b9ed950b"
      },
      "outputs": [],
      "source": [
        "demo = order2.groupby(\"고유번호\", as_index=False).agg({'c_포인트사용여부' : 'sum'})\n",
        "demo.rename(columns = {'c_포인트사용여부' : '포인트사용횟수'}, inplace = True)\n",
        "user_fin = pd.merge(user_fin, demo, on = '고유번호', how = 'left')\n",
        "user_fin['포인트사용횟수'] = user_fin['포인트사용횟수'].fillna(value=0)\n",
        "user_fin['연 평균 포인트사용횟수'] = user_fin['포인트사용횟수'] / user_fin['유지기간2'] "
      ]
    },
    {
      "cell_type": "code",
      "execution_count": null,
      "id": "ba75e9fe",
      "metadata": {
        "id": "ba75e9fe"
      },
      "outputs": [],
      "source": [
        "user_fin['연 평균 출첵참여횟수'] = user_fin['c_출석체크_참여일수(누적)'] / user_fin['유지기간2']\n",
        "user_fin['연 평균 일반이벤트횟수'] = user_fin['c_일반이벤트_응모건수(누적)'] / user_fin['유지기간2']\n",
        "user_fin['연 평균 드로우횟수'] = user_fin['c_드로우 응모건수(누적)'] / user_fin['유지기간2']\n",
        "user_fin['연 평균 리뷰작성횟수'] = user_fin['리뷰작성건수'] / user_fin['유지기간2']"
      ]
    },
    {
      "cell_type": "code",
      "execution_count": null,
      "id": "e76df082",
      "metadata": {
        "id": "e76df082"
      },
      "outputs": [],
      "source": [
        "action = user_fin[['고유번호', '연 평균 포인트사용횟수', '연 평균 쿠폰사용횟수', '연 평균 출첵참여횟수',\n",
        "         '연 평균 일반이벤트횟수','연 평균 드로우횟수', '연 평균 리뷰작성횟수']]"
      ]
    },
    {
      "cell_type": "code",
      "execution_count": null,
      "id": "c9e7eea8",
      "metadata": {
        "id": "c9e7eea8",
        "outputId": "7c636fa4-2748-4788-cced-4e32258d8260"
      },
      "outputs": [
        {
          "data": {
            "text/plain": [
              "(0.6, 1.0]       191797\n",
              "(0.199, 0.6]     113784\n",
              "(1.667, 54.0]    109158\n",
              "(1.0, 1.667]      24853\n",
              "Name: 연 평균 포인트사용횟수, dtype: int64"
            ]
          },
          "execution_count": 133,
          "metadata": {},
          "output_type": "execute_result"
        }
      ],
      "source": [
        "df1 = action[(action['연 평균 포인트사용횟수'] != 0)]\n",
        "pd.qcut(df1['연 평균 포인트사용횟수'],q=4,duplicates = 'drop').value_counts()"
      ]
    },
    {
      "cell_type": "code",
      "execution_count": null,
      "id": "2fcea8ab",
      "metadata": {
        "id": "2fcea8ab"
      },
      "outputs": [],
      "source": [
        "def fun1(x) :\n",
        "    if x > 1.6667 :\n",
        "        return 5\n",
        "    elif x > 1 :\n",
        "        return 4\n",
        "    elif x > 0.6 :\n",
        "        return 3\n",
        "    elif x == 0 :\n",
        "        return 1\n",
        "    else : \n",
        "        return 2\n",
        "\n",
        "action['포인트_score'] = action['연 평균 포인트사용횟수'].apply(fun1) "
      ]
    },
    {
      "cell_type": "code",
      "execution_count": null,
      "id": "5916a874",
      "metadata": {
        "id": "5916a874",
        "outputId": "1e5d6b67-f81a-42dc-d43f-06e42aeaaa4a"
      },
      "outputs": [
        {
          "data": {
            "text/plain": [
              "(0.667, 1.0]    210630\n",
              "(0.199, 0.5]    152796\n",
              "(1.0, 49.0]      39794\n",
              "(0.5, 0.667]     16351\n",
              "Name: 연 평균 쿠폰사용횟수, dtype: int64"
            ]
          },
          "execution_count": 136,
          "metadata": {},
          "output_type": "execute_result"
        }
      ],
      "source": [
        "df1 = action[(action['연 평균 쿠폰사용횟수'] != 0)]\n",
        "pd.qcut(df1['연 평균 쿠폰사용횟수'],q=5,duplicates = 'drop').value_counts()"
      ]
    },
    {
      "cell_type": "code",
      "execution_count": null,
      "id": "13e5771a",
      "metadata": {
        "id": "13e5771a"
      },
      "outputs": [],
      "source": [
        "def fun1(x) :\n",
        "    if x > 1 :\n",
        "        return 5\n",
        "    elif x > 0.6667 :\n",
        "        return 4\n",
        "    elif x > 0.5 :\n",
        "        return 3\n",
        "    elif x == 0 :\n",
        "        return 1\n",
        "    else : \n",
        "        return 2\n",
        "\n",
        "action['쿠폰_score'] = action['연 평균 쿠폰사용횟수'].apply(fun1) "
      ]
    },
    {
      "cell_type": "code",
      "execution_count": null,
      "id": "40a81ce4",
      "metadata": {
        "id": "40a81ce4",
        "outputId": "46f60063-2a02-480c-83e2-5ecad1eaed03"
      },
      "outputs": [
        {
          "data": {
            "text/plain": [
              "0.2500   0.5000\n",
              "0.5000   1.0000\n",
              "0.7500   1.5000\n",
              "Name: 연 평균 출첵참여횟수, dtype: float64"
            ]
          },
          "execution_count": 138,
          "metadata": {},
          "output_type": "execute_result"
        }
      ],
      "source": [
        "df1 = action[(action['연 평균 출첵참여횟수'] != 0)]\n",
        "df1['연 평균 출첵참여횟수'].quantile([1/4,2/4,3/4])"
      ]
    },
    {
      "cell_type": "code",
      "execution_count": null,
      "id": "9d393e0d",
      "metadata": {
        "id": "9d393e0d"
      },
      "outputs": [],
      "source": [
        "def fun1(x) :\n",
        "    if x > 1.5 :\n",
        "        return 5\n",
        "    elif x > 1:\n",
        "        return 4\n",
        "    elif x > 0.5 :\n",
        "        return 3\n",
        "    elif x == 0 :\n",
        "        return 1\n",
        "    else : \n",
        "        return 2\n",
        "\n",
        "action['출첵_score'] = action['연 평균 출첵참여횟수'].apply(fun1) "
      ]
    },
    {
      "cell_type": "code",
      "execution_count": null,
      "id": "6b425d4c",
      "metadata": {
        "id": "6b425d4c",
        "outputId": "8741c36a-24c6-450c-ab06-08b5dbbff2ac"
      },
      "outputs": [
        {
          "data": {
            "text/plain": [
              "0.2500   0.5000\n",
              "0.5000   1.0000\n",
              "0.7500   1.5000\n",
              "Name: 연 평균 일반이벤트횟수, dtype: float64"
            ]
          },
          "execution_count": 140,
          "metadata": {},
          "output_type": "execute_result"
        }
      ],
      "source": [
        "df1 = action[(action['연 평균 일반이벤트횟수'] != 0)]\n",
        "df1['연 평균 일반이벤트횟수'].quantile([1/4,2/4,3/4])"
      ]
    },
    {
      "cell_type": "code",
      "execution_count": null,
      "id": "7b907494",
      "metadata": {
        "id": "7b907494"
      },
      "outputs": [],
      "source": [
        "def fun1(x) :\n",
        "    if x > 1.5 :\n",
        "        return 5\n",
        "    elif x > 1:\n",
        "        return 4\n",
        "    elif x > 0.5 :\n",
        "        return 3\n",
        "    elif x == 0 :\n",
        "        return 1\n",
        "    else : \n",
        "        return 2\n",
        "\n",
        "action['일반이벤트_score'] = action['연 평균 일반이벤트횟수'].apply(fun1) "
      ]
    },
    {
      "cell_type": "code",
      "execution_count": null,
      "id": "08dbf6e3",
      "metadata": {
        "id": "08dbf6e3",
        "outputId": "55cbcd6c-2bd9-4b25-b75a-a085a7a3bf9a"
      },
      "outputs": [
        {
          "data": {
            "text/plain": [
              "0.2500    2.0000\n",
              "0.5000    5.0000\n",
              "0.7500   16.2000\n",
              "Name: 연 평균 드로우횟수, dtype: float64"
            ]
          },
          "execution_count": 142,
          "metadata": {},
          "output_type": "execute_result"
        }
      ],
      "source": [
        "df1 = action[(action['연 평균 드로우횟수'] != 0)]\n",
        "df1['연 평균 드로우횟수'].quantile([1/4,2/4,3/4])"
      ]
    },
    {
      "cell_type": "code",
      "execution_count": null,
      "id": "70b5e81b",
      "metadata": {
        "id": "70b5e81b"
      },
      "outputs": [],
      "source": [
        "def fun1(x) :\n",
        "    if x > 16.2 :\n",
        "        return 5\n",
        "    elif x > 5:\n",
        "        return 4\n",
        "    elif x > 2 :\n",
        "        return 3\n",
        "    elif x == 0 :\n",
        "        return 1\n",
        "    else : \n",
        "        return 2\n",
        "\n",
        "action['드로우_score'] = action['연 평균 드로우횟수'].apply(fun1) "
      ]
    },
    {
      "cell_type": "code",
      "execution_count": null,
      "id": "ffad9473",
      "metadata": {
        "id": "ffad9473",
        "outputId": "cd06a144-12ac-410a-eddb-dcfca05b980d"
      },
      "outputs": [
        {
          "data": {
            "text/plain": [
              "0.2500   0.3333\n",
              "0.5000   0.6667\n",
              "0.7500   1.0000\n",
              "Name: 연 평균 리뷰작성횟수, dtype: float64"
            ]
          },
          "execution_count": 144,
          "metadata": {},
          "output_type": "execute_result"
        }
      ],
      "source": [
        "df1 = action[(action['연 평균 리뷰작성횟수'] != 0)]\n",
        "df1['연 평균 리뷰작성횟수'].quantile([1/4,2/4,3/4])"
      ]
    },
    {
      "cell_type": "code",
      "execution_count": null,
      "id": "c2191bab",
      "metadata": {
        "id": "c2191bab"
      },
      "outputs": [],
      "source": [
        "def fun1(x) :\n",
        "    if x > 1 :\n",
        "        return 5\n",
        "    elif x > 0.6667:\n",
        "        return 4\n",
        "    elif x > 0.333 :\n",
        "        return 3\n",
        "    elif x == 0 :\n",
        "        return 1\n",
        "    else : \n",
        "        return 2\n",
        "\n",
        "action['리뷰_score'] = action['연 평균 리뷰작성횟수'].apply(fun1) "
      ]
    },
    {
      "cell_type": "code",
      "execution_count": null,
      "id": "80f95dce",
      "metadata": {
        "id": "80f95dce",
        "outputId": "8fb4c619-cf55-40c9-9be7-7266273b7fa0"
      },
      "outputs": [
        {
          "data": {
            "text/html": [
              "<div>\n",
              "<style scoped>\n",
              "    .dataframe tbody tr th:only-of-type {\n",
              "        vertical-align: middle;\n",
              "    }\n",
              "\n",
              "    .dataframe tbody tr th {\n",
              "        vertical-align: top;\n",
              "    }\n",
              "\n",
              "    .dataframe thead th {\n",
              "        text-align: right;\n",
              "    }\n",
              "</style>\n",
              "<table border=\"1\" class=\"dataframe\">\n",
              "  <thead>\n",
              "    <tr style=\"text-align: right;\">\n",
              "      <th></th>\n",
              "      <th>고유번호</th>\n",
              "      <th>연 평균 포인트사용횟수</th>\n",
              "      <th>연 평균 쿠폰사용횟수</th>\n",
              "      <th>연 평균 출첵참여횟수</th>\n",
              "      <th>연 평균 일반이벤트횟수</th>\n",
              "      <th>연 평균 드로우횟수</th>\n",
              "      <th>연 평균 리뷰작성횟수</th>\n",
              "      <th>포인트_score</th>\n",
              "      <th>쿠폰_score</th>\n",
              "      <th>출첵_score</th>\n",
              "      <th>일반이벤트_score</th>\n",
              "      <th>드로우_score</th>\n",
              "      <th>리뷰_score</th>\n",
              "      <th>action_score</th>\n",
              "    </tr>\n",
              "  </thead>\n",
              "  <tbody>\n",
              "    <tr>\n",
              "      <th>0</th>\n",
              "      <td>48066EF2E782C577A25A7A0C38CFCAECE33A2420BFB8EC...</td>\n",
              "      <td>0.0000</td>\n",
              "      <td>0.0000</td>\n",
              "      <td>0.0000</td>\n",
              "      <td>1.0000</td>\n",
              "      <td>0.0000</td>\n",
              "      <td>0.0000</td>\n",
              "      <td>1</td>\n",
              "      <td>1</td>\n",
              "      <td>1</td>\n",
              "      <td>3</td>\n",
              "      <td>1</td>\n",
              "      <td>1</td>\n",
              "      <td>14</td>\n",
              "    </tr>\n",
              "    <tr>\n",
              "      <th>1</th>\n",
              "      <td>4ED3B18A3DB2CE13DE559397E59FAF3701B9A49685EB28...</td>\n",
              "      <td>0.0000</td>\n",
              "      <td>0.0000</td>\n",
              "      <td>0.0000</td>\n",
              "      <td>0.0000</td>\n",
              "      <td>0.0000</td>\n",
              "      <td>0.0000</td>\n",
              "      <td>1</td>\n",
              "      <td>1</td>\n",
              "      <td>1</td>\n",
              "      <td>1</td>\n",
              "      <td>1</td>\n",
              "      <td>1</td>\n",
              "      <td>10</td>\n",
              "    </tr>\n",
              "    <tr>\n",
              "      <th>2</th>\n",
              "      <td>47EB4685B42EF7BD6B60DCBAF4611FC729D1FA3189D149...</td>\n",
              "      <td>0.0000</td>\n",
              "      <td>0.0000</td>\n",
              "      <td>0.0000</td>\n",
              "      <td>0.0000</td>\n",
              "      <td>0.0000</td>\n",
              "      <td>0.0000</td>\n",
              "      <td>1</td>\n",
              "      <td>1</td>\n",
              "      <td>1</td>\n",
              "      <td>1</td>\n",
              "      <td>1</td>\n",
              "      <td>1</td>\n",
              "      <td>10</td>\n",
              "    </tr>\n",
              "    <tr>\n",
              "      <th>3</th>\n",
              "      <td>F017BC3BC9940394BD291128D6C21E6F33B0FB69A63C71...</td>\n",
              "      <td>0.0000</td>\n",
              "      <td>0.0000</td>\n",
              "      <td>0.0000</td>\n",
              "      <td>0.0000</td>\n",
              "      <td>0.0000</td>\n",
              "      <td>0.0000</td>\n",
              "      <td>1</td>\n",
              "      <td>1</td>\n",
              "      <td>1</td>\n",
              "      <td>1</td>\n",
              "      <td>1</td>\n",
              "      <td>1</td>\n",
              "      <td>10</td>\n",
              "    </tr>\n",
              "    <tr>\n",
              "      <th>4</th>\n",
              "      <td>ACF7ECFA0C20E47E546A0A17A1F992635DBF9BD10BD386...</td>\n",
              "      <td>0.0000</td>\n",
              "      <td>0.0000</td>\n",
              "      <td>0.0000</td>\n",
              "      <td>0.0000</td>\n",
              "      <td>0.0000</td>\n",
              "      <td>0.0000</td>\n",
              "      <td>1</td>\n",
              "      <td>1</td>\n",
              "      <td>1</td>\n",
              "      <td>1</td>\n",
              "      <td>1</td>\n",
              "      <td>1</td>\n",
              "      <td>10</td>\n",
              "    </tr>\n",
              "    <tr>\n",
              "      <th>...</th>\n",
              "      <td>...</td>\n",
              "      <td>...</td>\n",
              "      <td>...</td>\n",
              "      <td>...</td>\n",
              "      <td>...</td>\n",
              "      <td>...</td>\n",
              "      <td>...</td>\n",
              "      <td>...</td>\n",
              "      <td>...</td>\n",
              "      <td>...</td>\n",
              "      <td>...</td>\n",
              "      <td>...</td>\n",
              "      <td>...</td>\n",
              "      <td>...</td>\n",
              "    </tr>\n",
              "    <tr>\n",
              "      <th>1878783</th>\n",
              "      <td>A1F7001C515A5EE424CAD2E96AC61D8E5033D272EB9223...</td>\n",
              "      <td>0.0000</td>\n",
              "      <td>0.0000</td>\n",
              "      <td>0.0000</td>\n",
              "      <td>1.0000</td>\n",
              "      <td>0.0000</td>\n",
              "      <td>0.0000</td>\n",
              "      <td>1</td>\n",
              "      <td>1</td>\n",
              "      <td>1</td>\n",
              "      <td>3</td>\n",
              "      <td>1</td>\n",
              "      <td>1</td>\n",
              "      <td>14</td>\n",
              "    </tr>\n",
              "    <tr>\n",
              "      <th>1878784</th>\n",
              "      <td>48BDB945E8C6164F560C662E7044B534AFF4CA1594FCEC...</td>\n",
              "      <td>0.0000</td>\n",
              "      <td>0.0000</td>\n",
              "      <td>0.0000</td>\n",
              "      <td>0.0000</td>\n",
              "      <td>1.0000</td>\n",
              "      <td>0.0000</td>\n",
              "      <td>1</td>\n",
              "      <td>1</td>\n",
              "      <td>1</td>\n",
              "      <td>1</td>\n",
              "      <td>2</td>\n",
              "      <td>1</td>\n",
              "      <td>12</td>\n",
              "    </tr>\n",
              "    <tr>\n",
              "      <th>1878785</th>\n",
              "      <td>D8282C22F8CDCA27671045DC5BDEBF9555A1538AD2FCF3...</td>\n",
              "      <td>0.0000</td>\n",
              "      <td>0.0000</td>\n",
              "      <td>0.0000</td>\n",
              "      <td>0.0000</td>\n",
              "      <td>0.0000</td>\n",
              "      <td>0.0000</td>\n",
              "      <td>1</td>\n",
              "      <td>1</td>\n",
              "      <td>1</td>\n",
              "      <td>1</td>\n",
              "      <td>1</td>\n",
              "      <td>1</td>\n",
              "      <td>10</td>\n",
              "    </tr>\n",
              "    <tr>\n",
              "      <th>1878786</th>\n",
              "      <td>55A29120C4A4E1F9D770B0DE07B82376495121CC0420B0...</td>\n",
              "      <td>0.0000</td>\n",
              "      <td>0.0000</td>\n",
              "      <td>0.0000</td>\n",
              "      <td>0.0000</td>\n",
              "      <td>0.0000</td>\n",
              "      <td>0.0000</td>\n",
              "      <td>1</td>\n",
              "      <td>1</td>\n",
              "      <td>1</td>\n",
              "      <td>1</td>\n",
              "      <td>1</td>\n",
              "      <td>1</td>\n",
              "      <td>10</td>\n",
              "    </tr>\n",
              "    <tr>\n",
              "      <th>1878787</th>\n",
              "      <td>206779DE33283EA9A8E600B99E6A1E63452A350356DFEC...</td>\n",
              "      <td>0.0000</td>\n",
              "      <td>1.0000</td>\n",
              "      <td>0.0000</td>\n",
              "      <td>1.0000</td>\n",
              "      <td>0.0000</td>\n",
              "      <td>0.0000</td>\n",
              "      <td>1</td>\n",
              "      <td>4</td>\n",
              "      <td>1</td>\n",
              "      <td>3</td>\n",
              "      <td>1</td>\n",
              "      <td>1</td>\n",
              "      <td>17</td>\n",
              "    </tr>\n",
              "  </tbody>\n",
              "</table>\n",
              "<p>1878788 rows × 14 columns</p>\n",
              "</div>"
            ],
            "text/plain": [
              "                                                      고유번호  연 평균 포인트사용횟수  \\\n",
              "0        48066EF2E782C577A25A7A0C38CFCAECE33A2420BFB8EC...        0.0000   \n",
              "1        4ED3B18A3DB2CE13DE559397E59FAF3701B9A49685EB28...        0.0000   \n",
              "2        47EB4685B42EF7BD6B60DCBAF4611FC729D1FA3189D149...        0.0000   \n",
              "3        F017BC3BC9940394BD291128D6C21E6F33B0FB69A63C71...        0.0000   \n",
              "4        ACF7ECFA0C20E47E546A0A17A1F992635DBF9BD10BD386...        0.0000   \n",
              "...                                                    ...           ...   \n",
              "1878783  A1F7001C515A5EE424CAD2E96AC61D8E5033D272EB9223...        0.0000   \n",
              "1878784  48BDB945E8C6164F560C662E7044B534AFF4CA1594FCEC...        0.0000   \n",
              "1878785  D8282C22F8CDCA27671045DC5BDEBF9555A1538AD2FCF3...        0.0000   \n",
              "1878786  55A29120C4A4E1F9D770B0DE07B82376495121CC0420B0...        0.0000   \n",
              "1878787  206779DE33283EA9A8E600B99E6A1E63452A350356DFEC...        0.0000   \n",
              "\n",
              "         연 평균 쿠폰사용횟수  연 평균 출첵참여횟수  연 평균 일반이벤트횟수  연 평균 드로우횟수  연 평균 리뷰작성횟수  \\\n",
              "0             0.0000       0.0000        1.0000      0.0000       0.0000   \n",
              "1             0.0000       0.0000        0.0000      0.0000       0.0000   \n",
              "2             0.0000       0.0000        0.0000      0.0000       0.0000   \n",
              "3             0.0000       0.0000        0.0000      0.0000       0.0000   \n",
              "4             0.0000       0.0000        0.0000      0.0000       0.0000   \n",
              "...              ...          ...           ...         ...          ...   \n",
              "1878783       0.0000       0.0000        1.0000      0.0000       0.0000   \n",
              "1878784       0.0000       0.0000        0.0000      1.0000       0.0000   \n",
              "1878785       0.0000       0.0000        0.0000      0.0000       0.0000   \n",
              "1878786       0.0000       0.0000        0.0000      0.0000       0.0000   \n",
              "1878787       1.0000       0.0000        1.0000      0.0000       0.0000   \n",
              "\n",
              "         포인트_score  쿠폰_score  출첵_score  일반이벤트_score  드로우_score  리뷰_score  \\\n",
              "0                1         1         1            3          1         1   \n",
              "1                1         1         1            1          1         1   \n",
              "2                1         1         1            1          1         1   \n",
              "3                1         1         1            1          1         1   \n",
              "4                1         1         1            1          1         1   \n",
              "...            ...       ...       ...          ...        ...       ...   \n",
              "1878783          1         1         1            3          1         1   \n",
              "1878784          1         1         1            1          2         1   \n",
              "1878785          1         1         1            1          1         1   \n",
              "1878786          1         1         1            1          1         1   \n",
              "1878787          1         4         1            3          1         1   \n",
              "\n",
              "         action_score  \n",
              "0                  14  \n",
              "1                  10  \n",
              "2                  10  \n",
              "3                  10  \n",
              "4                  10  \n",
              "...               ...  \n",
              "1878783            14  \n",
              "1878784            12  \n",
              "1878785            10  \n",
              "1878786            10  \n",
              "1878787            17  \n",
              "\n",
              "[1878788 rows x 14 columns]"
            ]
          },
          "execution_count": 146,
          "metadata": {},
          "output_type": "execute_result"
        }
      ],
      "source": [
        "action['action_score'] = action['포인트_score'] + action['쿠폰_score'] + 2* action['출첵_score'] + 2*action['일반이벤트_score'] + 2*action['드로우_score'] + 2* action['리뷰_score']\n",
        "action # 10점 ~ 50점 만점"
      ]
    },
    {
      "cell_type": "markdown",
      "id": "5058ed1e",
      "metadata": {
        "id": "5058ed1e"
      },
      "source": [
        "# k-Means - 알고리즘 추천 k=5"
      ]
    },
    {
      "cell_type": "code",
      "execution_count": null,
      "id": "2979ca1f",
      "metadata": {
        "id": "2979ca1f"
      },
      "outputs": [],
      "source": [
        "total = pd.merge(purchase[['고유번호','purchase_score' ]], action[['고유번호', 'action_score']],on='고유번호',how = 'left')"
      ]
    },
    {
      "cell_type": "code",
      "execution_count": null,
      "id": "3c50719a",
      "metadata": {
        "id": "3c50719a",
        "outputId": "f887b728-4d41-4333-d3de-06f90ed41b50"
      },
      "outputs": [
        {
          "data": {
            "text/plain": [
              "count   1878788.0000\n",
              "mean         14.2346\n",
              "std           4.9260\n",
              "min          10.0000\n",
              "25%          10.0000\n",
              "50%          13.0000\n",
              "75%          16.0000\n",
              "max          50.0000\n",
              "Name: action_score, dtype: float64"
            ]
          },
          "execution_count": 148,
          "metadata": {},
          "output_type": "execute_result"
        }
      ],
      "source": [
        "total.action_score.describe()"
      ]
    },
    {
      "cell_type": "code",
      "execution_count": null,
      "id": "daf43f65",
      "metadata": {
        "id": "daf43f65"
      },
      "outputs": [],
      "source": [
        "df_cluster = total.drop(labels='고유번호',axis=1)"
      ]
    },
    {
      "cell_type": "code",
      "execution_count": null,
      "id": "46bda534",
      "metadata": {
        "id": "46bda534",
        "outputId": "d03bef0e-dff8-4851-ad06-2c3a69c34600"
      },
      "outputs": [
        {
          "data": {
            "text/html": [
              "<div>\n",
              "<style scoped>\n",
              "    .dataframe tbody tr th:only-of-type {\n",
              "        vertical-align: middle;\n",
              "    }\n",
              "\n",
              "    .dataframe tbody tr th {\n",
              "        vertical-align: top;\n",
              "    }\n",
              "\n",
              "    .dataframe thead th {\n",
              "        text-align: right;\n",
              "    }\n",
              "</style>\n",
              "<table border=\"1\" class=\"dataframe\">\n",
              "  <thead>\n",
              "    <tr style=\"text-align: right;\">\n",
              "      <th></th>\n",
              "      <th>0</th>\n",
              "      <th>1</th>\n",
              "    </tr>\n",
              "  </thead>\n",
              "  <tbody>\n",
              "    <tr>\n",
              "      <th>0</th>\n",
              "      <td>-1.0723</td>\n",
              "      <td>-0.0476</td>\n",
              "    </tr>\n",
              "    <tr>\n",
              "      <th>1</th>\n",
              "      <td>-1.0723</td>\n",
              "      <td>-0.8596</td>\n",
              "    </tr>\n",
              "    <tr>\n",
              "      <th>2</th>\n",
              "      <td>-1.0723</td>\n",
              "      <td>-0.8596</td>\n",
              "    </tr>\n",
              "    <tr>\n",
              "      <th>3</th>\n",
              "      <td>-1.0723</td>\n",
              "      <td>-0.8596</td>\n",
              "    </tr>\n",
              "    <tr>\n",
              "      <th>4</th>\n",
              "      <td>-1.0723</td>\n",
              "      <td>-0.8596</td>\n",
              "    </tr>\n",
              "    <tr>\n",
              "      <th>...</th>\n",
              "      <td>...</td>\n",
              "      <td>...</td>\n",
              "    </tr>\n",
              "    <tr>\n",
              "      <th>1878783</th>\n",
              "      <td>-1.0723</td>\n",
              "      <td>-0.0476</td>\n",
              "    </tr>\n",
              "    <tr>\n",
              "      <th>1878784</th>\n",
              "      <td>-1.0723</td>\n",
              "      <td>-0.4536</td>\n",
              "    </tr>\n",
              "    <tr>\n",
              "      <th>1878785</th>\n",
              "      <td>-1.0723</td>\n",
              "      <td>-0.8596</td>\n",
              "    </tr>\n",
              "    <tr>\n",
              "      <th>1878786</th>\n",
              "      <td>-0.0087</td>\n",
              "      <td>-0.8596</td>\n",
              "    </tr>\n",
              "    <tr>\n",
              "      <th>1878787</th>\n",
              "      <td>-0.0087</td>\n",
              "      <td>0.5614</td>\n",
              "    </tr>\n",
              "  </tbody>\n",
              "</table>\n",
              "<p>1878788 rows × 2 columns</p>\n",
              "</div>"
            ],
            "text/plain": [
              "              0       1\n",
              "0       -1.0723 -0.0476\n",
              "1       -1.0723 -0.8596\n",
              "2       -1.0723 -0.8596\n",
              "3       -1.0723 -0.8596\n",
              "4       -1.0723 -0.8596\n",
              "...         ...     ...\n",
              "1878783 -1.0723 -0.0476\n",
              "1878784 -1.0723 -0.4536\n",
              "1878785 -1.0723 -0.8596\n",
              "1878786 -0.0087 -0.8596\n",
              "1878787 -0.0087  0.5614\n",
              "\n",
              "[1878788 rows x 2 columns]"
            ]
          },
          "execution_count": 150,
          "metadata": {},
          "output_type": "execute_result"
        }
      ],
      "source": [
        "from sklearn.cluster import KMeans\n",
        "from sklearn.preprocessing import StandardScaler\n",
        "\n",
        "#표준화\n",
        "sc = StandardScaler()\n",
        "df_scaled = sc.fit_transform(df_cluster)\n",
        "pd.DataFrame(df_scaled)"
      ]
    },
    {
      "cell_type": "code",
      "execution_count": null,
      "id": "ebe0ce27",
      "metadata": {
        "id": "ebe0ce27",
        "outputId": "af6ba02e-8d87-435e-9a52-efc362211e58"
      },
      "outputs": [
        {
          "data": {
            "image/png": "[encoded data removed]",
            "text/plain": [
              "<Figure size 800x550 with 2 Axes>"
            ]
          },
          "metadata": {},
          "output_type": "display_data"
        },
        {
          "data": {
            "text/plain": [
              "KElbowVisualizer(ax=<AxesSubplot:title={'center':'Distortion Score Elbow for KMeans Clustering'}, xlabel='k', ylabel='distortion score'>,\n",
              "                 estimator=KMeans(n_clusters=14, random_state=0), k=(2, 15))"
            ]
          },
          "execution_count": 152,
          "metadata": {},
          "output_type": "execute_result"
        }
      ],
      "source": [
        "from yellowbrick.cluster.elbow import kelbow_visualizer\n",
        "\n",
        "kelbow_visualizer(KMeans(random_state=0), df_scaled, k=(2,15))"
      ]
    },
    {
      "cell_type": "code",
      "execution_count": null,
      "id": "a27b4761",
      "metadata": {
        "id": "a27b4761",
        "outputId": "4b9514d4-592d-476f-c911-630d0bd298ac"
      },
      "outputs": [
        {
          "data": {
            "text/html": [
              "<div>\n",
              "<style scoped>\n",
              "    .dataframe tbody tr th:only-of-type {\n",
              "        vertical-align: middle;\n",
              "    }\n",
              "\n",
              "    .dataframe tbody tr th {\n",
              "        vertical-align: top;\n",
              "    }\n",
              "\n",
              "    .dataframe thead th {\n",
              "        text-align: right;\n",
              "    }\n",
              "</style>\n",
              "<table border=\"1\" class=\"dataframe\">\n",
              "  <thead>\n",
              "    <tr style=\"text-align: right;\">\n",
              "      <th></th>\n",
              "      <th>purchase_score</th>\n",
              "      <th>action_score</th>\n",
              "      <th>cluster</th>\n",
              "    </tr>\n",
              "  </thead>\n",
              "  <tbody>\n",
              "    <tr>\n",
              "      <th>0</th>\n",
              "      <td>10</td>\n",
              "      <td>14</td>\n",
              "      <td>4</td>\n",
              "    </tr>\n",
              "    <tr>\n",
              "      <th>1</th>\n",
              "      <td>10</td>\n",
              "      <td>10</td>\n",
              "      <td>4</td>\n",
              "    </tr>\n",
              "    <tr>\n",
              "      <th>2</th>\n",
              "      <td>10</td>\n",
              "      <td>10</td>\n",
              "      <td>4</td>\n",
              "    </tr>\n",
              "    <tr>\n",
              "      <th>3</th>\n",
              "      <td>10</td>\n",
              "      <td>10</td>\n",
              "      <td>4</td>\n",
              "    </tr>\n",
              "    <tr>\n",
              "      <th>4</th>\n",
              "      <td>10</td>\n",
              "      <td>10</td>\n",
              "      <td>4</td>\n",
              "    </tr>\n",
              "  </tbody>\n",
              "</table>\n",
              "</div>"
            ],
            "text/plain": [
              "   purchase_score  action_score  cluster\n",
              "0              10            14        4\n",
              "1              10            10        4\n",
              "2              10            10        4\n",
              "3              10            10        4\n",
              "4              10            10        4"
            ]
          },
          "execution_count": 153,
          "metadata": {},
          "output_type": "execute_result"
        }
      ],
      "source": [
        "# 클러스터링\n",
        "kmeans = KMeans(n_clusters=5, random_state=0)\n",
        "clusters = kmeans.fit(df_scaled)\n",
        "\n",
        "# 클러스터링 변수 \n",
        "df_cluster['cluster'] = clusters.labels_\n",
        "df_cluster.head(5)"
      ]
    },
    {
      "cell_type": "code",
      "execution_count": null,
      "id": "faa25d3e",
      "metadata": {
        "id": "faa25d3e",
        "outputId": "18a9e6cc-c044-48bb-c586-247a22324ef4"
      },
      "outputs": [
        {
          "data": {
            "text/html": [
              "<div>\n",
              "<style scoped>\n",
              "    .dataframe tbody tr th:only-of-type {\n",
              "        vertical-align: middle;\n",
              "    }\n",
              "\n",
              "    .dataframe tbody tr th {\n",
              "        vertical-align: top;\n",
              "    }\n",
              "\n",
              "    .dataframe thead th {\n",
              "        text-align: right;\n",
              "    }\n",
              "</style>\n",
              "<table border=\"1\" class=\"dataframe\">\n",
              "  <thead>\n",
              "    <tr style=\"text-align: right;\">\n",
              "      <th></th>\n",
              "      <th>purchase_score</th>\n",
              "      <th>action_score</th>\n",
              "      <th>cluster</th>\n",
              "    </tr>\n",
              "  </thead>\n",
              "  <tbody>\n",
              "    <tr>\n",
              "      <th>0</th>\n",
              "      <td>-1.0723</td>\n",
              "      <td>-0.0476</td>\n",
              "      <td>4</td>\n",
              "    </tr>\n",
              "    <tr>\n",
              "      <th>1</th>\n",
              "      <td>-1.0723</td>\n",
              "      <td>-0.8596</td>\n",
              "      <td>4</td>\n",
              "    </tr>\n",
              "    <tr>\n",
              "      <th>2</th>\n",
              "      <td>-1.0723</td>\n",
              "      <td>-0.8596</td>\n",
              "      <td>4</td>\n",
              "    </tr>\n",
              "    <tr>\n",
              "      <th>3</th>\n",
              "      <td>-1.0723</td>\n",
              "      <td>-0.8596</td>\n",
              "      <td>4</td>\n",
              "    </tr>\n",
              "    <tr>\n",
              "      <th>4</th>\n",
              "      <td>-1.0723</td>\n",
              "      <td>-0.8596</td>\n",
              "      <td>4</td>\n",
              "    </tr>\n",
              "    <tr>\n",
              "      <th>...</th>\n",
              "      <td>...</td>\n",
              "      <td>...</td>\n",
              "      <td>...</td>\n",
              "    </tr>\n",
              "    <tr>\n",
              "      <th>1878783</th>\n",
              "      <td>-1.0723</td>\n",
              "      <td>-0.0476</td>\n",
              "      <td>4</td>\n",
              "    </tr>\n",
              "    <tr>\n",
              "      <th>1878784</th>\n",
              "      <td>-1.0723</td>\n",
              "      <td>-0.4536</td>\n",
              "      <td>4</td>\n",
              "    </tr>\n",
              "    <tr>\n",
              "      <th>1878785</th>\n",
              "      <td>-1.0723</td>\n",
              "      <td>-0.8596</td>\n",
              "      <td>4</td>\n",
              "    </tr>\n",
              "    <tr>\n",
              "      <th>1878786</th>\n",
              "      <td>-0.0087</td>\n",
              "      <td>-0.8596</td>\n",
              "      <td>0</td>\n",
              "    </tr>\n",
              "    <tr>\n",
              "      <th>1878787</th>\n",
              "      <td>-0.0087</td>\n",
              "      <td>0.5614</td>\n",
              "      <td>1</td>\n",
              "    </tr>\n",
              "  </tbody>\n",
              "</table>\n",
              "<p>1878788 rows × 3 columns</p>\n",
              "</div>"
            ],
            "text/plain": [
              "         purchase_score  action_score  cluster\n",
              "0               -1.0723       -0.0476        4\n",
              "1               -1.0723       -0.8596        4\n",
              "2               -1.0723       -0.8596        4\n",
              "3               -1.0723       -0.8596        4\n",
              "4               -1.0723       -0.8596        4\n",
              "...                 ...           ...      ...\n",
              "1878783         -1.0723       -0.0476        4\n",
              "1878784         -1.0723       -0.4536        4\n",
              "1878785         -1.0723       -0.8596        4\n",
              "1878786         -0.0087       -0.8596        0\n",
              "1878787         -0.0087        0.5614        1\n",
              "\n",
              "[1878788 rows x 3 columns]"
            ]
          },
          "execution_count": 154,
          "metadata": {},
          "output_type": "execute_result"
        }
      ],
      "source": [
        "df_scaled = pd.DataFrame(df_scaled)\n",
        "df_scaled['cluster'] = kmeans.labels_\n",
        "df_scaled.columns = ['purchase_score', 'action_score', 'cluster']\n",
        "df_scaled"
      ]
    },
    {
      "cell_type": "code",
      "execution_count": null,
      "id": "de3f4a8b",
      "metadata": {
        "id": "de3f4a8b",
        "outputId": "c1467f0a-890b-4ef7-84ac-d96988030598"
      },
      "outputs": [
        {
          "data": {
            "text/html": [
              "<div>\n",
              "<style scoped>\n",
              "    .dataframe tbody tr th:only-of-type {\n",
              "        vertical-align: middle;\n",
              "    }\n",
              "\n",
              "    .dataframe tbody tr th {\n",
              "        vertical-align: top;\n",
              "    }\n",
              "\n",
              "    .dataframe thead th {\n",
              "        text-align: right;\n",
              "    }\n",
              "</style>\n",
              "<table border=\"1\" class=\"dataframe\">\n",
              "  <thead>\n",
              "    <tr style=\"text-align: right;\">\n",
              "      <th></th>\n",
              "      <th>purchase_score</th>\n",
              "      <th>action_score</th>\n",
              "      <th>cluster</th>\n",
              "      <th>count</th>\n",
              "    </tr>\n",
              "  </thead>\n",
              "  <tbody>\n",
              "    <tr>\n",
              "      <th>0</th>\n",
              "      <td>0.2227</td>\n",
              "      <td>-0.5075</td>\n",
              "      <td>0</td>\n",
              "      <td>539102</td>\n",
              "    </tr>\n",
              "    <tr>\n",
              "      <th>1</th>\n",
              "      <td>-0.8016</td>\n",
              "      <td>0.8626</td>\n",
              "      <td>1</td>\n",
              "      <td>325217</td>\n",
              "    </tr>\n",
              "    <tr>\n",
              "      <th>2</th>\n",
              "      <td>1.0055</td>\n",
              "      <td>2.7499</td>\n",
              "      <td>2</td>\n",
              "      <td>113305</td>\n",
              "    </tr>\n",
              "    <tr>\n",
              "      <th>3</th>\n",
              "      <td>1.3802</td>\n",
              "      <td>-0.0539</td>\n",
              "      <td>3</td>\n",
              "      <td>391696</td>\n",
              "    </tr>\n",
              "    <tr>\n",
              "      <th>4</th>\n",
              "      <td>-1.0087</td>\n",
              "      <td>-0.5838</td>\n",
              "      <td>4</td>\n",
              "      <td>509468</td>\n",
              "    </tr>\n",
              "  </tbody>\n",
              "</table>\n",
              "</div>"
            ],
            "text/plain": [
              "   purchase_score  action_score  cluster   count\n",
              "0          0.2227       -0.5075        0  539102\n",
              "1         -0.8016        0.8626        1  325217\n",
              "2          1.0055        2.7499        2  113305\n",
              "3          1.3802       -0.0539        3  391696\n",
              "4         -1.0087       -0.5838        4  509468"
            ]
          },
          "execution_count": 155,
          "metadata": {},
          "output_type": "execute_result"
        }
      ],
      "source": [
        "center = kmeans.cluster_centers_\n",
        "center\n",
        "\n",
        "center = pd.DataFrame(center)\n",
        "center['cluster'] = [0,1,2,3,4]\n",
        "center.columns = ['purchase_score', 'action_score', 'cluster']\n",
        "center\n",
        "\n",
        "dd = df_cluster.groupby('cluster',as_index=False).agg({'purchase_score': 'count'})\n",
        "dd.rename(columns = {'purchase_score' : 'count'}, inplace = True)\n",
        "center = pd.merge(center, dd, on = 'cluster', how = 'left')\n",
        "center"
      ]
    },
    {
      "cell_type": "code",
      "execution_count": null,
      "id": "bc2c6f8d",
      "metadata": {
        "id": "bc2c6f8d",
        "outputId": "2fdb7ad3-af6a-417b-92a3-dfd17c2d2e8e"
      },
      "outputs": [
        {
          "data": {
            "text/html": [
              "<div>\n",
              "<style scoped>\n",
              "    .dataframe tbody tr th:only-of-type {\n",
              "        vertical-align: middle;\n",
              "    }\n",
              "\n",
              "    .dataframe tbody tr th {\n",
              "        vertical-align: top;\n",
              "    }\n",
              "\n",
              "    .dataframe thead th {\n",
              "        text-align: right;\n",
              "    }\n",
              "</style>\n",
              "<table border=\"1\" class=\"dataframe\">\n",
              "  <thead>\n",
              "    <tr style=\"text-align: right;\">\n",
              "      <th></th>\n",
              "      <th>고유번호</th>\n",
              "      <th>purchase_score</th>\n",
              "      <th>action_score</th>\n",
              "      <th>cluster</th>\n",
              "    </tr>\n",
              "  </thead>\n",
              "  <tbody>\n",
              "    <tr>\n",
              "      <th>0</th>\n",
              "      <td>48066EF2E782C577A25A7A0C38CFCAECE33A2420BFB8EC...</td>\n",
              "      <td>10</td>\n",
              "      <td>14</td>\n",
              "      <td>4</td>\n",
              "    </tr>\n",
              "    <tr>\n",
              "      <th>1</th>\n",
              "      <td>4ED3B18A3DB2CE13DE559397E59FAF3701B9A49685EB28...</td>\n",
              "      <td>10</td>\n",
              "      <td>10</td>\n",
              "      <td>4</td>\n",
              "    </tr>\n",
              "    <tr>\n",
              "      <th>2</th>\n",
              "      <td>47EB4685B42EF7BD6B60DCBAF4611FC729D1FA3189D149...</td>\n",
              "      <td>10</td>\n",
              "      <td>10</td>\n",
              "      <td>4</td>\n",
              "    </tr>\n",
              "    <tr>\n",
              "      <th>3</th>\n",
              "      <td>F017BC3BC9940394BD291128D6C21E6F33B0FB69A63C71...</td>\n",
              "      <td>10</td>\n",
              "      <td>10</td>\n",
              "      <td>4</td>\n",
              "    </tr>\n",
              "    <tr>\n",
              "      <th>4</th>\n",
              "      <td>ACF7ECFA0C20E47E546A0A17A1F992635DBF9BD10BD386...</td>\n",
              "      <td>10</td>\n",
              "      <td>10</td>\n",
              "      <td>4</td>\n",
              "    </tr>\n",
              "    <tr>\n",
              "      <th>...</th>\n",
              "      <td>...</td>\n",
              "      <td>...</td>\n",
              "      <td>...</td>\n",
              "      <td>...</td>\n",
              "    </tr>\n",
              "    <tr>\n",
              "      <th>1878783</th>\n",
              "      <td>A1F7001C515A5EE424CAD2E96AC61D8E5033D272EB9223...</td>\n",
              "      <td>10</td>\n",
              "      <td>14</td>\n",
              "      <td>4</td>\n",
              "    </tr>\n",
              "    <tr>\n",
              "      <th>1878784</th>\n",
              "      <td>48BDB945E8C6164F560C662E7044B534AFF4CA1594FCEC...</td>\n",
              "      <td>10</td>\n",
              "      <td>12</td>\n",
              "      <td>4</td>\n",
              "    </tr>\n",
              "    <tr>\n",
              "      <th>1878785</th>\n",
              "      <td>D8282C22F8CDCA27671045DC5BDEBF9555A1538AD2FCF3...</td>\n",
              "      <td>10</td>\n",
              "      <td>10</td>\n",
              "      <td>4</td>\n",
              "    </tr>\n",
              "    <tr>\n",
              "      <th>1878786</th>\n",
              "      <td>55A29120C4A4E1F9D770B0DE07B82376495121CC0420B0...</td>\n",
              "      <td>24</td>\n",
              "      <td>10</td>\n",
              "      <td>0</td>\n",
              "    </tr>\n",
              "    <tr>\n",
              "      <th>1878787</th>\n",
              "      <td>206779DE33283EA9A8E600B99E6A1E63452A350356DFEC...</td>\n",
              "      <td>24</td>\n",
              "      <td>17</td>\n",
              "      <td>1</td>\n",
              "    </tr>\n",
              "  </tbody>\n",
              "</table>\n",
              "<p>1878788 rows × 4 columns</p>\n",
              "</div>"
            ],
            "text/plain": [
              "                                                      고유번호  purchase_score  \\\n",
              "0        48066EF2E782C577A25A7A0C38CFCAECE33A2420BFB8EC...              10   \n",
              "1        4ED3B18A3DB2CE13DE559397E59FAF3701B9A49685EB28...              10   \n",
              "2        47EB4685B42EF7BD6B60DCBAF4611FC729D1FA3189D149...              10   \n",
              "3        F017BC3BC9940394BD291128D6C21E6F33B0FB69A63C71...              10   \n",
              "4        ACF7ECFA0C20E47E546A0A17A1F992635DBF9BD10BD386...              10   \n",
              "...                                                    ...             ...   \n",
              "1878783  A1F7001C515A5EE424CAD2E96AC61D8E5033D272EB9223...              10   \n",
              "1878784  48BDB945E8C6164F560C662E7044B534AFF4CA1594FCEC...              10   \n",
              "1878785  D8282C22F8CDCA27671045DC5BDEBF9555A1538AD2FCF3...              10   \n",
              "1878786  55A29120C4A4E1F9D770B0DE07B82376495121CC0420B0...              24   \n",
              "1878787  206779DE33283EA9A8E600B99E6A1E63452A350356DFEC...              24   \n",
              "\n",
              "         action_score  cluster  \n",
              "0                  14        4  \n",
              "1                  10        4  \n",
              "2                  10        4  \n",
              "3                  10        4  \n",
              "4                  10        4  \n",
              "...               ...      ...  \n",
              "1878783            14        4  \n",
              "1878784            12        4  \n",
              "1878785            10        4  \n",
              "1878786            10        0  \n",
              "1878787            17        1  \n",
              "\n",
              "[1878788 rows x 4 columns]"
            ]
          },
          "execution_count": 156,
          "metadata": {},
          "output_type": "execute_result"
        }
      ],
      "source": [
        "total['cluster'] = kmeans.labels_\n",
        "total"
      ]
    },
    {
      "cell_type": "code",
      "execution_count": null,
      "id": "4cc8f368",
      "metadata": {
        "id": "4cc8f368"
      },
      "outputs": [],
      "source": [
        "zz = total.groupby('cluster', as_index = False).agg({'purchase_score' : 'mean', 'action_score': 'mean'})\n",
        "xx = total.groupby('cluster', as_index = False).agg({'purchase_score' : 'count'})\n",
        "xx.columns = ['cluster', 'count']\n",
        "cc = pd.merge(zz, xx, on = 'cluster', how = 'left')"
      ]
    },
    {
      "cell_type": "code",
      "execution_count": null,
      "id": "19bf5a5b",
      "metadata": {
        "id": "19bf5a5b"
      },
      "outputs": [],
      "source": [
        "#cc.to_csv('../DATA_raw2/cluster요약.csv', index=False)"
      ]
    },
    {
      "cell_type": "code",
      "execution_count": null,
      "id": "68d8c685",
      "metadata": {
        "id": "68d8c685",
        "outputId": "52472e02-40e0-463a-b0c1-008e1ef0527d"
      },
      "outputs": [
        {
          "data": {
            "image/png": "[encoded data removed]",
            "text/plain": [
              "<Figure size 500x500 with 1 Axes>"
            ]
          },
          "metadata": {},
          "output_type": "display_data"
        }
      ],
      "source": [
        "plt.figure(figsize=(3,3))\n",
        "total.cluster.value_counts().plot.pie(autopct='%.2f%%', figsize=(5,5), \n",
        "                                      startangle=30, legend=False)\n",
        "plt.title(\"군집 비율\")\n",
        "plt.axis('equal') # 안하면 찌그러짐.\n",
        "plt.show()"
      ]
    },
    {
      "cell_type": "code",
      "execution_count": null,
      "id": "247f277d",
      "metadata": {
        "id": "247f277d",
        "outputId": "ae9751cd-dfd0-4afe-993c-220529659d42"
      },
      "outputs": [
        {
          "data": {
            "text/html": [
              "<div>\n",
              "<style scoped>\n",
              "    .dataframe tbody tr th:only-of-type {\n",
              "        vertical-align: middle;\n",
              "    }\n",
              "\n",
              "    .dataframe tbody tr th {\n",
              "        vertical-align: top;\n",
              "    }\n",
              "\n",
              "    .dataframe thead th {\n",
              "        text-align: right;\n",
              "    }\n",
              "</style>\n",
              "<table border=\"1\" class=\"dataframe\">\n",
              "  <thead>\n",
              "    <tr style=\"text-align: right;\">\n",
              "      <th></th>\n",
              "      <th>purchase_score</th>\n",
              "      <th>action_score</th>\n",
              "    </tr>\n",
              "    <tr>\n",
              "      <th>cluster</th>\n",
              "      <th></th>\n",
              "      <th></th>\n",
              "    </tr>\n",
              "  </thead>\n",
              "  <tbody>\n",
              "    <tr>\n",
              "      <th>0</th>\n",
              "      <td>539102</td>\n",
              "      <td>539102</td>\n",
              "    </tr>\n",
              "    <tr>\n",
              "      <th>1</th>\n",
              "      <td>325217</td>\n",
              "      <td>325217</td>\n",
              "    </tr>\n",
              "    <tr>\n",
              "      <th>2</th>\n",
              "      <td>113305</td>\n",
              "      <td>113305</td>\n",
              "    </tr>\n",
              "    <tr>\n",
              "      <th>3</th>\n",
              "      <td>391696</td>\n",
              "      <td>391696</td>\n",
              "    </tr>\n",
              "    <tr>\n",
              "      <th>4</th>\n",
              "      <td>509468</td>\n",
              "      <td>509468</td>\n",
              "    </tr>\n",
              "  </tbody>\n",
              "</table>\n",
              "</div>"
            ],
            "text/plain": [
              "         purchase_score  action_score\n",
              "cluster                              \n",
              "0                539102        539102\n",
              "1                325217        325217\n",
              "2                113305        113305\n",
              "3                391696        391696\n",
              "4                509468        509468"
            ]
          },
          "execution_count": 160,
          "metadata": {},
          "output_type": "execute_result"
        }
      ],
      "source": [
        "# cluster를 기준으로 데이터 개수\n",
        "df_cluster.groupby('cluster').count()"
      ]
    },
    {
      "cell_type": "code",
      "execution_count": null,
      "id": "45f6e806",
      "metadata": {
        "id": "45f6e806",
        "outputId": "0171c430-a5c8-4ecb-9c22-e80754a6f8ba"
      },
      "outputs": [
        {
          "data": {
            "text/html": [
              "<div>\n",
              "<style scoped>\n",
              "    .dataframe tbody tr th:only-of-type {\n",
              "        vertical-align: middle;\n",
              "    }\n",
              "\n",
              "    .dataframe tbody tr th {\n",
              "        vertical-align: top;\n",
              "    }\n",
              "\n",
              "    .dataframe thead th {\n",
              "        text-align: right;\n",
              "    }\n",
              "</style>\n",
              "<table border=\"1\" class=\"dataframe\">\n",
              "  <thead>\n",
              "    <tr style=\"text-align: right;\">\n",
              "      <th></th>\n",
              "      <th>purchase_score</th>\n",
              "      <th>action_score</th>\n",
              "    </tr>\n",
              "    <tr>\n",
              "      <th>cluster</th>\n",
              "      <th></th>\n",
              "      <th></th>\n",
              "    </tr>\n",
              "  </thead>\n",
              "  <tbody>\n",
              "    <tr>\n",
              "      <th>0</th>\n",
              "      <td>27.0461</td>\n",
              "      <td>11.7349</td>\n",
              "    </tr>\n",
              "    <tr>\n",
              "      <th>1</th>\n",
              "      <td>13.5624</td>\n",
              "      <td>18.4837</td>\n",
              "    </tr>\n",
              "    <tr>\n",
              "      <th>2</th>\n",
              "      <td>37.3501</td>\n",
              "      <td>27.7804</td>\n",
              "    </tr>\n",
              "    <tr>\n",
              "      <th>3</th>\n",
              "      <td>42.2817</td>\n",
              "      <td>13.9690</td>\n",
              "    </tr>\n",
              "    <tr>\n",
              "      <th>4</th>\n",
              "      <td>10.8368</td>\n",
              "      <td>11.3589</td>\n",
              "    </tr>\n",
              "  </tbody>\n",
              "</table>\n",
              "</div>"
            ],
            "text/plain": [
              "         purchase_score  action_score\n",
              "cluster                              \n",
              "0               27.0461       11.7349\n",
              "1               13.5624       18.4837\n",
              "2               37.3501       27.7804\n",
              "3               42.2817       13.9690\n",
              "4               10.8368       11.3589"
            ]
          },
          "execution_count": 161,
          "metadata": {},
          "output_type": "execute_result"
        }
      ],
      "source": [
        "# 그룹별 평균값\n",
        "df_cluster.groupby('cluster').mean()"
      ]
    },
    {
      "cell_type": "code",
      "execution_count": null,
      "id": "8114394f",
      "metadata": {
        "id": "8114394f",
        "outputId": "63492c6d-5cde-40a2-f6c1-6bff1222833d"
      },
      "outputs": [
        {
          "data": {
            "image/png": "[encoded data removed]",
            "text/plain": [
              "<Figure size 500x900 with 5 Axes>"
            ]
          },
          "metadata": {},
          "output_type": "display_data"
        }
      ],
      "source": [
        "import seaborn as sns\n",
        "\n",
        "fig, ax = plt.subplots(5, 1, figsize=(5,9), sharex=True, sharey=True)\n",
        "ax = ax.ravel()\n",
        "plt.tight_layout() # 자동으로 레이아웃 조정\n",
        "#plt.subplots_adjust(hspace=0.2) # subplot간의 너비 간격 조절\n",
        "\n",
        "for i in range(kmeans.n_clusters):\n",
        "    ax[i].set_title('cluster %d' % i)\n",
        "#    ax[i].bar(np.arange(X.columns.size), kmeans.cluster_centers_[i])\n",
        "    sns.barplot(np.arange(df_cluster.iloc[:,:2].columns.size), kmeans.cluster_centers_[i], ax=ax[i])\n",
        "    ax[i].set_xticks(np.arange(df_cluster.iloc[:,:2].columns.size))\n",
        "    ax[i].set_xticklabels(df_cluster.iloc[:,:2].columns, rotation=90)\n",
        "# 군집별로 의미있는 해석 도출해내기"
      ]
    },
    {
      "cell_type": "code",
      "execution_count": null,
      "id": "409b7f13",
      "metadata": {
        "id": "409b7f13",
        "outputId": "2ffa3cc7-54d4-4839-f748-e1149ed3c9a3"
      },
      "outputs": [
        {
          "data": {
            "text/plain": [
              "<seaborn.axisgrid.FacetGrid at 0x7fbfb0913130>"
            ]
          },
          "execution_count": 163,
          "metadata": {},
          "output_type": "execute_result"
        },
        {
          "data": {
            "image/png": "[encoded data removed]",
            "text/plain": [
              "<Figure size 560.236x500 with 1 Axes>"
            ]
          },
          "metadata": {},
          "output_type": "display_data"
        }
      ],
      "source": [
        "sns.lmplot(x='purchase_score', y='action_score', data = total, hue = 'cluster', fit_reg=False)"
      ]
    },
    {
      "cell_type": "code",
      "execution_count": null,
      "id": "f57b3aca",
      "metadata": {
        "id": "f57b3aca",
        "outputId": "359418f1-ecc2-4878-c6a2-1874f5d1acaa"
      },
      "outputs": [
        {
          "data": {
            "text/html": [
              "<div>\n",
              "<style scoped>\n",
              "    .dataframe tbody tr th:only-of-type {\n",
              "        vertical-align: middle;\n",
              "    }\n",
              "\n",
              "    .dataframe tbody tr th {\n",
              "        vertical-align: top;\n",
              "    }\n",
              "\n",
              "    .dataframe thead th {\n",
              "        text-align: right;\n",
              "    }\n",
              "</style>\n",
              "<table border=\"1\" class=\"dataframe\">\n",
              "  <thead>\n",
              "    <tr style=\"text-align: right;\">\n",
              "      <th></th>\n",
              "      <th>cluster</th>\n",
              "      <th>purchase_score</th>\n",
              "      <th>ratio</th>\n",
              "    </tr>\n",
              "  </thead>\n",
              "  <tbody>\n",
              "    <tr>\n",
              "      <th>0</th>\n",
              "      <td>0</td>\n",
              "      <td>539102</td>\n",
              "      <td>28.6941</td>\n",
              "    </tr>\n",
              "    <tr>\n",
              "      <th>4</th>\n",
              "      <td>4</td>\n",
              "      <td>509468</td>\n",
              "      <td>27.1168</td>\n",
              "    </tr>\n",
              "    <tr>\n",
              "      <th>3</th>\n",
              "      <td>3</td>\n",
              "      <td>391696</td>\n",
              "      <td>20.8483</td>\n",
              "    </tr>\n",
              "    <tr>\n",
              "      <th>1</th>\n",
              "      <td>1</td>\n",
              "      <td>325217</td>\n",
              "      <td>17.3099</td>\n",
              "    </tr>\n",
              "    <tr>\n",
              "      <th>2</th>\n",
              "      <td>2</td>\n",
              "      <td>113305</td>\n",
              "      <td>6.0307</td>\n",
              "    </tr>\n",
              "  </tbody>\n",
              "</table>\n",
              "</div>"
            ],
            "text/plain": [
              "   cluster  purchase_score   ratio\n",
              "0        0          539102 28.6941\n",
              "4        4          509468 27.1168\n",
              "3        3          391696 20.8483\n",
              "1        1          325217 17.3099\n",
              "2        2          113305  6.0307"
            ]
          },
          "execution_count": 164,
          "metadata": {},
          "output_type": "execute_result"
        }
      ],
      "source": [
        "qq = df_cluster.groupby('cluster', as_index=False).agg({'purchase_score' : 'count'}).sort_values(by=['purchase_score'], ascending = False)\n",
        "qq['ratio'] = qq['purchase_score'] / qq['purchase_score'].sum() * 100\n",
        "qq  # 6%"
      ]
    },
    {
      "cell_type": "markdown",
      "id": "7c912bac",
      "metadata": {
        "id": "7c912bac"
      },
      "source": [
        "![KakaoTalk_Photo_2023-03-10-12-30-25%20001.png](attachment:KakaoTalk_Photo_2023-03-10-12-30-25%20001.png)"
      ]
    },
    {
      "cell_type": "code",
      "execution_count": null,
      "id": "ed3cc75c",
      "metadata": {
        "id": "ed3cc75c"
      },
      "outputs": [],
      "source": [
        "#plt.figure(figsize=(6,6))\n",
        "#ax = sns.scatterplot(x='purchase_score', y='action_score', data = total, hue = 'cluster', size = 'cluster_size')\n",
        "#sns.move_legend(ax, \"lower center\", bbox_to_anchor=(.5, 1), ncol=2, title=None, frameon=False)\n",
        "#plt.show()"
      ]
    },
    {
      "cell_type": "code",
      "execution_count": null,
      "id": "89b5df55",
      "metadata": {
        "id": "89b5df55"
      },
      "outputs": [],
      "source": [
        "#plt.figure(figsize=(6,6))\n",
        "#plt.scatter(df_scaled['purchase_score'], df_scaled['action_score'], c = df_scaled['cluster'], cmap = 'YlOrBr')\n",
        "#plt.scatter(center[:,0], center[:,1], c='red', marker = 's')\n"
      ]
    },
    {
      "cell_type": "code",
      "execution_count": null,
      "id": "bf03e707",
      "metadata": {
        "id": "bf03e707",
        "outputId": "6bc3484e-eaf1-4f2f-c382-0b0c7b72f106"
      },
      "outputs": [
        {
          "data": {
            "text/plain": [
              "<matplotlib.collections.PathCollection at 0x7fbfb0920e50>"
            ]
          },
          "execution_count": 165,
          "metadata": {},
          "output_type": "execute_result"
        },
        {
          "data": {
            "image/png": "[encoded data removed]",
            "text/plain": [
              "<Figure size 800x550 with 1 Axes>"
            ]
          },
          "metadata": {},
          "output_type": "display_data"
        }
      ],
      "source": [
        "center = kmeans.cluster_centers_\n",
        "center\n",
        "plt.scatter(center[:,0], center[:,1], c='red', marker = 's')"
      ]
    },
    {
      "cell_type": "markdown",
      "id": "a3a7e26e",
      "metadata": {
        "id": "a3a7e26e"
      },
      "source": [
        "# k-Means : 수동으로 k=7 (상위 = 2.5% 일치)"
      ]
    },
    {
      "cell_type": "code",
      "execution_count": null,
      "id": "abef4c77",
      "metadata": {
        "id": "abef4c77"
      },
      "outputs": [],
      "source": [
        "total = pd.merge(purchase[['고유번호','purchase_score' ]], action[['고유번호', 'action_score']],on='고유번호',how = 'left')\n",
        "df_cluster = total.drop(labels='고유번호',axis=1)\n",
        "\n",
        "from sklearn.cluster import KMeans\n",
        "from sklearn.preprocessing import StandardScaler\n",
        "\n",
        "#표준화\n",
        "sc = StandardScaler()\n",
        "df_scaled = sc.fit_transform(df_cluster)"
      ]
    },
    {
      "cell_type": "code",
      "execution_count": null,
      "id": "6989aa36",
      "metadata": {
        "id": "6989aa36"
      },
      "outputs": [],
      "source": [
        "# 클러스터링\n",
        "kmeans = KMeans(n_clusters=7, random_state=0)\n",
        "clusters = kmeans.fit(df_scaled)\n",
        "\n",
        "# 클러스터링 변수 \n",
        "df_cluster['cluster'] = clusters.labels_\n",
        "\n",
        "df_scaled = pd.DataFrame(df_scaled)\n",
        "df_scaled['cluster'] = kmeans.labels_\n",
        "df_scaled.columns = ['purchase_score', 'action_score', 'cluster']\n",
        "center = kmeans.cluster_centers_\n",
        "\n",
        "total['cluster'] = kmeans.labels_"
      ]
    },
    {
      "cell_type": "code",
      "execution_count": null,
      "id": "1a92395e",
      "metadata": {
        "id": "1a92395e"
      },
      "outputs": [],
      "source": [
        "pd.set_option('display.max_columns',None) # 전체 열 출력하기\n",
        "pd.set_option('display.max_rows',None) # 전체 행 출력하기"
      ]
    },
    {
      "cell_type": "code",
      "execution_count": null,
      "id": "7222ab34",
      "metadata": {
        "id": "7222ab34"
      },
      "outputs": [],
      "source": [
        "aa = user_fin[user_fin.고유번호.isin(total[total.cluster == 6].고유번호.unique())]\n",
        "aa[[ '구매횟수', '연 평균 구매횟수', '구매상품수',\n",
        "       '연 평균 구매상품수', '결제가 총합', '연 평균 결제가 총합', '쿠폰사용횟수', '연 평균 쿠폰사용횟수',\n",
        "       '포인트사용횟수', '연 평균 포인트사용횟수', 'c_출석체크_참여일수(누적)',\n",
        "       '연 평균 출첵참여횟수', 'c_일반이벤트_응모건수(누적)','연 평균 일반이벤트횟수','c_드로우 응모건수(누적)', '연 평균 드로우횟수', \n",
        "       '리뷰작성건수','연 평균 리뷰작성횟수']].describe()"
      ]
    },
    {
      "cell_type": "code",
      "execution_count": null,
      "id": "0901ec44",
      "metadata": {
        "id": "0901ec44"
      },
      "outputs": [],
      "source": [
        "aa = user_fin[user_fin.고유번호.isin(total[total.cluster == 5].고유번호.unique())]\n",
        "aa[[ '구매횟수', '연 평균 구매횟수', '구매상품수',\n",
        "       '연 평균 구매상품수', '결제가 총합', '연 평균 결제가 총합', '쿠폰사용횟수', '연 평균 쿠폰사용횟수',\n",
        "       '포인트사용횟수', '연 평균 포인트사용횟수', 'c_출석체크_참여일수(누적)',\n",
        "       '연 평균 출첵참여횟수', 'c_일반이벤트_응모건수(누적)','연 평균 일반이벤트횟수','c_드로우 응모건수(누적)', '연 평균 드로우횟수', \n",
        "       '리뷰작성건수','연 평균 리뷰작성횟수']].describe()"
      ]
    },
    {
      "cell_type": "code",
      "execution_count": null,
      "id": "cf0a760f",
      "metadata": {
        "id": "cf0a760f"
      },
      "outputs": [],
      "source": [
        "aa = user_fin[user_fin.고유번호.isin(total[total.cluster == 5].고유번호.unique())]\n",
        "aa[[ '구매횟수', '연 평균 구매횟수', '구매상품수',\n",
        "       '연 평균 구매상품수', '결제가 총합', '연 평균 결제가 총합', '쿠폰사용횟수', '연 평균 쿠폰사용횟수',\n",
        "       '포인트사용횟수', '연 평균 포인트사용횟수', 'c_출석체크_참여일수(누적)',\n",
        "       '연 평균 출첵참여횟수', 'c_일반이벤트_응모건수(누적)','연 평균 일반이벤트횟수','c_드로우 응모건수(누적)', '연 평균 드로우횟수', \n",
        "       '리뷰작성건수','연 평균 리뷰작성횟수']].describe()"
      ]
    },
    {
      "cell_type": "code",
      "execution_count": null,
      "id": "fea73665",
      "metadata": {
        "id": "fea73665"
      },
      "outputs": [],
      "source": [
        "aa = user_fin[user_fin.고유번호.isin(total[total.cluster == 6].고유번호.unique())]\n",
        "aa[['연 평균 구매횟수','연 평균 구매상품수', '연 평균 결제가 총합', '연 평균 쿠폰사용횟수','연 평균 포인트사용횟수','연 평균 출첵참여횟수','연 평균 일반이벤트횟수','연 평균 드로우횟수',\n",
        "'연 평균 리뷰작성횟수']].describe()"
      ]
    },
    {
      "cell_type": "code",
      "execution_count": null,
      "id": "ee3319cd",
      "metadata": {
        "id": "ee3319cd"
      },
      "outputs": [],
      "source": [
        "zz = total.groupby('cluster', as_index = False).agg({'purchase_score' : 'mean', 'action_score': 'mean'})\n",
        "xx = total.groupby('cluster', as_index = False).agg({'purchase_score' : 'count'})\n",
        "xx.columns = ['cluster', 'count']\n",
        "cc = pd.merge(zz, xx, on = 'cluster', how = 'left')"
      ]
    },
    {
      "cell_type": "code",
      "execution_count": null,
      "id": "b1909700",
      "metadata": {
        "id": "b1909700",
        "outputId": "b166761e-043c-4472-d2e3-0a5a84615f47"
      },
      "outputs": [
        {
          "data": {
            "text/html": [
              "<div>\n",
              "<style scoped>\n",
              "    .dataframe tbody tr th:only-of-type {\n",
              "        vertical-align: middle;\n",
              "    }\n",
              "\n",
              "    .dataframe tbody tr th {\n",
              "        vertical-align: top;\n",
              "    }\n",
              "\n",
              "    .dataframe thead th {\n",
              "        text-align: right;\n",
              "    }\n",
              "</style>\n",
              "<table border=\"1\" class=\"dataframe\">\n",
              "  <thead>\n",
              "    <tr style=\"text-align: right;\">\n",
              "      <th></th>\n",
              "      <th>cluster</th>\n",
              "      <th>purchase_score</th>\n",
              "      <th>action_score</th>\n",
              "      <th>count</th>\n",
              "    </tr>\n",
              "  </thead>\n",
              "  <tbody>\n",
              "    <tr>\n",
              "      <th>0</th>\n",
              "      <td>0</td>\n",
              "      <td>26.5081</td>\n",
              "      <td>11.7527</td>\n",
              "      <td>506992</td>\n",
              "    </tr>\n",
              "    <tr>\n",
              "      <th>1</th>\n",
              "      <td>1</td>\n",
              "      <td>42.1024</td>\n",
              "      <td>12.5649</td>\n",
              "      <td>330733</td>\n",
              "    </tr>\n",
              "    <tr>\n",
              "      <th>2</th>\n",
              "      <td>2</td>\n",
              "      <td>11.9162</td>\n",
              "      <td>16.3010</td>\n",
              "      <td>355017</td>\n",
              "    </tr>\n",
              "    <tr>\n",
              "      <th>3</th>\n",
              "      <td>3</td>\n",
              "      <td>16.5903</td>\n",
              "      <td>24.3406</td>\n",
              "      <td>86493</td>\n",
              "    </tr>\n",
              "    <tr>\n",
              "      <th>4</th>\n",
              "      <td>4</td>\n",
              "      <td>10.8318</td>\n",
              "      <td>10.6515</td>\n",
              "      <td>401032</td>\n",
              "    </tr>\n",
              "    <tr>\n",
              "      <th>5</th>\n",
              "      <td>5</td>\n",
              "      <td>42.1338</td>\n",
              "      <td>31.5811</td>\n",
              "      <td>51215</td>\n",
              "    </tr>\n",
              "    <tr>\n",
              "      <th>6</th>\n",
              "      <td>6</td>\n",
              "      <td>39.2014</td>\n",
              "      <td>19.3353</td>\n",
              "      <td>147306</td>\n",
              "    </tr>\n",
              "  </tbody>\n",
              "</table>\n",
              "</div>"
            ],
            "text/plain": [
              "   cluster  purchase_score  action_score   count\n",
              "0        0         26.5081       11.7527  506992\n",
              "1        1         42.1024       12.5649  330733\n",
              "2        2         11.9162       16.3010  355017\n",
              "3        3         16.5903       24.3406   86493\n",
              "4        4         10.8318       10.6515  401032\n",
              "5        5         42.1338       31.5811   51215\n",
              "6        6         39.2014       19.3353  147306"
            ]
          },
          "execution_count": 183,
          "metadata": {},
          "output_type": "execute_result"
        }
      ],
      "source": [
        "cc"
      ]
    },
    {
      "cell_type": "code",
      "execution_count": null,
      "id": "4c4b599d",
      "metadata": {
        "id": "4c4b599d"
      },
      "outputs": [],
      "source": [
        "cc.to_csv('../DATA_raw2/cluster요약3.csv', index=False)"
      ]
    },
    {
      "cell_type": "code",
      "execution_count": null,
      "id": "87b8c580",
      "metadata": {
        "id": "87b8c580",
        "outputId": "8c1bfeaa-c5f8-44e1-c922-e667c3b47b92"
      },
      "outputs": [
        {
          "data": {
            "image/png": "[encoded data removed]",
            "text/plain": [
              "<Figure size 500x500 with 1 Axes>"
            ]
          },
          "metadata": {},
          "output_type": "display_data"
        }
      ],
      "source": [
        "plt.figure(figsize=(3,3))\n",
        "total.cluster.value_counts().plot.pie(autopct='%.2f%%', figsize=(5,5), \n",
        "                                      startangle=30, legend=False)\n",
        "plt.title(\"군집 비율\")\n",
        "plt.axis('equal') # 안하면 찌그러짐.\n",
        "plt.show()"
      ]
    },
    {
      "cell_type": "code",
      "execution_count": null,
      "id": "df9e6392",
      "metadata": {
        "id": "df9e6392",
        "outputId": "b3fbfda7-d196-4174-85d2-b36f1866284d"
      },
      "outputs": [
        {
          "data": {
            "text/html": [
              "<div>\n",
              "<style scoped>\n",
              "    .dataframe tbody tr th:only-of-type {\n",
              "        vertical-align: middle;\n",
              "    }\n",
              "\n",
              "    .dataframe tbody tr th {\n",
              "        vertical-align: top;\n",
              "    }\n",
              "\n",
              "    .dataframe thead th {\n",
              "        text-align: right;\n",
              "    }\n",
              "</style>\n",
              "<table border=\"1\" class=\"dataframe\">\n",
              "  <thead>\n",
              "    <tr style=\"text-align: right;\">\n",
              "      <th></th>\n",
              "      <th>purchase_score</th>\n",
              "      <th>action_score</th>\n",
              "    </tr>\n",
              "    <tr>\n",
              "      <th>cluster</th>\n",
              "      <th></th>\n",
              "      <th></th>\n",
              "    </tr>\n",
              "  </thead>\n",
              "  <tbody>\n",
              "    <tr>\n",
              "      <th>0</th>\n",
              "      <td>506992</td>\n",
              "      <td>506992</td>\n",
              "    </tr>\n",
              "    <tr>\n",
              "      <th>1</th>\n",
              "      <td>330733</td>\n",
              "      <td>330733</td>\n",
              "    </tr>\n",
              "    <tr>\n",
              "      <th>2</th>\n",
              "      <td>355017</td>\n",
              "      <td>355017</td>\n",
              "    </tr>\n",
              "    <tr>\n",
              "      <th>3</th>\n",
              "      <td>86493</td>\n",
              "      <td>86493</td>\n",
              "    </tr>\n",
              "    <tr>\n",
              "      <th>4</th>\n",
              "      <td>401032</td>\n",
              "      <td>401032</td>\n",
              "    </tr>\n",
              "    <tr>\n",
              "      <th>5</th>\n",
              "      <td>51215</td>\n",
              "      <td>51215</td>\n",
              "    </tr>\n",
              "    <tr>\n",
              "      <th>6</th>\n",
              "      <td>147306</td>\n",
              "      <td>147306</td>\n",
              "    </tr>\n",
              "  </tbody>\n",
              "</table>\n",
              "</div>"
            ],
            "text/plain": [
              "         purchase_score  action_score\n",
              "cluster                              \n",
              "0                506992        506992\n",
              "1                330733        330733\n",
              "2                355017        355017\n",
              "3                 86493         86493\n",
              "4                401032        401032\n",
              "5                 51215         51215\n",
              "6                147306        147306"
            ]
          },
          "execution_count": 175,
          "metadata": {},
          "output_type": "execute_result"
        }
      ],
      "source": [
        "# cluster를 기준으로 데이터 개수\n",
        "df_cluster.groupby('cluster').count()"
      ]
    },
    {
      "cell_type": "code",
      "execution_count": null,
      "id": "a6b66947",
      "metadata": {
        "id": "a6b66947",
        "outputId": "d4497520-7614-4657-f302-a838e1f1dd95"
      },
      "outputs": [
        {
          "data": {
            "text/html": [
              "<div>\n",
              "<style scoped>\n",
              "    .dataframe tbody tr th:only-of-type {\n",
              "        vertical-align: middle;\n",
              "    }\n",
              "\n",
              "    .dataframe tbody tr th {\n",
              "        vertical-align: top;\n",
              "    }\n",
              "\n",
              "    .dataframe thead th {\n",
              "        text-align: right;\n",
              "    }\n",
              "</style>\n",
              "<table border=\"1\" class=\"dataframe\">\n",
              "  <thead>\n",
              "    <tr style=\"text-align: right;\">\n",
              "      <th></th>\n",
              "      <th>purchase_score</th>\n",
              "      <th>action_score</th>\n",
              "    </tr>\n",
              "    <tr>\n",
              "      <th>cluster</th>\n",
              "      <th></th>\n",
              "      <th></th>\n",
              "    </tr>\n",
              "  </thead>\n",
              "  <tbody>\n",
              "    <tr>\n",
              "      <th>0</th>\n",
              "      <td>26.5081</td>\n",
              "      <td>11.7527</td>\n",
              "    </tr>\n",
              "    <tr>\n",
              "      <th>1</th>\n",
              "      <td>42.1024</td>\n",
              "      <td>12.5649</td>\n",
              "    </tr>\n",
              "    <tr>\n",
              "      <th>2</th>\n",
              "      <td>11.9162</td>\n",
              "      <td>16.3010</td>\n",
              "    </tr>\n",
              "    <tr>\n",
              "      <th>3</th>\n",
              "      <td>16.5903</td>\n",
              "      <td>24.3406</td>\n",
              "    </tr>\n",
              "    <tr>\n",
              "      <th>4</th>\n",
              "      <td>10.8318</td>\n",
              "      <td>10.6515</td>\n",
              "    </tr>\n",
              "    <tr>\n",
              "      <th>5</th>\n",
              "      <td>42.1338</td>\n",
              "      <td>31.5811</td>\n",
              "    </tr>\n",
              "    <tr>\n",
              "      <th>6</th>\n",
              "      <td>39.2014</td>\n",
              "      <td>19.3353</td>\n",
              "    </tr>\n",
              "  </tbody>\n",
              "</table>\n",
              "</div>"
            ],
            "text/plain": [
              "         purchase_score  action_score\n",
              "cluster                              \n",
              "0               26.5081       11.7527\n",
              "1               42.1024       12.5649\n",
              "2               11.9162       16.3010\n",
              "3               16.5903       24.3406\n",
              "4               10.8318       10.6515\n",
              "5               42.1338       31.5811\n",
              "6               39.2014       19.3353"
            ]
          },
          "execution_count": 176,
          "metadata": {},
          "output_type": "execute_result"
        }
      ],
      "source": [
        "# 그룹별 평균값\n",
        "df_cluster.groupby('cluster').mean()"
      ]
    },
    {
      "cell_type": "code",
      "execution_count": null,
      "id": "9e3e8c49",
      "metadata": {
        "id": "9e3e8c49",
        "outputId": "9bc13dc0-f042-4622-a72f-f0f534c24852"
      },
      "outputs": [
        {
          "data": {
            "text/html": [
              "<div>\n",
              "<style scoped>\n",
              "    .dataframe tbody tr th:only-of-type {\n",
              "        vertical-align: middle;\n",
              "    }\n",
              "\n",
              "    .dataframe tbody tr th {\n",
              "        vertical-align: top;\n",
              "    }\n",
              "\n",
              "    .dataframe thead th {\n",
              "        text-align: right;\n",
              "    }\n",
              "</style>\n",
              "<table border=\"1\" class=\"dataframe\">\n",
              "  <thead>\n",
              "    <tr style=\"text-align: right;\">\n",
              "      <th></th>\n",
              "      <th>cluster</th>\n",
              "      <th>purchase_score</th>\n",
              "      <th>ratio</th>\n",
              "    </tr>\n",
              "  </thead>\n",
              "  <tbody>\n",
              "    <tr>\n",
              "      <th>0</th>\n",
              "      <td>0</td>\n",
              "      <td>506992</td>\n",
              "      <td>26.9851</td>\n",
              "    </tr>\n",
              "    <tr>\n",
              "      <th>4</th>\n",
              "      <td>4</td>\n",
              "      <td>401032</td>\n",
              "      <td>21.3453</td>\n",
              "    </tr>\n",
              "    <tr>\n",
              "      <th>2</th>\n",
              "      <td>2</td>\n",
              "      <td>355017</td>\n",
              "      <td>18.8961</td>\n",
              "    </tr>\n",
              "    <tr>\n",
              "      <th>1</th>\n",
              "      <td>1</td>\n",
              "      <td>330733</td>\n",
              "      <td>17.6035</td>\n",
              "    </tr>\n",
              "    <tr>\n",
              "      <th>6</th>\n",
              "      <td>6</td>\n",
              "      <td>147306</td>\n",
              "      <td>7.8405</td>\n",
              "    </tr>\n",
              "    <tr>\n",
              "      <th>3</th>\n",
              "      <td>3</td>\n",
              "      <td>86493</td>\n",
              "      <td>4.6037</td>\n",
              "    </tr>\n",
              "    <tr>\n",
              "      <th>5</th>\n",
              "      <td>5</td>\n",
              "      <td>51215</td>\n",
              "      <td>2.7260</td>\n",
              "    </tr>\n",
              "  </tbody>\n",
              "</table>\n",
              "</div>"
            ],
            "text/plain": [
              "   cluster  purchase_score   ratio\n",
              "0        0          506992 26.9851\n",
              "4        4          401032 21.3453\n",
              "2        2          355017 18.8961\n",
              "1        1          330733 17.6035\n",
              "6        6          147306  7.8405\n",
              "3        3           86493  4.6037\n",
              "5        5           51215  2.7260"
            ]
          },
          "execution_count": 177,
          "metadata": {},
          "output_type": "execute_result"
        }
      ],
      "source": [
        "qq = df_cluster.groupby('cluster', as_index=False).agg({'purchase_score' : 'count'}).sort_values(by=['purchase_score'], ascending = False)\n",
        "qq['ratio'] = qq['purchase_score'] / qq['purchase_score'].sum() * 100\n",
        "qq  #  4%"
      ]
    },
    {
      "cell_type": "code",
      "execution_count": null,
      "id": "f79a7c2c",
      "metadata": {
        "id": "f79a7c2c",
        "outputId": "a87d7bd0-33f8-42a5-9475-873fd456f514"
      },
      "outputs": [
        {
          "data": {
            "image/png": "[encoded data removed]",
            "text/plain": [
              "<Figure size 500x900 with 7 Axes>"
            ]
          },
          "metadata": {},
          "output_type": "display_data"
        }
      ],
      "source": [
        "import seaborn as sns\n",
        "\n",
        "fig, ax = plt.subplots(7, 1, figsize=(5,9), sharex=True, sharey=True)\n",
        "ax = ax.ravel()\n",
        "plt.tight_layout() # 자동으로 레이아웃 조정\n",
        "#plt.subplots_adjust(hspace=0.2) # subplot간의 너비 간격 조절\n",
        "\n",
        "for i in range(kmeans.n_clusters):\n",
        "    ax[i].set_title('cluster %d' % i)\n",
        "#    ax[i].bar(np.arange(X.columns.size), kmeans.cluster_centers_[i])\n",
        "    sns.barplot(np.arange(df_cluster.iloc[:,:2].columns.size), kmeans.cluster_centers_[i], ax=ax[i])\n",
        "    ax[i].set_xticks(np.arange(df_cluster.iloc[:,:2].columns.size))\n",
        "    ax[i].set_xticklabels(df_cluster.iloc[:,:2].columns, rotation=90)\n",
        "# 군집별로 의미있는 해석 도출해내기"
      ]
    },
    {
      "cell_type": "code",
      "execution_count": null,
      "id": "062d0663",
      "metadata": {
        "id": "062d0663",
        "outputId": "53f4d035-bd17-4a02-ad42-1a1227384ae5"
      },
      "outputs": [
        {
          "data": {
            "text/plain": [
              "<seaborn.axisgrid.FacetGrid at 0x7fbfd78dba00>"
            ]
          },
          "execution_count": 180,
          "metadata": {},
          "output_type": "execute_result"
        },
        {
          "data": {
            "image/png": "[encoded data removed]",
            "text/plain": [
              "<Figure size 560.236x500 with 1 Axes>"
            ]
          },
          "metadata": {},
          "output_type": "display_data"
        }
      ],
      "source": [
        "sns.lmplot(x='purchase_score', y='action_score', data = total, hue = 'cluster', fit_reg=False)"
      ]
    },
    {
      "cell_type": "markdown",
      "id": "b1dbd68c",
      "metadata": {
        "id": "b1dbd68c"
      },
      "source": [
        "![KakaoTalk_Photo_2023-03-10-16-10-49.png](attachment:KakaoTalk_Photo_2023-03-10-16-10-49.png)"
      ]
    },
    {
      "cell_type": "code",
      "execution_count": null,
      "id": "b2b2de22",
      "metadata": {
        "id": "b2b2de22",
        "outputId": "fdcbefcb-8a21-45b0-f4ae-739aa1b7516c"
      },
      "outputs": [
        {
          "data": {
            "text/plain": [
              "<matplotlib.collections.PathCollection at 0x7fbfd782a2b0>"
            ]
          },
          "execution_count": 182,
          "metadata": {},
          "output_type": "execute_result"
        },
        {
          "data": {
            "image/png": "[encoded data removed]",
            "text/plain": [
              "<Figure size 800x550 with 1 Axes>"
            ]
          },
          "metadata": {},
          "output_type": "display_data"
        }
      ],
      "source": [
        "center = kmeans.cluster_centers_\n",
        "center\n",
        "plt.scatter(center[:,0], center[:,1], c='red', marker = 's')"
      ]
    },
    {
      "cell_type": "code",
      "execution_count": null,
      "id": "ebce9065",
      "metadata": {
        "id": "ebce9065"
      },
      "outputs": [],
      "source": []
    }
  ],
  "metadata": {
    "kernelspec": {
      "display_name": "Python 3 (ipykernel)",
      "language": "python",
      "name": "python3"
    },
    "language_info": {
      "codemirror_mode": {
        "name": "ipython",
        "version": 3
      },
      "file_extension": ".py",
      "mimetype": "text/x-python",
      "name": "python",
      "nbconvert_exporter": "python",
      "pygments_lexer": "ipython3",
      "version": "3.9.13"
    },
    "colab": {
      "provenance": []
    }
  },
  "nbformat": 4,
  "nbformat_minor": 5
}