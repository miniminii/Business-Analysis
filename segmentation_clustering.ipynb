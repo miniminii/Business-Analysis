{
  "cells": [
    {
      "cell_type": "code",
      "execution_count": null,
      "id": "7fce3aec",
      "metadata": {
        "id": "7fce3aec"
      },
      "outputs": [],
      "source": [
        "import pandas as pd\n",
        "from glob import glob\n",
        "import os\n",
        "import numpy as np\n",
        "from tqdm import tqdm, tqdm_notebook\n",
        "import plotly.offline as pyo\n",
        "import matplotlib.pyplot as plt\n",
        "import plotly.express as px\n",
        "import plotly.graph_objects as go\n",
        "\n",
        "from datetime import datetime\n",
        "from datetime import date"
      ]
    },
    {
      "cell_type": "code",
      "execution_count": null,
      "id": "d6fb15d0",
      "metadata": {
        "id": "d6fb15d0"
      },
      "outputs": [],
      "source": [
        "import plotly.io as pio\n",
        "pio.renderers.default = \"plotly_mimetype+notebook\""
      ]
    },
    {
      "cell_type": "code",
      "execution_count": null,
      "id": "013da50a",
      "metadata": {
        "id": "013da50a"
      },
      "outputs": [],
      "source": [
        "pd.options.display.float_format = '{:.4f}'.format"
      ]
    },
    {
      "cell_type": "code",
      "execution_count": null,
      "id": "0bffdcb6",
      "metadata": {
        "id": "0bffdcb6"
      },
      "outputs": [],
      "source": [
        "%matplotlib inline\n",
        "from matplotlib import font_manager, rc\n",
        "import matplotlib.pyplot as plt\n",
        "import platform\n",
        "\n",
        "path = \"c:/Windows/Fonts/malgun.ttf\"\n",
        "if platform.system() == 'Darwin':\n",
        "    rc('font', family='AppleGothic')\n",
        "rc('axes', unicode_minus=False) "
      ]
    },
    {
      "cell_type": "code",
      "execution_count": null,
      "id": "33aee4dd",
      "metadata": {
        "id": "33aee4dd"
      },
      "outputs": [],
      "source": [
        "import warnings\n",
        "warnings.filterwarnings(action='ignore')"
      ]
    },
    {
      "cell_type": "code",
      "execution_count": null,
      "id": "70afad55",
      "metadata": {
        "id": "70afad55"
      },
      "outputs": [],
      "source": [
        "# go to file\n",
        "os.chdir('../DATA_raw2')"
      ]
    },
    {
      "cell_type": "markdown",
      "id": "68664894",
      "metadata": {
        "id": "68664894"
      },
      "source": [
        "# 유지기간 반영해서 order 정리\n",
        "\n",
        "\n"
      ]
    },
    {
      "cell_type": "code",
      "execution_count": null,
      "id": "b30475b3",
      "metadata": {
        "id": "b30475b3"
      },
      "outputs": [],
      "source": [
        "user = pd.read_pickle(\"../TBWA/user_fin.pkl\")\n",
        "order = pd.read_pickle(\"../TBWA/order_fin.pkl\")"
      ]
    },
    {
      "cell_type": "code",
      "execution_count": null,
      "id": "e1469394",
      "metadata": {
        "id": "e1469394"
      },
      "outputs": [],
      "source": [
        "user['최초가입일2'] = user['최초가입일'].astype(str)\n",
        "user['최초가입연월'] = user['최초가입일2'].str[:7]\n",
        "\n",
        "user['최종가입일2'] = user['최종가입일'].astype(str)\n",
        "user['최종가입연월'] = user['최종가입일2'].str[:7]\n",
        "\n",
        "user['최초가입연도'] = user['최초가입일'].dt.year\n",
        "user['최종가입연도'] = user['최종가입일'].dt.year\n",
        "user['최초가입월'] = user['최초가입일'].dt.month\n",
        "user['최종가입월'] = user['최종가입일'].dt.month"
      ]
    },
    {
      "cell_type": "code",
      "execution_count": null,
      "id": "2161794a",
      "metadata": {
        "id": "2161794a",
        "outputId": "dab41c69-e07a-463c-e79d-22bef6879132"
      },
      "outputs": [
        {
          "data": {
            "text/plain": [
              "datetime.datetime(2022, 12, 31, 0, 0)"
            ]
          },
          "execution_count": 680,
          "metadata": {},
          "output_type": "execute_result"
        }
      ],
      "source": [
        "dateformat = \"%Y-%m-%d\"\n",
        "str_datetime = \"2022-12-31\"\n",
        "datetime_convert = datetime.strptime(str_datetime, dateformat)\n",
        "datetime_convert"
      ]
    },
    {
      "cell_type": "code",
      "execution_count": null,
      "id": "435a21c4",
      "metadata": {
        "id": "435a21c4"
      },
      "outputs": [],
      "source": [
        "user = user[user.최종가입일 <= datetime_convert].reset_index(drop = True)"
      ]
    },
    {
      "cell_type": "code",
      "execution_count": null,
      "id": "025e3a82",
      "metadata": {
        "id": "025e3a82",
        "outputId": "606d2eef-0529-486f-923c-adf204bdc871"
      },
      "outputs": [
        {
          "data": {
            "text/plain": [
              "datetime.datetime(2023, 1, 1, 0, 0)"
            ]
          },
          "execution_count": 682,
          "metadata": {},
          "output_type": "execute_result"
        }
      ],
      "source": [
        "dateformat = \"%Y-%m-%d\"\n",
        "str_datetime = \"2023-01-01\"\n",
        "datetime_convert2 = datetime.strptime(str_datetime, dateformat)\n",
        "datetime_convert2"
      ]
    },
    {
      "cell_type": "code",
      "execution_count": null,
      "id": "ea3f7473",
      "metadata": {
        "id": "ea3f7473"
      },
      "outputs": [],
      "source": [
        "user['유지기간'] = datetime_convert2 - user.최종가입일\n",
        "user.유지기간 = user.유지기간.dt.days\n",
        "user.유지기간 = user.유지기간 / 30 / 12 # 개월 단위"
      ]
    },
    {
      "cell_type": "code",
      "execution_count": null,
      "id": "8bf70768",
      "metadata": {
        "id": "8bf70768",
        "outputId": "78ddae87-84a6-445a-c0ad-2adaeea6d04d"
      },
      "outputs": [
        {
          "data": {
            "text/plain": [
              "1.2369165150914114"
            ]
          },
          "execution_count": 684,
          "metadata": {},
          "output_type": "execute_result"
        }
      ],
      "source": [
        "user.유지기간.mean()"
      ]
    },
    {
      "cell_type": "code",
      "execution_count": null,
      "id": "39584b5c",
      "metadata": {
        "id": "39584b5c"
      },
      "outputs": [],
      "source": [
        "order['구매일자2'] = order['구매일자'].astype(str)\n",
        "order['구매연월'] = order['구매일자2'].str[:7]\n",
        "order['구매연도'] = order['구매일자'].dt.year\n",
        "order['구매월'] = order['구매일자'].dt.month"
      ]
    },
    {
      "cell_type": "code",
      "execution_count": null,
      "id": "5be26a27",
      "metadata": {
        "id": "5be26a27"
      },
      "outputs": [],
      "source": [
        "df = pd.merge(order, user[['고유번호', '최초가입일', '최종가입일', '최종탈퇴일', '재가입횟수']], on = '고유번호', how = 'left')"
      ]
    },
    {
      "cell_type": "code",
      "execution_count": null,
      "id": "61770e8b",
      "metadata": {
        "id": "61770e8b",
        "outputId": "bea32eb7-20df-48fa-caa2-2736532e0244"
      },
      "outputs": [
        {
          "data": {
            "text/plain": [
              "20681"
            ]
          },
          "execution_count": 199,
          "metadata": {},
          "output_type": "execute_result"
        }
      ],
      "source": [
        "len(df[df.구매일자 < df.최초가입일])"
      ]
    },
    {
      "cell_type": "code",
      "execution_count": null,
      "id": "a72949b2",
      "metadata": {
        "id": "a72949b2"
      },
      "outputs": [],
      "source": [
        "# 재가입자들의 이전 데이터 삭제\n",
        "order2 = df[df.구매일자 >= df.최종가입일].reset_index(drop = True)\n",
        "order2 = order2[order2.카테고리1 == '신발'].reset_index(drop = True)"
      ]
    },
    {
      "cell_type": "code",
      "execution_count": null,
      "id": "2c831db9",
      "metadata": {
        "id": "2c831db9",
        "outputId": "952142a8-a8d2-4190-cb68-b5fe1091b1d2"
      },
      "outputs": [
        {
          "data": {
            "text/plain": [
              "1878788"
            ]
          },
          "execution_count": 677,
          "metadata": {},
          "output_type": "execute_result"
        }
      ],
      "source": [
        "len(user)"
      ]
    },
    {
      "cell_type": "code",
      "execution_count": null,
      "id": "d92d56a4",
      "metadata": {
        "id": "d92d56a4",
        "outputId": "f441bb55-29ad-42cc-f440-958524303577"
      },
      "outputs": [
        {
          "name": "stdout",
          "output_type": "stream",
          "text": [
            "4928381\n",
            "3842695\n",
            "1085686 건 삭제\n"
          ]
        }
      ],
      "source": [
        "print(len(order)) \n",
        "print(len(order2))\n",
        "print(len(order)  - len(order2), '건 삭제') "
      ]
    },
    {
      "cell_type": "code",
      "execution_count": null,
      "id": "041a3971",
      "metadata": {
        "id": "041a3971"
      },
      "outputs": [],
      "source": [
        "## 신발 구매 주기\n",
        "## 구매주기\n",
        "data = order2.groupby(['고유번호', '구매일자']).agg({'구매시간':'nunique'})\n",
        "data = data.reset_index().rename(columns={\"index\": \"id\"})\n",
        "data['직전구매일자'] = data.groupby('고유번호').구매일자.shift()\n",
        "data['구매소요시간'] = data['구매일자'] - data['직전구매일자']\n",
        "data['구매소요시간'] = data['구매소요시간'].dt.days\n",
        "data['구매소요시간'] = np.where(data['구매소요시간'].isna(), 0, data['구매소요시간'])\n",
        "data2 = data.groupby('고유번호').agg({'구매소요시간':'sum'})\n",
        "data2 = data2.reset_index().rename(columns={\"index\": \"id\"})\n",
        "data3 = data.groupby('고유번호').agg({'구매시간':'sum'})   #같은날에 많이 사는건 주기에 안치면 구매소요시간:count, 치면 '상품명':sum 으로\n",
        "data3 = data3.reset_index().rename(columns={\"index\": \"id\"})\n",
        "data3.columns = ['고유번호', '방문횟수']\n",
        "data3['방문횟수'] = data3['방문횟수'] -1\n",
        "df = pd.merge(data2, data3, on = '고유번호', how = 'inner')\n",
        "df_0 = df[(df['방문횟수'] == 0) | (df['구매소요시간'] ==0 )]"
      ]
    },
    {
      "cell_type": "code",
      "execution_count": null,
      "id": "4151747c",
      "metadata": {
        "id": "4151747c"
      },
      "outputs": [],
      "source": [
        "df3 = df[~df.고유번호.isin(df_0.고유번호.unique())]\n",
        "df3['구매주기'] = df3['구매소요시간'] / df3['방문횟수']"
      ]
    },
    {
      "cell_type": "code",
      "execution_count": null,
      "id": "b08b1141",
      "metadata": {
        "id": "b08b1141",
        "outputId": "2de164f7-bf83-41a9-db90-958b13ab8114"
      },
      "outputs": [
        {
          "data": {
            "text/plain": [
              "count   537349.0000\n",
              "mean       168.9425\n",
              "std        150.1203\n",
              "min          1.0000\n",
              "25%         68.2727\n",
              "50%        135.0000\n",
              "75%        227.0000\n",
              "max       1447.0000\n",
              "Name: 구매주기, dtype: float64"
            ]
          },
          "execution_count": 134,
          "metadata": {},
          "output_type": "execute_result"
        }
      ],
      "source": [
        "df3['구매주기'].describe() #평균 168일마다 구매"
      ]
    },
    {
      "cell_type": "code",
      "execution_count": null,
      "id": "5a4deace",
      "metadata": {
        "id": "5a4deace",
        "outputId": "2f57e6de-480e-4061-b211-f0ca435bd352"
      },
      "outputs": [
        {
          "data": {
            "text/html": [
              "<div>\n",
              "<style scoped>\n",
              "    .dataframe tbody tr th:only-of-type {\n",
              "        vertical-align: middle;\n",
              "    }\n",
              "\n",
              "    .dataframe tbody tr th {\n",
              "        vertical-align: top;\n",
              "    }\n",
              "\n",
              "    .dataframe thead th {\n",
              "        text-align: right;\n",
              "    }\n",
              "</style>\n",
              "<table border=\"1\" class=\"dataframe\">\n",
              "  <thead>\n",
              "    <tr style=\"text-align: right;\">\n",
              "      <th></th>\n",
              "      <th>고유번호</th>\n",
              "      <th>구매일자</th>\n",
              "      <th>결제가</th>\n",
              "      <th>상품 평균 구매금액</th>\n",
              "    </tr>\n",
              "  </thead>\n",
              "  <tbody>\n",
              "    <tr>\n",
              "      <th>0</th>\n",
              "      <td>000020EE74E3CB26A13F340A85151C413841410D455F34...</td>\n",
              "      <td>2</td>\n",
              "      <td>286400</td>\n",
              "      <td>143200.0000</td>\n",
              "    </tr>\n",
              "    <tr>\n",
              "      <th>1</th>\n",
              "      <td>00003D3FAD4DCDBB6251D9D55DBF139C85D60EE1C6C64F...</td>\n",
              "      <td>1</td>\n",
              "      <td>175000</td>\n",
              "      <td>175000.0000</td>\n",
              "    </tr>\n",
              "    <tr>\n",
              "      <th>2</th>\n",
              "      <td>000044FE56D9669721FE811A7441B12E6D364D444F25F6...</td>\n",
              "      <td>1</td>\n",
              "      <td>62100</td>\n",
              "      <td>62100.0000</td>\n",
              "    </tr>\n",
              "    <tr>\n",
              "      <th>3</th>\n",
              "      <td>00004828E678901ACC084A85FB2626F6162C95E8CDA415...</td>\n",
              "      <td>2</td>\n",
              "      <td>134000</td>\n",
              "      <td>67000.0000</td>\n",
              "    </tr>\n",
              "    <tr>\n",
              "      <th>4</th>\n",
              "      <td>00004D28EE770A44360C93CF572F16235632D1C66DC730...</td>\n",
              "      <td>1</td>\n",
              "      <td>49000</td>\n",
              "      <td>49000.0000</td>\n",
              "    </tr>\n",
              "    <tr>\n",
              "      <th>...</th>\n",
              "      <td>...</td>\n",
              "      <td>...</td>\n",
              "      <td>...</td>\n",
              "      <td>...</td>\n",
              "    </tr>\n",
              "    <tr>\n",
              "      <th>1224449</th>\n",
              "      <td>FFFFE1EB24A63D6200BD35E9D15F8F3E19F64E0DE5A734...</td>\n",
              "      <td>2</td>\n",
              "      <td>73500</td>\n",
              "      <td>36750.0000</td>\n",
              "    </tr>\n",
              "    <tr>\n",
              "      <th>1224450</th>\n",
              "      <td>FFFFEA945203637A489BE60780A3DC5EE02B2ADC3C1648...</td>\n",
              "      <td>12</td>\n",
              "      <td>651300</td>\n",
              "      <td>54275.0000</td>\n",
              "    </tr>\n",
              "    <tr>\n",
              "      <th>1224451</th>\n",
              "      <td>FFFFED1052DE910E168507A276F4CE9C15B0939E747D5B...</td>\n",
              "      <td>5</td>\n",
              "      <td>308900</td>\n",
              "      <td>61780.0000</td>\n",
              "    </tr>\n",
              "    <tr>\n",
              "      <th>1224452</th>\n",
              "      <td>FFFFFC23A33A656E3E8BA90A9CC2D7779E6B8D55DA8C74...</td>\n",
              "      <td>1</td>\n",
              "      <td>49000</td>\n",
              "      <td>49000.0000</td>\n",
              "    </tr>\n",
              "    <tr>\n",
              "      <th>1224453</th>\n",
              "      <td>FFFFFFFF0EEB7F6951D69133549E990C6F6DA57136A49A...</td>\n",
              "      <td>4</td>\n",
              "      <td>236000</td>\n",
              "      <td>59000.0000</td>\n",
              "    </tr>\n",
              "  </tbody>\n",
              "</table>\n",
              "<p>1224454 rows × 4 columns</p>\n",
              "</div>"
            ],
            "text/plain": [
              "                                                      고유번호  구매일자     결제가  \\\n",
              "0        000020EE74E3CB26A13F340A85151C413841410D455F34...     2  286400   \n",
              "1        00003D3FAD4DCDBB6251D9D55DBF139C85D60EE1C6C64F...     1  175000   \n",
              "2        000044FE56D9669721FE811A7441B12E6D364D444F25F6...     1   62100   \n",
              "3        00004828E678901ACC084A85FB2626F6162C95E8CDA415...     2  134000   \n",
              "4        00004D28EE770A44360C93CF572F16235632D1C66DC730...     1   49000   \n",
              "...                                                    ...   ...     ...   \n",
              "1224449  FFFFE1EB24A63D6200BD35E9D15F8F3E19F64E0DE5A734...     2   73500   \n",
              "1224450  FFFFEA945203637A489BE60780A3DC5EE02B2ADC3C1648...    12  651300   \n",
              "1224451  FFFFED1052DE910E168507A276F4CE9C15B0939E747D5B...     5  308900   \n",
              "1224452  FFFFFC23A33A656E3E8BA90A9CC2D7779E6B8D55DA8C74...     1   49000   \n",
              "1224453  FFFFFFFF0EEB7F6951D69133549E990C6F6DA57136A49A...     4  236000   \n",
              "\n",
              "         상품 평균 구매금액  \n",
              "0       143200.0000  \n",
              "1       175000.0000  \n",
              "2        62100.0000  \n",
              "3        67000.0000  \n",
              "4        49000.0000  \n",
              "...             ...  \n",
              "1224449  36750.0000  \n",
              "1224450  54275.0000  \n",
              "1224451  61780.0000  \n",
              "1224452  49000.0000  \n",
              "1224453  59000.0000  \n",
              "\n",
              "[1224454 rows x 4 columns]"
            ]
          },
          "metadata": {},
          "output_type": "display_data"
        },
        {
          "name": "stdout",
          "output_type": "stream",
          "text": [
            "회원들의 1회 평균 구매 금액은 : 65620.10533430986\n"
          ]
        }
      ],
      "source": [
        "### 상품당 평균 구매 금액\n",
        "zz = order2[order2.카테고리1 == '신발']\n",
        "qq = zz.groupby('고유번호').agg({'구매일자':'count'})\n",
        "qq = qq.reset_index().rename(columns={\"index\": \"id\"})\n",
        "ww = zz.groupby('고유번호').agg({'결제가':'sum'})\n",
        "ww = ww.reset_index().rename(columns={\"index\": \"id\"})\n",
        "ee = pd.merge(qq,ww, on='고유번호', how='inner')\n",
        "ee['상품 평균 구매금액'] = ee['결제가'] / ee['구매일자']  #회원 당 평균구매금액이고\n",
        "display(ee)\n",
        "print(\"회원들의 1회 평균 구매 금액은 :\", ee['상품 평균 구매금액'].mean()) #전체 회원의 평균구매금액"
      ]
    },
    {
      "cell_type": "code",
      "execution_count": null,
      "id": "3e8704ca",
      "metadata": {
        "id": "3e8704ca",
        "outputId": "357e1c54-0416-44a4-ae73-efad02e45e3d"
      },
      "outputs": [
        {
          "name": "stdout",
          "output_type": "stream",
          "text": [
            "평균 구매 횟수는 : 2.32\n",
            "평균 구매 상품수는 : 3.14\n"
          ]
        }
      ],
      "source": [
        "qq = zz.groupby('고유번호',as_index = False).agg({'구매일자':'nunique'})\n",
        "print(\"평균 구매 횟수는 :\", np.round(qq[\"구매일자\"].mean(),2)) \n",
        "print(\"평균 구매 상품수는 :\", np.round(ee[\"구매일자\"].mean(),2)) "
      ]
    },
    {
      "cell_type": "markdown",
      "id": "39a0535b",
      "metadata": {
        "id": "39a0535b"
      },
      "source": [
        "# 유저 정보 매칭하기\n"
      ]
    },
    {
      "cell_type": "code",
      "execution_count": null,
      "id": "e8512d5a",
      "metadata": {
        "id": "e8512d5a"
      },
      "outputs": [],
      "source": [
        "user = pd.read_pickle(\"../TBWA/user_fin.pkl\")\n",
        "order = pd.read_pickle(\"../TBWA/order_fin.pkl\")"
      ]
    },
    {
      "cell_type": "code",
      "execution_count": null,
      "id": "e3e51ec6",
      "metadata": {
        "id": "e3e51ec6"
      },
      "outputs": [],
      "source": []
    },
    {
      "cell_type": "code",
      "execution_count": null,
      "id": "e4d7f094",
      "metadata": {
        "id": "e4d7f094"
      },
      "outputs": [],
      "source": [
        "# 79064명 -> # 최종가입일이 2019년 1월 1일 기준으로\n",
        "\n",
        "user.최종가입일 = user.최종가입일.astype(str)\n",
        "user['최종가입일'] = np.where((user.최종가입일 < '2019-01-01') , '2019-01-01' ,user['최종가입일'])\n",
        "user = user[user.최종가입일 <= \"2022-12-31\"].reset_index(drop = True)\n",
        "user['최종가입일'] = pd.to_datetime(user['최종가입일'], errors='coerce')"
      ]
    },
    {
      "cell_type": "code",
      "execution_count": null,
      "id": "cd29562d",
      "metadata": {
        "id": "cd29562d",
        "outputId": "da5a1731-7f86-4385-929e-6f7420c8b172"
      },
      "outputs": [
        {
          "data": {
            "text/plain": [
              "1878788"
            ]
          },
          "execution_count": 93,
          "metadata": {},
          "output_type": "execute_result"
        }
      ],
      "source": [
        "len(user)"
      ]
    },
    {
      "cell_type": "code",
      "execution_count": null,
      "id": "8630d765",
      "metadata": {
        "id": "8630d765"
      },
      "outputs": [],
      "source": [
        "user['최초가입일2'] = user['최초가입일'].astype(str)\n",
        "user['최초가입연월'] = user['최초가입일2'].str[:7]\n",
        "\n",
        "user['최종가입일2'] = user['최종가입일'].astype(str)\n",
        "user['최종가입연월'] = user['최종가입일2'].str[:7]\n",
        "\n",
        "user['최초가입연도'] = user['최초가입일'].dt.year\n",
        "user['최종가입연도'] = user['최종가입일'].dt.year\n",
        "user['최초가입월'] = user['최초가입일'].dt.month\n",
        "user['최종가입월'] = user['최종가입일'].dt.month"
      ]
    },
    {
      "cell_type": "code",
      "execution_count": null,
      "id": "6064b00d",
      "metadata": {
        "id": "6064b00d",
        "outputId": "b145f80f-0ca5-44d2-a3a3-6bb391047510"
      },
      "outputs": [
        {
          "data": {
            "text/plain": [
              "29201"
            ]
          },
          "execution_count": 192,
          "metadata": {},
          "output_type": "execute_result"
        }
      ],
      "source": [
        "len(user[user.최종가입연도 == 2023])"
      ]
    },
    {
      "cell_type": "code",
      "execution_count": null,
      "id": "4d219d3c",
      "metadata": {
        "id": "4d219d3c",
        "outputId": "d5ded3bd-8285-41a2-f3aa-a0a3939b5212"
      },
      "outputs": [
        {
          "data": {
            "text/plain": [
              "Timestamp('2022-12-31 00:00:00')"
            ]
          },
          "execution_count": 95,
          "metadata": {},
          "output_type": "execute_result"
        }
      ],
      "source": [
        "user.최종가입일.max()"
      ]
    },
    {
      "cell_type": "code",
      "execution_count": null,
      "id": "f1edbfb7",
      "metadata": {
        "id": "f1edbfb7",
        "outputId": "d90f1b72-8a86-4bac-f1f0-11927c1a3b3d"
      },
      "outputs": [
        {
          "data": {
            "text/plain": [
              "datetime.datetime(2023, 1, 1, 0, 0)"
            ]
          },
          "execution_count": 96,
          "metadata": {},
          "output_type": "execute_result"
        }
      ],
      "source": [
        "dateformat = \"%Y-%m-%d\"\n",
        "str_datetime = \"2023-01-01\"\n",
        "datetime_convert2 = datetime.strptime(str_datetime, dateformat)\n",
        "datetime_convert2"
      ]
    },
    {
      "cell_type": "code",
      "execution_count": null,
      "id": "af095c10",
      "metadata": {
        "id": "af095c10"
      },
      "outputs": [],
      "source": [
        "user['유지기간'] = datetime_convert2 - user.최종가입일\n",
        "user.유지기간 = user.유지기간.dt.days\n",
        "user.유지기간 = user.유지기간  # 연도 단위"
      ]
    },
    {
      "cell_type": "code",
      "execution_count": null,
      "id": "ab58aa73",
      "metadata": {
        "id": "ab58aa73"
      },
      "outputs": [],
      "source": [
        "def fun1(x) : \n",
        "    if x >= 365 * 10 : \n",
        "        return 11\n",
        "    elif x >= 365 * 9 : \n",
        "        return 10\n",
        "    elif x >= 365 * 8 :\n",
        "        return 9\n",
        "    elif x >= 365 * 7:\n",
        "        return 8\n",
        "    elif x >= 365 * 6:\n",
        "        return 7\n",
        "    elif x >= 365 * 5:\n",
        "        return 6\n",
        "    elif x >= 365 * 4:\n",
        "        return 5\n",
        "    elif x >= 365 * 3:\n",
        "        return 4\n",
        "    elif x >= 365 * 2:\n",
        "        return 3\n",
        "    elif x >= 365 :\n",
        "        return 2\n",
        "    else :\n",
        "        return 1\n",
        "user['유지기간2'] = user['유지기간'].apply(fun1)"
      ]
    },
    {
      "cell_type": "code",
      "execution_count": null,
      "id": "5b480036",
      "metadata": {
        "id": "5b480036"
      },
      "outputs": [],
      "source": [
        "df = pd.merge(order, user[['고유번호', '최초가입일', '최종가입일', '최종탈퇴일', '재가입횟수']], on = '고유번호', how = 'inner')"
      ]
    },
    {
      "cell_type": "code",
      "execution_count": null,
      "id": "6df14995",
      "metadata": {
        "id": "6df14995"
      },
      "outputs": [],
      "source": [
        "order2 = df[df.구매일자 >= df.최종가입일].reset_index(drop = True)"
      ]
    },
    {
      "cell_type": "code",
      "execution_count": null,
      "id": "39a38b37",
      "metadata": {
        "id": "39a38b37",
        "outputId": "eba05876-d439-40d2-9cd7-83aa23bc9063"
      },
      "outputs": [
        {
          "name": "stdout",
          "output_type": "stream",
          "text": [
            "4292195\n",
            "1878788\n"
          ]
        }
      ],
      "source": [
        "print(len(order2))\n",
        "print(len(user))"
      ]
    },
    {
      "cell_type": "code",
      "execution_count": null,
      "id": "329fcc4a",
      "metadata": {
        "id": "329fcc4a"
      },
      "outputs": [],
      "source": [
        "user['c_PC로그인횟수(누적)'] = user['PC로그인횟수_2020'] + user['PC로그인횟수_2021'] + user['PC로그인횟수_2022']\n",
        "user['c_모바일로그인횟수(누적)'] = user['모바일로그인횟수_2020'] + user['모바일로그인횟수_2021'] + user['모바일로그인횟수_2022']\n",
        "user['c_앱로그인횟수(누적)'] = user['앱로그인횟수_2020'] + user['앱로그인횟수_2021'] + user['앱로그인횟수_2022']\n",
        "user['총 로그인횟수'] = user['c_PC로그인횟수(누적)'] + user['c_모바일로그인횟수(누적)'] + user['c_앱로그인횟수(누적)']\n",
        "user['c_년간포인트사용액(누적)'] = user['년간포인트사용액_2020'] + user['년간포인트사용액_2021'] + user['년간포인트사용액_2022']\n",
        "user['c_출석체크_응모건수(누적)'] = user['출석체크_응모건수_2020'] + user['출석체크_응모건수_2021'] + user['출석체크_응모건수_2022']\n",
        "user['c_출석체크_응모건수(누적)'] = user['출석체크_응모건수_2020'] + user['출석체크_응모건수_2021'] + user['출석체크_응모건수_2022']\n",
        "user['c_출석체크_참여일수(누적)'] = user['출석체크_참여일수_2020'] + user['출석체크_참여일수_2021'] + user['출석체크_참여일수_2022']\n",
        "user['c_일반이벤트_응모건수(누적)'] = user['일반이벤트_응모건수_2020'] + user['일반이벤트_응모건수_2021'] + user['일반이벤트_응모건수_2022']\n",
        "user['c_드로우 응모건수(누적)'] = user['드로우 응모건수_2020'] + user['드로우 응모건수_2021'] + user['드로우 응모건수_2022']"
      ]
    },
    {
      "cell_type": "code",
      "execution_count": null,
      "id": "169b33ce",
      "metadata": {
        "id": "169b33ce"
      },
      "outputs": [],
      "source": [
        "user_fin = user[['고유번호','최종가입일','유지기간','유지기간2','리뷰작성건수', 'c_출석체크_참여일수(누적)', 'c_일반이벤트_응모건수(누적)', 'c_드로우 응모건수(누적)']]"
      ]
    },
    {
      "cell_type": "code",
      "execution_count": null,
      "id": "de741029",
      "metadata": {
        "id": "de741029",
        "outputId": "c01847c6-1ec9-4e5b-bcb1-56e5ad9aff54"
      },
      "outputs": [
        {
          "data": {
            "text/plain": [
              "1    1121730\n",
              "2     417397\n",
              "3     211288\n",
              "5      79285\n",
              "4      49088\n",
              "Name: 유지기간2, dtype: int64"
            ]
          },
          "execution_count": 107,
          "metadata": {},
          "output_type": "execute_result"
        }
      ],
      "source": [
        "user_fin.유지기간2.value_counts()"
      ]
    },
    {
      "cell_type": "markdown",
      "id": "df16335b",
      "metadata": {
        "id": "df16335b"
      },
      "source": [
        "# 구매 점수 :\n",
        "### 1) 유지기간 연 평균 구매횟수(구매건수 / 유지기간)\n",
        "### 2) 유지기간 연 평균 구매상품수(상품수 / 유지기간)\n",
        "### 3) 유지기간 연 평균 구매 금액 (결제가 총합 / 유지기간)\n",
        "- 누적된 구매횟수는 10개인게 유지기간이 10년이면 1회 산 사람으로 되어버리니까 ..\n",
        "- 10점만점 하려고 했는데, 출첵 10번도 잘한편인데 100회랑 차이를 준다는게 \n",
        "- 도소매 제외한 이유는, 도소매는 구매만 많으면 도소매니까 참여와는 무관하다고 생각"
      ]
    },
    {
      "cell_type": "code",
      "execution_count": null,
      "id": "dc45f3cf",
      "metadata": {
        "id": "dc45f3cf"
      },
      "outputs": [],
      "source": [
        "demo = order2.groupby(\"고유번호\", as_index=False).agg({'구매일자' : 'nunique'})\n",
        "demo.rename(columns = {'구매일자' : '구매횟수'}, inplace = True)\n",
        "user_fin = pd.merge(user_fin, demo, on = '고유번호', how = 'left')\n",
        "user_fin['구매횟수'] = user_fin['구매횟수'].fillna(value=0)\n",
        "user_fin['연 평균 구매횟수'] = user_fin['구매횟수'] / user_fin['유지기간2'] "
      ]
    },
    {
      "cell_type": "code",
      "execution_count": null,
      "id": "6de5a00f",
      "metadata": {
        "id": "6de5a00f"
      },
      "outputs": [],
      "source": [
        "demo = order2.groupby(\"고유번호\", as_index=False).agg({'구매일자' : 'count'})\n",
        "demo.rename(columns = {'구매일자' : '구매상품수'}, inplace = True)\n",
        "user_fin = pd.merge(user_fin, demo, on = '고유번호', how = 'left')\n",
        "user_fin['구매상품수'] = user_fin['구매상품수'].fillna(value=0)\n",
        "user_fin['연 평균 구매상품수'] = user_fin['구매상품수'] / user_fin['유지기간2'] "
      ]
    },
    {
      "cell_type": "code",
      "execution_count": null,
      "id": "d3340e26",
      "metadata": {
        "id": "d3340e26"
      },
      "outputs": [],
      "source": [
        "demo = order2.groupby(\"고유번호\", as_index=False).agg({'결제가' : 'sum'})\n",
        "demo.rename(columns = {'결제가' : '결제가 총합'}, inplace = True)\n",
        "user_fin = pd.merge(user_fin, demo, on = '고유번호', how = 'left')\n",
        "user_fin['결제가 총합'] = user_fin['결제가 총합'].fillna(value=0)\n",
        "user_fin['연 평균 결제가 총합'] = user_fin['결제가 총합'] / user_fin['유지기간2'] "
      ]
    },
    {
      "cell_type": "markdown",
      "id": "74ac8dbd",
      "metadata": {
        "id": "74ac8dbd"
      },
      "source": [
        "### 점수 만들기"
      ]
    },
    {
      "cell_type": "code",
      "execution_count": null,
      "id": "bd4f39c0",
      "metadata": {
        "id": "bd4f39c0"
      },
      "outputs": [],
      "source": [
        "## 2021년의 회원들의 구매평균"
      ]
    },
    {
      "cell_type": "code",
      "execution_count": null,
      "id": "794392b6",
      "metadata": {
        "id": "794392b6"
      },
      "outputs": [],
      "source": [
        "purchase = user_fin[['고유번호', '연 평균 구매횟수','연 평균 구매상품수','연 평균 결제가 총합' ]]"
      ]
    },
    {
      "cell_type": "code",
      "execution_count": null,
      "id": "3358fb56",
      "metadata": {
        "id": "3358fb56"
      },
      "outputs": [],
      "source": [
        "## 10점 만점으로"
      ]
    },
    {
      "cell_type": "code",
      "execution_count": null,
      "id": "035f0560",
      "metadata": {
        "id": "035f0560",
        "outputId": "c9c399eb-b3e3-47cf-bef8-41549573d7a1"
      },
      "outputs": [
        {
          "data": {
            "text/plain": [
              "(0.75, 1.0]      682551\n",
              "(-0.001, 0.2]    629892\n",
              "(1.0, 2.0]       245885\n",
              "(0.2, 0.75]      210434\n",
              "(2.0, 105.0]     110026\n",
              "Name: 연 평균 구매횟수, dtype: int64"
            ]
          },
          "execution_count": 118,
          "metadata": {},
          "output_type": "execute_result"
        }
      ],
      "source": [
        "pd.qcut(purchase['연 평균 구매횟수'],q=9,duplicates = 'drop').value_counts()"
      ]
    },
    {
      "cell_type": "code",
      "execution_count": null,
      "id": "68c30b71",
      "metadata": {
        "id": "68c30b71"
      },
      "outputs": [],
      "source": [
        "purchase['구매횟수_score'] = pd.qcut(purchase['연 평균 구매횟수'],q=9, labels = [1,2,3,4,5],duplicates = 'drop')\n",
        "purchase['구매횟수_score'] = purchase['구매횟수_score'].astype(int)"
      ]
    },
    {
      "cell_type": "code",
      "execution_count": null,
      "id": "97baa4b3",
      "metadata": {
        "id": "97baa4b3",
        "outputId": "442d9ed2-af4e-4584-c06e-bc5c4dd6d776"
      },
      "outputs": [
        {
          "data": {
            "text/plain": [
              "(-0.001, 0.8]    806483\n",
              "(0.8, 1.0]       512846\n",
              "(1.333, 2.0]     270487\n",
              "(2.0, 200.0]     263535\n",
              "(1.0, 1.333]      25437\n",
              "Name: 연 평균 구매상품수, dtype: int64"
            ]
          },
          "execution_count": 122,
          "metadata": {},
          "output_type": "execute_result"
        }
      ],
      "source": [
        "pd.qcut(purchase['연 평균 구매상품수'],q=7,duplicates = 'drop').value_counts()"
      ]
    },
    {
      "cell_type": "code",
      "execution_count": null,
      "id": "e461c485",
      "metadata": {
        "id": "e461c485"
      },
      "outputs": [],
      "source": [
        "purchase['구매상품수_score']  = pd.qcut(purchase['연 평균 구매상품수'],q=7, labels = [1,2,3,4,5],duplicates = 'drop')\n",
        "purchase['구매상품수_score'] = purchase['구매상품수_score'].astype(int)"
      ]
    },
    {
      "cell_type": "code",
      "execution_count": null,
      "id": "533b4845",
      "metadata": {
        "id": "533b4845",
        "outputId": "9c2a31ea-5b1a-4d27-dc38-6b8f97e38e36"
      },
      "outputs": [
        {
          "data": {
            "text/plain": [
              "(-0.001, 36000.0]         806073\n",
              "(36000.0, 59000.0]        279982\n",
              "(139000.0, 22741800.0]    268369\n",
              "(59000.0, 89000.0]        265016\n",
              "(89000.0, 139000.0]       259348\n",
              "Name: 연 평균 결제가 총합, dtype: int64"
            ]
          },
          "execution_count": 124,
          "metadata": {},
          "output_type": "execute_result"
        }
      ],
      "source": [
        "pd.qcut(purchase['연 평균 결제가 총합'],q=7,duplicates = 'drop').value_counts()"
      ]
    },
    {
      "cell_type": "code",
      "execution_count": null,
      "id": "adf881b1",
      "metadata": {
        "id": "adf881b1"
      },
      "outputs": [],
      "source": [
        "purchase['결제가_score']  = pd.qcut(purchase['연 평균 결제가 총합'],q=7, labels = [1,2,3,4,5],duplicates = 'drop')\n",
        "purchase['결제가_score'] = purchase['결제가_score'].astype(int)"
      ]
    },
    {
      "cell_type": "code",
      "execution_count": null,
      "id": "5a6c40d6",
      "metadata": {
        "id": "5a6c40d6",
        "outputId": "88a62103-9939-4d8d-e697-b62db5a276e8"
      },
      "outputs": [
        {
          "data": {
            "text/html": [
              "<div>\n",
              "<style scoped>\n",
              "    .dataframe tbody tr th:only-of-type {\n",
              "        vertical-align: middle;\n",
              "    }\n",
              "\n",
              "    .dataframe tbody tr th {\n",
              "        vertical-align: top;\n",
              "    }\n",
              "\n",
              "    .dataframe thead th {\n",
              "        text-align: right;\n",
              "    }\n",
              "</style>\n",
              "<table border=\"1\" class=\"dataframe\">\n",
              "  <thead>\n",
              "    <tr style=\"text-align: right;\">\n",
              "      <th></th>\n",
              "      <th>고유번호</th>\n",
              "      <th>연 평균 구매횟수</th>\n",
              "      <th>연 평균 구매상품수</th>\n",
              "      <th>연 평균 결제가 총합</th>\n",
              "      <th>구매횟수_score</th>\n",
              "      <th>구매상품수_score</th>\n",
              "      <th>결제가_score</th>\n",
              "      <th>purchase_score</th>\n",
              "    </tr>\n",
              "  </thead>\n",
              "  <tbody>\n",
              "    <tr>\n",
              "      <th>0</th>\n",
              "      <td>48066EF2E782C577A25A7A0C38CFCAECE33A2420BFB8EC...</td>\n",
              "      <td>0.0000</td>\n",
              "      <td>0.0000</td>\n",
              "      <td>0.0000</td>\n",
              "      <td>1</td>\n",
              "      <td>1</td>\n",
              "      <td>1</td>\n",
              "      <td>10</td>\n",
              "    </tr>\n",
              "    <tr>\n",
              "      <th>1</th>\n",
              "      <td>4ED3B18A3DB2CE13DE559397E59FAF3701B9A49685EB28...</td>\n",
              "      <td>0.0000</td>\n",
              "      <td>0.0000</td>\n",
              "      <td>0.0000</td>\n",
              "      <td>1</td>\n",
              "      <td>1</td>\n",
              "      <td>1</td>\n",
              "      <td>10</td>\n",
              "    </tr>\n",
              "    <tr>\n",
              "      <th>2</th>\n",
              "      <td>47EB4685B42EF7BD6B60DCBAF4611FC729D1FA3189D149...</td>\n",
              "      <td>0.0000</td>\n",
              "      <td>0.0000</td>\n",
              "      <td>0.0000</td>\n",
              "      <td>1</td>\n",
              "      <td>1</td>\n",
              "      <td>1</td>\n",
              "      <td>10</td>\n",
              "    </tr>\n",
              "    <tr>\n",
              "      <th>3</th>\n",
              "      <td>F017BC3BC9940394BD291128D6C21E6F33B0FB69A63C71...</td>\n",
              "      <td>0.0000</td>\n",
              "      <td>0.0000</td>\n",
              "      <td>0.0000</td>\n",
              "      <td>1</td>\n",
              "      <td>1</td>\n",
              "      <td>1</td>\n",
              "      <td>10</td>\n",
              "    </tr>\n",
              "    <tr>\n",
              "      <th>4</th>\n",
              "      <td>ACF7ECFA0C20E47E546A0A17A1F992635DBF9BD10BD386...</td>\n",
              "      <td>0.0000</td>\n",
              "      <td>0.0000</td>\n",
              "      <td>0.0000</td>\n",
              "      <td>1</td>\n",
              "      <td>1</td>\n",
              "      <td>1</td>\n",
              "      <td>10</td>\n",
              "    </tr>\n",
              "    <tr>\n",
              "      <th>5</th>\n",
              "      <td>A8DE55F062184E7417A56C11409EC72D8D8D5F72D62016...</td>\n",
              "      <td>1.0000</td>\n",
              "      <td>1.0000</td>\n",
              "      <td>19000.0000</td>\n",
              "      <td>3</td>\n",
              "      <td>2</td>\n",
              "      <td>1</td>\n",
              "      <td>20</td>\n",
              "    </tr>\n",
              "    <tr>\n",
              "      <th>6</th>\n",
              "      <td>DA330CE0694D3085D534C64BB0F1091927538A1ECC3052...</td>\n",
              "      <td>1.0000</td>\n",
              "      <td>1.0000</td>\n",
              "      <td>39000.0000</td>\n",
              "      <td>3</td>\n",
              "      <td>2</td>\n",
              "      <td>2</td>\n",
              "      <td>24</td>\n",
              "    </tr>\n",
              "    <tr>\n",
              "      <th>7</th>\n",
              "      <td>3EB712303EA71532E354F051A89AE7E14EE5C8E4DF588F...</td>\n",
              "      <td>1.0000</td>\n",
              "      <td>1.0000</td>\n",
              "      <td>129000.0000</td>\n",
              "      <td>3</td>\n",
              "      <td>2</td>\n",
              "      <td>4</td>\n",
              "      <td>32</td>\n",
              "    </tr>\n",
              "    <tr>\n",
              "      <th>8</th>\n",
              "      <td>244CF77466B7DC10A224F8C4280D746A985B8D93F9A94E...</td>\n",
              "      <td>0.6000</td>\n",
              "      <td>1.0000</td>\n",
              "      <td>13800.0000</td>\n",
              "      <td>2</td>\n",
              "      <td>2</td>\n",
              "      <td>1</td>\n",
              "      <td>16</td>\n",
              "    </tr>\n",
              "    <tr>\n",
              "      <th>9</th>\n",
              "      <td>9D49DDA455AA672075F851D21300F43C9387EAA89EAD5E...</td>\n",
              "      <td>0.6000</td>\n",
              "      <td>0.6000</td>\n",
              "      <td>19000.0000</td>\n",
              "      <td>2</td>\n",
              "      <td>1</td>\n",
              "      <td>1</td>\n",
              "      <td>14</td>\n",
              "    </tr>\n",
              "    <tr>\n",
              "      <th>10</th>\n",
              "      <td>7302D8F93E2D9FCA3552F60C5AF2BCF1A55B034609F950...</td>\n",
              "      <td>2.0000</td>\n",
              "      <td>2.4000</td>\n",
              "      <td>126420.0000</td>\n",
              "      <td>4</td>\n",
              "      <td>5</td>\n",
              "      <td>4</td>\n",
              "      <td>42</td>\n",
              "    </tr>\n",
              "    <tr>\n",
              "      <th>11</th>\n",
              "      <td>06CF82C890C10FC85A93E826B44153BC21A6A3A473EE7D...</td>\n",
              "      <td>1.0000</td>\n",
              "      <td>1.5000</td>\n",
              "      <td>75500.0000</td>\n",
              "      <td>3</td>\n",
              "      <td>4</td>\n",
              "      <td>3</td>\n",
              "      <td>32</td>\n",
              "    </tr>\n",
              "    <tr>\n",
              "      <th>12</th>\n",
              "      <td>49D9595AB4D98EB0C9935242CAA5208BEF25B226A80CE9...</td>\n",
              "      <td>1.6000</td>\n",
              "      <td>2.2000</td>\n",
              "      <td>87720.0000</td>\n",
              "      <td>4</td>\n",
              "      <td>5</td>\n",
              "      <td>3</td>\n",
              "      <td>38</td>\n",
              "    </tr>\n",
              "    <tr>\n",
              "      <th>13</th>\n",
              "      <td>6F658A4AABE1345BF394D7BB0D02C51DC079906261DE26...</td>\n",
              "      <td>3.4000</td>\n",
              "      <td>4.2000</td>\n",
              "      <td>142900.0000</td>\n",
              "      <td>5</td>\n",
              "      <td>5</td>\n",
              "      <td>5</td>\n",
              "      <td>50</td>\n",
              "    </tr>\n",
              "    <tr>\n",
              "      <th>14</th>\n",
              "      <td>06A93B9EBA242CD3A7FDC84598C130E6F60E76A1553BC2...</td>\n",
              "      <td>2.2000</td>\n",
              "      <td>3.6000</td>\n",
              "      <td>152400.0000</td>\n",
              "      <td>5</td>\n",
              "      <td>5</td>\n",
              "      <td>5</td>\n",
              "      <td>50</td>\n",
              "    </tr>\n",
              "    <tr>\n",
              "      <th>15</th>\n",
              "      <td>A6C693E9CEAF49F6285188B0487981750DE367C0D643DF...</td>\n",
              "      <td>3.0000</td>\n",
              "      <td>3.8000</td>\n",
              "      <td>142000.0000</td>\n",
              "      <td>5</td>\n",
              "      <td>5</td>\n",
              "      <td>5</td>\n",
              "      <td>50</td>\n",
              "    </tr>\n",
              "    <tr>\n",
              "      <th>16</th>\n",
              "      <td>A1EC4BDF1ECE7ECD7FFBE63E30D7123A5D1AF8C532B77B...</td>\n",
              "      <td>0.6000</td>\n",
              "      <td>0.8000</td>\n",
              "      <td>73200.0000</td>\n",
              "      <td>2</td>\n",
              "      <td>1</td>\n",
              "      <td>3</td>\n",
              "      <td>22</td>\n",
              "    </tr>\n",
              "    <tr>\n",
              "      <th>17</th>\n",
              "      <td>17D716A1807F3D09AEFDEA6E33413DF83DD1A6E04781A7...</td>\n",
              "      <td>4.2000</td>\n",
              "      <td>7.6000</td>\n",
              "      <td>457380.0000</td>\n",
              "      <td>5</td>\n",
              "      <td>5</td>\n",
              "      <td>5</td>\n",
              "      <td>50</td>\n",
              "    </tr>\n",
              "    <tr>\n",
              "      <th>18</th>\n",
              "      <td>56BE797A50ED1608A372C699D47BFF575CDE940EE76D61...</td>\n",
              "      <td>0.0000</td>\n",
              "      <td>0.0000</td>\n",
              "      <td>0.0000</td>\n",
              "      <td>1</td>\n",
              "      <td>1</td>\n",
              "      <td>1</td>\n",
              "      <td>10</td>\n",
              "    </tr>\n",
              "    <tr>\n",
              "      <th>19</th>\n",
              "      <td>E89CF756397D5AA1386FA207FD487BBD0962B377ED4E1D...</td>\n",
              "      <td>0.0000</td>\n",
              "      <td>0.0000</td>\n",
              "      <td>0.0000</td>\n",
              "      <td>1</td>\n",
              "      <td>1</td>\n",
              "      <td>1</td>\n",
              "      <td>10</td>\n",
              "    </tr>\n",
              "  </tbody>\n",
              "</table>\n",
              "</div>"
            ],
            "text/plain": [
              "                                                 고유번호  연 평균 구매횟수  연 평균 구매상품수  \\\n",
              "0   48066EF2E782C577A25A7A0C38CFCAECE33A2420BFB8EC...     0.0000      0.0000   \n",
              "1   4ED3B18A3DB2CE13DE559397E59FAF3701B9A49685EB28...     0.0000      0.0000   \n",
              "2   47EB4685B42EF7BD6B60DCBAF4611FC729D1FA3189D149...     0.0000      0.0000   \n",
              "3   F017BC3BC9940394BD291128D6C21E6F33B0FB69A63C71...     0.0000      0.0000   \n",
              "4   ACF7ECFA0C20E47E546A0A17A1F992635DBF9BD10BD386...     0.0000      0.0000   \n",
              "5   A8DE55F062184E7417A56C11409EC72D8D8D5F72D62016...     1.0000      1.0000   \n",
              "6   DA330CE0694D3085D534C64BB0F1091927538A1ECC3052...     1.0000      1.0000   \n",
              "7   3EB712303EA71532E354F051A89AE7E14EE5C8E4DF588F...     1.0000      1.0000   \n",
              "8   244CF77466B7DC10A224F8C4280D746A985B8D93F9A94E...     0.6000      1.0000   \n",
              "9   9D49DDA455AA672075F851D21300F43C9387EAA89EAD5E...     0.6000      0.6000   \n",
              "10  7302D8F93E2D9FCA3552F60C5AF2BCF1A55B034609F950...     2.0000      2.4000   \n",
              "11  06CF82C890C10FC85A93E826B44153BC21A6A3A473EE7D...     1.0000      1.5000   \n",
              "12  49D9595AB4D98EB0C9935242CAA5208BEF25B226A80CE9...     1.6000      2.2000   \n",
              "13  6F658A4AABE1345BF394D7BB0D02C51DC079906261DE26...     3.4000      4.2000   \n",
              "14  06A93B9EBA242CD3A7FDC84598C130E6F60E76A1553BC2...     2.2000      3.6000   \n",
              "15  A6C693E9CEAF49F6285188B0487981750DE367C0D643DF...     3.0000      3.8000   \n",
              "16  A1EC4BDF1ECE7ECD7FFBE63E30D7123A5D1AF8C532B77B...     0.6000      0.8000   \n",
              "17  17D716A1807F3D09AEFDEA6E33413DF83DD1A6E04781A7...     4.2000      7.6000   \n",
              "18  56BE797A50ED1608A372C699D47BFF575CDE940EE76D61...     0.0000      0.0000   \n",
              "19  E89CF756397D5AA1386FA207FD487BBD0962B377ED4E1D...     0.0000      0.0000   \n",
              "\n",
              "    연 평균 결제가 총합  구매횟수_score  구매상품수_score  결제가_score  purchase_score  \n",
              "0        0.0000           1            1          1              10  \n",
              "1        0.0000           1            1          1              10  \n",
              "2        0.0000           1            1          1              10  \n",
              "3        0.0000           1            1          1              10  \n",
              "4        0.0000           1            1          1              10  \n",
              "5    19000.0000           3            2          1              20  \n",
              "6    39000.0000           3            2          2              24  \n",
              "7   129000.0000           3            2          4              32  \n",
              "8    13800.0000           2            2          1              16  \n",
              "9    19000.0000           2            1          1              14  \n",
              "10  126420.0000           4            5          4              42  \n",
              "11   75500.0000           3            4          3              32  \n",
              "12   87720.0000           4            5          3              38  \n",
              "13  142900.0000           5            5          5              50  \n",
              "14  152400.0000           5            5          5              50  \n",
              "15  142000.0000           5            5          5              50  \n",
              "16   73200.0000           2            1          3              22  \n",
              "17  457380.0000           5            5          5              50  \n",
              "18       0.0000           1            1          1              10  \n",
              "19       0.0000           1            1          1              10  "
            ]
          },
          "execution_count": 126,
          "metadata": {},
          "output_type": "execute_result"
        }
      ],
      "source": [
        "purchase['purchase_score'] = 4*purchase['구매횟수_score'] + 2*purchase['구매상품수_score'] + 4*purchase['결제가_score']\n",
        "purchase.head(20)  # 10 ~ 50점 사이 점수"
      ]
    },
    {
      "cell_type": "markdown",
      "id": "fd76943d",
      "metadata": {
        "id": "fd76943d"
      },
      "source": [
        "# 활동 점수 :  \n",
        "        - [1] 포인트 횟수(1회 초과[구간화] / 1회 / 사용 없음)\n",
        "        - [1] 쿠폰(1회 초과[구간화] / 1회 / 사용 없음)\n",
        "        - [2] 출석체크 참여 횟수(참여[구간화] / 비참여)\n",
        "        - [2] 그외 이벤트(참여[구간화] / 비참여)\n",
        "        - [2] 드로우(횟수로 구간화)\n",
        "        - [2] 리뷰 작성 횟수(참여 / 비참여)\n"
      ]
    },
    {
      "cell_type": "code",
      "execution_count": null,
      "id": "0adab65a",
      "metadata": {
        "id": "0adab65a"
      },
      "outputs": [],
      "source": [
        "point_list = []\n",
        "\n",
        "for i in range(len(order2)) : \n",
        "    if order2['쿠폰사용여부'][i] == 'O' :\n",
        "        point_list.append(1)\n",
        "    else : \n",
        "        point_list.append(0)\n",
        "\n",
        "order2['c_쿠폰사용여부'] = point_list"
      ]
    },
    {
      "cell_type": "code",
      "execution_count": null,
      "id": "43f4de26",
      "metadata": {
        "id": "43f4de26"
      },
      "outputs": [],
      "source": [
        "demo = order2.groupby(\"고유번호\", as_index=False).agg({'c_쿠폰사용여부' : 'sum'})\n",
        "demo.rename(columns = {'c_쿠폰사용여부' : '쿠폰사용횟수'}, inplace = True)\n",
        "user_fin = pd.merge(user_fin, demo, on = '고유번호', how = 'left')\n",
        "user_fin['쿠폰사용횟수'] = user_fin['쿠폰사용횟수'].fillna(value=0)\n",
        "user_fin['연 평균 쿠폰사용횟수'] = user_fin['쿠폰사용횟수'] / user_fin['유지기간2'] "
      ]
    },
    {
      "cell_type": "code",
      "execution_count": null,
      "id": "0166dc2e",
      "metadata": {
        "id": "0166dc2e"
      },
      "outputs": [],
      "source": [
        "point_list = []\n",
        "\n",
        "for i in range(len(order2)) : \n",
        "    if order2['포인트사용여부'][i] == 'O' :\n",
        "        point_list.append(1)\n",
        "    else : \n",
        "        point_list.append(0)\n",
        "\n",
        "order2['c_포인트사용여부'] = point_list"
      ]
    },
    {
      "cell_type": "code",
      "execution_count": null,
      "id": "b9ed950b",
      "metadata": {
        "id": "b9ed950b"
      },
      "outputs": [],
      "source": [
        "demo = order2.groupby(\"고유번호\", as_index=False).agg({'c_포인트사용여부' : 'sum'})\n",
        "demo.rename(columns = {'c_포인트사용여부' : '포인트사용횟수'}, inplace = True)\n",
        "user_fin = pd.merge(user_fin, demo, on = '고유번호', how = 'left')\n",
        "user_fin['포인트사용횟수'] = user_fin['포인트사용횟수'].fillna(value=0)\n",
        "user_fin['연 평균 포인트사용횟수'] = user_fin['포인트사용횟수'] / user_fin['유지기간2'] "
      ]
    },
    {
      "cell_type": "code",
      "execution_count": null,
      "id": "ba75e9fe",
      "metadata": {
        "id": "ba75e9fe"
      },
      "outputs": [],
      "source": [
        "user_fin['연 평균 출첵참여횟수'] = user_fin['c_출석체크_참여일수(누적)'] / user_fin['유지기간2']\n",
        "user_fin['연 평균 일반이벤트횟수'] = user_fin['c_일반이벤트_응모건수(누적)'] / user_fin['유지기간2']\n",
        "user_fin['연 평균 드로우횟수'] = user_fin['c_드로우 응모건수(누적)'] / user_fin['유지기간2']\n",
        "user_fin['연 평균 리뷰작성횟수'] = user_fin['리뷰작성건수'] / user_fin['유지기간2']"
      ]
    },
    {
      "cell_type": "code",
      "execution_count": null,
      "id": "e76df082",
      "metadata": {
        "id": "e76df082"
      },
      "outputs": [],
      "source": [
        "action = user_fin[['고유번호', '연 평균 포인트사용횟수', '연 평균 쿠폰사용횟수', '연 평균 출첵참여횟수',\n",
        "         '연 평균 일반이벤트횟수','연 평균 드로우횟수', '연 평균 리뷰작성횟수']]"
      ]
    },
    {
      "cell_type": "code",
      "execution_count": null,
      "id": "c9e7eea8",
      "metadata": {
        "id": "c9e7eea8",
        "outputId": "7c636fa4-2748-4788-cced-4e32258d8260"
      },
      "outputs": [
        {
          "data": {
            "text/plain": [
              "(0.6, 1.0]       191797\n",
              "(0.199, 0.6]     113784\n",
              "(1.667, 54.0]    109158\n",
              "(1.0, 1.667]      24853\n",
              "Name: 연 평균 포인트사용횟수, dtype: int64"
            ]
          },
          "execution_count": 133,
          "metadata": {},
          "output_type": "execute_result"
        }
      ],
      "source": [
        "df1 = action[(action['연 평균 포인트사용횟수'] != 0)]\n",
        "pd.qcut(df1['연 평균 포인트사용횟수'],q=4,duplicates = 'drop').value_counts()"
      ]
    },
    {
      "cell_type": "code",
      "execution_count": null,
      "id": "2fcea8ab",
      "metadata": {
        "id": "2fcea8ab"
      },
      "outputs": [],
      "source": [
        "def fun1(x) :\n",
        "    if x > 1.6667 :\n",
        "        return 5\n",
        "    elif x > 1 :\n",
        "        return 4\n",
        "    elif x > 0.6 :\n",
        "        return 3\n",
        "    elif x == 0 :\n",
        "        return 1\n",
        "    else : \n",
        "        return 2\n",
        "\n",
        "action['포인트_score'] = action['연 평균 포인트사용횟수'].apply(fun1) "
      ]
    },
    {
      "cell_type": "code",
      "execution_count": null,
      "id": "5916a874",
      "metadata": {
        "id": "5916a874",
        "outputId": "1e5d6b67-f81a-42dc-d43f-06e42aeaaa4a"
      },
      "outputs": [
        {
          "data": {
            "text/plain": [
              "(0.667, 1.0]    210630\n",
              "(0.199, 0.5]    152796\n",
              "(1.0, 49.0]      39794\n",
              "(0.5, 0.667]     16351\n",
              "Name: 연 평균 쿠폰사용횟수, dtype: int64"
            ]
          },
          "execution_count": 136,
          "metadata": {},
          "output_type": "execute_result"
        }
      ],
      "source": [
        "df1 = action[(action['연 평균 쿠폰사용횟수'] != 0)]\n",
        "pd.qcut(df1['연 평균 쿠폰사용횟수'],q=5,duplicates = 'drop').value_counts()"
      ]
    },
    {
      "cell_type": "code",
      "execution_count": null,
      "id": "13e5771a",
      "metadata": {
        "id": "13e5771a"
      },
      "outputs": [],
      "source": [
        "def fun1(x) :\n",
        "    if x > 1 :\n",
        "        return 5\n",
        "    elif x > 0.6667 :\n",
        "        return 4\n",
        "    elif x > 0.5 :\n",
        "        return 3\n",
        "    elif x == 0 :\n",
        "        return 1\n",
        "    else : \n",
        "        return 2\n",
        "\n",
        "action['쿠폰_score'] = action['연 평균 쿠폰사용횟수'].apply(fun1) "
      ]
    },
    {
      "cell_type": "code",
      "execution_count": null,
      "id": "40a81ce4",
      "metadata": {
        "id": "40a81ce4",
        "outputId": "46f60063-2a02-480c-83e2-5ecad1eaed03"
      },
      "outputs": [
        {
          "data": {
            "text/plain": [
              "0.2500   0.5000\n",
              "0.5000   1.0000\n",
              "0.7500   1.5000\n",
              "Name: 연 평균 출첵참여횟수, dtype: float64"
            ]
          },
          "execution_count": 138,
          "metadata": {},
          "output_type": "execute_result"
        }
      ],
      "source": [
        "df1 = action[(action['연 평균 출첵참여횟수'] != 0)]\n",
        "df1['연 평균 출첵참여횟수'].quantile([1/4,2/4,3/4])"
      ]
    },
    {
      "cell_type": "code",
      "execution_count": null,
      "id": "9d393e0d",
      "metadata": {
        "id": "9d393e0d"
      },
      "outputs": [],
      "source": [
        "def fun1(x) :\n",
        "    if x > 1.5 :\n",
        "        return 5\n",
        "    elif x > 1:\n",
        "        return 4\n",
        "    elif x > 0.5 :\n",
        "        return 3\n",
        "    elif x == 0 :\n",
        "        return 1\n",
        "    else : \n",
        "        return 2\n",
        "\n",
        "action['출첵_score'] = action['연 평균 출첵참여횟수'].apply(fun1) "
      ]
    },
    {
      "cell_type": "code",
      "execution_count": null,
      "id": "6b425d4c",
      "metadata": {
        "id": "6b425d4c",
        "outputId": "8741c36a-24c6-450c-ab06-08b5dbbff2ac"
      },
      "outputs": [
        {
          "data": {
            "text/plain": [
              "0.2500   0.5000\n",
              "0.5000   1.0000\n",
              "0.7500   1.5000\n",
              "Name: 연 평균 일반이벤트횟수, dtype: float64"
            ]
          },
          "execution_count": 140,
          "metadata": {},
          "output_type": "execute_result"
        }
      ],
      "source": [
        "df1 = action[(action['연 평균 일반이벤트횟수'] != 0)]\n",
        "df1['연 평균 일반이벤트횟수'].quantile([1/4,2/4,3/4])"
      ]
    },
    {
      "cell_type": "code",
      "execution_count": null,
      "id": "7b907494",
      "metadata": {
        "id": "7b907494"
      },
      "outputs": [],
      "source": [
        "def fun1(x) :\n",
        "    if x > 1.5 :\n",
        "        return 5\n",
        "    elif x > 1:\n",
        "        return 4\n",
        "    elif x > 0.5 :\n",
        "        return 3\n",
        "    elif x == 0 :\n",
        "        return 1\n",
        "    else : \n",
        "        return 2\n",
        "\n",
        "action['일반이벤트_score'] = action['연 평균 일반이벤트횟수'].apply(fun1) "
      ]
    },
    {
      "cell_type": "code",
      "execution_count": null,
      "id": "08dbf6e3",
      "metadata": {
        "id": "08dbf6e3",
        "outputId": "55cbcd6c-2bd9-4b25-b75a-a085a7a3bf9a"
      },
      "outputs": [
        {
          "data": {
            "text/plain": [
              "0.2500    2.0000\n",
              "0.5000    5.0000\n",
              "0.7500   16.2000\n",
              "Name: 연 평균 드로우횟수, dtype: float64"
            ]
          },
          "execution_count": 142,
          "metadata": {},
          "output_type": "execute_result"
        }
      ],
      "source": [
        "df1 = action[(action['연 평균 드로우횟수'] != 0)]\n",
        "df1['연 평균 드로우횟수'].quantile([1/4,2/4,3/4])"
      ]
    },
    {
      "cell_type": "code",
      "execution_count": null,
      "id": "70b5e81b",
      "metadata": {
        "id": "70b5e81b"
      },
      "outputs": [],
      "source": [
        "def fun1(x) :\n",
        "    if x > 16.2 :\n",
        "        return 5\n",
        "    elif x > 5:\n",
        "        return 4\n",
        "    elif x > 2 :\n",
        "        return 3\n",
        "    elif x == 0 :\n",
        "        return 1\n",
        "    else : \n",
        "        return 2\n",
        "\n",
        "action['드로우_score'] = action['연 평균 드로우횟수'].apply(fun1) "
      ]
    },
    {
      "cell_type": "code",
      "execution_count": null,
      "id": "ffad9473",
      "metadata": {
        "id": "ffad9473",
        "outputId": "cd06a144-12ac-410a-eddb-dcfca05b980d"
      },
      "outputs": [
        {
          "data": {
            "text/plain": [
              "0.2500   0.3333\n",
              "0.5000   0.6667\n",
              "0.7500   1.0000\n",
              "Name: 연 평균 리뷰작성횟수, dtype: float64"
            ]
          },
          "execution_count": 144,
          "metadata": {},
          "output_type": "execute_result"
        }
      ],
      "source": [
        "df1 = action[(action['연 평균 리뷰작성횟수'] != 0)]\n",
        "df1['연 평균 리뷰작성횟수'].quantile([1/4,2/4,3/4])"
      ]
    },
    {
      "cell_type": "code",
      "execution_count": null,
      "id": "c2191bab",
      "metadata": {
        "id": "c2191bab"
      },
      "outputs": [],
      "source": [
        "def fun1(x) :\n",
        "    if x > 1 :\n",
        "        return 5\n",
        "    elif x > 0.6667:\n",
        "        return 4\n",
        "    elif x > 0.333 :\n",
        "        return 3\n",
        "    elif x == 0 :\n",
        "        return 1\n",
        "    else : \n",
        "        return 2\n",
        "\n",
        "action['리뷰_score'] = action['연 평균 리뷰작성횟수'].apply(fun1) "
      ]
    },
    {
      "cell_type": "code",
      "execution_count": null,
      "id": "80f95dce",
      "metadata": {
        "id": "80f95dce",
        "outputId": "8fb4c619-cf55-40c9-9be7-7266273b7fa0"
      },
      "outputs": [
        {
          "data": {
            "text/html": [
              "<div>\n",
              "<style scoped>\n",
              "    .dataframe tbody tr th:only-of-type {\n",
              "        vertical-align: middle;\n",
              "    }\n",
              "\n",
              "    .dataframe tbody tr th {\n",
              "        vertical-align: top;\n",
              "    }\n",
              "\n",
              "    .dataframe thead th {\n",
              "        text-align: right;\n",
              "    }\n",
              "</style>\n",
              "<table border=\"1\" class=\"dataframe\">\n",
              "  <thead>\n",
              "    <tr style=\"text-align: right;\">\n",
              "      <th></th>\n",
              "      <th>고유번호</th>\n",
              "      <th>연 평균 포인트사용횟수</th>\n",
              "      <th>연 평균 쿠폰사용횟수</th>\n",
              "      <th>연 평균 출첵참여횟수</th>\n",
              "      <th>연 평균 일반이벤트횟수</th>\n",
              "      <th>연 평균 드로우횟수</th>\n",
              "      <th>연 평균 리뷰작성횟수</th>\n",
              "      <th>포인트_score</th>\n",
              "      <th>쿠폰_score</th>\n",
              "      <th>출첵_score</th>\n",
              "      <th>일반이벤트_score</th>\n",
              "      <th>드로우_score</th>\n",
              "      <th>리뷰_score</th>\n",
              "      <th>action_score</th>\n",
              "    </tr>\n",
              "  </thead>\n",
              "  <tbody>\n",
              "    <tr>\n",
              "      <th>0</th>\n",
              "      <td>48066EF2E782C577A25A7A0C38CFCAECE33A2420BFB8EC...</td>\n",
              "      <td>0.0000</td>\n",
              "      <td>0.0000</td>\n",
              "      <td>0.0000</td>\n",
              "      <td>1.0000</td>\n",
              "      <td>0.0000</td>\n",
              "      <td>0.0000</td>\n",
              "      <td>1</td>\n",
              "      <td>1</td>\n",
              "      <td>1</td>\n",
              "      <td>3</td>\n",
              "      <td>1</td>\n",
              "      <td>1</td>\n",
              "      <td>14</td>\n",
              "    </tr>\n",
              "    <tr>\n",
              "      <th>1</th>\n",
              "      <td>4ED3B18A3DB2CE13DE559397E59FAF3701B9A49685EB28...</td>\n",
              "      <td>0.0000</td>\n",
              "      <td>0.0000</td>\n",
              "      <td>0.0000</td>\n",
              "      <td>0.0000</td>\n",
              "      <td>0.0000</td>\n",
              "      <td>0.0000</td>\n",
              "      <td>1</td>\n",
              "      <td>1</td>\n",
              "      <td>1</td>\n",
              "      <td>1</td>\n",
              "      <td>1</td>\n",
              "      <td>1</td>\n",
              "      <td>10</td>\n",
              "    </tr>\n",
              "    <tr>\n",
              "      <th>2</th>\n",
              "      <td>47EB4685B42EF7BD6B60DCBAF4611FC729D1FA3189D149...</td>\n",
              "      <td>0.0000</td>\n",
              "      <td>0.0000</td>\n",
              "      <td>0.0000</td>\n",
              "      <td>0.0000</td>\n",
              "      <td>0.0000</td>\n",
              "      <td>0.0000</td>\n",
              "      <td>1</td>\n",
              "      <td>1</td>\n",
              "      <td>1</td>\n",
              "      <td>1</td>\n",
              "      <td>1</td>\n",
              "      <td>1</td>\n",
              "      <td>10</td>\n",
              "    </tr>\n",
              "    <tr>\n",
              "      <th>3</th>\n",
              "      <td>F017BC3BC9940394BD291128D6C21E6F33B0FB69A63C71...</td>\n",
              "      <td>0.0000</td>\n",
              "      <td>0.0000</td>\n",
              "      <td>0.0000</td>\n",
              "      <td>0.0000</td>\n",
              "      <td>0.0000</td>\n",
              "      <td>0.0000</td>\n",
              "      <td>1</td>\n",
              "      <td>1</td>\n",
              "      <td>1</td>\n",
              "      <td>1</td>\n",
              "      <td>1</td>\n",
              "      <td>1</td>\n",
              "      <td>10</td>\n",
              "    </tr>\n",
              "    <tr>\n",
              "      <th>4</th>\n",
              "      <td>ACF7ECFA0C20E47E546A0A17A1F992635DBF9BD10BD386...</td>\n",
              "      <td>0.0000</td>\n",
              "      <td>0.0000</td>\n",
              "      <td>0.0000</td>\n",
              "      <td>0.0000</td>\n",
              "      <td>0.0000</td>\n",
              "      <td>0.0000</td>\n",
              "      <td>1</td>\n",
              "      <td>1</td>\n",
              "      <td>1</td>\n",
              "      <td>1</td>\n",
              "      <td>1</td>\n",
              "      <td>1</td>\n",
              "      <td>10</td>\n",
              "    </tr>\n",
              "    <tr>\n",
              "      <th>...</th>\n",
              "      <td>...</td>\n",
              "      <td>...</td>\n",
              "      <td>...</td>\n",
              "      <td>...</td>\n",
              "      <td>...</td>\n",
              "      <td>...</td>\n",
              "      <td>...</td>\n",
              "      <td>...</td>\n",
              "      <td>...</td>\n",
              "      <td>...</td>\n",
              "      <td>...</td>\n",
              "      <td>...</td>\n",
              "      <td>...</td>\n",
              "      <td>...</td>\n",
              "    </tr>\n",
              "    <tr>\n",
              "      <th>1878783</th>\n",
              "      <td>A1F7001C515A5EE424CAD2E96AC61D8E5033D272EB9223...</td>\n",
              "      <td>0.0000</td>\n",
              "      <td>0.0000</td>\n",
              "      <td>0.0000</td>\n",
              "      <td>1.0000</td>\n",
              "      <td>0.0000</td>\n",
              "      <td>0.0000</td>\n",
              "      <td>1</td>\n",
              "      <td>1</td>\n",
              "      <td>1</td>\n",
              "      <td>3</td>\n",
              "      <td>1</td>\n",
              "      <td>1</td>\n",
              "      <td>14</td>\n",
              "    </tr>\n",
              "    <tr>\n",
              "      <th>1878784</th>\n",
              "      <td>48BDB945E8C6164F560C662E7044B534AFF4CA1594FCEC...</td>\n",
              "      <td>0.0000</td>\n",
              "      <td>0.0000</td>\n",
              "      <td>0.0000</td>\n",
              "      <td>0.0000</td>\n",
              "      <td>1.0000</td>\n",
              "      <td>0.0000</td>\n",
              "      <td>1</td>\n",
              "      <td>1</td>\n",
              "      <td>1</td>\n",
              "      <td>1</td>\n",
              "      <td>2</td>\n",
              "      <td>1</td>\n",
              "      <td>12</td>\n",
              "    </tr>\n",
              "    <tr>\n",
              "      <th>1878785</th>\n",
              "      <td>D8282C22F8CDCA27671045DC5BDEBF9555A1538AD2FCF3...</td>\n",
              "      <td>0.0000</td>\n",
              "      <td>0.0000</td>\n",
              "      <td>0.0000</td>\n",
              "      <td>0.0000</td>\n",
              "      <td>0.0000</td>\n",
              "      <td>0.0000</td>\n",
              "      <td>1</td>\n",
              "      <td>1</td>\n",
              "      <td>1</td>\n",
              "      <td>1</td>\n",
              "      <td>1</td>\n",
              "      <td>1</td>\n",
              "      <td>10</td>\n",
              "    </tr>\n",
              "    <tr>\n",
              "      <th>1878786</th>\n",
              "      <td>55A29120C4A4E1F9D770B0DE07B82376495121CC0420B0...</td>\n",
              "      <td>0.0000</td>\n",
              "      <td>0.0000</td>\n",
              "      <td>0.0000</td>\n",
              "      <td>0.0000</td>\n",
              "      <td>0.0000</td>\n",
              "      <td>0.0000</td>\n",
              "      <td>1</td>\n",
              "      <td>1</td>\n",
              "      <td>1</td>\n",
              "      <td>1</td>\n",
              "      <td>1</td>\n",
              "      <td>1</td>\n",
              "      <td>10</td>\n",
              "    </tr>\n",
              "    <tr>\n",
              "      <th>1878787</th>\n",
              "      <td>206779DE33283EA9A8E600B99E6A1E63452A350356DFEC...</td>\n",
              "      <td>0.0000</td>\n",
              "      <td>1.0000</td>\n",
              "      <td>0.0000</td>\n",
              "      <td>1.0000</td>\n",
              "      <td>0.0000</td>\n",
              "      <td>0.0000</td>\n",
              "      <td>1</td>\n",
              "      <td>4</td>\n",
              "      <td>1</td>\n",
              "      <td>3</td>\n",
              "      <td>1</td>\n",
              "      <td>1</td>\n",
              "      <td>17</td>\n",
              "    </tr>\n",
              "  </tbody>\n",
              "</table>\n",
              "<p>1878788 rows × 14 columns</p>\n",
              "</div>"
            ],
            "text/plain": [
              "                                                      고유번호  연 평균 포인트사용횟수  \\\n",
              "0        48066EF2E782C577A25A7A0C38CFCAECE33A2420BFB8EC...        0.0000   \n",
              "1        4ED3B18A3DB2CE13DE559397E59FAF3701B9A49685EB28...        0.0000   \n",
              "2        47EB4685B42EF7BD6B60DCBAF4611FC729D1FA3189D149...        0.0000   \n",
              "3        F017BC3BC9940394BD291128D6C21E6F33B0FB69A63C71...        0.0000   \n",
              "4        ACF7ECFA0C20E47E546A0A17A1F992635DBF9BD10BD386...        0.0000   \n",
              "...                                                    ...           ...   \n",
              "1878783  A1F7001C515A5EE424CAD2E96AC61D8E5033D272EB9223...        0.0000   \n",
              "1878784  48BDB945E8C6164F560C662E7044B534AFF4CA1594FCEC...        0.0000   \n",
              "1878785  D8282C22F8CDCA27671045DC5BDEBF9555A1538AD2FCF3...        0.0000   \n",
              "1878786  55A29120C4A4E1F9D770B0DE07B82376495121CC0420B0...        0.0000   \n",
              "1878787  206779DE33283EA9A8E600B99E6A1E63452A350356DFEC...        0.0000   \n",
              "\n",
              "         연 평균 쿠폰사용횟수  연 평균 출첵참여횟수  연 평균 일반이벤트횟수  연 평균 드로우횟수  연 평균 리뷰작성횟수  \\\n",
              "0             0.0000       0.0000        1.0000      0.0000       0.0000   \n",
              "1             0.0000       0.0000        0.0000      0.0000       0.0000   \n",
              "2             0.0000       0.0000        0.0000      0.0000       0.0000   \n",
              "3             0.0000       0.0000        0.0000      0.0000       0.0000   \n",
              "4             0.0000       0.0000        0.0000      0.0000       0.0000   \n",
              "...              ...          ...           ...         ...          ...   \n",
              "1878783       0.0000       0.0000        1.0000      0.0000       0.0000   \n",
              "1878784       0.0000       0.0000        0.0000      1.0000       0.0000   \n",
              "1878785       0.0000       0.0000        0.0000      0.0000       0.0000   \n",
              "1878786       0.0000       0.0000        0.0000      0.0000       0.0000   \n",
              "1878787       1.0000       0.0000        1.0000      0.0000       0.0000   \n",
              "\n",
              "         포인트_score  쿠폰_score  출첵_score  일반이벤트_score  드로우_score  리뷰_score  \\\n",
              "0                1         1         1            3          1         1   \n",
              "1                1         1         1            1          1         1   \n",
              "2                1         1         1            1          1         1   \n",
              "3                1         1         1            1          1         1   \n",
              "4                1         1         1            1          1         1   \n",
              "...            ...       ...       ...          ...        ...       ...   \n",
              "1878783          1         1         1            3          1         1   \n",
              "1878784          1         1         1            1          2         1   \n",
              "1878785          1         1         1            1          1         1   \n",
              "1878786          1         1         1            1          1         1   \n",
              "1878787          1         4         1            3          1         1   \n",
              "\n",
              "         action_score  \n",
              "0                  14  \n",
              "1                  10  \n",
              "2                  10  \n",
              "3                  10  \n",
              "4                  10  \n",
              "...               ...  \n",
              "1878783            14  \n",
              "1878784            12  \n",
              "1878785            10  \n",
              "1878786            10  \n",
              "1878787            17  \n",
              "\n",
              "[1878788 rows x 14 columns]"
            ]
          },
          "execution_count": 146,
          "metadata": {},
          "output_type": "execute_result"
        }
      ],
      "source": [
        "action['action_score'] = action['포인트_score'] + action['쿠폰_score'] + 2* action['출첵_score'] + 2*action['일반이벤트_score'] + 2*action['드로우_score'] + 2* action['리뷰_score']\n",
        "action # 10점 ~ 50점 만점"
      ]
    },
    {
      "cell_type": "markdown",
      "id": "5058ed1e",
      "metadata": {
        "id": "5058ed1e"
      },
      "source": [
        "# k-Means - 알고리즘 추천 k=5"
      ]
    },
    {
      "cell_type": "code",
      "execution_count": null,
      "id": "2979ca1f",
      "metadata": {
        "id": "2979ca1f"
      },
      "outputs": [],
      "source": [
        "total = pd.merge(purchase[['고유번호','purchase_score' ]], action[['고유번호', 'action_score']],on='고유번호',how = 'left')"
      ]
    },
    {
      "cell_type": "code",
      "execution_count": null,
      "id": "3c50719a",
      "metadata": {
        "id": "3c50719a",
        "outputId": "f887b728-4d41-4333-d3de-06f90ed41b50"
      },
      "outputs": [
        {
          "data": {
            "text/plain": [
              "count   1878788.0000\n",
              "mean         14.2346\n",
              "std           4.9260\n",
              "min          10.0000\n",
              "25%          10.0000\n",
              "50%          13.0000\n",
              "75%          16.0000\n",
              "max          50.0000\n",
              "Name: action_score, dtype: float64"
            ]
          },
          "execution_count": 148,
          "metadata": {},
          "output_type": "execute_result"
        }
      ],
      "source": [
        "total.action_score.describe()"
      ]
    },
    {
      "cell_type": "code",
      "execution_count": null,
      "id": "daf43f65",
      "metadata": {
        "id": "daf43f65"
      },
      "outputs": [],
      "source": [
        "df_cluster = total.drop(labels='고유번호',axis=1)"
      ]
    },
    {
      "cell_type": "code",
      "execution_count": null,
      "id": "46bda534",
      "metadata": {
        "id": "46bda534",
        "outputId": "d03bef0e-dff8-4851-ad06-2c3a69c34600"
      },
      "outputs": [
        {
          "data": {
            "text/html": [
              "<div>\n",
              "<style scoped>\n",
              "    .dataframe tbody tr th:only-of-type {\n",
              "        vertical-align: middle;\n",
              "    }\n",
              "\n",
              "    .dataframe tbody tr th {\n",
              "        vertical-align: top;\n",
              "    }\n",
              "\n",
              "    .dataframe thead th {\n",
              "        text-align: right;\n",
              "    }\n",
              "</style>\n",
              "<table border=\"1\" class=\"dataframe\">\n",
              "  <thead>\n",
              "    <tr style=\"text-align: right;\">\n",
              "      <th></th>\n",
              "      <th>0</th>\n",
              "      <th>1</th>\n",
              "    </tr>\n",
              "  </thead>\n",
              "  <tbody>\n",
              "    <tr>\n",
              "      <th>0</th>\n",
              "      <td>-1.0723</td>\n",
              "      <td>-0.0476</td>\n",
              "    </tr>\n",
              "    <tr>\n",
              "      <th>1</th>\n",
              "      <td>-1.0723</td>\n",
              "      <td>-0.8596</td>\n",
              "    </tr>\n",
              "    <tr>\n",
              "      <th>2</th>\n",
              "      <td>-1.0723</td>\n",
              "      <td>-0.8596</td>\n",
              "    </tr>\n",
              "    <tr>\n",
              "      <th>3</th>\n",
              "      <td>-1.0723</td>\n",
              "      <td>-0.8596</td>\n",
              "    </tr>\n",
              "    <tr>\n",
              "      <th>4</th>\n",
              "      <td>-1.0723</td>\n",
              "      <td>-0.8596</td>\n",
              "    </tr>\n",
              "    <tr>\n",
              "      <th>...</th>\n",
              "      <td>...</td>\n",
              "      <td>...</td>\n",
              "    </tr>\n",
              "    <tr>\n",
              "      <th>1878783</th>\n",
              "      <td>-1.0723</td>\n",
              "      <td>-0.0476</td>\n",
              "    </tr>\n",
              "    <tr>\n",
              "      <th>1878784</th>\n",
              "      <td>-1.0723</td>\n",
              "      <td>-0.4536</td>\n",
              "    </tr>\n",
              "    <tr>\n",
              "      <th>1878785</th>\n",
              "      <td>-1.0723</td>\n",
              "      <td>-0.8596</td>\n",
              "    </tr>\n",
              "    <tr>\n",
              "      <th>1878786</th>\n",
              "      <td>-0.0087</td>\n",
              "      <td>-0.8596</td>\n",
              "    </tr>\n",
              "    <tr>\n",
              "      <th>1878787</th>\n",
              "      <td>-0.0087</td>\n",
              "      <td>0.5614</td>\n",
              "    </tr>\n",
              "  </tbody>\n",
              "</table>\n",
              "<p>1878788 rows × 2 columns</p>\n",
              "</div>"
            ],
            "text/plain": [
              "              0       1\n",
              "0       -1.0723 -0.0476\n",
              "1       -1.0723 -0.8596\n",
              "2       -1.0723 -0.8596\n",
              "3       -1.0723 -0.8596\n",
              "4       -1.0723 -0.8596\n",
              "...         ...     ...\n",
              "1878783 -1.0723 -0.0476\n",
              "1878784 -1.0723 -0.4536\n",
              "1878785 -1.0723 -0.8596\n",
              "1878786 -0.0087 -0.8596\n",
              "1878787 -0.0087  0.5614\n",
              "\n",
              "[1878788 rows x 2 columns]"
            ]
          },
          "execution_count": 150,
          "metadata": {},
          "output_type": "execute_result"
        }
      ],
      "source": [
        "from sklearn.cluster import KMeans\n",
        "from sklearn.preprocessing import StandardScaler\n",
        "\n",
        "#표준화\n",
        "sc = StandardScaler()\n",
        "df_scaled = sc.fit_transform(df_cluster)\n",
        "pd.DataFrame(df_scaled)"
      ]
    },
    {
      "cell_type": "code",
      "execution_count": null,
      "id": "ebe0ce27",
      "metadata": {
        "id": "ebe0ce27",
        "outputId": "af6ba02e-8d87-435e-9a52-efc362211e58"
      },
      "outputs": [
        {
          "data": {
            "image/png": "[encoded data removed]",
            "text/plain": [
              "<Figure size 800x550 with 2 Axes>"
            ]
          },
          "metadata": {},
          "output_type": "display_data"
        },
        {
          "data": {
            "text/plain": [
              "KElbowVisualizer(ax=<AxesSubplot:title={'center':'Distortion Score Elbow for KMeans Clustering'}, xlabel='k', ylabel='distortion score'>,\n",
              "                 estimator=KMeans(n_clusters=14, random_state=0), k=(2, 15))"
            ]
          },
          "execution_count": 152,
          "metadata": {},
          "output_type": "execute_result"
        }
      ],
      "source": [
        "from yellowbrick.cluster.elbow import kelbow_visualizer\n",
        "\n",
        "kelbow_visualizer(KMeans(random_state=0), df_scaled, k=(2,15))"
      ]
    },
    {
      "cell_type": "code",
      "execution_count": null,
      "id": "a27b4761",
      "metadata": {
        "id": "a27b4761",
        "outputId": "4b9514d4-592d-476f-c911-630d0bd298ac"
      },
      "outputs": [
        {
          "data": {
            "text/html": [
              "<div>\n",
              "<style scoped>\n",
              "    .dataframe tbody tr th:only-of-type {\n",
              "        vertical-align: middle;\n",
              "    }\n",
              "\n",
              "    .dataframe tbody tr th {\n",
              "        vertical-align: top;\n",
              "    }\n",
              "\n",
              "    .dataframe thead th {\n",
              "        text-align: right;\n",
              "    }\n",
              "</style>\n",
              "<table border=\"1\" class=\"dataframe\">\n",
              "  <thead>\n",
              "    <tr style=\"text-align: right;\">\n",
              "      <th></th>\n",
              "      <th>purchase_score</th>\n",
              "      <th>action_score</th>\n",
              "      <th>cluster</th>\n",
              "    </tr>\n",
              "  </thead>\n",
              "  <tbody>\n",
              "    <tr>\n",
              "      <th>0</th>\n",
              "      <td>10</td>\n",
              "      <td>14</td>\n",
              "      <td>4</td>\n",
              "    </tr>\n",
              "    <tr>\n",
              "      <th>1</th>\n",
              "      <td>10</td>\n",
              "      <td>10</td>\n",
              "      <td>4</td>\n",
              "    </tr>\n",
              "    <tr>\n",
              "      <th>2</th>\n",
              "      <td>10</td>\n",
              "      <td>10</td>\n",
              "      <td>4</td>\n",
              "    </tr>\n",
              "    <tr>\n",
              "      <th>3</th>\n",
              "      <td>10</td>\n",
              "      <td>10</td>\n",
              "      <td>4</td>\n",
              "    </tr>\n",
              "    <tr>\n",
              "      <th>4</th>\n",
              "      <td>10</td>\n",
              "      <td>10</td>\n",
              "      <td>4</td>\n",
              "    </tr>\n",
              "  </tbody>\n",
              "</table>\n",
              "</div>"
            ],
            "text/plain": [
              "   purchase_score  action_score  cluster\n",
              "0              10            14        4\n",
              "1              10            10        4\n",
              "2              10            10        4\n",
              "3              10            10        4\n",
              "4              10            10        4"
            ]
          },
          "execution_count": 153,
          "metadata": {},
          "output_type": "execute_result"
        }
      ],
      "source": [
        "# 클러스터링\n",
        "kmeans = KMeans(n_clusters=5, random_state=0)\n",
        "clusters = kmeans.fit(df_scaled)\n",
        "\n",
        "# 클러스터링 변수 \n",
        "df_cluster['cluster'] = clusters.labels_\n",
        "df_cluster.head(5)"
      ]
    },
    {
      "cell_type": "code",
      "execution_count": null,
      "id": "faa25d3e",
      "metadata": {
        "id": "faa25d3e",
        "outputId": "18a9e6cc-c044-48bb-c586-247a22324ef4"
      },
      "outputs": [
        {
          "data": {
            "text/html": [
              "<div>\n",
              "<style scoped>\n",
              "    .dataframe tbody tr th:only-of-type {\n",
              "        vertical-align: middle;\n",
              "    }\n",
              "\n",
              "    .dataframe tbody tr th {\n",
              "        vertical-align: top;\n",
              "    }\n",
              "\n",
              "    .dataframe thead th {\n",
              "        text-align: right;\n",
              "    }\n",
              "</style>\n",
              "<table border=\"1\" class=\"dataframe\">\n",
              "  <thead>\n",
              "    <tr style=\"text-align: right;\">\n",
              "      <th></th>\n",
              "      <th>purchase_score</th>\n",
              "      <th>action_score</th>\n",
              "      <th>cluster</th>\n",
              "    </tr>\n",
              "  </thead>\n",
              "  <tbody>\n",
              "    <tr>\n",
              "      <th>0</th>\n",
              "      <td>-1.0723</td>\n",
              "      <td>-0.0476</td>\n",
              "      <td>4</td>\n",
              "    </tr>\n",
              "    <tr>\n",
              "      <th>1</th>\n",
              "      <td>-1.0723</td>\n",
              "      <td>-0.8596</td>\n",
              "      <td>4</td>\n",
              "    </tr>\n",
              "    <tr>\n",
              "      <th>2</th>\n",
              "      <td>-1.0723</td>\n",
              "      <td>-0.8596</td>\n",
              "      <td>4</td>\n",
              "    </tr>\n",
              "    <tr>\n",
              "      <th>3</th>\n",
              "      <td>-1.0723</td>\n",
              "      <td>-0.8596</td>\n",
              "      <td>4</td>\n",
              "    </tr>\n",
              "    <tr>\n",
              "      <th>4</th>\n",
              "      <td>-1.0723</td>\n",
              "      <td>-0.8596</td>\n",
              "      <td>4</td>\n",
              "    </tr>\n",
              "    <tr>\n",
              "      <th>...</th>\n",
              "      <td>...</td>\n",
              "      <td>...</td>\n",
              "      <td>...</td>\n",
              "    </tr>\n",
              "    <tr>\n",
              "      <th>1878783</th>\n",
              "      <td>-1.0723</td>\n",
              "      <td>-0.0476</td>\n",
              "      <td>4</td>\n",
              "    </tr>\n",
              "    <tr>\n",
              "      <th>1878784</th>\n",
              "      <td>-1.0723</td>\n",
              "      <td>-0.4536</td>\n",
              "      <td>4</td>\n",
              "    </tr>\n",
              "    <tr>\n",
              "      <th>1878785</th>\n",
              "      <td>-1.0723</td>\n",
              "      <td>-0.8596</td>\n",
              "      <td>4</td>\n",
              "    </tr>\n",
              "    <tr>\n",
              "      <th>1878786</th>\n",
              "      <td>-0.0087</td>\n",
              "      <td>-0.8596</td>\n",
              "      <td>0</td>\n",
              "    </tr>\n",
              "    <tr>\n",
              "      <th>1878787</th>\n",
              "      <td>-0.0087</td>\n",
              "      <td>0.5614</td>\n",
              "      <td>1</td>\n",
              "    </tr>\n",
              "  </tbody>\n",
              "</table>\n",
              "<p>1878788 rows × 3 columns</p>\n",
              "</div>"
            ],
            "text/plain": [
              "         purchase_score  action_score  cluster\n",
              "0               -1.0723       -0.0476        4\n",
              "1               -1.0723       -0.8596        4\n",
              "2               -1.0723       -0.8596        4\n",
              "3               -1.0723       -0.8596        4\n",
              "4               -1.0723       -0.8596        4\n",
              "...                 ...           ...      ...\n",
              "1878783         -1.0723       -0.0476        4\n",
              "1878784         -1.0723       -0.4536        4\n",
              "1878785         -1.0723       -0.8596        4\n",
              "1878786         -0.0087       -0.8596        0\n",
              "1878787         -0.0087        0.5614        1\n",
              "\n",
              "[1878788 rows x 3 columns]"
            ]
          },
          "execution_count": 154,
          "metadata": {},
          "output_type": "execute_result"
        }
      ],
      "source": [
        "df_scaled = pd.DataFrame(df_scaled)\n",
        "df_scaled['cluster'] = kmeans.labels_\n",
        "df_scaled.columns = ['purchase_score', 'action_score', 'cluster']\n",
        "df_scaled"
      ]
    },
    {
      "cell_type": "code",
      "execution_count": null,
      "id": "de3f4a8b",
      "metadata": {
        "id": "de3f4a8b",
        "outputId": "c1467f0a-890b-4ef7-84ac-d96988030598"
      },
      "outputs": [
        {
          "data": {
            "text/html": [
              "<div>\n",
              "<style scoped>\n",
              "    .dataframe tbody tr th:only-of-type {\n",
              "        vertical-align: middle;\n",
              "    }\n",
              "\n",
              "    .dataframe tbody tr th {\n",
              "        vertical-align: top;\n",
              "    }\n",
              "\n",
              "    .dataframe thead th {\n",
              "        text-align: right;\n",
              "    }\n",
              "</style>\n",
              "<table border=\"1\" class=\"dataframe\">\n",
              "  <thead>\n",
              "    <tr style=\"text-align: right;\">\n",
              "      <th></th>\n",
              "      <th>purchase_score</th>\n",
              "      <th>action_score</th>\n",
              "      <th>cluster</th>\n",
              "      <th>count</th>\n",
              "    </tr>\n",
              "  </thead>\n",
              "  <tbody>\n",
              "    <tr>\n",
              "      <th>0</th>\n",
              "      <td>0.2227</td>\n",
              "      <td>-0.5075</td>\n",
              "      <td>0</td>\n",
              "      <td>539102</td>\n",
              "    </tr>\n",
              "    <tr>\n",
              "      <th>1</th>\n",
              "      <td>-0.8016</td>\n",
              "      <td>0.8626</td>\n",
              "      <td>1</td>\n",
              "      <td>325217</td>\n",
              "    </tr>\n",
              "    <tr>\n",
              "      <th>2</th>\n",
              "      <td>1.0055</td>\n",
              "      <td>2.7499</td>\n",
              "      <td>2</td>\n",
              "      <td>113305</td>\n",
              "    </tr>\n",
              "    <tr>\n",
              "      <th>3</th>\n",
              "      <td>1.3802</td>\n",
              "      <td>-0.0539</td>\n",
              "      <td>3</td>\n",
              "      <td>391696</td>\n",
              "    </tr>\n",
              "    <tr>\n",
              "      <th>4</th>\n",
              "      <td>-1.0087</td>\n",
              "      <td>-0.5838</td>\n",
              "      <td>4</td>\n",
              "      <td>509468</td>\n",
              "    </tr>\n",
              "  </tbody>\n",
              "</table>\n",
              "</div>"
            ],
            "text/plain": [
              "   purchase_score  action_score  cluster   count\n",
              "0          0.2227       -0.5075        0  539102\n",
              "1         -0.8016        0.8626        1  325217\n",
              "2          1.0055        2.7499        2  113305\n",
              "3          1.3802       -0.0539        3  391696\n",
              "4         -1.0087       -0.5838        4  509468"
            ]
          },
          "execution_count": 155,
          "metadata": {},
          "output_type": "execute_result"
        }
      ],
      "source": [
        "center = kmeans.cluster_centers_\n",
        "center\n",
        "\n",
        "center = pd.DataFrame(center)\n",
        "center['cluster'] = [0,1,2,3,4]\n",
        "center.columns = ['purchase_score', 'action_score', 'cluster']\n",
        "center\n",
        "\n",
        "dd = df_cluster.groupby('cluster',as_index=False).agg({'purchase_score': 'count'})\n",
        "dd.rename(columns = {'purchase_score' : 'count'}, inplace = True)\n",
        "center = pd.merge(center, dd, on = 'cluster', how = 'left')\n",
        "center"
      ]
    },
    {
      "cell_type": "code",
      "execution_count": null,
      "id": "bc2c6f8d",
      "metadata": {
        "id": "bc2c6f8d",
        "outputId": "2fdb7ad3-af6a-417b-92a3-dfd17c2d2e8e"
      },
      "outputs": [
        {
          "data": {
            "text/html": [
              "<div>\n",
              "<style scoped>\n",
              "    .dataframe tbody tr th:only-of-type {\n",
              "        vertical-align: middle;\n",
              "    }\n",
              "\n",
              "    .dataframe tbody tr th {\n",
              "        vertical-align: top;\n",
              "    }\n",
              "\n",
              "    .dataframe thead th {\n",
              "        text-align: right;\n",
              "    }\n",
              "</style>\n",
              "<table border=\"1\" class=\"dataframe\">\n",
              "  <thead>\n",
              "    <tr style=\"text-align: right;\">\n",
              "      <th></th>\n",
              "      <th>고유번호</th>\n",
              "      <th>purchase_score</th>\n",
              "      <th>action_score</th>\n",
              "      <th>cluster</th>\n",
              "    </tr>\n",
              "  </thead>\n",
              "  <tbody>\n",
              "    <tr>\n",
              "      <th>0</th>\n",
              "      <td>48066EF2E782C577A25A7A0C38CFCAECE33A2420BFB8EC...</td>\n",
              "      <td>10</td>\n",
              "      <td>14</td>\n",
              "      <td>4</td>\n",
              "    </tr>\n",
              "    <tr>\n",
              "      <th>1</th>\n",
              "      <td>4ED3B18A3DB2CE13DE559397E59FAF3701B9A49685EB28...</td>\n",
              "      <td>10</td>\n",
              "      <td>10</td>\n",
              "      <td>4</td>\n",
              "    </tr>\n",
              "    <tr>\n",
              "      <th>2</th>\n",
              "      <td>47EB4685B42EF7BD6B60DCBAF4611FC729D1FA3189D149...</td>\n",
              "      <td>10</td>\n",
              "      <td>10</td>\n",
              "      <td>4</td>\n",
              "    </tr>\n",
              "    <tr>\n",
              "      <th>3</th>\n",
              "      <td>F017BC3BC9940394BD291128D6C21E6F33B0FB69A63C71...</td>\n",
              "      <td>10</td>\n",
              "      <td>10</td>\n",
              "      <td>4</td>\n",
              "    </tr>\n",
              "    <tr>\n",
              "      <th>4</th>\n",
              "      <td>ACF7ECFA0C20E47E546A0A17A1F992635DBF9BD10BD386...</td>\n",
              "      <td>10</td>\n",
              "      <td>10</td>\n",
              "      <td>4</td>\n",
              "    </tr>\n",
              "    <tr>\n",
              "      <th>...</th>\n",
              "      <td>...</td>\n",
              "      <td>...</td>\n",
              "      <td>...</td>\n",
              "      <td>...</td>\n",
              "    </tr>\n",
              "    <tr>\n",
              "      <th>1878783</th>\n",
              "      <td>A1F7001C515A5EE424CAD2E96AC61D8E5033D272EB9223...</td>\n",
              "      <td>10</td>\n",
              "      <td>14</td>\n",
              "      <td>4</td>\n",
              "    </tr>\n",
              "    <tr>\n",
              "      <th>1878784</th>\n",
              "      <td>48BDB945E8C6164F560C662E7044B534AFF4CA1594FCEC...</td>\n",
              "      <td>10</td>\n",
              "      <td>12</td>\n",
              "      <td>4</td>\n",
              "    </tr>\n",
              "    <tr>\n",
              "      <th>1878785</th>\n",
              "      <td>D8282C22F8CDCA27671045DC5BDEBF9555A1538AD2FCF3...</td>\n",
              "      <td>10</td>\n",
              "      <td>10</td>\n",
              "      <td>4</td>\n",
              "    </tr>\n",
              "    <tr>\n",
              "      <th>1878786</th>\n",
              "      <td>55A29120C4A4E1F9D770B0DE07B82376495121CC0420B0...</td>\n",
              "      <td>24</td>\n",
              "      <td>10</td>\n",
              "      <td>0</td>\n",
              "    </tr>\n",
              "    <tr>\n",
              "      <th>1878787</th>\n",
              "      <td>206779DE33283EA9A8E600B99E6A1E63452A350356DFEC...</td>\n",
              "      <td>24</td>\n",
              "      <td>17</td>\n",
              "      <td>1</td>\n",
              "    </tr>\n",
              "  </tbody>\n",
              "</table>\n",
              "<p>1878788 rows × 4 columns</p>\n",
              "</div>"
            ],
            "text/plain": [
              "                                                      고유번호  purchase_score  \\\n",
              "0        48066EF2E782C577A25A7A0C38CFCAECE33A2420BFB8EC...              10   \n",
              "1        4ED3B18A3DB2CE13DE559397E59FAF3701B9A49685EB28...              10   \n",
              "2        47EB4685B42EF7BD6B60DCBAF4611FC729D1FA3189D149...              10   \n",
              "3        F017BC3BC9940394BD291128D6C21E6F33B0FB69A63C71...              10   \n",
              "4        ACF7ECFA0C20E47E546A0A17A1F992635DBF9BD10BD386...              10   \n",
              "...                                                    ...             ...   \n",
              "1878783  A1F7001C515A5EE424CAD2E96AC61D8E5033D272EB9223...              10   \n",
              "1878784  48BDB945E8C6164F560C662E7044B534AFF4CA1594FCEC...              10   \n",
              "1878785  D8282C22F8CDCA27671045DC5BDEBF9555A1538AD2FCF3...              10   \n",
              "1878786  55A29120C4A4E1F9D770B0DE07B82376495121CC0420B0...              24   \n",
              "1878787  206779DE33283EA9A8E600B99E6A1E63452A350356DFEC...              24   \n",
              "\n",
              "         action_score  cluster  \n",
              "0                  14        4  \n",
              "1                  10        4  \n",
              "2                  10        4  \n",
              "3                  10        4  \n",
              "4                  10        4  \n",
              "...               ...      ...  \n",
              "1878783            14        4  \n",
              "1878784            12        4  \n",
              "1878785            10        4  \n",
              "1878786            10        0  \n",
              "1878787            17        1  \n",
              "\n",
              "[1878788 rows x 4 columns]"
            ]
          },
          "execution_count": 156,
          "metadata": {},
          "output_type": "execute_result"
        }
      ],
      "source": [
        "total['cluster'] = kmeans.labels_\n",
        "total"
      ]
    },
    {
      "cell_type": "code",
      "execution_count": null,
      "id": "4cc8f368",
      "metadata": {
        "id": "4cc8f368"
      },
      "outputs": [],
      "source": [
        "zz = total.groupby('cluster', as_index = False).agg({'purchase_score' : 'mean', 'action_score': 'mean'})\n",
        "xx = total.groupby('cluster', as_index = False).agg({'purchase_score' : 'count'})\n",
        "xx.columns = ['cluster', 'count']\n",
        "cc = pd.merge(zz, xx, on = 'cluster', how = 'left')"
      ]
    },
    {
      "cell_type": "code",
      "execution_count": null,
      "id": "19bf5a5b",
      "metadata": {
        "id": "19bf5a5b"
      },
      "outputs": [],
      "source": [
        "#cc.to_csv('../DATA_raw2/cluster요약.csv', index=False)"
      ]
    },
    {
      "cell_type": "code",
      "execution_count": null,
      "id": "68d8c685",
      "metadata": {
        "id": "68d8c685",
        "outputId": "52472e02-40e0-463a-b0c1-008e1ef0527d"
      },
      "outputs": [
        {
          "data": {
            "image/png": "[encoded data removed]",
            "text/plain": [
              "<Figure size 500x500 with 1 Axes>"
            ]
          },
          "metadata": {},
          "output_type": "display_data"
        }
      ],
      "source": [
        "plt.figure(figsize=(3,3))\n",
        "total.cluster.value_counts().plot.pie(autopct='%.2f%%', figsize=(5,5), \n",
        "                                      startangle=30, legend=False)\n",
        "plt.title(\"군집 비율\")\n",
        "plt.axis('equal') # 안하면 찌그러짐.\n",
        "plt.show()"
      ]
    },
    {
      "cell_type": "code",
      "execution_count": null,
      "id": "247f277d",
      "metadata": {
        "id": "247f277d",
        "outputId": "ae9751cd-dfd0-4afe-993c-220529659d42"
      },
      "outputs": [
        {
          "data": {
            "text/html": [
              "<div>\n",
              "<style scoped>\n",
              "    .dataframe tbody tr th:only-of-type {\n",
              "        vertical-align: middle;\n",
              "    }\n",
              "\n",
              "    .dataframe tbody tr th {\n",
              "        vertical-align: top;\n",
              "    }\n",
              "\n",
              "    .dataframe thead th {\n",
              "        text-align: right;\n",
              "    }\n",
              "</style>\n",
              "<table border=\"1\" class=\"dataframe\">\n",
              "  <thead>\n",
              "    <tr style=\"text-align: right;\">\n",
              "      <th></th>\n",
              "      <th>purchase_score</th>\n",
              "      <th>action_score</th>\n",
              "    </tr>\n",
              "    <tr>\n",
              "      <th>cluster</th>\n",
              "      <th></th>\n",
              "      <th></th>\n",
              "    </tr>\n",
              "  </thead>\n",
              "  <tbody>\n",
              "    <tr>\n",
              "      <th>0</th>\n",
              "      <td>539102</td>\n",
              "      <td>539102</td>\n",
              "    </tr>\n",
              "    <tr>\n",
              "      <th>1</th>\n",
              "      <td>325217</td>\n",
              "      <td>325217</td>\n",
              "    </tr>\n",
              "    <tr>\n",
              "      <th>2</th>\n",
              "      <td>113305</td>\n",
              "      <td>113305</td>\n",
              "    </tr>\n",
              "    <tr>\n",
              "      <th>3</th>\n",
              "      <td>391696</td>\n",
              "      <td>391696</td>\n",
              "    </tr>\n",
              "    <tr>\n",
              "      <th>4</th>\n",
              "      <td>509468</td>\n",
              "      <td>509468</td>\n",
              "    </tr>\n",
              "  </tbody>\n",
              "</table>\n",
              "</div>"
            ],
            "text/plain": [
              "         purchase_score  action_score\n",
              "cluster                              \n",
              "0                539102        539102\n",
              "1                325217        325217\n",
              "2                113305        113305\n",
              "3                391696        391696\n",
              "4                509468        509468"
            ]
          },
          "execution_count": 160,
          "metadata": {},
          "output_type": "execute_result"
        }
      ],
      "source": [
        "# cluster를 기준으로 데이터 개수\n",
        "df_cluster.groupby('cluster').count()"
      ]
    },
    {
      "cell_type": "code",
      "execution_count": null,
      "id": "45f6e806",
      "metadata": {
        "id": "45f6e806",
        "outputId": "0171c430-a5c8-4ecb-9c22-e80754a6f8ba"
      },
      "outputs": [
        {
          "data": {
            "text/html": [
              "<div>\n",
              "<style scoped>\n",
              "    .dataframe tbody tr th:only-of-type {\n",
              "        vertical-align: middle;\n",
              "    }\n",
              "\n",
              "    .dataframe tbody tr th {\n",
              "        vertical-align: top;\n",
              "    }\n",
              "\n",
              "    .dataframe thead th {\n",
              "        text-align: right;\n",
              "    }\n",
              "</style>\n",
              "<table border=\"1\" class=\"dataframe\">\n",
              "  <thead>\n",
              "    <tr style=\"text-align: right;\">\n",
              "      <th></th>\n",
              "      <th>purchase_score</th>\n",
              "      <th>action_score</th>\n",
              "    </tr>\n",
              "    <tr>\n",
              "      <th>cluster</th>\n",
              "      <th></th>\n",
              "      <th></th>\n",
              "    </tr>\n",
              "  </thead>\n",
              "  <tbody>\n",
              "    <tr>\n",
              "      <th>0</th>\n",
              "      <td>27.0461</td>\n",
              "      <td>11.7349</td>\n",
              "    </tr>\n",
              "    <tr>\n",
              "      <th>1</th>\n",
              "      <td>13.5624</td>\n",
              "      <td>18.4837</td>\n",
              "    </tr>\n",
              "    <tr>\n",
              "      <th>2</th>\n",
              "      <td>37.3501</td>\n",
              "      <td>27.7804</td>\n",
              "    </tr>\n",
              "    <tr>\n",
              "      <th>3</th>\n",
              "      <td>42.2817</td>\n",
              "      <td>13.9690</td>\n",
              "    </tr>\n",
              "    <tr>\n",
              "      <th>4</th>\n",
              "      <td>10.8368</td>\n",
              "      <td>11.3589</td>\n",
              "    </tr>\n",
              "  </tbody>\n",
              "</table>\n",
              "</div>"
            ],
            "text/plain": [
              "         purchase_score  action_score\n",
              "cluster                              \n",
              "0               27.0461       11.7349\n",
              "1               13.5624       18.4837\n",
              "2               37.3501       27.7804\n",
              "3               42.2817       13.9690\n",
              "4               10.8368       11.3589"
            ]
          },
          "execution_count": 161,
          "metadata": {},
          "output_type": "execute_result"
        }
      ],
      "source": [
        "# 그룹별 평균값\n",
        "df_cluster.groupby('cluster').mean()"
      ]
    },
    {
      "cell_type": "code",
      "execution_count": null,
      "id": "8114394f",
      "metadata": {
        "id": "8114394f",
        "outputId": "63492c6d-5cde-40a2-f6c1-6bff1222833d"
      },
      "outputs": [
        {
          "data": {
            "image/png": "[encoded data removed]",
            "text/plain": [
              "<Figure size 500x900 with 5 Axes>"
            ]
          },
          "metadata": {},
          "output_type": "display_data"
        }
      ],
      "source": [
        "import seaborn as sns\n",
        "\n",
        "fig, ax = plt.subplots(5, 1, figsize=(5,9), sharex=True, sharey=True)\n",
        "ax = ax.ravel()\n",
        "plt.tight_layout() # 자동으로 레이아웃 조정\n",
        "#plt.subplots_adjust(hspace=0.2) # subplot간의 너비 간격 조절\n",
        "\n",
        "for i in range(kmeans.n_clusters):\n",
        "    ax[i].set_title('cluster %d' % i)\n",
        "#    ax[i].bar(np.arange(X.columns.size), kmeans.cluster_centers_[i])\n",
        "    sns.barplot(np.arange(df_cluster.iloc[:,:2].columns.size), kmeans.cluster_centers_[i], ax=ax[i])\n",
        "    ax[i].set_xticks(np.arange(df_cluster.iloc[:,:2].columns.size))\n",
        "    ax[i].set_xticklabels(df_cluster.iloc[:,:2].columns, rotation=90)\n",
        "# 군집별로 의미있는 해석 도출해내기"
      ]
    },
    {
      "cell_type": "code",
      "execution_count": null,
      "id": "409b7f13",
      "metadata": {
        "id": "409b7f13",
        "outputId": "2ffa3cc7-54d4-4839-f748-e1149ed3c9a3"
      },
      "outputs": [
        {
          "data": {
            "text/plain": [
              "<seaborn.axisgrid.FacetGrid at 0x7fbfb0913130>"
            ]
          },
          "execution_count": 163,
          "metadata": {},
          "output_type": "execute_result"
        },
        {
          "data": {
            "image/png": "[encoded data removed]",
            "text/plain": [
              "<Figure size 560.236x500 with 1 Axes>"
            ]
          },
          "metadata": {},
          "output_type": "display_data"
        }
      ],
      "source": [
        "sns.lmplot(x='purchase_score', y='action_score', data = total, hue = 'cluster', fit_reg=False)"
      ]
    },
    {
      "cell_type": "code",
      "execution_count": null,
      "id": "f57b3aca",
      "metadata": {
        "id": "f57b3aca",
        "outputId": "359418f1-ecc2-4878-c6a2-1874f5d1acaa"
      },
      "outputs": [
        {
          "data": {
            "text/html": [
              "<div>\n",
              "<style scoped>\n",
              "    .dataframe tbody tr th:only-of-type {\n",
              "        vertical-align: middle;\n",
              "    }\n",
              "\n",
              "    .dataframe tbody tr th {\n",
              "        vertical-align: top;\n",
              "    }\n",
              "\n",
              "    .dataframe thead th {\n",
              "        text-align: right;\n",
              "    }\n",
              "</style>\n",
              "<table border=\"1\" class=\"dataframe\">\n",
              "  <thead>\n",
              "    <tr style=\"text-align: right;\">\n",
              "      <th></th>\n",
              "      <th>cluster</th>\n",
              "      <th>purchase_score</th>\n",
              "      <th>ratio</th>\n",
              "    </tr>\n",
              "  </thead>\n",
              "  <tbody>\n",
              "    <tr>\n",
              "      <th>0</th>\n",
              "      <td>0</td>\n",
              "      <td>539102</td>\n",
              "      <td>28.6941</td>\n",
              "    </tr>\n",
              "    <tr>\n",
              "      <th>4</th>\n",
              "      <td>4</td>\n",
              "      <td>509468</td>\n",
              "      <td>27.1168</td>\n",
              "    </tr>\n",
              "    <tr>\n",
              "      <th>3</th>\n",
              "      <td>3</td>\n",
              "      <td>391696</td>\n",
              "      <td>20.8483</td>\n",
              "    </tr>\n",
              "    <tr>\n",
              "      <th>1</th>\n",
              "      <td>1</td>\n",
              "      <td>325217</td>\n",
              "      <td>17.3099</td>\n",
              "    </tr>\n",
              "    <tr>\n",
              "      <th>2</th>\n",
              "      <td>2</td>\n",
              "      <td>113305</td>\n",
              "      <td>6.0307</td>\n",
              "    </tr>\n",
              "  </tbody>\n",
              "</table>\n",
              "</div>"
            ],
            "text/plain": [
              "   cluster  purchase_score   ratio\n",
              "0        0          539102 28.6941\n",
              "4        4          509468 27.1168\n",
              "3        3          391696 20.8483\n",
              "1        1          325217 17.3099\n",
              "2        2          113305  6.0307"
            ]
          },
          "execution_count": 164,
          "metadata": {},
          "output_type": "execute_result"
        }
      ],
      "source": [
        "qq = df_cluster.groupby('cluster', as_index=False).agg({'purchase_score' : 'count'}).sort_values(by=['purchase_score'], ascending = False)\n",
        "qq['ratio'] = qq['purchase_score'] / qq['purchase_score'].sum() * 100\n",
        "qq  # 6%"
      ]
    },
    {
      "cell_type": "code",
      "execution_count": null,
      "id": "ed3cc75c",
      "metadata": {
        "id": "ed3cc75c"
      },
      "outputs": [],
      "source": [
        "#plt.figure(figsize=(6,6))\n",
        "#ax = sns.scatterplot(x='purchase_score', y='action_score', data = total, hue = 'cluster', size = 'cluster_size')\n",
        "#sns.move_legend(ax, \"lower center\", bbox_to_anchor=(.5, 1), ncol=2, title=None, frameon=False)\n",
        "#plt.show()"
      ]
    },
    {
      "cell_type": "code",
      "execution_count": null,
      "id": "89b5df55",
      "metadata": {
        "id": "89b5df55"
      },
      "outputs": [],
      "source": [
        "#plt.figure(figsize=(6,6))\n",
        "#plt.scatter(df_scaled['purchase_score'], df_scaled['action_score'], c = df_scaled['cluster'], cmap = 'YlOrBr')\n",
        "#plt.scatter(center[:,0], center[:,1], c='red', marker = 's')\n"
      ]
    },
    {
      "cell_type": "markdown",
      "source": [
        "![image.png](data:image/png;base64,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)"
      ],
      "metadata": {
        "id": "8nlgiy_1MyX6"
      },
      "id": "8nlgiy_1MyX6"
    },
    {
      "cell_type": "code",
      "execution_count": null,
      "id": "bf03e707",
      "metadata": {
        "id": "bf03e707",
        "outputId": "6bc3484e-eaf1-4f2f-c382-0b0c7b72f106"
      },
      "outputs": [
        {
          "data": {
            "text/plain": [
              "<matplotlib.collections.PathCollection at 0x7fbfb0920e50>"
            ]
          },
          "execution_count": 165,
          "metadata": {},
          "output_type": "execute_result"
        },
        {
          "data": {
            "image/png": "[encoded data removed]",
            "text/plain": [
              "<Figure size 800x550 with 1 Axes>"
            ]
          },
          "metadata": {},
          "output_type": "display_data"
        }
      ],
      "source": [
        "center = kmeans.cluster_centers_\n",
        "center\n",
        "plt.scatter(center[:,0], center[:,1], c='red', marker = 's')"
      ]
    },
    {
      "cell_type": "markdown",
      "id": "a3a7e26e",
      "metadata": {
        "id": "a3a7e26e"
      },
      "source": [
        "# k-Means : 수동으로 k=7 (상위 = 2.5% 일치)"
      ]
    },
    {
      "cell_type": "code",
      "execution_count": null,
      "id": "abef4c77",
      "metadata": {
        "id": "abef4c77"
      },
      "outputs": [],
      "source": [
        "total = pd.merge(purchase[['고유번호','purchase_score' ]], action[['고유번호', 'action_score']],on='고유번호',how = 'left')\n",
        "df_cluster = total.drop(labels='고유번호',axis=1)\n",
        "\n",
        "from sklearn.cluster import KMeans\n",
        "from sklearn.preprocessing import StandardScaler\n",
        "\n",
        "#표준화\n",
        "sc = StandardScaler()\n",
        "df_scaled = sc.fit_transform(df_cluster)"
      ]
    },
    {
      "cell_type": "code",
      "execution_count": null,
      "id": "6989aa36",
      "metadata": {
        "id": "6989aa36"
      },
      "outputs": [],
      "source": [
        "# 클러스터링\n",
        "kmeans = KMeans(n_clusters=7, random_state=0)\n",
        "clusters = kmeans.fit(df_scaled)\n",
        "\n",
        "# 클러스터링 변수 \n",
        "df_cluster['cluster'] = clusters.labels_\n",
        "\n",
        "df_scaled = pd.DataFrame(df_scaled)\n",
        "df_scaled['cluster'] = kmeans.labels_\n",
        "df_scaled.columns = ['purchase_score', 'action_score', 'cluster']\n",
        "center = kmeans.cluster_centers_\n",
        "\n",
        "total['cluster'] = kmeans.labels_"
      ]
    },
    {
      "cell_type": "code",
      "execution_count": null,
      "id": "1a92395e",
      "metadata": {
        "id": "1a92395e"
      },
      "outputs": [],
      "source": [
        "pd.set_option('display.max_columns',None) # 전체 열 출력하기\n",
        "pd.set_option('display.max_rows',None) # 전체 행 출력하기"
      ]
    },
    {
      "cell_type": "code",
      "execution_count": null,
      "id": "7222ab34",
      "metadata": {
        "id": "7222ab34"
      },
      "outputs": [],
      "source": [
        "aa = user_fin[user_fin.고유번호.isin(total[total.cluster == 6].고유번호.unique())]\n",
        "aa[[ '구매횟수', '연 평균 구매횟수', '구매상품수',\n",
        "       '연 평균 구매상품수', '결제가 총합', '연 평균 결제가 총합', '쿠폰사용횟수', '연 평균 쿠폰사용횟수',\n",
        "       '포인트사용횟수', '연 평균 포인트사용횟수', 'c_출석체크_참여일수(누적)',\n",
        "       '연 평균 출첵참여횟수', 'c_일반이벤트_응모건수(누적)','연 평균 일반이벤트횟수','c_드로우 응모건수(누적)', '연 평균 드로우횟수', \n",
        "       '리뷰작성건수','연 평균 리뷰작성횟수']].describe()"
      ]
    },
    {
      "cell_type": "code",
      "execution_count": null,
      "id": "0901ec44",
      "metadata": {
        "id": "0901ec44"
      },
      "outputs": [],
      "source": [
        "aa = user_fin[user_fin.고유번호.isin(total[total.cluster == 5].고유번호.unique())]\n",
        "aa[[ '구매횟수', '연 평균 구매횟수', '구매상품수',\n",
        "       '연 평균 구매상품수', '결제가 총합', '연 평균 결제가 총합', '쿠폰사용횟수', '연 평균 쿠폰사용횟수',\n",
        "       '포인트사용횟수', '연 평균 포인트사용횟수', 'c_출석체크_참여일수(누적)',\n",
        "       '연 평균 출첵참여횟수', 'c_일반이벤트_응모건수(누적)','연 평균 일반이벤트횟수','c_드로우 응모건수(누적)', '연 평균 드로우횟수', \n",
        "       '리뷰작성건수','연 평균 리뷰작성횟수']].describe()"
      ]
    },
    {
      "cell_type": "code",
      "execution_count": null,
      "id": "cf0a760f",
      "metadata": {
        "id": "cf0a760f"
      },
      "outputs": [],
      "source": [
        "aa = user_fin[user_fin.고유번호.isin(total[total.cluster == 5].고유번호.unique())]\n",
        "aa[[ '구매횟수', '연 평균 구매횟수', '구매상품수',\n",
        "       '연 평균 구매상품수', '결제가 총합', '연 평균 결제가 총합', '쿠폰사용횟수', '연 평균 쿠폰사용횟수',\n",
        "       '포인트사용횟수', '연 평균 포인트사용횟수', 'c_출석체크_참여일수(누적)',\n",
        "       '연 평균 출첵참여횟수', 'c_일반이벤트_응모건수(누적)','연 평균 일반이벤트횟수','c_드로우 응모건수(누적)', '연 평균 드로우횟수', \n",
        "       '리뷰작성건수','연 평균 리뷰작성횟수']].describe()"
      ]
    },
    {
      "cell_type": "code",
      "execution_count": null,
      "id": "fea73665",
      "metadata": {
        "id": "fea73665"
      },
      "outputs": [],
      "source": [
        "aa = user_fin[user_fin.고유번호.isin(total[total.cluster == 6].고유번호.unique())]\n",
        "aa[['연 평균 구매횟수','연 평균 구매상품수', '연 평균 결제가 총합', '연 평균 쿠폰사용횟수','연 평균 포인트사용횟수','연 평균 출첵참여횟수','연 평균 일반이벤트횟수','연 평균 드로우횟수',\n",
        "'연 평균 리뷰작성횟수']].describe()"
      ]
    },
    {
      "cell_type": "code",
      "execution_count": null,
      "id": "ee3319cd",
      "metadata": {
        "id": "ee3319cd"
      },
      "outputs": [],
      "source": [
        "zz = total.groupby('cluster', as_index = False).agg({'purchase_score' : 'mean', 'action_score': 'mean'})\n",
        "xx = total.groupby('cluster', as_index = False).agg({'purchase_score' : 'count'})\n",
        "xx.columns = ['cluster', 'count']\n",
        "cc = pd.merge(zz, xx, on = 'cluster', how = 'left')"
      ]
    },
    {
      "cell_type": "code",
      "execution_count": null,
      "id": "b1909700",
      "metadata": {
        "id": "b1909700",
        "outputId": "b166761e-043c-4472-d2e3-0a5a84615f47"
      },
      "outputs": [
        {
          "data": {
            "text/html": [
              "<div>\n",
              "<style scoped>\n",
              "    .dataframe tbody tr th:only-of-type {\n",
              "        vertical-align: middle;\n",
              "    }\n",
              "\n",
              "    .dataframe tbody tr th {\n",
              "        vertical-align: top;\n",
              "    }\n",
              "\n",
              "    .dataframe thead th {\n",
              "        text-align: right;\n",
              "    }\n",
              "</style>\n",
              "<table border=\"1\" class=\"dataframe\">\n",
              "  <thead>\n",
              "    <tr style=\"text-align: right;\">\n",
              "      <th></th>\n",
              "      <th>cluster</th>\n",
              "      <th>purchase_score</th>\n",
              "      <th>action_score</th>\n",
              "      <th>count</th>\n",
              "    </tr>\n",
              "  </thead>\n",
              "  <tbody>\n",
              "    <tr>\n",
              "      <th>0</th>\n",
              "      <td>0</td>\n",
              "      <td>26.5081</td>\n",
              "      <td>11.7527</td>\n",
              "      <td>506992</td>\n",
              "    </tr>\n",
              "    <tr>\n",
              "      <th>1</th>\n",
              "      <td>1</td>\n",
              "      <td>42.1024</td>\n",
              "      <td>12.5649</td>\n",
              "      <td>330733</td>\n",
              "    </tr>\n",
              "    <tr>\n",
              "      <th>2</th>\n",
              "      <td>2</td>\n",
              "      <td>11.9162</td>\n",
              "      <td>16.3010</td>\n",
              "      <td>355017</td>\n",
              "    </tr>\n",
              "    <tr>\n",
              "      <th>3</th>\n",
              "      <td>3</td>\n",
              "      <td>16.5903</td>\n",
              "      <td>24.3406</td>\n",
              "      <td>86493</td>\n",
              "    </tr>\n",
              "    <tr>\n",
              "      <th>4</th>\n",
              "      <td>4</td>\n",
              "      <td>10.8318</td>\n",
              "      <td>10.6515</td>\n",
              "      <td>401032</td>\n",
              "    </tr>\n",
              "    <tr>\n",
              "      <th>5</th>\n",
              "      <td>5</td>\n",
              "      <td>42.1338</td>\n",
              "      <td>31.5811</td>\n",
              "      <td>51215</td>\n",
              "    </tr>\n",
              "    <tr>\n",
              "      <th>6</th>\n",
              "      <td>6</td>\n",
              "      <td>39.2014</td>\n",
              "      <td>19.3353</td>\n",
              "      <td>147306</td>\n",
              "    </tr>\n",
              "  </tbody>\n",
              "</table>\n",
              "</div>"
            ],
            "text/plain": [
              "   cluster  purchase_score  action_score   count\n",
              "0        0         26.5081       11.7527  506992\n",
              "1        1         42.1024       12.5649  330733\n",
              "2        2         11.9162       16.3010  355017\n",
              "3        3         16.5903       24.3406   86493\n",
              "4        4         10.8318       10.6515  401032\n",
              "5        5         42.1338       31.5811   51215\n",
              "6        6         39.2014       19.3353  147306"
            ]
          },
          "execution_count": 183,
          "metadata": {},
          "output_type": "execute_result"
        }
      ],
      "source": [
        "cc"
      ]
    },
    {
      "cell_type": "code",
      "execution_count": null,
      "id": "4c4b599d",
      "metadata": {
        "id": "4c4b599d"
      },
      "outputs": [],
      "source": [
        "cc.to_csv('../DATA_raw2/cluster요약3.csv', index=False)"
      ]
    },
    {
      "cell_type": "code",
      "execution_count": null,
      "id": "87b8c580",
      "metadata": {
        "id": "87b8c580",
        "outputId": "8c1bfeaa-c5f8-44e1-c922-e667c3b47b92"
      },
      "outputs": [
        {
          "data": {
            "image/png": "[encoded data removed]",
            "text/plain": [
              "<Figure size 500x500 with 1 Axes>"
            ]
          },
          "metadata": {},
          "output_type": "display_data"
        }
      ],
      "source": [
        "plt.figure(figsize=(3,3))\n",
        "total.cluster.value_counts().plot.pie(autopct='%.2f%%', figsize=(5,5), \n",
        "                                      startangle=30, legend=False)\n",
        "plt.title(\"군집 비율\")\n",
        "plt.axis('equal') # 안하면 찌그러짐.\n",
        "plt.show()"
      ]
    },
    {
      "cell_type": "code",
      "execution_count": null,
      "id": "df9e6392",
      "metadata": {
        "id": "df9e6392",
        "outputId": "b3fbfda7-d196-4174-85d2-b36f1866284d"
      },
      "outputs": [
        {
          "data": {
            "text/html": [
              "<div>\n",
              "<style scoped>\n",
              "    .dataframe tbody tr th:only-of-type {\n",
              "        vertical-align: middle;\n",
              "    }\n",
              "\n",
              "    .dataframe tbody tr th {\n",
              "        vertical-align: top;\n",
              "    }\n",
              "\n",
              "    .dataframe thead th {\n",
              "        text-align: right;\n",
              "    }\n",
              "</style>\n",
              "<table border=\"1\" class=\"dataframe\">\n",
              "  <thead>\n",
              "    <tr style=\"text-align: right;\">\n",
              "      <th></th>\n",
              "      <th>purchase_score</th>\n",
              "      <th>action_score</th>\n",
              "    </tr>\n",
              "    <tr>\n",
              "      <th>cluster</th>\n",
              "      <th></th>\n",
              "      <th></th>\n",
              "    </tr>\n",
              "  </thead>\n",
              "  <tbody>\n",
              "    <tr>\n",
              "      <th>0</th>\n",
              "      <td>506992</td>\n",
              "      <td>506992</td>\n",
              "    </tr>\n",
              "    <tr>\n",
              "      <th>1</th>\n",
              "      <td>330733</td>\n",
              "      <td>330733</td>\n",
              "    </tr>\n",
              "    <tr>\n",
              "      <th>2</th>\n",
              "      <td>355017</td>\n",
              "      <td>355017</td>\n",
              "    </tr>\n",
              "    <tr>\n",
              "      <th>3</th>\n",
              "      <td>86493</td>\n",
              "      <td>86493</td>\n",
              "    </tr>\n",
              "    <tr>\n",
              "      <th>4</th>\n",
              "      <td>401032</td>\n",
              "      <td>401032</td>\n",
              "    </tr>\n",
              "    <tr>\n",
              "      <th>5</th>\n",
              "      <td>51215</td>\n",
              "      <td>51215</td>\n",
              "    </tr>\n",
              "    <tr>\n",
              "      <th>6</th>\n",
              "      <td>147306</td>\n",
              "      <td>147306</td>\n",
              "    </tr>\n",
              "  </tbody>\n",
              "</table>\n",
              "</div>"
            ],
            "text/plain": [
              "         purchase_score  action_score\n",
              "cluster                              \n",
              "0                506992        506992\n",
              "1                330733        330733\n",
              "2                355017        355017\n",
              "3                 86493         86493\n",
              "4                401032        401032\n",
              "5                 51215         51215\n",
              "6                147306        147306"
            ]
          },
          "execution_count": 175,
          "metadata": {},
          "output_type": "execute_result"
        }
      ],
      "source": [
        "# cluster를 기준으로 데이터 개수\n",
        "df_cluster.groupby('cluster').count()"
      ]
    },
    {
      "cell_type": "code",
      "execution_count": null,
      "id": "a6b66947",
      "metadata": {
        "id": "a6b66947",
        "outputId": "d4497520-7614-4657-f302-a838e1f1dd95"
      },
      "outputs": [
        {
          "data": {
            "text/html": [
              "<div>\n",
              "<style scoped>\n",
              "    .dataframe tbody tr th:only-of-type {\n",
              "        vertical-align: middle;\n",
              "    }\n",
              "\n",
              "    .dataframe tbody tr th {\n",
              "        vertical-align: top;\n",
              "    }\n",
              "\n",
              "    .dataframe thead th {\n",
              "        text-align: right;\n",
              "    }\n",
              "</style>\n",
              "<table border=\"1\" class=\"dataframe\">\n",
              "  <thead>\n",
              "    <tr style=\"text-align: right;\">\n",
              "      <th></th>\n",
              "      <th>purchase_score</th>\n",
              "      <th>action_score</th>\n",
              "    </tr>\n",
              "    <tr>\n",
              "      <th>cluster</th>\n",
              "      <th></th>\n",
              "      <th></th>\n",
              "    </tr>\n",
              "  </thead>\n",
              "  <tbody>\n",
              "    <tr>\n",
              "      <th>0</th>\n",
              "      <td>26.5081</td>\n",
              "      <td>11.7527</td>\n",
              "    </tr>\n",
              "    <tr>\n",
              "      <th>1</th>\n",
              "      <td>42.1024</td>\n",
              "      <td>12.5649</td>\n",
              "    </tr>\n",
              "    <tr>\n",
              "      <th>2</th>\n",
              "      <td>11.9162</td>\n",
              "      <td>16.3010</td>\n",
              "    </tr>\n",
              "    <tr>\n",
              "      <th>3</th>\n",
              "      <td>16.5903</td>\n",
              "      <td>24.3406</td>\n",
              "    </tr>\n",
              "    <tr>\n",
              "      <th>4</th>\n",
              "      <td>10.8318</td>\n",
              "      <td>10.6515</td>\n",
              "    </tr>\n",
              "    <tr>\n",
              "      <th>5</th>\n",
              "      <td>42.1338</td>\n",
              "      <td>31.5811</td>\n",
              "    </tr>\n",
              "    <tr>\n",
              "      <th>6</th>\n",
              "      <td>39.2014</td>\n",
              "      <td>19.3353</td>\n",
              "    </tr>\n",
              "  </tbody>\n",
              "</table>\n",
              "</div>"
            ],
            "text/plain": [
              "         purchase_score  action_score\n",
              "cluster                              \n",
              "0               26.5081       11.7527\n",
              "1               42.1024       12.5649\n",
              "2               11.9162       16.3010\n",
              "3               16.5903       24.3406\n",
              "4               10.8318       10.6515\n",
              "5               42.1338       31.5811\n",
              "6               39.2014       19.3353"
            ]
          },
          "execution_count": 176,
          "metadata": {},
          "output_type": "execute_result"
        }
      ],
      "source": [
        "# 그룹별 평균값\n",
        "df_cluster.groupby('cluster').mean()"
      ]
    },
    {
      "cell_type": "code",
      "execution_count": null,
      "id": "9e3e8c49",
      "metadata": {
        "id": "9e3e8c49",
        "outputId": "9bc13dc0-f042-4622-a72f-f0f534c24852"
      },
      "outputs": [
        {
          "data": {
            "text/html": [
              "<div>\n",
              "<style scoped>\n",
              "    .dataframe tbody tr th:only-of-type {\n",
              "        vertical-align: middle;\n",
              "    }\n",
              "\n",
              "    .dataframe tbody tr th {\n",
              "        vertical-align: top;\n",
              "    }\n",
              "\n",
              "    .dataframe thead th {\n",
              "        text-align: right;\n",
              "    }\n",
              "</style>\n",
              "<table border=\"1\" class=\"dataframe\">\n",
              "  <thead>\n",
              "    <tr style=\"text-align: right;\">\n",
              "      <th></th>\n",
              "      <th>cluster</th>\n",
              "      <th>purchase_score</th>\n",
              "      <th>ratio</th>\n",
              "    </tr>\n",
              "  </thead>\n",
              "  <tbody>\n",
              "    <tr>\n",
              "      <th>0</th>\n",
              "      <td>0</td>\n",
              "      <td>506992</td>\n",
              "      <td>26.9851</td>\n",
              "    </tr>\n",
              "    <tr>\n",
              "      <th>4</th>\n",
              "      <td>4</td>\n",
              "      <td>401032</td>\n",
              "      <td>21.3453</td>\n",
              "    </tr>\n",
              "    <tr>\n",
              "      <th>2</th>\n",
              "      <td>2</td>\n",
              "      <td>355017</td>\n",
              "      <td>18.8961</td>\n",
              "    </tr>\n",
              "    <tr>\n",
              "      <th>1</th>\n",
              "      <td>1</td>\n",
              "      <td>330733</td>\n",
              "      <td>17.6035</td>\n",
              "    </tr>\n",
              "    <tr>\n",
              "      <th>6</th>\n",
              "      <td>6</td>\n",
              "      <td>147306</td>\n",
              "      <td>7.8405</td>\n",
              "    </tr>\n",
              "    <tr>\n",
              "      <th>3</th>\n",
              "      <td>3</td>\n",
              "      <td>86493</td>\n",
              "      <td>4.6037</td>\n",
              "    </tr>\n",
              "    <tr>\n",
              "      <th>5</th>\n",
              "      <td>5</td>\n",
              "      <td>51215</td>\n",
              "      <td>2.7260</td>\n",
              "    </tr>\n",
              "  </tbody>\n",
              "</table>\n",
              "</div>"
            ],
            "text/plain": [
              "   cluster  purchase_score   ratio\n",
              "0        0          506992 26.9851\n",
              "4        4          401032 21.3453\n",
              "2        2          355017 18.8961\n",
              "1        1          330733 17.6035\n",
              "6        6          147306  7.8405\n",
              "3        3           86493  4.6037\n",
              "5        5           51215  2.7260"
            ]
          },
          "execution_count": 177,
          "metadata": {},
          "output_type": "execute_result"
        }
      ],
      "source": [
        "qq = df_cluster.groupby('cluster', as_index=False).agg({'purchase_score' : 'count'}).sort_values(by=['purchase_score'], ascending = False)\n",
        "qq['ratio'] = qq['purchase_score'] / qq['purchase_score'].sum() * 100\n",
        "qq  #  4%"
      ]
    },
    {
      "cell_type": "code",
      "execution_count": null,
      "id": "f79a7c2c",
      "metadata": {
        "id": "f79a7c2c",
        "outputId": "a87d7bd0-33f8-42a5-9475-873fd456f514"
      },
      "outputs": [
        {
          "data": {
            "image/png": "[encoded data removed]",
            "text/plain": [
              "<Figure size 500x900 with 7 Axes>"
            ]
          },
          "metadata": {},
          "output_type": "display_data"
        }
      ],
      "source": [
        "import seaborn as sns\n",
        "\n",
        "fig, ax = plt.subplots(7, 1, figsize=(5,9), sharex=True, sharey=True)\n",
        "ax = ax.ravel()\n",
        "plt.tight_layout() # 자동으로 레이아웃 조정\n",
        "#plt.subplots_adjust(hspace=0.2) # subplot간의 너비 간격 조절\n",
        "\n",
        "for i in range(kmeans.n_clusters):\n",
        "    ax[i].set_title('cluster %d' % i)\n",
        "#    ax[i].bar(np.arange(X.columns.size), kmeans.cluster_centers_[i])\n",
        "    sns.barplot(np.arange(df_cluster.iloc[:,:2].columns.size), kmeans.cluster_centers_[i], ax=ax[i])\n",
        "    ax[i].set_xticks(np.arange(df_cluster.iloc[:,:2].columns.size))\n",
        "    ax[i].set_xticklabels(df_cluster.iloc[:,:2].columns, rotation=90)\n",
        "# 군집별로 의미있는 해석 도출해내기"
      ]
    },
    {
      "cell_type": "code",
      "execution_count": null,
      "id": "062d0663",
      "metadata": {
        "id": "062d0663",
        "outputId": "53f4d035-bd17-4a02-ad42-1a1227384ae5"
      },
      "outputs": [
        {
          "data": {
            "text/plain": [
              "<seaborn.axisgrid.FacetGrid at 0x7fbfd78dba00>"
            ]
          },
          "execution_count": 180,
          "metadata": {},
          "output_type": "execute_result"
        },
        {
          "data": {
            "image/png": "[encoded data removed]",
            "text/plain": [
              "<Figure size 560.236x500 with 1 Axes>"
            ]
          },
          "metadata": {},
          "output_type": "display_data"
        }
      ],
      "source": [
        "sns.lmplot(x='purchase_score', y='action_score', data = total, hue = 'cluster', fit_reg=False)"
      ]
    },
    {
      "cell_type": "markdown",
      "source": [
        "![image.png](data:image/png;base64,iVBORw0KGgoAAAANSUhEUgAABS4AAAMsCAIAAADVrKu0AAAMPGlDQ1BJQ0MgUHJvZmlsZQAASImVVwdYU8kWnluSkEBogQhICb0J0quUEFoEAamCjZAECCXGQFCxo4sKrl0sYAFdFVF0VYrYELGzCPa+KCKirIsFxcqbFLDsK9873zf3/vefM/85c+7cMgCoNXJEoixUHYBsYa44OiSAMSExiUHqBgjQBWRgDggcbo6IGRUVDqANnX+0dzehN7RrdlKtf/b/V9Pg8XO4ACBREKfwcrjZEB8BAC/jisS5ABClvOmMXJEUwwa0xDBBiJdKcZocl0lxihwflPnERrMgbgZASYXDEacBoNoGeUYeNw1qqPZB7CDkCYQAqDEg9s3OnsaDOBliK+gjgliq75HynU7aD5opw5ocTtowls9FZkqBghxRFmfW/1mO/23ZWZKhGBawqaSLQ6Olc4Z1u505LUyKVSDuFaZEREKsCfGAgCfzhxilpEtC4+T+qD43hwVrBugQO/A4gWEQ60McLMyKCFfwKamCYDbEcIWgMwW57FiIdSBeys8JilH4bBdPi1bEQmtTxSymgr/AEcviSmM9lGTGMRX6r9P5bIU+ppqfHpsAMQViszxBfATEqhDb52TGhCl8xuSnsyKGfMSSaGn+ZhBH84UhAXJ9LC9VHByt8C/KzhmaL7Y9XcCOUOBDuemxofL6YM1cjix/OBesjS9kxg3p8HMmhA/NhccPDJLPHXvGF8bFKHQGRLkB0fKxOEWUFaXwx034WSFS3gRil5y8GMVYPD4XLki5Pp4qyo2KleeJ52dwxkbJ88FXgXDAAoGAASSwpYBpIAMIWnvreuGVvCcYcIAYpAE+sFMwQyMSZD1CeIwB+eAviPggZ3hcgKyXD/Ig/2WYlR/tQKqsN082IhM8hTgbhIEseC2RjRIOR4sHTyAj+Ed0DmxcmG8WbNL+f88Psd8YJmTCFYxkKCJDbciTGEQMJIYSg4nWuB7ui3vj4fDoD5sT7oF7Ds3jmz/hKaGd8Jhwg9BBuDNVUCD+KctxoAPqBytqkfJ9LXALqOmKB+A+UB0q43RcD9jhLjAOE/eDkV0hy1LkLa0K4yftH2bw3d1Q+JEdyCh5BNmfbPXzSFUbVddhFWmtv6+PPNeU4Xqzhnt+js/6rvo8eA772RNbih3GzmOnsYvYcawOMLBTWD3Wgp2Q4uHV9US2uoaiRcvyyYQ6gn/EG7qz0krmOFQ59Dh8lvfl8mdK39GANU00SyxIS89lMOEXgc9gC7n2oxhODk7OAEi/L/LX1xu67LuB0C994xbVAOBzcnBw8Ng3LmwVAIct4ePf9o2zXA3f0SMBuFDOlYjz5BwuPRDgW0INPmm6wBCYAis4HyfgBryBPwgCY0EkiAWJYArMPh2uczGYAeaAhaAQFINVYD3YDLaBHWAP2A8OgTpwHJwG58Bl0AZugHtw9XSBF6APvAOfEAQhIVSEhugiRog5Yos4IR6ILxKEhCPRSCKSjKQhQkSCzEEWIcXIGmQzUo5UIr8jR5HTyEWkHbmDPEJ6kNfIRxRDVVAt1AC1QEejHigTDUNj0cloGjodzUcXoyvQjWgFug+tRU+jl9EbaAf6Au3HAKaM0TFjzA7zwFhYJJaEpWJibB5WhJVgFVg11gDv8zWsA+vFPuBEnIYzcDu4gkPxOJyLT8fn4cvxzfgevBZvxq/hj/A+/CuBStAn2BK8CGzCBEIaYQahkFBC2EWoIZyFz1IX4R2RSKQTLYnu8FlMJGYQZxOXE7cQDxAbie3ETmI/iUTSJdmSfEiRJA4pl1RI2kTaRzpFukrqIg0oKSsZKTkpBSslKQmVCpRKlPYqnVS6qtSt9ImsTjYne5EjyTzyLPJK8k5yA/kKuYv8iaJBsaT4UGIpGZSFlI2UaspZyn3KG2VlZRNlT+XxygLlBcoblQ8qX1B+pPxBRVPFRoWlMklForJCZbdKo8odlTdUKtWC6k9NouZSV1ArqWeoD6kDqjRVe1W2Kk91vmqpaq3qVdWXamQ1czWm2hS1fLUStcNqV9R61cnqFuosdY76PPVS9aPqt9T7NWgajhqRGtkayzX2alzUeKZJ0rTQDNLkaS7W3KF5RrOThtFMaSwal7aItpN2ltalRdSy1GJrZWgVa+3XatXq09bUdtGO156pXap9QruDjtEt6Gx6Fn0l/RD9Jv3jCIMRzBH8EctGVI+4OuK9zkgdfx2+TpHOAZ0bOh91GbpBupm6q3XrdB/o4Xo2euP1Zuht1Tur1ztSa6T3SO7IopGHRt7VR/Vt9KP1Z+vv0G/R7zcwNAgxEBlsMjhj0GtIN/Q3zDBcZ3jSsMeIZuRrJDBaZ3TK6DlDm8FkZDE2MpoZfcb6xqHGEuNy41bjTyaWJnEmBSYHTB6YUkw9TFNN15k2mfaZGZmNM5tjVmV215xs7mGebr7B/Lz5ewtLiwSLJRZ1Fs8sdSzZlvmWVZb3rahWflbTrSqsrlsTrT2sM623WLfZoDauNuk2pTZXbFFbN1uB7Rbb9lGEUZ6jhKMqRt2yU7Fj2uXZVdk9sqfbh9sX2NfZvxxtNjpp9OrR50d/dXB1yHLY6XDPUdNxrGOBY4PjaycbJ65TqdN1Z6pzsPN853rnVy62LnyXrS63XWmu41yXuDa5fnFzdxO7Vbv1uJu5J7uXud/y0PKI8ljuccGT4BngOd/zuOcHLzevXK9DXn9723lneu/1fjbGcgx/zM4xnT4mPhyfcp8OX4Zvsu923w4/Yz+OX4XfY39Tf57/Lv9upjUzg7mP+TLAIUAcUBPwnuXFmstqDMQCQwKLAluDNIPigjYHPQw2CU4LrgruC3ENmR3SGEoIDQtdHXqLbcDmsivZfWPdx84d2xymEhYTtjnscbhNuDi8YRw6buy4tePuR5hHCCPqIkEkO3Jt5IMoy6jpUcfGE8dHjS8d/zTaMXpO9PkYWszUmL0x72IDYlfG3ouzipPENcWrxU+Kr4x/nxCYsCahY8LoCXMnXE7USxQk1ieRkuKTdiX1TwyauH5i1yTXSYWTbk62nDxz8sUpelOyppyYqjaVM/VwMiE5IXlv8mdOJKeC05/CTilL6eOyuBu4L3j+vHW8Hr4Pfw2/O9UndU3qszSftLVpPel+6SXpvQKWYLPgVUZoxraM95mRmbszB7MSsg5kK2UnZx8Vagozhc3TDKfNnNYushUVijqme01fP71PHCbelYPkTM6pz9WCP/ItEivJL5JHeb55pXkDM+JnHJ6pMVM4s2WWzaxls7rzg/N/m43P5s5ummM8Z+GcR3OZc8vnIfNS5jXNN52/eH7XgpAFexZSFmYu/KPAoWBNwdtFCYsaFhssXrC485eQX6oKVQvFhbeWeC/ZthRfKljausx52aZlX4t4RZeKHYpLij8v5y6/9Kvjrxt/HVyRuqJ1pdvKrauIq4Srbq72W71njcaa/DWda8etrV3HWFe07u36qesvlriUbNtA2SDZ0LExfGP9JrNNqzZ93py++UZpQOmBMv2yZWXvt/C2XN3qv7V6m8G24m0ftwu23y4PKa+tsKgo2UHckbfj6c74ned/8/itcpferuJdX3YLd3fsid7TXOleWblXf+/KKrRKUtWzb9K+tv2B++ur7arLD9APFB8EByUHn/+e/PvNQ2GHmg57HK4+Yn6krIZWU1SL1M6q7atLr+uoT6xvPzr2aFODd0PNMftju48bHy89oX1i5UnKycUnB0/ln+pvFDX2nk473dk0tenemQlnrjePb249G3b2wrngc2fOM8+fuuBz4fhFr4tHL3lcqrvsdrm2xbWl5g/XP2pa3Vprr7hfqW/zbGtoH9N+8qrf1dPXAq+du86+fvlGxI32m3E3b9+adKvjNu/2sztZd17dzbv76d6C+4T7RQ/UH5Q81H9Y8af1nwc63DpOPAp81PI45vG9Tm7niyc5Tz53LX5KfVrSbdRd+czp2fGe4J625xOfd70QvfjUW/iXxl9lL61eHvnb/++Wvgl9Xa/ErwZfL3+j+2b3W5e3Tf1R/Q/fZb/79L5oQHdgzwePD+c/Jnzs/jTjM+nzxi/WXxq+hn29P5g9OCjiiDmyXwEMNjQ1FYDXuwGgJgJAg/szykT5/k9miHzPKkPgP2H5HlFmbgBUw5P0N57VCMBB2Cz8ZVsVIP2Fj/UHqLPzcBvaq8n2lVIjwn3AdhcpukoXDYCfTL7n/C7vn89Aqiob/sP5XwALepuGOzofAAAAOGVYSWZNTQAqAAAACAABh2kABAAAAAEAAAAaAAAAAAACoAIABAAAAAEAAAUuoAMABAAAAAEAAAMsAAAAAGn0RhcAAEAASURBVHgB7N0JWFRV/8DxiyyxCApuuCuhprnmliTmkvLinlrmSolKC/5Dy9fMXLDQXFJ6wRJTCw3NXNJcyD2XcE9zy5RwRcQFjBEkZpD/nRkGZoYBBhmYO/Cdp8e5955zz/mdzxl9+s09945VVlaWwAsBBBBAAAEEEEAAAQQQQAABBEpLoEJpdUQ/CCCAAAIIIIAAAggggAACCCCgFCAV53OAAAIIIIAAAggggAACCCCAQKkKkIqXKjedIYAAAggggAACCCCAAAIIIEAqzmcAAQQQQAABBBBAAAEEEEAAgVIVIBUvVW46QwABBBBAAAEEEEAAAQQQQIBUnM8AAggggAACCCCAAAIIIIAAAqUqQCpeqtx0hgACCCCAAAIIIIAAAggggACpOJ8BBBBAAAEEEEAAAQQQQAABBEpVgFS8VLnpDAEEEEAAAQQQQAABBBBAAAFScT4DCCCAAAIIIIAAAggggAACCJSqAKl4qXLTGQIIIIAAAggggAACCCCAAAKk4nwGEEAAAQQQQAABBBBAAAEEEChVAVLxUuWmMwQQQAABBBBAAAEEEEAAAQRIxfkMIIAAAggggAACCCCAAAIIIFCqAqTipcpNZwgggAACCCCAAAIIIIAAAgiQivMZQAABBBBAAAEEEEAAAQQQQKBUBQym4gdntms382CpxkFnCCCAAAIIIIAAAggggAACCJQTARszjVPM9idtN67vPotOBncxriq1EEAAAQQQQAABBBBAAAEEEJC8gLlS8S7BJ08GF6KTsuMDnxmnB/TxKqQexQgggAACCCCAAAIIIIAAAghYkIDBBerSiP/y2uUH5K0D3upgrq8LpMFAFAgggAACCCCAAAIIIIAAAmVMQLKpeOrO5d/dcOkzum+NMibOcBBAAAEEEEAAAQQQQAABBMq5gFRT8esbVu2T1xs6ootTOZ8gho8AAggggAACCCCAAAIIIFDWBIqciiviIv06tfOZuS9JUXIWqQdXRv5l2z1gZOOS64OWEUAAAQQQQAABBBBAAAEEEDCLQBHvw1ZcjPgw7HLjCVHTu7sV8dQiDC9x26rtKfXGjfXhkngR1KiKAAIIIIAAAggggAACCCBgGQJFyqdTDn468duE5ycu9vPIPc/kP0umOP5txBnbl2cP45K4ZXyGiBIBBBBAAAEEEEAAAQQQQKBIArkpdWGniSvTJ0zZLvRZFDaivnZdY36WTLt+YduJG5dtSKkydHgvl8JqUo4AAggggAACCCCAAAIIIICABQoYe6+4ZmX619O7lGiKrDi1auUZ2/bjR7c1/ksCC2QnZAQQQAABBBBAAAEEEEAAgfIrYFwqrlqZntpnXpj2yvSSQEvZtWbTA5cBbw3gJ8xKgpc2EUAAAQQQQAABBBBAAAEEJCBgRCquWpm+y31CSV8QFwTFxdXLD8hbB7zVgUviEvhsEAICCCCAAAIIIIAAAggggECJCBSa86pWpt/ptWh9SV8QF4TUvd99f8NlyEeDuSReInNNowgggAACCCCAAAIIIIAAApIQyDcV3z6p3fbsCCv2Wzwt/zvETfYE9cvfR+yTN5kwjEvikvhkEAQCCCCAAAIIIIAAAggggEAJCeSbivdZdDK4i9ipeJv48Cn/HdcgakU+l8VN9AT11INR627Ydg8ZovN49hIaNc0igAACCCCAAAIIIIAAAgggYDaBQu8Vd+kyfc28XnfCRvhHxilKLszrGyK2p9R7c6yPU8n1QcsIIIAAAggggAACCCCAAAIISECg0FRcjNGlS/D6RSWajSuOr438y7Z7wMjGEiAhBAQQQAABBBBAAAEEEEAAAQRKUsCYVFzsX7w2vnZ+iWXjiRuXbUipN/LNHlwSL8m5pm0EEEAAAQQQQAABBBBAAAFJCBiZiguCjVv36d/N9i6BleqKU6tWnrFtP2JIs3xvXJcEFUEggAACCCCAAAIIIIAAAgggYAoBo1NxsTObmr3nfD21nTIbX3k5wxS9K9tI3LJ804Mqg8YO4CfMTEVKOwgggAACCCCAAAIIIIAAAlIWKEoqLo7DxmPw4q8nNov7ym+cabJxxcUNUSfkrceMbsslcSl/TogNAQQQQAABBBBAAAEEEEDAZAJWWVlZJmuMhhBAAAEEEEAAAQQQQAABBBBAoDCBIl4VL6w5yhFAAAEEEEAAAQQQQAABBBBAoGABUvGCfShFAAEEEEAAAQQQQAABBBBAwMQCpOImBqU5BBBAAAEEEEAAAQQQQAABBAoWIBUv2IdSBBBAAAEEEEAAAQQQQAABBEwsQCpuYlCaQwABBBBAAAEEEEAAAQQQQKBgAVLxgn0oRQABBBBAAAEEEEAAAQQQQMDEAqTiJgalOQQQQAABBBBAAAEEEEAAAQQKFiAVL9iHUgQQQAABBBBAAAEEEEAAAQRMLEAqbmJQmkMAAQQQQAABBBBAAAEEEECgYAFS8YJ9KEUAAQQQQAABBBBAAAEEEEDAxAKk4iYGpTkEEEAAAQQQQAABBBBAAAEEChYgFS/Yh1IEEEAAAQQQQAABBBBAAAEETCxAKm5iUJpDAAEEEEAAAQQQQAABBBBAoGABUvGCfShFAAEEEEAAAQQQQAABBBBAwMQCpOImBqU5BBBAAAEEEEAAAQQQQAABBAoWIBUv2IdSBBBAAAEEEEAAAQQQQAABBEwsQCpuYlCaQwABBBBAAAEEEEAAAQQQQKBggbKTiqelpRU8VONLZTKZ8ZVLpyYhGekMlDFQElQSw5ZgVIRkzMeJubNcJeaOuTNSwMhq/JsJlJECRlaT4CfKyMiphoCRAmUnFTdywFRDAAEEEEAAAQQQQAABBBBAwLwCpOLm9ad3BBBAAAEEEEAAAQQQQACBcidglZWVZaGDzrsiPTMz00LHQtgIIIAAAggggAACCCBgvICzs7PxlamJgAQFLDgV19MUM3NHR0e9g0+3K96aIrW/24Rk5FQCZQyUBJXEsCUYFSEZ83Fi7ixXiblj7owUMLIa/2YCZaSAkdUk+IkyMnKqIWCkAAvUjYSiGgIIIIAAAggggAACCCCAAAKmESAVN40jrSCAAAIIIIAAAggggAACCCBgpICNkfVMXU1+9489v+w9duHG3YePMwVrh8p1m/ca/HrXxi7WeXvKvL0tJHhrvNDhnQj/1nmLOYIAAggggAACCCCAAAIIlGWBlIMzX5t09MVF64O7uJTlcZatsalnrfP/Nk33cso7MjNdFb+z59vN8dV6jP3k87AI8fVlyIRXbA6Ezv7uTGreEJMOrTlUb7BP7bwlHEEAAQQQQAABBBBAAAEEnlLg4Mx27dqNiLz+lKeX3mkp++bN2u701uLpxuXhFjMu4wUVSacjP3yjl7c4Ye28e42Zu/tmRu7JMZ928ouKz92XzJZLl+lzhgpbgucfTDEQk5lS8Wq9Ppw51rdVHWd71VVwW6c67d+cMrzu8T0n/tELMvXImo32A19r6aB3nF0EEEAAAQQQQAABBBBAoFCBjJu7F7+bncV16tZnzIzIE3cLPanIFUow/U09+MVnO22HTgtoprOk2YLHpUi6tHXph2P6q1NrdXrdf8yHS7deSlIYkk+NmTvso5MtPvx+78mTJ4/ujBimWDZ8XFTOVygKhVyh0D0x4+bJH8Ue+nTrpGy9nWre15023LpWj2LGv26G5izvXm+8u3jHVQMXi7XOKGTTpu270/rIt4d8GZO3GTOl4tbWeRei2zs4CBkZWt9uiMNKPRW1MX3w8E4GrucXMmiKEUAAAQQQQAABBBBAoLwLiEuE+706Nep4bNJjJYVclnh2R9i2S5bEcvn70O0prceMbqudiFvwuFIOfjpwwId7rf4z6at1O4+KubUqvV731aT/WO39cMDAT/NeQb6+Ycn+bp8u9mtX3U6cOBvHhj2nLxyrCF95UDf91p7Uo8vfnr/817OJMrnqqGreF4zr45+bv2vXVm8r4iL9+4xbsENz1uOk2ONRUQfv561ZlCNOXd4NaP1gy5INOd8caM42Uyqu6T73PfP2rp3nGnm1q5Z7SEg/t37tnR4ju7ppHWMTAQQQQAABBBBAAAEEEDBG4HrUhCnbHwhVOk1YuvWgMus7enDrdzNHNK1kzMnSqKM4vmndDdvur/WtoRWPBY8rceOUabGvRW4ODXileR1Xx+yvF2wcXes0fyUgdHPka7HTpmxM1BqruHk97i9vrw7a30QI9b171Iu9mrso/a+wwcqr3zl3G9hUbNp7wuIfftkXo0r1Y/b9MLdPXUF+YceveTLi7L7EK+/vhF2Q2zYcMPcH9VniSYsndK2t069uYMbt1eg76GXhr8gfT+lVN38qLk+9G3d43YKP5599/v13tLPuzKs71sV6jerlrhcyuwgggAACCCCAAAIIIIBAYQKKgyvDxdzq+QlfixdUa6qyPhvHms37TXyjlcFTr0eO0ErmlFX0Vp2LS8LnjsleVK1cvTxn3VnlPcCq8yZtF7eyE0LtnFDIuPzzDPVJnboN+TBSdYaybfGlan7mQUFQJOyYMURcS52TSarLlX/+cWBXiq13j85ay4QteVwPDu850cVvhEc++a2Nxwi/Lif2HH6QC6De0l+Arl/eZMJGZc4d5VdfXeI1efVsP2/Pqi7K6+iCYOfi2W1w15riJXWbfHoWr7xvEb+06TNvxfSenuqzxJO8/ca9kv3MsnwmX3FwprgGfuw67W8PUnd8IH4Eco85vdzjZSElep9eLm7OVPzMigDxFThp+rytd1v4TZ80wFPrA5Z5O3p1TLORAxrmXcmu1uVPBBBAAAEEEEAAAQQQQCBfgeMHdskFlwHv5Zv45XumwYLEje+/PnXjWfVKd0G5ennTgo1nDFbNOai4GDHSb/YO9Uly2bVfw8a8tuCU3rpqccX2mzN2XMteS51zrmrj4lFxvXbrju20EiWhLIxLd5SF7NX3aHLk+O86atcP7b3h2dCoJ3tnpNyPPfnj3FHvrb7vPsC/n+Fz4g/v+0sQWo95N58H4+U7+TZtvbxthTO/an17oDh1LEYQ2vu+krOQwamjV3sh5eQfcToDzedLAZ06JbXT2j8iwl/ITJc9uH3p1L7wyZHuQyeP7VRVlXvf2fvdr+7Dgp8jES8pfdpFAAEEEEAAAQQQQKAsC1y/ckm8Ubh7hxdMk/Ior+fKhTbvr/9yWEPxCntGyq3LB9afVy51r+8XddJPvMI9abt4bTbnuqySNnHjom/i5FW6z1w6y7eh45ObWz8ZG7xv3fItY9oOrqKhf7Ttsyn7BHEJ/fRh6nuhNQXKd8Wd2wlCzf80zaktHrPocVXp/Er70MiouC5+Bi+MK+KiIg+27/9/2uMVgYe8123Q9Ik1Q1REirSr0Z9NWG4T+H2X3JlVrkcIEwSdCVBNSbamQ50Og+bOf69nXfVV8uyjuW9/X74gCM96tc/JnnOLlFv5T77g1LmHt+2+fTHHUgf3Vn1hoojZK34F1P6VrlqDqNLAw0U48fc1haA1bHNeFVcPz9reubpHe9+xn8weYvVj6LYbyqOpRzZstes7pK32lz/q2vyJAAIIIIAAAggggAACCBgrkO+KZGMb0NSr5Kp8glXa7Vu3ZWniBVo7lzr5L3XPPid+z44zgm33STP7KZN3wa5uv08CXxKEE2LapmlVEA7s+6PXovVh2c8kyz2u2oq/eU0QXCoaSIssdVw1Bs8L8VzvNzAoYs/5W8lKSeVLkZZ86/yeiKCBfus9Q+YN1k+Inbymrv283bmFI3uIC79f9An4yfn9Nd+MyF6LLgiVKld5fuIWnQXq6mZz/3z84PaV85cSdZ8Rnlus3rIx8GxxdUlBk+/UuauXIMT8ejh7Uv84dkgutO7aWSsTF4Sq1cXV8ddu5t7cLrab+0WCfiClvW/t0r5D8+U/X7gzoJ5wcPe5jPhzUwPW6gbxdcBxQag9MHiGL/eP68qwhwACCCCAAAIIIIAAAgYEVDcZmyLpsenYZ0CVnVvWT3xjvSDYOjdo09/v//x8n3MroO3rcZfFRc/aq8tdWr7QRPjtzj3xqdya9LrJu18b+XPhOqOz3HGJP7a9ecul6B+XL3p3/pXb2ev9HdxqNWrZ+9WFWxYaFrVxa+O38Ac/HYKcnVYTd0bm7ORudAk+eTJYENcv3L/xx/ZVXy2Pmvr6mdtRKwxfj1eepsjMzD1bZ6vAyVfdCn7gUMwphY94nV51S0ET7xf1v07QaU+1U8AnJ29lkx2Ry+W2trb6zSU9uG9dtXllQbD3nRHhq1t6J3r2zNv9I/xb6x5mDwEEEEAAAQQQQAABBBAwIFC/0XO2wl/Km4y76z5920BdYw45eU3f+tOLK79cu/XUn4mya8ejgkf+cuZ/m6Z7aZLqPI2Iv3ctXgOf69Nurm5RE+1dT0+tNcvaBfltl4Fx2bglnYlM7bNtV+46ffG68qfee5Pe7pffsJ/6uJ1LVfHxa7M7eTfwe/2rsCW7hnyhXkiu0+CzjZ8Xtl+IOZE4xsNgDl3g5KtuBRdz8d8VXTpc3v9LgtBkSNecS/Y63ejsmCcVv7Bq0pas3r27t21Wt7qTmJJnpj+4HrMhYnNmv6nt7HXiYwcBBBBAAAEEEEAAAQQQeAqBVh28bbfs27Ik6vUX8r8SWqR27er2fHthz7eVC6oTznz70YRvt+w8Nd2rS35tqPI72bg1mwIa51elkOO16zYQhLOPtNaziyeUgXEJ4rcUKY8eCYLWKm6F4rFC59FsuTZ31vn3XfBH7r7elq1754+WhA4oOPu1qeEuLq3+S2dFQm47tdt71RMunFn51UHf4Hye3FbA5Ffp+kr7uSd2HfjjoxrnYwxm4vfvJghCp7o6z4wzz73irUdPH1j73qFVi2dOUj5EPWDCR/PXxdUbPn2yby2e05b7gWALAQQQQAABBBBAAAEEnlbAqcfb45qIvyUd9s7EyJMJqtuSxRT6/Na53x7Lv8m4ozE3xTuKM1LEp24vjjyaW/H6ug/fXbz1/K0U5f3GNnaVqrg5ihs5P7JVp/6zYqK3a/PpJGU6mZGm7E6V3934btLHW2NVZ2U3Ozd4g849w7l95Nmyca9VU0g4/6fOj3uVgXHlGWjBB9yHrlD9PLjhP46GtDr8o87vhV+PenvUjMhDsfez2cVpPxn50ZcHxPvuWzc3nLE3Hhbo4yI82D7F/9Pd2bMlfgYORYRtU85VIZMvKHNxIeXg0R2/7vpLqNelk34fD67FpQjPPttA50K4zk7BAKYsta3eynd0K71F6AV14C6uWS+onDIEEEAAAQQQQAABBBBAQFvAxmP0wtmX3pyx70jY2/3E52trXn0WTdVsar9Xda8trmg/8cWrXl+oD+veU5ueIK5JPx6lfUaVAX06ZidU9Vq1qyL8/dfqcb1WK2uoH+XdeFhQn02Ttu8KfmOXeNNyzqvJhOE524VsNHuxi8u3m46dTB3sk7sOvgyMq5BhF6nYwBPsFLI/d4RN3KE156oWq/SZFdBW3bb68epaT1x36T4l9K1bAd9e2DL1jS25/TeZ8J8J4l7Bky9e3e/ctbWw4PtPl8qFeuO66S+CSD0Wc0JwGdrKI7ddccs8V8V1QmAHAQQQQAABBBBAAAEEECgBAZuavedv/WnuiA6ebg7K5m2da7TsPaHvcwa7cvL55MsRTZ3F+2cF8bevRsz8fntIr9yK9Yd9vnhC75Y1VOXK57Z1GDH/u6k5N4rbtJ343fzBLdXdOLhVdVKl6C5dgtevnNw7+3B294s/H6Z/1TS3G/2tVi/3cpEf2qt5PHd2sWWO69hcb/EJ6KrXpO2C8vfHtF/ioe2TNAe85xawckHfKM9+7dc+WzxhUAfPWurpEOfTzbPDiLk/bc1v8bmqBZeW763Y/o04W9lzrDppRJeqYmEhky/WqPGit7gCQy4XavbwzpOJH9h7QHDx7Z79LYAmXKusrCzNtmW/p6WlOToqF4kU/yWTyZydnYvfjglbICQjMYEyBkqCSmLYEoyKkIz5ODF3lqvE3DF3RgoYWY1/M4EyUsDIahL8RBkZuemrXY4YNPwbt8nblw81+EAx03docS2eWuDzVb2VK4bq3IktnVEkrhvbZ8FjvZ+cF8Pjqrh05ohIEEAAAQQQQAABBBBAAAFdgcYjg/q4nFm56lQ+zzTTrV0e99pO3inZPFxIPfhVxJkqA94bkmclBKl4efywMmYEEEAAAQQQQAABBBCwEAGnLh984iNfFxJxkWTcQqYsJ0zFqa9Cttv2mfZ+zp0MOUVcFc+lYAsBBBBAAAEEEEAAAQQQkJ6A+EixWX1Sv5346cEU6QVHRPkKpBz89ON1woCZ/zX4+2hmeoJ6vtFSgAACCCCAAAIIIIAAAgggoCMgPv9t50mdI+xIX6DgWWOBuvRnkAgRQAABBBBAAAEEEEAAAQTKlACpeJmaTgaDAAIIIIAAAggggAACCCAgfQFScenPEREigAACCCCAAAIIIIAAAgiUKQFS8TI1nQwGAQQQQAABBBBAAAEEEEBA+gI8tk36c0SECCCAAAIIIIAAAggg8PQCAz7+wciTt8x5w8iaVEOgmAJcFS8mIKcjgAACCCCAAAIIIIAAAgggUDQBUvGieVEbAQQQQAABBBBAAAEEyqVAytnID4d069SuXTvvXmPm7ktQlEsFBm0qAVJxU0nSDgIIIIAAAggggAACCJRVgdSYT18L2Nfwo3UHTp48uvNLn9vzBk3YmFhWR8u4SkGAVLwUkOkCAQQQQAABBBBAAAEELFng8vcLdzSfHvZeu+p2gmDj2HTo4sUjE5d8dTDVkgdF7GYVIBU3Kz+dI4AAAggggAACCCCAgOQFLu7e9nDA0F4uuYHaNOs7oOauvadYpZ5rwlaRBEjFi8RFZQQQQAABBBBAAAEEEChvAqnX4hLatHxe99en6jdv7XAp9kZ5s2C8phIgFTeVJO0ggAACCCCAAAIIIIBAmRS4f++OULGik97Yqlav+ff1W3oH2UXASAFScSOhqIYAAggggAACCCCAAAIIIICAaQRIxU3jSCsIIIAAAggggAACCCCAAAIIGCmge7+DkSdRDQEEEEAAAQQQQAABBIogkJWZFpfx8Fim7IZMkD3JSMpSpFjZuFSwc6tg61bBvqZd5Y7Wjh6CYFWEJqlaegJVq7kLZx+JT0vXWaN+/27Cs/XrlF4U9FS2BEjFy9Z8MhoEEEAAAQQQQAABKQlkPr7+793ojOQjTzLuquN6khOePCnz8TX13uNbqyvYVbdz7fRMdV9rh/o5VdiQhoDT8y2bLDx7QdG7g1b6dP38mcfPBdSTRoREYXkCLFC3vDkjYgQQQAABBBBAAAHpCzzJuJd6dfE/595JT9ySk4cXELZYR6wp1hfPepJxv4CaFJW+QP1OXSpvWbcrJbdnxcVtWxIG9PHSys1zC9lCoHABc3105Hf/2PPL3mMXbtx9+DhTsHaoXLd5r8Gvd23sYp0Tc2bK5V9/3Ljr/E1lDTvnBq189Srk1GQDAQQQQAABBBBAAAEJCWQ9vr0u/fbarCcZRQ8q6997uzIe/Gpfa5hDraEsWS86YMmc0dh/2qA+gROWVF8wrl31Cml/bpwy8QfPKdu1r5KXTMe0WmYFzJSK39nz7eb4lgPHftKkprO9tSBPvXVm/bLQ2dfGB/u3Vt2AcefQ/xZvTG4+ZNQHw+pWd7LNTE84v/nb0Nk33/nszRb2ZXY2GBgCCCCAAAIIIICAhQtkPUlPjfsiI+lwccYh5vCPb0WKt5c7eXxgVeGZ4jTFuaLAljlvFNvBpu3k9RGRs2cPffmaTO7g1rL3Rz9O7u5S7GZpoPwKmCkVr9brw5nWuRfAbZ3qtH9zyr9fTtpzYkjrrpUEIfPe4/rjQv7PU/NcBGv7mq3eeHvw9akHTr/RohO5ePn9wDJyBBBAAAEEEEBAwgJPMh7ILs/MTPvbJDFmJB3KTL/t3Di4gl0VkzRII8UTcGnpt3CDX/Ha4GwENAJmulfcWisP14Ri7+AgZGSoF/FYt+g1ICcP11SoVNlVSJHJNLu8I4AAAggggAACCCAgHQHxergJ83D1uMSsXmxTbFk6wyQSBBAwiYCZUvG8sWfe3rXzXCOvdtXyFmUfST1+5Ey155/Lv0K+Z1KAAAIIIIAAAggggEAJC2SJ69JNdT1cO1SxzdS4RYKQpX2QbQQQsHQBMy1Q12KTp969eXr/xq1Hnni9H9jVTatEa1N+c++SLzem9fukL78WoMXCJgIIIIAAAggggIA0BMTntBXz/vACxiGuVH9828OhVvFveC6gE4oQQKBUBayyssz2BduZFQFfH1eNtnLzV/2G92hWxdbQ2FNjo1d8syO+9sDAd3rU1aqRlpamVz0zM1PvCLsIIIAAAggggAACCJS0QJb8vuLv94Usecl1ZFXBztoj1Mq2asl1YVktOzs7W1bARIuAnoA5U3F1KJnpsge3L53at2PnFfehk8d2qpr7NDdB/D2zbV+H7UxqPvyDMZ2ra6XheqNQ7oqZuaOjo4GCoh+SyWRS+7tNSEZOI1DGQElQSQxbglERkjEfJ+bOcpWYO+bOSAEjq5XzfzPFXwIXf4HMSKunrvZMtV5ODSc+9en5nSjBuRNDlWZU+RlyHIGnEDD/veLW9s7VPdr7jv1k9hCrH0O33cgZRObtX8Nmh56qO/7zOQGF5eE5J7GBAAIIIIAAAggggEBpCmQ+vv7vvd2l0KPYi9hXKXREFwggUAoC5k/FNYO0dmnfofm9Py7cUR/IvLRu0Y9pXadOH97CRes6uaY27wgggAACCCCAAAIISEHg37vRpfVMtax/7/0ihSETAwIIFF/APKm4XG7oRpqkB/etq7pVVg0q6dctB6oNfruv9s3hxR8tLSCAAAIIIIAAAgggYFKBrIzkIyZtsKDGMpJjSivtLygMyhBAoPgC5knFL6yaFLw8+kTc3VR1Sp6Z/iBuX8S8zZn9BrazVw7q3sljcS26vJTP89SLP2xaQAABBBBAAAEEEECg+AKZaXFPMu4Wvx0jW3jy793MtKtGVqYaAghIWcA8P2bWevR0qz2/7F21eN2DJFmGIFg7VK7bvOvw6WNaVVcvRpdnZAjnvns/4Dt9u9oDg2f4uusfZR8BBBBAAAEEEEAAATMIZDw8Vsq9ij06OHqUcqeW3p1scXMjh+A88byRNamGQDEFzJOKC7bVW/mObuWbb/C1+s6K6JtvKQUIIIAAAggggAACCEhB4El6QimHUfo9lvIA6Q6BciJgngXq5QSXYSKAAAIIIIAAAgiUbYEn8qRSHuAT+YNS7pHutAQy7p5cN2OY94hIHmWvpcLmUwmQij8VGychgAACCCCAAAIIICAITzJKPxUv7R6ZZ5WAOgn3GfplXI1n1Q+aBgaBYgmQiheLj5MRQAABBBBAAAEEyrNAliKllIefJS/tHkt5gBLt7vr6Octue8/Zvnv11L6NXCQaJGFZlICZ7hW3KCOCRQABBBBAAAEEEEDAoICVjYtQumvUrWzJAw1ORQkfrD8idFkJd0Hz5UyAq+LlbMIZLgIIIIAAAggggIDpBCrYlfav71awLe0eTadFSwggkCtAKp5rwRYCCCCAAAIIIIAAAkUSKP3EuIJtlSJFSGUEEJCmAKm4NOeFqBBAAAEEEEAAAQQsQKCCfc1SjrL0eyzlAdIdAuVEgFS8nEw0w0QAAQQQQAABBBAwvYBd5Y6mb7TAFku/xwLDoRABBJ5SgFT8KeE4DQEEEEAAAQQQQAABa0ePCnbVS82hwjPVrR0bllp3dIQAAiUnQCpecra0jAACCCCAAAIIIFDmBazsXDuV2iDtXL0EwarUuqMjBBAoOQFS8ZKzpWUEEEAAAQQQQACBsi/wTHXf0kqPrZ6p9p+yD8oIESgfAqTi5WOeGSUCCCCAAAIIIIBAyQhYO9R/plrPkmlbp1WxF7EvnUPsIICAxQrYWGzkBI4AAggggAACCCCAgCQEHGqPzHjwa9aTjJKLxqqCnUPtUSXXftlu2Xni+WIO8HrkiMFhf2k1MrhdmHqvz6KTwV20CthEwEgBUnEjoaiGAAIIIIAAAggggIBhgQp21exrDXt8K9JwsSmOiu1XsKtqipZo42kE6vtFnfR7mhM5B4H8BFignp8MxxFAAAEEEEAAAQQQMFbAodZQO7fOxtYuYj07N2+x/SKeRHUEEJC0AKm4pKeH4BBAAAEEEEAAAQQsRMDKyeMDa8dnTR6tjZOn2HJpPRnO5OHTIAIIGBYgFTfswlEEEEAAAQQQQAABBIokYFXB3rlxsGmzcTEPr9hollWFZ4oUCZURQED6AqTi0p8jIkQAAQQQQAABBBCwDIEKdlVcmi0U15ObJFw7ty7OTReKbZqkNRpBAAFJCfDYNklNB8EggAACCCCAAAIIWLaAeG28oufUx7c90m+vfepnqovPS7evNdyh1uusS7fsTwPRI5C/AKl4/jaUIIAAAggggAACCCDwNAJWDrXeeKZqj8fx3/97b7cgZBWlDSvx98PF3y3jeelFQaMuApYnQCpueXNGxAgggAACCCCAAALSFxB/4cyp4UR790H/3vslIznmyb93C465wjPV7Vy9nqn2H2uH+gXXpBQBBMqAAKl4GZhEhoAAAggggAACCCAgUQExr3asF+BYb3xm2tWMh8f+ld2wFlKeyJOy5ClWti4VbN0q2FapYF/TrnJHa8eGLEeX6CwSFgIlIEAqXgKoNIkAAggggAACCCCAgI6AlbWjh4Ojh0Imc3Z21ilhBwEEyqUAqXi5nHYGjQACCCCAAAIIIIBAuRG48cZwI8da74c1RtakGgLFFODHzIoJyOkIIIAAAggggAACCCCAAAIIFE2Aq+JF86I2AggggAACCCCAAAIIlEeBjJu7l8xdEX0uNumxYOvcoE3/gKnv9axrVx4pGLMpBLgqbgpF2kAAAQQQQAABBBBAAIGyK5B6KmyYzzvbHYd9tm7n0ZMnTx5YN6trwsLXx0VdL7tjZmQlLEAqXsLANI8AAggggAACCCCAAAIWLnD/lt2oNZtDA7w9XR2V64rtqjd/fc6nA27+sO2ihY+M8M0mwAJ1s9HTMQIIIIAAAggggAACCFiEQP0BAXl+7d2mavVq9+MfWkT8BClBAa6KS3BSCAkBBBBAAAEEEEAAAQSkLaC4GL3thneHVtKOkuikK0AqLt25ITIEEEAAAQQQQACBMiKg+HmMlfLl4uKielf+ERBdRgZXDoehSIpZMMz/5xbzPvFxKofDZ8gmEWCBukkYaQQBBBBAAAEEEEAAgfwFYi+fE4TxO7IWdpY5OzvnX48S6QsoEvYtmDRzhzDoi7UTvFykHy8RSlWAVFyqM0NcCCCAAAIIIIAAAmVFQHH54kmh04hGZWU85XYcGTe3znpnzqEab/5vi38bN1KpcvtBMMnAzfX5kd/9Y88ve49duHH34eNMwdqhct3mvQa/3rWxi3XusDLvn1rzzdrj12QZ1g7Vn/fxe9PXk/UfuTxsIYAAAggggAACCFiIgOqi+AtNPAVBZiERE2ZegZTjC/zf3+MeFLl3aGN+TTyvD0eKKGCmVPzOnm83x7ccOPaTJjWd7a0FeeqtM+uXhc6+Nj7Yv3V2un1n17zZuyoP/2DBf2vaP0k+s37xopnJ/zdv+HNauXoRx0p1BBBAAAEEEEAAAQTMIKC4ekX8yauTva2WiZ071vB8vv3rU7+c/qqHvRliocunFEjcOOX9Pc1C1k7vztXwpyTkNF0BMz22rVqvD2eO9W1VR5mHiy9bpzrt35wyvO7xPSf+UceXfmzT5rRX3gvoXFNZw9a19fApoxoc/nHXHd3w2UMAAQQQQAABBBBAQOoCNr4RqVmqV0pKUuLB8O4poYNa+ITHSj1u4ssRUBz/dslfAz4lD88RYaPYAmZKxa2t817ctndwEDIyMlRDSj994o/63bo21Krl1KFz2zsnTpOLF3vOaQABBBBAAAEEEEDAbAI2FRv7fL5mcc+0gyHLDpstCjouosDxnVucBvfvYKYlxUUMluqWISCZT1Pm7V07zzXyGlJN5ZaQEO/WqI+bjqF1w2c94i/HZwruWgm6Tg12EEAAAQQQQAABBBCwAIHadRsKwu5/uHG8lOaq3g9riteTIj1dnvDt6Hbf5mmmz6KTwV3yHOUAAoULmD8Vl6fevXl6/8atR554vR/YNTv7/ic5yaGWg174lSq7Cnfu3hMEd70CdhFAAAEEEEAAAQQQkK5A8r17ztWqaf2Pd/zNq4LQon4d6YZMZDoCNt1DTp4M0TnEDgLFFND6F6GYLRX99DMrAr4+rjqtcvNX/ab3aFbFtiiNpKWl6VWXyUz2zaIJm9IL8ql3CclIOqCMgZKgkhi2BKMiJGM+Tsyd5Soxd8ydkQJGVuPfzPyh9k+p/9+kyQumjfN+rtIz96/sXPxW0O66b20c1UAiaBIJQw+w4Kj4eXY9LnYtTsCcqXhr/4gIfyEzXfbg9qVT+8InR7oPnTy2U1Vjl587Ojpqc4uZuan+Qop/7U3VlHaExdkmJCP1gDIGSoJKYtgSjIqQjPk4MXeWq8TcMXdGChhZjX8zC4Qa9NV5p6Vz5w9vNzI2MU2oXLe975yYnwI7aV8nL/D8Ei2U4NyJ45VmVCU6ETRe3gTMmYqrra3tnat7tPf1eOGlEytmhm6r/dmAeoJQydXt8ePHepPxz8Nkwb21+mZyvSJ2EUAAAQQQQAABBBCQrIC9h0/QNz5BZJiSnSECQ6DUBcz0BHUD47R2ad+h+b0/LqgekV7Pw/OfK3FJOtUyr/4dV7tubWMvmuucyw4CCCCAAAIIIIAAAggggAACUhEwTyoul8sNACQ9uG9d1a2yssT6uebNr+//9WpmbrXU44dP1X+pI49syyVhCwEEEEAAAQQQQAABBBBAwBIFzJOKX1g1KXh59Im4u6nqlDwz/UHcvoh5mzP7DWxnr2K07/jG65X3LIk4nJAupuPy5DNr5q255/O65gnrlkhNzAgggAACCCCAAAIIIIAAAggoBcxzr3jr0dOt9vyyd9XidQ+SZBniRXCHynWbdx0+fUyr6jnrz926TpztvOabLyavlmVYO1R/3uf9//o2zCll9hBAAAEEEEAAAQQQQAABBBCwUAHzpOKCbfVWvqNb+RaMZl217aipbUcVXIlSBBBAAAEEEEAAAQQQQAABBCxLwDwL1C3LiGgRQAABBBBAAAEEEEAAAQQQMKGAma6Km3AENIUAAggggAACCCCAAAII5C8w5Zet+RfqlMz7Tz+dfXYQKDEBroqXGC0NI4AAAggggAACCJheIDrAysDLtWdEbE5f5xa0c7JycXGxsnJ9bW2iIOwODIwWC7PfcqopN2JDvfRaC1BWjQ4M3K1TT7NzaeHg4NOaHQPv+tG5Bu1X1tJtL2+nyhicGgftlhlo0uAh2e7ABlZWqliV5elxPwX1qOcqtuJar/+c48l5zklPOBUVMqxHvZ6huUy3o6f1a+PuJEI5ubcZvvKSQvesvFEWTKN7NnsIIFCIAKl4IUAUI4AAAggggAACCEhJwDciK+9LHln39ys5Ud6KbblWnpKSkvXnNOdEMbtVqH9IN/stp5pywzMoRtXaocm9F19RbUWoHmckl+slpqqz0o+vO3bryIrovKmuplExuh3vvbdL1ZJyY83j7so0u/cS7fY0neqMQ37srZQL4vcGxrwUpxd9lhb4SSdN3d0fDdvbfv6xhKws+c09g876zz2sKcl+j/5o4NJU70VfTvLILXh88379yZsuPRChHlz65oXIkfPP5RaKW5oojaPRObUs7mTcPBQ55903+nTr1E58derWZ8yMdaeTDH1KyuLoGVNJCJCKl4QqbSKAAAIIIIAAAgiUpoCNra1Od7a2qtswbWx0D+vU0dpJjl695/fdm8XrwtlXtXsv0yoVNxWP7l/cOee1nl8/98Vva/ts7+4dFHXq5qN88rDsND4xQV6tavYXBzvG67ZnYM9GnuFas4aBgjyHFJdCP7n+wRcDq+SUdFv4W/iItjXFHwW2qdh45PD2/+hfXfcNPfbN+C7KCrkvh46jxndpWFl5zL5yu7793B7+k1uYs1UoTU7Nsr1xfe2sr/6uPeyz77cfOim+Dmz5cpjthneHfXowpWyPm9GVoACpeAni0jQCCCCAAAIIIIBAqQgkJgi13J+qp/SEg6GveS9quuZs4JUhLwWlfyCTixerdVLnsyEtqjUbuvjPtvN2fzu0no2rb/iRSN97S99sVq3BtGN5OxXTf9UlcFlKpbq1DKT2+mvYlVfNla8XZi16w2XEhjTtFsW6OYvQNcfjV009M/qL/q6affHdxibnAVDJx0NWuwzprFVY2KYiNf5UVGDQsVHj9c4ygqawtstOee0REWtn+3l7ujqqqO1cPHtOX/Hxc9vX7n5QdgbJSEpXgFS8dL3pDQEEEEAAAQQQQODpBfLev6xOY939l816oUXI2fxaXtZbrKd/qVusfC3cp9nkCwN+2Br0XDXfiJMrmq0f5BmkvEs8+7K6qr2W084l39j7TZCPh+aqsr2HT9A3e28kXwvpmLfHhp5C3DXx8NXYVbM6v/V9l7Cruqm9ZoX9lcXjs9fEZ2XlbEcNcdRuUayrXjCfczB53ZR9b4QN1U7ENWWKe0fm9Pfb47sstKez5lgh78qvBdxqdp54rtfXq0d56lQ2ikbnjDK9o/VtR844HZ0qCmnp6Tn7bCBQJAFS8SJxURkBBBBAAAEEEEDAjAKa+5fVd1nvGD9+h9b91uemtcwvNFU9nUvd6poNAg8kH/tmZHN1jm3ffPya83fCewqCb7jyT/Urv6vYqi8Bekbc0tRTvivrNpq4bGIjsfD1n5/3eS/y3M7ABmKBdmqvrCi+7tx+5GJsyqw+QxBk0dN/7j7PUCKefj509PvHXon8+eMOhtJ0TQN678qvBVLunYl8TfbFwEDdW+CNodFrrXztKuKiIg+27/9K7fI1bEZrOgFScdNZ0hICCCCAAAIIIICAxQkkrn7VSX1pXetPp8azcpaea65iq5L+nMvX2V8B7A6ooz1iZV359S0f921ft/LDm/uWT/zPszXrdeg3Tf7f0JzUXnktPjA09nB0fA8fzb3hRt7Ufi3y8yVr/OuoA2008YjyYr9qAXv8yreXeny5KqgoaXhO3M9Uath2RPj78s+jruUcU20USqNbvbzsZaTcOr918fiB/ge9lswbrJnC8jJ6xmk6AVJx01nSEgIIIIAAAggggIA0BLKfnKZQyAuNR/ageoj62elaF9g3dEtIKvRMwxWOzRyzvd28HRfvZTd37+KOee22j5mZk9qLD4FT3P9H1jkkakzOBdUGgeFBuuvDDTYuXqnODfLK4k7Ki/3KBeyHv/zFa2r/aqq7mA2eaOjgsdVzdl68r3r2nOLR5aio/XVr5j4ITnWCqWkMRWFRxw7OVD493av7wDeX3ug8Y83XAS1dLCp+gpWWAKm4tOaDaBBAAAEEEEAAAQSKK+BW8/AwW+XvijcNkdUobA24c5W705TryXVeQ/bXdCtuFPmf36Dds1GddfpT72T/CLnWiYYe26ZVnL157cyx9QHZ18pVLXmpfj1cvLFevZHz6+matfNWyuN16ztumPBCXSVUJc+h29t9HzZYz8oMNHkHJ6UjXYKVT08/enD35nl9srZN8un78Y6EfB6jL6WwiUWiAkX77kyigyAsBBBAAAEEEEAAgXIoIP6EmcFEqOOsy6mzZDKZs7M6t8yuZ7h6jVE/pY4yGs/GxiH3aeUGz+oYvDJx5nu93z984uZDZYXKddt3HvXJymCtB7zZdA65nBpi8Gy9g+KCd/Git+GXeN98hLpEebE8MG8lsUKM+qjyFvugPBU8xUfPBX0jaEHpVSkajd7JZXfXxtG1TvNX/Jp37bd75pD3VnhuCmhcdgfLyEpQgFS8BHFpGgEEEEAAAQQQQKAEBXqGhxvVenY9Y6sX1GaDwFADSa/OGTb1+ods7W9Upq1zHjsWJmDj1tPHe2rEkesBjetbWOiEKwkBFqhLYhoIAgEEEEAAAQQQQAABBKQqkJGRYSC0xIR429ruVQ2UcAiBwgVIxQs3ogYCCCCAAAIIIIAAAgiUY4GjIT2GzYjcc/5WijolV6QlnP/xY/9w+dtv93Aqxy4MvTgCLFAvjh7nIoAAAggggAACCCCAgNQF5v2nX/FC7DJtjdXa1Ws/e3d+/O2kx+LvxDvXaOr9+pQ1s7zrkk8Vj7Ycn81HpxxPPkNHAAEEEEAAAQQQQAABIwTs6nr7feztZ0RNqiBgpAAL1I2EohoCCCCAAAIIIIAAAggggAACphEgFTeNI60ggAACCCCAAAIIlKbA/iDX7F/mbhFytjQ7pi8EEEDAFAKk4qZQpA0EEEAAAQQQQACB0hXoFpqcpX6dm9ZS1XV0YOBurRgUR4IbO2Vn69pvPSNuadVSbcaGemnXELcDosUCvQZzz7q0cHDw6dxd/a08zam7jA0NDL+WWzc6QK9P1a5rz4jY3Dr5bMlOrxzXo57qqwjXej2mHUhW11M8urwz9P3BbdxV0Rs4V6dLr1B1R+kXvx3Txl2UcnL3Dvr5ht4PteucooxQdZreUAx0xSEEEChMgFS8MCHKEUAAAQQQQAABBKQlkCfXtVIlu3K5dh55/ferIw5nZ+vab7sD6uiPxjMoRlXj0OTei6+otiJ8lXV0G9SclX583bFbR1ZEZyfAmsO572JzVxa/F3ZV2ZJyY1efyLpiEtto4u8KrQB9I1Q96f7xeGXN36/ktpTP1oMbab3Dfr8pz8qS3/wt8P64CRtlYs3YpW/938H670UGD8jntGt/x723K6e/mCBPZb3DM8Yc6LEu9p+srAenQ1y/GDT/nM7Z2VHeWdF7/A7VqdmnybWHonMGOwggYJwAqbhxTtRCAAEEEEAAAQQQkIqAp/+SsGGtaziq4nGs0XpY2PzhefLrIgebHL16z++7N19SCNmXgnsv021D8ej+xZ1zXuv59XNf/La2z/bu3kFRp24+0squtatn56p3bsurvajO9K8sbqFdweC2PKNaLXeDJdoHGwwIfLVZ1Yri85dtKtbt16dz8j9pYrFn4PpfQl5tXNFWu6r29q0bdp4NtQ+I29fOHOs4YkRjZVv2NbtMCWp2Pc+aAUFQXFq79ULM+p+ThewvQRpN1E3Y9RplFwEEjBAgFTcCiSoIIIAAAggggAACFiCwrLeV+vq4MtZnOzSO6qxa9K37h2vQ/jxDSU84GPqa96Kma84GXhnyUlD6BzLxinPWjvFaFc+GtKjWbOjiP9vO2/3t0Ho2rr7hRyJ97y19s1m1BtOOadVTb9rYCOrLxjKhUu1E9fp37fw173V9dZAubyya9YL+ze/iNwOGl5ynPxS/Ghj2Vc2pr9XIE0HeA7L4G3WaqK6Ea5U1eNXvbtj/zii/UBAR5q1xG9JZq1TMwh9d/inopSF/jj+xvmWY92vbXtj4WJQx5lsFnWbYQQCBPAKk4nlIOIAAAggggAACCCAgYYFr4S+7vDBh7ZlE5aVgQUhLPLN2wgsurkE7BeUa6uz157sDa/T4/Iq6hu5YHn7ZfcQGnYJr4T7NJl8Y8MPWoOeq+UacXNFs/SDPIOVt57a24sXi7FfLaeeSb+z9JsjHwz77iL2HT9A3e28kXwvpqKmU897gWeHKVXHv2t+nV73VPfgP5cJw7fxVsyReTPezF36rUn/1tubmd01r4iJx9YJ5zQHxXZXLO7gOWFFt6g/BnZ21SvLdfHAvQfldhfgSbzAf94N49V/5qj3mu/n2Hze0tbJy6BJeL/jznjpt7Q6q2zeiWsj+Jb7VnguK3h9wb1qbfqob3m3FLxt4IYBAcQRIxYujx7kIIIAAAggggAACpS3QIPCA6q5l3T+SQ/s4OOSmhz3DE1NSdGvk7kUNUa9tz45cbDD52Dcjm6tzbPvm49ecvxPeUxB8w5V/ql95Hl+mvoqt/lP3SXCqLLn3MlXa+/xn99u/PvfXa6GqhvLmr4kJjyrp5L6a/gp7V+XyctmRWfV+GTcsNDutLvikHDfxBvOZTVYPn6m8mK+4FDr2y0qhV8VVAI8PBv4zc1R4rHYrPcOTL/8y7ZVqKlibaq+EHLqzO7CB4BkULv7JCwEEiiNAKl4cPc5FAAEEEEAAAQQQMIdA7k+Z5abEAw/X1r3N+uHxZeN6NFU/aVys5uTeqMe4ZUfuqa8G60aduPrVvE9bd2o8K2fpuc5D1q4sHp/9eDd1eq/7JDhVlpx0LGJsd88aQuKZbXNGtm5QR+x6n9en2vnr7sDA6MTtB2v3f1ETio1tvrd5a6rovttUrNrM5+O5L/0UnnfNvW5NnT3xBvMuHwa2P3zimiDsD//pxQ+Hau4VDxrjtmabTi4uCMemNcg11my5vrY2UadNdhBAoKgCuV8dFvVM6iOAAAIIIIAAAgggYB4Bx8rVHIWHOsvM9QO5u/qDRVZTlh8Ja1g5e0l5+sM7cds/HD6/4u6PW+jVlj2oHnIlS/1M8Zyi6ICApJydIm0krp44N2XM8hM5fac/vHp8+aSJq5eGDdRckFfI76c4iqvDcxvuGR6eu1PA1rUt4b/V6dPneeXAxBu8o35KrdWjgOrZRbER48KrT5zl26yyvfKu8M9P+YQ3ENfgv+D28Xe7R3zWv25F4dHldVH7PV5dqNtW0n2fHfoL5GNDA7aJD2035g513cbMtTd81UAju14zerORNamGQDEFuCpeTEBORwABBBBAAAEEECh9AXlGnjw87dRPe/Wu6OrH9fhxnrPUVZyr3J3WSHPJV/M+ZH9NN/0WTLffsvO/b7toutJ6113truxP/7FtVZ6rdnHWoOeqKE+q2TE4+YNN/1V+taBZQ5+9Nj77x9HF5fLqXxD39Jv68oEJLWuKJ1VpM01zUu0xK2dX+sa3rniveCXPodvbfR822Fl3jG5Vd6rvMNeKsVFwUg29aronsYcAAoUKWImragqtZBEV0tLSHB013zIWL2KZTObsLK1/XQjJyCkFyhgoCSqJYUswKkIy5uPE3FmuEnPH3BkpYGQ1Sf6befPPtbOnLt75+6WbD5XDqFz3uRd8Jn42Z0wn9a3PRg7NQLVr4UHb+oYGNjBQpDmUfHzZf6cu2Ho0VvVwOccani/2mzx3/vgONvx/poao4HfTfqJMfFU8Zd+0gf/dmdJkwsYov/oFj4NSBPIVYIF6vjQUIIAAAggggAACCFiyQOUO47/Zq/2DZKYaTIPA0MBC2nLNp29xWTcvCxdQnIpYdMt/Qp/Fuyx8IIRvZgEWqJt5AugeAQQQQAABBBBAAAEELEVAcTEi5IjvlKENLSVg4pSsAKm4ZKeGwBBAAAEEEEAAAQQQQEBKAoq4VSE/d5oW0Iy1xVKaFguNhQ+RhU4cYSOAAAIIIIAAAggggECpClxfF7zOc9qmtuRQpcpeVjsz48dIfvfEpu+3n7iaIMsQrB2qe3bqP3JQ++q5v6aoKv/5SOzdx5mCnXODVr6DX+/a2MW6rM4E40IAAQQQQAABBBBAAAHpCqTs+N/Squ9v7+Ik3RCJzJIEzJSKp1/aMG/pCdduw8fObFLT2d5anhx3aO1XsxYkz/i4l7vSL/N29IK5R2qNDgiZUMfJNjP9weWdy8NmX/MP9m/NZ9+SPmDEigACCCCAAAIIIIBAGRBI2Tfvy7SgVb1dysBYGIIkBMx0r/jDe7a9PpnzfwNa1RHzcBHC1tWje8AYr3v7Y66qWNKPb9psPTDozfZiHi4esLav0nTA+/5Nz2/Yc0MSbASBAAIIIIAAAgggUOYFkqMDA6PuKSQ+TmWU65IlHqTFh5ca8+W8a0MnD6hh8SNhAJIRMFMq7u49oFNVvbXm1pUrV/on5ZGK5uHDJKFqFTcdJnv3Wq737ifpHGMHAQQQQAABBBBAAIESEZBFT//+hakjVD9CHhszhCAhAABAAElEQVTqZZX7CohWd5h8fE5vdycrK9fmw1de0mTsulWVJ6mqi/ny7jxhynYHNshp1unl8FhVDd2qhbbn6vup99YJJON5dE14QHHxu4WHX5k02sNMS4pNOBSako6AmVJxAwCZV48evdu8aSNVUbX6Ho5X465matdLvfr3HY8G9bQPsY0AAggggAACCCCAQIkIxK/91m786Nrqtq/GOoVdzdK8InyVR2XRH719cUTMgyz55W+aRI6cf05d1TMoRlXv0OTei6+ottTV5XJNsq6up/wz8UJa4J/ZrcrXPnvuirpIp6oR7bkOndJs3dfZ/ee2zpbJBGLWfXvjwbqAF9vlviZtF/4KG6zcn3nQZP3QULkSkEYqnplybk3wgpiG4/062qv4rZu96ud5bGlY9J/JcvFAZnrCie/mbVa8Pqqr7pXycjVXDBYBBBBAAAEEEECgtATORf78/KiXsy+CJt686vFsA92uZTsir749b4SHvWBTrdO02V22bTqtVSE5evWe33dvFq+VRweornv3XqZVmrtpa6O5zmpjm/v44txyzVYh7bV4vctvqw9rKvNuaoEuwSf1X4v6CE0mbFQeDe5i6u5or3wIaP7um2+0mfdPrVny3XGh8zszhrTIfSSbU+s3g932fbPko80PlbHZ1+g2dkaQVrkgpKWl6UUtk8n0jjz1rgmbeuoY9E4kJD2Q/HaByk9G+7gElcTwJBgVIWl/bArYBqoAnJwiCSqJsUkwKkLK+cwUvAFUwT7q0mIo3di1u3abCZoGrvxt3/AFzU52z39flbfv7KI52LLjs8svJ8s8xf+5/vdOzPLJE3e+uDrGZ0mfTu9+siwhaaGTze7333+srqw5RWznUbo8/ZFm/7Fcrv47+Vi+bLDVsq6hl34eU0usVFh7qnhqtGt96cApWavG2dEV7U0TQtHOKunaBUfl7Oxc0gHQPgIlKmDeVFx+9/DKL9acd/OZENJX93fKMm//GrbkQJWBExa9nf0E9f2rZ8845zdleDNNuu7o6KhNI2bmpvoLKf61N1VT2hEWZ5uQjNQDyhgoCSqJYUswKkIy5uPE3FmuEnPH3BkpYGS1Mvdv5u2rT5oOyPk/wsf//DK1jctUQXCs0br7hNBV0152FSpk2ldzz6khuDj+/dcDZ2fPa+F9O6xuHPZj9Mjm9sLK3xsvG/NG65jFd8IdHB1txNq6UBXFS+r2mjYcxMviqm0H2/E7stSr2gWhkPZy5qdVS8fVd52d2+YcMHpDNySjTyvhiqaNas3ozSUcL80jUGQBM6biqRfXzAv/3W3w1EU96uovx7myYdGWqmMWjmymfrSb8gnqvkFT7OZ9Enls0bvZi9iLPFZOQAABBBBAAAEEEEDAKAGFeIk699UzPDUrXLmb/vBi9JSRY1ZH/zTK0Snzn9wVmWL95zwaiDUaBB5IDlRWVb3sm49fc368ajNc1UD28ey3Gh5ZIU2tJqv3HBvN3KdbrNwztj1nl0p5T+ZIyQmIa9ZZmF5yvOWiZbPdK57069fhv9f3nzEhbx4uCHdi/5I1b56dh+fMg9vzLd3/OH8pZ58NBBBAAAEEEEAAAQRKRCCfO7ftKzd7dfLopGNnBaFGTeG3E/HZnSt++/VS/brZF7kSV78qPlZd7+XUeNaxPJE69x8+4r0d2c9tS708q6O6hq2tzuUyo9qTpfyTp3kOIICAhAXMlIpnXtyxJd5rzJttXfR+0UxNVdmtqnXslVidB6gLQtKFs/G1a7lLWJPQEEAAAQQQQAABBMqEQKPn7GKvakaye9ZroQdvPhKfgK54dDlq1ld1u70oCM69/RounRIVly4o7h0JmXGw76A22fVlD6qHqJ+dnp1kK982dEsw9KO8Cnlanier+4aH99R0rXw3qr3YS/JGDbXPYhsBBKQtYKZU/OLxGHvvl/Qve+dQ2bcb2M95/9KwLX8kpCvz8cz0B3GHvwvdeK/Tq91IxXOY2EAAAQQQQAABBBAoGYEGL3e7FqN5JHq39yYJS/t7VrKysq07aHu778MGK58Y5uz7+dJmUV5VrGwbj4t/d9N/W2gica5yd1ojvYviVkP21zT0S0CNXrjpZ6tf18orVP0L4+oWjWkv9sDxZ198ThMB7wggIH0BK/E7utKPMvPUsneXnTLUb4d3IvxbqwoyUy7/+uPG6D+uyTIEwdqhumen/iMHta+uf1d5TiPiY9v0HuSWU1TUDdM+JaKovRusT0gGWfIeBCqvSd4jElQSg5RgVISU98Nj8AhQBln0DkpQSYxQglERkt4nJ79doPKT0T5eXKX4Za9/0WTNIs3vmWk3XYzt4kaVT9fn5gza2m/TxznfBuRTzeDhEgrJYF/GH5RmVMbHT00EChXQuQ+l0NqmqmDddnxERCGNWbs07jF2ao9CalGMAAIIIIAAAggggEAJCNQe9lbG26viXx5TuwQaN22TyevmXRwa9rFpG6U1BBAoWQEzLVAv2UHROgIIIIAAAggggAACxRRw9v105O9zo+6Jt4hL+pUcPf1Qv7ChrpIOkuAQQEBfwDxXxfWjYB8BBBBAAAEEEEAAAakJuIoPUJNaTHnjsYwo88bNEQTKuQBXxcv5B4DhI4AAAggggAACCCCAAAIIlLYAqXhpi9MfAggggAACCCCAAAIIIIBAORdggXo5/wAwfAQQQAABBBBAAAEEyrhA0nFfI0fo1iHayJpUQ6CYAlwVLyYgpyOAAAIIIIAAAgiUX4H0uJ+CetRzFX8Z3LVe/znHk3UlYkO9dH8z3OnD/WKN29HT+rVxdxKLnNzbDF95SfVgONnhWR3Fdlw7zjosy24lNnRk8GmpPzVOd8TsIYCAsQKk4sZKUQ8BBBBAAAEEEEAAAV2B3R8N29t+/rGErCz5zT2DzvrPPaxT7hkUk5X7urK4d8BAb0F4fPN+/cmbLj0QSx5c+uaFyJHzzwlC7Iq5Nz66LJdf/ujG3BWxylaS14Xee3taGxax6pCacSdu5dB2+q8RkdfNGBFdW7YAf7cte/6IHgEEEEAAAQQQQMB8At0W/tbTRv0/1BUbjxze/j3NBe28ISkOfBUz4AN/sbJDx1Hjs8vtK7fr289t5T+CcOvPOq8FVRNLX32tTsAVQWhw+KtTvT4cyv+s55U00xHFtb//fnn2gS96O5kpALotawJcFS9rM8p4EEAAAQQQQAABBEpLwCY7Dxf7Sz4estplSOf8eo5fFZo8dFht7WLFo5unogKDjo0aL57VqOmt9T/dUyju/bT+VtNGQuzSvZ5T+/Nb4dpeZt6+cS22pkcD8nAzT0NZ6p5UvCzNJmNBAAEEEEAAAQQQKH0Bxb0jc/r77fFdFtrT2XDvitPLt7WfNDi3NDrAysrW+YWJ53p9vXqUp3iSp/9nTb9pUcm28VdNP/OvsnFbpbGDE8N7izeUu3acdkDvFnTDfXC0RAWUF8UbN6xfon3QePkSIBUvX/PNaBFAAAEEEEAAAQRMKpB+PnT0+8deifz54w75XsSWbfnfmb5+LbT69Y0Q7xR/fCXyNdkXAwOjlam2c5vJO+6kZiXvnux5dHnCy8NsVk09POLcP1lxs+5/9rV4Mzkv8wpwUdy8/mWxd1LxsjirjAkBBBBAAAEEEECgVATiV7691OPLVUH5p+FiGLErVroGjdZZnK4Kzr5yw7Yjwt+Xfx51LTdYxeH//drcr41NYoLjix3Fm8ddfQd6XL+VW86WeQTuxN9I+HZ09mPbOnXrM2bGutNJPN7ePJNRRnolFS8jE8kwEEAAAQQQQAABBEpd4PCXv3hN7a982lr+L/Xz2l7OrXNs9ZydF+8/UqZxikeXo6L2161ZRXO64vT8H2q+6yuuZK9RM+3osXsKITl6c1z9Oppy3s0l4DX9yEnN6+jeTV++VfvwR338I+PIxs01I5bfL6m45c8hI0AAAQQQQAABBBAwi8C1M8fWB9TR+ulwr9BYMRDx58TVG8qg4lfOv6v7vLa69R03THihrq14XiXPodvbfR+muYlccSn8f4K/+vp5jdFzO0e1qGTlMavqJ+9or203y0jpVFvAxtHV0ztg8dfjFGELtjzQLmEbAeMFrMS7VIyvLeWaaWlpjo6OJolQJpM5O4vfRUroRUhGTgZQxkBJUEkMW4JREZIxHyfmznKVmDvmzkgBI6vxbyZQRgoYWc20n6ik475G9uvWIdrImmI18ZfGR8S/f2S6l/GnUBOBHAGuiudQsIEAAggggAACCCCAAAIIFEHAwf6ZItSmKgJaAqTiWhhsIoAAAggggAACCCCAAAL6Ag9OxVzO0DuouBi97YZ3x1Z6h9lFwEgBUnEjoaiGAAIIIIAAAggggAAC5VQg4Uf/HsPmbj1/K0WZkSvSEk5GBAT84Bo0pkvu8/jKKQ3DfloBPjpPK8d5CCCAAAIIIIAAAgggYAkCRboD3NCAqvQN3dvh5E/hiwIW/ZkokwsObi27+f9vy+A2boZqcwwBYwRIxY1Rog4CCCCAAAIIIIAAAgiUZwG76u2Gzl45tDwTMHbTCrBA3bSetIYAAggggAACCCCAAAIIIIBAIQKk4oUAUYwAAggggAACCCCAAAIIIICAaQVIxU3rSWsIIIAAAggggAACCCCAAAIIFCJAKl4IEMUIIIAAAggggAACCCCAAAIImFaAVNy0nrSGAAIIIIAAAggggAACCCCAQCECpOKFAFGMAAIIIIAAAggggAACCCCAgGkFSMVN60lrCCCAAAIIIIAAAggggAACCBQiQCpeCBDFCCCAAAIIIIAAAggggAACCJhWgFTctJ60hgACCCCAAAIIIIAAAggggEAhAjaFlFOMAAIIIIAAAggggAACCFiywJZpq4wMf0DIaCNrUg2BYgpwVbyYgJyOAAIIIIAAAggggAACCCCAQNEEuCpeNC9qI4AAAggggAACCCCAQPkUUCTsC/v0q59PX5PJbZ1rNPUeHfTh0JYu5dOCURdbgFS82IQ0gAACCCCAAAIIIIAAAmVdQBEX6e+3zXPG51tCPV3sFGkJl/Z+d+JPoWXHsj5wxldCAmZMxeV3T2z6fvuJqwmyDMHaobpnp/4jB7Wvbqs90NTYvWvXR/9xTaxh51yzYft+o4e0rWqtXYNtBBBAAAEEEEAAAQQQQKCkBS6v+HBNg5D107uor4LbONZs3m9q85LulfbLsICZUvH0SxvmLT3h2m342JlNajrbW8uT4w6t/WrWguQZH/dyz+ZOPbNi5veyHv5TRzauItZIvXVxz9G/ktpWrVaGp4OhIYAAAggggAACCCCAgOQEFMc3rXMbszY7D5dceARkiQJmemzbw3u2vT6Z838DWtUR83DRzdbVo3vAGK97+2OuZiumH4tckdhj0gTfpmIerqzhVKfVgCEvkYdb4qeMmBFAAAEEEEAAAQQQsGSBPw7squn9Yg1LHgKxS03ATFfF3b0HaC5+54hYV65c6Z/7j9T7Sb/9eqXjwIBarEbP8WEDAQQQQAABBBBAAAEEzCHw4FpcSoPmTw5Fzvj2x0N/JsrkgoNby96Tgz/oWdfOHPHQZ1kQMNNVcQN0mVePHr3bvGkjVdE/Z09fb968CYm4ASgOIYAAAggggAACCCCAQGkKPHqUIhyMWHDSof/Ha3ceOXny6MEf57x8e+Hr4yLjFKUZB32VJQEzXRXXI8xMObdu4de/Nxwf3NFeVZRwO9696jPXD6/bvCfnuW7P+4wa1auxC+m5Hh67CCCAAAIIIIAAAgggUNIC3Sd9NbFLdifiQ9va+S1e/Oh1/8iYEcFdpJFTlTQA7ZtYwPwfm8z7p9Ys+e640PmdGUNaOGUPL/1x2p3jG/f5+AycMKC++qFtZ9YvC519e3ywf+vsSmlpaXoYMplM78hT75qwqaeOQe9EQtIDyW8XqPxktI9LUEkMT4JREZL2x6aAbaAKwMkpkqCSGJsEoyKknM9MwRtAFeyjLpWgkhiYBKOSYEiFQjk7OxvzGTBRnfoNPYV9N+MFobZWgzbNWrSQR1yNF7rU1zrKJgJGCpg3FZffPbzyizXn3XwmhPTVv97t7jN2rK/mhnLxoW3t35yiCJ/888E+rbOPOjo6ag9SzMxN9RdS/MfIVE1pR1icbUIyUg8oY6AkqCSGLcGoCMmYjxNzZ7lKzB1zZ6SAkdX4NxMoIwWMrCa1T9TzLdtf2HP0wYjBVYwcANUQKEzAjPeKp15c8+mszY97TV00ZUCePLxW7TuJ9/SCd2r4rHv87Tt6R9lFAAEEEEAAAQQQQAABBEpSoMp/BnY/E/XDRe07wxXHYw5VadeaS+IlCV+W2zZbKp7069fhv9f3nzGhR13bvMDuDT2f+ePcpbwFHEEAAQQQQAABBBBAAAEESlnAyeeDWc/+PHFi5Mm7GWLXGXdPRk6cvt97mn+rUg6E7sqMgJkWqGde3LEl3mvcxLb5PYXtuc5dnT7fc2TAc500t48LQtKFs3eaejUsM/YMBAEEEEAAAQQQQAABBEpeYEDI6OJ3UsNn7trqUXNChi69JpPbOjd46c3P145o41L8hmmhnAqYKRW/eDzG3ntyswKehl6vr3+v4EXzvrN5540XatoL6Qm///D15sx+U70qldOZYtgIIIAAAggggAACCCBgRgEbtzZ+Czf4mTECui5LAuZJxTMzMjKTdn4esDMPZYd3Ivxbq45aNxw4fXrtH1Z8MXm5LEOwc27QYej0ye2rF5C952mMAwgggAACCCCAAAIIIIAAAghIT8A8qbh12/EREYVj2FZvP2pq+1GFV6QGAggggAACCCCAAAIIIIAAAhYjYLbHtlmMEIEigAACCCCAAAIIIIAAAgggYFIBUnGTctIYAggggAACCCCAAAIIIIAAAoUJkIoXJkQ5AggggAACCCCAAAIIIIAAAiYVIBU3KSeNIYAAAggggAACCCCAAAIIIFCYAKl4YUKUI4AAAggggAACCCCAAAIIIGBSAVJxk3LSGAIIIIAAAggggAACCCCAAAKFCZjnx8wKi4pyBBAwg4DiyZP4lIeJjx7de/RIlpH+ryJT8STTpoL1MzbWznb21SpWrFGxYm2XyjYV+ArPDLNDlwgggAACCCCAAAJlSYBUvCzNJmNB4GkEUjMyziTEX7h753pykpiNF9yEmIfXd3V7vrp765q1nezsCq5MKQIIIIAAAggggAACCBgUIBU3yMJBBMqFwIO01J1X/jp35/aTrCwjByzm6n8/uC/+t+3ShZbutXo1alLF0cnIc6mGAAIIIIAAAggggAACagFScT4JCJRHgUcZ/+6NvXL05jXjk3A9JvFE8Vr62Tu3O9Vr0OPZxlwh1/NhFwEEEEAAAQQQQACBAgRIxQvAoQiBMiiQlZUVc+vGb/E3/lUoij88MSH/7frVk/E3ezzbqEuDZ62srIrfJi0ggAACCCCAAAIIIFDmBUjFy/wUM0AEcgXE9PuHs6cv3r2Te8gUW2KzO/768/rD5DdatrGz5l8VU5jSBgIIIIAAAggggECZFuBJyGV6ehkcAloCSY/Tvjr2m8nz8JweLiTeWXL0t+THaTlH2EAAAQQQQAABBBBAAAGDAqTiBlk4iEBZE7jxMDn8yKE7spQSHZjYftiRQ2JfJdoLjSOAAAIIIIAAAgggYOkCpOKWPoPEj0DhAuKV6u9+Py7+aFnhVYtdQ+xF7Itr48WGpAEEEEAAAQQQQACBsixAKl6WZ5exISAKiDdyf/f7idLJw9XgYl+Rv5/IyDTBY+GYQQQQQAABBBBAAAEEyqQAqXiZnFYGhUC2gPi8dPE5bSW9Lj0vd4IsRexX7D1vEUcQQAABBBBAAAEEEECAVJzPAAJlWeDgtb9L7jltBcOJT3ETey+4DqUIIIAAAggggAACCJRPAVLx8jnvjLpcCDzK+Hfv31fMOFSx99JcGG/GkdI1AggggAACCCCAAAJFEiAVLxIXlRGwJIG9sVfEG8XNGLHY+96/L5sxALpGAAEEEEAAAQQQQECaAqTi0pwXokKguAIP0lKP3rxW3FaKff7RG9fFSIrdDA0ggAACCCCAAAIIIFCmBEjFy9R0MhgEcgR2XvnriQSempaZ9WTXlb9yomIDAQQQQAABBBBAAAEERAFScT4GCJRBAfEO7XN3bktkYGfv3OaOcYnMBWEggAACCCCAAAIISESAVFwiE0EYCJhS4ExCvBQuiauHJEYixmPK4dEWAggggAACCCCAAAIWLkAqbuETSPgIGBK4cPeOocNmO2auH1Qz24DpGAEEEEAAAQQQQACBAgVIxQvkoRABCxRQPHlyPTlJUoFfS04So5JUSASDAAIIIIAAAggggIAZBUjFzYhP1wiUiEB8ykOp5b1iPGJUJTJaGkUAAQQQQAABBBBAwAIFSMUtcNIIGYECBRIfPSqw3DyFdyUZlXks6BUBBBBAAAEEEECg3AuQipf7jwAAZU7gniST3rupUvyCoMxNPgNCAAEEEEAAAQQQsAwBUnHLmCeiRMB4AVlGuvGVS62m7N9/S60vOkIAAQQQQAABBBBAQOICpOISnyDCQ6DIAv8qMot8TsmfkJGpKPlO6AEBBBBAAAEEEEAAAcsQIBW3jHkiSgSMF1A8kWIqLs+UYlTGq1ITAQQQQAABBBBAAAETCpCKmxCTphCQhIBNBWtJxKEbhK21FKPSjZE9BBBAAAEEEEAAAQRKScCmlPox0I387olN328/cTVBliFYO1T37NR/5KD21W3z1sy8vS0keGu80OGdCP/WeYs5ggACOgLP2Egx6bWzNuO/Njo+7CCAAAIIIIAAAgggYHYBM/3PcfqlDfOWnnDtNnzszCY1ne2t5clxh9Z+NWtB8oyPe7nroSQdWnOo3mAfYWOyXgG7CCBgSMDZzt7QYTMfc37mGTNHQPcIIIAAAggggAACCEhGwEwL1B/es+31yZz/G9CqjpiHixi2rh7dA8Z43dsfc1WPJvXImo32A19r6aB3nF0EEMhHoFrFivmUmPNwdScpRmVOEfpGAAEEEEAAAQQQKMcCZkrF3b0HdKqqt4jWunLlSv+k6P70cOqpqI3pg4d3cirHU8TQESiiQA1ppuKSjKqItFRHAAEEEEAAAQQQQMA0AmZKxQ0En3n16NG7zZs20ipKP7d+7Z0eI7u6aR1jEwEEChGo7VLZpoJ0/moroxXjEaMqJG6KEUAAAQQQQAABBBAoNwLS+P/1zJRza4IXxDQc79cx9ybXzKs71sV6jcpz73i5mRsGisDTCYh5b31XaX2B1cDVTWrfDjydLWchgAACCCCAAAIIIGASATM9tk0r9sz7p9Ys+e640PmdGUNa5C5Ez7wdvfr/2bsPuCbONw7ghyTIHgoCKooITtwbESdS3FVb66p1FKxii221f6V1VWzVqrRiK67WWrS2dVdQqXviwi0KCg5kygpLEsz/vSwuCcEEA1ySXz79kBvveN7vBcuTu3vvQptJK5spXMZeXrOoqKh8RbTE4/EUtlR5VYtNVTkGhYoISQFE1SqgiIy7jd2jl1mqiGp+e3MbO3WOizplajh4hKQmOKDUgWKhEgmbhVEhJHU+Tjh2uquEY6fmsXsjlJWVlfpNoSQEWChQu6k4P+PctjU779TzmxM6rIU1M+lOO/7bKafxS1sxtynwmZubM7eQzFxbv5DkjwBtNcWM8G2WEZKaeoASQ/Wo6xaTlPhaKFTTrVqL1TEy6uHqZmFiUnkvOHaV+4j3slCJBMbCqBCSOh8nHDvdVcKxw7FTU0DNYiz8N5OdH3I1PVEMAmoK1GIqXnhv58rw6/XGLFg70EXhaeKFF/85ZDJsaZfyk+RqDgfFIAABWoDkve2cGt5MTWEDR3unhm/Mw9kQJ2KAAAQgAAEIQAACEIBAjQnUWiqefeqX8OtNpy/6qIvc2XDRwNPOxNwuTbm9IHCXvMMvgZcpqtGopYv8FZ89Ll8OaxCAAOXn0fJ22otaPzFubFRnsEdLHA8IQAACEIAABCAAAQhAgClQS6l42b2oAyleH8+tIA8n0Tn5L4rwZ0ZJUWnRyxa/GBExvaP8ZqxBAAIqBOqbW/R0cb3wNEnF/hra3LNJUxJJDXWGbiAAAQhAAAIQgAAEIKAjArU0g/q9yxdM+/RuU8md4DrihzAhwGKBge4edTm19HWbiIX0PrB5CxYLITQIQAACEIAABCAAAQjUjkDt/JleVlpaln30+8CjSoPu/gnOfCuhYAMEqiZgaVJ3YHOPqAf3q1b97WuR3nGX+NszogUIQAACEIAABCAAAf0TqJ1U3LhLQESERpj0NesaVUBhCECACPi4Nn+Sm3M3Pa3mNTwdnUjvNd8veoQABCAAAQhAAAIQgAD7BWrpAnX2wyBCCOiFgJGR0QftOzlZWdfwaJytrMe170R6r+F+0R0EIAABCEAAAhCAAAR0QgCpuE4cJgQJgaoLmBhzPurcrSYvFCd9TencjfRb9aBREwIQgAAEIAABCEAAAnotgFRcrw8vBgcBkYCdmflHnbvXTDZOeiF9kR5hDwEIQAACEIAABCAAAQioEkAqrkoG2yGgVwJNbO3m9OpT3Veqk+vSSS+kL72yw2AgAAEIQAACEIAABCCgbQGk4toWRXsQYKsAOVM9u2fvNg2cqinAto5Os3r2xvnwauJFsxCAAAQgAAEIQAAC+iSAVFyfjibGAoE3CJD7tz/s1HWgq5t2nzdOWhvSsvXkjl1xf/gbDgB2QwACEIAABCAAAQhAQCSAeZXwQYCAYQmQWc17NWrS283j+KOHF58mvxYK32b8xkZ1ejZpOrB5i5q5Ef1tQkVdCEAAAhCAAAQgAAEIsEcAqTh7jgUigUDNCZDMeURrz95Nmx1LeHAr7UUVEvI6RkbtnRoO9mhZ39yi5uJGTxCAAAQgAAEIQAACENALAaTienEYMQgIVEmAZNHjO3QmOfmN1JR7GWnJOdmC168rb4lTp46rXT1yw3lH50Y4E165FfZCAAIQgAAEIAABCEBAlQBScVUy2A4BQxEgGTU5PU7+I3l4Sn5uRkFBRmEB79Wr0jIBv6yMa2xM7gC3qlu3gYVlA0vLRta2JBs3FBqMEwIQgAAEIAABCEAAAtUjgFS8elzRKgR0UIDk2E1t65H/dDB2hAwBCEAAAhCAAAQgAAFdEsDZLV06WogVAhCAAAQgAAEIQAACEIAABPRAAKm4HhxEDAECEIAABCAAAQhAAAIQgAAEdEkAqbguHS3ECgEIQAACEIAABCAAAQhAAAJ6IIBUXA8OIoYAAQhAAAIQgAAEIAABCEAAArokgFRcl44WYoUABCAAAQhAAAIQgAAEIAABPRBAKq4HBxFDgAAEIAABCEAAAhCAAAQgAAFdEkAqrktHC7FCoJoFBE+Ph308sHUTOyP6ZeHUaXjIvscl1dwpmocABCAAAQhAAAIQgIDBCSAVN7hDjgFDQLVAcvSfd9vO33P9GV8oFPLTz3xpEzm63ZhtKaprYA8EIAABCEAAAhCAAAQgoLkAUnHNzVADAnor4B64eXOwXxt7Sw4ZIseyxcQlwb2KovYcTdfbEWNgEIAABCAAAQhAAAIQqA0BpOK1oY4+IaAjAjn3biVRTm1bOOpIvAgTAhCAAAQgAAEIQAACuiGAVFw3jhOihEANC5Tk3ju64r0e4/d5hh5Y4F3DnaM7CEAAAhCAAAQgAAEI6LkAUnE9P8AYHgQ0FUgM8yJTtpnZtX1nXfroXdcPLexup2kTKA8BCEAAAhCAAAQgAAEIVCqAVLxSHuyEgOEJuAdfIHO2Feek3v3jnUdfetbvPP90juEpYMQQgAAEIAABCEAAAhCoToGqp+JfLlmTlY2/0Kvz4KBtCNSegKmtUxu/hX/Hbhv+YPUH352rvUDQMwQgAAEIQAACEIAABPRQoOqpeGlp6YqwzVkvkY3r4ccCQ4KARMCuRWsXKr+oGCAQgAAEIAABCEAAAhCAgBYFqp6KN23sXFrKX74uIhPZuBYPCJqCQC0KRAd7Tlix/1pSbgkdhKDg2ZmlwaseNJ39Qf9aDApdQwACEIAABCAAAQhAQP8EqpiKb43cm/Q0hdxQWloq+HbNRmTj+vfJwIgMUaD/p2u6p2/9ZHCr+mTiNiOuY7fPrnpvuhO3ypt+zDheEIAABCAAAQhAAAIQgIC2BKqSipM8PO72fZKHC4WUKBvnL139c+bLbG3FhHYgAIHaETB18wv+8dDlhLRC0e93YVrcodCJbTGBeu0cDfQKAQhAAAIQgAAEIKDHAuqe7Dp68nzUf2fJn+c2VpY5efmiv9PpPJy8WjZ3vZ/w+Psft6xZNl+PpTA0CEAAAhCAAAQgAAEIQAACEICAVgTUTcX9+ve+evNuWnqWQh7u26/XmGG+WgkFjUAAAhCAAAQgAAEIQAACEIAABAxBQIML1EOCAxwd6otOhEvOhyMPN4SPCMYIAQhAAAIQgAAEIAABCEAAAtoV0CAVf/1aWM/WWnx/OEnIzc1NcT5cuwcDrUEAAhCAAAQgAAEIQAACEICAIQioe4E6sThz8eqd+Ec9u3Z4/ORZalpmQUHR2wHxM67s/ePwlaRUXillbNbAvdeISaO7NeDKGi3Lf3jqrz3H7jzLLS6jTKxcO/iPeb9fC2tjWQEsQAACEIAABCAAAQhAAAIQgAAEdFBA3VT8cfKzfw7FTJvwbteObckwF6/ckJWdU/XxlsT/s3LjFbv+E2YsbulsZWrMz3l8dtfPS1bnLFo42IluNu3sT+v25HiOnfzFeJcGFtyyktQ7+38NW/bsk+UftTOter+oCQEIQAACEIAABCAAAQhAAAIQqG0BdS9Q/+ff/xYGzxDn4STmpV/Nfn/kO1UPPjeTO/jrFZ+O7NCY5OGkGa6d24DAaV6ZJy8kiRotyyxu+nHo4snebiQPJ1uMTZ07fDBzjMPF03ElVe8VNSEAAQhAAAIQgAAEIAABCEAAArUvoG4qPj9oakOnBsx4+3p1Za5qtuzUZ2Qve4VLzY1tbW3y8gtEDRm3GzzS3UKhTRtbOyqfx1PYilUIsFQgOtCIfllbW4veJT/sfCMSZQHfXt3VQrzd7r1d6RQVExQUTXZK3mTF6IXEMC9mM2Q5kC4aHRQUI1dOuhL/w5ilcdKVCt4l0cnatAs+SZeSb0+5U7q8RYvgGDV+D0tSr0WGjh/YxDesfMCkh5zLYRM87Ugzdk0Grr2lFJl8l6IxkjqnQwY2IXUsnPoEH3wqUKgkX4WOsHIahepYhQAEIAABCEAAAhCAQM0LqJuKV39kZUmXLmV4tvZQ2VPh5Ys3HNq2clBZADsgwCoB/wjR8wby8/NF7+If/O0u1xNkYT5PbL+LT++4H2KVTrJbAZ9P75O8yYrRC+7BF0QtnJ03ZF2CaCnCn97O5ytmpvTWksu7Y59f3Bqt+i4SEl3U7NnHRC3RCzuLB9BJ7JANzPaknYpKSX/wY6fm3yXfG7zhFf2/URsL+6z98XM3ZsGUbZMmXR269xkZdeqt9aPsmftEy0mJFuuTpF0JRWNM2TZtucni2FShMC9xvUfE5FW35WtJo1SPRr4u1iAAAQhAAAIQgAAEIFArAuxIxcvyb+9cuvpCs4ApPSq+EZz/7HjY4h35w2cNa1IrTOgUAloS4HDLZyakm+RyRfM1cDjym1X1lhO947/rMfvjBZTkrPaQTfJFBQVZ946ueM/3l1Zrzu8aenhAn+DIa88KKsrWST1JGp+eynewl3xxEBUg314Faxx+qZ2zYwU75Df5h8VuDvBxlv+Nvr39Z7vvfpnYwpKM2tS2jVtD+ToUlf4sya25q/zWW7FWs74StcSx7Dj7x3dv7a3odP8baeQbxRoEIAABCEAAAhCAAARqU0DdaduqL8ayrGs7N/x2mfL+ZNHYdorXpNPdFiZGb90cldJo1IJ5AxsyLmovKlKcwp2nvavXtdiUtugQkpqS7IbKSOLbt5eFWEzOgotWCkr4JQU8nmRdtpk55FdpF7bMm3u0544LfhuG9pr19abU7B8sODGffVYsa+7ODz39t9mPmh28aN8c17rFlPd3MT//t2XNpNb7k8btvbu4G6M5ug6f4hfn8Hic1AwzB+u904zG/EoXmLrnB8kvUsxn1uJNjHrSxSXPStO2jjKXrlKk7L/D8n/0lW2QLkhGJr6gPePs6dbDPxEPWVqA+c7jJTwybdZZNiDxPjun21+uOd9rVnsLjqDwZQ4/89atVJ67ZXlFNWjKC2u4pBCLhrWrpTgLQyLjZGFUCEnNzx+g1IFioRJ+79Q5cOxUYmdUuvght7KyUvNjgGIQYKmA7ErQ2lgoTT+7cf4nQd/vf5AnqKh/Qd6D/d8HfTJ/49n00or2M7cVFhYyV99mWf6K4rdpSWt1EZKalKyBSljXS/WvvOfym+LxRAUERImWEtYF0Jedy85JSzaXjzppvY9t9xk7bheLNhXfjhjf1pG+vFx2kXl50TcvSZQknQqPzXZ0cXc096EvDJdFxGhFWo7exFxmFFG9KFchYd3o0XNnDHCxJTbmjt6fHXgiujxfXFsU1bHZkvTe3LHjsOWnskW7+Pe3ju/oSO+wdRkwY0KvXpJL9MX1tEojPxDWfJzKw2JhSCQ4FkaFkMo/NJUuAapSHslOFiqRyFgYFUJS5+OEY6emEjuh1A8eJSGgjkAtXqBeeG/nt0v2Fw9esParkRU9Lrzsxan1y8KuuQR8vyLQm/G8cdUJDvZAgDUC0vuXxX8tKSS4t0PaqwpUlIPLMvLyUq5Bp3NiN0/yFF/vbeoZsPNOWjg5B+0fTv8UvxRnYqPv/Za9fCOeS8vR73RZj7mb5nqQAu8fbOs3e/vto0GuZIfkinm6jPSV9qLAWmtfO1t2m7v7Xib5x+llXKjV9zO2pUh7Eb/7hku+UnsZHznt6dxpO+ib0jmtpu2MS6N35Dw9HtKL266lO6OWOjSM4liEAAQgAAEIQAACEIAACwRqLRXPPvVL+PWm0xfNGejCrcihLH732r+K+i34ZkI7a8ZV6RUVxTYIGIRA+o53JdOty/JrejbzJbHS0Utu9xZ/Byd3NppsiglsLC1Hv9Nl+U8OLBzWzcU299mJLXPfae7cpPvwEP78MFlqT1HJ4UFhieeiUwb6Se8NV/emdmZf5cvuXZsX82zs6TvFKVNnnynvF1xTnkNdXJzcSf7uvA+zYxX3pxw7WLeL4jcZb6QpDwFLEIAABCAAAQhAAAIQYINA1VJxQXbc7hWzxvbv1ZV+LT5DFZ5ZPKBrV7/V11RMD6U41LJ7UQdSvKZ91EVVmp196sBphzEzh1Wcpys2h3UI6KqAZOY0gUA0dXqlo+C9bBAqnjtdnGyLfv7TPzW70lqqd8Yunna468oo0Slquq3Me1Erux6etliW2pOp3AVZeTzv0MhpjaTNuAaFBzNPSUu3q/nec3zbv4M23aDnkStJPbN9n9tgb7maMUveCzsjmmZOUPAwcsnPLv17kv3p8TfE2zIvLp3wQ4t542XhSCprm0YuJqxAAAIQgAAEIAABCEBA+wJVSMUFjyMDR368eu/lFKpe+349XOigLHxG+FtTL/cevKBeLn7v8gXTPr3bqDzdnXk19nE7n971tD9gtAgBFgnUcz43nkuf424dynN80zXgVvUzQujryeVeY086V+OviWvX5pHecv2JVyQPIWdIkgveJc8Al2yUPuxbehW8kRf9eHFOp5CtU+/NcbcxMnLusfT1svVj6FGTsqK9FNV/9ufUxhH0bq7L6MNd/xDvpx5EiLbZtJv1YMrBMF8lqVqgYYwdixCAAAQgAAEIQAACENBYgL5QVLPXy8Prwm8Wc9tO/XldYKd6nDOLux6nG2jVthNFnb5++yHl0+aNDZaVlpZlH/0+8KhSye6fREzvSB6yVFpK3f7ts8DfFAs0GrV0kb+T4lasQ4DdAuQRZhV+SdVjycPCJYzQJeUqLu44eV/hZEbhyhc5HDNO5b/ePZZuS188e8hn5648y6XbsnXp5j35621Le5Q3zPEOfVgYWr6ueolc8O4vt5e+WT5Ybot4hdNkRNjZEWFye0jZC+IpuDkOvYJ3xinWcxz5S9zIX+SqyK9oRiNfF2sQgAAEIAABCEAAAhCoBYHK/1avKKC71y+SS2n9ptB5OGO/hSX9bKHUjCzGNpWLxl0CIiJU7iU7Gg5bEjGssgLYBwFdEvAND1crXEk5dYtX1qZrUFhQZfvJPpIVhx4aoVam/YaWsBsCEIAABCAAAQhAAAIQ0EhA8wvUxdM2lZS8ku/nZWYG2WBtWdGTweVLYg0CEIAABCAAAQhAAAIQgAAEIGDIApqn4h269yFTnp+O3HIrvxxO8PjA3ivkOUhd27cq34glCEAAAhCAAAQgAAEIQAACEIAABJQEmNeYK+2scIOF3+zgvy6uvrlj2tDD7Xv0NXtEvXgeMOre9TSK23bmzIE4K16hGjZCAAIQgAAEIAABCEAAAhCAAAQkApqfFaeopuMiDmyeN6Q1h3fr1L7YZ9Szm9fzHLtPXLV36xQ3zVN7HAoIQAACEIAABCAAAQhAAAIQgIBBCVQtdebU6zRu2Y5xy6jS/Kx8ytre2sSg0DBYCEAAAhCAAAQgAAEIQAACEIBA1QU0Pyuecec/8rpDT9JGUSbW9sjDq66PmoYgcOYrF8mTuduF3jKEAWOMEIAABCAAAQhAAAIQgMCbBDRPxeP//h957bpT4WOS39Qd9kPA4AR8Vj4Til+3Q9qLRh8dFBTDYBCcC2lhIcnWmW++Ec8ZpUSLiWFezBJkOTCa7FBosLxW/A9jlsaVryouKTUn7jIxLCg8ubxsdKBCn6JVO9+IxPIyqpYEmRfDJnRyIsOzcOoUsPup3D8bieF9LYy8wpSaeREdMlxUh640YVu8XCVKRS2lKEUNKwxFVZjYDgEIQAACEIAABCAAgRoW0DwV7+I1gMygfuLwMcYE6jUcNLqDgI4I0LmutbU1I5UVJbt8PjO7TL76aOI5SbbOfIsJbKw4TPfgC6ISZ+cNWZcgWorwp8vINyitVXJ5d+zzi1ujc6QbFN9JcwnrZq9PoluiF44N3U6fwfeYe13ACNA/QtST/I/ibc7XExTbU1pP3jhrVdGU3Yl5QuHLuB8df/zk93RZmZzdX/89fOlU2bpsofhZVtN5e+Nfkg5fxm/uvH3SqtuyfZTKWpIo07YOCYgShXoh2J2uxmcOpbwdLEEAAhCAAAQgAAEIQKBWBTRPxS38vv5xXDPq9Ldztj0srdXY0TkE2C7gPn3D+rHtGpiL4jR37Dh+/aoJSvm1xoPIid7x3/WY/eRsseRU8JBN8m0ICrLuHV3xnu8vrdac3zX08IA+wZHXnhUwsmtmcUmumvaC79BTnOknrGvHLFDhMr/UoaFThXuYGxvP3LVvoV8LSzInhamzz8TRjvk8ye6cg1/83jUiuC35Xk/xZdZjcoBPM1tTst3Utuuw4fVy86RFKqklKiKI33Xo7oW/D+ZQkhP+HnMZaby0FbxDAAIQgAAEIAABCECg1gU0T8VL80vdpq7fuMj/9fYpE1effZ4l98pHdl7rxxQBsF9g0xAjI9n15+69WkV6M06cSxftgk8qjaQk9UzYe33Wtt55KyhhbO/gki94fHIKOCqAUfBWaDuHNuPW3e+yMubXcU04dv7hF7f7Z278qI2Da0gso5x4kcOhxKeNeZRNo3Tx9e/M/FXpGnZJdNYfrF3SWfHmd/LNgOiCeVkvHNK85CV4untlbOdhojPVlODcd+ubLg9uJdsrLcV8FxQ8uxYZFBw7OcBbvLnSWoKCh/uCe4+9H3Dl7/br+7z3b+c9xURGnW8VmH1iGQIQgAAEIAABCEAAAjUjUOmfwhWGcGnNO58flu7ZPXfUbumy6H3o2qtLfeS2YAUChiqQHN632ZwzstEXpd/YNafzrm8+++x9cg21+MpyiooJshi8oUhWiLGQ++OAid6FkWPF59TpHcnhfp12tFj/56FJrUypiKsum6aNdj++Li2c4nLLf5Pbh9zOCWE0Q84tu/kFbyb/yW2UrLg2pxKSKKpV8qO4338c8OrF7GPC8GZhgf9Ky9KXxAfTK9GBgVSEJGjmsrQg/U4uEhddL8/cRi+XPI789OPTA3/dFdSEXhXEha61WPVXp/KY6a1yL5LUk1P99n2+2rp9x4hmol2V14oJdpmd+OXPJ78a5MDxjz7puXh0p+HjLsW8Q3HLvw2Q6wErEIAABCAAAQhAAAIQqE2BSv4YVhGWY6d331X97LK2jiqqYTMEDE7ANei0MIji8XhWVlbMwccEi5Jb8Sbf8EJhOHNvJcukwZwg2X5Tz4Cdd8Tnw8PLWxAnsbJC8guDNj5j3IFOznh7zL1ISmzaRJGr5wdM/2558LgOFJVYQf6anlpg00K+MfXWBJkHv5x2YsCGo5uaSP61SQxfVvj535Ul4qKkXhhRkpt09/CaUUFDd4X7272hlm94zkNZQByHQaFn00SrweHlYLL9WIAABCAAAQhAAAIQgECtC4gmONKHH4WFhdoaRn5+vraa0lY7CElNSdZBnfjMRumX3LzLqlty48mOjZgxoJWLraSkuaP7gBkRFzLoa88VX2m/jyo/Sy5t2dxj8SXFgqL1hHUBkund5HYzlUR9uztKGhV3HZvNLH5s9uyotK1T5p2VxUNvYZZQvcw/u3Ds6tv0peKy17HZSgPoJQqSGZWsNH31vQ+ZWE5lrfKSlxY2lYKUv9uO3ZlWXkTTJRUhadqMNsuzMCQyPBZGhZDU/NgBSh0oFirh906dA8dOJXZGhQ+5mp8oFIOAdgU0v1dc8kduacad839tDBW9Nv51/k4GbhIv//MfSxCQCpjb2ptJl1W8p28LWls2c8vFhzmSX+7C5CuRcy02TGDOHC6ty3vZIFQ8dzrjX4J/+qdmSwto9p6+Y+53+ZO3XEmWfJFFut4yOf+7uTvSy9sR8LPyzaf9tspbdg2Nb3h4hReil9eRLKX//ktxULAnPQOb7EVfBiB7RQXQabhksnNJkdgdK47eyxLNMkduAI+MPOniXJ96Yy2Kys7yU/qCIGFxvXTpTHGyCLAAAQhAAAIQgAAEIACBWheoUiqefyti+sAhH322ass+0WvLqs8+GjJwesQtPN+s1g8oAmCbAL+0WDGkomv7jicqbpRfLy6u8PZxirKqnxHiIZ3YTfo+9qRzPfn62lxr7/1qJvN5bNJeZfPOyTpTmrbt1vX96/pxpRXIu/ysbrKK9ELihkGDRM8Yd2lq/s+czi50NRv3cYe7/rF+jNz1/XK1GCv17I+S2fDkXx5Lsx3VqsxoB4sQgAAEIAABCEAAAhCofgEjcnpKw17yo77wW3Sab+YxZn7I5F5OplRJ2sUdoav2JBRz+y47umaItYbtaal4UVGRubnSla9Valz55t4qNaPNSghJTU3dhMq5vGn+gnVHr8c/y6XHaevSqrPf3OUrpvVykJ2IVnP8CsWSw4P/HRYW5Kqwmakk6nv1oUuJ6XTyTy5Q7zl83nerArrbKdSp/lVmVNXfm1o9ICS1mKgKJkRQs2L1FcOxU9MWUOpAsVCJhM3CqBCSOh8nHDs1ldgJpX7wKAkBdQQ0/0v/yb7I03zKeuyaHf/rLqltP3zBDkejwbP+OR2578mQKRXcsKlOKCgDAUMVsOsesPk484Fk2oJwDQp706xl1da3tsaAdiAAAQhAAAIQgAAEIKCHAppfoP7k8QPi0MdLmoeLUTjdvfqQpQePn+ghEoYEAQhAAAIQgAAEIAABCEAAAhDQnoDmqbiFJX0FekbmS/kgXmZmkA3Wlhbym7EGAQhAAAIQgAAEIAABCEAAAhCAgJyA5ql4h76DSS5+ZdNPJ7IF0qYE2Sd+2nSFZOKD+5KnEuMFAQhAAAIQgAAEIAABCEAAAhCAgEoBze8V53SftWToyc8PH54/9Ixrp96dGlEpcefjknl8qv7QJbPkL1tX2S12QAACEIAABCAAAQhAAAIQgAAEDFVA81ScnPv2+WbX5jZhazfG3L98JJmW41q1HhL8efCYTrU0e7qhHj2MGwIQgAAEIAABCEAAAhCAAAR0UKAqqThFcep1Grdsx7hlVGl+Vj5lbW9tooNDR8gQ0BuBnOigb7IXh01824efVS8IHWX+t+Hjav45adU7LrQOAQhAAALaEeCXlGY/zSzIzCvIzC94mc8vfiV4JRC84pPWOXW5nLocrlldy/rWlg7kP5t6TRy4pvgDVDvyaAUCEKgVAc3vFZcL08TaHnm4nAhWIFDjArzob/7ovECchyeGeRmVvwKjxcHkXF4xxMnCyMjOc8K2eOkcD/JF6Uqi4tFBQTFKQ+DFBLnKmrXoG54oKiFf9I3t2fl/2+fQnN05Sq1jAwQgAAEIGK6AkMp7kX3v6PXTv0RFL999afvxO1FXk688zHqclpeaU5jNe1VYQv4jC2SVbCS7SAFSjBQmVUhFUp0SGq4fRg4BCOiuQBVS8SfbJ3bt2nXG7nTmqNN3z1DeyCyAZQhAoHoEUnb9ahLwYSNx40mJFuuThNJXhD+9lRf9v5n3Jl54KeQ/3Nxy+6RVt8VF3YMviMqdnTdkXYJoSVycz5cm6+Jy9M/0u0VB9yWt8nc1v50g3iVXVI327MZ91Wb3L5L+y1vHEgQgAAEIGKBAafGrhDN3T/x08NSGfxPO3Ml9nkX+P6O+AylMqpCKpDpphDRFGlS/OkpCAAIQqHUBzVPxx8ejyIPFu/kPcmQG7zjIvxtF3Th4BM8VZ7JgGQLVLnB7+8G2k/tKbjVJf5bk1txVvk9e1PakmSsnuplSHIdeIct8/t17k1EgJ3rHf9dj9pNz5dGBovPeQzYx9pYvcjnSu1k4XG75ZqWlN7TX7n2f8zvOKdXCBghAAAIQMCCBVwUl945ei1m1h/zkZeS+/chJI7IGSeNv3yBagAAEIFADApqn4s+fPCJxNXCoLx9dfYcGZMODx0jF5V2wBoHqFUg+fdLVq5O0jxfPrFp7SFck7+mpVO9ukpPmFKd3v1ZPUsSnvUtSz4S912dt6523ghLG9g4u+YLHJ+cYogIU6le2ummIkZFvxHNxEbXac+/b/dGl+MraxD4IQAACENBbgdeCsoenbsf8sIecxBaUKl+E9VYDJw2SZknjpAvS0Vu1hcoQgAAEql9A81TcwpKeJj0xSSHnfpJE3z1qbWlR/TGjBwhAQCaQEF/q3ky2lpV5aK4HfXLbwqnT8NDTotuyiwqNbaxkJcg57XjRb29yuF+beXdH/nkouJWDf8TVrW3+Hu0eTN8lzuVKz3/LKpEFvqCiv5gCooTCmMDGdEF123NvxU1IYraMZQhAAAIQMAwBcqf3yfWH7sfElfGrMU8mjZMuSEekO8NwxSghAAFdFdA8Fe8wwJ+cEH+wcdH2x7I/zQWph37aTi5br+8/oIOuSiBuCOikgIDPZ8TtG14ovqP7ZXzktKdzp+0gUzqYW5Tl8WRlSPlWzZqSVdeg0zmxmyd5mop2mXoG7LyTFu5LUf7h9E+Fl6ObMLS1dN62sSed6ynsJ6vqtmdlbaNcGVsgAAEIQECfBYSvhff/u3F+27EC8uSdGnmRjkh3SWfvk65rpEN0AgEIQEBjAc1TcU6XwJCRTlz+3fXv9x816+vQ0K9njeo/fOnpfK7TyJDALhWdT9M4KlSAAATUFFBx57apbZt3532YHXuLohydqfNXUiTNCc6fim/aSPJrmr7jXTKtusLLosWSWKW+rUZMmDibnAEXvQofLukhLqFwAl2t9nj5eUrNYwMEIAABCOivAJn//MK2Yw9P3qrpec6FVNL5eNJ1aRGmc9PfjxdGBgFdFtA8FSdXoft8s/ev78a0r0c9v3xk374jl59T9dqP+e6vvd/40Neu4wUBCNScgEcrk0TZ9d4xS94LO/OsgFyvIih4GLnkZ5f+PSnKasiUZhu/inxcQgkyL4YuOjNstPTaFd7LBqHiudMlPtSw4AAAQABJREFUSTb99k//1OwKwhfwi5RmVlc8ga5We4nxfI/yK+or6AmbIAABCEBAfwSKcwvPbTqSlST33J2aHB7p+mxENAmjJjtFXxCAAATUEahKKk7aNXHxXbDt2NmrF04cOXLiwtWzx7Yt8HUxUadDlIEABLQp4Nq3f/KFOEmL/Wd/Tm0c4W5jZMR1GX246x/rx9A3iVv5f7+xTaRXfSNui49TZu2d307av1X9jBDRneXME+MVX35OeXR+NoXLLCda9gpLlDZGd6RGe4mnLzfv2YpRCYsQgAAEIKCvAgWZeWc3RdfYRemqGEkAbAhDVXjYDgEIGKyAETkLpubgBUU5uUVllIm1vbUs6RZkx586FB37vMi8sc/Y8X1qMxsvKioyNzdXcyyVF+PxeFZW5fNcVV64ZvYiJDWdDREqZdP7a1ruXCt9npkaUrWodHvF6EPD9y6UfRvAiLYWo2JEIbeIkOQ4VK8ASrVN+R4WKpHgWBgVQir/0FS6xH4ociKaJMDFeUWVjqPmdprZmPcJ8Dezrf0Jhtl/7GruqFTaEwuhKo0XOyGgsYD6t3YXHl8yJOQE1XfZ0TVDxKm44PH26RPX35VMGrXvr7/HrNm9wEvtf+H4GVf2/nH4SlIqr5QyNmvg3mvEpNHdGnDLh1CWdW3n5l2Xk3mlZHdbvykf+bur3Xh5K1iCgJ4LNBo/tXTm7yl9p0kfWMbe8ebsXnlv3PqF7A0QkUEAAhCAgFYE6PvDf41hTx5OBkWCISH1CfQ3Ma+rlTGiEQhAAAJvKaD2BeqFp4+d4FPcwSMHS+4HF9yL+JLk4dy2UzfuP7L/u6H1+Wl7fvjjoXrxlMT/s3TemoumA2csXv1zRETEj4undny5e8nqY+WPnUg7tnLRLl6fL+j9Py4eY3dx7eKd8dX47Av1AkcpCLBPwMr/20nXv4vMlD3SgH0hiiLKif7m7PD14+xYGh7CggAEIAAB7QiQScuv7jpd69elKw+GhHRl5ynMqa4sgy0QgECtCKidisffpW9H7di+reQ8euHx3/54SlFNJn0V2LWxfWPfaRNaUtTTE+ceqzWM3Ezu4K9XfDqyQ2MrU2NSg2vnNiBwmlfmyQuSCahKYvfuLxo0O9Dbmd7Ptes44avJruf+YqTqavWDQhAwCAE7MoHaRAf1r3GpHRQ6SiTitWOPXiEAAQjUoED8iZu1OE9b5QMlgT04cbPyMtgLAQhAoGYE1E7FCwvoB0E2cCDPFKdf4pPkVBM/3zbiv/+bNnMnmx89eS7a/aYfTn1G9rKnc3DGy9jW1iYvv0C0pSTuys2m/fs1YxSx6O7dJe1KXPlpc0ZVLEIAAhCAAAQgAAEI1L5A1uO0h6fIkzTZ+3pw6hYJkr3xITIIQMBgBNROxS0s6QvTCwrEz4IoPHfqAllt4te/hYRKIHjLq2PLki5dyvBs7SFqLzU1pZ6HWz1J2+I342bN3VKepeAadTkVrEAAAhCAAAQgAAF2CLwWlN08cKmmnx+u6diFFAmShKppPZSHAAQgoF0BtVPxDj36kBnVLhw/TU6Ol97aEkFuHKc6jhslzcSph/fpb0BbujWtSnxl+bd3Ll19oVnAlB6movp5OdlmZmYKTdnY2lFpGZkKW7EKAQhAAAIQgAAEIMACgcRz91h4i7gyDAny0fl7ytuxBQIQgEBNCqh9dynHa8rMtsfWn140tP9qAY9HZnBrO2fhGEdprA/PHk+lKOuOnhqn4vQ86Rt+u0x5f7JobDtNZkgnTy+T9i55J888UNhS5VUtNlXlGBQqIiQFEFWrgFIlQ29/tMnf60v+orj/ZjdXLCZ4HhUy/dPfLmZQDdpN+HHfuqENSIncaz9MH7c6JsOk9dgVOzZNbkH+xSi4uGLE+99fpbr+76+DC3tZilrdMONv743/66D2vyeKfUvWcexUwMhtZqESiY+FUSEkuc+N6hVAqbYp38NCJRIc26IqLXzF8kvTy48oRT04eateS2cTi9qZTZ1tx46FHyfxwaocim3PHmZ+wLAMAXUE1P/TmeM2ZX2E6Q9hkTeyKKtmHScGfznOTVo7/8T23WQOt5ZT3u+iTqeyMvyMc9vW7LxTz29O6LAW1owbw2UlKllQeIo4ycy19QtJfu211VQl8Wu0CyGpyQWoSqFydn9/cNSyqX8LKKVPuODc/JE/O265ke3jzCl49jjbli7Bi/7y80dTLmYfa8K7GDo28Jc+Vxe2S9z6Y/rCBP5w6lDAR7vTBwe7Uzm7t/DmhHnbSf89qDQE1Ttx7FTblO9hoRIJjoVRIaTyD02lS4CqlEeyk4VKJDIWRnXj1J0yvs5c9U1CTb/5tI1fZ3U+A9otw8Jjx8KQ2Pkh1+4nAa1BQKM/nq3bj1u2bVwFaNYDQk9cDa1gR2WbCu/tXBl+vd6YBWsHujCeJi6qYmNXr7i4WKF2Xm4O5dTRQWErViEAAfUEcg5+8XvXiANt1/2tPHcs78DGEx+FX/VxppuydGkhOtnNi9qeNHNNhBu5bcS0V8gyH5+9cQvbpd1v/F4wPVv7u+81DkygKNdzP18b/OU4jf4pUS9elIIABCAAAZ0RKC1+9fyaeo/RYc2YkmIfePh4cs1MWBMRAoEABAxLQO17xbXNkn3ql/DrTacvmqOch5Oumri55yU8zpbrtCzp0eNGLo00PHcu1wRWIGC4AoJz361vujy4VcU5883YjA9Gt1PQSU+lendrJNnI6d2v1ZNnAsqj9fO/92UKBJn7/n5OpllM3HjcfcEIPCtcgQ6rEIAABAxM4MmVRB06JS4+OIJX/CdXyXfKeEEAAhCoHYFaSsXL7kUdSPGa9lEXFVelG7fy9Hxy8lQS4zKnwsvnrjXt3cOpdpzQKwR0W0AQF7rWYlVIp4oTcXKlY17ZvW3DOzlZGBkZ2XlOCLucQ8ZbVGhsYyUbN4fLjX+cTLlPX956czsbboufWy+fXn/PvzYzxqSHDyEV7XqEnKZr4QUBCEAAAoYmIKSexSXq4qCfXn/E9vnedZEVMUMAAuoJ1FIqfu/yBdM+vduoPsNt2uOD923/2xBxLrWEpOP8nBs7V+7M9Hu/n/zzzdQbI0pBwOAFEsOXFX6uOhEX+biN+elkcqFQyH+2d/Cl6d+eFlDmFmV55VMhCvj8Vm6uFGXVaV5UWqEwJ2ae+6UtqX3Hc35fcG7i7Tzh4yVZy3+5bfDUAIAABCBgeAJ5qdm8jDxdHDcvI5cEr4uRI2YIQEAPBFSdI6veoZWVlpZlH/0+8KhSN90/iZjeUbS1Xr+5y6x2bl4zbwev1NisQVu/z+b7N1Oduyu1hA0QgIBUICYsZP+GIu5q6Tq1yejguoQLZMo16atzD6eYEhdb+mGCHMsWH03x8opLpjo7U+evpFCdRNeoC86fim86mfEvhuDcT6c8Pw3lJEWZ9xxH3zzuP8pt/3OKUrzMXdoF3iEAAQhAQE8FUm4n6+7IUu4k2zTEqR7dPYCIHAI6LMD4w7oGR2HcJSAi4o39Gdt3mbygy+Q3lkMBCECgcgHf8EJhuLRIdGCPm5/E/k/8lZd0o+O7IzLeWXhk/7J3yATqD//YHj8sxJ2ycpzSrO9XkYO2TKRnUF90Zlj4Wml5ShC36k/nWeHk+nVH56JLsZkCd07M/sdNg2QFsAABCEAAAoYikPk4TXeHmvVIh4PXXXZEDgEIEIEqpuKl+Vn5pRUBmljbW2MiyopksA0C7BNIDPP6kPpddHbcbtz69amzfZ3975Y6dhy5Ytfv9MltK//vN8ZN9Ko/Kd2k7ccbo36WnfAWxIf/RE3fLDpd7vjhd94j2tlMeuW5cP8RWQn2DRYRQQACEIBAdQjwS0rzUl5WR8s102ZuyksyBK4p/nytGW/0AgEIlAsYCYXC8jW1lvLPfDvhqwNp/AoLD117dalPhXuqeyN5rrjCk8ar3CMLH66IkNQ8moBSB4qFSiRsFkaFkNT5OOHY6a4Sjh2OnZoClRdLf5hyafvxysuwfG+vKQMbtBB9u1wjgeJ/LmoysxBKzchRDAJqCmh+VvzejtV0Hl6/wzs+bmZKvbR1VNqEDRCAAAQgAAEIQAAC+ilQkKmTE7YxDwYvM68mU3Fm11iGAAQMWUDzVDwrI5WA9f3sp+VDLAxZDmOHAAQgAAEIQAACBi9QkJmv6wYFWTo/BF0/BIgfAoYpoPnDzJq6tTRMKowaAhCAAAQgAAEIQEBeoOClzuexSMXlDynWIACBGhKoQir+zggy9fKF2GuCGgoR3UAAAhCAAAQgAAEIsFOAX/yKnYGpHxW/uMK5iNVvACUhAAEIVEVA81S81Kzv5NEO/GMHDj3PUn5VPK96VSJDHQhAAAIQgAAEIAABlgsIXun8yRnBq4onI2a5PMKDAAR0XUDze8UvrRn2xWEy7NOho04rj772ZlBXjgVbIAABCEAAAhCAAASqVUAP8lg9GEK1HmI0DgEIVJOA5qm4Y6d331X96EXMoF5NBwrNQgACEIAABCAAAQhAAAIQgIC+CGieirccFRIySl+Gj3FAAAIQgAAEIAABCFRdgFOX+6qwpOr1WVCTDIEFUSAECEDA4AQ0T8UlRKUZd66cOncq4SVZr+/Rz7tfN88Gqk+WG5wrBgwBCEAAAhCAAAQMQIBTt8p/TLJFB6k4W44E4oCAgQlU6V/P/FsRc2dvvllcbrVvyyqzDh9vWBfY3rp8I5YgAAEIQAACEIAABPRagGtWV9fHxzXD2SRdP4aIHwI6KaD5DOpUftTSQJKHm3mMWfzb/iPktf+3xWM8zIpvbg5cGqXzj5bUyaOIoCEAAQhAAAIQgECtCFjW1/nTMJb2Oj+EWjn06BQCEHhLAc1T8Sf7Ik/zKeuxa3YsGO7Z2J68GnsOX7BjzVhrin86ct+TtwwI1SEAAQhAAAIQgAAEdEXA0kHn81ik4rryYUOcENAzgSqk4o8fEIM+Xt3lrm3ndPfqQzY/eIxUXM8+IRgOBCAAAQhAAAIQUClg6WCjcp+O7LDS/SHoiDTChAAE5AQ0T8UtLOkvPzMy6fnaGK+XmRlkzdrSgrENixCAAAQgAAEIQAAC+ixQr4mDkZGR7o6QBG/XxEF340fkEICA7gponop36DuY5OJXNv10IlsgHbcg+8RPm66QTHxw3w7SbXiHAAQgAAEIQAACENBzAa6piU2j+ro7SNtG9ckQdDd+RA4BCOiugNxV5moNg9N91pKhJz8/fHj+0DOunXp3akSlxJ2PS+bxqfpDl8ySv2xdrQZRCAIQgAAEIAABCEBAZwUc3Jxyn2fpaPj2zZ10NHKEDQEI6LqA5mfFyblvn292bZ43pLVpSfLlI/v2HbmcXGLaesi8zbu+8dH5iTt0/XgifghAAAIQgAAEIFCzAo3audZsh9rsrZGnDgevTQi0BQEI1LiA5mfF6RA59TqNW7Zj3DKqND8rn7K2t8Z1PTV+5NAhBCAAAQhAAAIQYIOAjXM9qwa2vIxcNgSjUQzWjrYkeI2qoDAEIAABbQlU5aw4o28Ta3vk4QwPLEIAAhCAAAQgAAFDEzCiXDo118VB02Hr8JRzukiOmCEAgXKBt0zFyxvCEgQgAAEIQAACEICAYQo07eZuzDXWrbFz6nKbdvXQrZgRLQQgoE8C6l2g/mB/6D93qbZjQ0a1pMTLqgzEZVTtxXYIQAACEIAABCAAAb0TMDGr27iL25NLCTo0smY9WnLNcI+lDh0xhAoBfRNQLxVPj9u37zBV2odOxcXLqhzEZVTtxXYIQAACEIAABCAAAX0UcOnm8fza4zJ+mU4MzpjLad67jU6EiiAhAAF9FVAvFW/13vff96GcWtEKPb84cmSOSg4TzKGu0gY7IAABCEAAAhCAgL4KmFjUbdGv/f2YOJ0YYMv+7epamupEqAgSAhDQVwH1UvEGnoMGecoRkPna5KdNFxTl5BaVmZjiOh85J6xAAAIQgAAEIAABAxFw927zLO5RAXm8DrtflvbWzb3bsjtGRAcBCOi/gObTtl1a8w55rbmkYPPq1HKy+eM/HitsxyoEIAABCEAAAhCAgCEI1OEYdxjZk+1zkhtRJMg6xpr/DWwIhxBjhAAEalBAvbPiagRkYWlJSj168pyi3NQojiIQqJKAUFiWlyd4kSrIzHxdXCwsKaF/FpcI+aVGXBMjM1N+nTqUjU0dMzOOgwOnobOxjQ1lhKeUVIkalSAAAQhAAAKaC9i7OZHL1B+evKV51Rqq0bJfexJkDXWGbiAAAQioFtBWKl564cxZ0ou1pYXqvrAHApoLCIX81NRXd+6+eviQTzLw1FSSe1feCnM3nZM7O3MbOtdt0aKuZ1uuszMy88r1sBcCEIAABCDwlgKtBnTITk7PSkp/y3aqo7p9M8eWAzpUR8toEwIQgICmAmqn4rHrRoSepFsvyaF/nlg+Io4x10VJzotskgHV98e/brQOXm8r8LqgoPjqtZI7d0ru3C3Lza1ycyRvL338mPxXeO48acTY1tbUs62pp6dZ1y51RNdxVLllVIQABCAAAQhAoEIBozpG3Sb0OxsRzbabxi0dbEhgJLwKw8ZGCEAAAjUsoHYq/ir3xYsX5cEVZ79gnnykuFaO7Qd/ETq3i9oNlreFJQhIBIQCQcmNm4VnzhRfjyPLWnchWT3Jycl/RhyOWZfOFn36mHbsQJa13hEahAAEIAABCBiygIl5Xa+pvmc3RRfnFbHEwczG3OujQSQwlsSDMCAAAQionYT4LL16dSntdWZx188PU0PXXl3qAz4IaEugLDs7/9/DhWfPvuYVaKvNStoheX5R7GXyXx0rS5KQWw8balyvXiXlsQsCEIAABCAAAY0EzGwtvKYNvrDtGBuycToPnzaYhKTREFAYAhCAQLUKqJ2Ky6Jw7PTuuyZUW0fZBixA4G0EBOnp+QcPFZ46LSwre5t2qlaXZP68qOiCo8cs+vW1HjmC06BB1dpBLQhAAAIQgAAEFATIM8P6BPhf+DWmdq9UJ9ele00dZGaDPFzh+GAVAhCoZQHNU/GWo0JCRmkran7O/TN7/tr/onvIIn/FuSz5GVf2/nHwYmJGcRllYuXawX/M+/1aWBtrq2u0U+sCgqysvN1/0XdxC4W1Gwz5FqDg+ImCk6csenvZjHufY29fu/GgdwhAAAIQgIB+CJAT0d4B71zddbq2ZnEj87SR+8NxXbp+fJwwCgjomUAVnqn4ZPvErl27ztgtNy9m+u4ZyhsrsyJJ+PEtS+ct3fOiXkP6MWgKr7IX0au/PVTcJzD0x4iIiJ9XLxjlcHX9st9uFCqUw6pOCpDrw/MPHEz9/MvCs+dqPQ8vF3z9msST+sU8Elt13Kle3hGWIAABCEAAAgYjUNfClFwc3rJ/+5p+3rgR1cy7FekaebjBfNYwUAjomIDmqfjj41EPKKqb/yC5S9QdB/l3o6gbB488UQ8g7eSOf7M6BHy/5uvJXo3NlOqUXN6733hU8EfdGltwyU5j0/qtR342vfWdf/57qlQWG3RMoOTu3bT5/8vd9aewtJSFoQtfvSKxkQhL7t5jYXgICQIQgAAEIKBzAmTS8laDOvaeNphcsl4zwZOOSHfNvFtjvvSaAUcvEIBAFQQ0v0D9+ZNHpJ8GDvXle6vvQN9k++AxScWbyu+pcM1p8KfzKtwh3pibm03Z15efR8vUqaFd5otsimpSSUXsYrMAyb1zdvxREPMfm4MUx8Z/8SLj2+WWvoPsPpxsxKW/D8ILAhCAAAQgAIG3EbB3c+o/Z/ij8/cenLxVxq+uCWKMucbkDHzz3m3qcIx5PN7bBIy6EIAABKpVQPNU3MKSfJ+Zn5j0hPJh5txPkhJJoNaW2pkSw6Gpm/n5x0llHZuV3xtemPQoza018vBq/TxUY+P8F6lZYT/yn+rSdQ3kW4PShwn2wZ9ynJ2rkQZNQwACEIAABAxDgKTHHn3bNeniQRLypEvxglJtPriUU5fbrEdLkoTXtTQ1DE6MEgIQ0G0BzS9Q7zDAn5wQf7Bx0fbHsn8+BamHftpOLluv7z+gg1Y8jNu8O8U9duP66Ps5fNJgWUnqld9W7he8P7mf/JlyrXSGRqpfgMzNlrZgoW7l4WKV0idPUheEFJ4/X/1I6AECEIAABCBgEAIkVW7j13nw/LFt3+li1cD27cdMGiFNDZ43hjSLPPztPdECBCBQMwJGQs0nr84/8+2Erw6k8Smzxt37dmtEpVw5ffl5McV1Grly5zc+Gt8DlBa9bBMVoDyDOlXy9MTmDbvv5NISpo79Z3z1QTvmOfeioiIFo7LaeBqWQgxYVRQQCov37is5clRxu66tm77jZzb6XcrISNcCR7wQgAAEIAABFgsIKV56bsaDlJzkTF5arvp/lxoZGVk52dq5OjRo2cjK0bam54RjsajhhGZlZWU4g8VI9VKgKqk4gSh9FrNm8eqoW9nFIhWzeu2HzFv6ha+LSRWQKkzFy16cWr/hdP1R00d3JDO3lZW8fHhyx28XG0z5akIbZjrO6I5k5ubm5owNVV8kdxax7XdbV0MqK3u5eQt5ZnjVDwabalr271dvxnTKuPyuCXWi09Vjp87YtFoGUOpwslCJhM3CqBCSOh8nHDvdVdLXY8cvKc15msnLzCPPISf/8YtLBa/45D8yXnLxOfmPa2ZC5mMj/1k52Ng1ceCavuEPTxb+U6Cvx07N3yaNirHz8Gk0BBSGQOUCmt8rLmrPxMV3wTbfBVRpflY+ZW1v/YZ/CSuPoYK9Cf+sPWA/7YdJbcRJDz2Dun/wVyYrv94eu3ZWD9wAVAEZ+zaRqcizfvyp+Hoc+0KrYkTkweNl+fn2n84xqlu3ik2gGgQgAAEIQAACKgRIat2gRSPyn4r92AwBCEBArwQ0v1dcbvgm1vaMPFxQlJqRL7e/iitpiQ94np6SPFzWRr227Z1u3omXrWOBxQIkD8/4fqU+5eFi7OJr18m42PkYNhZ/HBAaBCAAAQhAAAIQgAAEICAn8JapON0WScDv/Ld9xayx/fv4DN9wQ675Kq7Y1rM3TkxIVHjMRfbdWymNGjpVsU1Uq0GBsjJyPvzVff382oSMi4yOwsQENfiBQlcQgAAEIAABCEAAAhDQM4EqXqBOFErzE2P3/bXrUExcMo++iYeiZ3Eb7cV8wJloa1V+mHYdNfz48o3rTSaP8/N0NjUm94o/uXrotz2ZvT7pj1S8KqI1WUcoJPeH69/5cCYhOTeevWVrvYCPMYsbkwXLEIAABCAAAQhAAAIQgICaApqm4iQBv3Xkvz+P7I2VTtkm6qhT4G+hUzwbqH3LOJmqbfH+FEaMiwP3i9e6fxIxvSNl3ND/q++bn/prz5p5P/NKKcrYrIF7rxFLvuvWgMuohEU2CuTu+lNv5mmrxJfcN17H2tp2/AeVlMEuCEAAAhCAAAQgAAEIQAACFQqonYpnnNm46jdZAs61cu0+evjoEYO9Mjb6zD9MNWypQR5OAnHyXxThX2FAso3G1i0GzlgwULaOBV0QIM/fzj94SBci1UKM+QcOmjRpYt7bSwttoQkIQAACEIAABCAAAQhAwJAE1E7F449vOXWL69R59Iz3SQLeytlcUvOMIWlhrJUKCFJTszdvrbSIvu0kl+KbuDXjODvr28AwHghAAAIQgAAEIAABCECgOgU0nLbNzKyema2FjYnaGXx1xo622SQg5POzwn4SlpSwKahqj4WMlx41XzxbQrV3hw4gAAEIQAACBiEgeHowZHgnJwsjIyMLJ4+BH2+L4xnEuDFICEDAoATUTsVbDZzRr71V2vktq2a+59On/9hZK7b/dye1SGBQWhisaoGc33eUPnmier/e7iGjJmPX2+FhYBCAAAQgAIEaFhDEhw1sPT666aIz6XyhMC/xxOJumU9f1nAQ6A4CEIBAtQuofXq7gc/MH3xmMuZN37v+8t71FJcrmkctN51k5bKL1qs9anTAMoGSu3cLYv5jWVA1Fw4Zu3nPnqZt29Rcl+gJAhCAAAQgoKcCKb9/EXK13/qH4e82Eo3Q0sUn4Cs9HSuGBQEIGLSA2mfFJUom1u59piz8+Z+TZ88c+u37OaM7OYqS+fMrh/v0Hzzty41nMgya0yAHLxQIcrb+apBDLx90ztZtxKF8HUsQgAAEIAABCFRFIP3onqii4R++J87Dq9IC6kAAAhDQDQFNU3HZqDjmzp6DSFK+/+yFE39unE+uXjcrvnVqy/F4WQksGIgA73AU/8ULAxmsqmESAV5UtKq92A4BCEAAAhCAgHoC12OjqJYW8T+NH9jEjtwqbmTXZGDwwaf4tls9PZSCAAR0SUDtC9RVD4qcKO/6PvlvpqAoNT7FWHVB7NFDAUFWVt6evXo4MM2HRBzMvXpx7O01r4oaEIAABCAAAQiUC+QlFLqu++3eDhdLKvNi6NhBI1un/fn8z3F25SWwBAEIQED3Bap8VryCodMnyj0aVLADm/RXIG/3X8LSUv0dnwYjE756lbf7bw0qoCgEIAABCEAAAhUJ2AwcP7GLiyU5YcRx6LV4a2ivot2/70uvqCS2QQACENBdAW2m4rqrgMirJiBITy88d75qdfWyVuH584IMTJegl8cWg4IABCAAgZoRcGrYknpw/yHj4WXuLdtRVE4+Y0vNRIJeIAABCFSvAFLx6vXV79bzDx6ihEL9HqNmo3v9Ov/AQc2qoDQEIAABCEAAAuUCnUZ/2I7avXVXimxT4oPblLmbi6NsAxYgAAEI6IUAUnG9OIy1MYjX2dmFp07XRs+s7pOYlGVnszpEBAcBCEAAAhBgsUC7OWtmN42ZO2HpxUwBJSi48cP0kItNZ88cacXimBEaBCAAgSoIIBWvAhqq0AIlMf8Jy8pgoSBATPL/jVLYiFUIQAACEIAABNQVsPINj4td1+LMuBZcI67jO5GNQmPjVnlrYaZhdQNAOQhAAAI1IoB/12qEWe86Ic/QLr14Se+GpZ0BFZ49YzvhAyMOfrm044lWIAABCEDA4ATsugdsPh6w2eDGjQFDAAIGJYCz4gZ1uLU22JIbN4WFhVprTr8aes0rKLl5U7/GhNFAAAIQgAAEIAABCEAAAtoUQCquTU3DaavwzBnDGWwVRlp45mwVaqEKBCAAAQhAAAIQgAAEIGAgAkjFDeRAa3OYrwsKiq/HabNFvWur+Nr117hqQO8OKwYEAQhAAAIQgAAEIAABbQkgFdeWpAG1U3z1GrlX3IAGrPlQiU/xlaua10MNCEAAAhCAAAQgAAEIQMAgBJCKG8Rh1u4gS+7c0W6Detlayd27ejkuDAoCEIAABCAAAQhAAAIQeHsBpOJvb2hgLQiFJXeQZL75oNNKQuGby6EEBCAAAQhAAAIQgAAEIGB4AkjFDe+Yv92I+ampZbm5b9eGQdQuy8nhp6YZxFAxSAhAAAIQgAAEIAABCEBAQwGk4hqCGXzxVzglrvZn4BWuUVfbCgUhAAEIQKAaBKIDjSp42flGJMo6u726q4W4jN17u9IpKiYoKJrslLzJitELiWFeCq0F0kWjg4Ji5MpJV+J/GLO0slleFaOzCz5JV5VvT7lTOgaLFsExPGk/qt55cTvmDGtiR5e3azIw5HSOuGDO6ZCB9FYLpz7BB58qz30jyLwYNqGTE1GxcOoUsFtaIufyiiH0RjvPCdviFWspR1k5jaqQsR0CEDAoAaTiBnW4tTDYVw8faqEVw2gCVoZxnDFKCEAAAqwV8I8QKr/4212uJ8hCfp7YfhefLnQ/xCqdZLcCPp/eJ3mTFaMX3IMviFo7O2/IugTRUoQ/vZ3PV8xM6a0ll3fHPr+4NVqSANObFF4kuqjZs4+JWqIXdhYPoNPmIRuY7Uk7FZWS/uDHTs2/S743qPz18mnx4B+uPyOj4z87H5T18Zw9ZHwp26YtN1kcmyoU5iWu94iYvOq2QiPJG2etKpqyOzFPKHwZ96Pjj5/8TnfEi/7fzHsTL7wU8h9ubrl9kmItaZTq0Sj0iFUIQMBQBZCKG+qRr+q4+S9Sq1rV4OrByuAOOQYMAQhAQAcEOFyuXJRcLode53DkN8uVYazkRO/473rMfnJiWHJWe8gmxl6yKCjIund0xXu+v7Rac37X0MMD+gRHXntWUFG2TgpL0vj0VL6DveSLg6gA+fYqWOPwS+2cHSvYIbfJdWTA8Fb2lmR0HEuX4UO9c/KKKOpWrNWsr3ycTemNHWf/+O6tvQon7hvP3LVvoV8Lupqps8/E0Y75JIHnRW1PmrlyopspxXHoFbLM51/FWqKO30gjFx5WIAABgxdAKm7wHwGNAIRCQeoLjWoYcmHBixeYuc2QPwAYOwQgAAFWCqSnUg2dqhRZSeqZsPf6rG2981ZQwtjewSVf8Ojz6XKp863Qdg5txq2732VlzK/jmnDs/MMvbvfP3PhRGwfXkFjlTkn6LzoFzsu3cWlYQWqveA07fdacfnVesvYD64n/kNS6/EXKiq4KL98iWSrJJV8NjP/ZecF7JHtv3PReWPgN0TcD5DuD0jo59x+SVJvx4nBE30zQWwRPd6+M7TzMnaKIWe9ujSSlOL37tXryTP67BTVoGH1gEQIQgAAtgFQcnwMNBMry8l4Xl2hQwbCLvi4uJmKGbYDRQwACEIBAbQko378sTmOdpm9a0rld6C1VcW0aQsopnuomhZPD/drMuzvyz0PBrRz8I65ubfP3aPdg+i5xyWl1UXvtQ27nPD2+OdiPnEAWv0zd/II3H3+akxzaQ7KF8dbMnXqcTNaTEn9f4j31D5/1SfKpvfQK+4R1AZJr4oVC2XLkWHNGUxQpK75gnrHx0QZye7uZ3citDgv+XOptRfa0m//HlOtT3W3IGOnvDGJ5T1MrvNK95HFkgN9yaumuIJKJU0WFxjZ0bfGLXFcQLwpbukEtGmlhvEMAAhCQCCAVx0dBAwEBrk7XQIsuKsAk6hqKoTgEIAABCGhJQHr/svgG66iAgCjprdbk/XZIe1XdiMrJneoWl3QNOp0Tu3mSpzjHNvUM2HknLdyXovzD6Z/il6qz2KIvAXwjnkvL0e90WY+5m+Z6kJ3vH2zrN3v77aNBrmQHM7WnC5JX2osC6/JUWLxNnZ/NZ5Pb2/m8i0uaHPl4fJhotjVOq2k749IKiQH5ziCkF7ddSzrXlnsJMg8Gv/eT1ddHN5ET+6I95hZleeUnz8mN9K3cXBlV1KFhFMciBCAAAZEAUnF8EDQQEGRmalAaRUkqDjF8DCAAAQhAQG8E0ne8K5luXZRbi39YtFgiu/RcehZblPTLTl9LvgKICWzMlKDL8p8cWDism4tt7rMTW+a+09y5SffhIfz5YbLUnj4XHxSWeC46ZaCf9N5wdW9ql/XFsbRv47fwu977wkUztMu2kzncjh2s20XxOwnBucWzHs74O2yEJA2nyzs6U+evpEhqCs6fim/qIs7RZY29kUZWEgsQgAAEJAJIxfFR0ECAXHGtQWkUpSiI4VMAAQhAAAIsF5DMnCYQiKZOrzRY3ssGoeK50yXZNf32T//U7Eprqd4Zu3ja4a4ro+5lSprLvBe1suvhaYtlqT35TluQlcfzDo2cJr1Tm3INCg9WOpFdQR/JB8J333iSK7qvjtzKHbmvUHSLfHr8DdEkcuSZZUsn/NBi3nhZw+I20n//pTgoWHLuX9qs1ZApzTZ+Ffm4hHzHfjF00ZlhoztJd0netU2j0DxWIQABfRRAKq6PR7XaxiQswY3imuEK8eWFZmAoDQEIQAACNStQz/nceC59ert1KM/xTdeAW9XPCKGvJ5d7jT3pXK/6Ynbt2jzSW64/8YrkIeSMjhWnbavfyiF+xYRW9enyzj2W5nyxd347uviDiBH0reI27WY9mHIwzFc8ZnJjvVdYIr371vX96/qJRCS9iuaCs/L/fmObSK/6RtwWH6fMkrREF5e+aoFG2jXeIQABXRVQuLpGV4eBuGtGAOd4NXV+XVJirGkdlIcABCAAAQhoXYBMNSY/57ekhx5LHhYuYfQmKVdxccfJ+wonMwpXvsjhmJXPRl5h0R5Lt6Uvnj3ks3NXnuXSBWxdunlP/nrbUsYEbxzv0IeFoRXWVthILnj3Z26yajlu8V9DfrBS+H7BceQvcSN/YRakl8mN9RfE23zDC4XhirvJul33hVFpCyvYId6kGY3KZrADAhAwJAGk4oZ0tN96rEJMn66hIc6KawiG4hCAAAQgUD0CvuEV5ZfKfUnKqVtcuYHyLa5BYUHlaxUucZqMCD00Qq1Mu8L62AgBCEBAhwVwgboOH7yaD13IL635TnW6R2EpxHT6ACJ4CEAAAhCAAAQgAAEIVIsAUvFqYdXXRo24Jvo6tGoal5EJxKqJFs1CAAIQgAAEIAABCEBAhwVq+QJ1fs79M3v+2v+ie8gifydlxsLE47v+jr6ZzCulTKycm3Ub/uHYLva49VYZqqa2GJmJHyZaU/3pfj9GZma6PwiMAAIQgAAEIAABCEAAAhDQskCtpeLiJPzQHeMuPg0tX1Q0qsIbWxf/wRs4fcGkFvVNjfmFz+/9d+lBdhd7h4oKY1uNCNRBYqmhcx1TfHmhIRmKQwACEIAABCAAAQhAwAAEaisVTzu549+cXgHfT3U2zYxedkdZuiR2+9b0gQu+8m8oPgvOtWjcYeRY5XLYUpMCRkgsNeTGWXENwVAcAhCAAAQgAAEIQAACBiFQW/eKOw3+dN64bs6mqq42zz5/KqHHqMGSPNwgDoUuDBJnxTU9ShDTVAzlIQABCEBA6wIng+0kz8huF3pL662jQQhAAAIQqJJAbaXibwg271bcE0/PlqoS9TfUxu7qEuA44PYAzWwhppkXSkMAAhCAQDUI9A/LEYpft0Pai9qPDgqKYXQkOBfSwkKSrTPffCOeM0qJFhPDvJglyHJgNNlBGjypWFS0Hv/DmKVxFe4RbVRqTtxlYlhQeHJ5rehAhT5Fq3a+EYnlZVQulaReiwwdP7CJbxijdM7pkIFNyBcUFk59gg8+VXri+ovokOGdnGgSC6dOE7bFyxdIDO9rYeTFbE7UuVKUoiIKQ1EZJnZAAAKGJ8DSVDz1RYqTfd0n53avXfLlnEDymhX8zYboh/llhneEWDViTkNnVsXD/mA4zhVMR8j+sBEhBCAAAQjoi4BSrmskSnb5fGZ2mXz10cRzkmyd+RYT2FjRwT34gqjE2XlD1iWIliL86TLyDUprlVzeHfv84tboHOkGxXfSXMK62euT6JbohWNDt7uQBNhj7nUBI0D/CFFP8j+KtzlfT1BsT3k9+n+jNhb2Wfvj527l+1K2TVtusjg2VSjMS1zvETF51e3yffRS8bOspvP2xr8kHb6M39x5+yRmgZzdX/89fOlU+Rr0miTKtK1DAqJEoV4Idqe385lDoTfgBQEIQEAkUFv3ir+Bv6S4KO3ynhN+fqPmjGwqnrTtxt+bwpa9CFg6vaOFuHJRUZFCKzweT2FLlVe12FSVY1CoyIqQ6tQxMq0rLHmlEBtWKxQgt9YX1aG/7WLFsZMPkYUhAUr+EKlcw7FTSSO/g4VQLAyJmLEwKoQk/1lWuaYelOO4VT+cn7Xq8O2MYooya9Bu6PzFI2x4F/l85rEvKOGXFqrXnjic3JhtR6+l2Fyb8umTL6zH/EpvnLrnB0aTgsKXiRd/DV396N2tR6bd/19fr0Ofrvx0mGcjC+W/PAtKigpy6c4fJxdZjZt+NH86RT3a8NmRgjcEVJBvY+/whjLkE+797X/eJLxHF/glshZjz5lOXdXJks/j8anmH4b6f/TnOZ5rB/HQRD/bjBpP3kX7jVv2H2y9I5XHcxXtyY36dFu7tX+6bfj7oaw50Q7JD8HDX/fePme3+5l3y8hBnRZcJpu7f9dPMUzFdWYLtbTMwpCIROVRWVlZ1ZIWuoWAdgSU/0HUTrtv34qT34wZsgeckUnbun30lSB83sEzQztKtpqbmzN7IZm5tn4hya+9tppiRvg2y+wJqbBho9LHj99mLIZTl9uokZW1NXuOnUyehSGR2FgYFUKSfWYqXwBU5T7ivSxUIoGxMCqEpM7HSbNjZ1GXa2xkJGrXyMiYW9fC0srKjPvrEOtfB218Jj7v3bF/u/cHWK9QPMdB2X52Iiesv3xIJalnNn4663Dvf26/t67/O998u4PH32bJiQ4MJKm+5M+nW6Ht+kY0GPv5/LUnlrqRJ4m0jrjc8ejG72Z3/+fR5CPJoT3kG7S15HJM6ZplJvbNC7f6NZx7kRTotW6spDVyXt9DtEm+mnjtlPlN6UX3og3kIvH9o4TiE/Vyn3BLU64pGbg4dfNwTwj67dGI4I6WHEFBlol5waMUyspbOa0TFDy7eWBlyI2p4SHimoJz325x/z66i10M17i8OUlggoKHh76e/E3xkmt7Hkzwnzb05/3FQmfTxLDAf2Udi0riQy4Be9MbC6HeFDL2Q0AzAZZeoO7UsFFaeqbCUCyaNXdKeZGmsBWrNSvAxTXqaoPDSm0qFIQABCAAgWoRSA7va915zq4b6eIsuyj9xq45na3tgo9S9DXUkuvPY4Isei5NUMrDSUC5Pw6Y+I/cjuRwvzbz7o7881BwKwf/iKtb2/w92j2Yvu2cyy0/vdM+5HbO0+Obg/3oPFz0MnXzC958/GmOUh5O9ro2pxKSyHvyo7jfpw5YenP2Mfpa9XbiiuSn9JJ4YVSA5MJvcvW3dFkuDyeFyUXi0jxc1oDyQrv5f0y5PtXdhlwK79Bm3LpY3tPUdMVS9J3fXKvOc28P/mXHZHfRXkFc6FqLVSGdykfKrBQT7DIswiH05AZ/h1bB0ScDM0M6DRfd8M7lVFyBWRnLEICAIQqwNRVv5l735u14QzwibB9z3RYt2B4ia+KDFWsOBQKBAAQgYKACrkGn5W+wFq3lhA01MytPD33DCysoJNkUOVbuIkTSYE7s5kme4hzb1DNg5520cF+SAoeHy86eK01fJppkTfJDfiY40Z3sQzZtGkL2tl2e1e39704lh5HmSGqvlL+mpxbYKJ+4rtqB5bSatjMujR42+c4gpBe3XUtxss1oTXTnd3HC9vd4a0YFiW52TwxfVvi5qkSconzDcx4eCRnkIILlOAwKPZsWE+RKvkkIJz/xggAEIKAswNJUnGrl3c/i3H8XC5kRZ9+9lda6RTPmJizXuEBdz7Y13qeudli3Lax09dghbghAAAL6I1D+KLPylHjUuUby04rmXN708cDW9JziopeFk8fAjzddzGRMnSYDSd/xrvJs6xYtllyRlpCbZC1hXYBkejdxbi8/E5zojHd2bMSMAe6OVPqNf1dM6ujamHR9wutbZv4aExQUnX74TKMRPaV9cLhc6eLbvqccO1i3i3hieaWmTG2bdZkY/hn/+8hkKiYsZP/qPlwx0JBNF+d6KM2iHhviKgFkvNm9t0vplLtSR9gAAQgYogBbU3GqybDpgzN2rvztSmoJmTa9rCT1ym9h+8uGv+9lY4iHiUVj5jo7G9vasiggtoZibGfHxfTpbD06iAsCEICAAQmY2zrIndiuYOjp24LWls3ccvGh9KFnhclXIudabJjAnDlcWo/3skGoeO50xrn0f/qn5koLaPaevmPud/mTt1xJlpyaJ11vmZz/3dwdjPxVwM/KN5/22ypv2al83/Bw0cTtmvUlK50ef+NZAfmeQZB5cemEH1rMG99ItoteiN2x4ui9LLoARW4Aj4w86eJcn5z1Zlw8EBXQi3zDIJkiXVY3O8tPPHc6QyZhcb10rU0rLOsJCxCAgD4IyP5Jq9nBpEUvW7w/hdHn4sD94rXun0RM70gvGjcb9c03jf7cumbeFl4pZWLl2n3cN/O6NcCjxhlqtbJoZGTq2bbw3Pla6VyHOiVKlGSWHB2KGqFCAAIQgID+CfBL5W73pgdYdG3f8cR57ZSuymYMvrhYqZZ4r1X9jBAPo7mMomTR3GPxIfkt2lxr7/3K09roA6UmZfPOyfbIT9tGNjMnfZu7iURNUugLwVYPIkb0+/1GOuXYceSKg7/7ii98J2U/pH4n+bVLU/Mtczp/cOJZLmVOSvzvjw1jxCVk/VS8UM/+aE+l//fbjt1JT8eOFwQgAAFFASPytZ3iNt1cJzOoK8ypXuVxsHDCRlaFVHjq9MuNEVXmNZCK9WcGWvTrSwbLqmMnxmdhSIBS8/cCx053oXDscOzUFFCzmLY/UeQC9fkL1h29Hk+yT/KydWnV2W/u8hXTeolvfVYnqopDSg4P/ndYGPNqc6W2RH2vPnQpUTS5nLmje8/h875bFdDdTqmkphsqDknTVrRdnoVRsTAkos7OqLT9cUB7Bi1QS2fFDdpc5wdv1rWLEYcjFFR0A5nOD047AyA+Zt26aqcttAIBCEAAAhCodgG77gGbjwdUQzeuQWFBb2i22vp+Q7/YDQEIQKB2BVh7r3jtsqD3ygTqWFqade5UWQmD32fWpXMdCwuDZwAABCAAAQhAAAIQgAAEIFCxAFLxil2wtXIBCx+fygsY+F4Lnz4GLoDhQwACEIAABCAAAQhAAAKVCCAVrwQHu1QKmHbsYGSJs74V+9SxsjTt0KHifdgKAQhAAAIQgAAEIAABCECAopCK41NQFQFyL7RJT9nDPavSgh7XsejjQ3z0eIAYGgQgAAEIQAACEIAABCDwlgJIxd8S0HCrmw72NTLGs+UUPwDExHrYEMWtWIcABCAAAQhAAAIQgAAEIMAQQCrOwMCiJgJ17OzED+vSpJL+lyUmxvXq6f84MUIIQAACEIAAUyAn+ssvd2ey/eEqOdFBQbtzmHFjGQIQgECtCSAVrzV6PejYesRwyshIDwaitSHUqWM9coTWWkNDEIAABCAAAd0Q4EV/80eHz8eJHkKeGOZlVP4KjBaPIOfyiiFOFkZGdp7/Z+884Jq63j5+QxL2HjKUjThQcO+Fo4p71lq1Vm21Vmyx419bW1drhx3Sam3R1r7UqrXVqtVKrdY9igMVRBFRULaKbAgkIe9JICEJAQIk5N6b3/0gOfec5zzneb7nIjz3rOe3J8kjdlVRaSWZOImXj9Xxu/hYuI9CrdXQzSkyCVVRdX22tq9Lm68Vcgj7cPChZQjG69BFBgiAgCEIIBQ3BHW2tMlzdbUaNJAt3ujAD6uBA3lt2uhAEVSAAAiAAAiAAIMIZO7+yXTRLI9qi1NTrDalSuRXVJg0tzhmxSu3Zl/IkwiTt3WInrMhoVo0IOKCTO7s22M33pWlqsWFQnmwXi0n/Z6bWBZ+u0arcLd/wt3qIhVRdX1FRV/LmlcScpj5Tuc939W0X6sdKRAAARBofQIIxVufOatatJv5LMfUlFUuNdcZjpmZ3cwZza2NeiAAAiAAAiDAVAIJ0X8GzR1as2Fpbnqqn7+PqivFR6JTX/lstp85xXPpv3LdkMN/XFMSyI/ZcTzu2AEyVh6zWDbuPXarUmltkq/YE5XH59dm10nV6jv2uq1Uoaq+rs8OOb/jXJ1ayAABEACB1iaAULy1ibOsPZ6zs920qSxzqnnuEA6ERvPqohYIgAAIgAAIMJZA2umTPgO6y83PSrfp1F5+U/OZm00N7N225oY3cFjHB+nVw96C7DORMwZ/1WlXfPjd6QMjBG8WC8nA95FFavUbut06lsMZFZVRLaKub1m2Bn0BQ/vc+y+pIZ0oAwEQAIHWIIBQvDUos7sNm3Fj+R41k9LY7WkD3vHbtrUZK5sE14AQikAABEAABECAhQTuJlUG+Cr8evL40PL20rFoK7fuE9aflu2RVlbKtbNRSJAx7aT7aeQ2bfPozm8nTvr1UERHl7CoKz92/n1qQIR0lTifr+lMUKGo7rR1ilp0RCI5tridVHsdfftnh2jSF9CRfzdVWgEXCIAACBiSgKb/6QxpD9pmHgFyhrbDwvmPPlzPPNN1Z7HDgvk4S1x3OKEJBEAABECAQQREQqGStaM2l0o2S+8FBbdi3pmzYEfM/rmWVuLCYoUMke/o50NufcJP54crss27LNp1s3o8fLNMgaJElnD1k6zvxHm7OtOy/eoTqsXSuzr6tsfOspG+AlDTZ2NrV7cyckAABECgtQlgVLy1ibOyPfOgIOtRI1npmjZOEd/NgzprIwkZEAABEAABEGAdgXpWbpvbd57y9gtPY+MpytWdOn85s8Zx0flTSd6eNYNBuTumkG3V1S6rwDWxdSjZTHx+9lIyAi67SpPX9K2WUBtAV9VnaytbK66ur7iosI56ZIAACIBAqxNAKN7qyFnaoMMLc029vVnqXENumfp4E98bkkAZCIAACIAACLCZQPuOpimK+d7H1syIPJNeQqaSi0qSd67Z4hnaj6Jsxs7z/f6dnfcFlOjxxfWrzoyfKl9aXpzXZn313uk1Qbb0Y29o9lMNwETCsjo7q4dt3jxKWVRVX1FRkSZ9KUnC9rUz6pWrIw0CIAACrUgAoXgrwmZ1Uxw+3zniNY65Oau9VHeO+Osc8TrxXb0A9yAAAiAAAiBgLAR8hoamXZBviR669A3q+4kBdhwO33PqX71+2TRNOkPcJuzT7zvvHODE4Qe+nPnqH//rKmdj4/RopWxlufLA+PST7o5yAaXP9j3S5/GV5WTpAZEpSjKq+mpGxdX0pZy+5N+vo1IlJEEABEDAIAQ45GWhQRrWeaNlZWWWlpY6UVtcXGwjW1qkE206UcIUk0rPn8/b9K1OXGaEEudl4ZYDBzRsKlP6rmEvWqEUoLSBTENKxGwaWgWTtHmc0HfMpUS7vsvc+uyXHaLW9nBgwp9PCR9PPTThj/cUbwO0fA50J4b/oLRkSUNQWloOMRDQkgBGxbUEBTGtCFgNHGg7cYJWoswXsp00sdE4nPlewgMQAAEQAAEQaIxA21nzK7fuzmpMjA7l+Xs+uzVzieHicDowgA0gAAI0IYBQnCYdwR4z7Gc9ZzVsKHv8qccT69Bh9s/NrKcQ2SAAAiAAAiBgVARswj6cc+OrPY81nTZGJxD5MR+cnbBppgOdbIItIAACRksAh5kZbdfrzXEOx+nll6qKi8uvxumtDQMrtujZ0/GlhRSHY2A70DwIgAAIgAAI0ISAQ9gXXxTb0P3vSgeyzRtNgMEMEAABEMCoOJ4BPRDgcp1fW2bWiZ1bohC/nF9fRnG5egAHlSAAAiAAAiAAAiAAAiAAAkZBAKG4UXRz6zvJMTNrs+Idi549Wr9pvbZIxsPbvLuCY2qq11agHARAAARAAARAAARAAARAgN0EEIqzu38N6R2Jxl3eWM6mdeNkfbjLGxGIww35VKFtEAABEAABEAABEAABEGAFAbqv6WEFZCN2gst1WryIa2tb9OchplMg+6VL92nD+nCmdyTsBwEQAAEQMAiBmMWcsVuVWx6yKfV0uI9Sjujx8dXPLdhyIr3APmjW6u3fRvRR2l4tZfPQkGXC9XcvRASQIxTPrRk5Ye0lqs/qQ8fXDLKR6kiJnLNz6P+t7k6zv2yrxFVFGVVPU6vy06oKHlIVJRJhKVVeXFYlkIgqODwzim/FMbXk8K0oM2sTey8TB18TRx8T23aUCdbBKT0aSIIASwnQ7D8sllI2arc4HPvnZ/G9vZ5u+1EiEDARBcfcnGxEh3PLmNh3sBkEQAAEQIAuBMKiJJIouTHFMYsXpk/xkd/KPnN/fnGVyerY7H/deSXJe14Zv2zf1V+mycJsisrf8/7vE9bO/6O6QsqPnzxckSycQB1a9OKPKX+R4Dx/T+TjVyLpEYdLBIXijCvi9FhR+uWq/FSqSsO28mIVz+vcmPBITM7z7M317Mtt14tjbldHAhkgAAJsIIBQnA29SH8fyHnjZn5+TyK/qXzwgP7WKlto6u3tHPEaz91dORNpEAABEAABEACB5hPI3P2T1dJdbVUVxMeVPBsxxN2c5FoHzl4x/+jxXIqSheL5f775c6+og0Eb/7gjq3L3drsZES7kb9gpM9otvktRPue2XH3mrZmG/aO2quCB8NYhceoZ8aPbFCVR9ZyF5x4AAEAASURBVK2Jd1Wiqry7lXl3qeu7KIrDbdOJ6zuE33mCib13ExVBHARAgNYEsFac1t3DJuNINOv60TrrUSMZ5BSxltiMOJxBXQZTQQAEQAAEaE9AdO7r37vNH6oeOYc+13f35/uzyQQ6UUnyzi/j+owPkLkiOvfJJu+PIjrWyrfvlPH7/sci0eP9v2d0ak+lfP9vwLsTlSaztyYBiaBAeOPXsl9nl/40rjL2e/GjWy2Nw9WtlxCdRDPRT1oR3thDRt3VRXAPAiDATAK1/60x035YzSQCHD7fceECy3798n/cLszKorPp/LZtHRbMNw/qTGcjYRsIgAAIgAAIMI9A/r7vH7/yXdc6hvMGbThaHt7bYmoK5dz9nV0nPpVF4qJr67+y2vCbytzzgIUfdZrZ1W5qxYANJ/5w2vej3UvhuZvHdnonpqLLewf+Xj+0daLyqqLMyss/ChMPUOLKOs7oJUOcfYN8Uac/43eZYtprgYmt2rwCvTQKpSAAAvojgFFx/bGFZs0ESHzrtuFTsoCcbLGuWcKgucQqYpvbZ58gDjdoP6BxEAABEAABdhJI+O4Hj4WTataAK7uYHxP+8oVnz5RLJMLUX/sefC7iWDHZjW3zutI3VqoE4qSOTfe3j+SUSvKPvR3w3w/ZQ2fxfn733OyEQsn9NU8++i5BWale0mQPNsHRlaXbw4Txv7VaHF7ribiSjI2X/jRW8M/7xJLafKRAAASYRgCj4kzrMVbYy+HxbCdOsBzQv3DP76Xnz1NVVbRwy8SErGm3mzmD5+xMC3tgBAiAAAiAAAiwjEBxzObrM1a9p+Hvz7SdnwoXnB4i25vFOnBKxJjPPz9HUX+tPPBtGf9zBYWtnN82Vu+iLs0SnfvmVJfX1vNSj1j2myldPB422e9ABkXVHXJXKGhZgkxHrzgXKUzYp+tZ6E03q0pMBuSFiQf5XaeZDYrgmNs3XQVqgAAIGJiAhv8KDWwRmjcaAiTidVq6xG7GtKKDf5aeOi0RN7KfqP7AcLhccv45Oa6M16aN/lqBZhAAAYMQqBSJs/NKHheUlgmE5RXCsgoR+V5eIaoQisz4PAsz8sW3rP5uznext3J3sjbl4Rghg/QVGmU/AY37tVW73a5b3+tfbr3S/4Ve9uaC7DM791d6b6ZGbS6VbJZjiVk84M7bssPMqnNE1zb86v7qZjLA7upe9l/sY1EA79iB+97hcnndfkqqhIn7K85uJNG4bhW3TJtEmLBXdPe42eDl/KApFAfTXVuGE7VBoHUJIBRvXd5orQ4BEv06vvyS3bSpRYePlJ49U1VcUkdEjxkmNtZWg4fYjh/LdXTUYzNQDQIg0FoEJBJJWk7BjeTMJ8WV5F/m46JHBaWSpmxmzOFw2thbtnWxbets087FtoOXk4+bPclsLQ/QDgiwl4Do9Jc7u80/rfLHZ0rkgBeon0mAzRv0cXTGkpc7Lj+XW2bvOXze5j++aHBwW5S0+Rtq4TbZcmnXFz4ZNLGr3RzZWvEGazUPblXePcGxVdJ12rS8yNsBwbHVwpt/mI9aZ+LkT0sbYRQIgIAGAhzyV4uGbAZmlZWVWVpa6sTw4uJiGxvyjpVGl5GYJBGJBDdulJ45W341jqT11wFkhrxFz55WQwaZh4SQtP4aIpqNpO9azhCgtGFIQ0p0eMjJ77GMx0UJ93Pj7+Um3H9UUq7jLZRsLM26+LoE+7sG+7mSEL15UTn6TpsnnA6PU1070Xd1mWjMoSEonZgkvHWw4t8PJSKytTvdLw7P3GzEB/zOk5pqqE5ANbXRRuXpaVWjZkMABLQnoN8gpFE7hPm3z+z77UBWn5WrwtzqkxZnHV6/9lAm1WdJ1MJu9Qkhnw0EqiNkEiRXlZaWX74iSEwUJNwUF+hsJhjXwcG8S5B5UJBF714mVlZsQAYfQMCICZAIPDU7/+S1tLPxD/OLy/VHoris4mJiBvkiTTjYWAwO9hrew8fHzaF5Mbn+7IRmEAAB3RKQkLUsJ9dL90hnyEXeF5D95MQZl81CV3L4FgyxGmaCgPESMFgoXh2EH7rJ7TnEw7rBY62ent111mvaaGpfvvF2k9F5TuJksnibfFFkH9XsnIrExIrkZGFWtigrq6q8CX9wm1hY8Dw8+B7uZoGBZkFBfHc3Cn87G93TBIdZSOBpUfnpGw9OxqU+yG3t83VJzP/n+Tvky9vNPrS7z9AQb0db/L3LwmcMLoFAVWFm+cFXydR0xqEg7w7EOQkWk7aY2OG0M8b1Hgw2LgKGCsVzTu44nN9/0afz3c0fx6y7WT/00ou79plP/jS44EuE4vVTYnEJh0MCafJlPWqk1EuJRFxYKMrOET1+TGJySXl5lUBAvksqKzmmphwLCyGH7CFqL43AXVx4Hu5cW1vE3ix+OuCaERJITs/7/dSty0lZBl9d9SCn4P9irkf/faN3R48ZwzoHejoZYXfAZRBgK4GqJ8llfyySlD5hqIPkDULZnjmWU6NMnAMZ6gLMBgFjIGCoUNztmdfe1oJv6dWd+wTT3utvVRmjhTRE2E+Aw+Ha25Mvs04dNTqLZUUasSATBJhOgMxFJ0vBSRBOVoPTyhfyRuDS7UzyFeLvOn1Y565+rph5Q6sOgjEg0AwC4swr5QfDJRWtuo9sM+xsuIqk9HHZby9YTPqW27Znw5IoBQEQMBQBQ4XiWvkrSPh9d86ItxaRra1ztKoAIRAAARAAAXYRIEF4XHLWnhOJd9Lz6OzZjXu55KuDp9PM4UE9Aj0QkNO5s2AbCDRAQJR6pvxQBCXW8e6PDbSovyLyNoGM7VuM38jzHaK/VqAZBECg2QRoHIqLU4/sSRmwcG6927k122lUBAEQAAEQYAKBnKclWw/FXb3T4IYidHKEvC9YF32mVwePlyf0cHO0ppNpsAUEQKBxAtLxcLbE4TXeiirKDy+3nLoVY+ONdz8kQKDVCdA2FBdnxey40HnOZ77c+piQ08vUisjkZLWcZt/qUFWzbVCrCJPUgNR3C1D1kVHOpyElYh4NrYJJyo9NA2mdgxKKqg7/d+/QxXuVInED7dKz6MqdLDKRfuIA/3F9/fk8E4WROqek0NySBA2tgkladihAaQOqCZSeplCHl7JjPFyFjKii7MCr1PjvKccAlXzVmyaAUq2o17uGraLb2cN6RQHlrCRA11A859//O+U2a23HegNxilI7RZxE5rr6gSQ/9rpSpauHBiZpSRKgtAFFQ0rEbBpaBZO0eZz00Xc3UnK/P3glK09nb1e1dESHYuQNwt4zyRcSs1+Z1CskwFUflHRiLR5ybTDSkBI9nygagtLeJLJfetnR5ZLKUm0eCebJVJZyjr5hOfOX+vZU1x5Ua/pOT6takwDaYj2B2rf1dHK19OLeQ6bjp/fEwc906hXYAgIgAAL6JiAWV/105Pqq7ScZHYcrKBEviC9ko3XilyITCRAAAboRIOeHk3PLmLtfujY8yS5uUh+FTTgRVhu1kAEBEGgJAVqOiuecOZZQmZnw7uLdqq59t/gSRbWdvHZVGNaPq5LBHQiAAAgwn8CjgtIvdl+g+fZszcC8/2zSrbTHSyaG0G2+VTN8QRUQYCWBipPrmXh+eFP7gvhYcfJj82c+bGpFyIMACOiJAC1DcbewVVFhqg7nxKxbnTUxamE31WzcgQAIgAAIsIJA7K3Mb/bFlpSzYdfiuh1C3i+s/PFsxIx+fTq1rVuKHBAAAQMSECYeIF8GNKA1mxYm7ue268XvPKk1G0VbIAAC9RGg5wT1+qxFPgjICYhKkvevnNDHy4FDLiu37hPWH38skhfiEwRAgEEEyHFlO/6J//iXs2yNw6v7olQgXL/j7C//xBN/cYEACNCEgHSg+MRHNDGmdcyo+PdDY5gC0Dow0QoItJCAgUbFpYPcBzKVbF+9uOZ9ZJ8lGPpW4oJkPQSORbhOvjBjY+T53QM8ramS61Ezw0b1Ljyb8kFIPRWQDQIgQEsC4irJt/sv/Xs1lZbW6d6o30/dyi8WvDqlN9eEo3vt0AgCINAkApIqwT8fSESCJlViujDxV3BsleXMHRQHA3JM70zYz3gCBgrFNUxBbxiltELDEig1JgLltuMOpkWOdKl5fq27LQ2fGD52x5//fRCCWNyYHgT4ynACFULx57vPX05izLHhOuF9/Or9wtKKt2cNMOM3cEiITpqCEhAAgYYIkNna4pz4hiRYWibOvkHm5PO7TGWpf3ALBBhDAO/DGNNVMFSJgEXfMEUcLsvOTCdjai72dkoySIIACNCaAJmOvnr7SWOLw6u75HJSJvGd3RPyaf3wwTgQoCiJoKDi7EajJVFx9itCwGjdh+MgQBMCCMVp0hEwo/kERA/3zBm4+Jj3os+WdG2+FtQEARBoRQIkCl257cTtB09asU16NUV8JwQQjdOrV2CNMRGoOBdpzLGo9E3Eua+NqcPhKwjQkQBCcTr2CmzSmkD+pcgZnTs9t99x6cEz34Y5aF0PgiAAAoYjQOalf/TzmbQcYx+QIQTIRm6VQrHhugItg4CREqjKTxMm7DNS5+VuCxP2Eg7yO3yCAAgYgABCcQNAR5O6IZB/emVfv74rb4Ssv5B2afNELwNtfKAbZ6AFBIyFANmnjawPN+bxcOWeJueNb9h9gTBRzkQaBEBA3wQqL20jU9T13Qrt9UsqL/9AeyNhIAiwmQBCcTb3Lpt9Kz4W0Xfsx7nDfrx66/eI/vL929jsMXwDARYQIOd4kf3SjXN9eH3dR9aNb9l/GSec1ccH+SCgcwJVRZnC24d0rpaJCgkHQoOJlsNmEGAHAYTi7OhHo/MiYdObX991efuX3xd0xGC40fU+HGYugZ3H4o3n3DLtu4nsqU7IaC8PSRAAgZYQqLz8IyWpaokG9tStElde2c4ed+AJCDCNAEJxpvUY7JUSOLdjUwLVK3zBIMTheCBAgDEEYm9lklO1GWNu6xpKyFy6jbGp1oWO1oySANmujJzjZZSua3ZaeHO/RFCouQy5IAACeiaAUFzPgKFeLwSKC3Mo6srbnTiq1+IYvbQGpSAAAi0m8Kig9Ou9sS1Ww2YFhA+hxGYP4RsI0ICA6M5RSlxJA0NoY4K4UpR8lDbWwBAQMC4CCMWNq7/Z4m1YlETTFRXGFgfhBwiwioBYXPXF7gulAvz521C3koPNCCXCqiEhlIEACLSMgPD2ny1TwMLawlsHWegVXAIBJhBAKM6EXoKNIAACIMBkAjv+ib+TnsdkD1rJdkKJsGqlxtAMCBgfgaqCB+LsG8bndyMeS5kUZTQihGIQAAE9EEAorgeoUAkCIAACICAncCMld//ZJPkdPhshQFgRYo0IoRgEQKBZBIS3sHF6PeBS/q6nANkgAAJ6JIBQXI9woRoEQAAEjJxApUj83cHLRg6hqe5/f/CKUIRp6k3FBnkQaJyAOPVM40LGKfHwnHH6Da9BwLAEEIoblj9aBwEQAAE2E9h/Jik7r4TNHurBt6y84v1nb+tBMVSCgFETIPuEix/hJ6ueZ+BJskRQVE8ZskEABPRFAKG4vshCLwiAAAgYOYGcpyV7cXpZsx6C30/eys3HburNYodKIFAPAXHGFYqS1FOIbIk4EzOY8BiAQGsTQCje2sTRHgiAAAgYAwGJhNp6KI5MUDcGZ3XuI+G29c+rhCEuEAABXREQp+M8xYZYih9eaqgYZSAAAnoggFBcD1ChEgRAAASMnkBcctbVO1lGj6H5AK7cyYq7m938+qgJAiCgSkCUjlFfVSKqd6IMhOKqRHAHAvongFBc/4zp3kLMYo6Gy2FUVIrC8oTPe1lVyzjM2E229j0WHh5DCms+FGLSRErkADVtk96/8euPG4cN3fjVFyfWf/TP+yv/evPtg8vId5L+4kTE1KFjVv/33b4bv15MO5v29H6FSKCiT906h4iT0vKY8PBjtXK1jdra2iqatwqMOFZcK1RfSpB9def6WSO8RkXWOkyJSpKPRr4+rbvbYqmjdS9R0vbnu7sRKA5dno+8lF8jILi/P2KElwOxwMFr4seK7JrSWivlJsqUq7pStynkgAADCZDh3D0nEhloOL1M/u1EIgbG6dUlsIa5BKrEVfmpzDW/FSyveppKVWEeUyuQRhMgUEuAV5tEykgJhEVJJFHqvov+XLD0LkUFVOdnpATvFl6ZyKOSvljwN4luRUKhtKDmQ15XLBGn5lX5bd37aW5ixn97/7jlOnS0FSm8f+PX+5kPsqgzcU5yUfmn+P6dKxlPb+7l3g3my/MoJyvndvZenVyDOrt19R2zRXKEH87bvHmULP7mjSsfzuFIRRcd2ayoERBxQRIhuysuLraxsZElRTc/WXQ8lxpVfaeQVU/ErJj8R+fPv/raas3x2qKU7+e/lv38N9FrBW/WZtamROfem3di3J6UnwOtRdl/vzdu2b7Tv0yzoY6tmPVv7y2xn/Z055Uk//LStE/OJWwYVFtLbuW5/427suiviBq2FCUUimqFkAIBVhBIuJ+Lg8Rb3pNJD5/cTH3U1a9Ny1VBAwgYOYEqcm52FX7bNvgUVImqijJN7L0aFEIhCICALgkgFNclTRbp4vFrQ2OpW3y+7FHh8VSzpUVPy/L+SzufmBN/OzdRICyXZlHCrOMPn+ZXFY0MKPn54OlT0qyAN0OkHzWXRFRc8vhUUmKux4D3/Qp2nT+eENAjzM3BkUfC7LzSJ+TrRmYckTXnW3R6kHLP4c+nZQOF2UKX7mGrZS8OYhYvlquq75MnrHRwd62vVJEfFhkbRm5SpK0proDw32UHbGoeEqfSruRMXrEh0JrI89zHbFi//8UjxdNm2oR+cX4Ur/pHyjpwzvO9l2oak8+P2XE8LqNNUvhbqUs5Y7dKm1x0pM6rEIUlSIAAIwn8jt3adNRvv59MRCiuI5ZQY9QEqp6mGbX/2jlPBsYRimuHClIgoBsCmKCuG46s05KbTXm4NegVmUl+syhrz7FVy/a+9MuV7dcyrlTH4eKCvDubz97x6DV2ZOm5jxKqwsY9Fz1p1ps+SsqKElfG/PXtvSKfoNCX2lpy+R5zh/QLrkjZemLfG7fzlORIkui8lp+XkvQjaWXD5QRB5acvyWZ3V8ew1bLKc9iVJ6j3WPPVc7az95YpaySy9Uw5V5ZqLO3qWfXTpv3Zsqn0goL0KrPHSSmkDq8mDifJ/Evrd9hOVxoSl6oUZJ+JnDH4q0674sPvTh8YIXizWCiRSI4skpbhAgH2ECDj4fH3yEoWXDogcONebnK62v+LOlALFSBgbAQwO12bHgclbShBBgR0SACj4jqEyURVZP1y++UX67H8Au9GwsrgOoUP83NvbZ3vIh3Q9RkaxvVQFniSeuqDdJu5vYYMsOZSIaMd02K/OZ4ze0wvisPhKuRsg9aPDVLcSRMm1l39+5AvlUz5jbMVdb1MQlldS4mLnRhX2bHHh9vmev5Qu7mIfIZ9SuTiw8O+WNhNOkFdmh4fVTsJXK6LyErHwFt42UzbtC1uel/3qekFlq7dho/xeGCWo1Apenxxw8JPqPejI/uozI1P2zy6+47ATb8emtPRnIq64rl1wdSAfzfmbJbPOFAoQAIEGE4AB5jptgP3nr713pzButUJbSBgbASqCh4am8vN8LeqML0ZtVAFBECg2QQQijcbHTsqytcvV3sjnfYdFVV/rHrv6eP4u9+tOHQhZ1i/WfNds366oU7B2XfEd76KTG47nwEf+8hug3spcuNv7P4yTXGnlnB78ZnQUAtFZtZP1fPbb6bsoviOzl5j2nce3ubW/VPHM+M7nPwksOt0f+f2cuGcrBJbleBXXqCHT4eh6/99uL5G8bHwoYk1VghuRi74mIqI/rOPg3qrPuGn88MVmeZdFu26WT0evrl20buiGAkQYCqBp0Xll5Owcbouu+/S7az84nIHm9r/GHWpHbpAwEgIVJQYiaMtchOUWoQPlUGgyQQQijcZmXFWKCy88+nx3fHX/nxS4FYbamtkUZR+9s24jErVMlOrLitGdvWXZQaHzIpWrBsvvfNTjsd8//pCaI/5k2a9UJ65Pz7xfF7e0yf3dj25d8DCKdAz6IWuxemxH6THBnt0mxYy5Oja+DHPPc4c8ap8dyNNi9pVLdLZneh0zOmekyKl+jK3v/K939c/T3Sp5+cqd8cUvxcOqMyYpyjL9qtPJK/pqzN7oAgEDErg9I0HZN2FQU1gW+OEJ6E6eVBHtjkGf0CgFQlIhKWt2BpTm5JUghJT+w52M5RAPSEDQ72B2XogUCQo3HXr5uWM/5l051BVkqpGmyivNJ8+cpZs7/Ra2fgbl5v733ve/mtZvl2HTrA2M5NtnS4WVeQ8jv8hyfydTmRH9vis6/FZ54VJ/JBeu3cOsiM7qMsa9QnfXL2leq0JukyVpdxMcw7obG8uuL/zpZevLj7ylfQn6dzXfw9497f64nAiUJzXZv1didq0eTIV4akubYMuEDAcARKDn4zDcUG674CTcWkIxXWPFRqNiYCkUu09uDE5r7WvEiEoaQ0LgiCgCwIIxXVBkaU6SNx9IvmfX6/tKCvKe7zlwm7pQDffc4lnI+5amAr2Ht+9S1VKOiqumqPLO8sCy3+HW9jXOaXE/vUT+ZGhyi2RbdsOTJYozcFXXiy/fOtyiuq/8e6FiLuLazY3J3W3ShfFLzpCKhHZF6ifL5BQ2rLsn2XBg0+kF9h7Dn91x4HwAGkbaddjf1/WjlO7tbtMlaxIWkwuG6dHK9tzSCPKl3RUXPkeaRBgLoG0nPwHuYXMtZ+2lqflFKRmF/i629PWQhgGAnQngFFxbXoIo+LaUIIMCOiOAEJx3bFkgSZyhJk8nM0qzNhyLvJ+nnRncMq/4/htynMjTTg86ei4CY+jYZDc1nPwtsbC9VpWHI6pScP7+DtN6S7YH3/6FzJBXXaauaVsgvpLHcmQuPziuEwfOWO69M7b3nfZ0Dc97NrJi9Q+62zbprpYXi4doOmsdYrIXqiRCH7j34dvyKVrPslicEntYnC1Qtmt69z9pXM1FSAPBNhB4ERcGjscoaEXJ+JSF47rTkPDYBIIMIKARFTBCDsNa6REJDsbxrBGoHUQMCYCCMWNqbcb9XVUzQ5i5+6f/vG/78hxZfXUcOklCyjd5tbdXr2eGvVmWwbObmTtOcW1aDu9b1tZpF2vGnnBg4LUlX+9tbDfkkF+Q+V5+AQBEGgNAmR2+tl47FGsL9SE7YKx3TmyZTr6agN6QYC9BDg8M/Y6pzPPODxznemCIhAAAS0INDweqYUCiLCLQIWoYuuFzVvObaw/Dqe7w8RyYj/xgvhCd1thHwiwiEDG4yKy0TeLHKKXK4Rt5uMietkEa0CAQQT4Vgwy1mCmmoKSwdijYeMkgFDcOPtds9e5xTmrjrx9KuW45mJG5RIviC/EI0ZZDWNBgMEEEu7nMth6JpgeD8JM6CbYSE8CHFNLehpGK6s4fFCiVYfAGPYTQCjO/j7W0sO0p/fXxKxIL2DP/FLiC/HowVPs56zlIwAxEGgRgfh7CMVbBLDRygn3HzUqAwEQAAGNBDgYFdfIRTWTg1FxVSC4AwF9E0Aorm/CzNB/Kydh3dGVhYICZpirtZXEI+LXrZybWteAIAiAQHMIkLOvESg2B1xT6hDCOLO9KcAgCwJKBMyslW6QrIcAKNUDBtkgoCcCCMX1BJZJai89uPjp8bUCITsXeZYLyz49vubyw4tM6hLYCgJMI0BO2yoplx54iEt/BIrLKtJycFac/gBDM5sJmNh7sdk9HflmYqf9CTg6ahJqQMC4CSAUN+7+pygSo359ZoOoSpS788jueQelXyuTWTY4TryLPL0B0bixP+vwX58E7jzM06d66K4hcOfhE7AAARBoBgETh8aOa2mGUtZVASXWdSkcojsBAx9mJsy/fWbfbwey+qxcFeamxkpclHzqt33/3EwvKBdTpjY+IWHTnh0WaMtVE8NtCwiQeembznxZPePRdfbYWbNVdGXtiDeZG6zoF0ny7b8+Ty6uM+7l9uIzoaEWKjVz7x37302VPxiH9Zs131VNYW2V7JSzsS6DJ9vV5qikSu98eDxOdsB5TXZQyKT/+Vjm3ruS4N5rpHyLkfgbu79MU6knveG7vTg0NNSK+Lj57FfvjFjd2a1LHRmSIci+um/7F9ujnkw4cSwiQCGRfyly6YK1uxML7D2Hf3D43zdUDm/Lilm5+L0fT1zPLbN07Tbp490/L+go+3nKv/Tx7InrY3JNg2Z9uffnBW0V2qSJmMWcsVuVc/pvvHshgooM/3vy5nAf5QKkQYBJBMj26Uwyl7G2Zj4pZqztMBwEDEnAxNHHkM0zpG0TR7ywYEhXwUy2EDBYKF4dhB+6ye05xMM6qw7OnLPfbNyX32X63Ddnebax4osF2TcP/BS5Ln3JRy92xZmHdXA1K4Ps0/bFyY/JiDFF1Yl1KZfeGwdYiiRVSppLUkt93p/UxVspq76kq/+oaH9S+HjPf0+H9evgKpdTVSjPrcqLzS9PKcsqDfbQfIiGVYcPRlI7HrWb62tFTN3xyK5N+sF5N0h15+cVLwooKjhkVnSIXKf8U5h98ZcSipLqFYqFX578eNXo9d51f9PErJj8R+fPv/raao3y7vGZ2+fMufL84fSfA61FBbeyyuRKqz/L0594v/1H0u++9uaCgiubJ83Z0PvKe12p4pgVr9yafSHviFfxxfXTSebJZT5KFcOiJJIoisrdPm6V+19RYTUlKZRQRPoBFwgwlgBCxNbpOpxn1jqc0Qr7CJjYtqNMeJT0bx5c9RAw4ZnYqg4f1COIbBAAAV0RMNQE9ZyTOw4/CVn06Zfvzx3QTnVEVeqa+HG598vrV88d5EficHLPNXcPee6VaS4XT18T6Mp149ZDTvn67Pg6+fpwK/8Xgr29zKpnHHBt7bznBvk4thhQaW5aYkFOXImEyr0sm/p++pSqTrGoIvNR4uYLd927jFrimvXpubgLBWUVElUh+Z2oSvZeQFAuMnUePXhW9KRZG7rYywvr/RRXmTvUvruRrRtfq+GEs7DI2G2LhrjXSkoVJkRvcfjku9mB1uSFlbl9Zz8P1VYs+s5dNITE4STX3L7X+AmOBdI1nMVHolNf+Wy2nznFc+m/ct2Qw39I3xmoXaKk3YcSL/z+Zz6VEjmAQ672yxPURHALAswigBCxdfoLrzxahzNaYSEBEy5mXzfcrdIhcRPMPW0YEkpBQMcEDDUq7vbMa2834Aq36zOT6hTb2TtQRcVkcp5qwFRHDhmNEagQVXx18mMt9ktPOz0vTTH/3CbAOu2jgwl1Jqjznxk4fbazaptV5XdSr0bnuiwLbfv3+WM7O/XfOrG3GSfrJ6WwND35yMdp5r39O80cEORCXglZ9Fplk30i+b8VWSUD+0+c7qCqkMOhJLIYXURZmpcfPXt411MiUDsqXndKvFL9bJPQsRNtqzOI1199MWpD1nrJtolKIhqSuZfPBz/7PxsNJapZopL0Gwc/Wxk7d/NbpCA3mxo4VP5SmTdwWMfoTJVX8KKS5EPvz/2gfM3l3+88P3jGuC37yiXu5imRiw+rasUdCDCIQKVI/KiglEEGM9fU3PxSoaiKzzPUa3TmkoPlIEDxPHtX5t0FiPoI8Nr1qa8I+SAAAnoiYKhQvBnulF66eN0laIxLM6qiiiqB6EvblM8PLz1+7s8dtVsuiYsKH+w49WCfX4c+PkOjQ2rGghPjf9uQKlbVU30n/Of8hcDxA3rXvkktPX4h5rx1r1f7+bibUPOHWZ28dvatxz02BVM8Tu3fj56BY78LVNHHt3Qf3Y18qWTW3FhaU6Vkorntk7L8c/dOiATt/zepl/O9y9flsvIp8VT8jctUSO/qNd3Kabkg+Uz39986Jl0pQ3OyuMi88OaSEeF7T6QXWLoOennrzi8meqn9wFSv/HYe/M6P0TsmyhZYlZVy7WrDdx6fn3TrAUUpXiwci/BcmvLWlpPvjHThhcWc7LJ6avcJM/87Nobi89RUazYKuSBARwK5+WXVr8roaBy7bCLbXmTnFXu51rezBru8hTcgoFMCXM++1PVdOlXJKmVcL4TirOpQOMMIAgz581+Y/u+3X+8rm/D+eJxF0dLn6uz9U6dSlFdEU1YjB80aqUFtzk6lWdNBwc9GVwe4GiTVsojC6bUKTexCe44NlYnMrdWQ9dNB9fnqtVqkK9UDFDPkFSPep9IoUzOHzt4h0/y8yYOQS3G4nNpKspSgQMRXWj+uVqq4PXn3WCfXLoP8hipyNCasey+PWvedszVPkH1m/bSXtvf8Z5F8wLtaXrbyW1CQmvjXl5PDx+3eHOZgaSUuJDM3ai6RUNjRV3l1/ajN+cnyQjKFfeT6szmy24jN4YpsJECAaQTyith5FCI9+4FMQEAoTs+ugVU0J8Bt14uiyJ8N9ayDo7n1ejePw23bW++NoAEQAAFVAgwIxUtTYn7cdiSz7eR33x7hUTvySpWVqW2jRRVLZ6/r5tKhKt0YRBYh68K77OKsHy9u0WDS7YS9n94XqhZwfYKeUckR5p1MvPHPo6dZ5TJJrnkbh7ZjO4UMcaxZZa4kLDh/6c+t2Wqj6FzXDiM2dHSSiXnMnzRrvrxCLhnfdus9WvOmbZRsxLvyftr131Iy75XmX0++eP3eNWnTnbsptk8nmhLjr4g7ON4xbztQrpbL4ahZIC8hnz9c3OJq7uZmo7wCvEQgFJTIQbt29ixK4ppJyqXgrbtPm1j4TWzxrFFKKuRJrnPgxE8W/Ru2PXHQIkcH4emzd4oDZGpF5/5JdH+Op9p3l9cGjfhSfVDebtKPV3fMaCPXqP9PuZf6b6kpLdDQKpikTQeWV6gsw9CmCmSaTeBpAXkqdfbLjpihW23N9ku5IkxSptFAGqAagKMoUqJkQjkFUnl3FEVI1BJwDiwRciihLv9vqVXegpRS92nQYmNTOxFRQzGyQID2BOgdipPzzA5/t+no0y7Pf/DRoDbS/duULktL+SlWskwSmevqB5L82OtKlZK9LUrqxKQqSdXPZ7ZViis1mGLKNzelhJpKFMKCM/FJEv8+HwRbW9ZMMxeXVZRcv3nhCC90gq1CrDohLDEL2TCpdu90WS5ZK16hJqflbVF63CGR/8KhPV341W9jxGVlT0/fjDsf0m+gWY0OsaSinOv3clCtyqBg8gK8vqtSXBF9bdu6sRtMamfNW5vzza0VfT98XrfPV+wesmNBN2tR9pl9Me3HLVWUEa2xOz4u6LloYCAZNCcLwPf8cc5nytekfOpL7Yd++Of4H2ZLd1D/9L9Jmz+hKOVqVEVx2BGJYu/0avOka8UlKlL1ma2TfJ08TjqxRFkJDa2CScod1EC6vELtPV4DsihqKQEJh6fD/yzwkGvTHzSkRMymoVX0N6kiILQSobjGh95rkA7/Y9HYQjMyafhENcMLVAGBBgjQOBQXZ53a9NVvT3ss+fStrjhNvIE+1LroRPI/9/NS6hGXVNWJw8Vp2bm5AfaKo8g01BRrjOuJIN+64sb/DsapVpGOiqvm6PLO07Hqvb921x3yrz6EXLklcgL5VTdyzjmhceLuPyMDx5B9zNsvv1gtsnzrcoqSHfYd0H3lj/Pfmh1gdy7X1HP4qzv2TpO+eyWyL1A/X4gI8PS2/GFZj+fISnJKeq74il++lZXbhH36/bXZA5zmkHPFX/7+yJauVLnqO2ZH56P9yC50qpf99F2zVHNwBwLMIVBeWf/8E+Z4wRRLyyvx4oMpfQU7aUeA33lCZez3tDOLDgYFjKGDFbABBIyNAIfsAWNgn3Ni1m2lFq0KU13hK07a9c43acPefXu8p9poeD3mklFxtXHyegQbz6bhS7iWm1QkKHzjwKtllS3Z5Vhtgjrf0sPO/RnNE9Qbp6ws8SQ17rprD+XZ5sqlsrRigrpA+sqgem58526hDqZ1JJuUYWVq/eXkLbbm6qP6TVLSsHDL+65h/c0opaFJxAsaWgWTtHy6/u/I1f3n7mopDLEWEpg5POj5kV1bqERRHQ+5AkUDCRpSItbS0CpGmFT262xxttJ5Lg10vNEUcd1DxOO+x6i40XQ4HKURAbqOij89dfC0y7RPtI3DaUSUrqbsuhrdsjicOMZ3Cu02PFQPHjr79hjZiFpTP58+K3waEWp6cWllye646MUDljW9KmqAAAjUEMBa8dZ8FEC7NWmjLfYR4HeaiFBcrVv5nSdhapMaE9yCQOsQqD1bqnXa07KVx1di73cdMlCxh7aW1SBWD4G7j++cuXeinkJjzz6d8m/KY2ziYuyPAfxvCQFyrnhLqqNukwhUCLFJXpOAQRgEVAjwOoyhuC2cUaeikPE3XFNe4GjGewEHQICZBAw0Kk4mpa8+kKmEbPXiA9V3fZZELexG9g+rpBL+7/XF/6ckIku2nbxWfSq7ugju6xLYd2N33UzkKAjsvfHripGrFbdIgAAINImAKU/pcIsm1YRw0wmY8Q30i7vppqIGCNCQAMfcjh80WRj/Gw1tM4hJ/C5TCBMa7p1uEBpoFARamYCBfqO7ha1S20Ja1W+P8Wuixqtm4a65BO49uRufdb25tY2iXnzWNULJ37m9UXgLJ0FA1wQszAz0q0TXjjBCH2gzoptgJJ0JmPZeKEzYS0mq6GxkK9lmwjXttaCV2kIzIAACdQjQdIJ6HTuR0XwCB8jvG1yNETgISo0hQjkI1EfA3BSheH1sdJ9vaa7dXqa6bxkaQYAlBExs2/I7TWCJMy1zg3AgNFqmA7VBAASaTwChePPZMaLmw/y0q+mxjDDVsEZeSY9Nz39gWBvQOggwlICFKSaot17XWZgiFG892miJrQRM+7xMUernirLV2fr94pj2fqn+UpSAAAjonQBCcb0jNmwDfyXWLMI3rBk1rZfmXtmRUUHXDZ4O36pmlR8THr4nnxbAYAQIMIKAhRmCw9brKExQbz3WaIm9BEwcfPhdp7HXP60843edTjhoJQohEAAB/RDArEL9cKWHVoGw/NLDi/SwhVghyvojw3F8TzPp+FnpnQ+Px6XITRvWb9Z8V3JTeT/5wsbk7CITu35dBi3yspWNtBUfPXt411O5qPQz4M1JvYNJVG/Sa66Lcj5pImfHiZPHy6szuR2Cw97ztaGorB3xJnOD5QfXqzYtFfUZGh3iER//TZLZ/L6LzXkOYR8OnrNszzO/zHRQ1Y47EAABjQQQHGrEoqdMTFDXE1ioNTYCZoMiRHePSwQFxuZ4tb8cc3uzQa8bp+/wGgToQwChOH36QveWkDi8QlShe73N05ifkcr1HlAT3ZYVmwVPjPa1UlYlyL3xf8U+q8YOcxQ+OXT54hH70RNsSbnN6MGzpKds5F3/qsD/DX8SWldfElHdDVcqCiv8xkUHSKtRkswf4otJdZIUKe/NYtXhg0kdSGZy4ulUn6GjFSZIRJUVlx9cHOwfSjnMfKfz1O8SZr7XVaoIFwiAQMMEnGwtGhZAqQ4JtLFX/K+lQ61QBQJGR0Aaiw5eLjhmpOenmA1+gxAwul6HwyBAMwKYoE6zDtGpOefun9KpvhYpKziXYzfQuWZhVlF5qYul2p+TohvpJaFBPi4mFNfMeUJHl+vZypPEK+MzctIeZ2RLqPgbu+cd3D3vP8WYuopZXI587ReH09DyVWHW+cdPE7OLxFTWT0Tbwd1fphE9Z+XEuj475PyOcyqacQMCIFAPAVcHS8UPXj0iyNYNAQ6H4+6keCGpG53QAgJGS4AfNIXrHmKE7hOvyYluRug4XAYBuhFAKE63HtGZPU/L8hKzE3SmrqWKyh7dtnT2lmvJL+d5WMtvaj7LCygXP/OaG66Tq3tZWfWqcqHg8dHLx/+2HrDet2TT2Tih/4ztk2ZF9wtQq9/QbdrpeQdPnqyZuC4uyLuz+ewdj15jR5ae+yihKmzcc9GTZr3pQxQkZscTblJNAUP73PsvSZrCBQIg0AgBcq44hmobYaSjYlcHKz4Pv7h1RBNqQIBjYj5qHYcn/9vDOIAQf4nXFAf/kxhHf8NLehPAzyG9+6cF1v2Xdl5CSVqgQLdVS4tEVrXD4CUVmbuOS8eiX/77743Jj0qlbYkrOPza34ZkTLuk5AnJLkv+/MS1TLeBy/1tbVx7r+1me+nSoV2PSQFH49+jYokmn8lq8EmhobI5tE9ST72bWNij15DR1mbBIaMX2jz85vjVRKk+MopOiBFu5IbE4h35d1NlKXwDARBolEBbF9m6kEblINAyAm2dMSTeMoKoDQKqBEyc/M1GfKCax/I7sxGriNcsdxLugQBDCGCtOEM6qulmJubEN72S/mpUSZQ3Tg8KfjY6WNqYUFgYf+viD+nDXvfkmkmEAoUBEonY2tqZ3FoGvjc2UJHNtw1YMrx6PLzXXEWuImFmTSX/NU8aWJOL69phRHVK+buz74jvfBUZ3HY+Az72kd0G95J9EG5jO08ka8xt7RRSSIAACDRCgISIccnZjQihuMUE8MqjxQihAATUCfA7TxJnXBbS6sQZdRt1dk/m5POlf+TgAgEQoAUBhOK06AadGyGWiG/n1kSkOlfeLIUmmldu8/l2PQN8j94roDyd7anH9wWUt2xkXJyXm23pW7PYuyLt62MX45RDeWIC12bywPFT1PY457Xt3659n+BesjC/1k6e6jSsovSzb8ZlVNaWS1OmVl1WjOzqTxFuhB6XU1ZUSNmqiuAOBECgPgLtMCpeHxqd5mNUXKc4oQwEagiYha4U5yRU5d1jNxHpFIDQ99jtI7wDAWYRQCjOrP7S1trUvHvkJDNtpVtDzsqWl03moVfPrczZf7mwcxf/AAseJSqOTbrr6D6GonghntYfJ6Z16e4j3UE96XG34B41hokqbDuNj67dO12WnXv5J7VgWpZNwmgxmaIu37tNlucxVzU0L680nz5yVu3e6TKh+BuXiX0URbil5d33dy5JErafKSvBNxAAgUYJdPByalQGAi0n0MFLOlkIFwiAgG4JcPgWFpO2lO2ZLSmVLo1j5cWxcrGYvIV4ykrv4BQIMJQAQnGGdlwjZt/Koc+GbdWmWrbpVJbxgHLzlt66jvQv/CX20BeFgkq+Xb8O/V/wkD6I5q4hLxZeWHfkIjlXfFjIsBcUY9I8s6Lbh+fdrFYk/y4dFZenlT5d7crW/Lm7TClHmnTssWFwB1d5poWpYO/x3bvkt9Wf0lHxmhxCz7/g4SX/fqtVRXAHAiBQHwEfN3trC9OSck0vyOqrg/wmErCxNPNxw8qZJlKDOAhoR8DErq3l1K1lv70gqSjRrgaTpDhm1pZTo0xs2zLJaNgKAkZAAKE4OzuZZrPTpZDtB7klxjyReEvPM+PYOHZYMkx6uLfqZeoXOGxT7cJweaGZz+vjfeQ3jXy6+oR+15isrefgbZ4N6LmVe9Mn9vrAuRENyKAIBEBAmQA5ZKurX5uLiRnKmUjrlgAhTDjrVie0gQAIKAiYOAdaTNpctm8RJWbXW0WemcWkb4l3Ck+RAAEQoAkB7KBOk47QsRkZBQ91rLHl6hza+YofpCqfFd5ynfrRkJl5+rNbM5d01Y92aAUBlhII9lfMPGGph4Z2i4TihjYB7YMAywlw2/aymBBJ8czY4yeJw8dv5LbtyR6P4AkIsIgAQnEWdabclQqRII+Oi514HlPbPT2cUaG2/5rcbNp8CuN3pIZtnKS2IxxtzIMhIEBTAl39EIrrt2uCQVi/gKEdBKQEeL5DyEx1MqObBThk89K3Eo9Y4AtcAAFWEkAozsJuzS7KoqlXVq695rYzq9kXnaY2UhSfbPM2iItjmWjbQTCMpgTIJuoONtgQSF+9Q9jiJDN9wYVeEFAlQMaQLZ/9mexzpprNsDtiv+WzOzAezrBug7lGRgChOAs7PLsok4Veta5LWWDYusDRGgsIkFXMg4O9WOAIPV0gbLFOnJ5dA6tYSYCsrLac+Qs5/Yuh3hHLLZ/7xcS5PUPth9kgYCQEEIqzsKOzChGKt7Rbswqx+1RLGaK+ERIY3sPHCL1uHZeH9/BtnYbQCgiAQDUB6Z7qs37lB01hHBBiM7Ec+6UzruNgsBESQCjOwk4vKGfC3mj0Bl9YXkBvA2EdCNCRgI+bg7ebPR0tY7hN5Kw4X3eAZXgvwnwGEiCncJs/86H56PUcnjkjzCd2EmuJzTg/nBH9BSNBAIeZsfAZEAjLGecVOcYz51RqyrlM8xljegfXmC8pfhz/7bW7t8uFljbek7v3Gu1gqupYZdLtc1GpuU+rzAO9+7zSpa2T7JgfcfnDny9eOlVcZevUYWnfkI58Uqn4/OXT/5dV5uDR583ePrK9pUTx8dfKO/XuKy2te5WLmMewrhfIAYFWJkBmUId29/m/mOut3C7rmwvFdAPW9zEcpDEBfudJXNcugmOrxNk3aGwmxXUPMR+1jrmT6unMFraBgJ4IYFRcT2ANqbaceaF46d1tCY+cfftPdVcCV5G6LYkzZciU6EnPRfbxSL169YpIqZSi8h/G/mnSdfWYWdHjJsyxTom6Wz2QXXz86l2HbhO2T5q2yqdse3y6gKLEuUmn7QdvmTTtNft7R3IlRIu48M4N+y71xOGknImvM1Tg4AYEDERgaIg3zr7WLXvCk1DVrU5oAwEQaBIB6dLrmTtIoMsxp+P8FGIVsY1YiDi8Sd0KYRAwOAGE4gbvAt0bIGDeiK5VYHj/kJ7WPJXN1YueCjx8O5iTPHIah894byqvQgVWej5vRHsXe/IMc3jevj16FmU8IOWFDy7Zd53gSPZp57q06xZW8fCGiHpSQvX0sONT3HYe7aiSEooqP5/BG+nZwF7PDHydocIGNyBgKAKOtha9O3oYqnVWttunkwe2pmdlz8IphhHgmPC7TLWaf5jfdQb5w4M2xnOIPVKrukylOPirnjbdAkNAQDsC+KHVjhOjpNgSRjp7+2cmXRWQY8jJ9PW0vwuculmp9IOjRdHR+/kV0kFuSUVllYmwMIcMmwvKnRwc5SG9Rcc2Jk8FlLM1dTWrUEiJM7IyKGtrQe798naB7g39HsWouApq3IBAUwhMH9a5KeKQbYTA9KHg2QgiFINAqxGQjj+PXG314iF+0GTKRP7XRqs1r9yQCZdsz0YsIfbQc6xe2VikQQAENBLAWnGNWJidWSmqZLYDNdZzXGb2F+84/ds3pZSNXaclA7vJ1njXutauff9BcRfe+iu/SMx3dPbqUFXmW0FVioUWvNrH2oRTklNKkTVez2SffO1giY1X/3cDCs6ltRnpmL3zxIV/ysx7Bw9Z4mVb55dphUh1BL62VaRAAAQaIdDB0ynY3zX+Xm4jcijWgkCIv2ugp5MWghABARBoPQImDj7mz3xk2m9J5ZXtwpv7KXHr/t3FNSVj4Ka9FpjYYgpS63U6WgIBfRCojVn0oR06DULAlKe2u5lBrGh5o8KsHdef9hn07Fxzk4qSzN+uxFG9ewQpP7Ec2yE9xwypaaj0+Llbbawo0xJ+uYgMjtfIVUms3aRj6Ra9uo3t1U0qmpuWaN8u6F7yv+bdp0Tblx69eOuaR79eymqlUmY8M+kHLhAAgWYRmDGsM0LxZpFTrzQjNEg9C/cgAAL0IEBOCzMf/oHZgGWiO0eFt/9shU3dyMZsZA85XuBojrkdPRjAChAAgRYRUI9AWqQMlelBwILfwCJoepiojRVPMm6LvEZ0kB0fYmbd7pk2t4/kUUFqI+MKRYLsOBOHl8mtuUVe+lNx2zayge7ypEdVjj4KITJ9/f4piddMvuiywLa9AxGx7ebKvU4GwNV/EMzZwVDJcyRBoDUJdPVzJWPjd9LzWrNR9rXV0cu5i28b9vkFj0CATQTI5HB+yEzyVVXwQHj7sDj1tDj3Nlk5pzsfOVzXTlzfofxO403ssYOj7rhCEwjQgIB6BEIDk2BCSwmY81gRijvYOj28l5Lq6OvL5woFjy9mVznLTzmrIVRR9KDKsp0Fj6p4cuhKknuHMQ6kwM67T8KlQ08HTXDkPc24HmPmta72Ia+MTS7u3tVPKmVelJAvDrYvvZ4rdtLwi40lrzNa+iihPgg0kwA51Wzm8KB10WeaWR/VZASeHR5ESOICARBgBAESJ5v1X0r1XyoRFIkzL4sfXhJlXKp6mkpVqZ7/oo0zJjwTR19euz5crz7ctr055rbaVIIMCIAA4wjURimMMx0G10eAgWFk7uV5/6XU+JMmTQzrN2u+a8giweXt/8YlV4gtLVwHBQ9+TvarKP7G7qtupJRIFZ2K/fdcoYAyc+jRecgil+qn2WZkz/Y/Xzy0gJwr7hq0vKenbFhdqrs0Nz7ZKXiu7A/bwMBOl8/unydbKz5Sw08BRsWlxHCBQAsI9Aj06NXB48qdrBboMOqqZCP6Hu2Vz3c0ahpwHgQYRIBEzjz/EeRLutStSlxVlEkC8qr81KrCdKqiRFJZKhIUc8UCiUjA4ZlTplYcviXH1Ioyszax8zRx9CML0cnUdwPvCccg3DAVBJhMQEMQwmR3YLuUAAPDSNfe0ZN61+k9jnvbPivb9lHLDw6ZVTM6btZu3rB289SKKYpr4TV/uNf8OvlWrr3mKjL5HrOHT5+tuFVPWLBjZoG6W7gHgdYjQIZzX57Qg6wYrxSRYxBwNY2AKY/78oSeGBJvGjVIgwANCZhwTey9yBdFDVVYV1xcbGljo7hFAgRAwGgJ4DAzFna9vYV0ojaulhCws7BvSXXUBQEQIATcHK1xsFnznoQZoZ1dHVSPb2yeItQCARAAARAAARCgKwGE4nTtmRbY5WHXtgW1UVVKwMOuHUCAAAi0nMCUIR09nDD40zSQhNiUwZ2aVgfSIAACIAACIAACTCOAUJxpPaaFve5kiRGulhHwAMOWAURtEKgmQCZavzKpF2g0iQAhxufht3OTmEEYBEAABEAABJhHAL/smddnjVrsbuvRqAwEGibgZovdkhomhFIQ0JZASIDrlMEdtZU2ejnCihAzegwAAAIgAAIgAALsJ2DgbduE+bfP7PvtQFaflavC3NRpi59c3bVt96W04kquRZug0fNeDAvAyjl1SJruzXjmTlbOeaVPNBUir3ECzlYuhGHjcpAAARDQjsDcZ4JvpT3GMeON0iIHiRNWjYpBAARAAARAAARAgAUEDDYqToLwf39Y+/bafVmOHtaaQOb889mq3cWD3/x8S1TU16unOVz8avWuJOzDqwmVhrx20r06cTWTQFt7z2bWRDUQAAFNBLhck7dmDbC2MNVUiLwaAoTPW88NIKxABARAAARAAARAwBgIGOpXfs7JHYefhCz69Mv35w5oZ1GXtCD2jwNlI5cuHuRuzqUovkO359+Z63Put39y6ooiRwOBTq5BGnKRpR2Bzq5dtBOEFAiAgLYE2thbvT69r7bSRikXMaOvi72lUboOp0EABEAABEDAGAkYKhR3e+a1t2f2lsXZmrALrl2+4R06zJeE4fLLqs+gnjmXryEWlwNp8LOzW9cGy1HYEAHQa4gOykCguQT6dGo7Y1jn5tZmeT1CpndH7LjJ8l6GeyAgJSC4f+id4Q6cxTHAAQIgYPQEDBWKNwI+OzvTsb2fo4oU19ffLzM9E3PUVajUc+Pr5G/O1zDboB5xZNcSINx8nPxq75ECARDQHYHZo4JH9PTVnT6WaBrZ04+QYYkzcAMEQKA+AoLsM5EzAp26vrorsaA+GeSDAAgYEwGahuKF+U8tLNQjSTt7Byrn0WNj6p5m+8rlcDFHvXn0CDdCr3l1UQsEQKBhAhwOtXRKHwz/KlMikwVendKbkMEFAiDAbgIpPyxcmTZ5d0reqRWYusjuroZ3IKAtAQPvoK6tmZrkysrK1LKLi4vVcpp9q0NVzbZBrWJTTQpw6HAt44qaEtw2SoBwayrqRnXqXGGjLTYqQEOTiM00tAomNfosVQs0CdSSCcGFJWXJGflaKmexWAdPx1fGdS0rLTGgj03qu9axEyZpyRmgtAE/yVEfAABAAElEQVRFH0qu8/YckVosvCf7Xk4fy2QcaWaOzKbG/jCwsbGpkcMHCDCTAINDcUtLle1tSGSuqx9I8p+RrlTp6qlohklDOwzfm7BLQkl0ZYMx6OFQHMLNxlKX/7M3o+/0jZqGJhGXaWgVTNLyUWwGqNXzQ1duO5GWY9STNH3c7Fe9OMywG8s3o++0fCqaLQaTtEQHUNqAoiEludl8Czr9rUlPUPS0St6D+AQBHRCg6QR1OwfH8vJyNf8KC/IptzYuarm4rYeAo6VTkDtmQNVDp57sIPdgwq2eQmSDAAjojACJP9e/PLyTt7PONDJNUWcfF0LAsHE405jBXhAAARAAARBgFQGahuJefgGFd+8/VUEtTr13v61nW6ziVaHS4M0gv2ENlqNQncBgv2HqWbgHARDQDwESha5dEGqc68bJ+vC18w08Hq6fXoVWEAABEAABEAABbQnQNBTnduzS5cHJU6lK26WXXjp31XtgXzdtPYMcRfXx6m/GMwMJLQkQVr29+2spDDEQAIGWEzDjc9+dM8jY9lQn+6WvmD3IlI8Xyy1/gqABBEAABEAABBhMgKahOGXe97ln7Y9/G3UuW0DCcWH+9V2f7Xo8+tlhquebMRh8q5hOzuUi0XirNMWGRvp4DzDnmbPBE/gAAswhwDXhLJva13jOGyeehk/tQ7xmThfBUhAAARAAARAAAb0QMNC2bTkx61YfyFTyaPXiA9V3fZZELewmTToOW77OZte2L9/eUVzJtWgTNPr1/4X5YhBBiZlWyXFBk8/eP6WVqNELje882egZAAAIGIAAOcdrzjPBgZ5OX++NLSmvNIAFrdKklTl/+bP9jHNCfqsARiMgAAIgAAIgwDACBgrF3cJWRYU1horr3HPuuz3nNiaG8oYIeDn49PTsezU9tiEhlFFUL8++ng7eIAECIGAoAmT59MZlo7/YfeFOep6hbNBfux08nV6d2M2nLTYe1R9jaAYBmhNIiRzQfvlFhZGXxnK2Sm/6b7x7ISJAkY0ECICAMRGg6wR1Y+oDffs6uet0fTfBAv2Tg2ewwAu4AAKMJtDG3uqTRSOmDO7IaC/qGk88In452WL9S102yAEB4yEQEHFBUn0VFRXVpMgH4nDjeQTgKQjUIYBQvA4S1mX4O7cP9pBN+meda7pyKNiju58TXknrCif0gEDzCXC5Ji+GdVu3INTDyab5WmhTk3hBfCEeEb9oYxQMAQEQAAEQAAEQoAUB/HFAi27QtxHTQmbpuwlG658e8hyj7YfxIMAyAiEBrt+8HjZ7VFdTHlN3CCGWzxkVTLwgvrCsd+AOCIAACIAACICATgggFNcJRrorae/SYYj/cLpbaSD7hgaMCHDpYKDG0SwIgIBmAnyeybOhQZsiwnp18NAsQeNcYvPm5WNnhHYmXtDYTJgGAiAAAiAAAiBgSAIG2rbNkC4badvP95x3JT22rLLUSP2vx20rU+tZPebVU4hsEAABAxNwc7R+/4UhcXezfzuRmPTwiYGt0aL5jl7Ozw4P6tHenWwLjwsEQAAEQAAEQAAEGiCAULwBOKwqsjW3e6773O2x37PKqxY7M7PHHFtz2xargQIQAAF9ESAxbc9AdxLc3kx99PvJxBv3cvXVUsv0konoM4YFdfFtgyC8ZSBRGwRAAARAAASMhQBCcWPpaeLn8MBnTqUcv5+XYkQ+N+gq2dBuePtnGhRBIQiAAC0IkPi2q18b8pWcnrf39K1Lt7PIxsN0sIzD4fTp5DF9aGdyLjod7IENIAACIAACIAACTCGAUJwpPaUDO004Jq8Oilj511sVIoEO1DFchRnPfMnA1wkThvsB80HAuAiQiPe9OYPzi8tP33hwIi7tQU6Bofz3drMf3sNnaIi3g42FoWxAuyAAAiAAAiAAAswlgDiEuX3XHMs97Not7LekOTVZV+elfksIDda5BYdAwCgIkOh38qCOXy8bE7ls9MSBHVozGCZtkRYjl4355rUxxIbWbNoouhZOgoBWBGIWkxkpdS6HUVG1E/8SPu9lxbG1teVwHGbsJgtbjoWHxxDdNR8qraREDlDTtVgqGhMefkxFTn6T9MW0tdfkNxo+1a1ziDgplVLVV7dRqQ1WgRHHijWo1JhVfCzch8OR2SotF9zfHzHCy4FocfCa+PGl/Dp1BNlXd66fNcJrVGQtJorKv/TxWDdXW1uHLs9vTxKpVaprZcNo1KrjFgRAoGECCMUb5sPC0kF+Q4cFjGShY01xKbT9qIF+Q5tSA7IgAAK0I0Bmrfu6Oywc1/2nFZO+jRi7eGLPAV08bSzNdG4o0Uk0E/3fLh9L2iIt+rrb67wVKAQBENCaQFgUWaOifgmjPePuKlRkpATvFhYVFUlur7TJJdGtSCiUltV8KMSkiYCICzJdZ98eu/GuLBUVJs0XCtUjU2mu4NKe2IyLP8bUDXWlpdKLWHdk6dJ/ZJqkiV3lw6Vh9thvlfXJG1XxQhg7vyiRvDfQ5hJd++qjsvD3+8tlj62Y9W/vDbHZEokw/fjU+IWfnJOX1HzGrJj8fengr75+w0+poDhmxSu3Zl94WPQ0eVuH6DkbEpTKSFJupXZoVOviDgRAoFECmKDeKCIWCszr8/K9J8npBQ9Z6JsWLnk6eBMCWghCBARAgBkESEzero0t+Rrbrz35szYtp/BGckZeiTDzcVHmk+Lc/FKSqb0n5C9mVwerts42bV1syfcOXs4+bnYkU3sNkAQBEDAEAR6fr9Isny/7K5fHU81WkVG6yY/ZcTwuo01S+FupSzljt0pLFh2JUhIQlTxJPr919Ud3p+88/1pixPDBR9+KfHNSiKe1pj+ma8L43GyhS/ew1RIJURSzeLGSNo1JnrDSwd1VY5Fapigp8v0Hb/7y3v1xn9eUhH5xfhSv2hTrwDnP916qProeFhkrfcOQEqekqvhIdOorX0b5mRUX2/RfuW7IkD+uvde1u5KALNkoGvUKuAcBENCOgKb/PbSrCSnmEjDjmb0R+t6amBWFAoMtszQUPTtz+zeGvWvKNTWUAWgXBEBArwRIzEyGrJ2tuTY2NtUNCUVV2XnFjwpKywTC8gpReaWwOlEhFJnxeRZmPEtzvoUpvzrRxt7K3ckG54HrtY+gHAT0QyA3m/KoE0Vq1ZQg+8z3r73618C98ZM3hg6M+HBHsTDKmqcSOsev7zo0qs30N/732bH3/MwpymvzxQ5Hv//kxc577839O219X7V2SPhfTobUecVFdp4eZMK6emivyFKrJ71dk8Mt3TndUlFCZA9MllQP1MszM39+9/oL299yyIuU51C8mjicZORfWr/Ddvp2RVH9CcJs4NC2FCUL23kDh3WMThdR3ZWiAy3Q1K8dJSAAAo0QUPpha0QSxawi4Grj9s7IVeuOriR/mrLKsQadseBbrhi5mvjeoBQKQQAEWEWAxNVernbki1VewRkQMF4CZP1y++UX6/H/Au9GwspgjYVbx3KkY92qQ90kI23z6O47Ajf9emhOR3Mq6orn1gVTA/7dmLOZqhlWlykLXpmQv1JFrbnf6Iht5EslU37jG0AdTiPzu1NTfl4z6Oe8IZtST4ffVhoVl86wl464p0QuPjw+KiJAWk85Lb2XX0RWNl9efk9C7T3vnHhu0y8OFJVXm1mdEj2+uGHhJ9T70ZF9at5Gqkuo3JeVcu1q5ci8gqQ7acRsuYxWaOTC+AQBEGgyAawVbzIy1lTwcfR7K3Qlz8RYXsfwufw3Q9/zdvRlTQ/CERAAARAAARAwPgLy9cvVq6yPLFp0pDol+15fHE4wyeSOLKoDzCf8dH7stjldyFg3ucy7LNp1M2fzKLLke7P0e/WlvhMbmX9Te42KypDLST+lsu2Xb13enkg8+2fQ6KXRCUfDfUiBcmgvFSRXTlaJbW0oXJ3X2PfimA/+HP7ZTBKIq1+Cm5EvvB47MvrP9/poKFWXlt5bWokLayeyk4X0Hf18lOS0QaMkjiQIgEATCSAUbyIwdol3duuybMib5FcFu9zS4A3xMXzwm8RfDWXIAgEQAAEQAAEQMGYCuTumWNWG1jUpq8A1sXIoKvvE3d24qGZ7t+p3AMcWt5PLST+lssIHB98b39vTviD9xA/Lx/i7e/WZsFL4v0hFaC8diw+PTDkXkzlitHxtuJaL2tOiP/1218J21UaS6QFksL96F/XM7a987/f1zxHahuFSW13dqfOXM6UpconOn0ry9lQboWkUTXVdfAcBEGgOAYTizaHGpjq9vfpHDP0fu8fGyXg48bG3Vz82dRx8AQEQAAEQAAEQaIBAzc5pIpFs6/QGBMlS6bw266v3TlcaYN8bmv20wVr1F8auXvBXr8+O3Hpco+7xrSOf9fprwWpFaE/iXtGTwuJB63cuICu1qy+f8M3VM9XlGZo/yUh1rZF3N/aXDvZLF5Kf+/rvAe9OdFGLpDXrUOTajJ3n+/07O+9XUGRm+/pVZ8ZPVV9tr2s0iqaRAAEQoCiE4ngKKBKNrxi5hqyjZiUL4tc7I1YTH1npHZwCARAAARAAARDQQMDR/dwsvvRc8U7ri10bmwNu4/RopXQ+uco1/aS7owbFOsry6eW/c5BKe9U3NYeQK7VCJrwrzg5XylZLpl2P/X1xzVi5TNMA2enhZGF9dYIsRa8+PV0+d54jy7cJ+/T7zjsHeNk6Br6c+eof/+uqppYyABp1E3APAuwl0LR3Z+zlYOyekZnbq0av//T4WpbtqU72Syf7tGF9uLE/3/AfBEAABECArQTIVmOaTv+m+q5JLl1TTM7oqjlMoUZOs7jr3P2lc7UmxONZ1O5WrrFW37Xbc1cvHfv6ucvpsqNq7D17D5r7/va1Shut8watTy5dr7G2WmbdbdtqBci6+Zrz1qSD5eG1BfIUEbhQnZYusY+QZyt9OvR570jOslpQSkXSZNPQqFXGLQiAQMMEOGSOS8MSTCktKyuztNTNuK7Sf9x08b51TMotzvnq5MesOW/c096LnNlm8P3SW6fvmvSk0tAkYj8NrYJJWj5XAKUNKBpSws+dNh1HT0r0tIqGDzkNTULfaflzR09Q2hsPSRDQhgAmqGtDyVhkSNS6buznoe2VdhVhrOvEC+KLweNwxvKD4SAAAiAAAiAAAiAAAiAAAnokgFBcj3CZqNqMZ/Zy/6WvDlpuxqs+1IN5ThDLif3EC+IL86yHxSAAAvokkH9p68uD3aQ7JTt4jXj5l5sCfTYG3SAAAiAAAiAAAiBQPwGE4vWzMeKSQX5D14/7ws8pgHEMvO19ieXEfsZZDoNBAAT0TUCUFDk5dHnyyP1pQokweXvIf3P7jt6cou9WoR8EQAAEQAAEQAAENBFAKK6JCvIoysOu3bqxGxb0e8XS1IoRPKxMrYm1K4atIZYzwmAYCQIg0LoEig9+tPKM5xufr+xPTvvhuYzcsHm57Zn1W05r3PGpdU1DayAAAiAAAiAAAsZHAKG48fW51h6bcExGBo75avKWIf7Dta5kGMGhASO+nLyFWEtsNowFaBUEQIDuBP47ub/MbeLoPvKTQ3hDw6ZZ5uz+6z+6Gw77QAAEQAAEQAAE2EgAcQsbe1WnPtma270y8LW1YZ8Fe3RvuWJJcuKf8w7unnfw2NHSlmsjGohV68I+Wzxgma25rU4UQgkIgAA7CaQkxpVRvh5uSt75BoRQObHX05SykAQBEGAQgZMRDjUnc3ddH88gu2EqCIAACMgIIBTHg6AVgfYuHcgB3R+O/bynp9KhmFpVVRISFyZGp9otDNHJGvRenn0/GvcFsSrApYNSG0iCAAiAQFMICEWYod4UXpAFARoRCI3MJ4fySq+ElcEyu2LCw48pGSi6uDZQuk+j+jUqKkNJSpZMiRygJrU4hhSoKaytlfTFtLXXam/VU3XUVTeZEhm+Oa1WNmaxWpuyW4dRUdrsYiHIvrpz/awRXqMilaQF9/dHjPCSvqFw8Jr48aX82rZqUipNDlBULbga+XyX6mojvlJ7raFSRWqhrJqaK3UaQgYIgEDjBBCKN84IEgoC/s7t3wx997MJXw/2DzXlmirytUtIiv6JTzDv2H2ghXbymqXIvuikdWLDG6HvMnFjOc1eIRcEQMBQBPg8+Yx1Q1mAdkEABJpBoE6sy5EFu0Kh8su1B3Gps89VB+sq348tbqfeZEDEBZnI2bfHbrwrS0WFSWVUFcprCS7tic24+GNM3VC3RoKou7tx6aZUqSZp4p9x0Z4kiG2/PE757V9YlKwl1W/l293j7sobqv8zZsXk70sHf/X1G35KMsdWzPq394bYbIlEmH58avzCT84pFUqTaffuL/1H0d6FiOrBkcwdL710Zdwf6UKJJDt+02Rn1Uo1Vub8OHbREVnVmmp4kanKCXcg0HQCCMWbzszoa3g6eC8Z+PoX47aQ713cQzgURyskuWmX/yjvNNPflquVuJoQaYW0tWRQxHfPRpN2iQ1qArgFARAAgYYIBAT1sKRSs3KUZFJTblCWXTv4KGUhCQIgwBACAQu/3TSrm6ulzFxL126zNm14vk583WRf8mN2HI87diBJRNUMBY/dqqpDVPLk1tGPZ4z6ruOX53eP+2v44IidV9NLlMN/JfmaWDUnS+jSrzrSv7uxq1L5/7d3HmBVHGsfXz7BIAiKSgQVRURFRGPvvV7svaExsYBRuAFjiRJFNNgjeEGlqJEQNMbe4BrsHawRCxEUlCAgCgpSIofLN7t79pw9Bc6isOeg/3142NnZKe/85j27++7MO6s+WPjOXMGVRn0qytEvOsS5l6Xip2f7brwc4NSejtSv3mzqlI5vcpRy//2sqm1jpTgqNjSk5optTs2qkxeThjXtbeopJyDHkrg9x+5f2Xc0i5K+BGnqEasmGaJAAATKQgCmeFloIS2PwGdV6NHppQO9/cdtn9phRtsGHQwNShnuLngSfj+7c2v7ZsLsdq4iUiYpmZRPaiF19bTpY1hpP3jOtQl7EAABrRDo0ne0UdrRkzHcM7PkfOSBPKOpQ/tqRRpUCgIgUDEEgofosePjdPFNOjUL70FPqVbazNzPqtRekHrBb3zPTS1233WNH9fdveC7HDJGXBzhzEt416eVuf1E34ft10X9PLGhvpljwNVQx4zAr+zNrT2jeenYIJlxw46A51A16qez89/59qvquD4rpemkTSvaKTu/kzcDzIR5lVoUI/Tl03yyYnzCTMf1UDyfk/KsQXN2JFx+Iv36ZYcxQ03kEUohydtHh9y7j3vofH1fa/+e44+3O5BPyAh5q6BUEA5BAASUCJDXX9hA4IMI1DKqPcR+BPkrKi5KevXkQVrsg/R7Ka+TX+ZmyMp9F33vxsM6HdZbCJnUXsfYvH5NK/u6DvYWraxr21TRe69hdFndCIAACIAATcBk5A8+vdp7LvQZst+zq1nWqUWuvtm9/Bc64j4I/QCBykcgKaB3Y7cLMrnz0u/scWu3Z9m3304gc6jZmeUUFeVad9CWfFkiXuD15n5OPXLDx7Fj6vSJpIDBbcOa+f92bKqdIRV0wyp4xhjb075pAZSBgfwa0dozNsuTVwwZQ7YZ7B5C/hQipQfWTaj4RIqyS3p8+5fN/f55TiaGBzT2cznOpaWnxLvTB5EuLlSQVGh+mEtI78kkcWa+PD+uxLAk4+r6mWuoH0L9OikZ2K8yUoMn6dEj/TWt+o1bv2XbJDt9Kifb8M0tj/4Lj5xJfm1Ut8fs4PCNIxrKWx3lbjUvYcHWs4sHmOs7Rp518BrTdvjEa1H/ouDeU2IP4AQICCQg/6EJzIBkIFASAWIzE2dy8jfcYQxJ84+kIC079Xl2yvPkI37zjzR0WTq+tXF+YX5BYZX7FJVv3MjewrKaQTUy7l1Nv1qNajXJ98Drmda3MLX8DOPeJSFGPAiAwAcQ0LdzP3zWaNF3o61XpOfRj6Fh0f5TbT+gQGQFARDQFgFr1/PFrmoqj3JnjFv2zMCA9Ow1JiZK1qiaXCSKFJglL9DQwXn3PXY8PCBAloGMTCvPV5edowYEJvM80MmId1OPq+RscDBFZs/3m7nmR/eJX1BUghr7NT31bY1m8oI+NFRwz2/Gaso99GgnM9WiZNwkb5OvBM6Z4tX4lg+9HG/1dvN2rt1ep7o+mRvgM3bWzvZ/ONfncg8MyHrEhSl98wE+F1lHH/cAOTDZeQRAAATKQgAT1MtCC2nLQoBY1I1qNe5q3aP9nzGXXlGJ/qsX9PNcNvhHn2EHydKcKSE7lg0+XcVq6bweHjO6zBn7xSSSkqSHHV4WxkgLAiBQNgJmnZxDLqblkrmVWc9Oh0x1UPSyLFtZSA0CIKBdAvJPmcmnn4+6VJ//xUKKeh0TPLt/C2ZJcTqVsUXT/rODr2Zwjir8FqSHjVZdbd242QrZ1HOFRdbifZ2ly7sxK5kV8+xwUiizCFxmdNCsfrZ1qfQ7x1dPbWPdgFR9ptsqV2t5pVGurpHpJy7UH9GFi9M3MOCC77VP2Tkn0GbzL+7q7HB+gfrVrXotcO146XoSEbZDk/y3psQOJwkMLXtNn/D2ptIa6tGe1nLGXMhs/J50fpEIgwAIlJkATPEyI0OGshKgX8EqbLTjVVf6Bsat3FnWEpEeBEAABEAABEDgEydgVNNcPsFcPYsXYd9tKpqz/eoj7qNnuUnXwz2Mt0xZr2bJsZxXn/uwa6fzHlr2903NVF+2ptj0MI812dO2X0+iX/6RjVS9fVr2Go8wnv0qKXyZbTRj1/oeslmqAwMChE9EVxXh0ub/dlsywlxWnFKKhKDZ7ocevC4g0WT423vtzcG9rUm4y2T7Q98F36FXnyPRoYdsBim5mGe+HMyunc42hfkf71UrXXlROKXqcAgCIKCBgA6b4oUvru/dtMx9rgvZ3Bas2X76UXaRhtbgNAiAAAiAAAiAAAiAwCdBoPBdnnI7824eOp2gHKl4nJ+vkotNYFL7hWdTbsiX2487a1lLMX95HrXu8c8cU64q3l71u+cqy7Zxi7419Qj2YKSmP/addCd6n0sDXkHsh8NJWjZgO31J7/NurS1JitptPbO+O7ioFd0c/bYLtk574GZbQ0/PsrP3/1b6j1Wa1F+rzkmyGp7i1tQ7s65SsvJEg7JA4JMgoEdebOliQ4ueR65bc7Xel87j2zQwNigqePXo5PatF+vM9J7Zxli9vHl5eUZGmt6Oqs+qHJuTkyPQs0g5Z4Udf1wi0c5Wsb7xFTEm/nGBqih90kFKpKk6KBVEEqiCACUElA5Swu9OSMfpJiXdlEoHlTwnJ/nhnpVLfE/eikt+Tfd3TSu7doM9flw9o2uJI8d0MgFbUoD78WF+/NnmKpmyYoIXLdlw7FpCOm38G9W17TJ84Zr1zp308ZypwkpthA5qlFo5EQkC702gpBks711g+WQsiDl4uMqoNV91ZN9EVjGs3WLktzNfLtl/6lmbkQ3Lpw6UojUCtLOV1ipHxSAAAiAAAiAAAp8KgZpkgYjT7AJs5dtka1c/TauW0YtTqKsb07rLtytQGghUXgI6OkH99etMqk5txRlBhhb1zDJevqfDTuXtIUgOAiAAAiAAAiAAAiAAAiAAAiDwkRHQUVPcvJGNUeKTRAXf8NzEx2k21hgS/8g0EM0BARAAARAAARAAARAAARAAgU+OgI6a4lXsR0+3jQ70j3yYVUj6pKgg9fqudYclE6b1URwp/+T6Cw0GARAAARAAARAAARAAARAAARCo9AR0ddk2GmzBszMhW/beY5bZMKzbd9biSa34S7aRddqU8BcVKQyjK53FIQiAAAiAQDkRiPrWdOzPKmXV6ON37uiMJmz8/c29+i27k08OaozccTNs/P0FCyQbNw48y+4U8j7eMqDtkhh+1NcHsjcPjFqwQH/jxr78eDb86D9OB3uHf/+F6hk2Rlm6Gt8cT17Xi1IsT7VSOnO1Jt/8dnFd3+olFc3GS17GBC3y8D0R+4L6vNXE9Xs3jWnArLzy+uaW+XPX7n/4pkaDXot/P+7qoFiMYpVMGylKkptwblfwz7sP1lmRsHmgYgaKUsxCny0djXJ+HIMACIDAx0tA11ZZ/nhJo2UVRUBHl22jip6f899yvvYot01zpCuonw1buTx2+uIp9pw5rrReOrHMy+sHqYMLNkIkgb8AgBICSgcpEbF1UCqIVLI6jdlZXLyTO82BkhydMS/VxKQNG5+V3Pa3wtsj9Km4jTP+W2xiYkBRBuQqLd1xeZl9m++ji78noUuLht5wPuFuKz1ZjezVXNcLYo7fSb+ZeknSw9FMmlJpN2Zn9gGDJSZBAcSyjXR11R9aOMjUlE7jHBFkwn18h6tUIa/k3hrnU7kmIywVYpUPkgJmBPxv1v7He5pVl6Re8Bm74NC/TsyoS6XsnOR8b8rxv+no1w+eK92TCKWMv039E4sVV1xOCJixJHXKf3b/+L/vaDzKVXFSCkOjnFvzMdd3mlOKlgIiCUQNUEJA6SAlIrYOSqWDIukmKCFahzQgIJyAjk5Qj9+/6Ugdpx+mdSR2OGkMvYK6o/vi3skBodEFwhuHlCAAAiAAAuIR0DegL9jyzcCAedurr68YLU+gGMqKDDt1K+pwnIQiHzyktyHBigkkb18+OLl6/MBtdj9d3jP0RL+e7uE3k99KFBNxR4WFzIn01ELzOvRXG8gWoXkVZf3Cd2aWdbkySto3mLPn0NLBzaqT5hla9nIaUzebXhA5NnSr2ZptTmx0TXubesrZXyQn2jSxVoq1dd33X5/RzaqXykgjGqVCcQgCIFBuBLLI+7zwjBIuNOVWy4cWREu5N+tDS0F+EAABkQnopimelvBXjoODfRVFGLVatrb4816cYiSOQAAEQAAEdINAeipVz+K9RClIveA3vuemFrvvusaP6+5e8F1OobLpfNenlbn9RN+H7ddF/Tyxob6ZY8DVUMeMwK/sza09o1UrJeY/Y4vnZNewqqfGtJdGMSY//1+7FZsmmTrtV/B/ImldIvlV6OvLZpRJnu1dF91uGBnIT79+ufWEkSrD2rx8qckmLZryjgUFBaARVA4SgQAIvA+BnMhlv7Zb4sR8hDzBrxvvasFdFbJiVg+xMNbTM3OYspO8SWQ3xaR0LiY5sZejVKTIiXK1lpVr3DsggUmhmFRjeWaOq3oec4MxrkIXESCg2wR00xSvWatOlYT4BCXP78z7d1Pqv+dznm73QpmkU/8AaTYwiL1202XFbuhAbgr0ZjZ+TzpFRbm60o+R0p1CbRov7gqpKTLTdKz3baU4/qGydGbuZ+nTmu4otKzGzdyjBHxqsyD1ZrjP5P4NB/rJG0xR3J3QqvMM+Z1QLpgk45Rn/4ZmNBGHKX4x7Hvj55Gew9vSt089Y4u2vBuoNFtZ0chrQwgEPnICyj8OU1NT+jesZzEzeEW7Vj53S2p+8BCSSHmomyROChhsv/D+yN+OuduZOwbd2GG/b4ytO/28Kh1WZ8pr7Rmb9ex0iPtgG0Np+YY2g91DTj/LSvLpLI3h7Ro2pp4kkePEhF9W9Pj6115kYrjCqLh0oLw43tfZN54eMiebLBw+zohXFEXSBjnyI6ThgifhzoN/pLz3uBJLnMrJNnxz7hv2QmNs0dP96DPuoZzLmplxzKMpDYpccob7nBcygCUIDVc+9iAAAuVNIGXPz1Wdv6zPFpuYYExfSaQbe1XIifx+zgOnK6+KCx+FNA+duj6WTWrrfoVJdnHhEOkVhk0una6jIGb6/TzXh9JCC/c0iY1nzyokFVCe2cTF9nu3SetXqAAHIAACOktAN01xww6jhpucDfQ/8mdqAW2PFxW8enJpl9+BjK6j+77fkIvOdkDZBeMeILl7AbMvDLW6Jb12kxL/Tmi9hx5SKn7oaZJOrFtJYSFdj3SnUKWAizsvfUHM3ui/r+6ILPkJkkgXMW/eH4xQdGB3fj/6wXPIFnauKFsWVymTivtXGP119n3y3kDDFvn9qMDcnps2z7fhJZTfCW/7N5PfCWUp0n/5avn/eUWnFhcXJh8cemOq2wFCJT/5ZaOFB+NeEQFexYW0U8nGSSnkPiqrCQEQ+BQIcD8O9tcb4UwWEuN+yMXFsZ6tS2LgHEGSqZklbu16Pis6ZKoDa2MbOjjvvpdGu3k7BtD/2U35NR99YZFtA4P+5tLRe5LWtO2SYMbsnXC05eB5obEnGQdtvmkvzZD2/K1paSPZ/HL5YUnGUffx/zH54WQwGaLnTlTv6LH3QQZ9TbntY7J21s4U7gS77xuQy3J6FRc+45nHjDDNVzwhaBQrwREIgED5EYgNPdpyWm/pTzxdjYtJTkRo4px1TuQNob55V8+VvY4f5A9XCHUtMZBNtFF281FsiobyWk3odTnskmIWHIEACOg0Ad00xakq9RwXr3VulRHx08K5Li4uc+ev+jmm2vAVa75qxQ2H6DRV8YVTvnaL4KJ5JyVXechH2u6KdNGkHP2iQ5x7WSroAe9OWKfTAuU7IZHq7q23E6YzmfSrN3P6/uv/SyZPwNU6T3Pu1bgmXZJhzQ7Dhtd6/UZNx2m476nJgSgQAIGyE0gPGy2dyyOzr+mpMiuiuaIUXkLKhq+lbwCiXBpw6eg9SZud+eDI0mEdrWq+Tj6z3eNfTSwbdhruWbjIT2ba02Pxrn4JlyJT+g/mfMOFOrWTF5uXvOY+mrXPb4TcDKdsOzTJz6lRh3Ygpz3Ip094e7Ok+QGGNe1HL/wyM7qk8/zGUBrRKKTGAQiAQPkRSDp/1rpbW66852pcTIhbTveO0kFzSr97H7unyeyzUTm4ltDziGTvGQWVZ9u70+NrcOTkOgx7EKgEBHTUFCfkqpg26z9ryUb/IHrb6rdq/sSOnxtUAqLaEVELLpo7XDpqwUVTLd4S74Rc6r6TOu/ZcCi1gDxAv30U/tOtTrRjJ7dJ3ibfDHd1j57m3IOLYveC7nuKWXAEAiDAIyB9LSeRMPNyeCdUgzmvPvfh5olL7evi4v19UzNVkwqKue7zzYkO6yKYIWq6vIwHEes6nJjhJTPtydVA8vJNTg+f8BncYzRl7RogW7291FrSf9mW7+ouHcWXpewyueU+1+A79Dpy5OoReshmkOI15ezq8X4XmGXm6AvRiq1WfbvI8pYSKG80pVSFUyAAAgoE4uPe2TaWxbxU42KSl1ulhnxeDRkXiWM8Y8roWlIoYe13WVVMgJ5HJH3PKLQ8WzuD+ETFUnAEAiCgywR01xTXZWrak03ZRZMbP9KCi6b/8QfqXTQb21a8i6ZiD5RwJ5Qn0u+x/uS4072q6ekZNJ4UOyWEceykT9NzXg1M2nnEDtoWNo1nnpNTQu978loQAgEQ4BOoZXlpsgF9jWrhk1NX/qzKTyIPm9R+4cm4UXMXNXo/7qxlLXmS8g5Zd2gS3oNfnTQsXeGCVx25UHALNLGxd28d9u3DtE2ahzmt39Zzx9cP3Gxr6OlZdvb+30r/sXSryVW7G7uyRU/n+VTgCPq0gdWYEx1+Zc9zM++HBDOu9NLFnXi1awENr3YEQeBTJqDo2DdQjYuJkXHRG+LyJt1Iejsba3JQJteSujbFPi24a5H6y57Q8kxMa3CyYA8CIFAZCMAUrwy9JJdR2UWTcb3khpDEddFkF2qSTZ1iZaQfKpt6VKyLppwGFyrhTsidJou6RbrOvjLhQj7xFU/8rfORSbL14Zg5r/nxoeNzfhrlqugCL/S+J68FIRD4NAko+8dwFDqveCR1jc7aN5nMAZemU5+87rRD0sTcBY3scx+tULMgGylfX7+azLWSq05x39Fz29Abi4fYm0ufb83thyy+MXSnN688/R4+nIC8OouLs/z6Kpalumyb7Imcyyhd1U2/4Qi/i2mkIWSBOZ/e7EfPyVX7CjvWrl+nq/vu2/Tp4qx7u907secVZt7T5SmvEFc2NEqi4xAEQOADCKi/XBGvNpmLSV1L6vJ1blUIyeVzcY2saB8Vsgl3LTEZMcVpHr2SBr3JL3tKa1sIKi8nW52rHSsQ/oMACOggAZjiOtgp4oqk8eKu8KAod9HMzqYXalJ10SwufFqRLprq4JR8J2RTJ4WvLZzhxfmKj3b/V8z+S7xyDGs2bu8U8G3h2vAkXiwJakSjmBxHIPBpEhgYsJHngV0yg4EBAY7krHRXcjoBZ6xd/VytS0+n32CEz7GYZ1nMwy1tG8cc8+F7dpeeG2dBAARAgKKa2lVNkM33jlqhxsXEZMj0xoGLw58UUJKMqz7LLwwbw7mWl8W1RFKYx1/clkHPX7aSjhBUXkJcYVP5jHp0IQiAgM4TgCmu8130XgJq0UUz2mtGBbpoqqXBuxO+jNnIvxOyyRu06XwnOPjGa+IrTrtwhh9616gBRUWHrT754CXt1sl4kIeftbKsrVi8oPueYhYcgQAIgAAIgAAIfBwErHv3TbrCLYned546FxMTx7WB9uHdausZNJudMvfgolZcy8viWtK0XfJ0vssLO5tH6toiLVBIeQnnY5p0seMkwB4EQED3CcAU1/0+KruEH7GLJucsz82C12PuVPI7YVu357I7ocxFU7/H6tCJ1z3sapObG3HhzPqOuVdaNTLa79bOir751bCdKHPc5OEWct/jJUcQBEAABEAABEDgIyLQavqI+2Hn2TXVyNfK1LiYUJRZp6URjF/KPf6nDamyuJbYukRxM3ikE3nondS1RYpTQHmxv1/oPq3HR4QfTQGBj5+A1KPl42/oR9lC4sTE3h+UWke7aK7gxUnTqU9OX9yn8RKXHtTsotnZe2e617wh3166nvyaLqumVcce035QddH0Kb0i9iyZHE/PaJVvtLO8u/xQFmLuhEvJBK6cHBMTqVbTLprSBPp2k0IuTgqRJacD9Xq5h5x2V4xTSMDcR4WjUcyLIxAAARAAARAAgUpOoP7kr9/N+SWlt/xLCzrboKy96x5M9CdPQthAAAQqDwE98tqt8khbmqR5eXlGRkalpRB8jjHnNK33K7i0ckkIkQRiBCghoHSQEhFbB6WCSELUCX1XeSmh79B3AgkITPZxXjPJyq/LMr38nMzLb/SqAkDRUmavCpjILgcpsMN4ySpAJF7p7xvUTanetzXIBwJqCJTfdUVN4YgCARAAARAAARAAARAAgUpLwIwsoKb7wlcOKXWfIyQEAZEJwFdcZOCoDgRAAAQ+HgJn3c3Iagv0pw1b+dz9eJqFloAACIAACIAACIBAhROAKV7hiFEBCIAACHysBPr60WsN0Z82jPVszTQy0tU1itdaySXPZsbsasAK/wcG/c1LxQS5RRnl6VwiyQmlAuW54jaO9eaWNpbHykKP/brJS6JDbJUJfq4BSbJEVKSLYiL2yGxgUII8TYmhgtSb4T6T+zcc6MdLLXn76KTft2PbWjDSK+dVqa+3VBqFE4oLJxMGylIyCZSaolwVjkEABEAABEAABHSbAExx3e4fSAcCIAACOkpAbjrTo+L0xhi70k8pSoVOuvHY6RK9FrDSFuXSQLlZ9KKM9HZx4RDfeCYUxKzaqFggl6sgZm/031d3RGZxEcr7Ju5X4n3n+SfSJdGBP4aGWhEZm3rckvCWuyRLQ6pu+Tstb8Url6d6HPn9qMDcnps2z7fhnUsI/PrfFxrNC/UeyYuUBxXqy45wHu802po+m/T4ybw/ZJIoLpxMUdJcaTuGOEcwiaQJCvlNkVeCEAiAAAiAAAiAQGUgAFO8MvQSZAQBEAABnSNgO3OL/+Q2ddnVMo3qtpnsv36Kin1dZqmzIsNO3Yo6HCfhhoKHBCuWIXn78sHJ1eMHbrP76fKeoSf69XQPv5n8lmdd85NLbdW054XmXVhLP95X9tlffkKFcOE783oWCjFqDxz9okOce1kaKpy0dd33X5/RzaobKMSqPUjZ87PxPOm6zH8/q2rbWG0qWaQkbs+x+1f2Hc2ipC9BmnrEyk4iAAIgID4BNXNg5K8omfeTenrGCvOEWBmzbm6Z4UA795g17L9J6tojebbXmY4ztujpeV76ijEhbDyZVWTcbHxYgrRxOZGuLntLfAEpPgHUCAIg8IEEYIp/IECtZWddNOkrPVw0tdYJqBgEQECVQPAQbjI4OWfb1S68h/SRlL8zcz+rkrMg9YLf+J6bWuy+6xo/rrt7wXc5hWQIOMKZl/CuTytz+4m+D9uvi/p5YkN9slDR1VDHjMCv7M2tPaN56digvj7FDhvnUDXqp7MT1vn2q8pDs1RC00mbVrRTvrKSSeJqp5yr1CowQnJp8742X/dm107NSXnWoLltiTnJA/8h9+7jHjpf39fav+f44+0O5BMyQt4qlFgkToAACHwoAXVzYLjZPewcl3jfIS7j+yrVk7Jz6qzbgw8mk+tb6l3/UXWY0wkB07bWD3lUWPzqypyns90O5FCUJHLD9nYHXxW/Othu+4ZI+nWj5Lb/iXbL33uRdCU5cAgCIKADBGCK60AnvJcIrIsmfa3XORdNlcdbkVw0qayY1WNt65LXzA5TdpIxNdUtK8ZvivKLaG7ojX0Gh4umKjXEgIA6AkkBvU3bue25k57HnM1Lv7PHrZ2pmftJip5DLZ1/HuVq3MU7nk2hWMjrzf2c9iucSAoYbL/w/sjfjrnbmTsG3dhhv2+MrTvtdm5gIP/UR2vP2Kxnp0PcB9twY9GGNoPdQ04/y0ry6axYAzmybkLFJ5J90uPbv3zdz/tPego4336VPTRHOEsnfpMrKhfmrqxcqWSSODthnov4sH3WgcCMOW7cCP2rjFT6DQbZyCjZ7N+Url9R7lbDgsx9zm5xNLdzjzzrkuHZdjjjYm5AXjZgAwEQ0BIBTXNgJOe3Xhn5nfR9m0zG2NCtZiv8JjarTn69hjXtberRZ26H/95+pWdX8r00QxundQte7IvIoZL+okaPdzCkDB3Gj6b+SqKolF/2GLl+WV9WEgIgAAKVnwBM8crYhyq2rjZcNKNel4SOPN5qw0UzJ/L7OQ8mnHpWXPgopHno1PUqUzfJi+ipN4YqvYiGi2ZJ3Yh4ECiVgLXreXbYh/ynl21jtyy/odWqyc3DgQG5skQqgfBx7Nx2aTWkwKzokKnkwZPeDB2cd99LCxhI/KQD6P/sprJ8GfsKjf2vuBLc4y1k1bYhwYyB2/LHlx0nrDmX5McUpGq/pqe+rWHC1SHOPnbb9nozR8oqldEsTL7s1TxsipfCEP/AgKxH//UcwH7VWN98gM/FtChXa8rWPYD8xwYCIKCbBFJ+8cuaOFnZck6/frn1hKHVlUROe96wczvu0lm/16CqySmUdXPq0L57BVTBvX2HqObWOZGh2ZNd7bhESgXgEARAoHISgCleGftNJ1w0Tw4drFMumjkRoYlz1k20/ozSN+/qubLX8YO3FfuWfhG9ZpuT4otoioKLpiImHIGAcAKcnwy3bBttEo+6VF/RzTorJnh2/xYNab9IejO2aNp/dvDVDHXzVtLDRquutm7cbIXMLlVY9Cze11m6vBtr5SuuBNdkHlkELjM6aFY/27pU+p3jq6e2sW5Aqj7TbRXffo1ydY1MP3Gh/oguXLP1DQS4eXOJ33OfExlwZ/y3PdQ8U+tXt+q1wLXjpetJikVHe1qz/Pj/zcbvSVdMhiMQAAEdISC5vf14x/ljZe/bOLFysg3fnPMYZk9fEolfuPvRZ+RimJf7toapPKm+fgKZ0KPv6PXvxEmWerXHPPq318DY0Me9XK2j3MnUPuI8rn7qH1cH9iAAApWGAEzxStNVAgQV1UVz45kgnXLRTE+lunfk3j7rd+9j9zRZ4VmfeREtH4TicMJFkyOBPQiUmYBRTXOFgW01BaTvdN1UNGf71Uf0R8/oLTfperiH8ZYpqvNWKCrn1ec+7NrpbFrm//6+qZlqChYQlR7msSZ72vbrSdKheVL19mnZazzCeParpPBlttGMXevlZvHAgABHAYV/SBL+em1MOQlBs90PPXhdQA6Iw7z32puDe1srVpD5cjC7djqPTLxXrXTiUIoNBEBA9wjkHPnPnWHTW6kVrHrHeaHXM8hv+dVtH5O1s3amUEbG1d9ky3/NEoltU3oZx3pjg+9lFec++nls3o5IS6ce19asNdmZWvzmaPc9647Ik6utBJEgAAKVggBM8UrRTQpC6oqL5mfWOuWimZdbhTfFlAxsxT1J4nNjXkR/058Zm5O9iKYouGjyISEMAmUjUPhOwd2bzpx389DphNJLyc9XycVmMKn9wrMpf9iXDo87a1mr9PI+5GzrHv/MYb/Epliv4mx3ugaVZds4T6GmHsEejNTMUhPcHHrp3Hg9dq03krbblsesoJLzP4XL1mtjo2ynL+l93q21JZGhdlvPrO8OLlJ+gq9V5yTrS84Ts6l3Zl35OBpbEv6DAAjoAoGEHTvN3NW6ddt2aJKfY1rbmJ4UY2jZa/qEtzfJGuoW9Z5F3+LGD1Iu/PHOihtaoFuTsjO4cMJYs7y0FLtunQwpfbthQ6sm814p6kKLIQMIgMD7EeC9Ya/cwdzcUnwSy9Y0ud9j2fJVYGohIv3x7bfyz9KWtywKixgrq9qAwGReffG+XWUJyAeOhi399c4Leh1kmf84L23ajikLL3LH3GpJ3LHGvcL81HjfiStuyXxWC498/fURulbZFu875svd9zOYJZnzn5//oSt51JadJIHCnGfnNwxpu/QaP7I8wkL6rjzqKUMZOigSkV4HpYJIArWqVFDMJHE7q5rSy0JNK7t+s4KuMBcFgcWXkCzR/1v2q+HqzrMiSSeoS4fujerakqqjM9WlFyGuVEoi1K++Ch2UCiKp7yqVWIBSQaImQgxKKk8vhec8xis+YvAkK7y1YsDQzZfopxH6YaSX0356rY143169VtAXxvzHvzo1ZeOkmTJ/m7f0IvNAc3Fhrx+i84sLH/oO+IrJxSv2Q4NigCq7jLopVdnbgRwgUCIBjIrLrMZKFeBcNHkDJGK7aPKuj4oumsyixOK7aNa1pC5fT5H2ouTyubhGVgqOmMyL6Bp16CVLeS+i5b0OF005C4RAoBwJmHVyDjn98Bk3QT3r2cPTIc70QsEfulm7+rlal14IU3d8GjdBPS2eVN3JrPQ8OAsCIAACggionwNDD2Kvf6G8Xpt8Wo1+W88d0+IW2tbQ07Ps7P2/lf6MP7mta9jclNnNDPRqdwu3/5WNY4TIilx2secC1oWmx5Lvc2ZY6tUYcXnyYlWHO0EyIxEIgIBuEYAprlv9IVQauGiqkDIZMr1x4OK9Sf9QkoyrPssvDBvTVjFNl8kt97kG33lLZoARb8zQQzaDelAUXDQVIeEIBEAABEAABEBACAGFdSTpMS/p9w7rO5/4VXm9Nv7XEPUbDll3kn5FSD7N6NNb+nJQv+FE2jG8ODctYin/haEZ+YiE7EviZo5+jPP4vhlYSV1IDyENCOg+AZjiut9HaiWEiyaZEKDoomniuDbQ/vcBDfUMms1Omcv5WtIumn6M5yr9IvrrB26KL6LhoqlWvRAJAiAAAiAAAiAAAiAAAiBQoQT0yFu8Cq1AtMLz8vKMjDQt5itMmpycHBMT3VoM571EIt8QWrTE9+StuGTmE+DERbPdYI8fV8/44KmhSQHux4etml67FEpM3RuOXUtIp9dnIi6aXYYvXLO+4qeGvhcoYWrxvqkgkkByACUElA5SImLroFQQSYg6oe8qLyX0HfpOIAGByXTwmqmbSi6QJ5KBgEACH+6uJ7AiJBOfAOMm6VwB9dIumvTDdylFV1jdpdSJUyAAAiAAAiAAAiAAAiAAAiBQOQhggnrl6CdICQIgAAIgAAIgAAIgAAIgAAIg8NEQgCn+0XQlGgICIAACHyOBrEhX1/AM7ou7utpCWsq9WboqHeQCARAAARAAARDQPQIwxXWvTyARCIAACICAlEBO5LJf2y1xYj5+RlZh5H3A0SWSTZIVs3qIhbGenpnDlJ1xnMX+eMsAXlI6yCQn9nKUCtqcKFdrWWLj3gHMOo+UYlLFqtWUZ+a4qucxNxjjKnQRAQIgAAIgAAIgUAIBmOIlgEE0CIAACICA1gmk7Pm5qvOX9Vk5EhOM/RPpTwYxG/vdoJzI7+c8cLryqrjwUUjz0KnrY9mkTeadYhJdXDjEN56XvLCQM9blTUu/n+f6kC2zuHBPk9h49pRCUlv3K5rKM5u42H7vNmn98tIRAgEQAAEQAAEQAAG1BGCKq8WCSBAAARAAAe0TiA092nJab+n6ounJiTZNrBWFyokITZyzzsnGkNI37+q5stfxg7d5CbIiw07dijpMxsojXZhx7yHBvLPyoIE+t4SpvoGBPFolpKG8VhN6XQ67pJILESAAAiAAAiAAAiCghgBMcTVQECUlABdNqAIIgIA2CSSdP2vdrS0nwfNkkxZNuQPpPj2V6t5ROmhO6XfvY/c0mR32/iftgt/4npta7L7rGj+uu3vBdzmFZFg7oizflAgeoqc3MOhvtqaCVAHl2fbu9PhanJKIOAQBEAABEAABEAABdQRgiqujgjiawHu6aGp0qeTRhYsmDwaCIAACygTi497ZNpZFvsw45tGUHtw2tmg73Oc8s0ZaXm6VGiayFGRMO+5JEjlMCh7VceH9kb8dc7czdwy6scN+3xhbd9pL3MCAG/+WZSKBQonqtHWKco4oLo5yaUAnTAoYbC+kPFs7g/hEfskIgwAIgAAIgAAIgEAJBGCKlwAG0RpdNN9GqXXRFOBSKYMLF00ZCgRAAARUCUgKC3mRAwNyWY/uV3HhM555zAhLpygj46I3ObI0JL2djTU5tHaOTI4OmepgyJwydHDefS8tYCBFOQbQ/5W2ujbFPi2Y+evk37izlrWUzpNDa9fzWULKMzGtoZoZMSAAAiAAAiAAAiCghgBMcTVQEEUIaHTRfPtHOFw0oSogAAIVSaAEz23DmvajF36ZGX2XoupaUpevp0hlkFw+F9fISjrs/SJsNFlWXWkzbrYiWkVgkxFTnOaREXBmy320ojObQmkAPV1IeTnZb1SKRwQIgAAIgAAIgAAIqCOg26Z4bsLp7WsWuLmQzW3Bik17b74sUtcIxJU/gQ9w0RTkUlm6xHDRLJ0PzoLAJ0KgqV3VBNl876gV4/0uJL8lU8klbx+Fr9hq1bcLRZkMmd44cHH4kwJKknHVZ/mFYWM41/KcV5/7sGunS41sere/b2qmGnaSwjyVldWVB9AFlZcQV9hUPqNeTU2IAgEQAAEQAAEQAAEpAR02xXPv7PAKjK0/asmGrUFBQZu8Z/U3TPxL3UMUOrMCCGh20czPV++iKdClUiozXDQroPNQJAh8LASse/dNusItid533nwqcIRtDT09A6sxJzr86j+WdhI3cVwbaB/erbaeQbPZKXMPLmrFtd2k9gtPxrOcPzCufvo51bRd8nQDfjom3M0vgSuMrkhAeQnnY5p0seNlQhAEQAAEQAAEQAAESiKgbgGbktKKGl8QHbojvf+SxY71qjD1Ghg3+GLkOFFF+KQrU3XRDKB5FLx+ELl46oywyEPTqlVT76JJXCpdZegYF012yeIApgDZGSbAumguZCONmnqdUTxNH9EumkLKg4umKjvEgEClJ9Bq+ohVP52XtKW/Z0a+Vua++7a7SpvMOi2NSFuqEv35tEO501Ri1UfYukRluag/JYutq7m82N8vdJ+mKqCsCARAAARAAARAAARAQE5AV0fFMy+fi+88apDUDpfLi5BIBD7ERVOQSyXTDrhoitSdqAYEKiuB+pO/fhf8C+cMrtOtyNq77sHEb2Sj8jotK4QDARAAARAAARDQPgEdNcXf3L391MGhOTsgrn1Kn6AEml00qw9ygovmJ6gZaDIIiEvAxHHV1FtrwjPUfW1MXElKry0rctnF4f4TzUpPhbMgAAIgAAIgAAIgwBHQUVM89XmKRZ3Pnl7au2kFu2rbXPdlWyIfZWPVNq7jKnovwEWz+kC4aFZ0N6B8EAAByowsoOZkrrPeVNIeoqWEIQ51BQEQAAEQAAEQvLvhLwAAJ8dJREFUEE5AjywpKzy1aCnv7HAJjrVqN3hwv06tGtU2rFKY+/edfcE/32vk7D2zjTErRl5enpI8RUUw1ZWQfMDh85+/9G+6c00PXX8AZpp4f+OUSMfdC1p+QHuRFQRAAARAAARAAARAoPIQMDGhl+/EBgKVl4Du2lkWg2fNcrSQkiWLtnX8arEkYOHRC0PbSGONjIz43IllXl4/yJycnPIqii/hh4S1IFLzr52pOYeyHWfUVy+4FkRSLwhFZe0NeDzVvwt9PdYhqThpIRJHQsMeoDQAYk7rICUilw5KBZGEqBP6rvJSQt+h7wQSEJhMB6+ZuqnkAnkiGQgIJKCjE9Qt6tVPS89QaoNx4yYWKc/TlGJxWFEE4KJZUWRRLgiAAAiAAAiAAAiAAAiAwCdOQFdN8ca2n/0ZG/eJd47Wmw8XTa13AQQAARAomUDBk0Pu/RuakY+AmzUcsTomS5pS8uyo+2Dbunp6xhZtvzmSrpw/67wnk8nYoqf70WfS5eAkcTuntLUwJiU5TPHjSkoIG9/MWM+42fgw7gPjOZGuLnu5epQLxjEIgAAIgAAIgAAIlIGAjprilF2PPsaXTl3N5Tcl8/7dtBbNGvOjEAYBEAABEPhECUR9P/l0x/XRqcXFhcmnxtydueYSDUJyaemAn8y8Lj0rLn6TcNSjrYInE0Wl7JzxY1UvOtObBP+mQdPWx7J5pp8ZujfhTXFxatSXz+a4HcghBUVu2N7u4KviVwfbbd8QSZvsktv+J9otx+JsNGZsIAACIAACIAACH0pAV01xquGwmYNe7F6363pqAVmLragg9fouv8NFwyd0q/GhTUZ+EAABEACBj4BA342XA5zaWxpSlH71ZlOndHxD7Gcq50jgma8CvLpZfEZHWzVrqLSmz91ok7mLe7GZ2szbPPruwdsUlXQjbdT3Ts2qk9VTDC3/td7H+FBEDpX0FzV6vIMhZegwfjT1VxKx4n/ZY+T6ZQmrZ3wEPNEEEAABEAABEAABUQnorClOVWk8atmy4VVO/bRwrovL3IU/naoyfNlCx3r41Lio+oHKQAAEQEBXCejryxYezYrxCTMd14NI+mf0i0ljWpUscoNGD/wC7rxlBrnfvnz3f1kPH+VQda3+97P/odQCOlvB6+T/fZYRl0BZN6cO7btXQBXc23eIam6dExmaPdnVTlZlyVXgDAiAAAiAAAiAAAgIIKC7pjgR3uDzjtOWbPQPIpv/xiXTOn5uIKBFSCIGAeKiuXiYvbKLZkHqzXCfyf0bDvTjHCsVZHke6TmcccakPTin7Iyjn4XJluDXjbh6cptLJBMHF02GDf6BAAhoIiDJuLp6xPRTjsF+A+kB8Jw3RQ92Dm9rW9dU0e+bK6bVol+n3/ratga55JjbT/SNznmWmk6ZjPUPqRPQ2ZJEGlv3/fe+x0/JCqH6jl7/TpxkqVd7zKN/ew2MDX3cy9U6yt3BjHYel12/uGKxBwEQAAEQAAEQAIEyEtBpU7yMbUFy0QjQLprtfjyj5KIZ+f2owNyemzbPt1ErSH7yy0YLD8a9Ip+yfxUX0i50KuOjSVGJCcb+iSSS3YIc4aKpFh8iQQAEVAkU3PP78tvoAaFHl3Yyk521Gfufs/fTs4kH+cFB12auOi996yc9r283Y/fttFxywcl6dtqzq0Gr5rbkjFlvn9PPskhkbtrtY06N67ZoSiLrjQ2+l1Wc++jnsXk7Ii2delxbs9ZkZ2rxm6Pd96w7Qs+GxwYCIAACIAACIAAC700Apvh7o/uUM9IumhPbWCi6aFKOftEhzowPplo21TpPc+7VuCbJRBnW7DBseK3Xb+h06cmJNk2s6ZBsg4umDAUCIAACJRNI2Tkn0GbzL+48M5xq19kis8CqJvEUpz3Iv5re7drtpBJLSPnj6GftWyudlpyPPN++rTUvNmVncOGEsWZ5aSl23ToZUvp2w4ZWTVZZmZ2XAUEQAAEQAAEQAAEQ0EgAprhGREigSkCti6ZqMvUxkrfJN8Nd3aOnOfegEzxPNmHGn3iJ4aLJg4EgCIBACQQubf5vtyUjzBW9t+uOHvFi0dL/pv1D5te8fbQrNG5Yf3rUW76lx91Jpl3FycR27ykbmy2cTK/Dlpdw78Fr2lW84En4V7NvusztLS81a++axyPmkEKMLOrHXYkpoCRxx0+8s6orLxIhEAABEAABEAABECg7AZjiZWeGHFICSi6aQrhEuujpGZi084gdtC1sGvt8/DLjmEdT2lOcOJAP9zlPf7EXLppCWCINCHziBJLuRO9zaUBfPKRbN2aVCrOJ/v71fhlpa6pXw3biH4OCFjFruJFrD7sQBUX9FTSCdhWv0WruX9OPsg7mlFHeH26taVdxyz47G4UcdpVb71mRyy72XNCDscx7LPk+Z4alXo0RlycvHqm0Mvsn3hloPgiAAAiAAAiAQJkJ6BHXuDJn0skMeXl5RkZKH5B9T0FzcnJMTHTrMUv3RCqIXjtts+HCLQpTQxngCX4ux4cFucsfZZW7oeB14v0TP3leHbonwFHu3knWLX4QuXjqLz0iD03jDTclBK3+c8LSumt6nxx3clW7JD/HdVYHfx5bYu/oHigKIikrQAnHAFUCGIVoHaRE5NNBqSCSgt6UfABQJbORn9FBSkQ4HZQKIsmVptQQQJWKR35SB0HJhUMIBMqDAEbFy4Pip1cGcdHc2Xi9ooumYAqGNRu3dwr4tnBteBI/j2FN+9ELv8yMvsuLhIsmDwaCIAACIAACIAACIAACIAACHwsBmOIfS0+K2g7aRXP+kDrMlE3BFUeHrT754KX0c76PwsPPWlnWpqioFeP9LrCem28fha/YatW3i6xEuGjKUCAAAiAAAiAAAiAAAiAAAiDwMRGAKf4x9aZYbWFcNO1MyWd7+S6a3PfBm3oEs87frOOmzEXTqpHRfrd2VgYkD3HhPNHhV396nnnfefOpQMZz08BqDBfJNAQummL1J+oBARAAARAAARAAARAAARAQmQB8xdUA10HXFIikpp/URQGUOirKcTpIiYiog1JBJGXVKeEYoEoAoxCtg5SIfDooFURS0JuSDwCqZDbyMzpIiQing1LpoEi6CUquWwiBQHkQwKh4eVBEGSAAAiAAAiAAAiAAAiAAAiAAAiAgmABMccGokBAEQAAEQAAEQAAEQAAEQAAEQAAEyoMATPHyoIgyQAAEQAAEQAAEQAAEQAAEQAAEQEAwAZjiglEhIQiAAAiAAAiAAAiAAAiAAAiAAAiUBwGY4uVBEWWAAAiAAAiAAAiAAAiAAAiAAAiAgGACMMUFo0JCEAABEAABEAABEAABEAABEAABECgPAh/Vx8zKAwjKAAEQAAEQAAEQAAEQAAEQqAQEjIyMKoGUEBEESiDw8ZjiJTTwfaLz8vJ07YcNkQR2JEAJAaWDlIjYOigVRBKiTui7yksJfYe+E0hAYDJcMwFKIAGByXRQowRKjmQgIJAAJqgLBIVkIAACIAACIAACIAACIAACIAACIFA+BGCKlw9HlAICIAACIAACIAACIAACIAACIAACAgnAFBcICslAAARAAARAAARAAARAAARAAARAoHwIwFe8fDiiFBAAARAAARAAARAAARAAARAAARAQSACj4gJBIRkIgAAIgAAIgAAIgAAIgAAIgAAIlA8BmOLlwxGlgAAIgAAIgAAIgAAIgAAIgAAIgIBAAjDFBYJCMhAAARAAARAAARAAARAAARAAARAoHwIwxcuHI0oBARAAARAAARAAARAAARAAARAAAYEEYIoLBIVkIAACIAACIAACIAACIAACIAACIFA+BGCKlw9HlAICIAACIAACIAACIAACIAACIAACAgnAFBcICslAAARAAARAAARAAARAAARAAARAoHwIwBQvH44oBQRAAARAAARAAARAAARAAARAAAQEEtAXmO7TSJabcHrPvsg/k3LeUVVNLBt3HP7luPZ1qmiv7YUvrh/89ejVhBf5RUQg6y8cx07o08xUdIGKClJvHfl1//lak7fObKNCIzchclfoyftERiJip8mzp4iErFSpGHInriemkq6sUu1z264jpo7p+LmBivDlG1GqSLKqcm8G/xB8M6/+KO/ljhay2AoKaBCp6OXN/b8cZjSsSrWaVg6Dxk/ub2tcQbLIiy1NqqLsR+d+P8D+CkXqOrbKP+4lvy7phya6kmsUSSsarlEqWReLpuQCRBJbyTWJxJ4XWcOfXj1z/GJ04vNMckVk725DlS+J4ip5UbZmkURWciEiaUPDNYOiKFGVXAAoLSi5rGuKnh/38T6WQnX6JkjxgUVcDZfJwwZKkkpkJedLVZJIsjSiXcZLRySyesuajwAIiEUApriMdO6dHV6/5vSfuWRqs9qGVQpz/35w6tpfme3rmMtSiBsoeh65Yc3Vel+6+Lg1MDYoKnj16OR2/5VJM71ntql4W0naVKnJdPV1w74tahf9owqgIHaX17bn3dy8nFuY/V9B0rnAgOW+OT8u6FNLNWn5xWiQqiBu/7rA62Z9p8zyam5pQroy68nFPVtXbMhavnRQRZm+GkTitb0o7sjvLx1HdTpwnRdZEUHNIhENW6egYU9vRDxMomxbVoQ40jI1SZV7Z9dKhV9h9K/+qza8XLLYsV4FvYJKu/gf3wNZDuOmfTfZ6nP6h5Z67/DPfiuTv/nxq1aGjNSiK7kmkbSh4RSlSSqe1oil5AJEElvJNYokvoaTjok9uPVqteETPb6iVZyibyZnw3as2PDyB9nvSnQl1ySSFpRck0ha0HBBfUeJreQaQWlFybnuyby4+2LDsYOpA1lcDLMXXcMVaqfUSqUFJedJpVYk3nmxLuNclSXJI7Z6c/JgDwLiESjGxhDIv7bF1SciRaIzOPKv+DuvPfVKQZ7829vdPQ8/VYir0IPbv6wIOfUg8x2p5PZ25+23lSt7etjzG/8rb+XRkicHPN23386Xx1RASINUqRcOX8lQ6kjJ/TD37w88qQBh2CI1iCSrl+bjeeCJhND0jkiVRVdEQKNIpPO+236b13kVIYVymRqkenLge/ew+4qdlxrh/c2WaxWlUpK7Jw/HK0N4dWqts/8VaZWiK7lGkbSh4cUapZJ1tWhKLkAksZVco0jiazjdLxKJ4m+Kjor//Xv38IfSXhNdyTWKpAUl10hJCqtYNA2nK9QsldhKrlEk7Sg52ztvr/i7kmcSctdQfGARX8M5baH3JUilBSWXSVWCSLLzoip5yYiKi0VXbxkCBEBALALwFWffemRePhffedSgihp5e49XK69fZ1J1aiuOLhta1DPLeJn5HqW9Z5Y207xm9W9hVtLE7sQb13K79evEG6Sv0rhbd7ObN+OK3rNCQdk0SGXRc2RXZbeCKjVr1niT/VZQ8e+TSINI0iLJ292wK/ZTRzauoAFeBck1iFT04MI5E8fR4s2wYIXTINWbrEyz2rUU8VhY1i96mflaoXHld1Cl1aCRKlPya9Q0o7JzcphaxFdyjSJpQ8MpjVJJ+0REJdcokvhKrlEk8TWc7pcqVRR/U3SUUbXP/nlXyPaa+EquUSQtKLkmSiwregxavMu45r4TX8k19p12lJzuntyb4QcKxk7pynsm0ZqGS9WlNKm0oORSqUoEJT0vspKX3HFaUG95xyEEAiIRgCnOgH5z9/ZTB4fmKo8rIvWCumrMG9kYJT5JVLBpcxMfp9lYN1SXXBtxBWnPM5s0sVGkZtHY9rPkv9O1IU/JdRYlXrv2wqFF05JTiHEm7fSuc/WnjrFTBCZGzWrqiL9z06x1S8VXPWqSiRzV0Nom7XFiLr/WIvIrMLJpJKafSG7M1TvmLe2YKnVEyfki8elwYe1ouBqptK3kCiLphpIriKQbGk5sljuR59726GLPKJBuKLmCSJxi8/fiK7k6kbSt4Up9R+mEkiuC0paSF8Tu25PWf6oa/zhtanjJUvGVmwuLouQaRRJZyUuRRyfUm+sc7EGgggjAV5wBm/o8xaLOZ08v7T18SrbUV8vB06YN0sIiadKermI/errtykD/al9NH0DGpWkf29+2HZZM+FbNfaaClENTsfTAfbVqrD+tPG1NM7PU5y8oqp48SquhouzYvRu33Wrs7N1ZWVRR5cq9uv+Y6di1bbQqhKzFb9Ke51nYFP8ZuT3inGy5sk4TZ06q+MXtZDKoCdTqM23UjfXrdul/M6mdJe3m//BU6K479rMX24v1/qIw+fSWzQfyhv8wjH3lpQNKriySMjftaLhaqbSr5Moi6YCSK4tEaVvDiwpyUv+69N/DJ+MtJn4/UfpaULtKrlYk7Sp5ySJpU8PVSqVdJVcrkpaUvCgxYm9Ct5nT1C0Ioz0NL00qLSm5RpFEVvLS5NGueit3EI5BoIIIwBRnwBbk56XFHDgzePAot5GN2EXb7uwL9lv53FnMRdKU+ti4zVfetc6EbPn+MDM517Bu31nL3VupzLxSyoVDHgGyrOzuLbtiqB7fLB+nXXLsfLClqhPneNKKGczPz6Nij+2p0X/ItOXTpcsCKq/kJKY8XF1V6g1asOrzfRvWfru9gI6r6TDFbVnvBiW5SHDZymdPFtjdERKRUn/UkoX9dcRXRZNI2tHwEqTSppKrE0nLSq5OJDLfWFsanha50utwCv1LMWzYbdJ8704NDcV6v1XSz1OgSGIqeekiaUvDS5FKW0peikhaUXLpjOp1onh/laTQKvHCpRJNyTWKJLKSly6PttRbpScRAQIVSQCmOEfXYvCsWbJvSxkYN+j41WJJwMKjF4a2kcVyScXZFz0/57/lfO1RbpvmyEyllctjpy+eYg9zXEAXFL64tPOn3fdqDXbzGaa9yQ2soMz8qz7zZ+rWfPA24+dP5D5OV8WwdgtHt3n5XhsiYwfNbKO1Z/TcB7s3hr/sNHX5Zul3DMgrsR9u9/vWrU/F2sbk2zvHt/mfzHSYsuzHHhX+1TsB6ku+36JJJK1oeMlSaU3JSxaJcNaOkpcikrY0nLJwXB7kSFGFua/Tk29d3uu193/dXF1V10kQpJvllEiASGIreWkiaU3DNfWdNpS8NFCU+EpOz6i2mOytG95fsp+HQKnEVHJNIomt5Jrk0do1XNaJCIBAxROArzjD2KJe/bT0DCXcxo2bWKQ8T1OKFeswfv+mI3WcfpjWkdjhpE7GVHJf3Ds5IDSaGS4US45S6qlZsxaVn68szeusLMu6n5eSTYxT5FFg1YrD+YOWbFo8Utt2OEXPv7rXbkKFfY7rfYCStdCo9BdKKl+lsU3jopRUpdj3Kf4987y5GBKQ3OO7fzu2IFNTSBnMKzGv6XWObD3+7D2LFJKNfuu10u+mlfPa1S7KdriWlLw0kZgmaUXDS5FKW0peikiUlpS8NJG0pOG8X4GBcc0Gdv0mLvzxO7s/N0lvJlpSck4qdSJpT8mZmtWIpC0N5yiRvRqptKXknFTqRBJfyekZ1VWHjWtf4iCFVjRco1QMRFGv5JpEElvJNcmjbfXm1Bx7EKhYAhgVZ/jSa439ERtHtbKrWNzCS09L+CvHYYSyh2ytlq0tfr8XR3XmBjOFF1gBKQ0bN6n/++MnRV35YqYlJvxjNaJuBVQnvMjMc9sCbjWaufyr9qZaG97lSRt75mRGDuU79zwvjg56uRymqE7fBM3URm82btL06Y37bwb1qaEklTYPEx89tGg9SWnuQBV7B4eMo/fTRjZU5wT44eIWxe3d9HtenyXLhlmpmQevFSUvXSTSZK1oeKlSaUfJSxWJorSh5KWLpBUNV/sbMbDq3NHCi72ZaEXJVaXii6QtJVeSiieSdjRcSR72kCeVdpRcVSq+SKIredqFqNh3KbFLXPYoCrbNJYai6o/yXu5ooYVnFQFSiX0l1yiSpbjPKhrloTtOBx9UFNUMRyDwwQRgirMI7Xr0MV576upIO54zb+b9u2ktujX+YMbvVUDNWnWqXIhPKGpjyzcmiUgp9VtXjEXyHmJatPzCeO2ZmNH2MmpFiVcuZ3Wb0oov9HsU/EFZih5EHEnpNttDN+xw0pQ2M4OCZio26c4Ol6P16CcExWgRj2p06fnF78dOJ/YcI3euK3pw755J817aE6pWHfOURwm5jhb80Q1aqir121fUEuqZ546cNx+7Rq0dTveHFpRck0ja0fDSpdKKkpcuEkVpQck1iKQNDaeKCgspAwPla3JR5qss8zrsey/RlVyzSKIruSaRtKLhAvpOdCXXBIoSXcmlk+X5t0/alf35CPlrbtE1nNw5WI+Q0qQSW8k1iyTus4pmebRxDef3GMIgIAoBTFCXYm44bOagF7vX7bqeWkC+H0bWK7++y+9w0fAJ3bQ0aGjYYdRwk7OB/kf+ZAQiEr16cmmX34GMrqP7as9UUtbJhsOm9kgK23zwYRb5Pm1RQdJp/y1n600azR8lV85S8ccPYq4Y9uyuXRkqvpUfXINh50nT613Z4h/JdB5FFiuP9N95x2HqsKYfXPR7F9BwwLhOyeRXeOkJrVC0X+vffx7x33nFfNTQinJfz7gR/aRVr+5KI/H8Foiu5BpF0oqGa5SKz0ycsGaRRFdyTSJpQcMpKuPUhqUb9p6J+zuHvrmRjf5d/b5x2x2HcQOkn8YUW8k1iyS6kmsWSRytVqxFgFRiK7lGkbSi5IrYVI/E1nBVCdTEiK7kamTQ9Six1VvXeUC+j5KAXnFx8UfZsPdpVOGL67/t2BuTlPOOqmpirf0vO5G1f879fiDyT1ogqkq1z227jpg6RsyPTZGx221khpfqxs75YuPJOsG7Qk/ef5FfREObPHtK+zrK4y+qBXxIjAapim4Gzw2+qa6CipsLrkEkVWEqflRckEhEw/4IC2M6j+iXCJ/vEyAV+RUe/PXo1QSiUBT9O/zCceyEPhXn7//8+ArvY6mqPSSd1yg9IaqSaxJJGxpOUZqkUkVY4UouTCRRlVyISCJrOOmYouynV88cvxj9LP3Na/ZnZdm444Cxjl0b8T14RFVyTSJpQck1iaQFDRfcd6IquRBQ4iu5Yvcoj4ozZ0XVcEV52CMlqbSg5CpSKYmkcp6q8Mu4YpVq5RFVvRXlwREIiEEAprgYlFEHCIAACIAACIAACIAACIAACIAACMgIYIK6DAUCIAACIAACIAACIAACIAACIAACICAGAZjiYlBGHSAAAiAAAiAAAiAAAiAAAiAAAiAgIwBTXIYCARAAARAAARAAARAAARAAARAAARAQgwBMcTEoow4QAAEQAAEQAAEQAAEQAAEQAAEQkBGAKS5DgQAIgAAIgAAIgAAIgAAIgAAIgAAIiEEAprgYlFEHCIAACIAACIAACIAACIAACIAACMgIwBSXoUAABEAABEAABEAABEAABEAABEAABMQgAFNcDMqoAwRAAARAAARAAARAAARAAARAAARkBGCKy1AgAAIgAAIgAAIgAAIgAAIgAAIgAAJiEIApLgZl1AECIAACIAACIAACIAACIAACIAACMgIwxWUoEAABEAABEAABEAABEAABEAABEAABMQjAFBeDMuoAARAAARAAARAAARAAARAAARAAARkBmOIyFAiAAAiAAAiAAAiAAAiAAAiAAAiAgBgEYIqLQRl1gAAIgAAIgAAIgAAIgAAIgAAIgICMAExxGQoEQAAEQAAEQAAEQAAEQAAEQAAEQEAMAjDFxaCMOkAABEAABEAABEAABEAABEAABEBARgCmuAwFAiAAAiAAAiAAAiAAAiAAAiAAAiAgBgGY4mJQRh0gAAIgAAJ8Ahe8OnTo4HWBH4WwJgILVvz0MjNLUyqcBwEQAAEQAAEQqBwE9CuHmJASBEAABECgwgg8DXUa6/+XvPhqtWxbOTp5zBze1FQe+RGG3iVHbVmzIzI2ITOfoqrVqte0y9ivvx7ftbGRbt4a3717t9ovZOm3s+vUNvsIewNNAgEQAAEQAIFPjABGxT+xDkdzQQAEQEAjgfzMhJhw78njvS5ka0xbaRNI7gc6TVgSHsPY4aQV+ZnP70b4e/ywL0VXm9SogeW7d4U/+gZlvMLYuK52EuQCARAAARAAAcEEYIoLRoWEIAACIPBRExi66Qa7XbtwLNCta23q1Qm/PY8+1ia/OhKwPbHQauia385coZt97ULUb4GLnNqZ6+aIOLUj/GDis5Ti4uJ37ySrfgqENf6xKibaBQIgAAIg8OkQgCn+6fQ1WgoCIAACggjoG1l2mO7j2p2inl25zowRq7h2kyntfGdv2XlJasTycX27dnAKfcpWJcm8HbqAjunQoWvfcXN9z6RKeDKQGeK+c9mzPUctOPBEdk6SlxgVuGDGoJ4kH5NzQejtTNlZilcqKXbojAWB/HLfPTq6nM1KqlwQelft0P7btyTacsDEgbamVWmJ9I3MbDtM8Aj2c2okF5DIt0YqRM9BM5bvlRVFBNi7fBrTrA49R831jUp+J89VMg1BkskLkoWIHX479iGxw4uLKcYaL/TesDXjVaYsAQIgAAIgAAIgAAKVjgBM8UrXZRAYBEAABEQgYFqjJqlFIpHbv5orzb6w6qvlEUk5hdKkkifhLiNn+59jYwpzkmLCd/whn/99xrP/aDJDnD2b//e5NcvCpQY8lbLvhyXbz92lfbjJRnKe85/txp2V3PSdLCuVnEy/e267rFzJg6Cp01dGsFmZjDPGb7ip2oo65hYUlfrrup8u8q1oqeDMjrRmzIQlB6RC5Gfejdhw4A53ZvLsDREP2Ybm/x0TvmTC7FD5iwS2FBUaAiWTynDy7OVvPdf+e+maZWv8+XY4McWbN7EmM9XXbt4uTYodCIAACIAACIBAJSQAU7wSdhpEBgEQAIEKJ5CeStvM+vrC52u/Pf7j4hNUV7fAiCs3wqeTseX0IxsC/sw3aDxyzb4L18gc8CtnfvN1cqguF71BXzdfZn74tT/WDCYrxP31hDPF9ev3cVu76zA7d/xKRODXLQ2ov/Yff8Dk/fNM5CvKcvRGUo90ZrmvW5/6rKDpBzaFPCms3c+LqfLKIa9+ZKL93u1HXslrZUPGg2bOtjEovL/HY3Q3Mq69OvRiYh7fYJfcDPI5klZYm20PPYH92C6v/nVJZknM1hUnXhlYDJLWERE4+4tqhff9Vx9I51WiSkOoZNJCBvft/rl5LWJ4Z73JJv/Z8XCyG9inq8c3XwZvWvHTykW8+hAEARAAARAAARCoZARgileyDoO4IAACIFDRBCR5qTe2LPIjI8ANu3WsL7i282f+HLRpn//0Dp8zM76pV5dOXS+k2rgHLBvIrkle1dS255D2tWUF9vtm5fSezPxw/VoDB/eUxZNA/QGzpw9waMDOHa/6eQeX6f3IGPaLl0was9rmFJWbmfriRTaZFk7PLO85ffYARtCUUxF3KIN+872GM1VWtRr+Az3R/vqV6Fx+8XRY397l19DlQ5pWIyu2/R1z0N9jfP9R7nsfcRPNGXvfdNwqX2l7yKx9h+G9mpOMMSePZFOWk1avlNZBpPNdRCq5E3FKPuJPKdMog2QyST3dneua11ayw8cOGyhLgAAIgAAIgAAIgEDlJSB8vKPythGSgwAIgAAIaCZwYn6HE/xUBo1nrZrZjB9Terj53G3LevG+fvbXA2LMN+/ZhR5JLvNGnLEP+Pn/cvFhumy6u6wMm/4jWob4nv/pq/M/0d8ga93X6evZk3ta0S8Anj4h68y16dzBWJbYtHW75tTltAxixcsjpWerNhuxcs+Q71PjTh/Z9fveyw/TLm2Y/q3+4W1j61IpcfeIL/nQbp1U7pIpiQmFFNWubWveGbaSR/SgPvNGgJSvTKNskrEC/u9/xbVqmj5Py2Cs8WIjI0PY4bKORQAEQAAEQAAEKjsB3qNEZW8K5AcBEAABECgXAnLztiz3CFtbm7IkL03S7IjFQ5ff67nop90BdpbMV77JUmjzZS8KGjntOGF/IDDk0DnySXDiw+3vEXXG47dQsuCaRELM5OtrBndYo1g8PZpdwsYMd8/ZOHxO9t3N38wIu37wv0/H0tPrP3BTpvEeklEXrt64F/e4S4cvnjxNTk3LePs27wOFQnYQAAEQAAEQAAHdIVBez0260yJIAgIgAAIg8D4EyMfMvHu9T8YS8jS3b0MduX7xWvr0RmUcGH8Vdex8YXO3eRMcLEsoW79W24lLt05cSlHvshNO/jjP+0zEuadO0xs1adaSOpEze/dBF03D+e/evatalZ1JL63DtPWoQc3D/mIc1hvVt3Mwpe5fvBIj6aU0MF6/sa0Bdf/W7buSXrKB8ey7t/6iqJY2pVjwwiWTivMkKXn/sagZU0Z3aNOSRHmt2/IyE58TL0EfEA0CIAACIAAClZAAfMUrYadBZBAAARDQAoHYq1fJ98SII/m9U6GBx59olKB2jwEdDag7fq6rotgV0YjVfDHipsoCaqoFMR8ae3LmNO24Tdd3zNd5/R/yZFc2TFseejEhi1lmraqhac3aZOq5pKiIpKjfsVtD6tmu+UuPJdB+5GQjld74fY33fp4bNxN/zac/+QjZsXt/y9NF7TxMDOqOrWnLl/qin2NtKnv/Mo/QGy/okhg5LpDzVKfBI02p1LCFS48xzXr34sYWt9WXybz4Iay/Op1bdRMumTTv/uOnlrrPYu1wEuW9eN6Ekf9SLRcxIAACIAACIAAClZQARsUracdBbBAAARAQj4BFvYbkI+P73Abtk9ZpYGCgufa6Ixe6Rkz3/fPIkvFHuNTN3Q7wV27johX3jbr2auj/1/2tU7ptZU8YWFgQJ3TOiJe8fRix1yPCn5fJoKVHfxv6uNlk96EH55/4w3vSH968883dpvCO2CD9ETLvmHCFeAOLsdP+xSwsp9/exXPk+cVHrvrPGSKraegmsnKbfqe5K4aenX/ijPf4M7I6DFq6LSUu5qVsZZCMKWWR69dKpfXu1kEpBocgAAIgAAIgAAKVlwBGxStv30FyEAABEBCJQLOZG5f0aUDWGqcMTFoMcfM9FDqHMXw1VK9v4xR0JMStj7UJbbgbmFh3cpo5iFvXrLS8zWZuWT+2BZ2LZOoz2//g4UVd5Om7ffurl1Mn21q0PMy6bUMWBvkTR3FmM+3lvW/nwiGtpWcNTOq2JgKvnaw8d7yXZ0TgwjGdbOsystHF2HZyWvP7wSXdyBC7tKRlB39fM1ZaEvGfH7JwbBvuzJ6QhUMYAUnOBnTGkOmaPOWFSiatHjsQAAEQAAEQAIGPm4Ae/a1SbCAAAiAAAiAAAiAAAiAAAiAAAiAAAmIRwKi4WKRRDwiAAAiAAAiAAAiAAAiAAAiAAAgwBGCKQxFAAARAAARAAARAAARAAARAAARAQFQCMMVFxY3KQAAEQAAEQAAEQAAEQAAEQAAEQACmOHQABEAABEAABEAABEAABEAABEAABEQlAFNcVNyoDARAAARAAARAAARAAARAAARAAARgikMHQAAEQAAEQAAEQAAEQAAEQAAEQEBUAjDFRcWNykAABEAABEAABEAABEAABEAABEAApjh0AARAAARAAARAAARAAARAAARAAAREJQBTXFTcqAwEQAAEQAAEQAAEQAAEQAAEQAAEYIpDB0AABEAABEAABEAABEAABEAABEBAVAIwxUXFjcpAAARAAARAAARAAARAAARAAARA4P8Bq3fsc5bAlkQAAAAASUVORK5CYII=)"
      ],
      "metadata": {
        "id": "5yaKLq1sNAQB"
      },
      "id": "5yaKLq1sNAQB"
    },
    {
      "cell_type": "code",
      "execution_count": null,
      "id": "b2b2de22",
      "metadata": {
        "id": "b2b2de22",
        "outputId": "fdcbefcb-8a21-45b0-f4ae-739aa1b7516c"
      },
      "outputs": [
        {
          "data": {
            "text/plain": [
              "<matplotlib.collections.PathCollection at 0x7fbfd782a2b0>"
            ]
          },
          "execution_count": 182,
          "metadata": {},
          "output_type": "execute_result"
        },
        {
          "data": {
            "image/png": "[encoded data removed]",
            "text/plain": [
              "<Figure size 800x550 with 1 Axes>"
            ]
          },
          "metadata": {},
          "output_type": "display_data"
        }
      ],
      "source": [
        "center = kmeans.cluster_centers_\n",
        "center\n",
        "plt.scatter(center[:,0], center[:,1], c='red', marker = 's')"
      ]
    },
    {
      "cell_type": "code",
      "execution_count": null,
      "id": "ebce9065",
      "metadata": {
        "id": "ebce9065"
      },
      "outputs": [],
      "source": []
    }
  ],
  "metadata": {
    "kernelspec": {
      "display_name": "Python 3 (ipykernel)",
      "language": "python",
      "name": "python3"
    },
    "language_info": {
      "codemirror_mode": {
        "name": "ipython",
        "version": 3
      },
      "file_extension": ".py",
      "mimetype": "text/x-python",
      "name": "python",
      "nbconvert_exporter": "python",
      "pygments_lexer": "ipython3",
      "version": "3.9.13"
    },
    "colab": {
      "provenance": []
    }
  },
  "nbformat": 4,
  "nbformat_minor": 5
}