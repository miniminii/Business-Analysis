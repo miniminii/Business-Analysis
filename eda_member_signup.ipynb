{
  "cells": [
    {
      "cell_type": "markdown",
      "source": [
        "# 데이터 불러오기"
      ],
      "metadata": {
        "id": "XRqYYLJj7202"
      },
      "id": "XRqYYLJj7202"
    },
    {
      "cell_type": "code",
      "execution_count": null,
      "id": "38f42700",
      "metadata": {
        "id": "38f42700"
      },
      "outputs": [],
      "source": [
        "import pandas as pd\n",
        "from glob import glob\n",
        "import os\n",
        "import numpy as np\n",
        "from tqdm import tqdm, tqdm_notebook\n",
        "import plotly.offline as pyo\n",
        "import matplotlib.pyplot as plt\n",
        "import plotly.express as px\n",
        "import plotly.graph_objects as go\n",
        "\n",
        "from datetime import datetime\n",
        "from datetime import date"
      ]
    },
    {
      "cell_type": "code",
      "execution_count": null,
      "id": "951e26a4",
      "metadata": {
        "id": "951e26a4"
      },
      "outputs": [],
      "source": [
        "import plotly.io as pio\n",
        "pio.renderers.default = \"plotly_mimetype+notebook\""
      ]
    },
    {
      "cell_type": "code",
      "execution_count": null,
      "id": "5c3ae843",
      "metadata": {
        "id": "5c3ae843"
      },
      "outputs": [],
      "source": [
        "import warnings\n",
        "warnings.filterwarnings(action='ignore')"
      ]
    },
    {
      "cell_type": "code",
      "execution_count": null,
      "id": "90b2fe95",
      "metadata": {
        "id": "90b2fe95"
      },
      "outputs": [],
      "source": [
        "pd.options.display.float_format = '{:.4f}'.format"
      ]
    },
    {
      "cell_type": "code",
      "execution_count": null,
      "id": "bf9368a7",
      "metadata": {
        "id": "bf9368a7"
      },
      "outputs": [],
      "source": [
        "%matplotlib inline\n",
        "from matplotlib import font_manager, rc\n",
        "import matplotlib.pyplot as plt\n",
        "import platform\n",
        "\n",
        "path = \"c:/Windows/Fonts/malgun.ttf\"\n",
        "if platform.system() == 'Darwin':\n",
        "    rc('font', family='AppleGothic')\n",
        "rc('axes', unicode_minus=False)  "
      ]
    },
    {
      "cell_type": "code",
      "execution_count": null,
      "id": "ce0d05d9",
      "metadata": {
        "id": "ce0d05d9"
      },
      "outputs": [],
      "source": [
        "pd.set_option('display.max_columns',50) # 전체 열 출력하기\n",
        "pd.set_option('display.max_rows',50) # 전체 행 출력하기"
      ]
    },
    {
      "cell_type": "code",
      "execution_count": null,
      "id": "7423bfc3",
      "metadata": {
        "id": "7423bfc3"
      },
      "outputs": [],
      "source": [
        "# go to file\n",
        "os.chdir('../DATA_raw2')"
      ]
    },
    {
      "cell_type": "markdown",
      "id": "93cb621a",
      "metadata": {
        "id": "93cb621a"
      },
      "source": [
        "# 1. 멤버십 회원 구성 현황"
      ]
    },
    {
      "cell_type": "code",
      "execution_count": null,
      "id": "23d08604",
      "metadata": {
        "id": "23d08604"
      },
      "outputs": [],
      "source": [
        "user = pd.read_pickle(\"../TBWA/user_fin2.pkl\")\n",
        "order = pd.read_pickle(\"../TBWA/order_fin.pkl\")"
      ]
    },
    {
      "cell_type": "code",
      "execution_count": null,
      "id": "6576489e",
      "metadata": {
        "id": "6576489e",
        "outputId": "b20a9323-9605-466f-d03e-5cae459ebcc0"
      },
      "outputs": [
        {
          "data": {
            "text/plain": [
              "count   1907989.0000\n",
              "mean          0.4884\n",
              "std           0.6980\n",
              "min           0.0000\n",
              "25%           0.0000\n",
              "50%           0.0000\n",
              "75%           1.0000\n",
              "max          17.0000\n",
              "Name: 재가입횟수, dtype: float64"
            ]
          },
          "execution_count": 9,
          "metadata": {},
          "output_type": "execute_result"
        }
      ],
      "source": [
        "user.재가입횟수.describe()"
      ]
    },
    {
      "cell_type": "markdown",
      "id": "f6e8e05e",
      "metadata": {
        "id": "f6e8e05e"
      },
      "source": [
        "## 1.1. 구매 경험 o vs 구매 경험 x 멤버 수"
      ]
    },
    {
      "cell_type": "code",
      "execution_count": null,
      "id": "286bea12",
      "metadata": {
        "id": "286bea12"
      },
      "outputs": [],
      "source": [
        "demo = order.groupby(\"고유번호\", as_index=False).agg({'구매일자' : 'nunique'})\n",
        "demo.rename(columns = {'구매일자' : '구매횟수'}, inplace = True)\n",
        "user = pd.merge(user, demo, on = '고유번호', how = 'left')\n",
        "user['구매횟수'] = user['구매횟수'].fillna(value=0)"
      ]
    },
    {
      "cell_type": "code",
      "execution_count": null,
      "id": "3f2b61bf",
      "metadata": {
        "id": "3f2b61bf"
      },
      "outputs": [],
      "source": [
        "def fun1(x) : \n",
        "    if x == 0:\n",
        "        return '0회 구매'\n",
        "    elif x == 1:\n",
        "        return '1회 구매'\n",
        "    elif x == 2:\n",
        "        return '2회 구매'\n",
        "    elif x == 3:\n",
        "        return '3회 구매'\n",
        "    elif x == 4:\n",
        "        return '4회 구매'\n",
        "    elif x == 5:\n",
        "        return '5회 구매'\n",
        "    elif x == 6:\n",
        "        return '6회 구매'\n",
        "    else :\n",
        "        return '7회 이상 구매'\n",
        "user['구매횟수2'] = user['구매횟수'].apply(fun1)"
      ]
    },
    {
      "cell_type": "code",
      "execution_count": null,
      "id": "7b9b923d",
      "metadata": {
        "id": "7b9b923d"
      },
      "outputs": [],
      "source": [
        "df = user.groupby(['구매횟수2'], as_index = False).agg({'고유번호' : 'count'})\n",
        "fig = px.pie(df, values='고유번호', names='구매횟수2', title='구매횟수별 멤버십 회원수', color = '구매횟수2') \n",
        "fig.update_traces(textposition='inside', textinfo='percent+label')\n",
        "fig.show()"
      ]
    },
    {
      "cell_type": "markdown",
      "id": "af37ef75",
      "metadata": {
        "id": "af37ef75"
      },
      "source": [
        "- 구매하지 않은 고객 : 54만명 존재. \n",
        "- 구매한 고객 중에선 1회 구매자가 많음"
      ]
    },
    {
      "cell_type": "markdown",
      "id": "c3821a25",
      "metadata": {
        "id": "c3821a25"
      },
      "source": [
        "## 1.2 인구통계 현황"
      ]
    },
    {
      "cell_type": "markdown",
      "id": "a38d9d7a",
      "metadata": {
        "id": "a38d9d7a"
      },
      "source": [
        "### 연령"
      ]
    },
    {
      "cell_type": "code",
      "execution_count": null,
      "id": "76432511",
      "metadata": {
        "id": "76432511"
      },
      "outputs": [],
      "source": [
        "age = user.groupby(['연령대'],as_index = False).agg({'고유번호':'count'}).sort_values(by=['연령대'], ascending = True)\n",
        "age['퍼센트'] = age['고유번호'] / age['고유번호'].sum() *100\n",
        "\n",
        "age['연령대2']='60세 이상'\n",
        "age['연령대2'] = np.where(age['연령대']=='19세 미만', '10대 이하',age['연령대2'])\n",
        "age['연령대2'] = np.where((age['연령대']=='20-24세')|(age['연령대']=='25-29세'), '20대',age['연령대2'])\n",
        "age['연령대2'] = np.where((age['연령대']=='30~34세')|(age['연령대']=='35~39세'), '30대',age['연령대2'])\n",
        "age['연령대2'] = np.where((age['연령대']=='40~44세')|(age['연령대']=='45~49세'), '40대',age['연령대2'])\n",
        "age['연령대2'] = np.where((age['연령대']=='50~54세')|(age['연령대']=='55~59세'), '50대',age['연령대2'])"
      ]
    },
    {
      "cell_type": "code",
      "execution_count": null,
      "id": "c278e0d4",
      "metadata": {
        "id": "c278e0d4"
      },
      "outputs": [],
      "source": [
        "# 연령별 차이\n",
        "# plotting\n",
        "fig = px.bar(age, \n",
        "              x='연령대2', \n",
        "              y='퍼센트', \n",
        "              title='연령별 구성 - 2-30대 강세, 10대가 저조함', color=\"연령대\", text_auto='.3s')\n",
        "fig.update_layout(xaxis_title='연령대',\n",
        "                  yaxis_title='퍼센트')\n",
        "\n",
        "#fig.show()"
      ]
    },
    {
      "cell_type": "code",
      "execution_count": null,
      "id": "23f887af",
      "metadata": {
        "id": "23f887af"
      },
      "outputs": [],
      "source": [
        "fig = px.pie(age, values='고유번호', names='연령대2', title='멤버십 연령대', color = '연령대2')\n",
        "fig.update_traces(textposition='inside', textinfo='percent+label')\n",
        "fig.show()"
      ]
    },
    {
      "cell_type": "code",
      "execution_count": null,
      "id": "c22e4117",
      "metadata": {
        "id": "c22e4117"
      },
      "outputs": [],
      "source": [
        "age = user.groupby(['연령대2'],as_index = False).agg({'고유번호':'count'}).sort_values(by=['연령대2'], ascending = True)\n",
        "age['ratio'] = round(age.고유번호 / age.고유번호.sum() * 100,2)\n",
        "age"
      ]
    },
    {
      "cell_type": "markdown",
      "id": "44d8cfd7",
      "metadata": {
        "id": "44d8cfd7"
      },
      "source": [
        "### 성별"
      ]
    },
    {
      "cell_type": "code",
      "execution_count": null,
      "id": "fba908f1",
      "metadata": {
        "id": "fba908f1"
      },
      "outputs": [],
      "source": [
        "sex = user.groupby(['성별'],as_index = False).agg({'고유번호':'count'}).sort_values(by=['성별'], ascending = True)\n",
        "sex['퍼센트'] = sex['고유번호'] / sex['고유번호'].sum() *100\n",
        "sex"
      ]
    },
    {
      "cell_type": "code",
      "execution_count": null,
      "id": "c7af8b1b",
      "metadata": {
        "id": "c7af8b1b"
      },
      "outputs": [],
      "source": [
        "fig = px.pie(sex, values='고유번호', names='성별', title='멤버십 내 성별비율', color = '성별', \n",
        "             color_discrete_map={ 'F': '#CD5C5C','M': '#4169E1'}) \n",
        "fig.update_traces(textposition='inside', textinfo='percent+label')\n",
        "fig.show()"
      ]
    },
    {
      "cell_type": "code",
      "execution_count": null,
      "id": "8c7f5294",
      "metadata": {
        "id": "8c7f5294"
      },
      "outputs": [],
      "source": [
        "user['연령대2']='60세 이상'\n",
        "user['연령대2'] = np.where(user['연령대']=='19세 미만', '10대 이하',user['연령대2'])\n",
        "user['연령대2'] = np.where((user['연령대']=='20-24세')|(user['연령대']=='25-29세'), '20대',user['연령대2'])\n",
        "user['연령대2'] = np.where((user['연령대']=='30~34세')|(user['연령대']=='35~39세'), '30대',user['연령대2'])\n",
        "user['연령대2'] = np.where((user['연령대']=='40~44세')|(user['연령대']=='45~49세'), '40대',user['연령대2'])\n",
        "user['연령대2'] = np.where((user['연령대']=='50~54세')|(user['연령대']=='55~59세'), '50대',user['연령대2'])\n",
        "#연령대별 성별\n",
        "agesex = user.groupby(['연령대2','성별'],as_index = False).agg({'고유번호':'nunique'}).sort_values(by=['연령대2'], ascending = True)\n",
        "agesex"
      ]
    },
    {
      "cell_type": "code",
      "execution_count": null,
      "id": "691d496b",
      "metadata": {
        "id": "691d496b"
      },
      "outputs": [],
      "source": [
        "#연령대별 성별\n",
        "fig = px.bar(agesex, x=\"연령대2\", y=\"고유번호\", color=\"성별\", color_discrete_map={\n",
        "        'F': '#CD5C5C','M': '#4169E1'}, title=\"연령대별 성별 - 모든 연령대에서 여성이 강세, 십대는 반반\",text_auto='.2s')\n",
        "fig.show()"
      ]
    },
    {
      "cell_type": "markdown",
      "id": "229dfaa3",
      "metadata": {
        "id": "229dfaa3"
      },
      "source": [
        "### 가입처"
      ]
    },
    {
      "cell_type": "code",
      "execution_count": null,
      "id": "e2c27d50",
      "metadata": {
        "id": "e2c27d50"
      },
      "outputs": [],
      "source": [
        "sign = user.groupby(['가입처'],as_index = False).agg({'고유번호':'count'}).sort_values(by=['고유번호'], ascending = False)\n",
        "sign['퍼센트'] = sign['고유번호'] / sign['고유번호'].sum() *100\n",
        "sign"
      ]
    },
    {
      "cell_type": "code",
      "execution_count": null,
      "id": "ad3d42d9",
      "metadata": {
        "id": "ad3d42d9"
      },
      "outputs": [],
      "source": [
        "fig = px.pie(sign, values='고유번호', names='가입처', title='멤버십회원의 주 가입경로', color = '가입처') \n",
        "fig.update_traces(textposition='inside', textinfo='percent+label')\n",
        "fig.show()"
      ]
    },
    {
      "cell_type": "markdown",
      "id": "502426f7",
      "metadata": {
        "id": "502426f7"
      },
      "source": [
        "# 2. 가입현황"
      ]
    },
    {
      "cell_type": "code",
      "execution_count": null,
      "id": "00b75069",
      "metadata": {
        "id": "00b75069"
      },
      "outputs": [],
      "source": [
        "user2 = user.copy()"
      ]
    },
    {
      "cell_type": "code",
      "execution_count": null,
      "id": "65043a8c",
      "metadata": {
        "id": "65043a8c"
      },
      "outputs": [],
      "source": [
        "user2['최초가입일2'] = user2['최초가입일'].astype(str)\n",
        "user2['최초가입연월'] = user2['최초가입일2'].str[:7]\n",
        "\n",
        "user2['최종가입일2'] = user2['최종가입일'].astype(str)\n",
        "user2['최종가입연월'] = user2['최종가입일2'].str[:7]\n",
        "\n",
        "user2['최초가입연도'] = user2['최초가입일'].dt.year\n",
        "user2['최종가입연도'] = user2['최종가입일'].dt.year\n",
        "user2['최초가입월'] = user2['최초가입일'].dt.month\n",
        "user2['최종가입월'] = user2['최종가입일'].dt.month"
      ]
    },
    {
      "cell_type": "markdown",
      "id": "560eb21f",
      "metadata": {
        "id": "560eb21f"
      },
      "source": [
        "## 연도별, 월별 가입 현황\n",
        "- 2020년 기점으로 상승\n",
        "- 월별 패턴은 없음"
      ]
    },
    {
      "cell_type": "code",
      "execution_count": null,
      "id": "d9a6163a",
      "metadata": {
        "id": "d9a6163a"
      },
      "outputs": [],
      "source": [
        "log = user2.groupby(['최초가입연월'],as_index = False).agg({'고유번호':'nunique'}).sort_values(by=['최초가입연월'], ascending = True).reset_index(drop=True)\n",
        "log['퍼센트'] = log['고유번호'] / log['고유번호'].sum() *100\n",
        "log['연도'] = log['최초가입연월'].str[:4].astype(int)\n",
        "log['월'] = log['최초가입연월'].str[5:].astype(int)\n",
        "log"
      ]
    },
    {
      "cell_type": "code",
      "execution_count": null,
      "id": "0d1d70a9",
      "metadata": {
        "id": "0d1d70a9"
      },
      "outputs": [],
      "source": [
        "# 연도별, 연월별 가입 현황\n",
        "# plotting\n",
        "fig = px.line(log, \n",
        "              x='최초가입연월', \n",
        "              y='고유번호', \n",
        "              title='연월 별 가입현황, 변동 작다가 2020년 기점으로 상승')\n",
        "fig.update_layout(xaxis_title='연월',\n",
        "                  yaxis_title='카운트')\n",
        "fig.show()"
      ]
    },
    {
      "cell_type": "code",
      "execution_count": null,
      "id": "179100e3",
      "metadata": {
        "id": "179100e3"
      },
      "outputs": [],
      "source": [
        "log = log.groupby(['연도', '월'],as_index = False).agg({'고유번호':'sum'}).sort_values(by=['월'], ascending = True).reset_index(drop=True)\n",
        "log['퍼센트'] = log['고유번호'] / log['고유번호'].sum() *100\n",
        "log"
      ]
    },
    {
      "cell_type": "code",
      "execution_count": null,
      "id": "32bbaeca",
      "metadata": {
        "id": "32bbaeca"
      },
      "outputs": [],
      "source": [
        "# 연도별, 연월별 가입 현황\n",
        "# plotting\n",
        "fig = px.line(log, \n",
        "              x='월', \n",
        "              y='고유번호', \n",
        "              title='월별 가입현황 - 패턴 x', color = '연도',\n",
        "              color_discrete_sequence=px.colors.qualitative.Dark24)\n",
        "fig.update_layout(xaxis_title='월',\n",
        "                  yaxis_title='카운트')\n",
        "fig.show()"
      ]
    },
    {
      "cell_type": "code",
      "execution_count": null,
      "id": "a74325ab",
      "metadata": {
        "id": "a74325ab"
      },
      "outputs": [],
      "source": [
        "# 2022년도만 월별 가입자 수\n",
        "log[log.연도 == 2022][['연도', '월', '고유번호']]"
      ]
    },
    {
      "cell_type": "code",
      "execution_count": null,
      "id": "d1df8c6a",
      "metadata": {
        "id": "d1df8c6a"
      },
      "outputs": [],
      "source": [
        "log = user2.groupby(['최초가입연도'],as_index = False).agg({'고유번호':'nunique'}).sort_values(by=['최초가입연도'], ascending = True).reset_index(drop=True)\n",
        "log['퍼센트'] = log['고유번호'] / log['고유번호'].sum() *100\n",
        "log = log[:11]\n",
        "log"
      ]
    },
    {
      "cell_type": "code",
      "execution_count": null,
      "id": "2abf17b2",
      "metadata": {
        "id": "2abf17b2"
      },
      "outputs": [],
      "source": [
        "# plotting\n",
        "fig = px.line(log, \n",
        "              x='최초가입연도', \n",
        "              y='고유번호', \n",
        "              title='연도별 가입현황')\n",
        "fig.update_layout(xaxis_title='연도',\n",
        "                  yaxis_title='카운트')\n",
        "fig.show()"
      ]
    },
    {
      "cell_type": "code",
      "execution_count": null,
      "id": "e9a7e188",
      "metadata": {
        "id": "e9a7e188"
      },
      "outputs": [],
      "source": [
        "df = user2.groupby(['최초가입연도'], as_index=False).agg({'고유번호' : 'count'})\n",
        "fig = px.pie(df, values='고유번호', names='최초가입연도', title='최초가입연도 별 회원 수', color = '최초가입연도') \n",
        "fig.update_traces(textposition='inside', textinfo='percent+label')\n",
        "fig.show()"
      ]
    },
    {
      "cell_type": "markdown",
      "id": "d874c80a",
      "metadata": {
        "id": "d874c80a"
      },
      "source": [
        "- 2022년이 많이 나온것은 이전 연도에 탈퇴한 회원들은 잡히지 않고 있기 때문"
      ]
    },
    {
      "cell_type": "markdown",
      "id": "72fd3f7a",
      "metadata": {
        "id": "72fd3f7a"
      },
      "source": [
        "## 가입주기"
      ]
    },
    {
      "cell_type": "markdown",
      "id": "4a60c1f6",
      "metadata": {
        "id": "4a60c1f6"
      },
      "source": [
        "- 가입주기 : 회원들이 가입한 기간 / 그 기간동안 가입한 회원 수 = #분에 1명꼴로 가입한다. "
      ]
    },
    {
      "cell_type": "code",
      "execution_count": null,
      "id": "62029b0b",
      "metadata": {
        "id": "62029b0b",
        "outputId": "f6e73582-1b20-4ae4-c6ee-f3d14b35e407"
      },
      "outputs": [
        {
          "data": {
            "text/plain": [
              "2.936622242907188"
            ]
          },
          "execution_count": 33,
          "metadata": {},
          "output_type": "execute_result"
        }
      ],
      "source": [
        "# 가입주기 계산 \n",
        "df = user2.sort_values(by=['최초가입일'], ascending = True)\n",
        "\n",
        "df['직전가입일'] = df['최초가입일'].shift(1)\n",
        "df['현재가입일'] = df['최초가입일']\n",
        "df['가입소요시간'] = df['현재가입일'] - df['직전가입일']\n",
        "df['가입소요시간'] = df['가입소요시간'].dt.days * 24 * 60\n",
        "df['가입소요시간'].sum()/(len(df)-1)  #2.9분에 한명꼴로 !!!! "
      ]
    },
    {
      "cell_type": "code",
      "execution_count": null,
      "id": "f29e9f32",
      "metadata": {
        "id": "f29e9f32"
      },
      "outputs": [],
      "source": [
        "list1 = []\n",
        "list2 = []\n",
        "\n",
        "for i in df['최초가입연도'].unique() :\n",
        "    data = df[df['최초가입연도'] == i]\n",
        "    aa = data['가입소요시간'].sum()/(len(data)-1)\n",
        "    list1.append(i)\n",
        "    list2.append(aa)"
      ]
    },
    {
      "cell_type": "code",
      "execution_count": null,
      "id": "2d5e5d0e",
      "metadata": {
        "id": "2d5e5d0e"
      },
      "outputs": [],
      "source": [
        "data = pd.DataFrame({'가입연도' : list1, '가입주기' : list2}).sort_values(by=['가입연도'], ascending = True).reset_index(drop=True)\n",
        "data['가입연도'] = data['가입연도'].astype(str)\n",
        "data = data[:11]\n",
        "data"
      ]
    },
    {
      "cell_type": "code",
      "execution_count": null,
      "id": "e2827051",
      "metadata": {
        "id": "e2827051"
      },
      "outputs": [],
      "source": [
        "# 가입 주기 \n",
        "# plotting\n",
        "fig = px.bar(data, \n",
        "              x='가입연도', \n",
        "              y='가입주기', \n",
        "              title='연도별 가입주기', color=\"가입연도\", text_auto= '.2s')\n",
        "fig.update_layout(xaxis_title='연도',\n",
        "                  yaxis_title='주기')\n",
        "fig.show()"
      ]
    },
    {
      "cell_type": "markdown",
      "id": "1ed7f3f1",
      "metadata": {
        "id": "1ed7f3f1"
      },
      "source": [
        "## 가입자들의 유지기간 "
      ]
    },
    {
      "cell_type": "code",
      "execution_count": null,
      "id": "81f016c7",
      "metadata": {
        "id": "81f016c7",
        "outputId": "eb6776a0-adb7-4993-af2f-c24f17df7eb6"
      },
      "outputs": [
        {
          "name": "stdout",
          "output_type": "stream",
          "text": [
            "탈퇴하지않은 분들의 유지기간 :  1.8355746772992798\n"
          ]
        }
      ],
      "source": [
        "cc = pd.read_pickle('../DATA_raw2/도소매제거info.pkl')\n",
        "## 쭉 유지회원\n",
        "print('탈퇴하지않은 분들의 유지기간 : ', cc[cc.재가입횟수 == 0].유지기간2.mean()) #년"
      ]
    },
    {
      "cell_type": "code",
      "execution_count": null,
      "id": "5a154414",
      "metadata": {
        "id": "5a154414",
        "outputId": "863d2afc-0a02-4bab-9a96-93227124ce6b"
      },
      "outputs": [
        {
          "name": "stdout",
          "output_type": "stream",
          "text": [
            "재가입하신 분들의 유지기간 :  1.5933288010343452\n"
          ]
        }
      ],
      "source": [
        "## 재가입 회원\n",
        "print('재가입하신 분들의 유지기간 : ', cc[cc.재가입횟수 > 0].유지기간2.mean()) #년"
      ]
    },
    {
      "cell_type": "markdown",
      "id": "14f373ca",
      "metadata": {
        "id": "14f373ca"
      },
      "source": [
        "###  프로모션 시기에 가입(=최종가입)한 사람 전체 몇%?  = > 86.3 % \n"
      ]
    },
    {
      "cell_type": "code",
      "execution_count": null,
      "id": "dd16df28",
      "metadata": {
        "id": "dd16df28"
      },
      "outputs": [],
      "source": [
        "signup = pd.read_pickle(\"../TBWA/promo_signup.pkl\")"
      ]
    },
    {
      "cell_type": "code",
      "execution_count": null,
      "id": "c97d3a37",
      "metadata": {
        "id": "c97d3a37"
      },
      "outputs": [],
      "source": [
        "signup = signup[signup.고유번호.isin(user.고유번호.unique())]"
      ]
    },
    {
      "cell_type": "code",
      "execution_count": null,
      "id": "7b4db226",
      "metadata": {
        "id": "7b4db226"
      },
      "outputs": [],
      "source": [
        "aa = []\n",
        "for i in signup['프모기간가입'] : \n",
        "    aa.append(''.join(str(i)))\n",
        "signup['프모'] = aa"
      ]
    },
    {
      "cell_type": "code",
      "execution_count": null,
      "id": "4052993b",
      "metadata": {
        "id": "4052993b",
        "outputId": "3982e03e-234b-4108-80ac-d5c062b650f4"
      },
      "outputs": [
        {
          "data": {
            "text/plain": [
              "행사o    1646366\n",
              "행사x     261623\n",
              "Name: 프모, dtype: int64"
            ]
          },
          "execution_count": 40,
          "metadata": {},
          "output_type": "execute_result"
        }
      ],
      "source": [
        "signup['프모'] = np.where(signup['프모'] =='[]', '행사x',signup['프모'])\n",
        "signup['프모'] = np.where(signup['프모'] !='행사x', '행사o',signup['프모'])\n",
        "\n",
        "signup['프모'].value_counts()"
      ]
    },
    {
      "cell_type": "code",
      "execution_count": null,
      "id": "6d314763",
      "metadata": {
        "id": "6d314763",
        "outputId": "55ea67af-60a1-43ff-e1eb-6e15d05ef7d1"
      },
      "outputs": [
        {
          "data": {
            "text/html": [
              "<div>\n",
              "<style scoped>\n",
              "    .dataframe tbody tr th:only-of-type {\n",
              "        vertical-align: middle;\n",
              "    }\n",
              "\n",
              "    .dataframe tbody tr th {\n",
              "        vertical-align: top;\n",
              "    }\n",
              "\n",
              "    .dataframe thead th {\n",
              "        text-align: right;\n",
              "    }\n",
              "</style>\n",
              "<table border=\"1\" class=\"dataframe\">\n",
              "  <thead>\n",
              "    <tr style=\"text-align: right;\">\n",
              "      <th></th>\n",
              "      <th>프모</th>\n",
              "      <th>고유번호</th>\n",
              "      <th>ratio</th>\n",
              "    </tr>\n",
              "  </thead>\n",
              "  <tbody>\n",
              "    <tr>\n",
              "      <th>0</th>\n",
              "      <td>행사o</td>\n",
              "      <td>1646366</td>\n",
              "      <td>86.2880</td>\n",
              "    </tr>\n",
              "    <tr>\n",
              "      <th>1</th>\n",
              "      <td>행사x</td>\n",
              "      <td>261623</td>\n",
              "      <td>13.7120</td>\n",
              "    </tr>\n",
              "  </tbody>\n",
              "</table>\n",
              "</div>"
            ],
            "text/plain": [
              "    프모     고유번호   ratio\n",
              "0  행사o  1646366 86.2880\n",
              "1  행사x   261623 13.7120"
            ]
          },
          "execution_count": 41,
          "metadata": {},
          "output_type": "execute_result"
        }
      ],
      "source": [
        "df = signup.groupby('프모', as_index = False).agg({'고유번호' : 'count'})\n",
        "df['ratio'] = df.고유번호 / df.고유번호.sum() * 100\n",
        "df"
      ]
    },
    {
      "cell_type": "code",
      "execution_count": null,
      "id": "fdb96f60",
      "metadata": {
        "id": "fdb96f60"
      },
      "outputs": [],
      "source": [
        "df = signup.groupby('프모', as_index = False).agg({'고유번호' : 'count'})\n",
        "fig = px.pie(df, values='고유번호', names='프모', title='가입기간에 프로모션이 열렸는가', color = '프모', \n",
        "             color_discrete_map={ '행사x': '#CD5C5C','행사o': '#4169E1'}) \n",
        "fig.update_traces(textposition='inside', textinfo='percent+label')\n",
        "fig.show()"
      ]
    },
    {
      "cell_type": "code",
      "execution_count": null,
      "id": "d20aa8ee",
      "metadata": {
        "id": "d20aa8ee"
      },
      "outputs": [],
      "source": []
    },
    {
      "cell_type": "code",
      "execution_count": null,
      "id": "b6ce7b15",
      "metadata": {
        "id": "b6ce7b15"
      },
      "outputs": [],
      "source": []
    },
    {
      "cell_type": "markdown",
      "id": "bcde573f",
      "metadata": {
        "id": "bcde573f"
      },
      "source": [
        "### 2022년 신규가입은 어떤 프로모션에서 가장 많이 일어났는가?"
      ]
    },
    {
      "cell_type": "code",
      "execution_count": null,
      "id": "af71ed5b",
      "metadata": {
        "id": "af71ed5b"
      },
      "outputs": [],
      "source": [
        "df = pd.merge(user[['고유번호', '최초가입일','최종가입일', '재가입횟수']], signup[['고유번호','프모기간가입']], on = '고유번호', how = 'left')\n",
        "df['최종가입연도'] = df.최종가입일.dt.year\n",
        "df['최초가입연도'] = df.최초가입일.dt.year"
      ]
    },
    {
      "cell_type": "code",
      "execution_count": null,
      "id": "20f6b26a",
      "metadata": {
        "id": "20f6b26a",
        "outputId": "77aa204c-cc5f-4632-fbfb-816c97604fa0"
      },
      "outputs": [
        {
          "data": {
            "text/plain": [
              "690797"
            ]
          },
          "execution_count": 44,
          "metadata": {},
          "output_type": "execute_result"
        }
      ],
      "source": [
        "len(df[df.최초가입연도 == 2022] ) #2022년 신규가입 69만명"
      ]
    },
    {
      "cell_type": "code",
      "execution_count": null,
      "id": "60e80c62",
      "metadata": {
        "id": "60e80c62"
      },
      "outputs": [],
      "source": [
        "df = df[df.최초가입연도 == 2022].reset_index(drop=True) #2022년 신규가입\n",
        "df.프모기간가입 = df.프모기간가입.astype(object)\n",
        "df = df.explode('프모기간가입')\n",
        "df['프모기간가입'] = df['프모기간가입'].fillna(value='행사x')"
      ]
    },
    {
      "cell_type": "code",
      "execution_count": null,
      "id": "6903832f",
      "metadata": {
        "id": "6903832f",
        "outputId": "51c415ca-78e4-4396-fa58-09fcd8a15cbf"
      },
      "outputs": [
        {
          "data": {
            "text/plain": [
              "137    105826\n",
              "138    105826\n",
              "121     79996\n",
              "122     79996\n",
              "120     70709\n",
              "130     58737\n",
              "131     58737\n",
              "127     58375\n",
              "128     58375\n",
              "Name: 프모기간가입, dtype: int64"
            ]
          },
          "execution_count": 46,
          "metadata": {},
          "output_type": "execute_result"
        }
      ],
      "source": [
        "df['프모기간가입'].value_counts().head(9) # 프로모션 번호"
      ]
    },
    {
      "cell_type": "code",
      "execution_count": null,
      "id": "621b1289",
      "metadata": {
        "id": "621b1289"
      },
      "outputs": [],
      "source": [
        "promo = pd.read_excel('file/ABC 프로모션 list2.xlsx')\n",
        "promo = promo.sort_values(by=['시작일'], ascending = True).reset_index(drop=True)\n",
        "promo = promo.reset_index()"
      ]
    },
    {
      "cell_type": "markdown",
      "id": "5eb981de",
      "metadata": {
        "id": "5eb981de"
      },
      "source": [
        "# 3. 이탈 현황\n",
        "- 이탈 연도를 다 알 수 없어서, 이탈 1회인 경우로 한정해서 진행"
      ]
    },
    {
      "cell_type": "code",
      "execution_count": null,
      "id": "2fe9f798",
      "metadata": {
        "id": "2fe9f798"
      },
      "outputs": [],
      "source": [
        "def fun2(x) : \n",
        "    if x >= 5 :\n",
        "        return '5회 이상'\n",
        "    elif x == 4 : \n",
        "        return '4회'\n",
        "    elif x ==3 : \n",
        "        return '3회'\n",
        "    elif x ==2 : \n",
        "        return '2회'\n",
        "    elif x ==1 : \n",
        "        return '1회'\n",
        "    else :\n",
        "        return '0회'\n",
        "user2['재가입횟수2'] = user2['재가입횟수'].apply(fun2)"
      ]
    },
    {
      "cell_type": "code",
      "execution_count": null,
      "id": "778d79cc",
      "metadata": {
        "id": "778d79cc"
      },
      "outputs": [],
      "source": [
        "df = user2.groupby(['재가입횟수2'], as_index=False).agg({'고유번호' : 'count'})\n",
        "df['ratio'] = df.고유번호 / df.고유번호.sum() * 100\n",
        "df"
      ]
    },
    {
      "cell_type": "code",
      "execution_count": null,
      "id": "40b803bd",
      "metadata": {
        "id": "40b803bd"
      },
      "outputs": [],
      "source": [
        "df = user2.groupby(['재가입횟수2'], as_index=False).agg({'고유번호' : 'count'})\n",
        "fig = px.pie(df, values='고유번호', names='재가입횟수2', title='전체 회원 내 이탈 경험 비율', color = '재가입횟수2') \n",
        "fig.update_traces(textposition='inside', textinfo='percent+label')\n",
        "fig.show()"
      ]
    },
    {
      "cell_type": "code",
      "execution_count": null,
      "id": "6374ee4e",
      "metadata": {
        "id": "6374ee4e"
      },
      "outputs": [],
      "source": [
        "qq = user2[user2['재가입횟수'] >0]\n",
        "df = qq.groupby(['재가입횟수2'], as_index=False).agg({'고유번호' : 'count'})\n",
        "df['ratio'] = df.고유번호 / df.고유번호.sum() * 100\n",
        "df"
      ]
    },
    {
      "cell_type": "code",
      "execution_count": null,
      "id": "977fa10a",
      "metadata": {
        "id": "977fa10a"
      },
      "outputs": [],
      "source": [
        "qq = user2[user2['재가입횟수'] >0]\n",
        "df = qq.groupby(['재가입횟수2'], as_index=False).agg({'고유번호' : 'count'})\n",
        "fig = px.pie(df, values='고유번호', names='재가입횟수2', title='이탈자 내 경험 비율', color = '재가입횟수2') \n",
        "fig.update_traces(textposition='inside', textinfo='percent+label')\n",
        "fig.show()"
      ]
    },
    {
      "cell_type": "code",
      "execution_count": null,
      "id": "3c00caec",
      "metadata": {
        "id": "3c00caec"
      },
      "outputs": [],
      "source": [
        "back1 = user2[user2['재가입횟수'] == 1] #전체의 28%\n",
        "back2 = back1[back1['최종탈퇴일']!='모름']\n",
        "\n",
        "back2['최종가입일'] = pd.to_datetime(back2['최종가입일'], errors='coerce')\n",
        "back2['최종가입연월'] = back2['최종가입일'].astype(str)\n",
        "back2['최종가입연월'] = back2['최종가입연월'].str[:7] \n",
        "back2['최종가입연도'] = back2['최종가입일'].dt.year\n",
        "back2['최종가입월'] = back2['최종가입일'].dt.month"
      ]
    },
    {
      "cell_type": "code",
      "execution_count": null,
      "id": "9ede4498",
      "metadata": {
        "id": "9ede4498",
        "outputId": "7f237eef-27c9-43b2-e547-d5a9b672184d"
      },
      "outputs": [
        {
          "name": "stdout",
          "output_type": "stream",
          "text": [
            "0.2947123908995282\n"
          ]
        }
      ],
      "source": [
        "print(len(user2[user2['재가입횟수'] == 1]) / len(user2))\n",
        "back1 = user2[user2['재가입횟수'] == 1] #전체의 29%"
      ]
    },
    {
      "cell_type": "code",
      "execution_count": null,
      "id": "532d9d14",
      "metadata": {
        "id": "532d9d14"
      },
      "outputs": [],
      "source": [
        "back2 = back1[back1['최종탈퇴일']!='모름']"
      ]
    },
    {
      "cell_type": "code",
      "execution_count": null,
      "id": "39e11f63",
      "metadata": {
        "id": "39e11f63"
      },
      "outputs": [],
      "source": [
        "back2['최종탈퇴일'] = pd.to_datetime(back2['최종탈퇴일'], errors='coerce')\n",
        "\n",
        "back2['최종탈퇴연월'] = back2['최종탈퇴일'].astype(str)\n",
        "back2['최종탈퇴연월'] = back2['최종탈퇴연월'].str[:7] \n",
        "back2['최종탈퇴연도'] = back2['최종탈퇴일'].dt.year\n",
        "back2['최종탈퇴월'] = back2['최종탈퇴일'].dt.month"
      ]
    },
    {
      "cell_type": "code",
      "execution_count": null,
      "id": "60209330",
      "metadata": {
        "id": "60209330"
      },
      "outputs": [],
      "source": [
        "back2 = back2.sort_values(by=['최종탈퇴일'], ascending = True)"
      ]
    },
    {
      "cell_type": "code",
      "execution_count": null,
      "id": "606664ab",
      "metadata": {
        "id": "606664ab"
      },
      "outputs": [],
      "source": [
        "back2['최종탈퇴일'] = pd.to_datetime(back2['최종탈퇴일'], errors='coerce')\n",
        "back2['최종탈퇴연도'] = back2['최종탈퇴일'].dt.year"
      ]
    },
    {
      "cell_type": "markdown",
      "id": "69046000",
      "metadata": {
        "id": "69046000"
      },
      "source": [
        "### 연도별 이탈 현황\n",
        "- 2017년 이후로 쭉 상승"
      ]
    },
    {
      "cell_type": "code",
      "execution_count": null,
      "id": "5a2ee4e3",
      "metadata": {
        "id": "5a2ee4e3"
      },
      "outputs": [],
      "source": [
        "bb = back2.groupby(['최종탈퇴연도'],as_index = False).agg({'고유번호':'nunique'}).sort_values(by=['최종탈퇴연도'], ascending = True).reset_index(drop=True)\n",
        "bb['퍼센트'] = bb['고유번호'] / bb['고유번호'].sum() *100\n",
        "bb = bb[:10]\n",
        "bb"
      ]
    },
    {
      "cell_type": "code",
      "execution_count": null,
      "id": "0e29db76",
      "metadata": {
        "id": "0e29db76"
      },
      "outputs": [],
      "source": [
        "fig = px.line(bb, \n",
        "              x='최종탈퇴연도', \n",
        "              y='고유번호', \n",
        "              title='연도별 이탈현황')\n",
        "fig.update_layout(xaxis_title='연도',\n",
        "                  yaxis_title='카운트')\n",
        "fig.show()"
      ]
    },
    {
      "cell_type": "code",
      "execution_count": null,
      "id": "7accde89",
      "metadata": {
        "id": "7accde89"
      },
      "outputs": [],
      "source": [
        "log = back2.groupby(['최종탈퇴연월'],as_index = False).agg({'고유번호':'nunique'}).sort_values(by=['최종탈퇴연월'], ascending = True).reset_index(drop=True)\n",
        "log['퍼센트'] = log['고유번호'] / log['고유번호'].sum() *100\n",
        "log['연도'] = log['최종탈퇴연월'].str[:4].astype(int)\n",
        "log['월'] = log['최종탈퇴연월'].str[5:].astype(int)\n",
        "log = log[:129]\n",
        "log"
      ]
    },
    {
      "cell_type": "code",
      "execution_count": null,
      "id": "b4cc2525",
      "metadata": {
        "id": "b4cc2525"
      },
      "outputs": [],
      "source": [
        "# 연도별, 연월별 이탈 현황\n",
        "# plotting\n",
        "fig = px.line(log, \n",
        "              x='최종탈퇴연월', \n",
        "              y='고유번호', \n",
        "              title='연월 별 이탈현황 - 2015년 8월에 확 오름.')\n",
        "fig.update_layout(xaxis_title='연월',\n",
        "                  yaxis_title='카운트')\n",
        "fig.show()"
      ]
    },
    {
      "cell_type": "code",
      "execution_count": null,
      "id": "3444ed0f",
      "metadata": {
        "id": "3444ed0f"
      },
      "outputs": [],
      "source": [
        "# plotting\n",
        "fig = px.line(log, \n",
        "              x='월', \n",
        "              y='고유번호', \n",
        "              title='월별 이탈현황 - 패턴 x', color = '연도',\n",
        "              color_discrete_sequence=px.colors.qualitative.Dark24)\n",
        "fig.update_layout(xaxis_title='월',\n",
        "                  yaxis_title='카운트')\n",
        "fig.show()"
      ]
    },
    {
      "cell_type": "markdown",
      "id": "bf58fb3b",
      "metadata": {
        "id": "bf58fb3b"
      },
      "source": [
        "## 이탈 주기"
      ]
    },
    {
      "cell_type": "code",
      "execution_count": null,
      "id": "2a91b060",
      "metadata": {
        "id": "2a91b060",
        "outputId": "e12845ff-c747-4ed6-cf33-b17b317e5502"
      },
      "outputs": [
        {
          "data": {
            "text/plain": [
              "9.561892148551344"
            ]
          },
          "execution_count": 64,
          "metadata": {},
          "output_type": "execute_result"
        }
      ],
      "source": [
        "# 가입주기 계산 2\n",
        "df = back2.sort_values(by=['최종탈퇴일'], ascending = True)\n",
        "\n",
        "df['직전탈퇴일'] = df['최종탈퇴일'].shift(1)\n",
        "df['현재탈퇴일'] = df['최종탈퇴일']\n",
        "df['탈퇴간격'] = df['현재탈퇴일'] - df['직전탈퇴일']\n",
        "df['탈퇴간격'] = df['탈퇴간격'].dt.days * 24 * 60\n",
        "df['탈퇴간격'].sum()/(len(df)-1)  #9.5분에 한명꼴로 !!!! -> 현실에선 이거보다 더 짧을수도. . ."
      ]
    },
    {
      "cell_type": "code",
      "execution_count": null,
      "id": "e42872af",
      "metadata": {
        "id": "e42872af"
      },
      "outputs": [],
      "source": [
        "back2.columns"
      ]
    },
    {
      "cell_type": "markdown",
      "id": "81d0853f",
      "metadata": {
        "id": "81d0853f"
      },
      "source": [
        "## 이탈자 특성"
      ]
    },
    {
      "cell_type": "code",
      "execution_count": null,
      "id": "84a6e077",
      "metadata": {
        "id": "84a6e077"
      },
      "outputs": [],
      "source": [
        "#연령대별 성별\n",
        "age = back2.groupby(['연령대'],as_index = False).agg({'고유번호':'nunique'}).sort_values(by=['연령대'], ascending = True)\n",
        "age['퍼센트'] = age['고유번호'] / age['고유번호'].sum() *100\n",
        "age['연령대2']='60세 이상'\n",
        "age['연령대2'] = np.where(age['연령대']=='19세 미만', '10대 이하',age['연령대2'])\n",
        "age['연령대2'] = np.where((age['연령대']=='20-24세')|(age['연령대']=='25-29세'), '20대',age['연령대2'])\n",
        "age['연령대2'] = np.where((age['연령대']=='30~34세')|(age['연령대']=='35~39세'), '30대',age['연령대2'])\n",
        "age['연령대2'] = np.where((age['연령대']=='40~44세')|(age['연령대']=='45~49세'), '40대',age['연령대2'])\n",
        "age['연령대2'] = np.where((age['연령대']=='50~54세')|(age['연령대']=='55~59세'), '50대',age['연령대2'])\n",
        "\n",
        "\n",
        "fig = px.bar(age, \n",
        "              x='연령대2', \n",
        "              y='퍼센트', \n",
        "              title='연령별 구성 - 멤버십 구성과 비슷함', color=\"연령대\", text_auto='.3s')\n",
        "fig.update_layout(xaxis_title='연령대',\n",
        "                  yaxis_title='퍼센트')\n",
        "fig.show()"
      ]
    },
    {
      "cell_type": "code",
      "execution_count": null,
      "id": "b782ca04",
      "metadata": {
        "id": "b782ca04"
      },
      "outputs": [],
      "source": [
        "age = back2.groupby(['연령대2'],as_index = False).agg({'고유번호':'nunique'}).sort_values(by=['연령대2'], ascending = True)\n",
        "age['ratio'] = age.고유번호 / age.고유번호.sum() * 100\n",
        "age"
      ]
    },
    {
      "cell_type": "code",
      "execution_count": null,
      "id": "5031e82e",
      "metadata": {
        "id": "5031e82e"
      },
      "outputs": [],
      "source": [
        "agesex = back2.groupby(['연령대2','성별'],as_index = False).agg({'고유번호':'nunique'}).sort_values(by=['연령대2'], ascending = True)\n",
        "agesex['ratio'] = agesex.고유번호 / agesex.고유번호.sum() * 100\n",
        "agesex"
      ]
    },
    {
      "cell_type": "code",
      "execution_count": null,
      "id": "0d382605",
      "metadata": {
        "id": "0d382605"
      },
      "outputs": [],
      "source": [
        "agesex = back2.groupby(['연령대2','성별'],as_index = False).agg({'고유번호':'nunique'}).sort_values(by=['연령대2'], ascending = True)\n",
        "\n",
        "\n",
        "fig = px.bar(agesex, x=\"연령대2\", y=\"고유번호\", color=\"성별\", color_discrete_map={\n",
        "        'F': '#CD5C5C','M': '#4169E1'}, title=\"멤버십 구성이랑 별반 다를게 없음\",text_auto='.2s')\n",
        "fig.show()"
      ]
    },
    {
      "cell_type": "code",
      "execution_count": null,
      "id": "d0293084",
      "metadata": {
        "id": "d0293084",
        "outputId": "0661ef43-16d9-48ad-9caa-2326b5c2c334"
      },
      "outputs": [
        {
          "data": {
            "text/plain": [
              "1.7593826199267704"
            ]
          },
          "execution_count": 70,
          "metadata": {},
          "output_type": "execute_result"
        }
      ],
      "source": [
        "## 이탈자 특징\n",
        "back1 = user2[user2['재가입횟수'] == 1]\n",
        "back2 = back1[back1['최종탈퇴일']!='모름']\n",
        "back2['최종탈퇴일'] = pd.to_datetime(back2['최종탈퇴일'], errors='coerce')\n",
        "back2['유지기간'] = back2['최종탈퇴일'] - back2['최초가입일']\n",
        "back2['유지기간'] = back2['유지기간'].dt.days / 30 /12\n",
        "back2['유지기간'].mean()  #1.75년간 유지하다가 탈퇴"
      ]
    },
    {
      "cell_type": "code",
      "execution_count": null,
      "id": "475bdefd",
      "metadata": {
        "id": "475bdefd"
      },
      "outputs": [],
      "source": []
    },
    {
      "cell_type": "code",
      "execution_count": null,
      "id": "75c88251",
      "metadata": {
        "id": "75c88251"
      },
      "outputs": [],
      "source": []
    },
    {
      "cell_type": "markdown",
      "id": "76c752dd",
      "metadata": {
        "id": "76c752dd"
      },
      "source": [
        "# 4. 재가입 현황"
      ]
    },
    {
      "cell_type": "markdown",
      "id": "a047ba84",
      "metadata": {
        "id": "a047ba84"
      },
      "source": [
        "## 재가입 비율\n",
        "- 1회 가입한 사람 61%, 재가입한 사람 38%"
      ]
    },
    {
      "cell_type": "code",
      "execution_count": null,
      "id": "0ec8c362",
      "metadata": {
        "id": "0ec8c362",
        "outputId": "a8cda6ea-b9e4-411e-b865-53f8abd75289"
      },
      "outputs": [
        {
          "name": "stdout",
          "output_type": "stream",
          "text": [
            "재가입 고객 :  38.469351762510165 %\n",
            "재가입 고객 :  733991 명\n",
            "유지 고객 :  61.530648237489835 %\n",
            "유지 고객 :  1173998 명\n"
          ]
        }
      ],
      "source": [
        "# 재가입 현황\n",
        "print('재가입 고객 : ',len(user2[user2['재가입횟수'] > 0]) / len(user2) * 100 , '%')# 재가입으로 들어온 사람\n",
        "print('재가입 고객 : ', len(user2[user2['재가입횟수'] > 0]) , '명' )\n",
        "print('유지 고객 : ', len(user2[user2['재가입횟수'] == 0]) / len(user2) * 100, '%') # 꾸준히 사용하는 사람 \n",
        "print('유지 고객 : ', len(user2[user2['재가입횟수'] == 0]) , '명' )"
      ]
    },
    {
      "cell_type": "code",
      "execution_count": null,
      "id": "25030aac",
      "metadata": {
        "id": "25030aac"
      },
      "outputs": [],
      "source": [
        "backlist = []\n",
        "for i in range(len(user2)) : \n",
        "    if user2['재가입횟수'][i] > 0 :\n",
        "        backlist.append('재가입 고객')\n",
        "    else :\n",
        "        backlist.append('유지 고객')\n",
        "\n",
        "user2['재가입여부'] = backlist"
      ]
    },
    {
      "cell_type": "code",
      "execution_count": null,
      "id": "e5b70bf6",
      "metadata": {
        "id": "e5b70bf6"
      },
      "outputs": [],
      "source": [
        "back = user2.groupby(['재가입여부'],as_index = False).agg({'고유번호':'nunique'}).sort_values(by=['고유번호'], ascending = True).reset_index(drop=True)\n",
        "fig = px.pie(back, values='고유번호', names='재가입여부', title='회원 내 재가입회원 비율', color = '재가입여부', \n",
        "             color_discrete_map={ '재가입 고객': '#CD5C5C','유지 고객': '#4169E1'}) \n",
        "fig.update_traces(textposition='inside', textinfo='percent+label')\n",
        "fig.show()"
      ]
    },
    {
      "cell_type": "markdown",
      "id": "4c77ebdb",
      "metadata": {
        "id": "4c77ebdb"
      },
      "source": [
        "## 재가입 횟수 현황"
      ]
    },
    {
      "cell_type": "code",
      "execution_count": null,
      "id": "2355aea3",
      "metadata": {
        "id": "2355aea3"
      },
      "outputs": [],
      "source": [
        "list1 = user2['재가입횟수'].value_counts().index\n",
        "list2 = user2['재가입횟수'].value_counts() \n",
        "data = pd.DataFrame({'재가입횟수':list1, '카운트' : list2})\n",
        "data = data[1:]"
      ]
    },
    {
      "cell_type": "code",
      "execution_count": null,
      "id": "fb0d5895",
      "metadata": {
        "id": "fb0d5895"
      },
      "outputs": [],
      "source": [
        "def back(x):\n",
        "    if x>=3:\n",
        "        return '3회 이상'\n",
        "    elif x==2:\n",
        "        return '2회'\n",
        "    elif x==1:\n",
        "        return '1회'\n",
        "    else :\n",
        "        return '0회'\n",
        "\n",
        "data['횟수2'] = data['재가입횟수'].apply(back) "
      ]
    },
    {
      "cell_type": "code",
      "execution_count": null,
      "id": "47e6227c",
      "metadata": {
        "id": "47e6227c"
      },
      "outputs": [],
      "source": [
        "one = data.groupby('횟수2',as_index =False).agg({'카운트':'sum'})\n",
        "one['ratio'] = one.카운트 / one.카운트.sum() * 100\n",
        "one"
      ]
    },
    {
      "cell_type": "code",
      "execution_count": null,
      "id": "580faf65",
      "metadata": {
        "id": "580faf65",
        "outputId": "1a7eda50-f600-415f-fb24-3cfb17c75e2c"
      },
      "outputs": [
        {
          "data": {
            "text/plain": [
              "733991"
            ]
          },
          "execution_count": 77,
          "metadata": {},
          "output_type": "execute_result"
        }
      ],
      "source": [
        "len(user2[user2.재가입횟수 > 0])"
      ]
    },
    {
      "cell_type": "markdown",
      "id": "efc4bd3c",
      "metadata": {
        "id": "efc4bd3c"
      },
      "source": [
        "## 연도별 재가입 수"
      ]
    },
    {
      "cell_type": "code",
      "execution_count": null,
      "id": "d63cc773",
      "metadata": {
        "id": "d63cc773"
      },
      "outputs": [],
      "source": [
        "back1 = user2[user2['재가입횟수'] == 1] #전체의 28%\n",
        "back2 = back1[back1['최종탈퇴일']!='모름']\n",
        "\n",
        "back2['최종가입일'] = pd.to_datetime(back2['최종가입일'], errors='coerce')\n",
        "back2['최종가입연월'] = back2['최종가입일'].astype(str)\n",
        "back2['최종가입연월'] = back2['최종가입연월'].str[:7] \n",
        "back2['최종가입연도'] = back2['최종가입일'].dt.year\n",
        "back2['최종가입월'] = back2['최종가입일'].dt.month"
      ]
    },
    {
      "cell_type": "code",
      "execution_count": null,
      "id": "fa27070d",
      "metadata": {
        "id": "fa27070d"
      },
      "outputs": [],
      "source": [
        "user_re = user2[user2['재가입횟수'] > 0]"
      ]
    },
    {
      "cell_type": "code",
      "execution_count": null,
      "id": "b5cf697d",
      "metadata": {
        "id": "b5cf697d"
      },
      "outputs": [],
      "source": [
        "log = user_re.groupby(['최종가입연월'],as_index = False).agg({'고유번호':'nunique'}).sort_values(by=['최종가입연월'], ascending = True).reset_index(drop=True)\n",
        "log['퍼센트'] = log['고유번호'] / log['고유번호'].sum() *100\n",
        "log['연도'] = log['최종가입연월'].str[:4].astype(int)\n",
        "log['월'] = log['최종가입연월'].str[5:].astype(int)\n",
        "log = log[:102]\n",
        "log"
      ]
    },
    {
      "cell_type": "code",
      "execution_count": null,
      "id": "70ccc0d4",
      "metadata": {
        "id": "70ccc0d4"
      },
      "outputs": [],
      "source": [
        "fig = px.line(log, \n",
        "              x='최종가입연월', \n",
        "              y='고유번호', \n",
        "              title='연월 별 재가입현황.')\n",
        "fig.update_layout(xaxis_title='연월',\n",
        "                  yaxis_title='카운트')\n",
        "fig.show()"
      ]
    },
    {
      "cell_type": "code",
      "execution_count": null,
      "id": "e351d59c",
      "metadata": {
        "id": "e351d59c"
      },
      "outputs": [],
      "source": [
        "# plotting\n",
        "fig = px.line(log, \n",
        "              x='월', \n",
        "              y='고유번호', \n",
        "              title='월별 재가입현황 - 패턴 x', color = '연도',\n",
        "              color_discrete_sequence=px.colors.qualitative.Dark24)\n",
        "fig.update_layout(xaxis_title='월',\n",
        "                  yaxis_title='카운트')\n",
        "fig.show()"
      ]
    },
    {
      "cell_type": "code",
      "execution_count": null,
      "id": "731280e0",
      "metadata": {
        "id": "731280e0"
      },
      "outputs": [],
      "source": []
    },
    {
      "cell_type": "code",
      "execution_count": null,
      "id": "9982fc86",
      "metadata": {
        "id": "9982fc86"
      },
      "outputs": [],
      "source": [
        "# 2022년 월별 재가입수 테이블\n",
        "log[log.연도 == 2022][['연도', '월', '고유번호']]"
      ]
    },
    {
      "cell_type": "code",
      "execution_count": null,
      "id": "d6aeafb1",
      "metadata": {
        "id": "d6aeafb1"
      },
      "outputs": [],
      "source": [
        "bb = back2[back2['최종가입연도'] != 2023].groupby(['최종가입연도'],as_index = False).agg({'고유번호':'nunique'}).sort_values(by=['최종가입연도'], ascending = True).reset_index(drop=True)\n",
        "bb['퍼센트'] = bb['고유번호'] / bb['고유번호'].sum() *100\n",
        "fig = px.line(bb, \n",
        "              x='최종가입연도', \n",
        "              y='고유번호', \n",
        "              title='연도별 재가입현황')\n",
        "fig.update_layout(xaxis_title='연도',\n",
        "                  yaxis_title='카운트')\n",
        "fig.show()"
      ]
    },
    {
      "cell_type": "markdown",
      "id": "f8563a5f",
      "metadata": {
        "id": "f8563a5f"
      },
      "source": [
        "## 재가입 소요시간\n",
        "- 평균 2.17년만에 돌아옴\n",
        "- 재가입횟수가 늘어나면 늘어날수록 소요시간은 줄어들고 있음"
      ]
    },
    {
      "cell_type": "code",
      "execution_count": null,
      "id": "22dc05c4",
      "metadata": {
        "id": "22dc05c4"
      },
      "outputs": [],
      "source": [
        "#재가입 소요시간 \n",
        "user3 = user2[(user2['최종탈퇴일'] !='탈퇴X') | (user2['최종탈퇴일'] !='모름')]\n",
        "user3['최종탈퇴일'] = pd.to_datetime(user3['최종탈퇴일'], errors='coerce')\n",
        "user3['재가입주기'] = (user3['최종가입일'] - user3['최종탈퇴일'])\n",
        "user3['재가입주기'] = user3['재가입주기'].dt.days / user3['재가입횟수']"
      ]
    },
    {
      "cell_type": "code",
      "execution_count": null,
      "id": "7a15934f",
      "metadata": {
        "id": "7a15934f",
        "outputId": "ab62fe11-d9d6-4e14-dae2-d8f97d4662b9"
      },
      "outputs": [
        {
          "data": {
            "text/plain": [
              "2.171709426927162"
            ]
          },
          "execution_count": 85,
          "metadata": {},
          "output_type": "execute_result"
        }
      ],
      "source": [
        "user3['재가입주기'].mean() / 30 / 12 #2.17년 만에 돌아온다. "
      ]
    },
    {
      "cell_type": "code",
      "execution_count": null,
      "id": "d0b12a18",
      "metadata": {
        "id": "d0b12a18",
        "outputId": "0c9a8125-eba6-439c-d0ba-cd3e1fa4b6e3"
      },
      "outputs": [
        {
          "name": "stdout",
          "output_type": "stream",
          "text": [
            "재가입횟수 1회 회원의 재가입 소요시간은 2.644 년 입니다\n"
          ]
        }
      ],
      "source": [
        "aa= user3[user3.재가입횟수 == 1]\n",
        "print('재가입횟수 1회 회원의 재가입 소요시간은' ,  round(aa.재가입주기.mean() / 30 / 12, 3), '년 입니다')"
      ]
    },
    {
      "cell_type": "code",
      "execution_count": null,
      "id": "992178bd",
      "metadata": {
        "id": "992178bd",
        "outputId": "9f5ff7af-acaf-4626-e46e-7e48c574df9b"
      },
      "outputs": [
        {
          "name": "stdout",
          "output_type": "stream",
          "text": [
            "재가입횟수 1회 회원의 재가입 소요시간은 0.717 년 입니다\n"
          ]
        }
      ],
      "source": [
        "bb= user3[user3.재가입횟수 == 2]\n",
        "print('재가입횟수 1회 회원의 재가입 소요시간은' ,  round(bb.재가입주기.mean() / 30 / 12, 3), '년 입니다')"
      ]
    },
    {
      "cell_type": "code",
      "execution_count": null,
      "id": "3113aa42",
      "metadata": {
        "id": "3113aa42",
        "outputId": "63303a95-45d8-4749-e436-cb93fcfe4e52"
      },
      "outputs": [
        {
          "name": "stdout",
          "output_type": "stream",
          "text": [
            "재가입횟수 1회 회원의 재가입 소요시간은 0.295 년 입니다\n"
          ]
        }
      ],
      "source": [
        "cc= user3[user3.재가입횟수 >=3]\n",
        "print('재가입횟수 1회 회원의 재가입 소요시간은' ,  round(cc.재가입주기.mean() / 30 / 12, 3), '년 입니다')"
      ]
    },
    {
      "cell_type": "code",
      "execution_count": null,
      "id": "3417e57e",
      "metadata": {
        "id": "3417e57e"
      },
      "outputs": [],
      "source": [
        "user3['최종탈퇴연도'] = user3['최종탈퇴일'].dt.year"
      ]
    },
    {
      "cell_type": "code",
      "execution_count": null,
      "id": "cd8a42ee",
      "metadata": {
        "id": "cd8a42ee"
      },
      "outputs": [],
      "source": [
        "back = user3.groupby(['최종탈퇴연도'],as_index = False).agg({'재가입주기':'mean'}).sort_values(by=['최종탈퇴연도'], ascending = True).reset_index(drop=True)\n",
        "back['재가입주기2'] = back['재가입주기'] / 30 / 12 #년 수 \n",
        "back"
      ]
    },
    {
      "cell_type": "code",
      "execution_count": null,
      "id": "7b176d1b",
      "metadata": {
        "id": "7b176d1b"
      },
      "outputs": [],
      "source": [
        "# plotting\n",
        "fig = px.bar(back, \n",
        "              x='최종탈퇴연도', \n",
        "              y='재가입주기2', \n",
        "              title='연도별 재가입주기 - 전체는 2.1년마다 재가입, 개별로는 2013년 탈퇴면 7년만에 재가입', text_auto= '.2s')\n",
        "fig.update_layout(xaxis_title='연도',\n",
        "                  yaxis_title='카운트')\n",
        "fig.show()"
      ]
    },
    {
      "cell_type": "markdown",
      "id": "eed943c3",
      "metadata": {
        "id": "eed943c3"
      },
      "source": [
        "### 재가입자 특징"
      ]
    },
    {
      "cell_type": "code",
      "execution_count": null,
      "id": "c048f1b0",
      "metadata": {
        "id": "c048f1b0",
        "outputId": "9d52102e-2ed1-4801-e431-073319b231a8"
      },
      "outputs": [
        {
          "data": {
            "text/plain": [
              "datetime.datetime(2023, 2, 3, 0, 0)"
            ]
          },
          "execution_count": 92,
          "metadata": {},
          "output_type": "execute_result"
        }
      ],
      "source": [
        "dateformat = \"%Y-%m-%d\"\n",
        "str_datetime = \"2023-02-03\"\n",
        "datetime_convert2 = datetime.strptime(str_datetime, dateformat)\n",
        "datetime_convert2"
      ]
    },
    {
      "cell_type": "markdown",
      "id": "18ba123e",
      "metadata": {
        "id": "18ba123e"
      },
      "source": [
        "### 재가입자 중 1회 구매 후 탈퇴한 자"
      ]
    },
    {
      "cell_type": "code",
      "execution_count": null,
      "id": "44d12d60",
      "metadata": {
        "id": "44d12d60"
      },
      "outputs": [],
      "source": [
        "aa = order[order.고유번호.isin(user2[user2['재가입횟수'] >0 ].고유번호.unique())]\n",
        "aa = pd.merge(aa, user2[['고유번호', '성별', '연령대','최종탈퇴일']], on='고유번호', how = 'left')"
      ]
    },
    {
      "cell_type": "code",
      "execution_count": null,
      "id": "40b5c970",
      "metadata": {
        "id": "40b5c970"
      },
      "outputs": [],
      "source": [
        "temp2 = aa.groupby('고유번호', as_index= False).agg({'구매일자':'nunique'})\n",
        "temp2.rename(columns = {'구매일자' : '구매횟수'}, inplace = True)"
      ]
    },
    {
      "cell_type": "code",
      "execution_count": null,
      "id": "a75cd8f7",
      "metadata": {
        "id": "a75cd8f7"
      },
      "outputs": [],
      "source": [
        "temp = user[user.고유번호.isin(temp2[temp2.구매횟수 == 1].고유번호.unique())]"
      ]
    },
    {
      "cell_type": "code",
      "execution_count": null,
      "id": "af552eec",
      "metadata": {
        "id": "af552eec",
        "outputId": "ce394dd9-0d0d-47cc-a7bf-3470e22f3beb"
      },
      "outputs": [
        {
          "name": "stdout",
          "output_type": "stream",
          "text": [
            "재가입자 중 1회 구매후 탈퇴자는 재가입자 중  30.992750592309715 %이다\n"
          ]
        }
      ],
      "source": [
        "print('재가입자 중 1회 구매후 탈퇴자는 재가입자 중 ', len(temp) / len(user2[user2.재가입횟수 >0 ]) * 100, '%이다')"
      ]
    },
    {
      "cell_type": "code",
      "execution_count": null,
      "id": "2cc83102",
      "metadata": {
        "id": "2cc83102"
      },
      "outputs": [],
      "source": [
        "# 성별\n",
        "sex = temp.groupby(['성별'],as_index = False).agg({'고유번호':'count'}).sort_values(by=['성별'], ascending = True)\n",
        "fig = px.pie(sex, values='고유번호', names='성별', title='멤버십 내 성별비율', color = '성별', \n",
        "             color_discrete_map={ 'F': '#CD5C5C','M': '#4169E1'}) \n",
        "fig.update_traces(textposition='inside', textinfo='percent+label')\n",
        "fig.show()"
      ]
    },
    {
      "cell_type": "code",
      "execution_count": null,
      "id": "8fb6fb02",
      "metadata": {
        "id": "8fb6fb02"
      },
      "outputs": [],
      "source": [
        "sex = temp.groupby(['성별'],as_index = False).agg({'고유번호':'count'}).sort_values(by=['성별'], ascending = True)\n",
        "sex['ratio'] = sex.고유번호 / sex.고유번호.sum() * 100\n",
        "sex"
      ]
    },
    {
      "cell_type": "code",
      "execution_count": null,
      "id": "939c667d",
      "metadata": {
        "id": "939c667d"
      },
      "outputs": [],
      "source": [
        "age = temp.groupby(['연령대2'],as_index = False).agg({'고유번호':'count'}).sort_values(by=['연령대2'], ascending = True)\n",
        "age['퍼센트'] = age['고유번호'] / age['고유번호'].sum() *100\n",
        "age"
      ]
    },
    {
      "cell_type": "code",
      "execution_count": null,
      "id": "961b3406",
      "metadata": {
        "id": "961b3406"
      },
      "outputs": [],
      "source": [
        "age = temp.groupby(['연령대'],as_index = False).agg({'고유번호':'count'}).sort_values(by=['연령대'], ascending = True)\n",
        "age['퍼센트'] = age['고유번호'] / age['고유번호'].sum() *100\n",
        "\n",
        "age['연령대2']='60세 이상'\n",
        "age['연령대2'] = np.where(age['연령대']=='19세 미만', '10대 이하',age['연령대2'])\n",
        "age['연령대2'] = np.where((age['연령대']=='20-24세')|(age['연령대']=='25-29세'), '20대',age['연령대2'])\n",
        "age['연령대2'] = np.where((age['연령대']=='30~34세')|(age['연령대']=='35~39세'), '30대',age['연령대2'])\n",
        "age['연령대2'] = np.where((age['연령대']=='40~44세')|(age['연령대']=='45~49세'), '40대',age['연령대2'])\n",
        "age['연령대2'] = np.where((age['연령대']=='50~54세')|(age['연령대']=='55~59세'), '50대',age['연령대2'])"
      ]
    },
    {
      "cell_type": "code",
      "execution_count": null,
      "id": "d234948b",
      "metadata": {
        "id": "d234948b"
      },
      "outputs": [],
      "source": [
        "# 연령별 차이\n",
        "# plotting\n",
        "fig = px.bar(age, \n",
        "              x='연령대2', \n",
        "              y='퍼센트', \n",
        "              title='연령별 구성 - 2-30대 강세, 10대가 저조함', color=\"연령대\", text_auto='.3s')\n",
        "fig.update_layout(xaxis_title='연령대',\n",
        "                  yaxis_title='퍼센트')\n",
        "\n",
        "#fig.show()"
      ]
    },
    {
      "cell_type": "code",
      "execution_count": null,
      "id": "c7df9729",
      "metadata": {
        "id": "c7df9729"
      },
      "outputs": [],
      "source": [
        "temp['c_PC로그인횟수(누적)'] = temp['PC로그인횟수_2020'] + temp['PC로그인횟수_2021'] + temp['PC로그인횟수_2022']\n",
        "temp['c_모바일로그인횟수(누적)'] = temp['모바일로그인횟수_2020'] + temp['모바일로그인횟수_2021'] + temp['모바일로그인횟수_2022']\n",
        "temp['c_앱로그인횟수(누적)'] = temp['앱로그인횟수_2020'] + temp['앱로그인횟수_2021'] + temp['앱로그인횟수_2022']\n",
        "temp['총 로그인횟수'] = temp['c_PC로그인횟수(누적)'] + temp['c_모바일로그인횟수(누적)'] + temp['c_앱로그인횟수(누적)']\n",
        "temp['c_년간포인트사용액(누적)'] = temp['년간포인트사용액_2020'] + temp['년간포인트사용액_2021'] + temp['년간포인트사용액_2022']\n",
        "temp['c_출석체크_응모건수(누적)'] = temp['출석체크_응모건수_2020'] + temp['출석체크_응모건수_2021'] + temp['출석체크_응모건수_2022']\n",
        "temp['c_출석체크_응모건수(누적)'] = temp['출석체크_응모건수_2020'] + temp['출석체크_응모건수_2021'] + temp['출석체크_응모건수_2022']\n",
        "temp['c_출석체크_참여일수(누적)'] = temp['출석체크_참여일수_2020'] + temp['출석체크_참여일수_2021'] + temp['출석체크_참여일수_2022']\n",
        "temp['c_일반이벤트_응모건수(누적)'] = temp['일반이벤트_응모건수_2020'] + temp['일반이벤트_응모건수_2021'] + temp['일반이벤트_응모건수_2022']\n",
        "temp['c_드로우 응모건수(누적)'] = temp['드로우 응모건수_2020'] + temp['드로우 응모건수_2021'] + temp['드로우 응모건수_2022']"
      ]
    },
    {
      "cell_type": "code",
      "execution_count": null,
      "id": "303662f4",
      "metadata": {
        "id": "303662f4"
      },
      "outputs": [],
      "source": [
        "temp = temp[['고유번호', '성별', '연령대', '주소', '가입처', '최초가입일', '최종가입일', '최종탈퇴일', \n",
        "        '리뷰작성건수', '구매횟수2','연령대2', 'c_PC로그인횟수(누적)', 'c_모바일로그인횟수(누적)', 'c_앱로그인횟수(누적)', '총 로그인횟수',\n",
        "       'c_년간포인트사용액(누적)', 'c_출석체크_응모건수(누적)', 'c_출석체크_참여일수(누적)',\n",
        "       'c_일반이벤트_응모건수(누적)', 'c_드로우 응모건수(누적)']]"
      ]
    },
    {
      "cell_type": "code",
      "execution_count": null,
      "id": "515365e1",
      "metadata": {
        "id": "515365e1"
      },
      "outputs": [],
      "source": [
        "# 유저 특징\n",
        "temp.describe().iloc[:,:]"
      ]
    },
    {
      "cell_type": "code",
      "execution_count": null,
      "id": "efc0e8b9",
      "metadata": {
        "id": "efc0e8b9"
      },
      "outputs": [],
      "source": [
        "pd.set_option('display.max_columns',None) # 전체 열 출력하기\n",
        "pd.set_option('display.max_rows',None) # 전체 행 출력하기"
      ]
    },
    {
      "cell_type": "code",
      "execution_count": null,
      "id": "6b79508e",
      "metadata": {
        "id": "6b79508e"
      },
      "outputs": [],
      "source": [
        "cc = pd.read_pickle('../DATA_raw2/도소매제거info.pkl')\n",
        "cc[cc.고유번호.isin(temp.고유번호.unique())][['유지기간2', '리뷰작성건수', 'c_PC로그인횟수(누적)', 'c_모바일로그인횟수(누적)',\n",
        "       'c_앱로그인횟수(누적)', '총 로그인횟수', 'c_년간포인트사용액(누적)', 'c_출석체크_참여일수(누적)',\n",
        "       'c_출석체크_응모건수(누적)', 'c_일반이벤트_응모건수(누적)', 'c_드로우 응모건수(누적)', '구매횟수',\n",
        "       '연 평균 구매횟수', '구매상품수', '연 평균 구매상품수', '결제가 총합', '연 평균 결제가 총합', '쿠폰사용횟수',\n",
        "       '연 평균 쿠폰사용횟수', '포인트사용횟수', '연 평균 포인트사용횟수', '연 평균 출첵참여횟수', '연 평균 일반이벤트횟수',\n",
        "       '연 평균 드로우횟수', '연 평균 리뷰작성횟수', '신발구매주기', '비구매기간', '브랜드_c', '사이즈수_c']].describe().iloc[:,:]"
      ]
    },
    {
      "cell_type": "code",
      "execution_count": null,
      "id": "39619643",
      "metadata": {
        "id": "39619643"
      },
      "outputs": [],
      "source": [
        "pd.set_option('display.max_columns',10) # 전체 열 출력하기\n",
        "pd.set_option('display.max_rows',10) # 전체 행 출력하기"
      ]
    },
    {
      "cell_type": "markdown",
      "id": "933d3666",
      "metadata": {
        "id": "933d3666"
      },
      "source": [
        "## [8p] 재가입한 회원과 그렇지 않은 회원(지속적으로 유지한 회원)의 구매건수 및 구매금액 비교"
      ]
    },
    {
      "cell_type": "markdown",
      "id": "75502e7b",
      "metadata": {
        "id": "75502e7b"
      },
      "source": [
        "\n",
        "- 재가입횟수 1인 회원 안에서, 가입 이후 구매건수\n",
        "- 재가입횟수 0인 회원 안에서, 구매건수\n",
        "- 재가입 회원의 구매건수, 결제가 모두 큼 "
      ]
    },
    {
      "cell_type": "code",
      "execution_count": null,
      "id": "53595e42",
      "metadata": {
        "id": "53595e42"
      },
      "outputs": [],
      "source": [
        "# 재가입횟수 0인 회원\n",
        "temp = pd.read_pickle('../DATA_raw2/도소매제거info.pkl')\n",
        "temp = temp[temp.고유번호.isin(user2[user2.재가입횟수 == 0].고유번호.unique())]"
      ]
    },
    {
      "cell_type": "code",
      "execution_count": null,
      "id": "c0aaad0d",
      "metadata": {
        "id": "c0aaad0d",
        "outputId": "23100cdb-c585-430c-d38a-e9b53391b786"
      },
      "outputs": [
        {
          "name": "stdout",
          "output_type": "stream",
          "text": [
            "평균 구매횟수 1.7008010235111133\n",
            "평균 구매상품수 2.4719803611249764\n",
            "평균 결제가 총합 141977.73284111216\n"
          ]
        }
      ],
      "source": [
        "print('평균 구매횟수', temp['구매횟수'].mean()) \n",
        "print('평균 구매상품수', temp['구매상품수'].mean()) \n",
        "print('평균 결제가 총합', temp['결제가 총합'].mean())"
      ]
    },
    {
      "cell_type": "code",
      "execution_count": null,
      "id": "5b930951",
      "metadata": {
        "id": "5b930951",
        "outputId": "f0cee76a-cacb-4b17-ce5d-d6128378334b"
      },
      "outputs": [
        {
          "name": "stdout",
          "output_type": "stream",
          "text": [
            "평균 구매횟수 2.477282793581789\n",
            "평균 구매상품수 3.6005354712481963\n",
            "평균 결제가 총합 206796.08594834612\n"
          ]
        }
      ],
      "source": [
        "print('평균 구매횟수', temp[temp.구매횟수 != 0]['구매횟수'].mean()) \n",
        "print('평균 구매상품수', temp[temp.구매횟수 != 0]['구매상품수'].mean()) \n",
        "print('평균 결제가 총합', temp[temp.구매횟수 != 0]['결제가 총합'].mean())"
      ]
    },
    {
      "cell_type": "code",
      "execution_count": null,
      "id": "d702e726",
      "metadata": {
        "id": "d702e726",
        "outputId": "4093e9e9-73f4-493f-d218-d40b1bf7ef76"
      },
      "outputs": [
        {
          "name": "stdout",
          "output_type": "stream",
          "text": [
            "유지기간 동안 연 평균 구매횟수 0.8659976360684827\n",
            "유지기간 동안 연 평균 구매상품수 1.2490593249310107\n",
            "유지기간 동안 연 평균 결제가 총합 73409.3194930858\n"
          ]
        }
      ],
      "source": [
        "print('유지기간 동안 연 평균 구매횟수', temp['연 평균 구매횟수'].mean()) \n",
        "print('유지기간 동안 연 평균 구매상품수', temp['연 평균 구매상품수'].mean()) \n",
        "print('유지기간 동안 연 평균 결제가 총합', temp['연 평균 결제가 총합'].mean())"
      ]
    },
    {
      "cell_type": "code",
      "execution_count": null,
      "id": "554f6de3",
      "metadata": {
        "id": "554f6de3"
      },
      "outputs": [],
      "source": [
        "def fun1(x) : \n",
        "    if x == 0:\n",
        "        return '0회 구매'\n",
        "    elif 1<=x<2:\n",
        "        return '1회이상 2회미만 구매'\n",
        "    elif 2<=x<3:\n",
        "        return '2회이상 3회미만 구매'\n",
        "    elif 3<=x< 4:\n",
        "        return '3회이상 4회미만 구매'\n",
        "    elif 4<=x <5:\n",
        "        return '4회이상 5회미만 구매'\n",
        "    elif 5<=x<6:\n",
        "        return '5회이상 6회미만 구매'\n",
        "    elif 6<=x<7:\n",
        "        return '6회이상 7회미만 구매'\n",
        "    else :\n",
        "        return '7회 이상 구매'\n",
        "temp['연평균구매횟수_c'] = temp['연 평균 구매횟수'].apply(fun1)"
      ]
    },
    {
      "cell_type": "code",
      "execution_count": null,
      "id": "b5d2d3f6",
      "metadata": {
        "id": "b5d2d3f6"
      },
      "outputs": [],
      "source": [
        "#qq = temp.groupby(['연평균구매횟수_c'], as_index = False).agg({'고유번호' : 'count'})\n",
        "#qq['ratio'] = qq.고유번호 / qq.고유번호.sum() * 100\n",
        "#qq"
      ]
    },
    {
      "cell_type": "code",
      "execution_count": null,
      "id": "494275ce",
      "metadata": {
        "id": "494275ce"
      },
      "outputs": [],
      "source": [
        "def fun2(x) : \n",
        "    if x == 0:\n",
        "        return '0회 구매'\n",
        "    elif x == 1:\n",
        "        return '1회 구매'\n",
        "    elif x==2:\n",
        "        return '2회 구매'\n",
        "    elif x==3:\n",
        "        return '3회 구매'\n",
        "    elif x== 4:\n",
        "        return '4회 구매'\n",
        "    elif x == 5:\n",
        "        return '5회 구매'\n",
        "    elif x == 6:\n",
        "        return '6회 구매'\n",
        "    else :\n",
        "        return '7회 이상 구매'\n",
        "temp['구매횟수_c'] = temp['구매횟수'].apply(fun2)"
      ]
    },
    {
      "cell_type": "code",
      "execution_count": null,
      "id": "c5b0f239",
      "metadata": {
        "id": "c5b0f239"
      },
      "outputs": [],
      "source": [
        "qq = temp.groupby(['구매횟수_c'], as_index = False).agg({'고유번호' : 'count'})\n",
        "qq['ratio'] = qq.고유번호 / qq.고유번호.sum() * 100\n",
        "qq"
      ]
    },
    {
      "cell_type": "code",
      "execution_count": null,
      "id": "57326989",
      "metadata": {
        "id": "57326989"
      },
      "outputs": [],
      "source": [
        "qq = temp[temp['구매횟수_c']!='0회 구매'].groupby(['구매횟수_c'], as_index = False).agg({'고유번호' : 'count'})\n",
        "qq['ratio'] = qq.고유번호 / qq.고유번호.sum() * 100\n",
        "qq"
      ]
    },
    {
      "cell_type": "code",
      "execution_count": null,
      "id": "7cca9d12",
      "metadata": {
        "id": "7cca9d12"
      },
      "outputs": [],
      "source": [
        "# 재가입 회원\n",
        "temp = pd.read_pickle('../DATA_raw2/도소매제거info.pkl')\n",
        "temp = temp[temp.고유번호.isin(user2[user2.재가입횟수 >0].고유번호.unique())]"
      ]
    },
    {
      "cell_type": "code",
      "execution_count": null,
      "id": "188c06e6",
      "metadata": {
        "id": "188c06e6",
        "outputId": "c609e90d-1786-481e-8e65-ceee9e70ffac"
      },
      "outputs": [
        {
          "name": "stdout",
          "output_type": "stream",
          "text": [
            "평균 구매횟수 1.9730732393176482\n",
            "평균 구매상품수 2.7606346671825674\n",
            "평균 결제가 총합 158225.48512175216\n"
          ]
        }
      ],
      "source": [
        "print('평균 구매횟수', temp['구매횟수'].mean()) \n",
        "print('평균 구매상품수', temp['구매상품수'].mean()) \n",
        "print('평균 결제가 총합', temp['결제가 총합'].mean())"
      ]
    },
    {
      "cell_type": "code",
      "execution_count": null,
      "id": "a2704e85",
      "metadata": {
        "id": "a2704e85",
        "outputId": "19d331bb-7821-405e-928f-c5da53b6c902"
      },
      "outputs": [
        {
          "name": "stdout",
          "output_type": "stream",
          "text": [
            "평균 구매횟수 2.5839764051379133\n",
            "평균 구매상품수 3.6153826938894946\n",
            "평균 결제가 총합 207215.27822631726\n"
          ]
        }
      ],
      "source": [
        "print('평균 구매횟수', temp[temp.구매횟수 != 0]['구매횟수'].mean()) \n",
        "print('평균 구매상품수', temp[temp.구매횟수 != 0]['구매상품수'].mean()) \n",
        "print('평균 결제가 총합', temp[temp.구매횟수 != 0]['결제가 총합'].mean())"
      ]
    },
    {
      "cell_type": "code",
      "execution_count": null,
      "id": "2d94cc89",
      "metadata": {
        "id": "2d94cc89",
        "outputId": "1c2981a1-3756-4a83-8f46-367714ad2b1f"
      },
      "outputs": [
        {
          "name": "stdout",
          "output_type": "stream",
          "text": [
            "유지기간 동안 연 평균 구매횟수 0.7839753422296286\n",
            "유지기간 동안 연 평균 구매상품수 1.100885289193215\n",
            "유지기간 동안 연 평균 결제가 총합 64823.0425814057\n"
          ]
        }
      ],
      "source": [
        "print('유지기간 동안 연 평균 구매횟수', temp['연 평균 구매횟수'].mean()) \n",
        "print('유지기간 동안 연 평균 구매상품수', temp['연 평균 구매상품수'].mean()) \n",
        "print('유지기간 동안 연 평균 결제가 총합', temp['연 평균 결제가 총합'].mean())"
      ]
    },
    {
      "cell_type": "code",
      "execution_count": null,
      "id": "9b982f81",
      "metadata": {
        "id": "9b982f81"
      },
      "outputs": [],
      "source": [
        "temp['연평균구매횟수_c'] = temp['연 평균 구매횟수'].apply(fun1)"
      ]
    },
    {
      "cell_type": "code",
      "execution_count": null,
      "id": "0a231355",
      "metadata": {
        "id": "0a231355"
      },
      "outputs": [],
      "source": [
        "temp['구매횟수_c'] = temp['구매횟수'].apply(fun2)\n",
        "qq = temp.groupby(['구매횟수_c'], as_index = False).agg({'고유번호' : 'count'})\n",
        "qq['ratio'] = qq.고유번호 / qq.고유번호.sum() * 100\n",
        "qq"
      ]
    },
    {
      "cell_type": "code",
      "execution_count": null,
      "id": "5c186ef7",
      "metadata": {
        "id": "5c186ef7"
      },
      "outputs": [],
      "source": [
        "qq = temp[temp['구매횟수_c']!='0회 구매'].groupby(['구매횟수_c'], as_index = False).agg({'고유번호' : 'count'})\n",
        "qq['ratio'] = qq.고유번호 / qq.고유번호.sum()\n",
        "qq"
      ]
    },
    {
      "cell_type": "markdown",
      "id": "68b52f3d",
      "metadata": {
        "id": "68b52f3d"
      },
      "source": [
        "## 2022년 재가입시기 프로모션 확인"
      ]
    },
    {
      "cell_type": "code",
      "execution_count": null,
      "id": "63400b97",
      "metadata": {
        "id": "63400b97"
      },
      "outputs": [],
      "source": [
        "signup"
      ]
    },
    {
      "cell_type": "code",
      "execution_count": null,
      "id": "aa98a885",
      "metadata": {
        "id": "aa98a885"
      },
      "outputs": [],
      "source": [
        "df = pd.merge(user[['고유번호', '최초가입일', '최종가입일', '재가입횟수']], signup[['고유번호','프모기간가입']], on = '고유번호', how = 'left')\n",
        "df['최종가입연도'] = df.최종가입일.dt.year\n",
        "df['최초가입연도'] = df.최초가입일.dt.year\n",
        "\n",
        "df = df[df.최초가입연도 == 2022].reset_index(drop=True) #2022년 신규가입\n",
        "df.프모기간가입 = df.프모기간가입.astype(object)\n",
        "df = df.explode('프모기간가입')\n",
        "df['프모기간가입'] = df['프모기간가입'].fillna(value='행사x')"
      ]
    },
    {
      "cell_type": "code",
      "execution_count": null,
      "id": "7a99846d",
      "metadata": {
        "id": "7a99846d"
      },
      "outputs": [],
      "source": [
        "df = pd.merge(user[['고유번호', '최종가입일', '재가입횟수']], signup[['고유번호','프모기간가입']], on = '고유번호', how = 'left')"
      ]
    },
    {
      "cell_type": "code",
      "execution_count": null,
      "id": "f332cb6f",
      "metadata": {
        "id": "f332cb6f"
      },
      "outputs": [],
      "source": [
        "df['최종가입연도'] = df.최종가입일.dt.year\n",
        "df = df[(df.재가입횟수 >=1 ) & (df.최종가입연도 == 2022)].reset_index(drop=True) # 2022년 재가입"
      ]
    },
    {
      "cell_type": "code",
      "execution_count": null,
      "id": "01059f0a",
      "metadata": {
        "id": "01059f0a"
      },
      "outputs": [],
      "source": [
        "df.프모기간가입 = df.프모기간가입.astype(object)\n",
        "df = df.explode('프모기간가입')\n",
        "df['프모기간가입'] = df['프모기간가입'].fillna(value='행사x')"
      ]
    },
    {
      "cell_type": "code",
      "execution_count": null,
      "id": "bf6c11a9",
      "metadata": {
        "id": "bf6c11a9",
        "outputId": "aa4835f4-f0a7-4173-e7eb-add1a75ab928"
      },
      "outputs": [
        {
          "data": {
            "text/plain": [
              "121    50667\n",
              "122    50667\n",
              "138    49814\n",
              "137    49814\n",
              "120    41919\n",
              "130    39470\n",
              "131    39470\n",
              "128    38512\n",
              "127    38512\n",
              "Name: 프모기간가입, dtype: int64"
            ]
          },
          "execution_count": 128,
          "metadata": {},
          "output_type": "execute_result"
        }
      ],
      "source": [
        "df['프모기간가입'].value_counts().head(9)"
      ]
    },
    {
      "cell_type": "code",
      "execution_count": null,
      "id": "edcb4d9b",
      "metadata": {
        "id": "edcb4d9b"
      },
      "outputs": [],
      "source": []
    }
  ],
  "metadata": {
    "kernelspec": {
      "display_name": "Python 3 (ipykernel)",
      "language": "python",
      "name": "python3"
    },
    "language_info": {
      "codemirror_mode": {
        "name": "ipython",
        "version": 3
      },
      "file_extension": ".py",
      "mimetype": "text/x-python",
      "name": "python",
      "nbconvert_exporter": "python",
      "pygments_lexer": "ipython3",
      "version": "3.9.13"
    },
    "colab": {
      "provenance": [],
      "toc_visible": true
    }
  },
  "nbformat": 4,
  "nbformat_minor": 5
}