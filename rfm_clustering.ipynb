{
  "cells": [
    {
      "cell_type": "code",
      "execution_count": null,
      "id": "382ca06d",
      "metadata": {
        "id": "382ca06d"
      },
      "outputs": [],
      "source": [
        "import pandas as pd\n",
        "from glob import glob\n",
        "import os\n",
        "import numpy as np\n",
        "from tqdm import tqdm, tqdm_notebook\n",
        "import plotly.offline as pyo\n",
        "import matplotlib.pyplot as plt\n",
        "import plotly.express as px\n",
        "import plotly.graph_objects as go\n",
        "\n",
        "from datetime import datetime\n",
        "from datetime import date"
      ]
    },
    {
      "cell_type": "code",
      "execution_count": null,
      "id": "07ebb210",
      "metadata": {
        "id": "07ebb210"
      },
      "outputs": [],
      "source": [
        "import plotly.io as pio\n",
        "pio.renderers.default = \"plotly_mimetype+notebook\""
      ]
    },
    {
      "cell_type": "code",
      "execution_count": null,
      "id": "1bce6838",
      "metadata": {
        "id": "1bce6838"
      },
      "outputs": [],
      "source": [
        "import warnings\n",
        "warnings.filterwarnings(action='ignore')"
      ]
    },
    {
      "cell_type": "code",
      "execution_count": null,
      "id": "37c3636d",
      "metadata": {
        "id": "37c3636d"
      },
      "outputs": [],
      "source": [
        "%matplotlib inline\n",
        "from matplotlib import font_manager, rc\n",
        "import matplotlib.pyplot as plt\n",
        "import platform\n",
        "\n",
        "path = \"c:/Windows/Fonts/malgun.ttf\"\n",
        "if platform.system() == 'Darwin':\n",
        "    rc('font', family='AppleGothic')\n",
        "rc('axes', unicode_minus=False)  "
      ]
    },
    {
      "cell_type": "code",
      "execution_count": null,
      "id": "8551f686",
      "metadata": {
        "id": "8551f686"
      },
      "outputs": [],
      "source": [
        "# go to file\n",
        "os.chdir('../DATA_raw2')"
      ]
    },
    {
      "cell_type": "code",
      "execution_count": null,
      "id": "0ce67802",
      "metadata": {
        "id": "0ce67802"
      },
      "outputs": [],
      "source": [
        "user = pd.read_pickle(\"../TBWA/user_fin.pkl\")\n",
        "order = pd.read_pickle(\"../TBWA/order_fin.pkl\")"
      ]
    },
    {
      "cell_type": "code",
      "execution_count": null,
      "id": "5de23064",
      "metadata": {
        "id": "5de23064",
        "outputId": "ec84812c-ac7c-4ff3-c031-b319c5efdc4c"
      },
      "outputs": [
        {
          "name": "stdout",
          "output_type": "stream",
          "text": [
            "1907989\n",
            "4928381\n"
          ]
        }
      ],
      "source": [
        "print(len(user))\n",
        "print(len(order))"
      ]
    },
    {
      "cell_type": "markdown",
      "id": "49bebc46",
      "metadata": {
        "id": "49bebc46"
      },
      "source": [
        "# step1. 유저 매칭"
      ]
    },
    {
      "cell_type": "markdown",
      "id": "a1d36d1c",
      "metadata": {
        "id": "a1d36d1c"
      },
      "source": [
        "### 유저 기본 정보"
      ]
    },
    {
      "cell_type": "code",
      "execution_count": null,
      "id": "2f7ed69f",
      "metadata": {
        "id": "2f7ed69f"
      },
      "outputs": [],
      "source": [
        "def age(x) :\n",
        "    if x == '19세 미만' :\n",
        "        return 10\n",
        "    elif (x == '20-24세') | (x == '25-29세'):\n",
        "        return 20\n",
        "    elif (x == '30~34세') | (x == '35~39세'):\n",
        "        return 30\n",
        "    elif (x == '40~44세') | (x == '45~49세'):\n",
        "        return 40\n",
        "    elif (x == '50~54세') | (x == '55~59세'):\n",
        "        return 50\n",
        "    else :\n",
        "        return 60\n",
        "\n",
        "user['c_연령대'] = user['연령대'].apply(age)"
      ]
    },
    {
      "cell_type": "code",
      "execution_count": null,
      "id": "a3f87cce",
      "metadata": {
        "id": "a3f87cce"
      },
      "outputs": [],
      "source": [
        "def sex(x) :\n",
        "    if x == 'F' :\n",
        "        return 2\n",
        "    else :\n",
        "        return 1\n",
        "\n",
        "user['c_성별'] = user['성별'].apply(sex)"
      ]
    },
    {
      "cell_type": "code",
      "execution_count": null,
      "id": "1123414c",
      "metadata": {
        "id": "1123414c"
      },
      "outputs": [],
      "source": [
        "user['c_PC로그인횟수(누적)'] = user['PC로그인횟수_2020'] + user['PC로그인횟수_2021'] + user['PC로그인횟수_2022']\n",
        "user['c_모바일로그인횟수(누적)'] = user['모바일로그인횟수_2020'] + user['모바일로그인횟수_2021'] + user['모바일로그인횟수_2022']\n",
        "user['c_앱로그인횟수(누적)'] = user['앱로그인횟수_2020'] + user['앱로그인횟수_2021'] + user['앱로그인횟수_2022']\n",
        "user['총 로그인횟수'] = user['c_PC로그인횟수(누적)'] + user['c_모바일로그인횟수(누적)'] + user['c_앱로그인횟수(누적)']\n",
        "user['c_년간포인트사용액(누적)'] = user['년간포인트사용액_2020'] + user['년간포인트사용액_2021'] + user['년간포인트사용액_2022']\n",
        "user['c_출석체크_응모건수(누적)'] = user['출석체크_응모건수_2020'] + user['출석체크_응모건수_2021'] + user['출석체크_응모건수_2022']\n",
        "user['c_출석체크_응모건수(누적)'] = user['출석체크_응모건수_2020'] + user['출석체크_응모건수_2021'] + user['출석체크_응모건수_2022']\n",
        "user['c_출석체크_참여일수(누적)'] = user['출석체크_참여일수_2020'] + user['출석체크_참여일수_2021'] + user['출석체크_참여일수_2022']\n",
        "user['c_일반이벤트_응모건수(누적)'] = user['일반이벤트_응모건수_2020'] + user['일반이벤트_응모건수_2021'] + user['일반이벤트_응모건수_2022']\n",
        "user['c_드로우 응모건수(누적)'] = user['드로우 응모건수_2020'] + user['드로우 응모건수_2021'] + user['드로우 응모건수_2022']"
      ]
    },
    {
      "cell_type": "code",
      "execution_count": null,
      "id": "a410fe1c",
      "metadata": {
        "id": "a410fe1c"
      },
      "outputs": [],
      "source": [
        "user_fin = user[['고유번호','c_연령대', 'c_성별', '재가입횟수','리뷰작성건수', 'c_PC로그인횟수(누적)', \n",
        "    'c_모바일로그인횟수(누적)', 'c_앱로그인횟수(누적)','총 로그인횟수', 'c_년간포인트사용액(누적)', 'c_출석체크_응모건수(누적)', \n",
        "    'c_출석체크_참여일수(누적)', 'c_일반이벤트_응모건수(누적)', 'c_드로우 응모건수(누적)']]"
      ]
    },
    {
      "cell_type": "markdown",
      "id": "32438ad1",
      "metadata": {
        "id": "32438ad1"
      },
      "source": [
        "### 구매횟수 ( = 방문건수)"
      ]
    },
    {
      "cell_type": "code",
      "execution_count": null,
      "id": "029c4fcd",
      "metadata": {
        "id": "029c4fcd"
      },
      "outputs": [],
      "source": [
        "### 구매횟수\n",
        "demo = order.groupby(\"고유번호\", as_index=False).agg({'구매일자' : 'nunique'})\n",
        "demo.rename(columns = {'구매일자' : '구매횟수'}, inplace = True)\n",
        "user_fin = pd.merge(user_fin, demo, on = '고유번호', how = 'left')\n",
        "user_fin['구매횟수'] = user_fin['구매횟수'].fillna(value=0)"
      ]
    },
    {
      "cell_type": "code",
      "execution_count": null,
      "id": "f185454a",
      "metadata": {
        "id": "f185454a",
        "outputId": "765e4a98-435c-4d24-f61c-73c9fe1ef9a4"
      },
      "outputs": [
        {
          "data": {
            "text/plain": [
              "Index(['고유번호', '브랜드명', '카테고리1', '카테고리2', '카테고리3', '상품명', '사이즈', '정상가', '판매가',\n",
              "       '결제가', '쿠폰사용여부', '포인트사용여부', '구매일자', '구매시간', '구매처', 'O2O여부', '지점키워드',\n",
              "       '지점키워드2'],\n",
              "      dtype='object')"
            ]
          },
          "execution_count": 184,
          "metadata": {},
          "output_type": "execute_result"
        }
      ],
      "source": [
        "order.columns"
      ]
    },
    {
      "cell_type": "code",
      "execution_count": null,
      "id": "ee9a9937",
      "metadata": {
        "id": "ee9a9937"
      },
      "outputs": [],
      "source": [
        "order['c_구매처'] = order['지점키워드2']\n",
        "order_pc = order[order['c_구매처']=='PC']\n",
        "order_mobile = order[order['c_구매처']=='Mobile']\n",
        "order_app = order[order['c_구매처']=='APP']\n",
        "order_off = order[order['c_구매처']=='오프라인']"
      ]
    },
    {
      "cell_type": "code",
      "execution_count": null,
      "id": "f251e36a",
      "metadata": {
        "id": "f251e36a"
      },
      "outputs": [],
      "source": [
        "order_pc = order_pc.groupby(['고유번호'], as_index = False).agg({'구매일자':'nunique'})\n",
        "order_pc.rename(columns = {'구매일자' : 'pc_구매횟수'}, inplace = True)\n",
        "order_mobile = order_mobile.groupby(['고유번호'], as_index = False).agg({'구매일자':'nunique'})\n",
        "order_mobile.rename(columns = {'구매일자' : 'mobile_구매횟수'}, inplace = True)\n",
        "order_app = order_app.groupby(['고유번호'], as_index = False).agg({'구매일자':'nunique'})\n",
        "order_app.rename(columns = {'구매일자' : 'app_구매횟수'}, inplace = True)\n",
        "order_off = order_off.groupby(['고유번호'], as_index = False).agg({'구매일자':'nunique'})\n",
        "order_off.rename(columns = {'구매일자' : '오프_구매횟수'}, inplace = True)"
      ]
    },
    {
      "cell_type": "code",
      "execution_count": null,
      "id": "021c4315",
      "metadata": {
        "id": "021c4315"
      },
      "outputs": [],
      "source": [
        "user_fin = pd.merge(user_fin, order_pc, on = '고유번호', how = 'left')\n",
        "user_fin['pc_구매횟수'] = user_fin['pc_구매횟수'].fillna(value=0)\n",
        "user_fin = pd.merge(user_fin, order_mobile, on = '고유번호', how = 'left')\n",
        "user_fin['mobile_구매횟수'] = user_fin['mobile_구매횟수'].fillna(value=0)\n",
        "user_fin = pd.merge(user_fin, order_app, on = '고유번호', how = 'left')\n",
        "user_fin['app_구매횟수'] = user_fin['app_구매횟수'].fillna(value=0)\n",
        "user_fin = pd.merge(user_fin, order_off, on = '고유번호', how = 'left')\n",
        "user_fin['오프_구매횟수'] = user_fin['오프_구매횟수'].fillna(value=0)"
      ]
    },
    {
      "cell_type": "markdown",
      "id": "6ef543e6",
      "metadata": {
        "id": "6ef543e6"
      },
      "source": [
        "### 구매상품수\n"
      ]
    },
    {
      "cell_type": "code",
      "execution_count": null,
      "id": "bcd1e844",
      "metadata": {
        "id": "bcd1e844"
      },
      "outputs": [],
      "source": [
        "# 전체 구매건수\n",
        "data = order.groupby('고유번호', as_index = False).agg({'상품명':'count'})\n",
        "data.rename(columns = {'상품명' : '구매상품수'}, inplace = True)\n",
        "user_fin = pd.merge(user_fin, data, on = '고유번호', how = 'left')\n",
        "user_fin['구매상품수'] = user_fin['구매상품수'].fillna(value=0)"
      ]
    },
    {
      "cell_type": "code",
      "execution_count": null,
      "id": "3f6334c2",
      "metadata": {
        "id": "3f6334c2"
      },
      "outputs": [],
      "source": [
        "user_fin['1회구매 당 상품수'] = user_fin['구매상품수'] / user_fin['구매횟수']\n",
        "user_fin['1회구매 당 상품수'] = user_fin['1회구매 당 상품수'].fillna(value=0)"
      ]
    },
    {
      "cell_type": "markdown",
      "id": "057317b8",
      "metadata": {
        "id": "057317b8"
      },
      "source": [
        "### 구매주기"
      ]
    },
    {
      "cell_type": "code",
      "execution_count": null,
      "id": "76f05894",
      "metadata": {
        "id": "76f05894"
      },
      "outputs": [],
      "source": [
        "## 구매주기\n",
        "data = order.groupby(['고유번호', '구매일자']).agg({'상품명':'count'})\n",
        "data = data.reset_index().rename(columns={\"index\": \"id\"})\n",
        "data['직전구매일자'] = data.groupby('고유번호').구매일자.shift()\n",
        "data['구매소요시간'] = data['구매일자'] - data['직전구매일자']\n",
        "data['구매소요시간'] = data['구매소요시간'].dt.days\n",
        "data['구매소요시간'] = np.where(data['구매소요시간'].isna(), 0, data['구매소요시간'])\n",
        "data2 = data.groupby('고유번호').agg({'구매소요시간':'sum'})\n",
        "data2 = data2.reset_index().rename(columns={\"index\": \"id\"})\n",
        "data3 = data.groupby('고유번호').agg({'상품명':'sum'})   #같은날에 많이 사는건 주기에 안치면 구매소요시간:count, 치면 '상품명':sum 으로\n",
        "data3 = data3.reset_index().rename(columns={\"index\": \"id\"})\n",
        "data3.columns = ['고유번호', '카운트']\n",
        "data3['카운트'] = data3['카운트'] -1\n",
        "df = pd.merge(data2, data3, on = '고유번호', how = 'inner')"
      ]
    },
    {
      "cell_type": "code",
      "execution_count": null,
      "id": "ee2fa56f",
      "metadata": {
        "id": "ee2fa56f"
      },
      "outputs": [],
      "source": [
        "# 구매주기 (2회 이상 구매자)\n",
        "df2 = df[df['카운트'] != 0].reset_index(drop=True) \n",
        "df2['구매주기'] = df2['구매소요시간'] / df2['카운트']\n",
        "df3 = df2[['고유번호', '구매주기']]"
      ]
    },
    {
      "cell_type": "code",
      "execution_count": null,
      "id": "fa641439",
      "metadata": {
        "id": "fa641439"
      },
      "outputs": [],
      "source": [
        "user_fin = pd.merge(user_fin, df3, on = '고유번호', how = 'left')\n",
        "user_fin['구매주기'] = user_fin['구매주기'].fillna(value=0)"
      ]
    },
    {
      "cell_type": "code",
      "execution_count": null,
      "id": "cf639840",
      "metadata": {
        "id": "cf639840"
      },
      "outputs": [],
      "source": [
        "# 구매주기가 0인 사람 = 하루 이용 구매자\n",
        "df_0 = df[(df['카운트'] == 0) | (df['구매소요시간'] ==0 )]\n",
        "df_0['하루 이용 구매자'] = 1\n",
        "df_0 = df_0[['고유번호', '하루 이용 구매자']]\n",
        "user_fin = pd.merge(user_fin, df_0, on = '고유번호', how = 'left')\n",
        "user_fin['하루 이용 구매자'] = user_fin['하루 이용 구매자'].fillna(value=0)"
      ]
    },
    {
      "cell_type": "markdown",
      "id": "02cb9e7d",
      "metadata": {
        "id": "02cb9e7d"
      },
      "source": [
        "### 구매 후 현재까지 비구매활동 기간\n",
        "- 가장 최신 구매일인 2022년 12월 31일을 기준으로 계산"
      ]
    },
    {
      "cell_type": "code",
      "execution_count": null,
      "id": "3b8cda7e",
      "metadata": {
        "id": "3b8cda7e"
      },
      "outputs": [],
      "source": [
        "## 비활동 기간\n",
        "dateformat = \"%Y-%m-%d\"\n",
        "str_datetime = \"2023-01-01\"\n",
        "datetime_convert2 = datetime.strptime(str_datetime, dateformat)\n",
        "datetime_convert2\n",
        "\n",
        "data4 = order.groupby('고유번호').agg({'구매일자':'max'})\n",
        "data4 = data4.reset_index().rename(columns={\"index\": \"id\"})\n",
        "data4['비구매기간'] = datetime_convert2 - data4['구매일자']\n",
        "data4['비구매기간'] = data4['비구매기간'].dt.days\n",
        "data4 = data4[['고유번호', '비구매기간']]"
      ]
    },
    {
      "cell_type": "code",
      "execution_count": null,
      "id": "ef4611f3",
      "metadata": {
        "id": "ef4611f3"
      },
      "outputs": [],
      "source": [
        "user_fin = pd.merge(user_fin, data4, on = '고유번호', how = 'left')\n",
        "user_fin['비구매기간'] = user_fin['비구매기간'].fillna(value=0)"
      ]
    },
    {
      "cell_type": "code",
      "execution_count": null,
      "id": "069d235d",
      "metadata": {
        "id": "069d235d"
      },
      "outputs": [],
      "source": []
    },
    {
      "cell_type": "markdown",
      "id": "8ebc5557",
      "metadata": {
        "id": "8ebc5557"
      },
      "source": [
        "### o2o 이용 횟수"
      ]
    },
    {
      "cell_type": "code",
      "execution_count": null,
      "id": "9a36190b",
      "metadata": {
        "id": "9a36190b"
      },
      "outputs": [],
      "source": [
        "qq = order[order['O2O여부'] == 'O']\n",
        "qq = qq.groupby(['고유번호'], as_index=False).agg({'O2O여부': 'count'})\n",
        "qq = qq.rename(columns = {'O2O여부' : 'O2O횟수'}).reset_index(drop=True)"
      ]
    },
    {
      "cell_type": "code",
      "execution_count": null,
      "id": "aef737fc",
      "metadata": {
        "id": "aef737fc"
      },
      "outputs": [],
      "source": [
        "user_fin = pd.merge(user_fin, qq, on = '고유번호', how = 'left')\n",
        "user_fin['O2O횟수'] = user_fin['O2O횟수'].fillna(value=0)"
      ]
    },
    {
      "cell_type": "markdown",
      "id": "be9cf335",
      "metadata": {
        "id": "be9cf335"
      },
      "source": [
        "### 사이즈수, 브랜드수, 최고가 상품"
      ]
    },
    {
      "cell_type": "code",
      "execution_count": null,
      "id": "77c77919",
      "metadata": {
        "id": "77c77919"
      },
      "outputs": [],
      "source": [
        "## 사이즈수_c , 브랜드_c, 최고가상품\n",
        "demo = order.groupby(\"고유번호\", as_index=False).agg({'사이즈' : 'nunique'})\n",
        "demo.rename(columns = {'사이즈' : '사이즈수_c'}, inplace = True)\n",
        "user_fin = pd.merge(user_fin, demo, on = '고유번호', how = 'left')\n",
        "user_fin['사이즈수_c'] = user_fin['사이즈수_c'].fillna(value=0)\n"
      ]
    },
    {
      "cell_type": "code",
      "execution_count": null,
      "id": "3f54ae5e",
      "metadata": {
        "id": "3f54ae5e"
      },
      "outputs": [],
      "source": [
        "demo = order.groupby(\"고유번호\", as_index=False).agg({'브랜드명' : 'nunique'})\n",
        "demo.rename(columns = {'브랜드명' : '브랜드_c'}, inplace = True)\n",
        "user_fin = pd.merge(user_fin, demo, on = '고유번호', how = 'left')\n",
        "user_fin['브랜드_c'] = user_fin['브랜드_c'].fillna(value=0)"
      ]
    },
    {
      "cell_type": "code",
      "execution_count": null,
      "id": "832e59c4",
      "metadata": {
        "id": "832e59c4"
      },
      "outputs": [],
      "source": [
        "demo = order.groupby(\"고유번호\", as_index=False).agg({'결제가' : 'sum'})\n",
        "demo.rename(columns = {'결제가' : '결제가'}, inplace = True)\n",
        "user_fin = pd.merge(user_fin, demo, on = '고유번호', how = 'left')\n",
        "user_fin['결제가'] = user_fin['결제가'].fillna(value=0)"
      ]
    },
    {
      "cell_type": "code",
      "execution_count": null,
      "id": "427007f2",
      "metadata": {
        "id": "427007f2"
      },
      "outputs": [],
      "source": [
        "demo = order.groupby(\"고유번호\", as_index=False).agg({'결제가' : 'max'})\n",
        "demo.rename(columns = {'결제가' : '최고가상품값'}, inplace = True)\n",
        "user_fin = pd.merge(user_fin, demo, on = '고유번호', how = 'left')\n",
        "user_fin['최고가상품값'] = user_fin['최고가상품값'].fillna(value=0)"
      ]
    },
    {
      "cell_type": "markdown",
      "id": "0dfc4a39",
      "metadata": {
        "id": "0dfc4a39"
      },
      "source": [
        "### 프로모션 이용 "
      ]
    },
    {
      "cell_type": "code",
      "execution_count": null,
      "id": "fc1c7e3d",
      "metadata": {
        "id": "fc1c7e3d"
      },
      "outputs": [],
      "source": [
        "order_online = pd.read_pickle(\"../TBWA/order_online.pkl\")\n",
        "order_offline = pd.read_pickle(\"../TBWA/order_offline.pkl\")"
      ]
    },
    {
      "cell_type": "code",
      "execution_count": null,
      "id": "3285d095",
      "metadata": {
        "id": "3285d095"
      },
      "outputs": [],
      "source": [
        "promo = pd.read_excel('file/ABC 프로모션 list2.xlsx')"
      ]
    },
    {
      "cell_type": "code",
      "execution_count": null,
      "id": "1029559f",
      "metadata": {
        "id": "1029559f"
      },
      "outputs": [],
      "source": [
        "order_com = pd.concat([order_online, order_offline], axis =0)"
      ]
    },
    {
      "cell_type": "code",
      "execution_count": null,
      "id": "65d5bd49",
      "metadata": {
        "id": "65d5bd49"
      },
      "outputs": [],
      "source": []
    },
    {
      "cell_type": "code",
      "execution_count": null,
      "id": "eeeab515",
      "metadata": {
        "id": "eeeab515",
        "outputId": "951b9353-155d-4acd-b54d-f9e8bdb1e97e"
      },
      "outputs": [
        {
          "data": {
            "text/html": [
              "<div>\n",
              "<style scoped>\n",
              "    .dataframe tbody tr th:only-of-type {\n",
              "        vertical-align: middle;\n",
              "    }\n",
              "\n",
              "    .dataframe tbody tr th {\n",
              "        vertical-align: top;\n",
              "    }\n",
              "\n",
              "    .dataframe thead th {\n",
              "        text-align: right;\n",
              "    }\n",
              "</style>\n",
              "<table border=\"1\" class=\"dataframe\">\n",
              "  <thead>\n",
              "    <tr style=\"text-align: right;\">\n",
              "      <th></th>\n",
              "      <th>년도</th>\n",
              "      <th>채널</th>\n",
              "      <th>행사명</th>\n",
              "      <th>행사 내용</th>\n",
              "      <th>행사 구분</th>\n",
              "      <th>시작일</th>\n",
              "      <th>종료일</th>\n",
              "    </tr>\n",
              "  </thead>\n",
              "  <tbody>\n",
              "    <tr>\n",
              "      <th>0</th>\n",
              "      <td>2022</td>\n",
              "      <td>온라인</td>\n",
              "      <td>새해 행사</td>\n",
              "      <td>호랑이띠 회원 22%할인쿠폰, 멤버십 10%할인쿠폰 증정</td>\n",
              "      <td>쿠폰</td>\n",
              "      <td>2022-01-01</td>\n",
              "      <td>2022-01-13</td>\n",
              "    </tr>\n",
              "    <tr>\n",
              "      <th>1</th>\n",
              "      <td>2022</td>\n",
              "      <td>온라인</td>\n",
              "      <td>신년 행사</td>\n",
              "      <td>신상품 10%할인쿠폰 증정 (온/오프라인 동시)</td>\n",
              "      <td>쿠폰</td>\n",
              "      <td>2022-01-14</td>\n",
              "      <td>2022-01-24</td>\n",
              "    </tr>\n",
              "    <tr>\n",
              "      <th>2</th>\n",
              "      <td>2022</td>\n",
              "      <td>온라인</td>\n",
              "      <td>설 행사</td>\n",
              "      <td>최대 2만원 할인쿠폰 등 4종 쿠폰 증정</td>\n",
              "      <td>쿠폰</td>\n",
              "      <td>2022-01-25</td>\n",
              "      <td>2022-02-06</td>\n",
              "    </tr>\n",
              "    <tr>\n",
              "      <th>3</th>\n",
              "      <td>2022</td>\n",
              "      <td>온라인</td>\n",
              "      <td>발렌타인</td>\n",
              "      <td>1족 구매 시 10%, 2족 이상 구매 시 20%할인  (온/오프라인 동시)</td>\n",
              "      <td>단순 할인, 조건 할인</td>\n",
              "      <td>2022-02-08</td>\n",
              "      <td>2022-02-14</td>\n",
              "    </tr>\n",
              "    <tr>\n",
              "      <th>4</th>\n",
              "      <td>2022</td>\n",
              "      <td>온라인</td>\n",
              "      <td>아트닷컴 2주년</td>\n",
              "      <td>20%할인, 추가 10%할인쿠폰, 당일/새벽배송 무료 쿠폰 증정.\\n나이키, 아디다...</td>\n",
              "      <td>쿠폰, 단순 할인</td>\n",
              "      <td>2022-02-18</td>\n",
              "      <td>2022-02-27</td>\n",
              "    </tr>\n",
              "    <tr>\n",
              "      <th>...</th>\n",
              "      <td>...</td>\n",
              "      <td>...</td>\n",
              "      <td>...</td>\n",
              "      <td>...</td>\n",
              "      <td>...</td>\n",
              "      <td>...</td>\n",
              "      <td>...</td>\n",
              "    </tr>\n",
              "    <tr>\n",
              "      <th>142</th>\n",
              "      <td>2019</td>\n",
              "      <td>오프라인</td>\n",
              "      <td>할로윈데이</td>\n",
              "      <td>키즈 상품 1족 구매 시 10% / 2족 이상 구매 시 20% 할인</td>\n",
              "      <td>단순 할인, 조건 할인</td>\n",
              "      <td>2019-10-25</td>\n",
              "      <td>2019-10-31</td>\n",
              "    </tr>\n",
              "    <tr>\n",
              "      <th>143</th>\n",
              "      <td>2019</td>\n",
              "      <td>오프라인</td>\n",
              "      <td>빼빼로데이</td>\n",
              "      <td>1족 구매 시 10% / 2족 이상 구매 시 20% 할인</td>\n",
              "      <td>단순 할인, 조건 할인</td>\n",
              "      <td>2019-11-07</td>\n",
              "      <td>2019-11-11</td>\n",
              "    </tr>\n",
              "    <tr>\n",
              "      <th>144</th>\n",
              "      <td>2019</td>\n",
              "      <td>오프라인</td>\n",
              "      <td>블랙 ABC데이</td>\n",
              "      <td>결산세일 최대 70%할인  (온/오프라인 동시)</td>\n",
              "      <td>단순 할인</td>\n",
              "      <td>2019-11-21</td>\n",
              "      <td>2019-12-15</td>\n",
              "    </tr>\n",
              "    <tr>\n",
              "      <th>145</th>\n",
              "      <td>2019</td>\n",
              "      <td>오프라인</td>\n",
              "      <td>크리스마스</td>\n",
              "      <td>신상품 20%할인,</td>\n",
              "      <td>단순 할인</td>\n",
              "      <td>2019-12-16</td>\n",
              "      <td>2019-12-25</td>\n",
              "    </tr>\n",
              "    <tr>\n",
              "      <th>146</th>\n",
              "      <td>2019</td>\n",
              "      <td>오프라인</td>\n",
              "      <td>홀리데이</td>\n",
              "      <td>겨울상품 최대 50%할인 (온/오프라인 동시)</td>\n",
              "      <td>단순 할인</td>\n",
              "      <td>2019-12-16</td>\n",
              "      <td>2019-12-31</td>\n",
              "    </tr>\n",
              "  </tbody>\n",
              "</table>\n",
              "<p>147 rows × 7 columns</p>\n",
              "</div>"
            ],
            "text/plain": [
              "       년도    채널       행사명                                              행사 내용  \\\n",
              "0    2022   온라인     새해 행사                    호랑이띠 회원 22%할인쿠폰, 멤버십 10%할인쿠폰 증정   \n",
              "1    2022   온라인     신년 행사                         신상품 10%할인쿠폰 증정 (온/오프라인 동시)   \n",
              "2    2022   온라인      설 행사                             최대 2만원 할인쿠폰 등 4종 쿠폰 증정   \n",
              "3    2022   온라인      발렌타인         1족 구매 시 10%, 2족 이상 구매 시 20%할인  (온/오프라인 동시)   \n",
              "4    2022   온라인  아트닷컴 2주년  20%할인, 추가 10%할인쿠폰, 당일/새벽배송 무료 쿠폰 증정.\\n나이키, 아디다...   \n",
              "..    ...   ...       ...                                                ...   \n",
              "142  2019  오프라인     할로윈데이              키즈 상품 1족 구매 시 10% / 2족 이상 구매 시 20% 할인   \n",
              "143  2019  오프라인     빼빼로데이                    1족 구매 시 10% / 2족 이상 구매 시 20% 할인   \n",
              "144  2019  오프라인  블랙 ABC데이                         결산세일 최대 70%할인  (온/오프라인 동시)   \n",
              "145  2019  오프라인     크리스마스                                         신상품 20%할인,   \n",
              "146  2019  오프라인      홀리데이                          겨울상품 최대 50%할인 (온/오프라인 동시)   \n",
              "\n",
              "            행사 구분        시작일        종료일  \n",
              "0              쿠폰 2022-01-01 2022-01-13  \n",
              "1              쿠폰 2022-01-14 2022-01-24  \n",
              "2              쿠폰 2022-01-25 2022-02-06  \n",
              "3    단순 할인, 조건 할인 2022-02-08 2022-02-14  \n",
              "4       쿠폰, 단순 할인 2022-02-18 2022-02-27  \n",
              "..            ...        ...        ...  \n",
              "142  단순 할인, 조건 할인 2019-10-25 2019-10-31  \n",
              "143  단순 할인, 조건 할인 2019-11-07 2019-11-11  \n",
              "144         단순 할인 2019-11-21 2019-12-15  \n",
              "145         단순 할인 2019-12-16 2019-12-25  \n",
              "146         단순 할인 2019-12-16 2019-12-31  \n",
              "\n",
              "[147 rows x 7 columns]"
            ]
          },
          "execution_count": 205,
          "metadata": {},
          "output_type": "execute_result"
        }
      ],
      "source": [
        "promo"
      ]
    },
    {
      "cell_type": "code",
      "execution_count": null,
      "id": "f7e66b3b",
      "metadata": {
        "id": "f7e66b3b"
      },
      "outputs": [],
      "source": [
        "demo = order_com[['고유번호', '구매일자','결제가','행사참여']]\n",
        "demo.행사참여 = demo.행사참여.astype(object)\n",
        "demo2 = demo.explode('행사참여')\n",
        "demo2['행사참여'] = demo2['행사참여'].fillna(value='행사x')\n",
        "demo2 = demo2.rename(columns = {'행사참여' : '행사번호'})"
      ]
    },
    {
      "cell_type": "code",
      "execution_count": null,
      "id": "3ffc2dde",
      "metadata": {
        "id": "3ffc2dde"
      },
      "outputs": [],
      "source": [
        "promo = promo.reset_index()\n",
        "promo = promo.rename(columns = {'index' : '행사번호'})"
      ]
    },
    {
      "cell_type": "code",
      "execution_count": null,
      "id": "f88ab148",
      "metadata": {
        "id": "f88ab148"
      },
      "outputs": [],
      "source": [
        "promo_sample = promo[['행사번호', '행사 구분']]\n",
        "promo_sample['행사 구분'] = promo_sample['행사 구분'].str.replace(\" \", \"\")\n",
        "promo_sample['행사 구분'] = promo_sample['행사 구분'].str.split(',')\n",
        "promo_sample = promo_sample.join(promo_sample['행사 구분'].apply(lambda x: pd.Series(x)).stack().reset_index(1,name='c_행사구분').drop('level_1', axis=1))\n",
        "promo_sample = promo_sample.drop(labels = '행사 구분', axis=1)\n",
        "df = pd.merge(demo2, promo_sample, on = '행사번호', how= 'left')"
      ]
    },
    {
      "cell_type": "code",
      "execution_count": null,
      "id": "bb2e4137",
      "metadata": {
        "id": "bb2e4137"
      },
      "outputs": [],
      "source": [
        "df= df[df['행사번호'] != '행사x']"
      ]
    },
    {
      "cell_type": "code",
      "execution_count": null,
      "id": "a5626663",
      "metadata": {
        "id": "a5626663"
      },
      "outputs": [],
      "source": [
        "promo_sample2 = promo[['행사번호', '채널']]\n",
        "df = pd.merge(df, promo_sample2, on = '행사번호', how= 'left')"
      ]
    },
    {
      "cell_type": "code",
      "execution_count": null,
      "id": "a8b4e371",
      "metadata": {
        "id": "a8b4e371"
      },
      "outputs": [],
      "source": [
        "## 프로모션 참여횟수\n",
        "qq = df.groupby(['고유번호'], as_index=False).agg({'c_행사구분':'count'})\n",
        "qq = qq.rename(columns = {'c_행사구분' : '프로모션 참여횟수'})\n",
        "user_fin = pd.merge(user_fin, qq, on = '고유번호', how = 'left')\n",
        "user_fin['프로모션 참여횟수'] = user_fin['프로모션 참여횟수'].fillna(value=0)"
      ]
    },
    {
      "cell_type": "code",
      "execution_count": null,
      "id": "7145834f",
      "metadata": {
        "id": "7145834f"
      },
      "outputs": [],
      "source": []
    },
    {
      "cell_type": "code",
      "execution_count": null,
      "id": "03243875",
      "metadata": {
        "id": "03243875"
      },
      "outputs": [],
      "source": [
        "## 채널 별 참여횟수\n",
        "df_off = df[df['채널'] == '오프라인']\n",
        "df_on = df[df['채널'] == '온라인']"
      ]
    },
    {
      "cell_type": "code",
      "execution_count": null,
      "id": "b993ec59",
      "metadata": {
        "id": "b993ec59"
      },
      "outputs": [],
      "source": [
        "df_off = df_off.groupby(['고유번호'], as_index = False).agg({'행사번호':'count'})\n",
        "df_off.rename(columns = {'행사번호' : '오프라인 참여횟수'}, inplace = True)\n",
        "df_on = df_on.groupby(['고유번호'], as_index = False).agg({'행사번호':'count'})\n",
        "df_on.rename(columns = {'행사번호' : '온라인 참여횟수'}, inplace = True)"
      ]
    },
    {
      "cell_type": "code",
      "execution_count": null,
      "id": "7b62fa69",
      "metadata": {
        "id": "7b62fa69"
      },
      "outputs": [],
      "source": [
        "user_fin = pd.merge(user_fin, df_off, on = '고유번호', how = 'left')\n",
        "user_fin['오프라인 참여횟수'] = user_fin['오프라인 참여횟수'].fillna(value=0)\n",
        "user_fin = pd.merge(user_fin, df_on, on = '고유번호', how = 'left')\n",
        "user_fin['온라인 참여횟수'] = user_fin['온라인 참여횟수'].fillna(value=0)\n"
      ]
    },
    {
      "cell_type": "code",
      "execution_count": null,
      "id": "c3cb9209",
      "metadata": {
        "id": "c3cb9209"
      },
      "outputs": [],
      "source": [
        "## 행사 별 참여횟수\n",
        "df_simpledc = df[df['c_행사구분'] == '단순할인']\n",
        "df_condc = df[df['c_행사구분'] == '조건할인']\n",
        "df_coupon = df[df['c_행사구분'] == '쿠폰']\n",
        "df_draw = df[df['c_행사구분'] == '경품']\n",
        "df_free = df[df['c_행사구분'] == '사은품']"
      ]
    },
    {
      "cell_type": "code",
      "execution_count": null,
      "id": "f952f93c",
      "metadata": {
        "id": "f952f93c"
      },
      "outputs": [],
      "source": [
        "df_simpledc = df_simpledc.groupby(['고유번호'], as_index = False).agg({'행사번호':'count'})\n",
        "df_simpledc.rename(columns = {'행사번호' : '단순할인프모 참여횟수'}, inplace = True)\n",
        "df_condc = df_condc.groupby(['고유번호'], as_index = False).agg({'행사번호':'count'})\n",
        "df_condc.rename(columns = {'행사번호' : '조건할인프모 참여횟수'}, inplace = True)\n",
        "df_coupon = df_coupon.groupby(['고유번호'], as_index = False).agg({'행사번호':'count'})\n",
        "df_coupon.rename(columns = {'행사번호' : '쿠폰프모 참여횟수'}, inplace = True)\n",
        "df_draw = df_draw.groupby(['고유번호'], as_index = False).agg({'행사번호':'count'})\n",
        "df_draw.rename(columns = {'행사번호' : '경품프모 참여횟수'}, inplace = True)\n",
        "df_free = df_free.groupby(['고유번호'], as_index = False).agg({'행사번호':'count'})\n",
        "df_free.rename(columns = {'행사번호' : '사은품프모 참여횟수'}, inplace = True)"
      ]
    },
    {
      "cell_type": "code",
      "execution_count": null,
      "id": "33c3a7e8",
      "metadata": {
        "id": "33c3a7e8"
      },
      "outputs": [],
      "source": [
        "user_fin = pd.merge(user_fin, df_simpledc, on = '고유번호', how = 'left')\n",
        "user_fin['단순할인프모 참여횟수'] = user_fin['단순할인프모 참여횟수'].fillna(value=0)\n",
        "user_fin = pd.merge(user_fin, df_condc, on = '고유번호', how = 'left')\n",
        "user_fin['조건할인프모 참여횟수'] = user_fin['조건할인프모 참여횟수'].fillna(value=0)\n",
        "user_fin = pd.merge(user_fin, df_coupon, on = '고유번호', how = 'left')\n",
        "user_fin['쿠폰프모 참여횟수'] = user_fin['쿠폰프모 참여횟수'].fillna(value=0)\n",
        "user_fin = pd.merge(user_fin, df_draw, on = '고유번호', how = 'left')\n",
        "user_fin['경품프모 참여횟수'] = user_fin['경품프모 참여횟수'].fillna(value=0)\n",
        "user_fin = pd.merge(user_fin, df_free, on = '고유번호', how = 'left')\n",
        "user_fin['사은품프모 참여횟수'] = user_fin['사은품프모 참여횟수'].fillna(value=0)"
      ]
    },
    {
      "cell_type": "code",
      "execution_count": null,
      "id": "ecbce5fe",
      "metadata": {
        "id": "ecbce5fe"
      },
      "outputs": [],
      "source": [
        "# 프로모션 기간에 가입 여부\n",
        "sign = pd.read_pickle(\"../TBWA/promo_signup.pkl\")"
      ]
    },
    {
      "cell_type": "code",
      "execution_count": null,
      "id": "2cad969e",
      "metadata": {
        "id": "2cad969e"
      },
      "outputs": [],
      "source": [
        "sign = sign.explode('프모기간가입')\n",
        "sign['프모기간가입'] = sign['프모기간가입'].fillna(value='행사x')\n",
        "sign['프모기간가입'] = np.where(sign['프모기간가입']== '행사x', 0 ,1)\n",
        "sign = sign.groupby('고유번호', as_index = False).agg({'프모기간가입' : 'mean'})\n",
        "#sign.to_pickle(\"../signup.pkl\")"
      ]
    },
    {
      "cell_type": "code",
      "execution_count": null,
      "id": "7efc6a86",
      "metadata": {
        "id": "7efc6a86"
      },
      "outputs": [],
      "source": [
        "user_fin = pd.merge(user_fin, sign, on = '고유번호', how = 'left')"
      ]
    },
    {
      "cell_type": "code",
      "execution_count": null,
      "id": "4b8db2fe",
      "metadata": {
        "id": "4b8db2fe"
      },
      "outputs": [],
      "source": [
        "user_fin[['고유번호', '오프라인 참여횟수', '온라인 참여횟수']].to_pickle(\"../TBWA/offon.pkl\")"
      ]
    },
    {
      "cell_type": "code",
      "execution_count": null,
      "id": "09f44761",
      "metadata": {
        "id": "09f44761"
      },
      "outputs": [],
      "source": [
        "# 쿠폰사용횟수, 포인트사용횟수\n",
        "point_list = []\n",
        "\n",
        "for i in range(len(order)) : \n",
        "    if order['쿠폰사용여부'][i] == 'O' :\n",
        "        point_list.append(1)\n",
        "    else : \n",
        "        point_list.append(0)\n",
        "\n",
        "order['c_쿠폰사용여부'] = point_list\n",
        "\n",
        "demo = order.groupby(\"고유번호\", as_index=False).agg({'c_쿠폰사용여부' : 'sum'})\n",
        "demo.rename(columns = {'c_쿠폰사용여부' : '쿠폰사용횟수'}, inplace = True)\n",
        "user_fin = pd.merge(user_fin, demo, on = '고유번호', how = 'left')\n",
        "user_fin['쿠폰사용횟수'] = user_fin['쿠폰사용횟수'].fillna(value=0)"
      ]
    },
    {
      "cell_type": "code",
      "execution_count": null,
      "id": "0df75300",
      "metadata": {
        "id": "0df75300"
      },
      "outputs": [],
      "source": [
        "point_list = []\n",
        "\n",
        "for i in range(len(order)) : \n",
        "    if order['포인트사용여부'][i] == 'O' :\n",
        "        point_list.append(1)\n",
        "    else : \n",
        "        point_list.append(0)\n",
        "\n",
        "order['c_포인트사용여부'] = point_list\n",
        "\n",
        "demo = order.groupby(\"고유번호\", as_index=False).agg({'c_포인트사용여부' : 'sum'})\n",
        "demo.rename(columns = {'c_포인트사용여부' : '포인트사용횟수'}, inplace = True)\n",
        "user_fin = pd.merge(user_fin, demo, on = '고유번호', how = 'left')\n",
        "user_fin['포인트사용횟수'] = user_fin['포인트사용횟수'].fillna(value=0)"
      ]
    },
    {
      "cell_type": "code",
      "execution_count": null,
      "id": "2e16e852",
      "metadata": {
        "id": "2e16e852"
      },
      "outputs": [],
      "source": [
        "user_fin.to_pickle(\"../TBWA/user_ym.pkl\")"
      ]
    },
    {
      "cell_type": "markdown",
      "id": "4bf03d25",
      "metadata": {
        "id": "4bf03d25"
      },
      "source": [
        "## 전체 테이블 구성"
      ]
    },
    {
      "cell_type": "markdown",
      "id": "a0b10f6a",
      "metadata": {
        "id": "a0b10f6a"
      },
      "source": [
        "- **[유저 코드]** : 고유번호\n",
        "- **[유저 정보]** : 연령대, 성별\n",
        "- **[가입, 로그인]** : 재가입횟수, pc로그인, 모바일로그인, 앱로그인, 신규가입\n",
        "- **[이벤트]** : 출첵응모 (전체적으로), 출첵참여(버튼건바이건), 일반이벤트응모, 드로우응모\n",
        "- **[적립]** : 리뷰작성, 포인트 사용액\n",
        "- **[구매량]** : 구매횟수, 채널별 구매횟수(pc,모바일,앱,오프), 구매상품수, 1회 구매당 상품수, 총결제가, 최고상품가\n",
        "- **[구매 패턴]** :구매주기, 하루 이용자, 비구매기간, o2o사용횟수, 카테고리1(신발, 의류, 용품), 카테고리2(키즈, 기타상품, ots, 스포츠, 레더케쥬얼, 레이디스슈즈, 비즈니스 슈즈), 사이즈, 브랜드, 스테디셀러, PB브랜드\n",
        "- **[프로모션]** : 프로모션 총참여횟수, 종류별 참여횟수(단순할인, 조건할인, 쿠폰, 경품, 사은품) "
      ]
    },
    {
      "cell_type": "markdown",
      "id": "31e0fd4f",
      "metadata": {
        "id": "31e0fd4f"
      },
      "source": [
        "# step 2. 도소매상 제외"
      ]
    },
    {
      "cell_type": "code",
      "execution_count": null,
      "id": "05462c69",
      "metadata": {
        "id": "05462c69",
        "outputId": "6ed4b3bf-d04f-44ee-e1a8-e6cb59302c5e"
      },
      "outputs": [
        {
          "data": {
            "text/plain": [
              "36.0"
            ]
          },
          "execution_count": 137,
          "metadata": {},
          "output_type": "execute_result"
        }
      ],
      "source": [
        "total['구매횟수'].quantile(0.999) #0.1"
      ]
    },
    {
      "cell_type": "code",
      "execution_count": null,
      "id": "a623636b",
      "metadata": {
        "id": "a623636b",
        "outputId": "f0ec65cc-a96a-4b7d-80a9-fc7de498e071"
      },
      "outputs": [
        {
          "data": {
            "text/plain": [
              "7.666666666666667"
            ]
          },
          "execution_count": 138,
          "metadata": {},
          "output_type": "execute_result"
        }
      ],
      "source": [
        "total['1회구매 당 상품수'].quantile(0.999)"
      ]
    },
    {
      "cell_type": "code",
      "execution_count": null,
      "id": "a86134b4",
      "metadata": {
        "id": "a86134b4",
        "outputId": "f0d9a648-2066-4ea8-ef92-cdda74d5b9ac"
      },
      "outputs": [
        {
          "data": {
            "text/plain": [
              "76700.0"
            ]
          },
          "execution_count": 68,
          "metadata": {},
          "output_type": "execute_result"
        }
      ],
      "source": [
        "total['c_년간포인트사용액(누적)'].quantile(0.999)"
      ]
    },
    {
      "cell_type": "code",
      "execution_count": null,
      "id": "6c562ec9",
      "metadata": {
        "id": "6c562ec9",
        "outputId": "8921a75e-8c12-4f4a-f5d5-2c66d45c372f"
      },
      "outputs": [
        {
          "data": {
            "text/plain": [
              "15.0"
            ]
          },
          "execution_count": 69,
          "metadata": {},
          "output_type": "execute_result"
        }
      ],
      "source": [
        "total['사이즈수_c'].quantile(0.999)"
      ]
    },
    {
      "cell_type": "code",
      "execution_count": null,
      "id": "eeffaff7",
      "metadata": {
        "id": "eeffaff7"
      },
      "outputs": [],
      "source": [
        "df = total[(total['구매횟수'] >= total['구매횟수'].quantile(0.999)) & (total['c_년간포인트사용액(누적)'] >= total['c_년간포인트사용액(누적)'].quantile(0.999))&\n",
        "        (total['사이즈수_c'] >= total['사이즈수_c'].quantile(0.999)) & \n",
        "        (total['1회구매 당 상품수'] >= total['1회구매 당 상품수'].quantile(0.999)) ]\n"
      ]
    },
    {
      "cell_type": "code",
      "execution_count": null,
      "id": "44a43dd8",
      "metadata": {
        "id": "44a43dd8",
        "outputId": "95668f14-c3b8-4e38-d55e-f4ee1883450e"
      },
      "outputs": [
        {
          "data": {
            "text/plain": [
              "79"
            ]
          },
          "execution_count": 140,
          "metadata": {},
          "output_type": "execute_result"
        }
      ],
      "source": [
        "len(df)"
      ]
    },
    {
      "cell_type": "code",
      "execution_count": null,
      "id": "9a4ae5f9",
      "metadata": {
        "id": "9a4ae5f9"
      },
      "outputs": [],
      "source": [
        "# 도소매상의 구매횟수가 전체 구매횟수에서 차지하는 비율\n",
        "df_list = df['고유번호'].unique()\n",
        "domes = []\n",
        "for i in range(len(total)) : \n",
        "    if total['고유번호'][i] in df_list :\n",
        "        domes.append('도소매상 o')\n",
        "    else :\n",
        "        domes.append('도소매상 x')\n",
        " \n",
        "total['domes'] = domes"
      ]
    },
    {
      "cell_type": "code",
      "execution_count": null,
      "id": "4eeff693",
      "metadata": {
        "id": "4eeff693"
      },
      "outputs": [],
      "source": [
        "one = total.groupby(['domes'], as_index =False).agg({'구매횟수' : 'sum'})\n",
        "fig = px.pie(one, values='구매횟수', names='domes', title='전체 구매횟수에서 차지하는 비율은 23%', color = 'domes') \n",
        "fig.update_traces(textposition='inside', textinfo='percent+label')\n",
        "fig.show()"
      ]
    },
    {
      "cell_type": "code",
      "execution_count": null,
      "id": "3b4114bd",
      "metadata": {
        "id": "3b4114bd"
      },
      "outputs": [],
      "source": [
        "df[['구매횟수','구매상품수', '1회방문 당 구매상품수','c_년간포인트사용액(누적)','사이즈수_c', '브랜드_c','리뷰작성건수']].describe()"
      ]
    },
    {
      "cell_type": "markdown",
      "id": "cc03808a",
      "metadata": {
        "id": "cc03808a"
      },
      "source": [
        "# step 2. 유저 구분 : 상위 2.5% / 신규가입 회원 분리"
      ]
    },
    {
      "cell_type": "markdown",
      "id": "7db4ddbe",
      "metadata": {
        "id": "7db4ddbe"
      },
      "source": [
        "### 1) 방문건수 상위 2.5% => 상위 충성고객"
      ]
    },
    {
      "cell_type": "code",
      "execution_count": null,
      "id": "ea94f207",
      "metadata": {
        "id": "ea94f207"
      },
      "outputs": [],
      "source": [
        "total['방문건수'].describe()"
      ]
    },
    {
      "cell_type": "code",
      "execution_count": null,
      "id": "3e7b9553",
      "metadata": {
        "id": "3e7b9553"
      },
      "outputs": [],
      "source": [
        "high_group = total[total['방문건수'] >= total['방문건수'].quantile(0.975)]"
      ]
    },
    {
      "cell_type": "code",
      "execution_count": null,
      "id": "9989e12e",
      "metadata": {
        "id": "9989e12e"
      },
      "outputs": [],
      "source": [
        "list = total[total['구매건수'] >= 14]['고유번호'].unique()\n",
        "index = total[total['고유번호'].isin(list)].index\n",
        "total = total.drop(index, inplace = False).reset_index(drop=True) "
      ]
    },
    {
      "cell_type": "code",
      "execution_count": null,
      "id": "f81d0557",
      "metadata": {
        "id": "f81d0557",
        "outputId": "8ac8fbcb-c7ec-4a48-d73f-877334790fc5"
      },
      "outputs": [
        {
          "data": {
            "text/plain": [
              "50325"
            ]
          },
          "execution_count": 151,
          "metadata": {},
          "output_type": "execute_result"
        }
      ],
      "source": [
        "len(high_group) "
      ]
    },
    {
      "cell_type": "code",
      "execution_count": null,
      "id": "2d5c7eb6",
      "metadata": {
        "id": "2d5c7eb6",
        "outputId": "0268cf14-d360-48ce-d088-b0c2367950e3"
      },
      "outputs": [
        {
          "data": {
            "text/plain": [
              "1858469"
            ]
          },
          "execution_count": 152,
          "metadata": {},
          "output_type": "execute_result"
        }
      ],
      "source": [
        "len(total) "
      ]
    },
    {
      "cell_type": "code",
      "execution_count": null,
      "id": "f448b898",
      "metadata": {
        "id": "f448b898"
      },
      "outputs": [],
      "source": [
        "high_group = high_group[['고유번호', '총 로그인횟수',  'c_년간포인트사용액(누적)', '방문건수',\n",
        "       'pc_방문건수', 'mobile_방문건수', 'app_방문건수', '오프_방문건수', '구매건수', '1회방문 당 구매건수',\n",
        "        '결제가', '사이즈수_c', '브랜드_c', '최고가상품값']]"
      ]
    },
    {
      "cell_type": "code",
      "execution_count": null,
      "id": "0eb37707",
      "metadata": {
        "id": "0eb37707"
      },
      "outputs": [],
      "source": [
        "high_cluster = high_group.drop(labels='고유번호',axis=1)"
      ]
    },
    {
      "cell_type": "markdown",
      "id": "b10ad830",
      "metadata": {
        "id": "b10ad830"
      },
      "source": [
        "### 2) 신규가입회원 분리"
      ]
    },
    {
      "cell_type": "code",
      "execution_count": null,
      "id": "788be4fb",
      "metadata": {
        "id": "788be4fb"
      },
      "outputs": [],
      "source": [
        "new_group = total[total.new_c == 1]"
      ]
    },
    {
      "cell_type": "code",
      "execution_count": null,
      "id": "13f77954",
      "metadata": {
        "id": "13f77954"
      },
      "outputs": [],
      "source": [
        "list = total[total.new_c == 1]['고유번호'].unique()\n",
        "index = total[total['고유번호'].isin(list)].index\n",
        "total = total.drop(index, inplace = False).reset_index(drop=True) \\"
      ]
    },
    {
      "cell_type": "code",
      "execution_count": null,
      "id": "17333655",
      "metadata": {
        "id": "17333655",
        "outputId": "82172b26-0d3d-465b-956d-b044464283f5"
      },
      "outputs": [
        {
          "data": {
            "text/plain": [
              "206368"
            ]
          },
          "execution_count": 117,
          "metadata": {},
          "output_type": "execute_result"
        }
      ],
      "source": [
        "len(new_group)  #20만명 제외"
      ]
    },
    {
      "cell_type": "code",
      "execution_count": null,
      "id": "16c9be91",
      "metadata": {
        "scrolled": true,
        "id": "16c9be91",
        "outputId": "656c8f70-2bb3-47b6-a7dc-db416d38db6b"
      },
      "outputs": [
        {
          "data": {
            "text/plain": [
              "1702426"
            ]
          },
          "execution_count": 118,
          "metadata": {},
          "output_type": "execute_result"
        }
      ],
      "source": [
        "len(total) #170만 남음"
      ]
    },
    {
      "cell_type": "markdown",
      "id": "4d97edbd",
      "metadata": {
        "id": "4d97edbd"
      },
      "source": [
        "# step 3. RFM Score 계산"
      ]
    },
    {
      "cell_type": "markdown",
      "id": "f7b64339",
      "metadata": {
        "id": "f7b64339"
      },
      "source": [
        "- R : 비구매기간 (2022.12.31 - 회원의 가장 최근 구매일자)\n",
        "- F : 구매주기\n",
        "- M : 구매금액"
      ]
    },
    {
      "cell_type": "code",
      "execution_count": null,
      "id": "6f556295",
      "metadata": {
        "id": "6f556295"
      },
      "outputs": [],
      "source": [
        "rfm = total[['고유번호','비구매기간', '구매주기', '결제가']]"
      ]
    },
    {
      "cell_type": "code",
      "execution_count": null,
      "id": "f68ce645",
      "metadata": {
        "id": "f68ce645",
        "outputId": "4e5beb94-8d7d-4f4b-f4b3-4327c46e535b"
      },
      "outputs": [
        {
          "data": {
            "image/png": "[encoded data removed]",
            "text/plain": [
              "<Figure size 640x480 with 1 Axes>"
            ]
          },
          "metadata": {},
          "output_type": "display_data"
        }
      ],
      "source": [
        "#recency\n",
        "rfm.비구매기간.plot.hist()\n",
        "plt.show()"
      ]
    },
    {
      "cell_type": "code",
      "execution_count": null,
      "id": "da5a6a77",
      "metadata": {
        "id": "da5a6a77",
        "outputId": "a1b26882-0adf-457c-e3b9-4e750cdb95ce"
      },
      "outputs": [
        {
          "data": {
            "image/png": "[encoded data removed]",
            "text/plain": [
              "<Figure size 640x480 with 1 Axes>"
            ]
          },
          "metadata": {},
          "output_type": "display_data"
        }
      ],
      "source": [
        "# frequency\n",
        "rfm.구매주기.plot.hist()\n",
        "plt.show()"
      ]
    },
    {
      "cell_type": "code",
      "execution_count": null,
      "id": "97f16d75",
      "metadata": {
        "id": "97f16d75",
        "outputId": "e2a553b8-0578-49f8-ad82-fc880d064d08"
      },
      "outputs": [
        {
          "data": {
            "image/png": "[encoded data removed]",
            "text/plain": [
              "<Figure size 640x480 with 1 Axes>"
            ]
          },
          "metadata": {},
          "output_type": "display_data"
        }
      ],
      "source": [
        "#monetary\n",
        "rfm.결제가.apply(lambda x : np.log1p(x)).plot.hist(bins=100) # 종모양 분포로 바꿈.\n",
        "plt.show() "
      ]
    },
    {
      "cell_type": "code",
      "execution_count": null,
      "id": "0b5194e5",
      "metadata": {
        "id": "0b5194e5"
      },
      "outputs": [],
      "source": [
        "rfm.columns = ['고유번호','recency', 'frequency', 'monetary']"
      ]
    },
    {
      "cell_type": "code",
      "execution_count": null,
      "id": "25903a93",
      "metadata": {
        "id": "25903a93",
        "outputId": "e0b1256c-89c8-4fd0-92ed-4bdd3ed46c5d"
      },
      "outputs": [
        {
          "data": {
            "text/plain": [
              "0.142857      0.0\n",
              "0.285714      0.0\n",
              "0.428571     91.0\n",
              "0.571429    165.0\n",
              "0.714286    265.0\n",
              "0.857143    486.0\n",
              "Name: recency, dtype: float64"
            ]
          },
          "execution_count": 23,
          "metadata": {},
          "output_type": "execute_result"
        }
      ],
      "source": [
        "# recency 비활동기간\n",
        "rfm.recency.quantile([1/7, 2/7,3/7,4/7,5/7,6/7])"
      ]
    },
    {
      "cell_type": "code",
      "execution_count": null,
      "id": "d6db6b24",
      "metadata": {
        "id": "d6db6b24",
        "outputId": "86976eae-be29-4439-e27d-cf709b4a2b4b"
      },
      "outputs": [
        {
          "name": "stderr",
          "output_type": "stream",
          "text": [
            "/var/folders/fz/r9bgvykj2s5_nr_ytqg957zr0000gp/T/ipykernel_41983/1822634263.py:15: SettingWithCopyWarning:\n",
            "\n",
            "\n",
            "A value is trying to be set on a copy of a slice from a DataFrame.\n",
            "Try using .loc[row_indexer,col_indexer] = value instead\n",
            "\n",
            "See the caveats in the documentation: https://pandas.pydata.org/pandas-docs/stable/user_guide/indexing.html#returning-a-view-versus-a-copy\n",
            "\n"
          ]
        }
      ],
      "source": [
        "def recency(x) :\n",
        "    if x > 486 :\n",
        "        return 1\n",
        "    elif x > 265 :\n",
        "        return 2\n",
        "    elif x > 165 :\n",
        "        return 3\n",
        "    elif x > 91 :\n",
        "        return 4\n",
        "    elif x == 0 :\n",
        "        return 1\n",
        "    else : \n",
        "        return 5\n",
        "\n",
        "rfm['R'] = rfm['recency'].apply(recency) # 비활동기간 작을수록 큼, 비구매기간이 0이면 구매x = 1부여"
      ]
    },
    {
      "cell_type": "code",
      "execution_count": null,
      "id": "3383baf3",
      "metadata": {
        "id": "3383baf3",
        "outputId": "ab51ce0b-5829-4527-848e-05d50d24a0b3"
      },
      "outputs": [
        {
          "data": {
            "text/plain": [
              "0.090909      0.000000\n",
              "0.181818      0.000000\n",
              "0.272727      0.000000\n",
              "0.363636      0.000000\n",
              "0.454545      0.000000\n",
              "0.545455      0.000000\n",
              "0.636364      3.000000\n",
              "0.727273     75.545455\n",
              "0.818182    145.666667\n",
              "0.909091    280.000000\n",
              "Name: frequency, dtype: float64"
            ]
          },
          "execution_count": 25,
          "metadata": {},
          "output_type": "execute_result"
        }
      ],
      "source": [
        "# frequency 구매주기\n",
        "rfm.frequency.quantile([1/11, 2/11,3/11,4/11,5/11,6/11,7/11,8/11,9/11,10/11])"
      ]
    },
    {
      "cell_type": "code",
      "execution_count": null,
      "id": "c93ee2c1",
      "metadata": {
        "id": "c93ee2c1",
        "outputId": "b9e2555d-1b91-43d7-b581-57f8c005fb69"
      },
      "outputs": [
        {
          "name": "stderr",
          "output_type": "stream",
          "text": [
            "/var/folders/fz/r9bgvykj2s5_nr_ytqg957zr0000gp/T/ipykernel_41983/2952490578.py:15: SettingWithCopyWarning:\n",
            "\n",
            "\n",
            "A value is trying to be set on a copy of a slice from a DataFrame.\n",
            "Try using .loc[row_indexer,col_indexer] = value instead\n",
            "\n",
            "See the caveats in the documentation: https://pandas.pydata.org/pandas-docs/stable/user_guide/indexing.html#returning-a-view-versus-a-copy\n",
            "\n"
          ]
        }
      ],
      "source": [
        "def frequency(x) :\n",
        "    if x > 280 :\n",
        "        return 1\n",
        "    elif x > 145 :\n",
        "        return 2\n",
        "    elif x > 75 :\n",
        "        return 3\n",
        "    elif x > 3 :\n",
        "        return 4\n",
        "    elif x == 0 :\n",
        "        return 1\n",
        "    else : \n",
        "        return 5\n",
        "\n",
        "rfm['F'] = rfm['frequency'].apply(frequency) # 구매주기 작을수록 점수 큼, 구매주기가 0이면 1부여"
      ]
    },
    {
      "cell_type": "code",
      "execution_count": null,
      "id": "7a560e85",
      "metadata": {
        "id": "7a560e85",
        "outputId": "2c2dabf0-a5e9-403e-8d9d-c7a9826065dd"
      },
      "outputs": [
        {
          "data": {
            "text/plain": [
              "0.142857         0.0\n",
              "0.285714         0.0\n",
              "0.428571     59000.0\n",
              "0.571429     98000.0\n",
              "0.714286    154000.0\n",
              "0.857143    267600.0\n",
              "Name: monetary, dtype: float64"
            ]
          },
          "execution_count": 27,
          "metadata": {},
          "output_type": "execute_result"
        }
      ],
      "source": [
        "# monetary\n",
        "rfm.monetary.quantile([1/7, 2/7,3/7,4/7,5/7,6/7])"
      ]
    },
    {
      "cell_type": "code",
      "execution_count": null,
      "id": "18bc1edb",
      "metadata": {
        "id": "18bc1edb",
        "outputId": "c7dbdeaa-dc23-4193-e12d-bd1fc2b30409"
      },
      "outputs": [
        {
          "name": "stderr",
          "output_type": "stream",
          "text": [
            "/var/folders/fz/r9bgvykj2s5_nr_ytqg957zr0000gp/T/ipykernel_41983/2840109552.py:13: SettingWithCopyWarning:\n",
            "\n",
            "\n",
            "A value is trying to be set on a copy of a slice from a DataFrame.\n",
            "Try using .loc[row_indexer,col_indexer] = value instead\n",
            "\n",
            "See the caveats in the documentation: https://pandas.pydata.org/pandas-docs/stable/user_guide/indexing.html#returning-a-view-versus-a-copy\n",
            "\n"
          ]
        }
      ],
      "source": [
        "def monetary(x) :\n",
        "    if x > 267600 :\n",
        "        return 5\n",
        "    elif x > 154000 :\n",
        "        return 4\n",
        "    elif x > 98000 :\n",
        "        return 3\n",
        "    elif x > 59000 :\n",
        "        return 2\n",
        "    else : \n",
        "        return 1\n",
        "\n",
        "rfm['M'] = rfm['monetary'].apply(monetary) # 구매금액 많을수록 큼"
      ]
    },
    {
      "cell_type": "code",
      "execution_count": null,
      "id": "c3792e1a",
      "metadata": {
        "id": "c3792e1a",
        "outputId": "aa39e571-1c1e-4449-a45c-54a075c1b02a"
      },
      "outputs": [
        {
          "data": {
            "text/html": [
              "<div>\n",
              "<style scoped>\n",
              "    .dataframe tbody tr th:only-of-type {\n",
              "        vertical-align: middle;\n",
              "    }\n",
              "\n",
              "    .dataframe tbody tr th {\n",
              "        vertical-align: top;\n",
              "    }\n",
              "\n",
              "    .dataframe thead th {\n",
              "        text-align: right;\n",
              "    }\n",
              "</style>\n",
              "<table border=\"1\" class=\"dataframe\">\n",
              "  <thead>\n",
              "    <tr style=\"text-align: right;\">\n",
              "      <th></th>\n",
              "      <th>고유번호</th>\n",
              "      <th>recency</th>\n",
              "      <th>frequency</th>\n",
              "      <th>monetary</th>\n",
              "      <th>R</th>\n",
              "      <th>F</th>\n",
              "      <th>M</th>\n",
              "    </tr>\n",
              "  </thead>\n",
              "  <tbody>\n",
              "    <tr>\n",
              "      <th>0</th>\n",
              "      <td>48066EF2E782C577A25A7A0C38CFCAECE33A2420BFB8EC...</td>\n",
              "      <td>0.0</td>\n",
              "      <td>0.00</td>\n",
              "      <td>0.0</td>\n",
              "      <td>1</td>\n",
              "      <td>1</td>\n",
              "      <td>1</td>\n",
              "    </tr>\n",
              "    <tr>\n",
              "      <th>1</th>\n",
              "      <td>4ED3B18A3DB2CE13DE559397E59FAF3701B9A49685EB28...</td>\n",
              "      <td>0.0</td>\n",
              "      <td>0.00</td>\n",
              "      <td>0.0</td>\n",
              "      <td>1</td>\n",
              "      <td>1</td>\n",
              "      <td>1</td>\n",
              "    </tr>\n",
              "    <tr>\n",
              "      <th>2</th>\n",
              "      <td>47EB4685B42EF7BD6B60DCBAF4611FC729D1FA3189D149...</td>\n",
              "      <td>0.0</td>\n",
              "      <td>0.00</td>\n",
              "      <td>0.0</td>\n",
              "      <td>1</td>\n",
              "      <td>1</td>\n",
              "      <td>1</td>\n",
              "    </tr>\n",
              "    <tr>\n",
              "      <th>3</th>\n",
              "      <td>ACF7ECFA0C20E47E546A0A17A1F992635DBF9BD10BD386...</td>\n",
              "      <td>0.0</td>\n",
              "      <td>0.00</td>\n",
              "      <td>0.0</td>\n",
              "      <td>1</td>\n",
              "      <td>1</td>\n",
              "      <td>1</td>\n",
              "    </tr>\n",
              "    <tr>\n",
              "      <th>4</th>\n",
              "      <td>A8DE55F062184E7417A56C11409EC72D8D8D5F72D62016...</td>\n",
              "      <td>139.0</td>\n",
              "      <td>0.00</td>\n",
              "      <td>19000.0</td>\n",
              "      <td>4</td>\n",
              "      <td>1</td>\n",
              "      <td>1</td>\n",
              "    </tr>\n",
              "    <tr>\n",
              "      <th>...</th>\n",
              "      <td>...</td>\n",
              "      <td>...</td>\n",
              "      <td>...</td>\n",
              "      <td>...</td>\n",
              "      <td>...</td>\n",
              "      <td>...</td>\n",
              "      <td>...</td>\n",
              "    </tr>\n",
              "    <tr>\n",
              "      <th>1659066</th>\n",
              "      <td>01D3C985A617B26D486CF4118231271B2C8B2BE3D6EB47...</td>\n",
              "      <td>104.0</td>\n",
              "      <td>0.00</td>\n",
              "      <td>29000.0</td>\n",
              "      <td>4</td>\n",
              "      <td>1</td>\n",
              "      <td>1</td>\n",
              "    </tr>\n",
              "    <tr>\n",
              "      <th>1659067</th>\n",
              "      <td>A06854C47821CD827A04FA7A35A5CCF4B78C5395C9FE95...</td>\n",
              "      <td>104.0</td>\n",
              "      <td>168.40</td>\n",
              "      <td>271200.0</td>\n",
              "      <td>4</td>\n",
              "      <td>2</td>\n",
              "      <td>5</td>\n",
              "    </tr>\n",
              "    <tr>\n",
              "      <th>1659068</th>\n",
              "      <td>037FFA290571A7D2C673240F51FB5C0B6CAB678CD24CB4...</td>\n",
              "      <td>0.0</td>\n",
              "      <td>0.00</td>\n",
              "      <td>0.0</td>\n",
              "      <td>1</td>\n",
              "      <td>1</td>\n",
              "      <td>1</td>\n",
              "    </tr>\n",
              "    <tr>\n",
              "      <th>1659069</th>\n",
              "      <td>A1F7001C515A5EE424CAD2E96AC61D8E5033D272EB9223...</td>\n",
              "      <td>490.0</td>\n",
              "      <td>224.75</td>\n",
              "      <td>219000.0</td>\n",
              "      <td>1</td>\n",
              "      <td>2</td>\n",
              "      <td>4</td>\n",
              "    </tr>\n",
              "    <tr>\n",
              "      <th>1659070</th>\n",
              "      <td>48BDB945E8C6164F560C662E7044B534AFF4CA1594FCEC...</td>\n",
              "      <td>0.0</td>\n",
              "      <td>0.00</td>\n",
              "      <td>0.0</td>\n",
              "      <td>1</td>\n",
              "      <td>1</td>\n",
              "      <td>1</td>\n",
              "    </tr>\n",
              "  </tbody>\n",
              "</table>\n",
              "<p>1659071 rows × 7 columns</p>\n",
              "</div>"
            ],
            "text/plain": [
              "                                                      고유번호  recency  \\\n",
              "0        48066EF2E782C577A25A7A0C38CFCAECE33A2420BFB8EC...      0.0   \n",
              "1        4ED3B18A3DB2CE13DE559397E59FAF3701B9A49685EB28...      0.0   \n",
              "2        47EB4685B42EF7BD6B60DCBAF4611FC729D1FA3189D149...      0.0   \n",
              "3        ACF7ECFA0C20E47E546A0A17A1F992635DBF9BD10BD386...      0.0   \n",
              "4        A8DE55F062184E7417A56C11409EC72D8D8D5F72D62016...    139.0   \n",
              "...                                                    ...      ...   \n",
              "1659066  01D3C985A617B26D486CF4118231271B2C8B2BE3D6EB47...    104.0   \n",
              "1659067  A06854C47821CD827A04FA7A35A5CCF4B78C5395C9FE95...    104.0   \n",
              "1659068  037FFA290571A7D2C673240F51FB5C0B6CAB678CD24CB4...      0.0   \n",
              "1659069  A1F7001C515A5EE424CAD2E96AC61D8E5033D272EB9223...    490.0   \n",
              "1659070  48BDB945E8C6164F560C662E7044B534AFF4CA1594FCEC...      0.0   \n",
              "\n",
              "         frequency  monetary  R  F  M  \n",
              "0             0.00       0.0  1  1  1  \n",
              "1             0.00       0.0  1  1  1  \n",
              "2             0.00       0.0  1  1  1  \n",
              "3             0.00       0.0  1  1  1  \n",
              "4             0.00   19000.0  4  1  1  \n",
              "...            ...       ... .. .. ..  \n",
              "1659066       0.00   29000.0  4  1  1  \n",
              "1659067     168.40  271200.0  4  2  5  \n",
              "1659068       0.00       0.0  1  1  1  \n",
              "1659069     224.75  219000.0  1  2  4  \n",
              "1659070       0.00       0.0  1  1  1  \n",
              "\n",
              "[1659071 rows x 7 columns]"
            ]
          },
          "execution_count": 29,
          "metadata": {},
          "output_type": "execute_result"
        }
      ],
      "source": [
        "rfm"
      ]
    },
    {
      "cell_type": "code",
      "execution_count": null,
      "id": "2dd80fdc",
      "metadata": {
        "id": "2dd80fdc",
        "outputId": "f8cd0c0f-de46-491e-e836-64027770a31e"
      },
      "outputs": [
        {
          "name": "stderr",
          "output_type": "stream",
          "text": [
            "/var/folders/fz/r9bgvykj2s5_nr_ytqg957zr0000gp/T/ipykernel_41983/774422759.py:5: SettingWithCopyWarning:\n",
            "\n",
            "\n",
            "A value is trying to be set on a copy of a slice from a DataFrame.\n",
            "Try using .loc[row_indexer,col_indexer] = value instead\n",
            "\n",
            "See the caveats in the documentation: https://pandas.pydata.org/pandas-docs/stable/user_guide/indexing.html#returning-a-view-versus-a-copy\n",
            "\n"
          ]
        },
        {
          "data": {
            "text/html": [
              "<div>\n",
              "<style scoped>\n",
              "    .dataframe tbody tr th:only-of-type {\n",
              "        vertical-align: middle;\n",
              "    }\n",
              "\n",
              "    .dataframe tbody tr th {\n",
              "        vertical-align: top;\n",
              "    }\n",
              "\n",
              "    .dataframe thead th {\n",
              "        text-align: right;\n",
              "    }\n",
              "</style>\n",
              "<table border=\"1\" class=\"dataframe\">\n",
              "  <thead>\n",
              "    <tr style=\"text-align: right;\">\n",
              "      <th></th>\n",
              "      <th>고유번호</th>\n",
              "      <th>recency</th>\n",
              "      <th>frequency</th>\n",
              "      <th>monetary</th>\n",
              "      <th>R</th>\n",
              "      <th>F</th>\n",
              "      <th>M</th>\n",
              "      <th>RFMscore</th>\n",
              "    </tr>\n",
              "  </thead>\n",
              "  <tbody>\n",
              "    <tr>\n",
              "      <th>0</th>\n",
              "      <td>48066EF2E782C577A25A7A0C38CFCAECE33A2420BFB8EC...</td>\n",
              "      <td>0.0</td>\n",
              "      <td>0.00</td>\n",
              "      <td>0.0</td>\n",
              "      <td>1</td>\n",
              "      <td>1</td>\n",
              "      <td>1</td>\n",
              "      <td>10</td>\n",
              "    </tr>\n",
              "    <tr>\n",
              "      <th>1</th>\n",
              "      <td>4ED3B18A3DB2CE13DE559397E59FAF3701B9A49685EB28...</td>\n",
              "      <td>0.0</td>\n",
              "      <td>0.00</td>\n",
              "      <td>0.0</td>\n",
              "      <td>1</td>\n",
              "      <td>1</td>\n",
              "      <td>1</td>\n",
              "      <td>10</td>\n",
              "    </tr>\n",
              "    <tr>\n",
              "      <th>2</th>\n",
              "      <td>47EB4685B42EF7BD6B60DCBAF4611FC729D1FA3189D149...</td>\n",
              "      <td>0.0</td>\n",
              "      <td>0.00</td>\n",
              "      <td>0.0</td>\n",
              "      <td>1</td>\n",
              "      <td>1</td>\n",
              "      <td>1</td>\n",
              "      <td>10</td>\n",
              "    </tr>\n",
              "    <tr>\n",
              "      <th>3</th>\n",
              "      <td>ACF7ECFA0C20E47E546A0A17A1F992635DBF9BD10BD386...</td>\n",
              "      <td>0.0</td>\n",
              "      <td>0.00</td>\n",
              "      <td>0.0</td>\n",
              "      <td>1</td>\n",
              "      <td>1</td>\n",
              "      <td>1</td>\n",
              "      <td>10</td>\n",
              "    </tr>\n",
              "    <tr>\n",
              "      <th>4</th>\n",
              "      <td>A8DE55F062184E7417A56C11409EC72D8D8D5F72D62016...</td>\n",
              "      <td>139.0</td>\n",
              "      <td>0.00</td>\n",
              "      <td>19000.0</td>\n",
              "      <td>4</td>\n",
              "      <td>1</td>\n",
              "      <td>1</td>\n",
              "      <td>16</td>\n",
              "    </tr>\n",
              "    <tr>\n",
              "      <th>...</th>\n",
              "      <td>...</td>\n",
              "      <td>...</td>\n",
              "      <td>...</td>\n",
              "      <td>...</td>\n",
              "      <td>...</td>\n",
              "      <td>...</td>\n",
              "      <td>...</td>\n",
              "      <td>...</td>\n",
              "    </tr>\n",
              "    <tr>\n",
              "      <th>1659066</th>\n",
              "      <td>01D3C985A617B26D486CF4118231271B2C8B2BE3D6EB47...</td>\n",
              "      <td>104.0</td>\n",
              "      <td>0.00</td>\n",
              "      <td>29000.0</td>\n",
              "      <td>4</td>\n",
              "      <td>1</td>\n",
              "      <td>1</td>\n",
              "      <td>16</td>\n",
              "    </tr>\n",
              "    <tr>\n",
              "      <th>1659067</th>\n",
              "      <td>A06854C47821CD827A04FA7A35A5CCF4B78C5395C9FE95...</td>\n",
              "      <td>104.0</td>\n",
              "      <td>168.40</td>\n",
              "      <td>271200.0</td>\n",
              "      <td>4</td>\n",
              "      <td>2</td>\n",
              "      <td>5</td>\n",
              "      <td>36</td>\n",
              "    </tr>\n",
              "    <tr>\n",
              "      <th>1659068</th>\n",
              "      <td>037FFA290571A7D2C673240F51FB5C0B6CAB678CD24CB4...</td>\n",
              "      <td>0.0</td>\n",
              "      <td>0.00</td>\n",
              "      <td>0.0</td>\n",
              "      <td>1</td>\n",
              "      <td>1</td>\n",
              "      <td>1</td>\n",
              "      <td>10</td>\n",
              "    </tr>\n",
              "    <tr>\n",
              "      <th>1659069</th>\n",
              "      <td>A1F7001C515A5EE424CAD2E96AC61D8E5033D272EB9223...</td>\n",
              "      <td>490.0</td>\n",
              "      <td>224.75</td>\n",
              "      <td>219000.0</td>\n",
              "      <td>1</td>\n",
              "      <td>2</td>\n",
              "      <td>4</td>\n",
              "      <td>26</td>\n",
              "    </tr>\n",
              "    <tr>\n",
              "      <th>1659070</th>\n",
              "      <td>48BDB945E8C6164F560C662E7044B534AFF4CA1594FCEC...</td>\n",
              "      <td>0.0</td>\n",
              "      <td>0.00</td>\n",
              "      <td>0.0</td>\n",
              "      <td>1</td>\n",
              "      <td>1</td>\n",
              "      <td>1</td>\n",
              "      <td>10</td>\n",
              "    </tr>\n",
              "  </tbody>\n",
              "</table>\n",
              "<p>1659071 rows × 8 columns</p>\n",
              "</div>"
            ],
            "text/plain": [
              "                                                      고유번호  recency  \\\n",
              "0        48066EF2E782C577A25A7A0C38CFCAECE33A2420BFB8EC...      0.0   \n",
              "1        4ED3B18A3DB2CE13DE559397E59FAF3701B9A49685EB28...      0.0   \n",
              "2        47EB4685B42EF7BD6B60DCBAF4611FC729D1FA3189D149...      0.0   \n",
              "3        ACF7ECFA0C20E47E546A0A17A1F992635DBF9BD10BD386...      0.0   \n",
              "4        A8DE55F062184E7417A56C11409EC72D8D8D5F72D62016...    139.0   \n",
              "...                                                    ...      ...   \n",
              "1659066  01D3C985A617B26D486CF4118231271B2C8B2BE3D6EB47...    104.0   \n",
              "1659067  A06854C47821CD827A04FA7A35A5CCF4B78C5395C9FE95...    104.0   \n",
              "1659068  037FFA290571A7D2C673240F51FB5C0B6CAB678CD24CB4...      0.0   \n",
              "1659069  A1F7001C515A5EE424CAD2E96AC61D8E5033D272EB9223...    490.0   \n",
              "1659070  48BDB945E8C6164F560C662E7044B534AFF4CA1594FCEC...      0.0   \n",
              "\n",
              "         frequency  monetary  R  F  M  RFMscore  \n",
              "0             0.00       0.0  1  1  1        10  \n",
              "1             0.00       0.0  1  1  1        10  \n",
              "2             0.00       0.0  1  1  1        10  \n",
              "3             0.00       0.0  1  1  1        10  \n",
              "4             0.00   19000.0  4  1  1        16  \n",
              "...            ...       ... .. .. ..       ...  \n",
              "1659066       0.00   29000.0  4  1  1        16  \n",
              "1659067     168.40  271200.0  4  2  5        36  \n",
              "1659068       0.00       0.0  1  1  1        10  \n",
              "1659069     224.75  219000.0  1  2  4        26  \n",
              "1659070       0.00       0.0  1  1  1        10  \n",
              "\n",
              "[1659071 rows x 8 columns]"
            ]
          },
          "execution_count": 30,
          "metadata": {},
          "output_type": "execute_result"
        }
      ],
      "source": [
        "# RFM 점수 부여 -> rfm점수 클수록 좋음\n",
        "#weights = [4, 2, 4] # 가중치\n",
        "#rfm['RFMscore'] = weights[0] * rfm['R'] + weights[1] * rfm['F'] + weights[2] * rfm['M']\n",
        "\n",
        "rfm['RFMscore'] = 2*rfm['R'] + 4*rfm['F'] + 4*rfm['M']\n",
        "rfm "
      ]
    },
    {
      "cell_type": "code",
      "execution_count": null,
      "id": "cfb7bc2c",
      "metadata": {
        "id": "cfb7bc2c",
        "outputId": "5ca95757-0b90-4a2c-f807-047940da3ed6"
      },
      "outputs": [
        {
          "data": {
            "text/plain": [
              "0.25    10.0\n",
              "0.50    18.0\n",
              "0.75    30.0\n",
              "Name: RFMscore, dtype: float64"
            ]
          },
          "execution_count": 31,
          "metadata": {},
          "output_type": "execute_result"
        }
      ],
      "source": [
        "# monetary\n",
        "rfm.RFMscore.quantile([1/4, 2/4,3/4])"
      ]
    },
    {
      "cell_type": "code",
      "execution_count": null,
      "id": "58d48509",
      "metadata": {
        "id": "58d48509",
        "outputId": "5b7916d4-2d9f-4551-ebb4-126e8b5c37af"
      },
      "outputs": [
        {
          "name": "stderr",
          "output_type": "stream",
          "text": [
            "/var/folders/fz/r9bgvykj2s5_nr_ytqg957zr0000gp/T/ipykernel_41983/922258784.py:11: SettingWithCopyWarning:\n",
            "\n",
            "\n",
            "A value is trying to be set on a copy of a slice from a DataFrame.\n",
            "Try using .loc[row_indexer,col_indexer] = value instead\n",
            "\n",
            "See the caveats in the documentation: https://pandas.pydata.org/pandas-docs/stable/user_guide/indexing.html#returning-a-view-versus-a-copy\n",
            "\n"
          ]
        }
      ],
      "source": [
        "def score(x) :\n",
        "    if x > 30 :\n",
        "        return 1\n",
        "    elif x > 18 :\n",
        "        return 2\n",
        "    elif x > 10 :\n",
        "        return 3\n",
        "    else : \n",
        "        return 4\n",
        "\n",
        "rfm['rfm_class'] = rfm['RFMscore'].apply(score) # 구매금액 많을수록 큼"
      ]
    },
    {
      "cell_type": "code",
      "execution_count": null,
      "id": "34b37a22",
      "metadata": {
        "id": "34b37a22"
      },
      "outputs": [],
      "source": [
        "#rfm['rfm_class'] = pd.qcut(rfm['RFMscore'], q=3, labels=range(3,0,-1)).astype(int) \n",
        "#rfm['rfm_class'] = rfm['rfm_class']"
      ]
    },
    {
      "cell_type": "code",
      "execution_count": null,
      "id": "0d24734d",
      "metadata": {
        "id": "0d24734d",
        "outputId": "844f3ff0-8799-4bd6-e44c-face18913e74"
      },
      "outputs": [
        {
          "data": {
            "text/plain": [
              "4    546008\n",
              "2    405941\n",
              "1    364496\n",
              "3    342626\n",
              "Name: rfm_class, dtype: int64"
            ]
          },
          "execution_count": 34,
          "metadata": {},
          "output_type": "execute_result"
        }
      ],
      "source": [
        "rfm['rfm_class'].value_counts()"
      ]
    },
    {
      "cell_type": "code",
      "execution_count": null,
      "id": "7801b0de",
      "metadata": {
        "id": "7801b0de"
      },
      "outputs": [],
      "source": [
        "rfm2 = rfm[['고유번호', 'rfm_class']]"
      ]
    },
    {
      "cell_type": "code",
      "execution_count": null,
      "id": "de5eadc8",
      "metadata": {
        "id": "de5eadc8"
      },
      "outputs": [],
      "source": [
        "total = pd.merge(total, rfm2, on= '고유번호', how='inner')"
      ]
    },
    {
      "cell_type": "code",
      "execution_count": null,
      "id": "0ef8835f",
      "metadata": {
        "id": "0ef8835f"
      },
      "outputs": [],
      "source": [
        "df = total[['고유번호', '구매건수', '구매주기', '비구매기간','방문건수', '1회방문 당 구매건수','rfm_class']]"
      ]
    },
    {
      "cell_type": "code",
      "execution_count": null,
      "id": "457dc9e5",
      "metadata": {
        "id": "457dc9e5"
      },
      "outputs": [],
      "source": [
        "#total.to_pickle(\"../TBWA/rfncluster.pkl\")"
      ]
    },
    {
      "cell_type": "code",
      "execution_count": null,
      "id": "9980a16b",
      "metadata": {
        "id": "9980a16b"
      },
      "outputs": [],
      "source": [
        "for i in df.columns[1:6]:\n",
        "    pic = df.groupby(['rfm_class'], as_index=False).mean()\n",
        "    fig = px.bar(pic, x = 'rfm_class', y = i, color = 'rfm_class', title = i, text_auto='.3s')\n",
        "    fig.update_layout(xaxis_title= 'rfm등급',\n",
        "                  yaxis_title='평균 값')\n",
        "    fig.show()"
      ]
    },
    {
      "cell_type": "markdown",
      "id": "68ee06c2",
      "metadata": {
        "id": "68ee06c2"
      },
      "source": [
        "- class4 : 구매건수 거의 0에 수렴, 따라서 구매주기도 없고, 비교적 최근에 구매 = 0회 구매 고객\n",
        "- class3 : 구매건수 1에 수렴, 구매주기 짧음, 비구매기간 김 = 일회성 구매 후 이탈 고객\n",
        "- class2 : 구매건수 평균 2~3, 구매주기 긴 것으로 보아서 뜨문뜨문 구매하는 고객 = 뜨문뜨문 구매 고객\n",
        "- class1 : 구매건수 많고 비교적 자주 방문 = 방문 잘하는 고객"
      ]
    }
  ],
  "metadata": {
    "kernelspec": {
      "display_name": "Python 3 (ipykernel)",
      "language": "python",
      "name": "python3"
    },
    "language_info": {
      "codemirror_mode": {
        "name": "ipython",
        "version": 3
      },
      "file_extension": ".py",
      "mimetype": "text/x-python",
      "name": "python",
      "nbconvert_exporter": "python",
      "pygments_lexer": "ipython3",
      "version": "3.9.13"
    },
    "colab": {
      "provenance": []
    }
  },
  "nbformat": 4,
  "nbformat_minor": 5
}